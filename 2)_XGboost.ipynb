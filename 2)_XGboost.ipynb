{
  "nbformat": 4,
  "nbformat_minor": 0,
  "metadata": {
    "anaconda-cloud": {},
    "colab": {
      "name": "2) XGboost.ipynb",
      "provenance": [],
      "collapsed_sections": [],
      "include_colab_link": true
    },
    "kernelspec": {
      "display_name": "Python 3",
      "language": "python",
      "name": "python3"
    },
    "language_info": {
      "codemirror_mode": {
        "name": "ipython",
        "version": 3
      },
      "file_extension": ".py",
      "mimetype": "text/x-python",
      "name": "python",
      "nbconvert_exporter": "python",
      "pygments_lexer": "ipython3",
      "version": "3.7.6"
    }
  },
  "cells": [
    {
      "cell_type": "markdown",
      "metadata": {
        "id": "view-in-github",
        "colab_type": "text"
      },
      "source": [
        "<a href=\"https://colab.research.google.com/github/GiselaCS/Mujeres_Digitales/blob/main/2)_XGboost.ipynb\" target=\"_parent\"><img src=\"https://colab.research.google.com/assets/colab-badge.svg\" alt=\"Open In Colab\"/></a>"
      ]
    },
    {
      "cell_type": "markdown",
      "metadata": {
        "id": "han4Qz_vK5Lr"
      },
      "source": [
        "# Extreme Gradient Boosting con XGBoost\n",
        "\n",
        "[Mayor informacion](https://xgboost.readthedocs.io/en/latest/)\n",
        "\n",
        "\n",
        "XGBoost o eXtreme Gradient Boosting pertenece a la familia de árboles impulsados y sigue los mismos principios de gradient boosting machine (GBM). Las diferencias clave incluyen:\n",
        "\n",
        "- Regularizar para prevenir el overfit, dando resultados preciso.\n",
        "- Una matrix sparse, la cual es mucho mas eficiente para aumentar velocidad de procesamiento.\n",
        "\n",
        "![](https://pvsmt99345.i.lithium.com/t5/image/serverpage/image-id/61047iF5F5072316647A42/image-size/large?v=1.0&px=999)\n",
        "\n",
        "XGBoost es una librería optimizada con base en la tecnica de gradiente diseñada para ser altamente **eficiente**, **flexible** y **portátil**. Implementa algoritmos de aprendizaje automático en el marco de Gradient Boosting. XGBoost proporciona un aumento de árbol paralelo (también conocido como GBDT, GBM) que resuelve muchos problemas de ciencia de datos de una manera rápida y precisa. El mismo código se ejecuta en los principales entornos distribuidos (Hadoop, SGE, MPI) y puede resolver problemas más allá de miles de millones de ejemplos."
      ]
    },
    {
      "cell_type": "markdown",
      "metadata": {
        "id": "cFzKTJaBS4J-"
      },
      "source": [
        "Mas acerca de XGBoost:\n",
        "\n",
        "- Originalmente escrito en C++\n",
        "- Existen diferentes APIs en distintos lenguajes:\n",
        "  - Python\n",
        "  - R\n",
        "  - Scala\n",
        "  - Julia\n",
        "  - Java\n",
        "- Los Features pueden ser numericos o categoricos\n",
        "- Numerical features deben ser convertidos con la funcion Z\n",
        "- Categorical features deben ser en formato one-hot encoding\n",
        "\n",
        "Para instalar:\n",
        "```shell\n",
        "pip install xgboost\n",
        "```\n",
        "\n",
        "Empezando con XGBoost:\n",
        "```python\n",
        "import xgboost as xgb\n",
        "# Leer la data\n",
        "dtrain = xgb.DMatrix('demo/data/agaricus.txt.train')\n",
        "dtest = xgb.DMatrix('demo/data/agaricus.txt.test')\n",
        "# Especificar los parametros\n",
        "param = {'max_depth':2, 'eta':1, 'objective':'binary:logistic' }\n",
        "num_round = 2\n",
        "bst = xgb.train(param, dtrain, num_round)\n",
        "# realizar la prediccion\n",
        "preds = bst.predict(dtest)\n",
        "```"
      ]
    },
    {
      "cell_type": "code",
      "metadata": {
        "colab": {
          "base_uri": "https://localhost:8080/"
        },
        "id": "wRB6HtjxcfZc",
        "outputId": "63a2fe08-ea59-477c-aa1e-6609856e6efb"
      },
      "source": [
        "from google.colab import drive\n",
        "import os\n",
        "drive.mount('/content/gdrive')\n",
        "# Establecer ruta de acceso en drive\n",
        "import os\n",
        "print(os.getcwd())\n",
        "os.chdir(\"/content/gdrive/My Drive\")"
      ],
      "execution_count": null,
      "outputs": [
        {
          "output_type": "stream",
          "name": "stdout",
          "text": [
            "Mounted at /content/gdrive\n",
            "/content\n"
          ]
        }
      ]
    },
    {
      "cell_type": "code",
      "metadata": {
        "colab": {
          "base_uri": "https://localhost:8080/"
        },
        "id": "Z9aYE3ZOcg1-",
        "outputId": "ad8233e3-17f7-45fa-e939-0103ad7e1bb5"
      },
      "source": [
        "%cd '/content/gdrive/MyDrive/Bootcamp SENA 2021/Semana 10/'"
      ],
      "execution_count": null,
      "outputs": [
        {
          "output_type": "stream",
          "name": "stdout",
          "text": [
            "/content/gdrive/MyDrive/Bootcamp SENA 2021/Semana 10\n"
          ]
        }
      ]
    },
    {
      "cell_type": "markdown",
      "metadata": {
        "id": "PL6jwP_MTTYW"
      },
      "source": [
        "## Para recordar:\n",
        "\n",
        "**Elementos de Supervised Learning**\n",
        "- Modelo y Parametros\n",
        "  - El **modelo** en supervised learning se refiere a la estructura matematica en la cual la prediccion$y_i$ se realiza con base en el input $x_i$. Por ejemplo en el *modelo lineal*, la prediccion esta dada por $\\hat{y_i} = \\sum_j{\\theta_jx_{ij}}$, como una combinacion lineal de los features multiplicados por unos pesos\n",
        "  - Los **parametros** son la parte no determinada que dependen de como aprenda el algoritmo. En los problemas de regresion, los parametros son los coeficientes $\\theta$.\n",
        "- Funcion objetivo: Training Loss + Regularization\n",
        "  - La tarea del **training** tiene en cuenta las cantidades para encontrar los mejores parametros $\\theta$ que mejor ajuste tienen en la training data $x_i$ y labels $y_i$.  Para entrenar el modelo se necesita definir la **objective function** para medir que tan bien el modelo se ajusta a la training data. $$obj(\\theta)=L(\\theta) + \\Omega(\\theta)$$\n",
        "  Donde $L$ es la training loss function, y $\\Omega$ es el termino de regularization. La training loss mide que tan *predictivo* es nuestor modelo respecto a la training data. Una practica usual para la eleccion de $L$ es el *mean squared error*, el cual esta dado por $$L(\\theta)=\\sum{(y_i-\\hat{y_i})^2}$$\n",
        "  El **regularization term** es lo que las personas usualmente olvidan adicionar. El regularization term controla la complejidad del modelo, lo cual nos permite evitar el overfitting. Analizemos esto con una figura. Se te pide que ajustes visualmente una funcion escalonada dado el iput dado en la parte superior izquierda de la imagen. Cual crees que seria la mejor solucion que mejor se ajusta?\n",
        "  ![](https://raw.githubusercontent.com/dmlc/web-data/master/xgboost/model/step_fit.png)\n",
        "  La respuesta correcta se muestra en rojo. El principio general es que queremos que la solucion sea *simple* y de alto poder *predictivo*.\n"
      ]
    },
    {
      "cell_type": "markdown",
      "metadata": {
        "id": "eOCqPHte6pJr"
      },
      "source": [
        "![image.png](data:image/png;base64,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)"
      ]
    },
    {
      "cell_type": "markdown",
      "metadata": {
        "id": "nR5hI73urMuA"
      },
      "source": [
        "## Configurando XGBoost\n",
        "\n",
        "- **Definir el problema & evaluacion**:\n",
        "  - *Objetivo / Learning Task*\n",
        "    * Linear regression (reg:linear)\n",
        "    * Logistic regression for binary classification (binary:logistic)\n",
        "    * Softmax for multi-class classification (multi:softprob)\n",
        "  - *Metricas de evaluacion*:\n",
        "    - AUC - Area under curve (used in classification)\n",
        "    - RMSE - Root mean square error (used in regression)\n",
        "    - merror - Exact matching error, (used in multi-class classification)\n",
        "- **Parametros para controlar el over fitting**:\n",
        "  - *Learning rate or eta*  [default=0.3][range:(0-1)]\n",
        "    * Hace el modelo mas robusto disminuyendo los pesos en cada paso\n",
        "    * Valor bajo de eta hace que tome mayor tiempo computacionalmente, a mayor valor de eta se previene del over-fitting pero un resultado menos preciso\n",
        "    * Si el tiempo lo permite y tu ideal es que el performance dle modelo sea bueno, reduce el valor de eta e incrementa el nro rounds\n",
        "    * Valores optimos estan entre 0.01 - 0.3\n",
        "  - *Max_depth* [default=6][range:(0,Inf)]\n",
        "    * Controla la profundidad del arbol\n",
        "    * Mayor depth, mas complejo es el modelo; mayores chances de overfit .\n",
        "    * No hay un valor estandar para max_depth. Datasets mas grandes requieren de mayor profundidad para aprender las reglas dentro de la data.\n",
        "- **Parametros para velocidad**\n",
        "  - *No of rounds/tree*: [default=10][range:(1,Inf)]\n",
        "    * Controla el maximo numero de iteraciones\n",
        "    * Para clasificacion, es similar al numero de arboles \n",
        "  - *Sub-sample* [default=1][range:(0,1)]\n",
        "    * Controla el numero de muestras (observaciones) dadas en cada arbol.\n",
        "    * Tipicamente, se encuentra entre (0.5-0.8)\n",
        "  - *Early Stopping*:\n",
        "    * Si es NULL, la early stopping function no se usa.\n",
        "    * Si se ajusta a un entero k, training con validation set se detendra si el performance no mejora luego de k rondas.\n",
        "\n",
        "Ejemplo:\n",
        "```python\n",
        "xgb_model = xgboost.XGBClassifier()\n",
        "\n",
        "params = {\n",
        "    \"colsample_bytree\": uniform(0.7, 0.3),\n",
        "    \"gamma\": uniform(0, 0.5),\n",
        "    \"learning_rate\": uniform(0.03, 0.3), # default 0.1 \n",
        "    \"max_depth\": randint(2, 6), # default 3\n",
        "    \"n_estimators\": randint(10, 100), # default 100\n",
        "    \"subsample\": uniform(0.6, 0.4)\n",
        "}\n",
        "\n",
        "search = RandomizedSearchCV(xgb_model, param_distributions=params, random_state=42, n_iter=200, cv=3, verbose=1, n_jobs=2, return_train_score=True)\n",
        "\n",
        "search.fit(X_train, y_train)\n",
        "\n",
        "report_best_scores(search.cv_results_, 1)\n",
        "```\n",
        "\n",
        "Mayor informacion:\n",
        "- [Oficial page](https://xgboost.readthedocs.io/en/latest/parameter.html)\n",
        "- [XGBoost in Alteryx](https://www.abiqos.com/2019/08/expand-your-predictive-palette-xgboost-in-alteryx/)\n",
        "- [Complete Guide to Parameter Tuning in XGBoost with codes in Python](https://www.analyticsvidhya.com/blog/2016/03/complete-guide-parameter-tuning-xgboost-with-codes-python/)"
      ]
    },
    {
      "cell_type": "markdown",
      "metadata": {
        "id": "7aRUGjQyc4ZV"
      },
      "source": [
        "# Rossmann Store Sales\n",
        "\n",
        "Pronosticar las ventas utilizando datos de tiendas, promociones y competidores\n",
        "\n",
        "**Objetivo**: explorar datos y predecir 6 semanas de ventas diarias para 1115 tiendas ubicadas en toda Alemania\n",
        "\n",
        "[Kaggle Competition](https://www.kaggle.com/c/rossmann-store-sales/overview)\n",
        "\n",
        "**Prerequisitos**:\n",
        "\n",
        "[Forecasting at scale - fbprophet](https://facebook.github.io/prophet/)\n",
        "```\n",
        "conda install -c conda-forge fbprophet xgboost\n",
        "```"
      ]
    },
    {
      "cell_type": "code",
      "metadata": {
        "colab": {
          "base_uri": "https://localhost:8080/"
        },
        "id": "5TXwj3F1ccAo",
        "outputId": "64d7c919-d53f-45bd-8f37-90fb26899bae"
      },
      "source": [
        "pip install xgboost"
      ],
      "execution_count": null,
      "outputs": [
        {
          "output_type": "stream",
          "name": "stdout",
          "text": [
            "Requirement already satisfied: xgboost in /usr/local/lib/python3.7/dist-packages (0.90)\n",
            "Requirement already satisfied: numpy in /usr/local/lib/python3.7/dist-packages (from xgboost) (1.19.5)\n",
            "Requirement already satisfied: scipy in /usr/local/lib/python3.7/dist-packages (from xgboost) (1.4.1)\n"
          ]
        }
      ]
    },
    {
      "cell_type": "code",
      "metadata": {
        "id": "g1WYInpcccAp"
      },
      "source": [
        "#!pip install fbprophet "
      ],
      "execution_count": null,
      "outputs": []
    },
    {
      "cell_type": "code",
      "metadata": {
        "id": "FKnl1QwmK1wA"
      },
      "source": [
        "import warnings\n",
        "warnings.filterwarnings(\"ignore\")\n",
        "\n",
        "# loading packages\n",
        "# basico + fechas \n",
        "import numpy as np\n",
        "import pandas as pd\n",
        "from pandas import datetime\n",
        "\n",
        "# data visualization\n",
        "import matplotlib.pyplot as plt\n",
        "import seaborn as sns # advanced vizs\n",
        "%matplotlib inline\n",
        "\n",
        "# estadistica\n",
        "from statsmodels.distributions.empirical_distribution import ECDF\n",
        "\n",
        "# analisis de series de tiempo\n",
        "from statsmodels.tsa.seasonal import seasonal_decompose\n",
        "from statsmodels.graphics.tsaplots import plot_acf, plot_pacf\n",
        "\n",
        "# prophet by Facebook\n",
        "#from fbprophet import Prophet\n",
        "\n",
        "# machine learning: XGB\n",
        "import xgboost as xgb\n",
        "from sklearn.model_selection import train_test_split, GridSearchCV, RandomizedSearchCV\n",
        "from xgboost.sklearn import XGBRegressor # wrapper"
      ],
      "execution_count": null,
      "outputs": []
    },
    {
      "cell_type": "code",
      "metadata": {
        "colab": {
          "base_uri": "https://localhost:8080/"
        },
        "id": "ug1IgIRFccAr",
        "outputId": "ccc86ba6-5422-4558-d3da-3680d1f28cd2"
      },
      "source": [
        "# importar la train data\n",
        "train = pd.read_csv(\"train.csv\", parse_dates = True, low_memory = False, index_col = 'Date')\n",
        "# informacion adicional de ventas\n",
        "store = pd.read_csv(\"store.csv\", low_memory = False)\n",
        "# time series como indexes\n",
        "train.index"
      ],
      "execution_count": null,
      "outputs": [
        {
          "output_type": "execute_result",
          "data": {
            "text/plain": [
              "DatetimeIndex(['2015-07-31', '2015-07-31', '2015-07-31', '2015-07-31',\n",
              "               '2015-07-31', '2015-07-31', '2015-07-31', '2015-07-31',\n",
              "               '2015-07-31', '2015-07-31',\n",
              "               ...\n",
              "               '2013-01-01', '2013-01-01', '2013-01-01', '2013-01-01',\n",
              "               '2013-01-01', '2013-01-01', '2013-01-01', '2013-01-01',\n",
              "               '2013-01-01', '2013-01-01'],\n",
              "              dtype='datetime64[ns]', name='Date', length=1017209, freq=None)"
            ]
          },
          "metadata": {},
          "execution_count": 5
        }
      ]
    },
    {
      "cell_type": "code",
      "metadata": {
        "colab": {
          "base_uri": "https://localhost:8080/",
          "height": 445
        },
        "id": "Txs8yE749qrG",
        "outputId": "22c7d78d-82f6-4ef6-e667-c3af60d5a914"
      },
      "source": [
        "train"
      ],
      "execution_count": null,
      "outputs": [
        {
          "output_type": "execute_result",
          "data": {
            "text/html": [
              "<div>\n",
              "<style scoped>\n",
              "    .dataframe tbody tr th:only-of-type {\n",
              "        vertical-align: middle;\n",
              "    }\n",
              "\n",
              "    .dataframe tbody tr th {\n",
              "        vertical-align: top;\n",
              "    }\n",
              "\n",
              "    .dataframe thead th {\n",
              "        text-align: right;\n",
              "    }\n",
              "</style>\n",
              "<table border=\"1\" class=\"dataframe\">\n",
              "  <thead>\n",
              "    <tr style=\"text-align: right;\">\n",
              "      <th></th>\n",
              "      <th>Store</th>\n",
              "      <th>DayOfWeek</th>\n",
              "      <th>Sales</th>\n",
              "      <th>Customers</th>\n",
              "      <th>Open</th>\n",
              "      <th>Promo</th>\n",
              "      <th>StateHoliday</th>\n",
              "      <th>SchoolHoliday</th>\n",
              "    </tr>\n",
              "    <tr>\n",
              "      <th>Date</th>\n",
              "      <th></th>\n",
              "      <th></th>\n",
              "      <th></th>\n",
              "      <th></th>\n",
              "      <th></th>\n",
              "      <th></th>\n",
              "      <th></th>\n",
              "      <th></th>\n",
              "    </tr>\n",
              "  </thead>\n",
              "  <tbody>\n",
              "    <tr>\n",
              "      <th>2015-07-31</th>\n",
              "      <td>1</td>\n",
              "      <td>5</td>\n",
              "      <td>5263</td>\n",
              "      <td>555</td>\n",
              "      <td>1</td>\n",
              "      <td>1</td>\n",
              "      <td>0</td>\n",
              "      <td>1</td>\n",
              "    </tr>\n",
              "    <tr>\n",
              "      <th>2015-07-31</th>\n",
              "      <td>2</td>\n",
              "      <td>5</td>\n",
              "      <td>6064</td>\n",
              "      <td>625</td>\n",
              "      <td>1</td>\n",
              "      <td>1</td>\n",
              "      <td>0</td>\n",
              "      <td>1</td>\n",
              "    </tr>\n",
              "    <tr>\n",
              "      <th>2015-07-31</th>\n",
              "      <td>3</td>\n",
              "      <td>5</td>\n",
              "      <td>8314</td>\n",
              "      <td>821</td>\n",
              "      <td>1</td>\n",
              "      <td>1</td>\n",
              "      <td>0</td>\n",
              "      <td>1</td>\n",
              "    </tr>\n",
              "    <tr>\n",
              "      <th>2015-07-31</th>\n",
              "      <td>4</td>\n",
              "      <td>5</td>\n",
              "      <td>13995</td>\n",
              "      <td>1498</td>\n",
              "      <td>1</td>\n",
              "      <td>1</td>\n",
              "      <td>0</td>\n",
              "      <td>1</td>\n",
              "    </tr>\n",
              "    <tr>\n",
              "      <th>2015-07-31</th>\n",
              "      <td>5</td>\n",
              "      <td>5</td>\n",
              "      <td>4822</td>\n",
              "      <td>559</td>\n",
              "      <td>1</td>\n",
              "      <td>1</td>\n",
              "      <td>0</td>\n",
              "      <td>1</td>\n",
              "    </tr>\n",
              "    <tr>\n",
              "      <th>...</th>\n",
              "      <td>...</td>\n",
              "      <td>...</td>\n",
              "      <td>...</td>\n",
              "      <td>...</td>\n",
              "      <td>...</td>\n",
              "      <td>...</td>\n",
              "      <td>...</td>\n",
              "      <td>...</td>\n",
              "    </tr>\n",
              "    <tr>\n",
              "      <th>2013-01-01</th>\n",
              "      <td>1111</td>\n",
              "      <td>2</td>\n",
              "      <td>0</td>\n",
              "      <td>0</td>\n",
              "      <td>0</td>\n",
              "      <td>0</td>\n",
              "      <td>a</td>\n",
              "      <td>1</td>\n",
              "    </tr>\n",
              "    <tr>\n",
              "      <th>2013-01-01</th>\n",
              "      <td>1112</td>\n",
              "      <td>2</td>\n",
              "      <td>0</td>\n",
              "      <td>0</td>\n",
              "      <td>0</td>\n",
              "      <td>0</td>\n",
              "      <td>a</td>\n",
              "      <td>1</td>\n",
              "    </tr>\n",
              "    <tr>\n",
              "      <th>2013-01-01</th>\n",
              "      <td>1113</td>\n",
              "      <td>2</td>\n",
              "      <td>0</td>\n",
              "      <td>0</td>\n",
              "      <td>0</td>\n",
              "      <td>0</td>\n",
              "      <td>a</td>\n",
              "      <td>1</td>\n",
              "    </tr>\n",
              "    <tr>\n",
              "      <th>2013-01-01</th>\n",
              "      <td>1114</td>\n",
              "      <td>2</td>\n",
              "      <td>0</td>\n",
              "      <td>0</td>\n",
              "      <td>0</td>\n",
              "      <td>0</td>\n",
              "      <td>a</td>\n",
              "      <td>1</td>\n",
              "    </tr>\n",
              "    <tr>\n",
              "      <th>2013-01-01</th>\n",
              "      <td>1115</td>\n",
              "      <td>2</td>\n",
              "      <td>0</td>\n",
              "      <td>0</td>\n",
              "      <td>0</td>\n",
              "      <td>0</td>\n",
              "      <td>a</td>\n",
              "      <td>1</td>\n",
              "    </tr>\n",
              "  </tbody>\n",
              "</table>\n",
              "<p>1017209 rows × 8 columns</p>\n",
              "</div>"
            ],
            "text/plain": [
              "            Store  DayOfWeek  Sales  ...  Promo  StateHoliday  SchoolHoliday\n",
              "Date                                 ...                                    \n",
              "2015-07-31      1          5   5263  ...      1             0              1\n",
              "2015-07-31      2          5   6064  ...      1             0              1\n",
              "2015-07-31      3          5   8314  ...      1             0              1\n",
              "2015-07-31      4          5  13995  ...      1             0              1\n",
              "2015-07-31      5          5   4822  ...      1             0              1\n",
              "...           ...        ...    ...  ...    ...           ...            ...\n",
              "2013-01-01   1111          2      0  ...      0             a              1\n",
              "2013-01-01   1112          2      0  ...      0             a              1\n",
              "2013-01-01   1113          2      0  ...      0             a              1\n",
              "2013-01-01   1114          2      0  ...      0             a              1\n",
              "2013-01-01   1115          2      0  ...      0             a              1\n",
              "\n",
              "[1017209 rows x 8 columns]"
            ]
          },
          "metadata": {},
          "execution_count": 6
        }
      ]
    },
    {
      "cell_type": "code",
      "metadata": {
        "id": "5IRo7Rc89_sK",
        "colab": {
          "base_uri": "https://localhost:8080/",
          "height": 414
        },
        "outputId": "d72b150b-46ca-40c6-a5f6-eac342ff93a1"
      },
      "source": [
        "store"
      ],
      "execution_count": null,
      "outputs": [
        {
          "output_type": "execute_result",
          "data": {
            "text/html": [
              "<div>\n",
              "<style scoped>\n",
              "    .dataframe tbody tr th:only-of-type {\n",
              "        vertical-align: middle;\n",
              "    }\n",
              "\n",
              "    .dataframe tbody tr th {\n",
              "        vertical-align: top;\n",
              "    }\n",
              "\n",
              "    .dataframe thead th {\n",
              "        text-align: right;\n",
              "    }\n",
              "</style>\n",
              "<table border=\"1\" class=\"dataframe\">\n",
              "  <thead>\n",
              "    <tr style=\"text-align: right;\">\n",
              "      <th></th>\n",
              "      <th>Store</th>\n",
              "      <th>StoreType</th>\n",
              "      <th>Assortment</th>\n",
              "      <th>CompetitionDistance</th>\n",
              "      <th>CompetitionOpenSinceMonth</th>\n",
              "      <th>CompetitionOpenSinceYear</th>\n",
              "      <th>Promo2</th>\n",
              "      <th>Promo2SinceWeek</th>\n",
              "      <th>Promo2SinceYear</th>\n",
              "      <th>PromoInterval</th>\n",
              "    </tr>\n",
              "  </thead>\n",
              "  <tbody>\n",
              "    <tr>\n",
              "      <th>0</th>\n",
              "      <td>1</td>\n",
              "      <td>c</td>\n",
              "      <td>a</td>\n",
              "      <td>1270.0</td>\n",
              "      <td>9.0</td>\n",
              "      <td>2008.0</td>\n",
              "      <td>0</td>\n",
              "      <td>NaN</td>\n",
              "      <td>NaN</td>\n",
              "      <td>NaN</td>\n",
              "    </tr>\n",
              "    <tr>\n",
              "      <th>1</th>\n",
              "      <td>2</td>\n",
              "      <td>a</td>\n",
              "      <td>a</td>\n",
              "      <td>570.0</td>\n",
              "      <td>11.0</td>\n",
              "      <td>2007.0</td>\n",
              "      <td>1</td>\n",
              "      <td>13.0</td>\n",
              "      <td>2010.0</td>\n",
              "      <td>Jan,Apr,Jul,Oct</td>\n",
              "    </tr>\n",
              "    <tr>\n",
              "      <th>2</th>\n",
              "      <td>3</td>\n",
              "      <td>a</td>\n",
              "      <td>a</td>\n",
              "      <td>14130.0</td>\n",
              "      <td>12.0</td>\n",
              "      <td>2006.0</td>\n",
              "      <td>1</td>\n",
              "      <td>14.0</td>\n",
              "      <td>2011.0</td>\n",
              "      <td>Jan,Apr,Jul,Oct</td>\n",
              "    </tr>\n",
              "    <tr>\n",
              "      <th>3</th>\n",
              "      <td>4</td>\n",
              "      <td>c</td>\n",
              "      <td>c</td>\n",
              "      <td>620.0</td>\n",
              "      <td>9.0</td>\n",
              "      <td>2009.0</td>\n",
              "      <td>0</td>\n",
              "      <td>NaN</td>\n",
              "      <td>NaN</td>\n",
              "      <td>NaN</td>\n",
              "    </tr>\n",
              "    <tr>\n",
              "      <th>4</th>\n",
              "      <td>5</td>\n",
              "      <td>a</td>\n",
              "      <td>a</td>\n",
              "      <td>29910.0</td>\n",
              "      <td>4.0</td>\n",
              "      <td>2015.0</td>\n",
              "      <td>0</td>\n",
              "      <td>NaN</td>\n",
              "      <td>NaN</td>\n",
              "      <td>NaN</td>\n",
              "    </tr>\n",
              "    <tr>\n",
              "      <th>...</th>\n",
              "      <td>...</td>\n",
              "      <td>...</td>\n",
              "      <td>...</td>\n",
              "      <td>...</td>\n",
              "      <td>...</td>\n",
              "      <td>...</td>\n",
              "      <td>...</td>\n",
              "      <td>...</td>\n",
              "      <td>...</td>\n",
              "      <td>...</td>\n",
              "    </tr>\n",
              "    <tr>\n",
              "      <th>1110</th>\n",
              "      <td>1111</td>\n",
              "      <td>a</td>\n",
              "      <td>a</td>\n",
              "      <td>1900.0</td>\n",
              "      <td>6.0</td>\n",
              "      <td>2014.0</td>\n",
              "      <td>1</td>\n",
              "      <td>31.0</td>\n",
              "      <td>2013.0</td>\n",
              "      <td>Jan,Apr,Jul,Oct</td>\n",
              "    </tr>\n",
              "    <tr>\n",
              "      <th>1111</th>\n",
              "      <td>1112</td>\n",
              "      <td>c</td>\n",
              "      <td>c</td>\n",
              "      <td>1880.0</td>\n",
              "      <td>4.0</td>\n",
              "      <td>2006.0</td>\n",
              "      <td>0</td>\n",
              "      <td>NaN</td>\n",
              "      <td>NaN</td>\n",
              "      <td>NaN</td>\n",
              "    </tr>\n",
              "    <tr>\n",
              "      <th>1112</th>\n",
              "      <td>1113</td>\n",
              "      <td>a</td>\n",
              "      <td>c</td>\n",
              "      <td>9260.0</td>\n",
              "      <td>NaN</td>\n",
              "      <td>NaN</td>\n",
              "      <td>0</td>\n",
              "      <td>NaN</td>\n",
              "      <td>NaN</td>\n",
              "      <td>NaN</td>\n",
              "    </tr>\n",
              "    <tr>\n",
              "      <th>1113</th>\n",
              "      <td>1114</td>\n",
              "      <td>a</td>\n",
              "      <td>c</td>\n",
              "      <td>870.0</td>\n",
              "      <td>NaN</td>\n",
              "      <td>NaN</td>\n",
              "      <td>0</td>\n",
              "      <td>NaN</td>\n",
              "      <td>NaN</td>\n",
              "      <td>NaN</td>\n",
              "    </tr>\n",
              "    <tr>\n",
              "      <th>1114</th>\n",
              "      <td>1115</td>\n",
              "      <td>d</td>\n",
              "      <td>c</td>\n",
              "      <td>5350.0</td>\n",
              "      <td>NaN</td>\n",
              "      <td>NaN</td>\n",
              "      <td>1</td>\n",
              "      <td>22.0</td>\n",
              "      <td>2012.0</td>\n",
              "      <td>Mar,Jun,Sept,Dec</td>\n",
              "    </tr>\n",
              "  </tbody>\n",
              "</table>\n",
              "<p>1115 rows × 10 columns</p>\n",
              "</div>"
            ],
            "text/plain": [
              "      Store StoreType  ... Promo2SinceYear     PromoInterval\n",
              "0         1         c  ...             NaN               NaN\n",
              "1         2         a  ...          2010.0   Jan,Apr,Jul,Oct\n",
              "2         3         a  ...          2011.0   Jan,Apr,Jul,Oct\n",
              "3         4         c  ...             NaN               NaN\n",
              "4         5         a  ...             NaN               NaN\n",
              "...     ...       ...  ...             ...               ...\n",
              "1110   1111         a  ...          2013.0   Jan,Apr,Jul,Oct\n",
              "1111   1112         c  ...             NaN               NaN\n",
              "1112   1113         a  ...             NaN               NaN\n",
              "1113   1114         a  ...             NaN               NaN\n",
              "1114   1115         d  ...          2012.0  Mar,Jun,Sept,Dec\n",
              "\n",
              "[1115 rows x 10 columns]"
            ]
          },
          "metadata": {},
          "execution_count": 7
        }
      ]
    },
    {
      "cell_type": "markdown",
      "metadata": {
        "id": "Fxzws2f2ccAr"
      },
      "source": [
        "## Exploratory Data Analysis\n",
        "\n",
        "En esta primera sección, revisamos el tren y almacenamos datos, manejamos los valores faltantes y creamos nuevas características para un análisis más detallado."
      ]
    },
    {
      "cell_type": "code",
      "metadata": {
        "scrolled": true,
        "colab": {
          "base_uri": "https://localhost:8080/",
          "height": 407
        },
        "id": "YBxdEcTTccAr",
        "outputId": "ce09ce80-5fa1-4d29-969a-3d563a5e0659"
      },
      "source": [
        "# head y tail\n",
        "print(\"In total: \", train.shape)\n",
        "train.head(5).append(train.tail(5))"
      ],
      "execution_count": null,
      "outputs": [
        {
          "output_type": "stream",
          "text": [
            "In total:  (1017209, 8)\n"
          ],
          "name": "stdout"
        },
        {
          "output_type": "execute_result",
          "data": {
            "text/html": [
              "<div>\n",
              "<style scoped>\n",
              "    .dataframe tbody tr th:only-of-type {\n",
              "        vertical-align: middle;\n",
              "    }\n",
              "\n",
              "    .dataframe tbody tr th {\n",
              "        vertical-align: top;\n",
              "    }\n",
              "\n",
              "    .dataframe thead th {\n",
              "        text-align: right;\n",
              "    }\n",
              "</style>\n",
              "<table border=\"1\" class=\"dataframe\">\n",
              "  <thead>\n",
              "    <tr style=\"text-align: right;\">\n",
              "      <th></th>\n",
              "      <th>Store</th>\n",
              "      <th>DayOfWeek</th>\n",
              "      <th>Sales</th>\n",
              "      <th>Customers</th>\n",
              "      <th>Open</th>\n",
              "      <th>Promo</th>\n",
              "      <th>StateHoliday</th>\n",
              "      <th>SchoolHoliday</th>\n",
              "    </tr>\n",
              "    <tr>\n",
              "      <th>Date</th>\n",
              "      <th></th>\n",
              "      <th></th>\n",
              "      <th></th>\n",
              "      <th></th>\n",
              "      <th></th>\n",
              "      <th></th>\n",
              "      <th></th>\n",
              "      <th></th>\n",
              "    </tr>\n",
              "  </thead>\n",
              "  <tbody>\n",
              "    <tr>\n",
              "      <th>2015-07-31</th>\n",
              "      <td>1</td>\n",
              "      <td>5</td>\n",
              "      <td>5263</td>\n",
              "      <td>555</td>\n",
              "      <td>1</td>\n",
              "      <td>1</td>\n",
              "      <td>0</td>\n",
              "      <td>1</td>\n",
              "    </tr>\n",
              "    <tr>\n",
              "      <th>2015-07-31</th>\n",
              "      <td>2</td>\n",
              "      <td>5</td>\n",
              "      <td>6064</td>\n",
              "      <td>625</td>\n",
              "      <td>1</td>\n",
              "      <td>1</td>\n",
              "      <td>0</td>\n",
              "      <td>1</td>\n",
              "    </tr>\n",
              "    <tr>\n",
              "      <th>2015-07-31</th>\n",
              "      <td>3</td>\n",
              "      <td>5</td>\n",
              "      <td>8314</td>\n",
              "      <td>821</td>\n",
              "      <td>1</td>\n",
              "      <td>1</td>\n",
              "      <td>0</td>\n",
              "      <td>1</td>\n",
              "    </tr>\n",
              "    <tr>\n",
              "      <th>2015-07-31</th>\n",
              "      <td>4</td>\n",
              "      <td>5</td>\n",
              "      <td>13995</td>\n",
              "      <td>1498</td>\n",
              "      <td>1</td>\n",
              "      <td>1</td>\n",
              "      <td>0</td>\n",
              "      <td>1</td>\n",
              "    </tr>\n",
              "    <tr>\n",
              "      <th>2015-07-31</th>\n",
              "      <td>5</td>\n",
              "      <td>5</td>\n",
              "      <td>4822</td>\n",
              "      <td>559</td>\n",
              "      <td>1</td>\n",
              "      <td>1</td>\n",
              "      <td>0</td>\n",
              "      <td>1</td>\n",
              "    </tr>\n",
              "    <tr>\n",
              "      <th>2013-01-01</th>\n",
              "      <td>1111</td>\n",
              "      <td>2</td>\n",
              "      <td>0</td>\n",
              "      <td>0</td>\n",
              "      <td>0</td>\n",
              "      <td>0</td>\n",
              "      <td>a</td>\n",
              "      <td>1</td>\n",
              "    </tr>\n",
              "    <tr>\n",
              "      <th>2013-01-01</th>\n",
              "      <td>1112</td>\n",
              "      <td>2</td>\n",
              "      <td>0</td>\n",
              "      <td>0</td>\n",
              "      <td>0</td>\n",
              "      <td>0</td>\n",
              "      <td>a</td>\n",
              "      <td>1</td>\n",
              "    </tr>\n",
              "    <tr>\n",
              "      <th>2013-01-01</th>\n",
              "      <td>1113</td>\n",
              "      <td>2</td>\n",
              "      <td>0</td>\n",
              "      <td>0</td>\n",
              "      <td>0</td>\n",
              "      <td>0</td>\n",
              "      <td>a</td>\n",
              "      <td>1</td>\n",
              "    </tr>\n",
              "    <tr>\n",
              "      <th>2013-01-01</th>\n",
              "      <td>1114</td>\n",
              "      <td>2</td>\n",
              "      <td>0</td>\n",
              "      <td>0</td>\n",
              "      <td>0</td>\n",
              "      <td>0</td>\n",
              "      <td>a</td>\n",
              "      <td>1</td>\n",
              "    </tr>\n",
              "    <tr>\n",
              "      <th>2013-01-01</th>\n",
              "      <td>1115</td>\n",
              "      <td>2</td>\n",
              "      <td>0</td>\n",
              "      <td>0</td>\n",
              "      <td>0</td>\n",
              "      <td>0</td>\n",
              "      <td>a</td>\n",
              "      <td>1</td>\n",
              "    </tr>\n",
              "  </tbody>\n",
              "</table>\n",
              "</div>"
            ],
            "text/plain": [
              "            Store  DayOfWeek  Sales  ...  Promo  StateHoliday  SchoolHoliday\n",
              "Date                                 ...                                    \n",
              "2015-07-31      1          5   5263  ...      1             0              1\n",
              "2015-07-31      2          5   6064  ...      1             0              1\n",
              "2015-07-31      3          5   8314  ...      1             0              1\n",
              "2015-07-31      4          5  13995  ...      1             0              1\n",
              "2015-07-31      5          5   4822  ...      1             0              1\n",
              "2013-01-01   1111          2      0  ...      0             a              1\n",
              "2013-01-01   1112          2      0  ...      0             a              1\n",
              "2013-01-01   1113          2      0  ...      0             a              1\n",
              "2013-01-01   1114          2      0  ...      0             a              1\n",
              "2013-01-01   1115          2      0  ...      0             a              1\n",
              "\n",
              "[10 rows x 8 columns]"
            ]
          },
          "metadata": {
            "tags": []
          },
          "execution_count": 8
        }
      ]
    },
    {
      "cell_type": "markdown",
      "metadata": {
        "id": "O4WNU7s8ccAs"
      },
      "source": [
        "Breve descripcion:\n",
        "\n",
        "- Sales: Ventas en cualquier dia(target variable).\n",
        "- Customers: numero de compradores en un dia dado\n",
        "- Open: Un indicador de si la tienda estuvo abierta o no 0 = closed, 1 = open.\n",
        "- Promo: Indicador si la tiendo tuvo promociones en el dia\n",
        "- StateHoliday: indica a state holiday. Normalmente la mayoria de tiendas en holiday estan cerradas\n",
        "- SchoolHoliday: indica si la (Store, Date) es afectada por el cierre de escuela publica\n",
        "\n",
        "Estamos tratando con datos de series de tiempo, por lo que probablemente nos sirva para extraer fechas para un análisis más detallado. También tenemos dos variables probables correlacionadas en el conjunto de datos, que se pueden combinar en una nueva función."
      ]
    },
    {
      "cell_type": "code",
      "metadata": {
        "colab": {
          "base_uri": "https://localhost:8080/"
        },
        "id": "OqCiUk3DccAs",
        "outputId": "58d14f5c-53fc-47e8-b881-ffdfb5a9e7de"
      },
      "source": [
        "# extraccion de data\n",
        "train['Year'] = train.index.year\n",
        "train['Month'] = train.index.month\n",
        "train['Day'] = train.index.day\n",
        "train['WeekOfYear'] = train.index.weekofyear\n",
        "\n",
        "# adicionar una nueva variable\n",
        "train['SalePerCustomer'] = train['Sales']/train['Customers']\n",
        "train['SalePerCustomer'].describe()"
      ],
      "execution_count": null,
      "outputs": [
        {
          "output_type": "execute_result",
          "data": {
            "text/plain": [
              "count    844340.000000\n",
              "mean          9.493619\n",
              "std           2.197494\n",
              "min           0.000000\n",
              "25%           7.895563\n",
              "50%           9.250000\n",
              "75%          10.899729\n",
              "max          64.957854\n",
              "Name: SalePerCustomer, dtype: float64"
            ]
          },
          "metadata": {
            "tags": []
          },
          "execution_count": 9
        }
      ]
    },
    {
      "cell_type": "code",
      "metadata": {
        "colab": {
          "base_uri": "https://localhost:8080/",
          "height": 450
        },
        "id": "TiLvX9y-ccAs",
        "outputId": "c16f636d-91f3-4f02-f2a7-4564c0aa655e"
      },
      "source": [
        "train"
      ],
      "execution_count": null,
      "outputs": [
        {
          "output_type": "execute_result",
          "data": {
            "text/html": [
              "<div>\n",
              "<style scoped>\n",
              "    .dataframe tbody tr th:only-of-type {\n",
              "        vertical-align: middle;\n",
              "    }\n",
              "\n",
              "    .dataframe tbody tr th {\n",
              "        vertical-align: top;\n",
              "    }\n",
              "\n",
              "    .dataframe thead th {\n",
              "        text-align: right;\n",
              "    }\n",
              "</style>\n",
              "<table border=\"1\" class=\"dataframe\">\n",
              "  <thead>\n",
              "    <tr style=\"text-align: right;\">\n",
              "      <th></th>\n",
              "      <th>Store</th>\n",
              "      <th>DayOfWeek</th>\n",
              "      <th>Sales</th>\n",
              "      <th>Customers</th>\n",
              "      <th>Open</th>\n",
              "      <th>Promo</th>\n",
              "      <th>StateHoliday</th>\n",
              "      <th>SchoolHoliday</th>\n",
              "      <th>Year</th>\n",
              "      <th>Month</th>\n",
              "      <th>Day</th>\n",
              "      <th>WeekOfYear</th>\n",
              "      <th>SalePerCustomer</th>\n",
              "    </tr>\n",
              "    <tr>\n",
              "      <th>Date</th>\n",
              "      <th></th>\n",
              "      <th></th>\n",
              "      <th></th>\n",
              "      <th></th>\n",
              "      <th></th>\n",
              "      <th></th>\n",
              "      <th></th>\n",
              "      <th></th>\n",
              "      <th></th>\n",
              "      <th></th>\n",
              "      <th></th>\n",
              "      <th></th>\n",
              "      <th></th>\n",
              "    </tr>\n",
              "  </thead>\n",
              "  <tbody>\n",
              "    <tr>\n",
              "      <th>2015-07-31</th>\n",
              "      <td>1</td>\n",
              "      <td>5</td>\n",
              "      <td>5263</td>\n",
              "      <td>555</td>\n",
              "      <td>1</td>\n",
              "      <td>1</td>\n",
              "      <td>0</td>\n",
              "      <td>1</td>\n",
              "      <td>2015</td>\n",
              "      <td>7</td>\n",
              "      <td>31</td>\n",
              "      <td>31</td>\n",
              "      <td>9.482883</td>\n",
              "    </tr>\n",
              "    <tr>\n",
              "      <th>2015-07-31</th>\n",
              "      <td>2</td>\n",
              "      <td>5</td>\n",
              "      <td>6064</td>\n",
              "      <td>625</td>\n",
              "      <td>1</td>\n",
              "      <td>1</td>\n",
              "      <td>0</td>\n",
              "      <td>1</td>\n",
              "      <td>2015</td>\n",
              "      <td>7</td>\n",
              "      <td>31</td>\n",
              "      <td>31</td>\n",
              "      <td>9.702400</td>\n",
              "    </tr>\n",
              "    <tr>\n",
              "      <th>2015-07-31</th>\n",
              "      <td>3</td>\n",
              "      <td>5</td>\n",
              "      <td>8314</td>\n",
              "      <td>821</td>\n",
              "      <td>1</td>\n",
              "      <td>1</td>\n",
              "      <td>0</td>\n",
              "      <td>1</td>\n",
              "      <td>2015</td>\n",
              "      <td>7</td>\n",
              "      <td>31</td>\n",
              "      <td>31</td>\n",
              "      <td>10.126675</td>\n",
              "    </tr>\n",
              "    <tr>\n",
              "      <th>2015-07-31</th>\n",
              "      <td>4</td>\n",
              "      <td>5</td>\n",
              "      <td>13995</td>\n",
              "      <td>1498</td>\n",
              "      <td>1</td>\n",
              "      <td>1</td>\n",
              "      <td>0</td>\n",
              "      <td>1</td>\n",
              "      <td>2015</td>\n",
              "      <td>7</td>\n",
              "      <td>31</td>\n",
              "      <td>31</td>\n",
              "      <td>9.342457</td>\n",
              "    </tr>\n",
              "    <tr>\n",
              "      <th>2015-07-31</th>\n",
              "      <td>5</td>\n",
              "      <td>5</td>\n",
              "      <td>4822</td>\n",
              "      <td>559</td>\n",
              "      <td>1</td>\n",
              "      <td>1</td>\n",
              "      <td>0</td>\n",
              "      <td>1</td>\n",
              "      <td>2015</td>\n",
              "      <td>7</td>\n",
              "      <td>31</td>\n",
              "      <td>31</td>\n",
              "      <td>8.626118</td>\n",
              "    </tr>\n",
              "    <tr>\n",
              "      <th>...</th>\n",
              "      <td>...</td>\n",
              "      <td>...</td>\n",
              "      <td>...</td>\n",
              "      <td>...</td>\n",
              "      <td>...</td>\n",
              "      <td>...</td>\n",
              "      <td>...</td>\n",
              "      <td>...</td>\n",
              "      <td>...</td>\n",
              "      <td>...</td>\n",
              "      <td>...</td>\n",
              "      <td>...</td>\n",
              "      <td>...</td>\n",
              "    </tr>\n",
              "    <tr>\n",
              "      <th>2013-01-01</th>\n",
              "      <td>1111</td>\n",
              "      <td>2</td>\n",
              "      <td>0</td>\n",
              "      <td>0</td>\n",
              "      <td>0</td>\n",
              "      <td>0</td>\n",
              "      <td>a</td>\n",
              "      <td>1</td>\n",
              "      <td>2013</td>\n",
              "      <td>1</td>\n",
              "      <td>1</td>\n",
              "      <td>1</td>\n",
              "      <td>NaN</td>\n",
              "    </tr>\n",
              "    <tr>\n",
              "      <th>2013-01-01</th>\n",
              "      <td>1112</td>\n",
              "      <td>2</td>\n",
              "      <td>0</td>\n",
              "      <td>0</td>\n",
              "      <td>0</td>\n",
              "      <td>0</td>\n",
              "      <td>a</td>\n",
              "      <td>1</td>\n",
              "      <td>2013</td>\n",
              "      <td>1</td>\n",
              "      <td>1</td>\n",
              "      <td>1</td>\n",
              "      <td>NaN</td>\n",
              "    </tr>\n",
              "    <tr>\n",
              "      <th>2013-01-01</th>\n",
              "      <td>1113</td>\n",
              "      <td>2</td>\n",
              "      <td>0</td>\n",
              "      <td>0</td>\n",
              "      <td>0</td>\n",
              "      <td>0</td>\n",
              "      <td>a</td>\n",
              "      <td>1</td>\n",
              "      <td>2013</td>\n",
              "      <td>1</td>\n",
              "      <td>1</td>\n",
              "      <td>1</td>\n",
              "      <td>NaN</td>\n",
              "    </tr>\n",
              "    <tr>\n",
              "      <th>2013-01-01</th>\n",
              "      <td>1114</td>\n",
              "      <td>2</td>\n",
              "      <td>0</td>\n",
              "      <td>0</td>\n",
              "      <td>0</td>\n",
              "      <td>0</td>\n",
              "      <td>a</td>\n",
              "      <td>1</td>\n",
              "      <td>2013</td>\n",
              "      <td>1</td>\n",
              "      <td>1</td>\n",
              "      <td>1</td>\n",
              "      <td>NaN</td>\n",
              "    </tr>\n",
              "    <tr>\n",
              "      <th>2013-01-01</th>\n",
              "      <td>1115</td>\n",
              "      <td>2</td>\n",
              "      <td>0</td>\n",
              "      <td>0</td>\n",
              "      <td>0</td>\n",
              "      <td>0</td>\n",
              "      <td>a</td>\n",
              "      <td>1</td>\n",
              "      <td>2013</td>\n",
              "      <td>1</td>\n",
              "      <td>1</td>\n",
              "      <td>1</td>\n",
              "      <td>NaN</td>\n",
              "    </tr>\n",
              "  </tbody>\n",
              "</table>\n",
              "<p>1017209 rows × 13 columns</p>\n",
              "</div>"
            ],
            "text/plain": [
              "            Store  DayOfWeek  Sales  ...  Day  WeekOfYear  SalePerCustomer\n",
              "Date                                 ...                                  \n",
              "2015-07-31      1          5   5263  ...   31          31         9.482883\n",
              "2015-07-31      2          5   6064  ...   31          31         9.702400\n",
              "2015-07-31      3          5   8314  ...   31          31        10.126675\n",
              "2015-07-31      4          5  13995  ...   31          31         9.342457\n",
              "2015-07-31      5          5   4822  ...   31          31         8.626118\n",
              "...           ...        ...    ...  ...  ...         ...              ...\n",
              "2013-01-01   1111          2      0  ...    1           1              NaN\n",
              "2013-01-01   1112          2      0  ...    1           1              NaN\n",
              "2013-01-01   1113          2      0  ...    1           1              NaN\n",
              "2013-01-01   1114          2      0  ...    1           1              NaN\n",
              "2013-01-01   1115          2      0  ...    1           1              NaN\n",
              "\n",
              "[1017209 rows x 13 columns]"
            ]
          },
          "metadata": {
            "tags": []
          },
          "execution_count": 10
        }
      ]
    },
    {
      "cell_type": "markdown",
      "metadata": {
        "id": "0VQslKNlccAt"
      },
      "source": [
        "En promedio, los clientes gastan alrededor de 9,50 $ al día. Aunque hay días con Ventas iguales a cero."
      ]
    },
    {
      "cell_type": "markdown",
      "metadata": {
        "id": "XBtbr0RKccAt"
      },
      "source": [
        "## ECDF: empirical cumulative distribution function\n",
        "\n",
        "Para obtener la primera impresión sobre las variables continuas en los datos, podemos graficar ECDF."
      ]
    },
    {
      "cell_type": "code",
      "metadata": {
        "colab": {
          "base_uri": "https://localhost:8080/",
          "height": 394
        },
        "id": "aEKPzbRsccAt",
        "outputId": "cc2c69b0-ce32-4a4d-febe-770db95833b9"
      },
      "source": [
        "sns.set(style = \"ticks\")# formato seaborn\n",
        "c = '#386B7F' # colores basicos para los plots\n",
        "plt.figure(figsize = (12, 6))\n",
        "\n",
        "plt.subplot(311)\n",
        "cdf = ECDF(train['Sales'])\n",
        "plt.plot(cdf.x, cdf.y, label = \"statmodels\", color = c);\n",
        "plt.xlabel('Sales'); plt.ylabel('ECDF');\n",
        "\n",
        "# Graficar ECDf \n",
        "plt.subplot(312)\n",
        "cdf = ECDF(train['Customers'])\n",
        "plt.plot(cdf.x, cdf.y, label = \"statmodels\", color = c);\n",
        "plt.xlabel('Customers');\n",
        "\n",
        "#  ECDF  \n",
        "plt.subplot(313)\n",
        "cdf = ECDF(train['SalePerCustomer'])\n",
        "plt.plot(cdf.x, cdf.y, label = \"statmodels\", color = c);\n",
        "plt.xlabel('Sale per Customer');"
      ],
      "execution_count": null,
      "outputs": [
        {
          "output_type": "display_data",
          "data": {
            "image/png": "[encoded data removed]",
            "text/plain": [
              "<Figure size 864x432 with 3 Axes>"
            ]
          },
          "metadata": {
            "tags": []
          }
        }
      ]
    },
    {
      "cell_type": "markdown",
      "metadata": {
        "id": "oVfFZkPRccAt"
      },
      "source": [
        "Aproximadamente el 20% de los datos tiene una cantidad cero de ventas/clientes con los que debemos tratar y casi el 80% del tiempo, la cantidad diaria de ventas fue menor a 1000. Entonces, ¿qué pasa con las ventas cero? ¿Se debe solo al hecho de que la tienda está ¿cerrado?"
      ]
    },
    {
      "cell_type": "markdown",
      "metadata": {
        "id": "iVvg8AkdccAu"
      },
      "source": [
        "## Missing values\n",
        "\n",
        "**Closed stores and zero sales stores**"
      ]
    },
    {
      "cell_type": "code",
      "metadata": {
        "colab": {
          "base_uri": "https://localhost:8080/",
          "height": 252
        },
        "id": "NPFcEYZGccAu",
        "outputId": "1ace7208-7335-4618-a381-2745e9f2a1b5"
      },
      "source": [
        "# closed stores\n",
        "print(\"In total: \", train[(train.Open == 0) & (train.Sales == 0)].shape[0])\n",
        "train[(train.Open == 0) & (train.Sales == 0)].head()"
      ],
      "execution_count": null,
      "outputs": [
        {
          "output_type": "stream",
          "text": [
            "In total:  172817\n"
          ],
          "name": "stdout"
        },
        {
          "output_type": "execute_result",
          "data": {
            "text/html": [
              "<div>\n",
              "<style scoped>\n",
              "    .dataframe tbody tr th:only-of-type {\n",
              "        vertical-align: middle;\n",
              "    }\n",
              "\n",
              "    .dataframe tbody tr th {\n",
              "        vertical-align: top;\n",
              "    }\n",
              "\n",
              "    .dataframe thead th {\n",
              "        text-align: right;\n",
              "    }\n",
              "</style>\n",
              "<table border=\"1\" class=\"dataframe\">\n",
              "  <thead>\n",
              "    <tr style=\"text-align: right;\">\n",
              "      <th></th>\n",
              "      <th>Store</th>\n",
              "      <th>DayOfWeek</th>\n",
              "      <th>Sales</th>\n",
              "      <th>Customers</th>\n",
              "      <th>Open</th>\n",
              "      <th>Promo</th>\n",
              "      <th>StateHoliday</th>\n",
              "      <th>SchoolHoliday</th>\n",
              "      <th>Year</th>\n",
              "      <th>Month</th>\n",
              "      <th>Day</th>\n",
              "      <th>WeekOfYear</th>\n",
              "      <th>SalePerCustomer</th>\n",
              "    </tr>\n",
              "    <tr>\n",
              "      <th>Date</th>\n",
              "      <th></th>\n",
              "      <th></th>\n",
              "      <th></th>\n",
              "      <th></th>\n",
              "      <th></th>\n",
              "      <th></th>\n",
              "      <th></th>\n",
              "      <th></th>\n",
              "      <th></th>\n",
              "      <th></th>\n",
              "      <th></th>\n",
              "      <th></th>\n",
              "      <th></th>\n",
              "    </tr>\n",
              "  </thead>\n",
              "  <tbody>\n",
              "    <tr>\n",
              "      <th>2015-07-31</th>\n",
              "      <td>292</td>\n",
              "      <td>5</td>\n",
              "      <td>0</td>\n",
              "      <td>0</td>\n",
              "      <td>0</td>\n",
              "      <td>1</td>\n",
              "      <td>0</td>\n",
              "      <td>1</td>\n",
              "      <td>2015</td>\n",
              "      <td>7</td>\n",
              "      <td>31</td>\n",
              "      <td>31</td>\n",
              "      <td>NaN</td>\n",
              "    </tr>\n",
              "    <tr>\n",
              "      <th>2015-07-31</th>\n",
              "      <td>876</td>\n",
              "      <td>5</td>\n",
              "      <td>0</td>\n",
              "      <td>0</td>\n",
              "      <td>0</td>\n",
              "      <td>1</td>\n",
              "      <td>0</td>\n",
              "      <td>1</td>\n",
              "      <td>2015</td>\n",
              "      <td>7</td>\n",
              "      <td>31</td>\n",
              "      <td>31</td>\n",
              "      <td>NaN</td>\n",
              "    </tr>\n",
              "    <tr>\n",
              "      <th>2015-07-30</th>\n",
              "      <td>292</td>\n",
              "      <td>4</td>\n",
              "      <td>0</td>\n",
              "      <td>0</td>\n",
              "      <td>0</td>\n",
              "      <td>1</td>\n",
              "      <td>0</td>\n",
              "      <td>1</td>\n",
              "      <td>2015</td>\n",
              "      <td>7</td>\n",
              "      <td>30</td>\n",
              "      <td>31</td>\n",
              "      <td>NaN</td>\n",
              "    </tr>\n",
              "    <tr>\n",
              "      <th>2015-07-30</th>\n",
              "      <td>876</td>\n",
              "      <td>4</td>\n",
              "      <td>0</td>\n",
              "      <td>0</td>\n",
              "      <td>0</td>\n",
              "      <td>1</td>\n",
              "      <td>0</td>\n",
              "      <td>1</td>\n",
              "      <td>2015</td>\n",
              "      <td>7</td>\n",
              "      <td>30</td>\n",
              "      <td>31</td>\n",
              "      <td>NaN</td>\n",
              "    </tr>\n",
              "    <tr>\n",
              "      <th>2015-07-29</th>\n",
              "      <td>292</td>\n",
              "      <td>3</td>\n",
              "      <td>0</td>\n",
              "      <td>0</td>\n",
              "      <td>0</td>\n",
              "      <td>1</td>\n",
              "      <td>0</td>\n",
              "      <td>1</td>\n",
              "      <td>2015</td>\n",
              "      <td>7</td>\n",
              "      <td>29</td>\n",
              "      <td>31</td>\n",
              "      <td>NaN</td>\n",
              "    </tr>\n",
              "  </tbody>\n",
              "</table>\n",
              "</div>"
            ],
            "text/plain": [
              "            Store  DayOfWeek  Sales  ...  Day  WeekOfYear  SalePerCustomer\n",
              "Date                                 ...                                  \n",
              "2015-07-31    292          5      0  ...   31          31              NaN\n",
              "2015-07-31    876          5      0  ...   31          31              NaN\n",
              "2015-07-30    292          4      0  ...   30          31              NaN\n",
              "2015-07-30    876          4      0  ...   30          31              NaN\n",
              "2015-07-29    292          3      0  ...   29          31              NaN\n",
              "\n",
              "[5 rows x 13 columns]"
            ]
          },
          "metadata": {
            "tags": []
          },
          "execution_count": 12
        }
      ]
    },
    {
      "cell_type": "markdown",
      "metadata": {
        "id": "nnSoSmBsccAu"
      },
      "source": [
        "Hay 172817 tiendas cerradas en los datos. Es aproximadamente el 10% de la cantidad total de observaciones. Para evitar pronósticos sesgados, eliminaremos estos valores.\n",
        "¿Qué pasa con las tiendas abiertas con cero ventas?"
      ]
    },
    {
      "cell_type": "code",
      "metadata": {
        "colab": {
          "base_uri": "https://localhost:8080/",
          "height": 252
        },
        "id": "jhJm16FBccAv",
        "outputId": "2de779fd-9208-4858-94ad-dd9706b66e42"
      },
      "source": [
        "# opened stores con 0 ventas\n",
        "zero_sales = train[(train.Open != 0) & (train.Sales == 0)]\n",
        "print(\"In total: \", zero_sales.shape)\n",
        "zero_sales.head(5)"
      ],
      "execution_count": null,
      "outputs": [
        {
          "output_type": "stream",
          "text": [
            "In total:  (54, 13)\n"
          ],
          "name": "stdout"
        },
        {
          "output_type": "execute_result",
          "data": {
            "text/html": [
              "<div>\n",
              "<style scoped>\n",
              "    .dataframe tbody tr th:only-of-type {\n",
              "        vertical-align: middle;\n",
              "    }\n",
              "\n",
              "    .dataframe tbody tr th {\n",
              "        vertical-align: top;\n",
              "    }\n",
              "\n",
              "    .dataframe thead th {\n",
              "        text-align: right;\n",
              "    }\n",
              "</style>\n",
              "<table border=\"1\" class=\"dataframe\">\n",
              "  <thead>\n",
              "    <tr style=\"text-align: right;\">\n",
              "      <th></th>\n",
              "      <th>Store</th>\n",
              "      <th>DayOfWeek</th>\n",
              "      <th>Sales</th>\n",
              "      <th>Customers</th>\n",
              "      <th>Open</th>\n",
              "      <th>Promo</th>\n",
              "      <th>StateHoliday</th>\n",
              "      <th>SchoolHoliday</th>\n",
              "      <th>Year</th>\n",
              "      <th>Month</th>\n",
              "      <th>Day</th>\n",
              "      <th>WeekOfYear</th>\n",
              "      <th>SalePerCustomer</th>\n",
              "    </tr>\n",
              "    <tr>\n",
              "      <th>Date</th>\n",
              "      <th></th>\n",
              "      <th></th>\n",
              "      <th></th>\n",
              "      <th></th>\n",
              "      <th></th>\n",
              "      <th></th>\n",
              "      <th></th>\n",
              "      <th></th>\n",
              "      <th></th>\n",
              "      <th></th>\n",
              "      <th></th>\n",
              "      <th></th>\n",
              "      <th></th>\n",
              "    </tr>\n",
              "  </thead>\n",
              "  <tbody>\n",
              "    <tr>\n",
              "      <th>2015-05-15</th>\n",
              "      <td>971</td>\n",
              "      <td>5</td>\n",
              "      <td>0</td>\n",
              "      <td>0</td>\n",
              "      <td>1</td>\n",
              "      <td>0</td>\n",
              "      <td>0</td>\n",
              "      <td>1</td>\n",
              "      <td>2015</td>\n",
              "      <td>5</td>\n",
              "      <td>15</td>\n",
              "      <td>20</td>\n",
              "      <td>NaN</td>\n",
              "    </tr>\n",
              "    <tr>\n",
              "      <th>2015-03-26</th>\n",
              "      <td>674</td>\n",
              "      <td>4</td>\n",
              "      <td>0</td>\n",
              "      <td>0</td>\n",
              "      <td>1</td>\n",
              "      <td>0</td>\n",
              "      <td>0</td>\n",
              "      <td>0</td>\n",
              "      <td>2015</td>\n",
              "      <td>3</td>\n",
              "      <td>26</td>\n",
              "      <td>13</td>\n",
              "      <td>NaN</td>\n",
              "    </tr>\n",
              "    <tr>\n",
              "      <th>2015-02-05</th>\n",
              "      <td>699</td>\n",
              "      <td>4</td>\n",
              "      <td>0</td>\n",
              "      <td>0</td>\n",
              "      <td>1</td>\n",
              "      <td>1</td>\n",
              "      <td>0</td>\n",
              "      <td>0</td>\n",
              "      <td>2015</td>\n",
              "      <td>2</td>\n",
              "      <td>5</td>\n",
              "      <td>6</td>\n",
              "      <td>NaN</td>\n",
              "    </tr>\n",
              "    <tr>\n",
              "      <th>2014-10-01</th>\n",
              "      <td>708</td>\n",
              "      <td>3</td>\n",
              "      <td>0</td>\n",
              "      <td>0</td>\n",
              "      <td>1</td>\n",
              "      <td>1</td>\n",
              "      <td>0</td>\n",
              "      <td>0</td>\n",
              "      <td>2014</td>\n",
              "      <td>10</td>\n",
              "      <td>1</td>\n",
              "      <td>40</td>\n",
              "      <td>NaN</td>\n",
              "    </tr>\n",
              "    <tr>\n",
              "      <th>2014-09-22</th>\n",
              "      <td>357</td>\n",
              "      <td>1</td>\n",
              "      <td>0</td>\n",
              "      <td>0</td>\n",
              "      <td>1</td>\n",
              "      <td>0</td>\n",
              "      <td>0</td>\n",
              "      <td>0</td>\n",
              "      <td>2014</td>\n",
              "      <td>9</td>\n",
              "      <td>22</td>\n",
              "      <td>39</td>\n",
              "      <td>NaN</td>\n",
              "    </tr>\n",
              "  </tbody>\n",
              "</table>\n",
              "</div>"
            ],
            "text/plain": [
              "            Store  DayOfWeek  Sales  ...  Day  WeekOfYear  SalePerCustomer\n",
              "Date                                 ...                                  \n",
              "2015-05-15    971          5      0  ...   15          20              NaN\n",
              "2015-03-26    674          4      0  ...   26          13              NaN\n",
              "2015-02-05    699          4      0  ...    5           6              NaN\n",
              "2014-10-01    708          3      0  ...    1          40              NaN\n",
              "2014-09-22    357          1      0  ...   22          39              NaN\n",
              "\n",
              "[5 rows x 13 columns]"
            ]
          },
          "metadata": {
            "tags": []
          },
          "execution_count": 13
        }
      ]
    },
    {
      "cell_type": "markdown",
      "metadata": {
        "id": "Ed9Xfs5gccAv"
      },
      "source": [
        "Curiosamente, hay tiendas abiertas sin **ventas en días laborables**. Solo hay 54 días en los datos, por lo que podemos suponer que hubo factores externos involucrados, por ejemplo, manifestaciones."
      ]
    },
    {
      "cell_type": "code",
      "metadata": {
        "colab": {
          "base_uri": "https://localhost:8080/"
        },
        "id": "GvHIeBNcccAv",
        "outputId": "ba31d635-caae-4be1-fcfd-de34aec2fd7a"
      },
      "source": [
        "print(\"Las tiendas cerradas y los días que no tuvieron ventas no se contabilizarán en las previsiones.\")\n",
        "train = train[(train[\"Open\"] != 0) & (train['Sales'] != 0)]\n",
        "\n",
        "print(\"En total: \", train.shape)"
      ],
      "execution_count": null,
      "outputs": [
        {
          "output_type": "stream",
          "text": [
            "Closed stores and days which didn't have any sales won't be counted into the forecasts.\n",
            "In total:  (844338, 13)\n"
          ],
          "name": "stdout"
        }
      ]
    },
    {
      "cell_type": "markdown",
      "metadata": {
        "id": "QcUI5bB1ccAv"
      },
      "source": [
        "Que tal acerca de store information:"
      ]
    },
    {
      "cell_type": "code",
      "metadata": {
        "colab": {
          "base_uri": "https://localhost:8080/",
          "height": 224
        },
        "id": "QGQjpwG1ccAw",
        "outputId": "3603f504-0b5e-4f78-8717-7b7ed61f7227"
      },
      "source": [
        "# información adicional sobre las tiendas\n",
        "store.head()"
      ],
      "execution_count": null,
      "outputs": [
        {
          "output_type": "execute_result",
          "data": {
            "text/html": [
              "<div>\n",
              "<style scoped>\n",
              "    .dataframe tbody tr th:only-of-type {\n",
              "        vertical-align: middle;\n",
              "    }\n",
              "\n",
              "    .dataframe tbody tr th {\n",
              "        vertical-align: top;\n",
              "    }\n",
              "\n",
              "    .dataframe thead th {\n",
              "        text-align: right;\n",
              "    }\n",
              "</style>\n",
              "<table border=\"1\" class=\"dataframe\">\n",
              "  <thead>\n",
              "    <tr style=\"text-align: right;\">\n",
              "      <th></th>\n",
              "      <th>Store</th>\n",
              "      <th>StoreType</th>\n",
              "      <th>Assortment</th>\n",
              "      <th>CompetitionDistance</th>\n",
              "      <th>CompetitionOpenSinceMonth</th>\n",
              "      <th>CompetitionOpenSinceYear</th>\n",
              "      <th>Promo2</th>\n",
              "      <th>Promo2SinceWeek</th>\n",
              "      <th>Promo2SinceYear</th>\n",
              "      <th>PromoInterval</th>\n",
              "    </tr>\n",
              "  </thead>\n",
              "  <tbody>\n",
              "    <tr>\n",
              "      <th>0</th>\n",
              "      <td>1</td>\n",
              "      <td>c</td>\n",
              "      <td>a</td>\n",
              "      <td>1270.0</td>\n",
              "      <td>9.0</td>\n",
              "      <td>2008.0</td>\n",
              "      <td>0</td>\n",
              "      <td>NaN</td>\n",
              "      <td>NaN</td>\n",
              "      <td>NaN</td>\n",
              "    </tr>\n",
              "    <tr>\n",
              "      <th>1</th>\n",
              "      <td>2</td>\n",
              "      <td>a</td>\n",
              "      <td>a</td>\n",
              "      <td>570.0</td>\n",
              "      <td>11.0</td>\n",
              "      <td>2007.0</td>\n",
              "      <td>1</td>\n",
              "      <td>13.0</td>\n",
              "      <td>2010.0</td>\n",
              "      <td>Jan,Apr,Jul,Oct</td>\n",
              "    </tr>\n",
              "    <tr>\n",
              "      <th>2</th>\n",
              "      <td>3</td>\n",
              "      <td>a</td>\n",
              "      <td>a</td>\n",
              "      <td>14130.0</td>\n",
              "      <td>12.0</td>\n",
              "      <td>2006.0</td>\n",
              "      <td>1</td>\n",
              "      <td>14.0</td>\n",
              "      <td>2011.0</td>\n",
              "      <td>Jan,Apr,Jul,Oct</td>\n",
              "    </tr>\n",
              "    <tr>\n",
              "      <th>3</th>\n",
              "      <td>4</td>\n",
              "      <td>c</td>\n",
              "      <td>c</td>\n",
              "      <td>620.0</td>\n",
              "      <td>9.0</td>\n",
              "      <td>2009.0</td>\n",
              "      <td>0</td>\n",
              "      <td>NaN</td>\n",
              "      <td>NaN</td>\n",
              "      <td>NaN</td>\n",
              "    </tr>\n",
              "    <tr>\n",
              "      <th>4</th>\n",
              "      <td>5</td>\n",
              "      <td>a</td>\n",
              "      <td>a</td>\n",
              "      <td>29910.0</td>\n",
              "      <td>4.0</td>\n",
              "      <td>2015.0</td>\n",
              "      <td>0</td>\n",
              "      <td>NaN</td>\n",
              "      <td>NaN</td>\n",
              "      <td>NaN</td>\n",
              "    </tr>\n",
              "  </tbody>\n",
              "</table>\n",
              "</div>"
            ],
            "text/plain": [
              "   Store StoreType  ... Promo2SinceYear    PromoInterval\n",
              "0      1         c  ...             NaN              NaN\n",
              "1      2         a  ...          2010.0  Jan,Apr,Jul,Oct\n",
              "2      3         a  ...          2011.0  Jan,Apr,Jul,Oct\n",
              "3      4         c  ...             NaN              NaN\n",
              "4      5         a  ...             NaN              NaN\n",
              "\n",
              "[5 rows x 10 columns]"
            ]
          },
          "metadata": {
            "tags": []
          },
          "execution_count": 15
        }
      ]
    },
    {
      "cell_type": "markdown",
      "metadata": {
        "id": "lf8UcW6wccAw"
      },
      "source": [
        "- Store: Un id  unico para cada tienda\n",
        "- StoreType: diferencia entre 4 modelos de tienda diferentes: a, b, c, d\n",
        "- Assortment:describe un nivel de surtido: a = basic, b = extra, c = extended\n",
        "- CompetitionDistance: distancia en metros hasta la tienda competidora más cercana\n",
        "- CompetitionOpenSince[Month/Year]: da el año y el mes aproximados en que se abrió el competidor más cercano\n",
        "- Promo2: Promo2 es una promoción continua para algunas tiendas: 0 = la tienda no participa, 1 = la tienda participa\n",
        "- Promo2Since[Year/Week]: describe el año y la semana calendario en que la tienda comenzó a participar en Promo2\n",
        "- PromoInterval: describe los intervalos consecutivos en que se inicia Promo2, nombrando los meses en que se inicia la promoción. P.ej. \"Febrero, mayo, agosto, noviembre\" significa que cada ronda comienza en febrero, mayo, agosto, noviembre de cualquier año para esa tienda."
      ]
    },
    {
      "cell_type": "code",
      "metadata": {
        "colab": {
          "base_uri": "https://localhost:8080/"
        },
        "id": "qkffgSEvccAw",
        "outputId": "c489a22e-78b5-4f76-da2c-156f1617f6f0"
      },
      "source": [
        "# missing values?\n",
        "store.isnull().sum()"
      ],
      "execution_count": null,
      "outputs": [
        {
          "output_type": "execute_result",
          "data": {
            "text/plain": [
              "Store                          0\n",
              "StoreType                      0\n",
              "Assortment                     0\n",
              "CompetitionDistance            3\n",
              "CompetitionOpenSinceMonth    354\n",
              "CompetitionOpenSinceYear     354\n",
              "Promo2                         0\n",
              "Promo2SinceWeek              544\n",
              "Promo2SinceYear              544\n",
              "PromoInterval                544\n",
              "dtype: int64"
            ]
          },
          "metadata": {
            "tags": []
          },
          "execution_count": 16
        }
      ]
    },
    {
      "cell_type": "markdown",
      "metadata": {
        "id": "tZSUvzoaccAw"
      },
      "source": [
        "Tenemos pocas variables con valores perdidos con las que debemos lidiar. Empecemos por la distancia de competición."
      ]
    },
    {
      "cell_type": "code",
      "metadata": {
        "colab": {
          "base_uri": "https://localhost:8080/",
          "height": 162
        },
        "id": "aX6dSWHPccAx",
        "outputId": "d68b4908-ef78-4c1c-e1e3-8b238dbd918f"
      },
      "source": [
        "# missing values en CompetitionDistance\n",
        "store[pd.isnull(store.CompetitionDistance)]"
      ],
      "execution_count": null,
      "outputs": [
        {
          "output_type": "execute_result",
          "data": {
            "text/html": [
              "<div>\n",
              "<style scoped>\n",
              "    .dataframe tbody tr th:only-of-type {\n",
              "        vertical-align: middle;\n",
              "    }\n",
              "\n",
              "    .dataframe tbody tr th {\n",
              "        vertical-align: top;\n",
              "    }\n",
              "\n",
              "    .dataframe thead th {\n",
              "        text-align: right;\n",
              "    }\n",
              "</style>\n",
              "<table border=\"1\" class=\"dataframe\">\n",
              "  <thead>\n",
              "    <tr style=\"text-align: right;\">\n",
              "      <th></th>\n",
              "      <th>Store</th>\n",
              "      <th>StoreType</th>\n",
              "      <th>Assortment</th>\n",
              "      <th>CompetitionDistance</th>\n",
              "      <th>CompetitionOpenSinceMonth</th>\n",
              "      <th>CompetitionOpenSinceYear</th>\n",
              "      <th>Promo2</th>\n",
              "      <th>Promo2SinceWeek</th>\n",
              "      <th>Promo2SinceYear</th>\n",
              "      <th>PromoInterval</th>\n",
              "    </tr>\n",
              "  </thead>\n",
              "  <tbody>\n",
              "    <tr>\n",
              "      <th>290</th>\n",
              "      <td>291</td>\n",
              "      <td>d</td>\n",
              "      <td>a</td>\n",
              "      <td>NaN</td>\n",
              "      <td>NaN</td>\n",
              "      <td>NaN</td>\n",
              "      <td>0</td>\n",
              "      <td>NaN</td>\n",
              "      <td>NaN</td>\n",
              "      <td>NaN</td>\n",
              "    </tr>\n",
              "    <tr>\n",
              "      <th>621</th>\n",
              "      <td>622</td>\n",
              "      <td>a</td>\n",
              "      <td>c</td>\n",
              "      <td>NaN</td>\n",
              "      <td>NaN</td>\n",
              "      <td>NaN</td>\n",
              "      <td>0</td>\n",
              "      <td>NaN</td>\n",
              "      <td>NaN</td>\n",
              "      <td>NaN</td>\n",
              "    </tr>\n",
              "    <tr>\n",
              "      <th>878</th>\n",
              "      <td>879</td>\n",
              "      <td>d</td>\n",
              "      <td>a</td>\n",
              "      <td>NaN</td>\n",
              "      <td>NaN</td>\n",
              "      <td>NaN</td>\n",
              "      <td>1</td>\n",
              "      <td>5.0</td>\n",
              "      <td>2013.0</td>\n",
              "      <td>Feb,May,Aug,Nov</td>\n",
              "    </tr>\n",
              "  </tbody>\n",
              "</table>\n",
              "</div>"
            ],
            "text/plain": [
              "     Store StoreType  ... Promo2SinceYear    PromoInterval\n",
              "290    291         d  ...             NaN              NaN\n",
              "621    622         a  ...             NaN              NaN\n",
              "878    879         d  ...          2013.0  Feb,May,Aug,Nov\n",
              "\n",
              "[3 rows x 10 columns]"
            ]
          },
          "metadata": {
            "tags": []
          },
          "execution_count": 17
        }
      ]
    },
    {
      "cell_type": "markdown",
      "metadata": {
        "id": "LEVwuVkaccAx"
      },
      "source": [
        "Aparentemente, esta información simplemente falta en los datos. No se observó ningún patrón en particular. En este caso, tiene mucho sentido reemplazar NaN con los valores de la mediana (que es dos veces menor que el promedio)."
      ]
    },
    {
      "cell_type": "code",
      "metadata": {
        "id": "3f7mvOirccAx"
      },
      "source": [
        "# llenar NaN con un valor mediano (distribución sesgada)\n",
        "store['CompetitionDistance'].fillna(store['CompetitionDistance'].median(), inplace = True)"
      ],
      "execution_count": null,
      "outputs": []
    },
    {
      "cell_type": "markdown",
      "metadata": {
        "id": "K_sD4mM4ccAx"
      },
      "source": [
        "Continuando con los datos faltantes. ¿Qué pasa con Promo Since Week? ¿Será que observamos puntos de datos inusuales?"
      ]
    },
    {
      "cell_type": "code",
      "metadata": {
        "colab": {
          "base_uri": "https://localhost:8080/"
        },
        "id": "bFEtDY-1ccAx",
        "outputId": "1388bd6d-ba18-4b5c-c34f-48a644cb3cf2"
      },
      "source": [
        "# no promo = no information about the promo?\n",
        "_ = store[pd.isnull(store.Promo2SinceWeek)]\n",
        "_[_.Promo2 != 0].shape"
      ],
      "execution_count": null,
      "outputs": [
        {
          "output_type": "execute_result",
          "data": {
            "text/plain": [
              "(0, 10)"
            ]
          },
          "metadata": {
            "tags": []
          },
          "execution_count": 19
        }
      ]
    },
    {
      "cell_type": "markdown",
      "metadata": {
        "id": "tJuwohbpccAy"
      },
      "source": [
        "No, si no hay Promo2, no hay información al respecto. Podemos reemplazar estos valores por ceros. Lo mismo ocurre con las variables deducidas de la competencia, CompetitionOpenSinceMonth y CompetitionOpenSinceYear."
      ]
    },
    {
      "cell_type": "code",
      "metadata": {
        "id": "-VZpcNw-ccAy"
      },
      "source": [
        "# remplazar NA's con 0\n",
        "store.fillna(0, inplace = True)"
      ],
      "execution_count": null,
      "outputs": []
    },
    {
      "cell_type": "code",
      "metadata": {
        "colab": {
          "base_uri": "https://localhost:8080/",
          "height": 258
        },
        "id": "PzNsM_DzccAy",
        "outputId": "2da844e1-b29d-4983-ffab-120393a67c6e"
      },
      "source": [
        "print(\"Unirse al tren con información adicional de la tienda.\")\n",
        "\n",
        "\n",
        "train_store = pd.merge(train, store, how = 'inner', on = 'Store')\n",
        "\n",
        "print(\"En total: \", train_store.shape)\n",
        "train_store.head()"
      ],
      "execution_count": null,
      "outputs": [
        {
          "output_type": "stream",
          "text": [
            "Joining train set with an additional store information.\n",
            "In total:  (844338, 22)\n"
          ],
          "name": "stdout"
        },
        {
          "output_type": "execute_result",
          "data": {
            "text/html": [
              "<div>\n",
              "<style scoped>\n",
              "    .dataframe tbody tr th:only-of-type {\n",
              "        vertical-align: middle;\n",
              "    }\n",
              "\n",
              "    .dataframe tbody tr th {\n",
              "        vertical-align: top;\n",
              "    }\n",
              "\n",
              "    .dataframe thead th {\n",
              "        text-align: right;\n",
              "    }\n",
              "</style>\n",
              "<table border=\"1\" class=\"dataframe\">\n",
              "  <thead>\n",
              "    <tr style=\"text-align: right;\">\n",
              "      <th></th>\n",
              "      <th>Store</th>\n",
              "      <th>DayOfWeek</th>\n",
              "      <th>Sales</th>\n",
              "      <th>Customers</th>\n",
              "      <th>Open</th>\n",
              "      <th>Promo</th>\n",
              "      <th>StateHoliday</th>\n",
              "      <th>SchoolHoliday</th>\n",
              "      <th>Year</th>\n",
              "      <th>Month</th>\n",
              "      <th>Day</th>\n",
              "      <th>WeekOfYear</th>\n",
              "      <th>SalePerCustomer</th>\n",
              "      <th>StoreType</th>\n",
              "      <th>Assortment</th>\n",
              "      <th>CompetitionDistance</th>\n",
              "      <th>CompetitionOpenSinceMonth</th>\n",
              "      <th>CompetitionOpenSinceYear</th>\n",
              "      <th>Promo2</th>\n",
              "      <th>Promo2SinceWeek</th>\n",
              "      <th>Promo2SinceYear</th>\n",
              "      <th>PromoInterval</th>\n",
              "    </tr>\n",
              "  </thead>\n",
              "  <tbody>\n",
              "    <tr>\n",
              "      <th>0</th>\n",
              "      <td>1</td>\n",
              "      <td>5</td>\n",
              "      <td>5263</td>\n",
              "      <td>555</td>\n",
              "      <td>1</td>\n",
              "      <td>1</td>\n",
              "      <td>0</td>\n",
              "      <td>1</td>\n",
              "      <td>2015</td>\n",
              "      <td>7</td>\n",
              "      <td>31</td>\n",
              "      <td>31</td>\n",
              "      <td>9.482883</td>\n",
              "      <td>c</td>\n",
              "      <td>a</td>\n",
              "      <td>1270.0</td>\n",
              "      <td>9.0</td>\n",
              "      <td>2008.0</td>\n",
              "      <td>0</td>\n",
              "      <td>0.0</td>\n",
              "      <td>0.0</td>\n",
              "      <td>0</td>\n",
              "    </tr>\n",
              "    <tr>\n",
              "      <th>1</th>\n",
              "      <td>1</td>\n",
              "      <td>4</td>\n",
              "      <td>5020</td>\n",
              "      <td>546</td>\n",
              "      <td>1</td>\n",
              "      <td>1</td>\n",
              "      <td>0</td>\n",
              "      <td>1</td>\n",
              "      <td>2015</td>\n",
              "      <td>7</td>\n",
              "      <td>30</td>\n",
              "      <td>31</td>\n",
              "      <td>9.194139</td>\n",
              "      <td>c</td>\n",
              "      <td>a</td>\n",
              "      <td>1270.0</td>\n",
              "      <td>9.0</td>\n",
              "      <td>2008.0</td>\n",
              "      <td>0</td>\n",
              "      <td>0.0</td>\n",
              "      <td>0.0</td>\n",
              "      <td>0</td>\n",
              "    </tr>\n",
              "    <tr>\n",
              "      <th>2</th>\n",
              "      <td>1</td>\n",
              "      <td>3</td>\n",
              "      <td>4782</td>\n",
              "      <td>523</td>\n",
              "      <td>1</td>\n",
              "      <td>1</td>\n",
              "      <td>0</td>\n",
              "      <td>1</td>\n",
              "      <td>2015</td>\n",
              "      <td>7</td>\n",
              "      <td>29</td>\n",
              "      <td>31</td>\n",
              "      <td>9.143403</td>\n",
              "      <td>c</td>\n",
              "      <td>a</td>\n",
              "      <td>1270.0</td>\n",
              "      <td>9.0</td>\n",
              "      <td>2008.0</td>\n",
              "      <td>0</td>\n",
              "      <td>0.0</td>\n",
              "      <td>0.0</td>\n",
              "      <td>0</td>\n",
              "    </tr>\n",
              "    <tr>\n",
              "      <th>3</th>\n",
              "      <td>1</td>\n",
              "      <td>2</td>\n",
              "      <td>5011</td>\n",
              "      <td>560</td>\n",
              "      <td>1</td>\n",
              "      <td>1</td>\n",
              "      <td>0</td>\n",
              "      <td>1</td>\n",
              "      <td>2015</td>\n",
              "      <td>7</td>\n",
              "      <td>28</td>\n",
              "      <td>31</td>\n",
              "      <td>8.948214</td>\n",
              "      <td>c</td>\n",
              "      <td>a</td>\n",
              "      <td>1270.0</td>\n",
              "      <td>9.0</td>\n",
              "      <td>2008.0</td>\n",
              "      <td>0</td>\n",
              "      <td>0.0</td>\n",
              "      <td>0.0</td>\n",
              "      <td>0</td>\n",
              "    </tr>\n",
              "    <tr>\n",
              "      <th>4</th>\n",
              "      <td>1</td>\n",
              "      <td>1</td>\n",
              "      <td>6102</td>\n",
              "      <td>612</td>\n",
              "      <td>1</td>\n",
              "      <td>1</td>\n",
              "      <td>0</td>\n",
              "      <td>1</td>\n",
              "      <td>2015</td>\n",
              "      <td>7</td>\n",
              "      <td>27</td>\n",
              "      <td>31</td>\n",
              "      <td>9.970588</td>\n",
              "      <td>c</td>\n",
              "      <td>a</td>\n",
              "      <td>1270.0</td>\n",
              "      <td>9.0</td>\n",
              "      <td>2008.0</td>\n",
              "      <td>0</td>\n",
              "      <td>0.0</td>\n",
              "      <td>0.0</td>\n",
              "      <td>0</td>\n",
              "    </tr>\n",
              "  </tbody>\n",
              "</table>\n",
              "</div>"
            ],
            "text/plain": [
              "   Store  DayOfWeek  Sales  ...  Promo2SinceWeek  Promo2SinceYear  PromoInterval\n",
              "0      1          5   5263  ...              0.0              0.0              0\n",
              "1      1          4   5020  ...              0.0              0.0              0\n",
              "2      1          3   4782  ...              0.0              0.0              0\n",
              "3      1          2   5011  ...              0.0              0.0              0\n",
              "4      1          1   6102  ...              0.0              0.0              0\n",
              "\n",
              "[5 rows x 22 columns]"
            ]
          },
          "metadata": {
            "tags": []
          },
          "execution_count": 21
        }
      ]
    },
    {
      "cell_type": "markdown",
      "metadata": {
        "id": "EIxNhkEAccAz"
      },
      "source": [
        "## Store types\n",
        "En esta sección veremos de cerca los diferentes niveles de StoreType y cómo se distribuye la métrica principal Sales entre ellos."
      ]
    },
    {
      "cell_type": "code",
      "metadata": {
        "colab": {
          "base_uri": "https://localhost:8080/",
          "height": 204
        },
        "id": "iJ4Jc4I7ccAz",
        "outputId": "15ce17fb-bce4-44e7-cdaa-b509ca9b82b2"
      },
      "source": [
        "train_store.groupby('StoreType')['Sales'].describe()"
      ],
      "execution_count": null,
      "outputs": [
        {
          "output_type": "execute_result",
          "data": {
            "text/html": [
              "<div>\n",
              "<style scoped>\n",
              "    .dataframe tbody tr th:only-of-type {\n",
              "        vertical-align: middle;\n",
              "    }\n",
              "\n",
              "    .dataframe tbody tr th {\n",
              "        vertical-align: top;\n",
              "    }\n",
              "\n",
              "    .dataframe thead th {\n",
              "        text-align: right;\n",
              "    }\n",
              "</style>\n",
              "<table border=\"1\" class=\"dataframe\">\n",
              "  <thead>\n",
              "    <tr style=\"text-align: right;\">\n",
              "      <th></th>\n",
              "      <th>count</th>\n",
              "      <th>mean</th>\n",
              "      <th>std</th>\n",
              "      <th>min</th>\n",
              "      <th>25%</th>\n",
              "      <th>50%</th>\n",
              "      <th>75%</th>\n",
              "      <th>max</th>\n",
              "    </tr>\n",
              "    <tr>\n",
              "      <th>StoreType</th>\n",
              "      <th></th>\n",
              "      <th></th>\n",
              "      <th></th>\n",
              "      <th></th>\n",
              "      <th></th>\n",
              "      <th></th>\n",
              "      <th></th>\n",
              "      <th></th>\n",
              "    </tr>\n",
              "  </thead>\n",
              "  <tbody>\n",
              "    <tr>\n",
              "      <th>a</th>\n",
              "      <td>457042.0</td>\n",
              "      <td>6925.697986</td>\n",
              "      <td>3277.351589</td>\n",
              "      <td>46.0</td>\n",
              "      <td>4695.25</td>\n",
              "      <td>6285.0</td>\n",
              "      <td>8406.00</td>\n",
              "      <td>41551.0</td>\n",
              "    </tr>\n",
              "    <tr>\n",
              "      <th>b</th>\n",
              "      <td>15560.0</td>\n",
              "      <td>10233.380141</td>\n",
              "      <td>5155.729868</td>\n",
              "      <td>1252.0</td>\n",
              "      <td>6345.75</td>\n",
              "      <td>9130.0</td>\n",
              "      <td>13184.25</td>\n",
              "      <td>38722.0</td>\n",
              "    </tr>\n",
              "    <tr>\n",
              "      <th>c</th>\n",
              "      <td>112968.0</td>\n",
              "      <td>6933.126425</td>\n",
              "      <td>2896.958579</td>\n",
              "      <td>133.0</td>\n",
              "      <td>4916.00</td>\n",
              "      <td>6408.0</td>\n",
              "      <td>8349.25</td>\n",
              "      <td>31448.0</td>\n",
              "    </tr>\n",
              "    <tr>\n",
              "      <th>d</th>\n",
              "      <td>258768.0</td>\n",
              "      <td>6822.300064</td>\n",
              "      <td>2556.401455</td>\n",
              "      <td>538.0</td>\n",
              "      <td>5050.00</td>\n",
              "      <td>6395.0</td>\n",
              "      <td>8123.25</td>\n",
              "      <td>38037.0</td>\n",
              "    </tr>\n",
              "  </tbody>\n",
              "</table>\n",
              "</div>"
            ],
            "text/plain": [
              "              count          mean          std  ...     50%       75%      max\n",
              "StoreType                                       ...                           \n",
              "a          457042.0   6925.697986  3277.351589  ...  6285.0   8406.00  41551.0\n",
              "b           15560.0  10233.380141  5155.729868  ...  9130.0  13184.25  38722.0\n",
              "c          112968.0   6933.126425  2896.958579  ...  6408.0   8349.25  31448.0\n",
              "d          258768.0   6822.300064  2556.401455  ...  6395.0   8123.25  38037.0\n",
              "\n",
              "[4 rows x 8 columns]"
            ]
          },
          "metadata": {
            "tags": []
          },
          "execution_count": 22
        }
      ]
    },
    {
      "cell_type": "markdown",
      "metadata": {
        "id": "XM14axPwccAz"
      },
      "source": [
        "StoreType B tiene el promedio de ventas más alto entre todos los demás, sin embargo, tenemos muchos menos datos para él. Así que imprimamos una suma general de Ventas y Clientes para ver qué StoreType es el más vendido y concurrido:"
      ]
    },
    {
      "cell_type": "code",
      "metadata": {
        "colab": {
          "base_uri": "https://localhost:8080/",
          "height": 204
        },
        "id": "O-IO4eLVccAz",
        "outputId": "9dce76eb-22ae-4749-d072-7d9ac19fb3de"
      },
      "source": [
        "train_store.groupby('StoreType')['Customers', 'Sales'].sum()"
      ],
      "execution_count": null,
      "outputs": [
        {
          "output_type": "execute_result",
          "data": {
            "text/html": [
              "<div>\n",
              "<style scoped>\n",
              "    .dataframe tbody tr th:only-of-type {\n",
              "        vertical-align: middle;\n",
              "    }\n",
              "\n",
              "    .dataframe tbody tr th {\n",
              "        vertical-align: top;\n",
              "    }\n",
              "\n",
              "    .dataframe thead th {\n",
              "        text-align: right;\n",
              "    }\n",
              "</style>\n",
              "<table border=\"1\" class=\"dataframe\">\n",
              "  <thead>\n",
              "    <tr style=\"text-align: right;\">\n",
              "      <th></th>\n",
              "      <th>Customers</th>\n",
              "      <th>Sales</th>\n",
              "    </tr>\n",
              "    <tr>\n",
              "      <th>StoreType</th>\n",
              "      <th></th>\n",
              "      <th></th>\n",
              "    </tr>\n",
              "  </thead>\n",
              "  <tbody>\n",
              "    <tr>\n",
              "      <th>a</th>\n",
              "      <td>363541431</td>\n",
              "      <td>3165334859</td>\n",
              "    </tr>\n",
              "    <tr>\n",
              "      <th>b</th>\n",
              "      <td>31465616</td>\n",
              "      <td>159231395</td>\n",
              "    </tr>\n",
              "    <tr>\n",
              "      <th>c</th>\n",
              "      <td>92129705</td>\n",
              "      <td>783221426</td>\n",
              "    </tr>\n",
              "    <tr>\n",
              "      <th>d</th>\n",
              "      <td>156904995</td>\n",
              "      <td>1765392943</td>\n",
              "    </tr>\n",
              "  </tbody>\n",
              "</table>\n",
              "</div>"
            ],
            "text/plain": [
              "           Customers       Sales\n",
              "StoreType                       \n",
              "a          363541431  3165334859\n",
              "b           31465616   159231395\n",
              "c           92129705   783221426\n",
              "d          156904995  1765392943"
            ]
          },
          "metadata": {
            "tags": []
          },
          "execution_count": 23
        }
      ]
    },
    {
      "cell_type": "markdown",
      "metadata": {
        "id": "w7RHTJZcccAz"
      },
      "source": [
        "Claramente, las tiendas de tipo A. StoreType D ocupa el segundo lugar tanto en Ventas como en Clientes. ¿Qué pasa con los períodos de fechas? La cuadrícula de facetas de Seaborn es la mejor herramienta para esta tarea:"
      ]
    },
    {
      "cell_type": "markdown",
      "metadata": {
        "id": "irOP4xhjccA0"
      },
      "source": [
        "## Regression XGBoost\n",
        "\n",
        "[XGBoost](https://github.com/dmlc/xgboost/blob/master/doc/model.md) es la implementacion deGradient Boosted Decision trees diseñado para mejor velocidad y performance. Su nombre completo es [regularized Gradient Boosting](http://datascience.la/xgboost-workshop-and-meetup-talk-with-tianqi-chen/), debido a que usa un modelo regularizadopara controlar el over-fitting.\n",
        "\n",
        "Ventajas adicionales del algoritmo:\n",
        "- Manejo automatizado de valores perdidos: XGB usa un \"learned\" con una especificacion para missing values. \"Learned\" implica aprender en la construccion del arbol mediante el proceso de elegir la mejor direccion que optimiza el training loss.\n",
        "- Análisis de características interactivo (aún implementado solo en R): traza la estructura de los árboles de decisión con divisiones y hojas.\n",
        "- Análisis de importancia de características: un diagrama de barras ordenado de las variables más significativas.\n",
        "\n",
        "<div class = \"alert alert-block alert-info\"> Como ya vimos en la sección anterior, nuestros datos son altamente estacionales y no aleatorios (dependientes). Por lo tanto, antes de ajustar cualquier modelo, necesitamos \"suavizar\" las ventas de la variable objetivo. El paso de preprocesamiento típico consiste en registrar la transformación de los datos en cuestión. Una vez que realicemos las proyecciones, elimainaremos las transformaciones logarítmicas en orden inverso </div>"
      ]
    },
    {
      "cell_type": "markdown",
      "metadata": {
        "id": "wB8cIcyXccA0"
      },
      "source": [
        "## Quick Run through"
      ]
    },
    {
      "cell_type": "code",
      "metadata": {
        "colab": {
          "base_uri": "https://localhost:8080/",
          "height": 235
        },
        "id": "WZj-4l5YccA0",
        "outputId": "ece05fb5-4b7a-40fb-e25e-4d8d9162a96a"
      },
      "source": [
        "# tPara predecir\n",
        "test = pd.read_csv(\"test.csv\", \n",
        "                    parse_dates = True, low_memory = False, index_col = 'Date')\n",
        "test.head()"
      ],
      "execution_count": null,
      "outputs": [
        {
          "output_type": "execute_result",
          "data": {
            "text/html": [
              "<div>\n",
              "<style scoped>\n",
              "    .dataframe tbody tr th:only-of-type {\n",
              "        vertical-align: middle;\n",
              "    }\n",
              "\n",
              "    .dataframe tbody tr th {\n",
              "        vertical-align: top;\n",
              "    }\n",
              "\n",
              "    .dataframe thead th {\n",
              "        text-align: right;\n",
              "    }\n",
              "</style>\n",
              "<table border=\"1\" class=\"dataframe\">\n",
              "  <thead>\n",
              "    <tr style=\"text-align: right;\">\n",
              "      <th></th>\n",
              "      <th>Id</th>\n",
              "      <th>Store</th>\n",
              "      <th>DayOfWeek</th>\n",
              "      <th>Open</th>\n",
              "      <th>Promo</th>\n",
              "      <th>StateHoliday</th>\n",
              "      <th>SchoolHoliday</th>\n",
              "    </tr>\n",
              "    <tr>\n",
              "      <th>Date</th>\n",
              "      <th></th>\n",
              "      <th></th>\n",
              "      <th></th>\n",
              "      <th></th>\n",
              "      <th></th>\n",
              "      <th></th>\n",
              "      <th></th>\n",
              "    </tr>\n",
              "  </thead>\n",
              "  <tbody>\n",
              "    <tr>\n",
              "      <th>2015-09-17</th>\n",
              "      <td>1</td>\n",
              "      <td>1</td>\n",
              "      <td>4</td>\n",
              "      <td>1.0</td>\n",
              "      <td>1</td>\n",
              "      <td>0</td>\n",
              "      <td>0</td>\n",
              "    </tr>\n",
              "    <tr>\n",
              "      <th>2015-09-17</th>\n",
              "      <td>2</td>\n",
              "      <td>3</td>\n",
              "      <td>4</td>\n",
              "      <td>1.0</td>\n",
              "      <td>1</td>\n",
              "      <td>0</td>\n",
              "      <td>0</td>\n",
              "    </tr>\n",
              "    <tr>\n",
              "      <th>2015-09-17</th>\n",
              "      <td>3</td>\n",
              "      <td>7</td>\n",
              "      <td>4</td>\n",
              "      <td>1.0</td>\n",
              "      <td>1</td>\n",
              "      <td>0</td>\n",
              "      <td>0</td>\n",
              "    </tr>\n",
              "    <tr>\n",
              "      <th>2015-09-17</th>\n",
              "      <td>4</td>\n",
              "      <td>8</td>\n",
              "      <td>4</td>\n",
              "      <td>1.0</td>\n",
              "      <td>1</td>\n",
              "      <td>0</td>\n",
              "      <td>0</td>\n",
              "    </tr>\n",
              "    <tr>\n",
              "      <th>2015-09-17</th>\n",
              "      <td>5</td>\n",
              "      <td>9</td>\n",
              "      <td>4</td>\n",
              "      <td>1.0</td>\n",
              "      <td>1</td>\n",
              "      <td>0</td>\n",
              "      <td>0</td>\n",
              "    </tr>\n",
              "  </tbody>\n",
              "</table>\n",
              "</div>"
            ],
            "text/plain": [
              "            Id  Store  DayOfWeek  Open  Promo StateHoliday  SchoolHoliday\n",
              "Date                                                                     \n",
              "2015-09-17   1      1          4   1.0      1            0              0\n",
              "2015-09-17   2      3          4   1.0      1            0              0\n",
              "2015-09-17   3      7          4   1.0      1            0              0\n",
              "2015-09-17   4      8          4   1.0      1            0              0\n",
              "2015-09-17   5      9          4   1.0      1            0              0"
            ]
          },
          "metadata": {
            "tags": []
          },
          "execution_count": 24
        }
      ]
    },
    {
      "cell_type": "markdown",
      "metadata": {
        "id": "HLqCuPV4ccA1"
      },
      "source": [
        "La variable Id representa un dúplex (Store, Date) dentro del conjunto de prueba."
      ]
    },
    {
      "cell_type": "code",
      "metadata": {
        "colab": {
          "base_uri": "https://localhost:8080/"
        },
        "id": "Ax4cSA4NccA1",
        "outputId": "037fb3aa-6d71-45ea-87ec-2a2d200679f9"
      },
      "source": [
        "# test: missing values?\n",
        "test.isnull().sum()"
      ],
      "execution_count": null,
      "outputs": [
        {
          "output_type": "execute_result",
          "data": {
            "text/plain": [
              "Id                0\n",
              "Store             0\n",
              "DayOfWeek         0\n",
              "Open             11\n",
              "Promo             0\n",
              "StateHoliday      0\n",
              "SchoolHoliday     0\n",
              "dtype: int64"
            ]
          },
          "metadata": {
            "tags": []
          },
          "execution_count": 25
        }
      ]
    },
    {
      "cell_type": "code",
      "metadata": {
        "colab": {
          "base_uri": "https://localhost:8080/",
          "height": 421
        },
        "id": "pyiVCzg7ccA1",
        "outputId": "82cf5d4a-1727-4c38-bee0-3b380f3a2c96"
      },
      "source": [
        "test[pd.isnull(test.Open)]"
      ],
      "execution_count": null,
      "outputs": [
        {
          "output_type": "execute_result",
          "data": {
            "text/html": [
              "<div>\n",
              "<style scoped>\n",
              "    .dataframe tbody tr th:only-of-type {\n",
              "        vertical-align: middle;\n",
              "    }\n",
              "\n",
              "    .dataframe tbody tr th {\n",
              "        vertical-align: top;\n",
              "    }\n",
              "\n",
              "    .dataframe thead th {\n",
              "        text-align: right;\n",
              "    }\n",
              "</style>\n",
              "<table border=\"1\" class=\"dataframe\">\n",
              "  <thead>\n",
              "    <tr style=\"text-align: right;\">\n",
              "      <th></th>\n",
              "      <th>Id</th>\n",
              "      <th>Store</th>\n",
              "      <th>DayOfWeek</th>\n",
              "      <th>Open</th>\n",
              "      <th>Promo</th>\n",
              "      <th>StateHoliday</th>\n",
              "      <th>SchoolHoliday</th>\n",
              "    </tr>\n",
              "    <tr>\n",
              "      <th>Date</th>\n",
              "      <th></th>\n",
              "      <th></th>\n",
              "      <th></th>\n",
              "      <th></th>\n",
              "      <th></th>\n",
              "      <th></th>\n",
              "      <th></th>\n",
              "    </tr>\n",
              "  </thead>\n",
              "  <tbody>\n",
              "    <tr>\n",
              "      <th>2015-09-17</th>\n",
              "      <td>480</td>\n",
              "      <td>622</td>\n",
              "      <td>4</td>\n",
              "      <td>NaN</td>\n",
              "      <td>1</td>\n",
              "      <td>0</td>\n",
              "      <td>0</td>\n",
              "    </tr>\n",
              "    <tr>\n",
              "      <th>2015-09-16</th>\n",
              "      <td>1336</td>\n",
              "      <td>622</td>\n",
              "      <td>3</td>\n",
              "      <td>NaN</td>\n",
              "      <td>1</td>\n",
              "      <td>0</td>\n",
              "      <td>0</td>\n",
              "    </tr>\n",
              "    <tr>\n",
              "      <th>2015-09-15</th>\n",
              "      <td>2192</td>\n",
              "      <td>622</td>\n",
              "      <td>2</td>\n",
              "      <td>NaN</td>\n",
              "      <td>1</td>\n",
              "      <td>0</td>\n",
              "      <td>0</td>\n",
              "    </tr>\n",
              "    <tr>\n",
              "      <th>2015-09-14</th>\n",
              "      <td>3048</td>\n",
              "      <td>622</td>\n",
              "      <td>1</td>\n",
              "      <td>NaN</td>\n",
              "      <td>1</td>\n",
              "      <td>0</td>\n",
              "      <td>0</td>\n",
              "    </tr>\n",
              "    <tr>\n",
              "      <th>2015-09-12</th>\n",
              "      <td>4760</td>\n",
              "      <td>622</td>\n",
              "      <td>6</td>\n",
              "      <td>NaN</td>\n",
              "      <td>0</td>\n",
              "      <td>0</td>\n",
              "      <td>0</td>\n",
              "    </tr>\n",
              "    <tr>\n",
              "      <th>2015-09-11</th>\n",
              "      <td>5616</td>\n",
              "      <td>622</td>\n",
              "      <td>5</td>\n",
              "      <td>NaN</td>\n",
              "      <td>0</td>\n",
              "      <td>0</td>\n",
              "      <td>0</td>\n",
              "    </tr>\n",
              "    <tr>\n",
              "      <th>2015-09-10</th>\n",
              "      <td>6472</td>\n",
              "      <td>622</td>\n",
              "      <td>4</td>\n",
              "      <td>NaN</td>\n",
              "      <td>0</td>\n",
              "      <td>0</td>\n",
              "      <td>0</td>\n",
              "    </tr>\n",
              "    <tr>\n",
              "      <th>2015-09-09</th>\n",
              "      <td>7328</td>\n",
              "      <td>622</td>\n",
              "      <td>3</td>\n",
              "      <td>NaN</td>\n",
              "      <td>0</td>\n",
              "      <td>0</td>\n",
              "      <td>0</td>\n",
              "    </tr>\n",
              "    <tr>\n",
              "      <th>2015-09-08</th>\n",
              "      <td>8184</td>\n",
              "      <td>622</td>\n",
              "      <td>2</td>\n",
              "      <td>NaN</td>\n",
              "      <td>0</td>\n",
              "      <td>0</td>\n",
              "      <td>0</td>\n",
              "    </tr>\n",
              "    <tr>\n",
              "      <th>2015-09-07</th>\n",
              "      <td>9040</td>\n",
              "      <td>622</td>\n",
              "      <td>1</td>\n",
              "      <td>NaN</td>\n",
              "      <td>0</td>\n",
              "      <td>0</td>\n",
              "      <td>0</td>\n",
              "    </tr>\n",
              "    <tr>\n",
              "      <th>2015-09-05</th>\n",
              "      <td>10752</td>\n",
              "      <td>622</td>\n",
              "      <td>6</td>\n",
              "      <td>NaN</td>\n",
              "      <td>0</td>\n",
              "      <td>0</td>\n",
              "      <td>0</td>\n",
              "    </tr>\n",
              "  </tbody>\n",
              "</table>\n",
              "</div>"
            ],
            "text/plain": [
              "               Id  Store  DayOfWeek  Open  Promo StateHoliday  SchoolHoliday\n",
              "Date                                                                        \n",
              "2015-09-17    480    622          4   NaN      1            0              0\n",
              "2015-09-16   1336    622          3   NaN      1            0              0\n",
              "2015-09-15   2192    622          2   NaN      1            0              0\n",
              "2015-09-14   3048    622          1   NaN      1            0              0\n",
              "2015-09-12   4760    622          6   NaN      0            0              0\n",
              "2015-09-11   5616    622          5   NaN      0            0              0\n",
              "2015-09-10   6472    622          4   NaN      0            0              0\n",
              "2015-09-09   7328    622          3   NaN      0            0              0\n",
              "2015-09-08   8184    622          2   NaN      0            0              0\n",
              "2015-09-07   9040    622          1   NaN      0            0              0\n",
              "2015-09-05  10752    622          6   NaN      0            0              0"
            ]
          },
          "metadata": {
            "tags": []
          },
          "execution_count": 26
        }
      ]
    },
    {
      "cell_type": "markdown",
      "metadata": {
        "id": "233Y58Z0ccA1"
      },
      "source": [
        "Vemos que estas tiendas deberían estar abiertas normalmente. Supongamos que lo son entonces."
      ]
    },
    {
      "cell_type": "code",
      "metadata": {
        "id": "ne2sua6NccA2"
      },
      "source": [
        "# replace NA's en Open variable con 1\n",
        "test.fillna(1, inplace = True)"
      ],
      "execution_count": null,
      "outputs": []
    },
    {
      "cell_type": "markdown",
      "metadata": {
        "id": "aHkBcpBgccA2"
      },
      "source": [
        "### Data Encoding\n",
        "\n",
        "XGBoost no admite nada más que números. Entonces, antes de modelar, necesitamos codificar ciertas variables de factores en fechas numéricas más extraídas como lo hicimos antes para el conjunto train."
      ]
    },
    {
      "cell_type": "code",
      "metadata": {
        "id": "QzqJjzjGccA2"
      },
      "source": [
        "# data extraction\n",
        "test['Year'] = test.index.year\n",
        "test['Month'] = test.index.month\n",
        "test['Day'] = test.index.day\n",
        "test['WeekOfYear'] = test.index.weekofyear\n",
        "\n",
        "# to numerical\n",
        "mappings = {'0':0, 'a':1, 'b':2, 'c':3, 'd':4}\n",
        "test.StateHoliday.replace(mappings, inplace = True)\n",
        "\n",
        "train_store.Assortment.replace(mappings, inplace = True)\n",
        "train_store.StoreType.replace(mappings, inplace = True)\n",
        "train_store.StateHoliday.replace(mappings, inplace = True)\n",
        "train_store.drop('PromoInterval', axis = 1, inplace = True)\n",
        "\n",
        "store.StoreType.replace(mappings, inplace = True)\n",
        "store.Assortment.replace(mappings, inplace = True)\n",
        "store.drop('PromoInterval', axis = 1, inplace = True)"
      ],
      "execution_count": null,
      "outputs": []
    },
    {
      "cell_type": "markdown",
      "metadata": {
        "id": "Tzb2YXSNccA2"
      },
      "source": [
        "Volviendo a los datos de train_store:"
      ]
    },
    {
      "cell_type": "code",
      "metadata": {
        "colab": {
          "base_uri": "https://localhost:8080/",
          "height": 224
        },
        "id": "r7kMtj81ccA2",
        "outputId": "8dbb5158-e1c5-4092-f677-22a0a48112a1"
      },
      "source": [
        "# take a look on the train and store again\n",
        "train_store.head()"
      ],
      "execution_count": null,
      "outputs": [
        {
          "output_type": "execute_result",
          "data": {
            "text/html": [
              "<div>\n",
              "<style scoped>\n",
              "    .dataframe tbody tr th:only-of-type {\n",
              "        vertical-align: middle;\n",
              "    }\n",
              "\n",
              "    .dataframe tbody tr th {\n",
              "        vertical-align: top;\n",
              "    }\n",
              "\n",
              "    .dataframe thead th {\n",
              "        text-align: right;\n",
              "    }\n",
              "</style>\n",
              "<table border=\"1\" class=\"dataframe\">\n",
              "  <thead>\n",
              "    <tr style=\"text-align: right;\">\n",
              "      <th></th>\n",
              "      <th>Store</th>\n",
              "      <th>DayOfWeek</th>\n",
              "      <th>Sales</th>\n",
              "      <th>Customers</th>\n",
              "      <th>Open</th>\n",
              "      <th>Promo</th>\n",
              "      <th>StateHoliday</th>\n",
              "      <th>SchoolHoliday</th>\n",
              "      <th>Year</th>\n",
              "      <th>Month</th>\n",
              "      <th>Day</th>\n",
              "      <th>WeekOfYear</th>\n",
              "      <th>SalePerCustomer</th>\n",
              "      <th>StoreType</th>\n",
              "      <th>Assortment</th>\n",
              "      <th>CompetitionDistance</th>\n",
              "      <th>CompetitionOpenSinceMonth</th>\n",
              "      <th>CompetitionOpenSinceYear</th>\n",
              "      <th>Promo2</th>\n",
              "      <th>Promo2SinceWeek</th>\n",
              "      <th>Promo2SinceYear</th>\n",
              "    </tr>\n",
              "  </thead>\n",
              "  <tbody>\n",
              "    <tr>\n",
              "      <th>0</th>\n",
              "      <td>1</td>\n",
              "      <td>5</td>\n",
              "      <td>5263</td>\n",
              "      <td>555</td>\n",
              "      <td>1</td>\n",
              "      <td>1</td>\n",
              "      <td>0</td>\n",
              "      <td>1</td>\n",
              "      <td>2015</td>\n",
              "      <td>7</td>\n",
              "      <td>31</td>\n",
              "      <td>31</td>\n",
              "      <td>9.482883</td>\n",
              "      <td>3</td>\n",
              "      <td>1</td>\n",
              "      <td>1270.0</td>\n",
              "      <td>9.0</td>\n",
              "      <td>2008.0</td>\n",
              "      <td>0</td>\n",
              "      <td>0.0</td>\n",
              "      <td>0.0</td>\n",
              "    </tr>\n",
              "    <tr>\n",
              "      <th>1</th>\n",
              "      <td>1</td>\n",
              "      <td>4</td>\n",
              "      <td>5020</td>\n",
              "      <td>546</td>\n",
              "      <td>1</td>\n",
              "      <td>1</td>\n",
              "      <td>0</td>\n",
              "      <td>1</td>\n",
              "      <td>2015</td>\n",
              "      <td>7</td>\n",
              "      <td>30</td>\n",
              "      <td>31</td>\n",
              "      <td>9.194139</td>\n",
              "      <td>3</td>\n",
              "      <td>1</td>\n",
              "      <td>1270.0</td>\n",
              "      <td>9.0</td>\n",
              "      <td>2008.0</td>\n",
              "      <td>0</td>\n",
              "      <td>0.0</td>\n",
              "      <td>0.0</td>\n",
              "    </tr>\n",
              "    <tr>\n",
              "      <th>2</th>\n",
              "      <td>1</td>\n",
              "      <td>3</td>\n",
              "      <td>4782</td>\n",
              "      <td>523</td>\n",
              "      <td>1</td>\n",
              "      <td>1</td>\n",
              "      <td>0</td>\n",
              "      <td>1</td>\n",
              "      <td>2015</td>\n",
              "      <td>7</td>\n",
              "      <td>29</td>\n",
              "      <td>31</td>\n",
              "      <td>9.143403</td>\n",
              "      <td>3</td>\n",
              "      <td>1</td>\n",
              "      <td>1270.0</td>\n",
              "      <td>9.0</td>\n",
              "      <td>2008.0</td>\n",
              "      <td>0</td>\n",
              "      <td>0.0</td>\n",
              "      <td>0.0</td>\n",
              "    </tr>\n",
              "    <tr>\n",
              "      <th>3</th>\n",
              "      <td>1</td>\n",
              "      <td>2</td>\n",
              "      <td>5011</td>\n",
              "      <td>560</td>\n",
              "      <td>1</td>\n",
              "      <td>1</td>\n",
              "      <td>0</td>\n",
              "      <td>1</td>\n",
              "      <td>2015</td>\n",
              "      <td>7</td>\n",
              "      <td>28</td>\n",
              "      <td>31</td>\n",
              "      <td>8.948214</td>\n",
              "      <td>3</td>\n",
              "      <td>1</td>\n",
              "      <td>1270.0</td>\n",
              "      <td>9.0</td>\n",
              "      <td>2008.0</td>\n",
              "      <td>0</td>\n",
              "      <td>0.0</td>\n",
              "      <td>0.0</td>\n",
              "    </tr>\n",
              "    <tr>\n",
              "      <th>4</th>\n",
              "      <td>1</td>\n",
              "      <td>1</td>\n",
              "      <td>6102</td>\n",
              "      <td>612</td>\n",
              "      <td>1</td>\n",
              "      <td>1</td>\n",
              "      <td>0</td>\n",
              "      <td>1</td>\n",
              "      <td>2015</td>\n",
              "      <td>7</td>\n",
              "      <td>27</td>\n",
              "      <td>31</td>\n",
              "      <td>9.970588</td>\n",
              "      <td>3</td>\n",
              "      <td>1</td>\n",
              "      <td>1270.0</td>\n",
              "      <td>9.0</td>\n",
              "      <td>2008.0</td>\n",
              "      <td>0</td>\n",
              "      <td>0.0</td>\n",
              "      <td>0.0</td>\n",
              "    </tr>\n",
              "  </tbody>\n",
              "</table>\n",
              "</div>"
            ],
            "text/plain": [
              "   Store  DayOfWeek  Sales  ...  Promo2  Promo2SinceWeek  Promo2SinceYear\n",
              "0      1          5   5263  ...       0              0.0              0.0\n",
              "1      1          4   5020  ...       0              0.0              0.0\n",
              "2      1          3   4782  ...       0              0.0              0.0\n",
              "3      1          2   5011  ...       0              0.0              0.0\n",
              "4      1          1   6102  ...       0              0.0              0.0\n",
              "\n",
              "[5 rows x 21 columns]"
            ]
          },
          "metadata": {
            "tags": []
          },
          "execution_count": 29
        }
      ]
    },
    {
      "cell_type": "markdown",
      "metadata": {
        "id": "5U-C_ZYsccA3"
      },
      "source": [
        "Combinemos datos de prueba y almacenamiento también:"
      ]
    },
    {
      "cell_type": "code",
      "metadata": {
        "colab": {
          "base_uri": "https://localhost:8080/",
          "height": 258
        },
        "id": "WieepL-lccA3",
        "outputId": "b79aaf4c-e5fc-41c5-99d4-cb957a96897b"
      },
      "source": [
        "print(\"Joining test set with an additional store information.\")\n",
        "test_store = pd.merge(test, store, how = 'inner', on = 'Store')\n",
        "\n",
        "test_store['CompetitionOpen'] = 12 * (test_store.Year - test_store.CompetitionOpenSinceYear) + (test_store.Month - test_store.CompetitionOpenSinceMonth)\n",
        "test_store['PromoOpen'] = 12 * (test_store.Year - test_store.Promo2SinceYear) + (test_store.WeekOfYear - test_store.Promo2SinceWeek) / 4.0\n",
        "\n",
        "print(\"In total: \", test_store.shape)\n",
        "test_store.head()"
      ],
      "execution_count": null,
      "outputs": [
        {
          "output_type": "stream",
          "text": [
            "Joining test set with an additional store information.\n",
            "In total:  (41088, 21)\n"
          ],
          "name": "stdout"
        },
        {
          "output_type": "execute_result",
          "data": {
            "text/html": [
              "<div>\n",
              "<style scoped>\n",
              "    .dataframe tbody tr th:only-of-type {\n",
              "        vertical-align: middle;\n",
              "    }\n",
              "\n",
              "    .dataframe tbody tr th {\n",
              "        vertical-align: top;\n",
              "    }\n",
              "\n",
              "    .dataframe thead th {\n",
              "        text-align: right;\n",
              "    }\n",
              "</style>\n",
              "<table border=\"1\" class=\"dataframe\">\n",
              "  <thead>\n",
              "    <tr style=\"text-align: right;\">\n",
              "      <th></th>\n",
              "      <th>Id</th>\n",
              "      <th>Store</th>\n",
              "      <th>DayOfWeek</th>\n",
              "      <th>Open</th>\n",
              "      <th>Promo</th>\n",
              "      <th>StateHoliday</th>\n",
              "      <th>SchoolHoliday</th>\n",
              "      <th>Year</th>\n",
              "      <th>Month</th>\n",
              "      <th>Day</th>\n",
              "      <th>WeekOfYear</th>\n",
              "      <th>StoreType</th>\n",
              "      <th>Assortment</th>\n",
              "      <th>CompetitionDistance</th>\n",
              "      <th>CompetitionOpenSinceMonth</th>\n",
              "      <th>CompetitionOpenSinceYear</th>\n",
              "      <th>Promo2</th>\n",
              "      <th>Promo2SinceWeek</th>\n",
              "      <th>Promo2SinceYear</th>\n",
              "      <th>CompetitionOpen</th>\n",
              "      <th>PromoOpen</th>\n",
              "    </tr>\n",
              "  </thead>\n",
              "  <tbody>\n",
              "    <tr>\n",
              "      <th>0</th>\n",
              "      <td>1</td>\n",
              "      <td>1</td>\n",
              "      <td>4</td>\n",
              "      <td>1.0</td>\n",
              "      <td>1</td>\n",
              "      <td>0</td>\n",
              "      <td>0</td>\n",
              "      <td>2015</td>\n",
              "      <td>9</td>\n",
              "      <td>17</td>\n",
              "      <td>38</td>\n",
              "      <td>3</td>\n",
              "      <td>1</td>\n",
              "      <td>1270.0</td>\n",
              "      <td>9.0</td>\n",
              "      <td>2008.0</td>\n",
              "      <td>0</td>\n",
              "      <td>0.0</td>\n",
              "      <td>0.0</td>\n",
              "      <td>84.0</td>\n",
              "      <td>24189.50</td>\n",
              "    </tr>\n",
              "    <tr>\n",
              "      <th>1</th>\n",
              "      <td>857</td>\n",
              "      <td>1</td>\n",
              "      <td>3</td>\n",
              "      <td>1.0</td>\n",
              "      <td>1</td>\n",
              "      <td>0</td>\n",
              "      <td>0</td>\n",
              "      <td>2015</td>\n",
              "      <td>9</td>\n",
              "      <td>16</td>\n",
              "      <td>38</td>\n",
              "      <td>3</td>\n",
              "      <td>1</td>\n",
              "      <td>1270.0</td>\n",
              "      <td>9.0</td>\n",
              "      <td>2008.0</td>\n",
              "      <td>0</td>\n",
              "      <td>0.0</td>\n",
              "      <td>0.0</td>\n",
              "      <td>84.0</td>\n",
              "      <td>24189.50</td>\n",
              "    </tr>\n",
              "    <tr>\n",
              "      <th>2</th>\n",
              "      <td>1713</td>\n",
              "      <td>1</td>\n",
              "      <td>2</td>\n",
              "      <td>1.0</td>\n",
              "      <td>1</td>\n",
              "      <td>0</td>\n",
              "      <td>0</td>\n",
              "      <td>2015</td>\n",
              "      <td>9</td>\n",
              "      <td>15</td>\n",
              "      <td>38</td>\n",
              "      <td>3</td>\n",
              "      <td>1</td>\n",
              "      <td>1270.0</td>\n",
              "      <td>9.0</td>\n",
              "      <td>2008.0</td>\n",
              "      <td>0</td>\n",
              "      <td>0.0</td>\n",
              "      <td>0.0</td>\n",
              "      <td>84.0</td>\n",
              "      <td>24189.50</td>\n",
              "    </tr>\n",
              "    <tr>\n",
              "      <th>3</th>\n",
              "      <td>2569</td>\n",
              "      <td>1</td>\n",
              "      <td>1</td>\n",
              "      <td>1.0</td>\n",
              "      <td>1</td>\n",
              "      <td>0</td>\n",
              "      <td>0</td>\n",
              "      <td>2015</td>\n",
              "      <td>9</td>\n",
              "      <td>14</td>\n",
              "      <td>38</td>\n",
              "      <td>3</td>\n",
              "      <td>1</td>\n",
              "      <td>1270.0</td>\n",
              "      <td>9.0</td>\n",
              "      <td>2008.0</td>\n",
              "      <td>0</td>\n",
              "      <td>0.0</td>\n",
              "      <td>0.0</td>\n",
              "      <td>84.0</td>\n",
              "      <td>24189.50</td>\n",
              "    </tr>\n",
              "    <tr>\n",
              "      <th>4</th>\n",
              "      <td>3425</td>\n",
              "      <td>1</td>\n",
              "      <td>7</td>\n",
              "      <td>0.0</td>\n",
              "      <td>0</td>\n",
              "      <td>0</td>\n",
              "      <td>0</td>\n",
              "      <td>2015</td>\n",
              "      <td>9</td>\n",
              "      <td>13</td>\n",
              "      <td>37</td>\n",
              "      <td>3</td>\n",
              "      <td>1</td>\n",
              "      <td>1270.0</td>\n",
              "      <td>9.0</td>\n",
              "      <td>2008.0</td>\n",
              "      <td>0</td>\n",
              "      <td>0.0</td>\n",
              "      <td>0.0</td>\n",
              "      <td>84.0</td>\n",
              "      <td>24189.25</td>\n",
              "    </tr>\n",
              "  </tbody>\n",
              "</table>\n",
              "</div>"
            ],
            "text/plain": [
              "     Id  Store  DayOfWeek  ...  Promo2SinceYear  CompetitionOpen  PromoOpen\n",
              "0     1      1          4  ...              0.0             84.0   24189.50\n",
              "1   857      1          3  ...              0.0             84.0   24189.50\n",
              "2  1713      1          2  ...              0.0             84.0   24189.50\n",
              "3  2569      1          1  ...              0.0             84.0   24189.50\n",
              "4  3425      1          7  ...              0.0             84.0   24189.25\n",
              "\n",
              "[5 rows x 21 columns]"
            ]
          },
          "metadata": {
            "tags": []
          },
          "execution_count": 30
        }
      ]
    },
    {
      "cell_type": "markdown",
      "metadata": {
        "id": "1g44xrfOccA3"
      },
      "source": [
        "### Model Training\n",
        "\n",
        "**Metodologia**\n",
        "\n",
        "1. Dividir la data en train y test para evaluar el modelo.\n",
        "2. Determinar eta con valores aproximadamente (e.g. 0.05 ~ 0.1), num_round entre 300 ~ 500\n",
        "3. Usar grid search para encontrar la mejor combinacion de parametros adicionales\n",
        "4. Menor valor de eta permite alcanzar el valor optimo\n",
        "5. Usar el set de validation y seleccionar el model con los mejores parameteros."
      ]
    },
    {
      "cell_type": "code",
      "metadata": {
        "id": "PnSNcE-HccA3"
      },
      "source": [
        "# dividido en conjuntos de train y text\n",
        "# excluyendo las columnas de Id. y Sales\n",
        "predictors = [x for x in train_store.columns if x not in ['Customers', 'Sales', 'SalePerCustomer']]\n",
        "y = np.log(train_store.Sales) # log transformation of Sales\n",
        "X = train_store\n",
        "\n",
        "# split los datos en train/test set\n",
        "X_train, X_test, y_train, y_test = train_test_split(X, y, \n",
        "                                                    test_size = 0.3, # 30% for the evaluation set\n",
        "                                                    random_state = 42)"
      ],
      "execution_count": null,
      "outputs": []
    },
    {
      "cell_type": "code",
      "metadata": {
        "colab": {
          "base_uri": "https://localhost:8080/"
        },
        "id": "EWXIIvVjccA4",
        "outputId": "5c69a461-c788-421e-bc5f-e059acbafd33"
      },
      "source": [
        "predictors"
      ],
      "execution_count": null,
      "outputs": [
        {
          "output_type": "execute_result",
          "data": {
            "text/plain": [
              "['Store',\n",
              " 'DayOfWeek',\n",
              " 'Open',\n",
              " 'Promo',\n",
              " 'StateHoliday',\n",
              " 'SchoolHoliday',\n",
              " 'Year',\n",
              " 'Month',\n",
              " 'Day',\n",
              " 'WeekOfYear',\n",
              " 'StoreType',\n",
              " 'Assortment',\n",
              " 'CompetitionDistance',\n",
              " 'CompetitionOpenSinceMonth',\n",
              " 'CompetitionOpenSinceYear',\n",
              " 'Promo2',\n",
              " 'Promo2SinceWeek',\n",
              " 'Promo2SinceYear']"
            ]
          },
          "metadata": {
            "tags": []
          },
          "execution_count": 32
        }
      ]
    },
    {
      "cell_type": "code",
      "metadata": {
        "colab": {
          "base_uri": "https://localhost:8080/"
        },
        "id": "UJ8NzbuYccA4",
        "outputId": "d9582704-0e67-43b6-fe3e-b68fd7138faf"
      },
      "source": [
        "y"
      ],
      "execution_count": null,
      "outputs": [
        {
          "output_type": "execute_result",
          "data": {
            "text/plain": [
              "0         8.568456\n",
              "1         8.521185\n",
              "2         8.472614\n",
              "3         8.519391\n",
              "4         8.716372\n",
              "            ...   \n",
              "844333    9.136801\n",
              "844334    7.918629\n",
              "844335    8.343316\n",
              "844336    8.429454\n",
              "844337    8.532279\n",
              "Name: Sales, Length: 844338, dtype: float64"
            ]
          },
          "metadata": {
            "tags": []
          },
          "execution_count": 33
        }
      ]
    },
    {
      "cell_type": "code",
      "metadata": {
        "colab": {
          "base_uri": "https://localhost:8080/",
          "height": 439
        },
        "id": "yjnabYuBccA4",
        "outputId": "d05306d4-c713-4c4c-bd39-d446f73aeefa"
      },
      "source": [
        "X"
      ],
      "execution_count": null,
      "outputs": [
        {
          "output_type": "execute_result",
          "data": {
            "text/html": [
              "<div>\n",
              "<style scoped>\n",
              "    .dataframe tbody tr th:only-of-type {\n",
              "        vertical-align: middle;\n",
              "    }\n",
              "\n",
              "    .dataframe tbody tr th {\n",
              "        vertical-align: top;\n",
              "    }\n",
              "\n",
              "    .dataframe thead th {\n",
              "        text-align: right;\n",
              "    }\n",
              "</style>\n",
              "<table border=\"1\" class=\"dataframe\">\n",
              "  <thead>\n",
              "    <tr style=\"text-align: right;\">\n",
              "      <th></th>\n",
              "      <th>Store</th>\n",
              "      <th>DayOfWeek</th>\n",
              "      <th>Sales</th>\n",
              "      <th>Customers</th>\n",
              "      <th>Open</th>\n",
              "      <th>Promo</th>\n",
              "      <th>StateHoliday</th>\n",
              "      <th>SchoolHoliday</th>\n",
              "      <th>Year</th>\n",
              "      <th>Month</th>\n",
              "      <th>Day</th>\n",
              "      <th>WeekOfYear</th>\n",
              "      <th>SalePerCustomer</th>\n",
              "      <th>StoreType</th>\n",
              "      <th>Assortment</th>\n",
              "      <th>CompetitionDistance</th>\n",
              "      <th>CompetitionOpenSinceMonth</th>\n",
              "      <th>CompetitionOpenSinceYear</th>\n",
              "      <th>Promo2</th>\n",
              "      <th>Promo2SinceWeek</th>\n",
              "      <th>Promo2SinceYear</th>\n",
              "    </tr>\n",
              "  </thead>\n",
              "  <tbody>\n",
              "    <tr>\n",
              "      <th>0</th>\n",
              "      <td>1</td>\n",
              "      <td>5</td>\n",
              "      <td>5263</td>\n",
              "      <td>555</td>\n",
              "      <td>1</td>\n",
              "      <td>1</td>\n",
              "      <td>0</td>\n",
              "      <td>1</td>\n",
              "      <td>2015</td>\n",
              "      <td>7</td>\n",
              "      <td>31</td>\n",
              "      <td>31</td>\n",
              "      <td>9.482883</td>\n",
              "      <td>3</td>\n",
              "      <td>1</td>\n",
              "      <td>1270.0</td>\n",
              "      <td>9.0</td>\n",
              "      <td>2008.0</td>\n",
              "      <td>0</td>\n",
              "      <td>0.0</td>\n",
              "      <td>0.0</td>\n",
              "    </tr>\n",
              "    <tr>\n",
              "      <th>1</th>\n",
              "      <td>1</td>\n",
              "      <td>4</td>\n",
              "      <td>5020</td>\n",
              "      <td>546</td>\n",
              "      <td>1</td>\n",
              "      <td>1</td>\n",
              "      <td>0</td>\n",
              "      <td>1</td>\n",
              "      <td>2015</td>\n",
              "      <td>7</td>\n",
              "      <td>30</td>\n",
              "      <td>31</td>\n",
              "      <td>9.194139</td>\n",
              "      <td>3</td>\n",
              "      <td>1</td>\n",
              "      <td>1270.0</td>\n",
              "      <td>9.0</td>\n",
              "      <td>2008.0</td>\n",
              "      <td>0</td>\n",
              "      <td>0.0</td>\n",
              "      <td>0.0</td>\n",
              "    </tr>\n",
              "    <tr>\n",
              "      <th>2</th>\n",
              "      <td>1</td>\n",
              "      <td>3</td>\n",
              "      <td>4782</td>\n",
              "      <td>523</td>\n",
              "      <td>1</td>\n",
              "      <td>1</td>\n",
              "      <td>0</td>\n",
              "      <td>1</td>\n",
              "      <td>2015</td>\n",
              "      <td>7</td>\n",
              "      <td>29</td>\n",
              "      <td>31</td>\n",
              "      <td>9.143403</td>\n",
              "      <td>3</td>\n",
              "      <td>1</td>\n",
              "      <td>1270.0</td>\n",
              "      <td>9.0</td>\n",
              "      <td>2008.0</td>\n",
              "      <td>0</td>\n",
              "      <td>0.0</td>\n",
              "      <td>0.0</td>\n",
              "    </tr>\n",
              "    <tr>\n",
              "      <th>3</th>\n",
              "      <td>1</td>\n",
              "      <td>2</td>\n",
              "      <td>5011</td>\n",
              "      <td>560</td>\n",
              "      <td>1</td>\n",
              "      <td>1</td>\n",
              "      <td>0</td>\n",
              "      <td>1</td>\n",
              "      <td>2015</td>\n",
              "      <td>7</td>\n",
              "      <td>28</td>\n",
              "      <td>31</td>\n",
              "      <td>8.948214</td>\n",
              "      <td>3</td>\n",
              "      <td>1</td>\n",
              "      <td>1270.0</td>\n",
              "      <td>9.0</td>\n",
              "      <td>2008.0</td>\n",
              "      <td>0</td>\n",
              "      <td>0.0</td>\n",
              "      <td>0.0</td>\n",
              "    </tr>\n",
              "    <tr>\n",
              "      <th>4</th>\n",
              "      <td>1</td>\n",
              "      <td>1</td>\n",
              "      <td>6102</td>\n",
              "      <td>612</td>\n",
              "      <td>1</td>\n",
              "      <td>1</td>\n",
              "      <td>0</td>\n",
              "      <td>1</td>\n",
              "      <td>2015</td>\n",
              "      <td>7</td>\n",
              "      <td>27</td>\n",
              "      <td>31</td>\n",
              "      <td>9.970588</td>\n",
              "      <td>3</td>\n",
              "      <td>1</td>\n",
              "      <td>1270.0</td>\n",
              "      <td>9.0</td>\n",
              "      <td>2008.0</td>\n",
              "      <td>0</td>\n",
              "      <td>0.0</td>\n",
              "      <td>0.0</td>\n",
              "    </tr>\n",
              "    <tr>\n",
              "      <th>...</th>\n",
              "      <td>...</td>\n",
              "      <td>...</td>\n",
              "      <td>...</td>\n",
              "      <td>...</td>\n",
              "      <td>...</td>\n",
              "      <td>...</td>\n",
              "      <td>...</td>\n",
              "      <td>...</td>\n",
              "      <td>...</td>\n",
              "      <td>...</td>\n",
              "      <td>...</td>\n",
              "      <td>...</td>\n",
              "      <td>...</td>\n",
              "      <td>...</td>\n",
              "      <td>...</td>\n",
              "      <td>...</td>\n",
              "      <td>...</td>\n",
              "      <td>...</td>\n",
              "      <td>...</td>\n",
              "      <td>...</td>\n",
              "      <td>...</td>\n",
              "    </tr>\n",
              "    <tr>\n",
              "      <th>844333</th>\n",
              "      <td>292</td>\n",
              "      <td>1</td>\n",
              "      <td>9291</td>\n",
              "      <td>1002</td>\n",
              "      <td>1</td>\n",
              "      <td>1</td>\n",
              "      <td>0</td>\n",
              "      <td>0</td>\n",
              "      <td>2013</td>\n",
              "      <td>1</td>\n",
              "      <td>7</td>\n",
              "      <td>2</td>\n",
              "      <td>9.272455</td>\n",
              "      <td>1</td>\n",
              "      <td>1</td>\n",
              "      <td>1100.0</td>\n",
              "      <td>6.0</td>\n",
              "      <td>2009.0</td>\n",
              "      <td>0</td>\n",
              "      <td>0.0</td>\n",
              "      <td>0.0</td>\n",
              "    </tr>\n",
              "    <tr>\n",
              "      <th>844334</th>\n",
              "      <td>292</td>\n",
              "      <td>6</td>\n",
              "      <td>2748</td>\n",
              "      <td>340</td>\n",
              "      <td>1</td>\n",
              "      <td>0</td>\n",
              "      <td>0</td>\n",
              "      <td>0</td>\n",
              "      <td>2013</td>\n",
              "      <td>1</td>\n",
              "      <td>5</td>\n",
              "      <td>1</td>\n",
              "      <td>8.082353</td>\n",
              "      <td>1</td>\n",
              "      <td>1</td>\n",
              "      <td>1100.0</td>\n",
              "      <td>6.0</td>\n",
              "      <td>2009.0</td>\n",
              "      <td>0</td>\n",
              "      <td>0.0</td>\n",
              "      <td>0.0</td>\n",
              "    </tr>\n",
              "    <tr>\n",
              "      <th>844335</th>\n",
              "      <td>292</td>\n",
              "      <td>5</td>\n",
              "      <td>4202</td>\n",
              "      <td>560</td>\n",
              "      <td>1</td>\n",
              "      <td>0</td>\n",
              "      <td>0</td>\n",
              "      <td>1</td>\n",
              "      <td>2013</td>\n",
              "      <td>1</td>\n",
              "      <td>4</td>\n",
              "      <td>1</td>\n",
              "      <td>7.503571</td>\n",
              "      <td>1</td>\n",
              "      <td>1</td>\n",
              "      <td>1100.0</td>\n",
              "      <td>6.0</td>\n",
              "      <td>2009.0</td>\n",
              "      <td>0</td>\n",
              "      <td>0.0</td>\n",
              "      <td>0.0</td>\n",
              "    </tr>\n",
              "    <tr>\n",
              "      <th>844336</th>\n",
              "      <td>292</td>\n",
              "      <td>4</td>\n",
              "      <td>4580</td>\n",
              "      <td>662</td>\n",
              "      <td>1</td>\n",
              "      <td>0</td>\n",
              "      <td>0</td>\n",
              "      <td>1</td>\n",
              "      <td>2013</td>\n",
              "      <td>1</td>\n",
              "      <td>3</td>\n",
              "      <td>1</td>\n",
              "      <td>6.918429</td>\n",
              "      <td>1</td>\n",
              "      <td>1</td>\n",
              "      <td>1100.0</td>\n",
              "      <td>6.0</td>\n",
              "      <td>2009.0</td>\n",
              "      <td>0</td>\n",
              "      <td>0.0</td>\n",
              "      <td>0.0</td>\n",
              "    </tr>\n",
              "    <tr>\n",
              "      <th>844337</th>\n",
              "      <td>292</td>\n",
              "      <td>3</td>\n",
              "      <td>5076</td>\n",
              "      <td>672</td>\n",
              "      <td>1</td>\n",
              "      <td>0</td>\n",
              "      <td>0</td>\n",
              "      <td>1</td>\n",
              "      <td>2013</td>\n",
              "      <td>1</td>\n",
              "      <td>2</td>\n",
              "      <td>1</td>\n",
              "      <td>7.553571</td>\n",
              "      <td>1</td>\n",
              "      <td>1</td>\n",
              "      <td>1100.0</td>\n",
              "      <td>6.0</td>\n",
              "      <td>2009.0</td>\n",
              "      <td>0</td>\n",
              "      <td>0.0</td>\n",
              "      <td>0.0</td>\n",
              "    </tr>\n",
              "  </tbody>\n",
              "</table>\n",
              "<p>844338 rows × 21 columns</p>\n",
              "</div>"
            ],
            "text/plain": [
              "        Store  DayOfWeek  Sales  ...  Promo2  Promo2SinceWeek  Promo2SinceYear\n",
              "0           1          5   5263  ...       0              0.0              0.0\n",
              "1           1          4   5020  ...       0              0.0              0.0\n",
              "2           1          3   4782  ...       0              0.0              0.0\n",
              "3           1          2   5011  ...       0              0.0              0.0\n",
              "4           1          1   6102  ...       0              0.0              0.0\n",
              "...       ...        ...    ...  ...     ...              ...              ...\n",
              "844333    292          1   9291  ...       0              0.0              0.0\n",
              "844334    292          6   2748  ...       0              0.0              0.0\n",
              "844335    292          5   4202  ...       0              0.0              0.0\n",
              "844336    292          4   4580  ...       0              0.0              0.0\n",
              "844337    292          3   5076  ...       0              0.0              0.0\n",
              "\n",
              "[844338 rows x 21 columns]"
            ]
          },
          "metadata": {
            "tags": []
          },
          "execution_count": 34
        }
      ]
    },
    {
      "cell_type": "code",
      "metadata": {
        "colab": {
          "base_uri": "https://localhost:8080/"
        },
        "id": "sC-JKT81ccA4",
        "outputId": "5b968c63-ba44-4857-b9db-0e770aafb483"
      },
      "source": [
        "# predictors\n",
        "X.columns"
      ],
      "execution_count": null,
      "outputs": [
        {
          "output_type": "execute_result",
          "data": {
            "text/plain": [
              "Index(['Store', 'DayOfWeek', 'Sales', 'Customers', 'Open', 'Promo',\n",
              "       'StateHoliday', 'SchoolHoliday', 'Year', 'Month', 'Day', 'WeekOfYear',\n",
              "       'SalePerCustomer', 'StoreType', 'Assortment', 'CompetitionDistance',\n",
              "       'CompetitionOpenSinceMonth', 'CompetitionOpenSinceYear', 'Promo2',\n",
              "       'Promo2SinceWeek', 'Promo2SinceYear'],\n",
              "      dtype='object')"
            ]
          },
          "metadata": {
            "tags": []
          },
          "execution_count": 35
        }
      ]
    },
    {
      "cell_type": "code",
      "metadata": {
        "id": "vKUx9wKBccA5"
      },
      "source": [
        "# evaluation metric: rmspe\n",
        "# Root Mean Square Percentage Error\n",
        "# code chunk shared at Kaggle\n",
        "def rmspe(y, yhat):\n",
        "    return np.sqrt(np.mean((yhat / y-1) ** 2))\n",
        "\n",
        "def rmspe_xg(yhat, y):\n",
        "    y = np.expm1(y.get_label())\n",
        "    yhat = np.expm1(yhat)\n",
        "    return \"rmspe\", rmspe(y, yhat)"
      ],
      "execution_count": null,
      "outputs": []
    },
    {
      "cell_type": "markdown",
      "metadata": {
        "id": "abAxl7FfccA5"
      },
      "source": [
        "**Tuning Parameters** \n",
        "\n",
        "- eta: Tamaño de paso usado para ir actualizando los pesos . Menor valor indica mas lentitud pero mejor convergencia\n",
        "- num_round: Total de iteracionesq\n",
        "- subsample: El ratio de training data usado en cada iteracion in each iteration; combate el overfitting. Debe ser configurado en el rango de 30% a 80% del training dataset, y comparado con el valor de 100% para no sampling.\n",
        "- colsample_bytree: El ratio de features usados en cada iteracion, default 1.\n",
        "- max_depth: Maxima profundidad del arbol. Si no se define el valor maximo de max depth, gradient boosting eventualmente llegara al overfit.\n",
        "- early_stopping_rounds: Si no hay un aumento en la puntuación de validación para un número determinado de iteraciones, el algoritmo se detendrá antes de tiempo y también combatirá el sobreajuste.\n"
      ]
    },
    {
      "cell_type": "code",
      "metadata": {
        "id": "_ZfXpQ0WccA5"
      },
      "source": [
        "# base parameters\n",
        "params = {\n",
        "    'booster': 'gbtree', \n",
        "    'objective': 'reg:squarederror', # regression task\n",
        "    'subsample': 0.8, # 80% of data to grow trees and prevent overfitting\n",
        "    'colsample_bytree': 0.85, # 85% of features used\n",
        "    'eta': 0.1, \n",
        "    'max_depth': 10, \n",
        "    'seed': 42} # for reproducible results"
      ],
      "execution_count": null,
      "outputs": []
    },
    {
      "cell_type": "code",
      "metadata": {
        "colab": {
          "base_uri": "https://localhost:8080/"
        },
        "id": "o-9DRRgXccA5",
        "outputId": "6fffb9bb-a6f0-4db1-8b48-e3ad5d31b0fe"
      },
      "source": [
        "# XGB con xgboost library\n",
        "dtrain = xgb.DMatrix(X_train[predictors], y_train)\n",
        "dtest = xgb.DMatrix(X_test[predictors], y_test)\n",
        "\n",
        "watchlist = [(dtrain, 'train'), (dtest, 'test')]\n",
        "\n",
        "xgb_model = xgb.train(params, dtrain, 100, evals = watchlist,\n",
        "                      early_stopping_rounds = 50, feval = rmspe_xg, verbose_eval = True)"
      ],
      "execution_count": null,
      "outputs": [
        {
          "output_type": "stream",
          "text": [
            "[0]\ttrain-rmse:7.44344\ttest-rmse:7.44314\ttrain-rmspe:0.999527\ttest-rmspe:0.999527\n",
            "Multiple eval metrics have been passed: 'test-rmspe' will be used for early stopping.\n",
            "\n",
            "Will train until test-rmspe hasn't improved in 50 rounds.\n",
            "[1]\ttrain-rmse:6.70101\ttest-rmse:6.70073\ttrain-rmspe:0.998821\ttest-rmspe:0.998822\n",
            "[2]\ttrain-rmse:6.03283\ttest-rmse:6.03252\ttrain-rmspe:0.997547\ttest-rmspe:0.997548\n",
            "[3]\ttrain-rmse:5.43154\ttest-rmse:5.43119\ttrain-rmspe:0.995404\ttest-rmspe:0.995406\n",
            "[4]\ttrain-rmse:4.89049\ttest-rmse:4.89012\ttrain-rmspe:0.992011\ttest-rmspe:0.992014\n",
            "[5]\ttrain-rmse:4.40369\ttest-rmse:4.40333\ttrain-rmspe:0.986939\ttest-rmspe:0.986942\n",
            "[6]\ttrain-rmse:3.96573\ttest-rmse:3.96539\ttrain-rmspe:0.979737\ttest-rmspe:0.979741\n",
            "[7]\ttrain-rmse:3.57181\ttest-rmse:3.57144\ttrain-rmspe:0.969939\ttest-rmspe:0.96994\n",
            "[8]\ttrain-rmse:3.21747\ttest-rmse:3.21714\ttrain-rmspe:0.957164\ttest-rmspe:0.957159\n",
            "[9]\ttrain-rmse:2.89844\ttest-rmse:2.89813\ttrain-rmspe:0.941219\ttest-rmspe:0.9412\n",
            "[10]\ttrain-rmse:2.6119\ttest-rmse:2.61156\ttrain-rmspe:0.921793\ttest-rmspe:0.921744\n",
            "[11]\ttrain-rmse:2.35408\ttest-rmse:2.35373\ttrain-rmspe:0.898999\ttest-rmspe:0.898898\n",
            "[12]\ttrain-rmse:2.12251\ttest-rmse:2.12211\ttrain-rmspe:0.872872\ttest-rmspe:0.87269\n",
            "[13]\ttrain-rmse:1.91416\ttest-rmse:1.91379\ttrain-rmspe:0.843753\ttest-rmspe:0.843447\n",
            "[14]\ttrain-rmse:1.72724\ttest-rmse:1.7268\ttrain-rmspe:0.811955\ttest-rmspe:0.811467\n",
            "[15]\ttrain-rmse:1.55926\ttest-rmse:1.55883\ttrain-rmspe:0.778059\ttest-rmspe:0.777331\n",
            "[16]\ttrain-rmse:1.40802\ttest-rmse:1.40759\ttrain-rmspe:0.742623\ttest-rmspe:0.74157\n",
            "[17]\ttrain-rmse:1.27284\ttest-rmse:1.27243\ttrain-rmspe:0.706025\ttest-rmspe:0.704549\n",
            "[18]\ttrain-rmse:1.15161\ttest-rmse:1.15122\ttrain-rmspe:0.668997\ttest-rmspe:0.666986\n",
            "[19]\ttrain-rmse:1.04292\ttest-rmse:1.04254\ttrain-rmspe:0.632038\ttest-rmspe:0.629372\n",
            "[20]\ttrain-rmse:0.945939\ttest-rmse:0.945576\ttrain-rmspe:0.59563\ttest-rmspe:0.59224\n",
            "[21]\ttrain-rmse:0.858951\ttest-rmse:0.858586\ttrain-rmspe:0.560352\ttest-rmspe:0.556075\n",
            "[22]\ttrain-rmse:0.781525\ttest-rmse:0.781169\ttrain-rmspe:0.526697\ttest-rmspe:0.521294\n",
            "[23]\ttrain-rmse:0.712381\ttest-rmse:0.712041\ttrain-rmspe:0.494859\ttest-rmspe:0.488198\n",
            "[24]\ttrain-rmse:0.65103\ttest-rmse:0.650706\ttrain-rmspe:0.465071\ttest-rmspe:0.4571\n",
            "[25]\ttrain-rmse:0.59653\ttest-rmse:0.596284\ttrain-rmspe:0.437778\ttest-rmspe:0.428275\n",
            "[26]\ttrain-rmse:0.548499\ttest-rmse:0.548277\ttrain-rmspe:0.413016\ttest-rmspe:0.401808\n",
            "[27]\ttrain-rmse:0.504531\ttest-rmse:0.50435\ttrain-rmspe:0.390287\ttest-rmspe:0.377166\n",
            "[28]\ttrain-rmse:0.46648\ttest-rmse:0.46634\ttrain-rmspe:0.370528\ttest-rmspe:0.355232\n",
            "[29]\ttrain-rmse:0.433454\ttest-rmse:0.433376\ttrain-rmspe:0.353361\ttest-rmspe:0.336036\n",
            "[30]\ttrain-rmse:0.403804\ttest-rmse:0.403804\ttrain-rmspe:0.33801\ttest-rmspe:0.318744\n",
            "[31]\ttrain-rmse:0.37894\ttest-rmse:0.379025\ttrain-rmspe:0.325829\ttest-rmspe:0.304425\n",
            "[32]\ttrain-rmse:0.357059\ttest-rmse:0.357203\ttrain-rmspe:0.315499\ttest-rmspe:0.291978\n",
            "[33]\ttrain-rmse:0.337853\ttest-rmse:0.338082\ttrain-rmspe:0.306906\ttest-rmspe:0.28136\n",
            "[34]\ttrain-rmse:0.319505\ttest-rmse:0.319806\ttrain-rmspe:0.2985\ttest-rmspe:0.270904\n",
            "[35]\ttrain-rmse:0.303776\ttest-rmse:0.304115\ttrain-rmspe:0.29133\ttest-rmspe:0.262024\n",
            "[36]\ttrain-rmse:0.287809\ttest-rmse:0.288247\ttrain-rmspe:0.283749\ttest-rmspe:0.252778\n",
            "[37]\ttrain-rmse:0.277063\ttest-rmse:0.277593\ttrain-rmspe:0.279718\ttest-rmspe:0.247652\n",
            "[38]\ttrain-rmse:0.26692\ttest-rmse:0.267517\ttrain-rmspe:0.276426\ttest-rmspe:0.242544\n",
            "[39]\ttrain-rmse:0.257499\ttest-rmse:0.258138\ttrain-rmspe:0.273189\ttest-rmspe:0.237739\n",
            "[40]\ttrain-rmse:0.250247\ttest-rmse:0.250985\ttrain-rmspe:0.271285\ttest-rmspe:0.234692\n",
            "[41]\ttrain-rmse:0.244086\ttest-rmse:0.244884\ttrain-rmspe:0.269762\ttest-rmspe:0.23226\n",
            "[42]\ttrain-rmse:0.235805\ttest-rmse:0.236686\ttrain-rmspe:0.266491\ttest-rmspe:0.227409\n",
            "[43]\ttrain-rmse:0.231472\ttest-rmse:0.232484\ttrain-rmspe:0.264895\ttest-rmspe:0.226131\n",
            "[44]\ttrain-rmse:0.228553\ttest-rmse:0.229583\ttrain-rmspe:0.265234\ttest-rmspe:0.225923\n",
            "[45]\ttrain-rmse:0.22361\ttest-rmse:0.224665\ttrain-rmspe:0.263723\ttest-rmspe:0.223503\n",
            "[46]\ttrain-rmse:0.221116\ttest-rmse:0.222234\ttrain-rmspe:0.26467\ttest-rmspe:0.223199\n",
            "[47]\ttrain-rmse:0.215058\ttest-rmse:0.216234\ttrain-rmspe:0.261621\ttest-rmspe:0.21894\n",
            "[48]\ttrain-rmse:0.21133\ttest-rmse:0.212547\ttrain-rmspe:0.260214\ttest-rmspe:0.216779\n",
            "[49]\ttrain-rmse:0.207094\ttest-rmse:0.208352\ttrain-rmspe:0.258471\ttest-rmspe:0.213949\n",
            "[50]\ttrain-rmse:0.204307\ttest-rmse:0.205615\ttrain-rmspe:0.257618\ttest-rmspe:0.212554\n",
            "[51]\ttrain-rmse:0.202753\ttest-rmse:0.204141\ttrain-rmspe:0.257147\ttest-rmspe:0.212237\n",
            "[52]\ttrain-rmse:0.200279\ttest-rmse:0.20165\ttrain-rmspe:0.256105\ttest-rmspe:0.210585\n",
            "[53]\ttrain-rmse:0.197179\ttest-rmse:0.19858\ttrain-rmspe:0.254205\ttest-rmspe:0.208172\n",
            "[54]\ttrain-rmse:0.195368\ttest-rmse:0.196772\ttrain-rmspe:0.253557\ttest-rmspe:0.207064\n",
            "[55]\ttrain-rmse:0.194268\ttest-rmse:0.195754\ttrain-rmspe:0.253567\ttest-rmspe:0.206736\n",
            "[56]\ttrain-rmse:0.19342\ttest-rmse:0.19499\ttrain-rmspe:0.25331\ttest-rmspe:0.206585\n",
            "[57]\ttrain-rmse:0.19132\ttest-rmse:0.19293\ttrain-rmspe:0.25204\ttest-rmspe:0.205055\n",
            "[58]\ttrain-rmse:0.189746\ttest-rmse:0.191413\ttrain-rmspe:0.251331\ttest-rmspe:0.203989\n",
            "[59]\ttrain-rmse:0.188323\ttest-rmse:0.190012\ttrain-rmspe:0.250937\ttest-rmspe:0.20306\n",
            "[60]\ttrain-rmse:0.186483\ttest-rmse:0.188195\ttrain-rmspe:0.249534\ttest-rmspe:0.201417\n",
            "[61]\ttrain-rmse:0.185384\ttest-rmse:0.187105\ttrain-rmspe:0.249013\ttest-rmspe:0.200611\n",
            "[62]\ttrain-rmse:0.184124\ttest-rmse:0.185875\ttrain-rmspe:0.248232\ttest-rmspe:0.199587\n",
            "[63]\ttrain-rmse:0.183842\ttest-rmse:0.18561\ttrain-rmspe:0.246754\ttest-rmspe:0.199632\n",
            "[64]\ttrain-rmse:0.183355\ttest-rmse:0.185166\ttrain-rmspe:0.246549\ttest-rmspe:0.199434\n",
            "[65]\ttrain-rmse:0.181879\ttest-rmse:0.183706\ttrain-rmspe:0.245596\ttest-rmspe:0.198232\n",
            "[66]\ttrain-rmse:0.180979\ttest-rmse:0.182871\ttrain-rmspe:0.244557\ttest-rmspe:0.197592\n",
            "[67]\ttrain-rmse:0.180054\ttest-rmse:0.181967\ttrain-rmspe:0.243821\ttest-rmspe:0.196824\n",
            "[68]\ttrain-rmse:0.17855\ttest-rmse:0.18051\ttrain-rmspe:0.242788\ttest-rmspe:0.195525\n",
            "[69]\ttrain-rmse:0.176302\ttest-rmse:0.178287\ttrain-rmspe:0.241034\ttest-rmspe:0.193293\n",
            "[70]\ttrain-rmse:0.174862\ttest-rmse:0.176883\ttrain-rmspe:0.239782\ttest-rmspe:0.191923\n",
            "[71]\ttrain-rmse:0.17318\ttest-rmse:0.175238\ttrain-rmspe:0.238972\ttest-rmspe:0.190313\n",
            "[72]\ttrain-rmse:0.172091\ttest-rmse:0.174157\ttrain-rmspe:0.238838\ttest-rmspe:0.189181\n",
            "[73]\ttrain-rmse:0.17104\ttest-rmse:0.173164\ttrain-rmspe:0.23784\ttest-rmspe:0.188183\n",
            "[74]\ttrain-rmse:0.169338\ttest-rmse:0.171496\ttrain-rmspe:0.236509\ttest-rmspe:0.186463\n",
            "[75]\ttrain-rmse:0.168289\ttest-rmse:0.170469\ttrain-rmspe:0.23566\ttest-rmspe:0.1855\n",
            "[76]\ttrain-rmse:0.167037\ttest-rmse:0.169235\ttrain-rmspe:0.234977\ttest-rmspe:0.184261\n",
            "[77]\ttrain-rmse:0.166544\ttest-rmse:0.168801\ttrain-rmspe:0.234535\ttest-rmspe:0.183822\n",
            "[78]\ttrain-rmse:0.164684\ttest-rmse:0.166956\ttrain-rmspe:0.233082\ttest-rmspe:0.181852\n",
            "[79]\ttrain-rmse:0.163639\ttest-rmse:0.165926\ttrain-rmspe:0.232\ttest-rmspe:0.180783\n",
            "[80]\ttrain-rmse:0.162379\ttest-rmse:0.16471\ttrain-rmspe:0.23101\ttest-rmspe:0.179532\n",
            "[81]\ttrain-rmse:0.160797\ttest-rmse:0.163128\ttrain-rmspe:0.229776\ttest-rmspe:0.177855\n",
            "[82]\ttrain-rmse:0.160361\ttest-rmse:0.162772\ttrain-rmspe:0.229433\ttest-rmspe:0.177466\n",
            "[83]\ttrain-rmse:0.159698\ttest-rmse:0.162137\ttrain-rmspe:0.228956\ttest-rmspe:0.176816\n",
            "[84]\ttrain-rmse:0.159358\ttest-rmse:0.161822\ttrain-rmspe:0.223015\ttest-rmspe:0.176531\n",
            "[85]\ttrain-rmse:0.159017\ttest-rmse:0.161489\ttrain-rmspe:0.222715\ttest-rmspe:0.176218\n",
            "[86]\ttrain-rmse:0.157266\ttest-rmse:0.159772\ttrain-rmspe:0.22134\ttest-rmspe:0.174477\n",
            "[87]\ttrain-rmse:0.156468\ttest-rmse:0.158981\ttrain-rmspe:0.218731\ttest-rmspe:0.173595\n",
            "[88]\ttrain-rmse:0.154535\ttest-rmse:0.157084\ttrain-rmspe:0.217277\ttest-rmspe:0.171632\n",
            "[89]\ttrain-rmse:0.152799\ttest-rmse:0.155363\ttrain-rmspe:0.216044\ttest-rmspe:0.169759\n",
            "[90]\ttrain-rmse:0.151653\ttest-rmse:0.154242\ttrain-rmspe:0.215209\ttest-rmspe:0.168572\n",
            "[91]\ttrain-rmse:0.151341\ttest-rmse:0.153938\ttrain-rmspe:0.214979\ttest-rmspe:0.168283\n",
            "[92]\ttrain-rmse:0.150034\ttest-rmse:0.152647\ttrain-rmspe:0.213882\ttest-rmspe:0.166911\n",
            "[93]\ttrain-rmse:0.148878\ttest-rmse:0.151517\ttrain-rmspe:0.212971\ttest-rmspe:0.165748\n",
            "[94]\ttrain-rmse:0.148059\ttest-rmse:0.150761\ttrain-rmspe:0.212043\ttest-rmspe:0.164945\n",
            "[95]\ttrain-rmse:0.147688\ttest-rmse:0.150461\ttrain-rmspe:0.211668\ttest-rmspe:0.164598\n",
            "[96]\ttrain-rmse:0.146968\ttest-rmse:0.149737\ttrain-rmspe:0.211068\ttest-rmspe:0.163779\n",
            "[97]\ttrain-rmse:0.145376\ttest-rmse:0.148174\ttrain-rmspe:0.209269\ttest-rmspe:0.162033\n",
            "[98]\ttrain-rmse:0.145008\ttest-rmse:0.147818\ttrain-rmspe:0.208918\ttest-rmspe:0.161682\n",
            "[99]\ttrain-rmse:0.144632\ttest-rmse:0.14746\ttrain-rmspe:0.20863\ttest-rmspe:0.161331\n"
          ],
          "name": "stdout"
        }
      ]
    },
    {
      "cell_type": "markdown",
      "metadata": {
        "id": "N6l1iI8sccA5"
      },
      "source": [
        "Esencialmente, queremos el menor valor. El modelo con hiperparámetros base da mejores resultados en train, lo que indica el problema de sobreajuste."
      ]
    },
    {
      "cell_type": "markdown",
      "metadata": {
        "id": "C7APSmj_ccA6"
      },
      "source": [
        "### Grid Search from sklearn\n",
        "\n",
        "Scikit learn wrapper is famoso por GridSearchCV y RandomizedSearchCV. Entre estos dos, la mayoria dle tiempo la preferencia es utilizar RandomnizedSearchCV, la version rapida de GridSearchCV.\n",
        "\n",
        "Como input, RandomnizedSearchCV toma el wrapper del XGboost, así que en lugar de usar la primera versión de un modelo, construimos el modelo análogo en sklearn con XGBRegressor."
      ]
    },
    {
      "cell_type": "code",
      "metadata": {
        "colab": {
          "base_uri": "https://localhost:8080/"
        },
        "id": "cubT4BMOccA6",
        "outputId": "8f4e4af6-5b3f-4988-9b42-6b78f072288d"
      },
      "source": [
        "# XGB with sklearn wrapper\n",
        "# the same parameters as for xgboost model\n",
        "params_sk = {'max_depth': 10, \n",
        "            'n_estimators': 100, # the same as num_rounds in xgboost\n",
        "            'objective': 'reg:squarederror', \n",
        "            'subsample': 0.8, \n",
        "            'colsample_bytree': 0.85, \n",
        "            'learning_rate': 0.1, \n",
        "            'seed': 42}     \n",
        "\n",
        "skrg = XGBRegressor(**params_sk)\n",
        "\n",
        "skrg.fit(X_train, y_train,eval_set=[(X_train, y_train), \n",
        "                    (X_test, y_test)])"
      ],
      "execution_count": null,
      "outputs": [
        {
          "output_type": "stream",
          "text": [
            "[0]\tvalidation_0-rmse:7.44238\tvalidation_1-rmse:7.44143\n",
            "[1]\tvalidation_0-rmse:6.69754\tvalidation_1-rmse:6.69748\n",
            "[2]\tvalidation_0-rmse:6.02787\tvalidation_1-rmse:6.02753\n",
            "[3]\tvalidation_0-rmse:5.42554\tvalidation_1-rmse:5.42531\n",
            "[4]\tvalidation_0-rmse:4.88277\tvalidation_1-rmse:4.88275\n",
            "[5]\tvalidation_0-rmse:4.39434\tvalidation_1-rmse:4.39461\n",
            "[6]\tvalidation_0-rmse:3.95612\tvalidation_1-rmse:3.95599\n",
            "[7]\tvalidation_0-rmse:3.56087\tvalidation_1-rmse:3.56073\n",
            "[8]\tvalidation_0-rmse:3.20478\tvalidation_1-rmse:3.20469\n",
            "[9]\tvalidation_0-rmse:2.88443\tvalidation_1-rmse:2.88426\n",
            "[10]\tvalidation_0-rmse:2.59603\tvalidation_1-rmse:2.59588\n",
            "[11]\tvalidation_0-rmse:2.33646\tvalidation_1-rmse:2.33629\n",
            "[12]\tvalidation_0-rmse:2.10285\tvalidation_1-rmse:2.10271\n",
            "[13]\tvalidation_0-rmse:1.89259\tvalidation_1-rmse:1.89249\n",
            "[14]\tvalidation_0-rmse:1.70341\tvalidation_1-rmse:1.70331\n",
            "[15]\tvalidation_0-rmse:1.53311\tvalidation_1-rmse:1.53302\n",
            "[16]\tvalidation_0-rmse:1.37987\tvalidation_1-rmse:1.37979\n",
            "[17]\tvalidation_0-rmse:1.24191\tvalidation_1-rmse:1.24185\n",
            "[18]\tvalidation_0-rmse:1.11777\tvalidation_1-rmse:1.11771\n",
            "[19]\tvalidation_0-rmse:1.00603\tvalidation_1-rmse:1.00596\n",
            "[20]\tvalidation_0-rmse:0.905464\tvalidation_1-rmse:0.905408\n",
            "[21]\tvalidation_0-rmse:0.814963\tvalidation_1-rmse:0.814908\n",
            "[22]\tvalidation_0-rmse:0.733509\tvalidation_1-rmse:0.73346\n",
            "[23]\tvalidation_0-rmse:0.660197\tvalidation_1-rmse:0.660164\n",
            "[24]\tvalidation_0-rmse:0.594302\tvalidation_1-rmse:0.594276\n",
            "[25]\tvalidation_0-rmse:0.534926\tvalidation_1-rmse:0.534899\n",
            "[26]\tvalidation_0-rmse:0.481481\tvalidation_1-rmse:0.481454\n",
            "[27]\tvalidation_0-rmse:0.433382\tvalidation_1-rmse:0.433362\n",
            "[28]\tvalidation_0-rmse:0.390089\tvalidation_1-rmse:0.390074\n",
            "[29]\tvalidation_0-rmse:0.351133\tvalidation_1-rmse:0.35112\n",
            "[30]\tvalidation_0-rmse:0.316071\tvalidation_1-rmse:0.31606\n",
            "[31]\tvalidation_0-rmse:0.284526\tvalidation_1-rmse:0.284513\n",
            "[32]\tvalidation_0-rmse:0.256128\tvalidation_1-rmse:0.256115\n",
            "[33]\tvalidation_0-rmse:0.230575\tvalidation_1-rmse:0.230567\n",
            "[34]\tvalidation_0-rmse:0.207577\tvalidation_1-rmse:0.20757\n",
            "[35]\tvalidation_0-rmse:0.186885\tvalidation_1-rmse:0.186876\n",
            "[36]\tvalidation_0-rmse:0.168261\tvalidation_1-rmse:0.168258\n",
            "[37]\tvalidation_0-rmse:0.151497\tvalidation_1-rmse:0.151497\n",
            "[38]\tvalidation_0-rmse:0.13642\tvalidation_1-rmse:0.136423\n",
            "[39]\tvalidation_0-rmse:0.122854\tvalidation_1-rmse:0.122858\n",
            "[40]\tvalidation_0-rmse:0.110674\tvalidation_1-rmse:0.110677\n",
            "[41]\tvalidation_0-rmse:0.099674\tvalidation_1-rmse:0.099681\n",
            "[42]\tvalidation_0-rmse:0.089783\tvalidation_1-rmse:0.089792\n",
            "[43]\tvalidation_0-rmse:0.080892\tvalidation_1-rmse:0.080903\n",
            "[44]\tvalidation_0-rmse:0.072883\tvalidation_1-rmse:0.072896\n",
            "[45]\tvalidation_0-rmse:0.065679\tvalidation_1-rmse:0.065693\n",
            "[46]\tvalidation_0-rmse:0.059199\tvalidation_1-rmse:0.059215\n",
            "[47]\tvalidation_0-rmse:0.053377\tvalidation_1-rmse:0.053394\n",
            "[48]\tvalidation_0-rmse:0.048145\tvalidation_1-rmse:0.048167\n",
            "[49]\tvalidation_0-rmse:0.043438\tvalidation_1-rmse:0.043463\n",
            "[50]\tvalidation_0-rmse:0.039199\tvalidation_1-rmse:0.039227\n",
            "[51]\tvalidation_0-rmse:0.035393\tvalidation_1-rmse:0.035423\n",
            "[52]\tvalidation_0-rmse:0.031982\tvalidation_1-rmse:0.032015\n",
            "[53]\tvalidation_0-rmse:0.028911\tvalidation_1-rmse:0.028948\n",
            "[54]\tvalidation_0-rmse:0.026165\tvalidation_1-rmse:0.026207\n",
            "[55]\tvalidation_0-rmse:0.023696\tvalidation_1-rmse:0.023742\n",
            "[56]\tvalidation_0-rmse:0.02149\tvalidation_1-rmse:0.021541\n",
            "[57]\tvalidation_0-rmse:0.019514\tvalidation_1-rmse:0.019571\n",
            "[58]\tvalidation_0-rmse:0.017755\tvalidation_1-rmse:0.01782\n",
            "[59]\tvalidation_0-rmse:0.01618\tvalidation_1-rmse:0.016252\n",
            "[60]\tvalidation_0-rmse:0.014765\tvalidation_1-rmse:0.014844\n",
            "[61]\tvalidation_0-rmse:0.013506\tvalidation_1-rmse:0.013593\n",
            "[62]\tvalidation_0-rmse:0.012391\tvalidation_1-rmse:0.012485\n",
            "[63]\tvalidation_0-rmse:0.011395\tvalidation_1-rmse:0.011498\n",
            "[64]\tvalidation_0-rmse:0.010518\tvalidation_1-rmse:0.010628\n",
            "[65]\tvalidation_0-rmse:0.009741\tvalidation_1-rmse:0.009858\n",
            "[66]\tvalidation_0-rmse:0.009052\tvalidation_1-rmse:0.009177\n",
            "[67]\tvalidation_0-rmse:0.008444\tvalidation_1-rmse:0.00858\n",
            "[68]\tvalidation_0-rmse:0.007915\tvalidation_1-rmse:0.00806\n",
            "[69]\tvalidation_0-rmse:0.007453\tvalidation_1-rmse:0.007607\n",
            "[70]\tvalidation_0-rmse:0.007045\tvalidation_1-rmse:0.007207\n",
            "[71]\tvalidation_0-rmse:0.00669\tvalidation_1-rmse:0.006861\n",
            "[72]\tvalidation_0-rmse:0.00639\tvalidation_1-rmse:0.006568\n",
            "[73]\tvalidation_0-rmse:0.006111\tvalidation_1-rmse:0.006298\n",
            "[74]\tvalidation_0-rmse:0.005877\tvalidation_1-rmse:0.006071\n",
            "[75]\tvalidation_0-rmse:0.005683\tvalidation_1-rmse:0.005884\n",
            "[76]\tvalidation_0-rmse:0.005507\tvalidation_1-rmse:0.005714\n",
            "[77]\tvalidation_0-rmse:0.00536\tvalidation_1-rmse:0.005573\n",
            "[78]\tvalidation_0-rmse:0.005231\tvalidation_1-rmse:0.00545\n",
            "[79]\tvalidation_0-rmse:0.005123\tvalidation_1-rmse:0.005347\n",
            "[80]\tvalidation_0-rmse:0.005017\tvalidation_1-rmse:0.005246\n",
            "[81]\tvalidation_0-rmse:0.004925\tvalidation_1-rmse:0.005158\n",
            "[82]\tvalidation_0-rmse:0.004843\tvalidation_1-rmse:0.005081\n",
            "[83]\tvalidation_0-rmse:0.00478\tvalidation_1-rmse:0.005022\n",
            "[84]\tvalidation_0-rmse:0.004724\tvalidation_1-rmse:0.004969\n",
            "[85]\tvalidation_0-rmse:0.004674\tvalidation_1-rmse:0.004922\n",
            "[86]\tvalidation_0-rmse:0.004618\tvalidation_1-rmse:0.00487\n",
            "[87]\tvalidation_0-rmse:0.004567\tvalidation_1-rmse:0.004822\n",
            "[88]\tvalidation_0-rmse:0.004518\tvalidation_1-rmse:0.004777\n",
            "[89]\tvalidation_0-rmse:0.004478\tvalidation_1-rmse:0.004741\n",
            "[90]\tvalidation_0-rmse:0.004448\tvalidation_1-rmse:0.004713\n",
            "[91]\tvalidation_0-rmse:0.004402\tvalidation_1-rmse:0.004669\n",
            "[92]\tvalidation_0-rmse:0.004381\tvalidation_1-rmse:0.00465\n",
            "[93]\tvalidation_0-rmse:0.004352\tvalidation_1-rmse:0.004624\n",
            "[94]\tvalidation_0-rmse:0.004327\tvalidation_1-rmse:0.004601\n",
            "[95]\tvalidation_0-rmse:0.004312\tvalidation_1-rmse:0.004587\n",
            "[96]\tvalidation_0-rmse:0.004293\tvalidation_1-rmse:0.004572\n",
            "[97]\tvalidation_0-rmse:0.004266\tvalidation_1-rmse:0.004546\n",
            "[98]\tvalidation_0-rmse:0.00424\tvalidation_1-rmse:0.004523\n",
            "[99]\tvalidation_0-rmse:0.004225\tvalidation_1-rmse:0.004511\n"
          ],
          "name": "stdout"
        },
        {
          "output_type": "execute_result",
          "data": {
            "text/plain": [
              "XGBRegressor(base_score=0.5, booster='gbtree', colsample_bylevel=1,\n",
              "             colsample_bynode=1, colsample_bytree=0.85, gamma=0,\n",
              "             importance_type='gain', learning_rate=0.1, max_delta_step=0,\n",
              "             max_depth=10, min_child_weight=1, missing=None, n_estimators=100,\n",
              "             n_jobs=1, nthread=None, objective='reg:squarederror',\n",
              "             random_state=0, reg_alpha=0, reg_lambda=1, scale_pos_weight=1,\n",
              "             seed=42, silent=None, subsample=0.8, verbosity=1)"
            ]
          },
          "metadata": {
            "tags": []
          },
          "execution_count": 39
        }
      ]
    },
    {
      "cell_type": "code",
      "metadata": {
        "colab": {
          "base_uri": "https://localhost:8080/"
        },
        "id": "MX5kdO4LccA6",
        "outputId": "3197ea2e-63e9-4f21-d3ac-374a1b2acb90"
      },
      "source": [
        "results = skrg.evals_result()\n",
        "results"
      ],
      "execution_count": null,
      "outputs": [
        {
          "output_type": "execute_result",
          "data": {
            "text/plain": [
              "{'validation_0': {'rmse': [7.442377,\n",
              "   6.697543,\n",
              "   6.027872,\n",
              "   5.425536,\n",
              "   4.882771,\n",
              "   4.394336,\n",
              "   3.956119,\n",
              "   3.560869,\n",
              "   3.20478,\n",
              "   2.88443,\n",
              "   2.596025,\n",
              "   2.336461,\n",
              "   2.102851,\n",
              "   1.892586,\n",
              "   1.703407,\n",
              "   1.533111,\n",
              "   1.379873,\n",
              "   1.241913,\n",
              "   1.117768,\n",
              "   1.006032,\n",
              "   0.905464,\n",
              "   0.814963,\n",
              "   0.733509,\n",
              "   0.660197,\n",
              "   0.594302,\n",
              "   0.534926,\n",
              "   0.481481,\n",
              "   0.433382,\n",
              "   0.390089,\n",
              "   0.351133,\n",
              "   0.316071,\n",
              "   0.284526,\n",
              "   0.256128,\n",
              "   0.230575,\n",
              "   0.207577,\n",
              "   0.186885,\n",
              "   0.168261,\n",
              "   0.151497,\n",
              "   0.13642,\n",
              "   0.122854,\n",
              "   0.110674,\n",
              "   0.099674,\n",
              "   0.089783,\n",
              "   0.080892,\n",
              "   0.072883,\n",
              "   0.065679,\n",
              "   0.059199,\n",
              "   0.053377,\n",
              "   0.048145,\n",
              "   0.043438,\n",
              "   0.039199,\n",
              "   0.035393,\n",
              "   0.031982,\n",
              "   0.028911,\n",
              "   0.026165,\n",
              "   0.023696,\n",
              "   0.02149,\n",
              "   0.019514,\n",
              "   0.017755,\n",
              "   0.01618,\n",
              "   0.014765,\n",
              "   0.013506,\n",
              "   0.012391,\n",
              "   0.011395,\n",
              "   0.010518,\n",
              "   0.009741,\n",
              "   0.009052,\n",
              "   0.008444,\n",
              "   0.007915,\n",
              "   0.007453,\n",
              "   0.007045,\n",
              "   0.00669,\n",
              "   0.00639,\n",
              "   0.006111,\n",
              "   0.005877,\n",
              "   0.005683,\n",
              "   0.005507,\n",
              "   0.00536,\n",
              "   0.005231,\n",
              "   0.005123,\n",
              "   0.005017,\n",
              "   0.004925,\n",
              "   0.004843,\n",
              "   0.00478,\n",
              "   0.004724,\n",
              "   0.004674,\n",
              "   0.004618,\n",
              "   0.004567,\n",
              "   0.004518,\n",
              "   0.004478,\n",
              "   0.004448,\n",
              "   0.004402,\n",
              "   0.004381,\n",
              "   0.004352,\n",
              "   0.004327,\n",
              "   0.004312,\n",
              "   0.004293,\n",
              "   0.004266,\n",
              "   0.00424,\n",
              "   0.004225]},\n",
              " 'validation_1': {'rmse': [7.441434,\n",
              "   6.697484,\n",
              "   6.027534,\n",
              "   5.425311,\n",
              "   4.882752,\n",
              "   4.394614,\n",
              "   3.955985,\n",
              "   3.56073,\n",
              "   3.204688,\n",
              "   2.884255,\n",
              "   2.595878,\n",
              "   2.336294,\n",
              "   2.102712,\n",
              "   1.89249,\n",
              "   1.703308,\n",
              "   1.533018,\n",
              "   1.37979,\n",
              "   1.241846,\n",
              "   1.117709,\n",
              "   1.00596,\n",
              "   0.905408,\n",
              "   0.814908,\n",
              "   0.73346,\n",
              "   0.660164,\n",
              "   0.594276,\n",
              "   0.534899,\n",
              "   0.481454,\n",
              "   0.433362,\n",
              "   0.390074,\n",
              "   0.35112,\n",
              "   0.31606,\n",
              "   0.284513,\n",
              "   0.256115,\n",
              "   0.230567,\n",
              "   0.20757,\n",
              "   0.186876,\n",
              "   0.168258,\n",
              "   0.151497,\n",
              "   0.136423,\n",
              "   0.122858,\n",
              "   0.110677,\n",
              "   0.099681,\n",
              "   0.089792,\n",
              "   0.080903,\n",
              "   0.072896,\n",
              "   0.065693,\n",
              "   0.059215,\n",
              "   0.053394,\n",
              "   0.048167,\n",
              "   0.043463,\n",
              "   0.039227,\n",
              "   0.035423,\n",
              "   0.032015,\n",
              "   0.028948,\n",
              "   0.026207,\n",
              "   0.023742,\n",
              "   0.021541,\n",
              "   0.019571,\n",
              "   0.01782,\n",
              "   0.016252,\n",
              "   0.014844,\n",
              "   0.013593,\n",
              "   0.012485,\n",
              "   0.011498,\n",
              "   0.010628,\n",
              "   0.009858,\n",
              "   0.009177,\n",
              "   0.00858,\n",
              "   0.00806,\n",
              "   0.007607,\n",
              "   0.007207,\n",
              "   0.006861,\n",
              "   0.006568,\n",
              "   0.006298,\n",
              "   0.006071,\n",
              "   0.005884,\n",
              "   0.005714,\n",
              "   0.005573,\n",
              "   0.00545,\n",
              "   0.005347,\n",
              "   0.005246,\n",
              "   0.005158,\n",
              "   0.005081,\n",
              "   0.005022,\n",
              "   0.004969,\n",
              "   0.004922,\n",
              "   0.00487,\n",
              "   0.004822,\n",
              "   0.004777,\n",
              "   0.004741,\n",
              "   0.004713,\n",
              "   0.004669,\n",
              "   0.00465,\n",
              "   0.004624,\n",
              "   0.004601,\n",
              "   0.004587,\n",
              "   0.004572,\n",
              "   0.004546,\n",
              "   0.004523,\n",
              "   0.004511]}}"
            ]
          },
          "metadata": {
            "tags": []
          },
          "execution_count": 40
        }
      ]
    },
    {
      "cell_type": "code",
      "metadata": {
        "colab": {
          "base_uri": "https://localhost:8080/",
          "height": 284
        },
        "id": "wfz8PwqSccA6",
        "outputId": "bec8f06d-74c6-494a-c435-d6b699d72265"
      },
      "source": [
        "# Obtener el performance de las metricas\n",
        "results = skrg.evals_result()\n",
        "epochs = len(results['validation_0']['rmse'])\n",
        "epochs = len(results['validation_1']['rmse'])\n",
        "x_axis = range(0, epochs)\n",
        "# plot AUC\n",
        "fig, ax = plt.subplots()\n",
        "ax.plot(x_axis, results['validation_0']['rmse'], label='Train')\n",
        "ax.plot(x_axis, results['validation_1']['rmse'], label='Test')\n",
        "ax.legend()\n",
        "plt.ylabel('RMSE')\n",
        "plt.title('XGBoost RMSE')\n",
        "plt.show()"
      ],
      "execution_count": null,
      "outputs": [
        {
          "output_type": "display_data",
          "data": {
            "image/png": "[encoded data removed]",
            "text/plain": [
              "<Figure size 432x288 with 1 Axes>"
            ]
          },
          "metadata": {
            "tags": []
          }
        }
      ]
    },
    {
      "cell_type": "markdown",
      "metadata": {
        "id": "mRROQAnCccA7"
      },
      "source": [
        "Para parametros especificaremos el parametro de regularizacion reg_alpha que reduce la complejidad del modelo e incrementa el performance, de igual manera el parametro gamma que representa la minima reduccion de loss requerida para hacer el split y el  max_depth es usado para controlar el over-fitting."
      ]
    },
    {
      "cell_type": "code",
      "metadata": {
        "colab": {
          "base_uri": "https://localhost:8080/"
        },
        "id": "TFYouO3SccA7",
        "outputId": "ded9de5c-4901-42bf-8500-2cff22f4aace"
      },
      "source": [
        "### ESTO SE DEMORA BASTANTE!!!!!!!! (40 min)\n",
        "# import scipy.stats as st\n",
        "params_grid = {  \n",
        "    'learning_rate': [0.04,0.05,0.06,0.07,0.1],\n",
        "    'max_depth': [10,11,12,13,14,16],\n",
        "    'gamma': [0.8,1],\n",
        "    'reg_alpha': [22,23]\n",
        "}\n",
        "\n",
        "search_sk = RandomizedSearchCV(skrg, params_grid, cv = 5) # 5 fold cross validation\n",
        "search_sk.fit(X_train, y_train)\n",
        "\n",
        "# Parametros base\n",
        "print(search_sk.best_params_); print(search_sk.best_score_)"
      ],
      "execution_count": null,
      "outputs": [
        {
          "output_type": "stream",
          "text": [
            "{'reg_alpha': 23, 'max_depth': 12, 'learning_rate': 0.1, 'gamma': 0.8}\n",
            "0.9992447720877499\n"
          ],
          "name": "stdout"
        }
      ]
    },
    {
      "cell_type": "code",
      "metadata": {
        "colab": {
          "base_uri": "https://localhost:8080/"
        },
        "id": "if_ZVKmrccA7",
        "outputId": "59118bcd-238e-4313-9fb3-fb728a18ba5d"
      },
      "source": [
        "# Con los nuevos parametros\n",
        "params_new = {\n",
        "    'booster': 'gbtree', \n",
        "    'objective': 'reg:squarederror', \n",
        "    'subsample': 0.8, \n",
        "    'colsample_bytree': 0.85, \n",
        "    'learning_rate':0.1,\n",
        "    'eta': 0.05, \n",
        "    'max_depth': 12, \n",
        "    'gamma': 0.8,\n",
        "    'reg_alpha': 23,\n",
        "    'seed': 42} \n",
        "\n",
        "model_final = xgb.train(params_new, dtrain, 100, evals = watchlist,\n",
        "                        early_stopping_rounds = 50, feval = rmspe_xg, verbose_eval = True)"
      ],
      "execution_count": null,
      "outputs": [
        {
          "output_type": "stream",
          "text": [
            "[0]\ttrain-rmse:7.44362\ttest-rmse:7.44335\ttrain-rmspe:0.999525\ttest-rmspe:0.999525\n",
            "Multiple eval metrics have been passed: 'test-rmspe' will be used for early stopping.\n",
            "\n",
            "Will train until test-rmspe hasn't improved in 50 rounds.\n",
            "[1]\ttrain-rmse:6.70153\ttest-rmse:6.70124\ttrain-rmspe:0.998814\ttest-rmspe:0.998815\n",
            "[2]\ttrain-rmse:6.03364\ttest-rmse:6.03334\ttrain-rmspe:0.997529\ttest-rmspe:0.99753\n",
            "[3]\ttrain-rmse:5.43272\ttest-rmse:5.43237\ttrain-rmspe:0.995362\ttest-rmspe:0.995364\n",
            "[4]\ttrain-rmse:4.89209\ttest-rmse:4.89177\ttrain-rmspe:0.991922\ttest-rmspe:0.991925\n",
            "[5]\ttrain-rmse:4.4059\ttest-rmse:4.40558\ttrain-rmspe:0.986772\ttest-rmspe:0.986775\n",
            "[6]\ttrain-rmse:3.96853\ttest-rmse:3.96821\ttrain-rmspe:0.979452\ttest-rmspe:0.979454\n",
            "[7]\ttrain-rmse:3.57526\ttest-rmse:3.57486\ttrain-rmspe:0.969507\ttest-rmspe:0.969505\n",
            "[8]\ttrain-rmse:3.22162\ttest-rmse:3.22117\ttrain-rmspe:0.956536\ttest-rmspe:0.956526\n",
            "[9]\ttrain-rmse:2.90359\ttest-rmse:2.9032\ttrain-rmspe:0.940271\ttest-rmspe:0.940243\n",
            "[10]\ttrain-rmse:2.61793\ttest-rmse:2.61748\ttrain-rmspe:0.920551\ttest-rmspe:0.920488\n",
            "[11]\ttrain-rmse:2.36113\ttest-rmse:2.36065\ttrain-rmspe:0.89742\ttest-rmspe:0.897301\n",
            "[12]\ttrain-rmse:2.13051\ttest-rmse:2.13\ttrain-rmspe:0.870982\ttest-rmspe:0.870789\n",
            "[13]\ttrain-rmse:1.9234\ttest-rmse:1.92289\ttrain-rmspe:0.84153\ttest-rmspe:0.841212\n",
            "[14]\ttrain-rmse:1.73775\ttest-rmse:1.7372\ttrain-rmspe:0.809484\ttest-rmspe:0.808985\n",
            "[15]\ttrain-rmse:1.57124\ttest-rmse:1.57068\ttrain-rmspe:0.77539\ttest-rmspe:0.774661\n",
            "[16]\ttrain-rmse:1.42132\ttest-rmse:1.42075\ttrain-rmspe:0.7401\ttest-rmspe:0.739045\n",
            "[17]\ttrain-rmse:1.28752\ttest-rmse:1.28693\ttrain-rmspe:0.703652\ttest-rmspe:0.702212\n",
            "[18]\ttrain-rmse:1.16796\ttest-rmse:1.16736\ttrain-rmspe:0.667018\ttest-rmspe:0.665043\n",
            "[19]\ttrain-rmse:1.05927\ttest-rmse:1.05871\ttrain-rmspe:0.63091\ttest-rmspe:0.628462\n",
            "[20]\ttrain-rmse:0.963027\ttest-rmse:0.962438\ttrain-rmspe:0.595375\ttest-rmspe:0.59223\n",
            "[21]\ttrain-rmse:0.878082\ttest-rmse:0.877444\ttrain-rmspe:0.561187\ttest-rmspe:0.55715\n",
            "[22]\ttrain-rmse:0.80267\ttest-rmse:0.802007\ttrain-rmspe:0.5289\ttest-rmspe:0.523794\n",
            "[23]\ttrain-rmse:0.735028\ttest-rmse:0.734337\ttrain-rmspe:0.498751\ttest-rmspe:0.492304\n",
            "[24]\ttrain-rmse:0.674671\ttest-rmse:0.673972\ttrain-rmspe:0.470912\ttest-rmspe:0.463046\n",
            "[25]\ttrain-rmse:0.61841\ttest-rmse:0.617784\ttrain-rmspe:0.444598\ttest-rmspe:0.43546\n",
            "[26]\ttrain-rmse:0.57163\ttest-rmse:0.570986\ttrain-rmspe:0.421382\ttest-rmspe:0.410743\n",
            "[27]\ttrain-rmse:0.528379\ttest-rmse:0.527719\ttrain-rmspe:0.400332\ttest-rmspe:0.387877\n",
            "[28]\ttrain-rmse:0.492584\ttest-rmse:0.491891\ttrain-rmspe:0.382863\ttest-rmspe:0.368572\n",
            "[29]\ttrain-rmse:0.460524\ttest-rmse:0.459774\ttrain-rmspe:0.367497\ttest-rmspe:0.351324\n",
            "[30]\ttrain-rmse:0.433302\ttest-rmse:0.432548\ttrain-rmspe:0.354999\ttest-rmspe:0.336958\n",
            "[31]\ttrain-rmse:0.40439\ttest-rmse:0.403704\ttrain-rmspe:0.341257\ttest-rmspe:0.321198\n",
            "[32]\ttrain-rmse:0.383032\ttest-rmse:0.382328\ttrain-rmspe:0.332253\ttest-rmspe:0.310195\n",
            "[33]\ttrain-rmse:0.363231\ttest-rmse:0.36255\ttrain-rmspe:0.323368\ttest-rmspe:0.299575\n",
            "[34]\ttrain-rmse:0.347648\ttest-rmse:0.346944\ttrain-rmspe:0.318057\ttest-rmspe:0.292334\n",
            "[35]\ttrain-rmse:0.332289\ttest-rmse:0.331632\ttrain-rmspe:0.311731\ttest-rmspe:0.284989\n",
            "[36]\ttrain-rmse:0.318741\ttest-rmse:0.318123\ttrain-rmspe:0.307006\ttest-rmspe:0.278564\n",
            "[37]\ttrain-rmse:0.309001\ttest-rmse:0.308381\ttrain-rmspe:0.304228\ttest-rmspe:0.274855\n",
            "[38]\ttrain-rmse:0.29578\ttest-rmse:0.295273\ttrain-rmspe:0.29943\ttest-rmspe:0.26762\n",
            "[39]\ttrain-rmse:0.288624\ttest-rmse:0.288125\ttrain-rmspe:0.298339\ttest-rmspe:0.265537\n",
            "[40]\ttrain-rmse:0.282171\ttest-rmse:0.281666\ttrain-rmspe:0.29742\ttest-rmspe:0.263782\n",
            "[41]\ttrain-rmse:0.273867\ttest-rmse:0.273358\ttrain-rmspe:0.294507\ttest-rmspe:0.259557\n",
            "[42]\ttrain-rmse:0.264838\ttest-rmse:0.26438\ttrain-rmspe:0.29063\ttest-rmspe:0.254317\n",
            "[43]\ttrain-rmse:0.260764\ttest-rmse:0.260327\ttrain-rmspe:0.290551\ttest-rmspe:0.253461\n",
            "[44]\ttrain-rmse:0.255499\ttest-rmse:0.255105\ttrain-rmspe:0.289288\ttest-rmspe:0.251269\n",
            "[45]\ttrain-rmse:0.248921\ttest-rmse:0.248528\ttrain-rmspe:0.285874\ttest-rmspe:0.24694\n",
            "[46]\ttrain-rmse:0.24629\ttest-rmse:0.245917\ttrain-rmspe:0.286211\ttest-rmspe:0.246772\n",
            "[47]\ttrain-rmse:0.24285\ttest-rmse:0.242474\ttrain-rmspe:0.285177\ttest-rmspe:0.245209\n",
            "[48]\ttrain-rmse:0.239693\ttest-rmse:0.239321\ttrain-rmspe:0.284605\ttest-rmspe:0.243941\n",
            "[49]\ttrain-rmse:0.237458\ttest-rmse:0.237086\ttrain-rmspe:0.284478\ttest-rmspe:0.243314\n",
            "[50]\ttrain-rmse:0.234465\ttest-rmse:0.234107\ttrain-rmspe:0.283437\ttest-rmspe:0.241728\n",
            "[51]\ttrain-rmse:0.232371\ttest-rmse:0.232006\ttrain-rmspe:0.282985\ttest-rmspe:0.241019\n",
            "[52]\ttrain-rmse:0.228537\ttest-rmse:0.228199\ttrain-rmspe:0.28105\ttest-rmspe:0.238337\n",
            "[53]\ttrain-rmse:0.225612\ttest-rmse:0.225313\ttrain-rmspe:0.279615\ttest-rmspe:0.236241\n",
            "[54]\ttrain-rmse:0.222268\ttest-rmse:0.221962\ttrain-rmspe:0.27729\ttest-rmspe:0.233514\n",
            "[55]\ttrain-rmse:0.221404\ttest-rmse:0.221114\ttrain-rmspe:0.27761\ttest-rmspe:0.233551\n",
            "[56]\ttrain-rmse:0.217953\ttest-rmse:0.21768\ttrain-rmspe:0.275962\ttest-rmspe:0.231021\n",
            "[57]\ttrain-rmse:0.21494\ttest-rmse:0.21467\ttrain-rmspe:0.273869\ttest-rmspe:0.228359\n",
            "[58]\ttrain-rmse:0.212369\ttest-rmse:0.212147\ttrain-rmspe:0.272436\ttest-rmspe:0.226257\n",
            "[59]\ttrain-rmse:0.211146\ttest-rmse:0.210922\ttrain-rmspe:0.27173\ttest-rmspe:0.225402\n",
            "[60]\ttrain-rmse:0.209287\ttest-rmse:0.209082\ttrain-rmspe:0.270368\ttest-rmspe:0.223846\n",
            "[61]\ttrain-rmse:0.20771\ttest-rmse:0.207529\ttrain-rmspe:0.269512\ttest-rmspe:0.222668\n",
            "[62]\ttrain-rmse:0.206427\ttest-rmse:0.206277\ttrain-rmspe:0.26892\ttest-rmspe:0.221814\n",
            "[63]\ttrain-rmse:0.204571\ttest-rmse:0.204396\ttrain-rmspe:0.267471\ttest-rmspe:0.220034\n",
            "[64]\ttrain-rmse:0.203586\ttest-rmse:0.203419\ttrain-rmspe:0.267258\ttest-rmspe:0.21931\n",
            "[65]\ttrain-rmse:0.202004\ttest-rmse:0.201851\ttrain-rmspe:0.266276\ttest-rmspe:0.218098\n",
            "[66]\ttrain-rmse:0.200358\ttest-rmse:0.200212\ttrain-rmspe:0.265237\ttest-rmspe:0.216765\n",
            "[67]\ttrain-rmse:0.199878\ttest-rmse:0.199747\ttrain-rmspe:0.264951\ttest-rmspe:0.216533\n",
            "[68]\ttrain-rmse:0.198891\ttest-rmse:0.198761\ttrain-rmspe:0.264344\ttest-rmspe:0.215557\n",
            "[69]\ttrain-rmse:0.195976\ttest-rmse:0.195897\ttrain-rmspe:0.26138\ttest-rmspe:0.212657\n",
            "[70]\ttrain-rmse:0.195115\ttest-rmse:0.195023\ttrain-rmspe:0.260541\ttest-rmspe:0.211817\n",
            "[71]\ttrain-rmse:0.193215\ttest-rmse:0.193105\ttrain-rmspe:0.259016\ttest-rmspe:0.209893\n",
            "[72]\ttrain-rmse:0.192725\ttest-rmse:0.192632\ttrain-rmspe:0.258747\ttest-rmspe:0.209528\n",
            "[73]\ttrain-rmse:0.189592\ttest-rmse:0.189495\ttrain-rmspe:0.256343\ttest-rmspe:0.206408\n",
            "[74]\ttrain-rmse:0.188535\ttest-rmse:0.188455\ttrain-rmspe:0.255505\ttest-rmspe:0.205317\n",
            "[75]\ttrain-rmse:0.187206\ttest-rmse:0.187119\ttrain-rmspe:0.254458\ttest-rmspe:0.203913\n",
            "[76]\ttrain-rmse:0.186714\ttest-rmse:0.186635\ttrain-rmspe:0.254201\ttest-rmspe:0.203531\n",
            "[77]\ttrain-rmse:0.185847\ttest-rmse:0.185778\ttrain-rmspe:0.253593\ttest-rmspe:0.202776\n",
            "[78]\ttrain-rmse:0.185407\ttest-rmse:0.185347\ttrain-rmspe:0.253304\ttest-rmspe:0.202438\n",
            "[79]\ttrain-rmse:0.183426\ttest-rmse:0.183337\ttrain-rmspe:0.251697\ttest-rmspe:0.200311\n",
            "[80]\ttrain-rmse:0.180968\ttest-rmse:0.180847\ttrain-rmspe:0.249449\ttest-rmspe:0.197689\n",
            "[81]\ttrain-rmse:0.179548\ttest-rmse:0.179442\ttrain-rmspe:0.247976\ttest-rmspe:0.196138\n",
            "[82]\ttrain-rmse:0.17843\ttest-rmse:0.178309\ttrain-rmspe:0.247297\ttest-rmspe:0.194957\n",
            "[83]\ttrain-rmse:0.176422\ttest-rmse:0.176326\ttrain-rmspe:0.245694\ttest-rmspe:0.192944\n",
            "[84]\ttrain-rmse:0.175983\ttest-rmse:0.175895\ttrain-rmspe:0.245399\ttest-rmspe:0.192539\n",
            "[85]\ttrain-rmse:0.174077\ttest-rmse:0.174\ttrain-rmspe:0.243836\ttest-rmspe:0.190545\n",
            "[86]\ttrain-rmse:0.171911\ttest-rmse:0.171822\ttrain-rmspe:0.242538\ttest-rmspe:0.188258\n",
            "[87]\ttrain-rmse:0.171238\ttest-rmse:0.171161\ttrain-rmspe:0.242061\ttest-rmspe:0.187597\n",
            "[88]\ttrain-rmse:0.16894\ttest-rmse:0.168885\ttrain-rmspe:0.240444\ttest-rmspe:0.18527\n",
            "[89]\ttrain-rmse:0.16774\ttest-rmse:0.167685\ttrain-rmspe:0.239825\ttest-rmspe:0.184026\n",
            "[90]\ttrain-rmse:0.16678\ttest-rmse:0.166736\ttrain-rmspe:0.239059\ttest-rmspe:0.183056\n",
            "[91]\ttrain-rmse:0.166435\ttest-rmse:0.166394\ttrain-rmspe:0.238786\ttest-rmspe:0.18275\n",
            "[92]\ttrain-rmse:0.165402\ttest-rmse:0.165354\ttrain-rmspe:0.238174\ttest-rmspe:0.181584\n",
            "[93]\ttrain-rmse:0.164217\ttest-rmse:0.164189\ttrain-rmspe:0.237189\ttest-rmspe:0.180328\n",
            "[94]\ttrain-rmse:0.163947\ttest-rmse:0.163924\ttrain-rmspe:0.237197\ttest-rmspe:0.180114\n",
            "[95]\ttrain-rmse:0.163048\ttest-rmse:0.163021\ttrain-rmspe:0.236093\ttest-rmspe:0.179073\n",
            "[96]\ttrain-rmse:0.161904\ttest-rmse:0.16187\ttrain-rmspe:0.236076\ttest-rmspe:0.177845\n",
            "[97]\ttrain-rmse:0.161231\ttest-rmse:0.161195\ttrain-rmspe:0.235475\ttest-rmspe:0.17712\n",
            "[98]\ttrain-rmse:0.160835\ttest-rmse:0.16081\ttrain-rmspe:0.235115\ttest-rmspe:0.176722\n",
            "[99]\ttrain-rmse:0.15937\ttest-rmse:0.159326\ttrain-rmspe:0.23393\ttest-rmspe:0.175126\n"
          ],
          "name": "stdout"
        }
      ]
    },
    {
      "cell_type": "code",
      "metadata": {
        "colab": {
          "base_uri": "https://localhost:8080/"
        },
        "id": "PkKfjwbrccA7",
        "outputId": "e6fa5a82-6d3a-4231-8ff7-d418e7d668ff"
      },
      "source": [
        "yhat = model_final.predict(xgb.DMatrix(X_test[predictors]))\n",
        "error = rmspe(X_test.Sales.values, np.exp(yhat))\n",
        "\n",
        "print('Primera validacion conduce a un RMSPE de: {:.6f}'.format(error))"
      ],
      "execution_count": null,
      "outputs": [
        {
          "output_type": "stream",
          "text": [
            "Primera validacion conduce a un RMSPE de: 0.175071\n"
          ],
          "name": "stdout"
        }
      ]
    },
    {
      "cell_type": "markdown",
      "metadata": {
        "id": "OEOV2OHKccA8"
      },
      "source": [
        "### Entendimiento del modelo\n",
        "\n",
        "Las puntuaciones de importancia de las características nos ayudan a ver qué variables contribuyeron más a la puntuación."
      ]
    },
    {
      "cell_type": "code",
      "metadata": {
        "colab": {
          "base_uri": "https://localhost:8080/",
          "height": 318
        },
        "id": "WY9LHANqccA8",
        "outputId": "d67b6d53-bc15-48dc-a018-a969e8722bd8"
      },
      "source": [
        "xgb.plot_importance(model_final)"
      ],
      "execution_count": null,
      "outputs": [
        {
          "output_type": "execute_result",
          "data": {
            "text/plain": [
              "<matplotlib.axes._subplots.AxesSubplot at 0x7fcd1e83fe90>"
            ]
          },
          "metadata": {
            "tags": []
          },
          "execution_count": 45
        },
        {
          "output_type": "display_data",
          "data": {
            "image/png": "[encoded data removed]",
            "text/plain": [
              "<Figure size 432x288 with 1 Axes>"
            ]
          },
          "metadata": {
            "tags": []
          }
        }
      ]
    },
    {
      "cell_type": "markdown",
      "metadata": {
        "id": "EoXX--Q-ccA8"
      },
      "source": [
        "Variables Store and CompetitionDistance are both leading. Then go features CompetitionOpenSinceMonth,  CompetitionOpenSinceYear, DayOfWeek, PromoSinceWeek and deducted features PromoOpen."
      ]
    },
    {
      "cell_type": "markdown",
      "metadata": {
        "id": "a-ZKkKm-ccA8"
      },
      "source": [
        "### Prediccion"
      ]
    },
    {
      "cell_type": "code",
      "metadata": {
        "colab": {
          "base_uri": "https://localhost:8080/",
          "height": 232
        },
        "id": "0JjNJ1H7ccA8",
        "outputId": "6fd9a2a1-3f40-42ca-b1d9-fe86b668fa24"
      },
      "source": [
        "# predictions to unseen data\n",
        "unseen = xgb.DMatrix(test_store[predictors])\n",
        "test_p = model_final.predict(unseen)\n",
        "\n",
        "forecasts = pd.DataFrame({'Id': test['Id'], \n",
        "                          'Sales': np.exp(test_p)})\n",
        "# forecasts\n",
        "forecasts.head()"
      ],
      "execution_count": null,
      "outputs": [
        {
          "output_type": "execute_result",
          "data": {
            "text/html": [
              "<div>\n",
              "<style scoped>\n",
              "    .dataframe tbody tr th:only-of-type {\n",
              "        vertical-align: middle;\n",
              "    }\n",
              "\n",
              "    .dataframe tbody tr th {\n",
              "        vertical-align: top;\n",
              "    }\n",
              "\n",
              "    .dataframe thead th {\n",
              "        text-align: right;\n",
              "    }\n",
              "</style>\n",
              "<table border=\"1\" class=\"dataframe\">\n",
              "  <thead>\n",
              "    <tr style=\"text-align: right;\">\n",
              "      <th></th>\n",
              "      <th>Id</th>\n",
              "      <th>Sales</th>\n",
              "    </tr>\n",
              "    <tr>\n",
              "      <th>Date</th>\n",
              "      <th></th>\n",
              "      <th></th>\n",
              "    </tr>\n",
              "  </thead>\n",
              "  <tbody>\n",
              "    <tr>\n",
              "      <th>2015-09-17</th>\n",
              "      <td>1</td>\n",
              "      <td>4746.371094</td>\n",
              "    </tr>\n",
              "    <tr>\n",
              "      <th>2015-09-17</th>\n",
              "      <td>2</td>\n",
              "      <td>4989.519043</td>\n",
              "    </tr>\n",
              "    <tr>\n",
              "      <th>2015-09-17</th>\n",
              "      <td>3</td>\n",
              "      <td>4983.332031</td>\n",
              "    </tr>\n",
              "    <tr>\n",
              "      <th>2015-09-17</th>\n",
              "      <td>4</td>\n",
              "      <td>5732.361816</td>\n",
              "    </tr>\n",
              "    <tr>\n",
              "      <th>2015-09-17</th>\n",
              "      <td>5</td>\n",
              "      <td>4347.401855</td>\n",
              "    </tr>\n",
              "  </tbody>\n",
              "</table>\n",
              "</div>"
            ],
            "text/plain": [
              "            Id        Sales\n",
              "Date                       \n",
              "2015-09-17   1  4746.371094\n",
              "2015-09-17   2  4989.519043\n",
              "2015-09-17   3  4983.332031\n",
              "2015-09-17   4  5732.361816\n",
              "2015-09-17   5  4347.401855"
            ]
          },
          "metadata": {
            "tags": []
          },
          "execution_count": 46
        }
      ]
    },
    {
      "cell_type": "code",
      "metadata": {
        "colab": {
          "base_uri": "https://localhost:8080/",
          "height": 312
        },
        "id": "HscHhK8CccA9",
        "outputId": "ec89a084-d9da-496e-e49d-be4642fd8dc1"
      },
      "source": [
        "forecasts['Sales'].plot()"
      ],
      "execution_count": null,
      "outputs": [
        {
          "output_type": "execute_result",
          "data": {
            "text/plain": [
              "<matplotlib.axes._subplots.AxesSubplot at 0x7fcd1eb43f90>"
            ]
          },
          "metadata": {
            "tags": []
          },
          "execution_count": 47
        },
        {
          "output_type": "display_data",
          "data": {
            "image/png": "[encoded data removed]",
            "text/plain": [
              "<Figure size 432x288 with 1 Axes>"
            ]
          },
          "metadata": {
            "tags": []
          }
        }
      ]
    },
    {
      "cell_type": "markdown",
      "metadata": {
        "id": "bMD40sV_ccA9"
      },
      "source": [
        "Respecto al XGboost model, recientemente Microsoft lanzo [open sourced LightGBM](https://github.com/Microsoft/LightGBM/tree/master/examples/python-guide), una libreria potencialmente sería superior que XGboost."
      ]
    }
  ]
}