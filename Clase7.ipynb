{
  "nbformat": 4,
  "nbformat_minor": 0,
  "metadata": {
    "colab": {
      "name": "Clase7.ipynb",
      "provenance": [],
      "authorship_tag": "ABX9TyOZooAvJfsWXDthLYYitKim",
      "include_colab_link": true
    },
    "kernelspec": {
      "name": "python3",
      "display_name": "Python 3"
    },
    "language_info": {
      "name": "python"
    }
  },
  "cells": [
    {
      "cell_type": "markdown",
      "metadata": {
        "id": "view-in-github",
        "colab_type": "text"
      },
      "source": [
        "<a href=\"https://colab.research.google.com/github/GiselaCS/Mujeres_Digitales/blob/main/Clase7.ipynb\" target=\"_parent\"><img src=\"https://colab.research.google.com/assets/colab-badge.svg\" alt=\"Open In Colab\"/></a>"
      ]
    },
    {
      "cell_type": "code",
      "metadata": {
        "id": "N4HC-sbHyJcb"
      },
      "source": [
        ""
      ],
      "execution_count": null,
      "outputs": []
    },
    {
      "cell_type": "markdown",
      "metadata": {
        "id": "sbJ7uPIPzGnz"
      },
      "source": [
        "**Contuniacion de Funciones**\n",
        "---\n"
      ]
    },
    {
      "cell_type": "code",
      "metadata": {
        "colab": {
          "base_uri": "https://localhost:8080/"
        },
        "id": "uKHB2lU1zREv",
        "outputId": "bda04635-233c-4319-9e41-d4d2d3b31ab7"
      },
      "source": [
        "#recordemos el ejercicio de la clase pasada\n",
        "#en el elemento number se guardan las cosas\n",
        "def suma (number):\n",
        "  #print(type(number))\n",
        "  total=0\n",
        "  for i in number:\n",
        "    total+=i\n",
        "  return total\n",
        "suma([2,3,5,4]) #en formato lista estos elementos se guardar en el argumento (number)"
      ],
      "execution_count": 1,
      "outputs": [
        {
          "output_type": "execute_result",
          "data": {
            "text/plain": [
              "14"
            ]
          },
          "metadata": {
            "tags": []
          },
          "execution_count": 1
        }
      ]
    },
    {
      "cell_type": "code",
      "metadata": {
        "colab": {
          "base_uri": "https://localhost:8080/"
        },
        "id": "fSUhVeNi0rVS",
        "outputId": "e1cba846-1749-4376-8424-ae83cbfc5926"
      },
      "source": [
        "\n",
        "#el asterico vuelve tipo tupla para no convertir en tipo tupla\n",
        "#para no declarar de nuevo abajo los valores ([]), como en el ejercico anterior.\n",
        "def suma (*number):\n",
        "  print(type(number))\n",
        "  total=0\n",
        "  for i in number:\n",
        "    total+=i\n",
        "  return total\n",
        "suma(2,3,5,4)"
      ],
      "execution_count": 2,
      "outputs": [
        {
          "output_type": "stream",
          "text": [
            "<class 'tuple'>\n"
          ],
          "name": "stdout"
        },
        {
          "output_type": "execute_result",
          "data": {
            "text/plain": [
              "14"
            ]
          },
          "metadata": {
            "tags": []
          },
          "execution_count": 2
        }
      ]
    },
    {
      "cell_type": "markdown",
      "metadata": {
        "id": "22lfz9kf1Ibk"
      },
      "source": [
        ""
      ]
    },
    {
      "cell_type": "code",
      "metadata": {
        "colab": {
          "base_uri": "https://localhost:8080/"
        },
        "id": "heYQ4zZu1dYP",
        "outputId": "d41d7a96-4113-486d-d299-4070b6f87430"
      },
      "source": [
        "#se reusa el argumento anterior donde de hizo la defincion de la funcion\n",
        "#deja agregar mas argumentos *\n",
        "suma(1,2,5,6,7,9) #al realizar el cambio y/o edicion de la funcion suma\n",
        "#que veniamos usando, se puede añadir en elementos para iterar la funcion definida"
      ],
      "execution_count": 7,
      "outputs": [
        {
          "output_type": "stream",
          "text": [
            "<class 'tuple'>\n"
          ],
          "name": "stdout"
        },
        {
          "output_type": "execute_result",
          "data": {
            "text/plain": [
              "30"
            ]
          },
          "metadata": {
            "tags": []
          },
          "execution_count": 7
        }
      ]
    },
    {
      "cell_type": "markdown",
      "metadata": {
        "id": "ucICp-Q02dST"
      },
      "source": [
        "**uso de(**) ** \n",
        "---\n",
        "\n",
        "el uso del doble astericos nos permite tener como parametro de entrada una lista de elementos en forma de clave y valor. la forma de usarlo el comando *item()"
      ]
    },
    {
      "cell_type": "code",
      "metadata": {
        "colab": {
          "base_uri": "https://localhost:8080/"
        },
        "id": "WxcaK-Nm2UoY",
        "outputId": "a500bdea-2fe6-452b-9dcc-cc9af0bcab04"
      },
      "source": [
        "#otra forma de llamar un solo arguemento que almacena varios elementos\n",
        "#con dos asteriscos **\n",
        "def suma(**dado):\n",
        "  suma=0; #la funcion inicia desde cero\n",
        "  #j son los valores\n",
        "  #i las claves\n",
        "  for i, j in dado.items(): #con esto agarra cada uno de los elementos\n",
        "    suma += j\n",
        "  return suma\n",
        "#de deja explicito cuales son los valores que voy a nombrar para reemplazar elementos\n",
        "suma(a=3,b=30,c=7)"
      ],
      "execution_count": 8,
      "outputs": [
        {
          "output_type": "execute_result",
          "data": {
            "text/plain": [
              "40"
            ]
          },
          "metadata": {
            "tags": []
          },
          "execution_count": 8
        }
      ]
    },
    {
      "cell_type": "markdown",
      "metadata": {
        "id": "ObJrHt694ARL"
      },
      "source": [
        "**ampliemos la definicion del comando return**\n",
        "---\n",
        "1. Devolver parámetros \n"
      ]
    },
    {
      "cell_type": "code",
      "metadata": {
        "colab": {
          "base_uri": "https://localhost:8080/",
          "height": 35
        },
        "id": "t6mSb8Dn4VSl",
        "outputId": "cfda6683-2092-4b59-b9e8-73c02baa15de"
      },
      "source": [
        "#ejemplo 1.\n",
        "def w(): #sin argumentos\n",
        "  return \"Hi\" #devuelve el parametro que se incluyo \n",
        "w() "
      ],
      "execution_count": 9,
      "outputs": [
        {
          "output_type": "execute_result",
          "data": {
            "application/vnd.google.colaboratory.intrinsic+json": {
              "type": "string"
            },
            "text/plain": [
              "'Hi'"
            ]
          },
          "metadata": {
            "tags": []
          },
          "execution_count": 9
        }
      ]
    },
    {
      "cell_type": "markdown",
      "metadata": {
        "id": "n_3WblCG4qNy"
      },
      "source": [
        "2. Devolver varias variables."
      ]
    },
    {
      "cell_type": "code",
      "metadata": {
        "colab": {
          "base_uri": "https://localhost:8080/"
        },
        "id": "HCEFn1tj4ttG",
        "outputId": "5024fd6a-d895-4782-d572-3eb5657003d1"
      },
      "source": [
        "#ejemplo 2\n",
        "def sd(a,b,c):\n",
        "  q=a+b+c #declaracion de variables con una suma de argumentos.\n",
        "  z=q/3 #declaracion de variables con el promedio\n",
        "  return q,z  #devuelvame tales operaciones\n",
        "q,z=sd(2,4,6) #se llama la funcion para cerrar y que valores toman a,b,c\n",
        "#me muestre \n",
        "print(q)\n",
        "print(z)"
      ],
      "execution_count": 11,
      "outputs": [
        {
          "output_type": "stream",
          "text": [
            "12\n",
            "4.0\n"
          ],
          "name": "stdout"
        }
      ]
    },
    {
      "cell_type": "markdown",
      "metadata": {
        "id": "GortIyd55pyP"
      },
      "source": [
        "**Formas de hacer Documentacion en programacion y bloques de codigo en linea**\n",
        "---\n"
      ]
    },
    {
      "cell_type": "code",
      "metadata": {
        "colab": {
          "base_uri": "https://localhost:8080/"
        },
        "id": "Bpl01T12567f",
        "outputId": "db4eb09e-102e-4276-b1a5-c0286211a557"
      },
      "source": [
        "def gisela(a,b):\n",
        "  \"\"\"\n",
        "  esta es una nota larga.\n",
        "  aqui puede ir a descripcion de la funcion, los parametros que se van a usar \n",
        "  explicar como se usa y que operaciones devuelve esa funcion. \n",
        "  \"\"\"\n",
        "  return a+b\n",
        "gisela(2,3)\n"
      ],
      "execution_count": 12,
      "outputs": [
        {
          "output_type": "execute_result",
          "data": {
            "text/plain": [
              "5"
            ]
          },
          "metadata": {
            "tags": []
          },
          "execution_count": 12
        }
      ]
    },
    {
      "cell_type": "code",
      "metadata": {
        "colab": {
          "base_uri": "https://localhost:8080/"
        },
        "id": "gl8dn6HD69R0",
        "outputId": "d4fd534b-5055-4135-8d29-e643ed32605a"
      },
      "source": [
        "#con el help y el nombre de la funcion se pueden ver las notas que se han agregado\n",
        "help(gisela)"
      ],
      "execution_count": 13,
      "outputs": [
        {
          "output_type": "stream",
          "text": [
            "Help on function gisela in module __main__:\n",
            "\n",
            "gisela(a, b)\n",
            "    esta es una nota larga.\n",
            "    aqui puede ir a descripcion de la funcion, los parametros que se van a usar \n",
            "    explicar como se usa y que operaciones devuelve esa funcion.\n",
            "\n"
          ],
          "name": "stdout"
        }
      ]
    },
    {
      "cell_type": "code",
      "metadata": {
        "colab": {
          "base_uri": "https://localhost:8080/"
        },
        "id": "97HLajEU7G29",
        "outputId": "b35b84f6-8318-46bd-a4e7-f094de391938"
      },
      "source": [
        "#otra forma de acceder, es con el comando de print\n",
        "#no solo el nombre de la funcion, tambien se debe traer .__doc__ (doble guion bajo)\n",
        "print(gisela.__doc__)"
      ],
      "execution_count": 17,
      "outputs": [
        {
          "output_type": "stream",
          "text": [
            "\n",
            "  esta es una nota larga.\n",
            "  aqui puede ir a descripcion de la funcion, los parametros que se van a usar \n",
            "  explicar como se usa y que operaciones devuelve esa funcion. \n",
            "  \n"
          ],
          "name": "stdout"
        }
      ]
    },
    {
      "cell_type": "markdown",
      "metadata": {
        "id": "2pJsh7Uy8cuA"
      },
      "source": [
        "**Diferencia entre valores y referencias**\n",
        "---\n",
        "Existen dos conceptos de paso por *valor* y por *referencia*, que se aplica a la hora de tratar a los parametros de entrada de una función:\n",
        "\n",
        "1. si se usa un parametro que pasa por *valor*, se crea una copia local de la variable, lo cual implica que cualquier modificacion sobre esta, no tendrá reprercusiones sobre la base original.\n",
        "\n",
        "2. si la variable pasa como *referencia*, sí actuara directamente sobre la base orignal.\n",
        "\n"
      ]
    },
    {
      "cell_type": "code",
      "metadata": {
        "colab": {
          "base_uri": "https://localhost:8080/"
        },
        "id": "3yVbvEV29rqs",
        "outputId": "32b64f5e-4de0-4b02-cb7b-e68250e87f62"
      },
      "source": [
        "#ejemplo de paso por **valor**\n",
        "x=3 #declarando variable numerica\n",
        "def funcion(w): #declaro funcion\n",
        "  w=0 # el argumento de entrada es igual a 0\n",
        "funcion(x) #al cerrar la funcion lo que se dice es que el argumento de salida es x\n",
        "print(x)\n"
      ],
      "execution_count": 21,
      "outputs": [
        {
          "output_type": "stream",
          "text": [
            "3\n"
          ],
          "name": "stdout"
        }
      ]
    },
    {
      "cell_type": "markdown",
      "metadata": {
        "id": "kcex_Fe--b1H"
      },
      "source": [
        "1. inicio con x =3\n",
        "2. se lo pasamos a  la funcion()\n",
        "3. dentro de esta funcion hacemos que la variable, valga 0\n",
        "4. dado que pasa como valor, dentro de la funcion se crea una copia local de x.\n",
        "por lo cual la variable original no se modifica."
      ]
    },
    {
      "cell_type": "code",
      "metadata": {
        "colab": {
          "base_uri": "https://localhost:8080/"
        },
        "id": "mvekdzvr_M88",
        "outputId": "398f08ee-91e1-4733-ddbe-1aaea2370c3b"
      },
      "source": [
        "#caso que pasa por **referencia**\n",
        "x=[3,6,9,12] #lista\n",
        "def sw(tipo): #definimos la funcion \n",
        "  tipo.append(50) #agregar otro valor a la lista append adiciona a listas y diccionarios\n",
        "sw(x) #estos valores pasan por el proceso\n",
        "print(x)"
      ],
      "execution_count": 23,
      "outputs": [
        {
          "output_type": "stream",
          "text": [
            "[3, 6, 9, 12, 50]\n"
          ],
          "name": "stdout"
        }
      ]
    },
    {
      "cell_type": "markdown",
      "metadata": {
        "id": "Qz2fBhz3BYsG"
      },
      "source": [
        "**Tipos de funciones**\n",
        "---\n",
        "1. Funcion Lambda \n",
        "---\n",
        "son funciones que normalmente se usan para definir el codigo en una sola linea "
      ]
    },
    {
      "cell_type": "code",
      "metadata": {
        "colab": {
          "base_uri": "https://localhost:8080/"
        },
        "id": "SedaV_MYB1GW",
        "outputId": "a1d144ad-2281-4d2b-8ec9-01e050a4df01"
      },
      "source": [
        "#lo que normalmente seria la definicion de la funcion de este estilo:\n",
        "#def suma(a,b,c,d)\n",
        "# return a+b+c+d\n",
        "\n",
        "#se puede escribir de la siguiente manera:\n",
        "#primero lambda, luego parametros, luego la operacion y luego los valores\n",
        "(lambda a,b,c,d: a+b+c+d )(1,2,3,4)\n"
      ],
      "execution_count": 25,
      "outputs": [
        {
          "output_type": "execute_result",
          "data": {
            "text/plain": [
              "10"
            ]
          },
          "metadata": {
            "tags": []
          },
          "execution_count": 25
        }
      ]
    },
    {
      "cell_type": "code",
      "metadata": {
        "colab": {
          "base_uri": "https://localhost:8080/"
        },
        "id": "YqHFteCnDU5l",
        "outputId": "ac6d96a6-206c-4cbb-bd69-1b2f4e467849"
      },
      "source": [
        "(lambda *number:sum(number))(1,4,5,8,9)"
      ],
      "execution_count": 27,
      "outputs": [
        {
          "output_type": "execute_result",
          "data": {
            "text/plain": [
              "27"
            ]
          },
          "metadata": {
            "tags": []
          },
          "execution_count": 27
        }
      ]
    },
    {
      "cell_type": "code",
      "metadata": {
        "colab": {
          "base_uri": "https://localhost:8080/"
        },
        "id": "bB-F8aV3EU1i",
        "outputId": "81ed2a7a-2e56-4d96-d80a-f3c19fe2489f"
      },
      "source": [
        "(lambda **number:sum(number.values()))(a=2,b=4,c=5)"
      ],
      "execution_count": 28,
      "outputs": [
        {
          "output_type": "execute_result",
          "data": {
            "text/plain": [
              "11"
            ]
          },
          "metadata": {
            "tags": []
          },
          "execution_count": 28
        }
      ]
    },
    {
      "cell_type": "code",
      "metadata": {
        "colab": {
          "base_uri": "https://localhost:8080/"
        },
        "id": "mc59WjIyExiw",
        "outputId": "3dfdc5dd-96b6-4cf5-ae3d-ba581efc9992"
      },
      "source": [
        "#me muestra un formato conjunto\n",
        "gise=lambda a,b,c,d:(a,b,c,d)\n",
        "print(gise(2,5,7,8))"
      ],
      "execution_count": 30,
      "outputs": [
        {
          "output_type": "stream",
          "text": [
            "(2, 5, 7, 8)\n"
          ],
          "name": "stdout"
        }
      ]
    },
    {
      "cell_type": "markdown",
      "metadata": {
        "id": "0R_nyDnjFlMn"
      },
      "source": [
        "**RECURSIVIDAD**\n",
        "---\n",
        "las caracteristicas de una funcion recursiva son las siguientes:\n",
        "\n",
        "1. seccion en que se llama a si misma\n",
        "2. seccion de bloque de codigo donde este la condicion que implique retornar sin volver a llamarse(IMPORTANTE)\n"
      ]
    }
  ]
}