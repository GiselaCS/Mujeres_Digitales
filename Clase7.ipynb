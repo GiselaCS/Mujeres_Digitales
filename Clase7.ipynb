{
  "nbformat": 4,
  "nbformat_minor": 0,
  "metadata": {
    "colab": {
      "name": "Clase7.ipynb",
      "provenance": [],
      "authorship_tag": "ABX9TyOmmxjQdjIXnr+K4AxOQkFs",
      "include_colab_link": true
    },
    "kernelspec": {
      "name": "python3",
      "display_name": "Python 3"
    },
    "language_info": {
      "name": "python"
    }
  },
  "cells": [
    {
      "cell_type": "markdown",
      "metadata": {
        "id": "view-in-github",
        "colab_type": "text"
      },
      "source": [
        "<a href=\"https://colab.research.google.com/github/GiselaCS/Mujeres_Digitales/blob/main/Clase7.ipynb\" target=\"_parent\"><img src=\"https://colab.research.google.com/assets/colab-badge.svg\" alt=\"Open In Colab\"/></a>"
      ]
    },
    {
      "cell_type": "code",
      "metadata": {
        "id": "N4HC-sbHyJcb"
      },
      "source": [
        ""
      ],
      "execution_count": null,
      "outputs": []
    },
    {
      "cell_type": "markdown",
      "metadata": {
        "id": "sbJ7uPIPzGnz"
      },
      "source": [
        "**Contuniacion de Funciones**\n",
        "---\n"
      ]
    },
    {
      "cell_type": "code",
      "metadata": {
        "colab": {
          "base_uri": "https://localhost:8080/"
        },
        "id": "uKHB2lU1zREv",
        "outputId": "bda04635-233c-4319-9e41-d4d2d3b31ab7"
      },
      "source": [
        "#recordemos el ejercicio de la clase pasada\n",
        "#en el elemento number se guardan las cosas\n",
        "def suma (number):\n",
        "  #print(type(number))\n",
        "  total=0\n",
        "  for i in number:\n",
        "    total+=i\n",
        "  return total\n",
        "suma([2,3,5,4]) #en formato lista estos elementos se guardar en el argumento (number)"
      ],
      "execution_count": 1,
      "outputs": [
        {
          "output_type": "execute_result",
          "data": {
            "text/plain": [
              "14"
            ]
          },
          "metadata": {
            "tags": []
          },
          "execution_count": 1
        }
      ]
    },
    {
      "cell_type": "code",
      "metadata": {
        "colab": {
          "base_uri": "https://localhost:8080/"
        },
        "id": "fSUhVeNi0rVS",
        "outputId": "e1cba846-1749-4376-8424-ae83cbfc5926"
      },
      "source": [
        "\n",
        "#el asterico vuelve tipo tupla para no convertir en tipo tupla\n",
        "#para no declarar de nuevo abajo los valores ([]), como en el ejercico anterior.\n",
        "def suma (*number):\n",
        "  print(type(number))\n",
        "  total=0\n",
        "  for i in number:\n",
        "    total+=i\n",
        "  return total\n",
        "suma(2,3,5,4)"
      ],
      "execution_count": 2,
      "outputs": [
        {
          "output_type": "stream",
          "text": [
            "<class 'tuple'>\n"
          ],
          "name": "stdout"
        },
        {
          "output_type": "execute_result",
          "data": {
            "text/plain": [
              "14"
            ]
          },
          "metadata": {
            "tags": []
          },
          "execution_count": 2
        }
      ]
    },
    {
      "cell_type": "markdown",
      "metadata": {
        "id": "22lfz9kf1Ibk"
      },
      "source": [
        ""
      ]
    },
    {
      "cell_type": "code",
      "metadata": {
        "colab": {
          "base_uri": "https://localhost:8080/"
        },
        "id": "heYQ4zZu1dYP",
        "outputId": "d41d7a96-4113-486d-d299-4070b6f87430"
      },
      "source": [
        "#se reusa el argumento anterior donde de hizo la defincion de la funcion\n",
        "#deja agregar mas argumentos *\n",
        "suma(1,2,5,6,7,9) #al realizar el cambio y/o edicion de la funcion suma\n",
        "#que veniamos usando, se puede añadir en elementos para iterar la funcion definida"
      ],
      "execution_count": 7,
      "outputs": [
        {
          "output_type": "stream",
          "text": [
            "<class 'tuple'>\n"
          ],
          "name": "stdout"
        },
        {
          "output_type": "execute_result",
          "data": {
            "text/plain": [
              "30"
            ]
          },
          "metadata": {
            "tags": []
          },
          "execution_count": 7
        }
      ]
    },
    {
      "cell_type": "markdown",
      "metadata": {
        "id": "ucICp-Q02dST"
      },
      "source": [
        "**uso de(**) ** \n",
        "---\n",
        "\n",
        "el uso del doble astericos nos permite tener como parametro de entrada una lista de elementos en forma de clave y valor. la forma de usarlo el comando *item()"
      ]
    },
    {
      "cell_type": "code",
      "metadata": {
        "colab": {
          "base_uri": "https://localhost:8080/"
        },
        "id": "WxcaK-Nm2UoY",
        "outputId": "a500bdea-2fe6-452b-9dcc-cc9af0bcab04"
      },
      "source": [
        "#otra forma de llamar un solo arguemento que almacena varios elementos\n",
        "#con dos asteriscos **\n",
        "def suma(**dado):\n",
        "  suma=0; #la funcion inicia desde cero\n",
        "  #j son los valores\n",
        "  #i las claves\n",
        "  for i, j in dado.items(): #con esto agarra cada uno de los elementos\n",
        "    suma += j\n",
        "  return suma\n",
        "#de deja explicito cuales son los valores que voy a nombrar para reemplazar elementos\n",
        "suma(a=3,b=30,c=7)"
      ],
      "execution_count": 8,
      "outputs": [
        {
          "output_type": "execute_result",
          "data": {
            "text/plain": [
              "40"
            ]
          },
          "metadata": {
            "tags": []
          },
          "execution_count": 8
        }
      ]
    },
    {
      "cell_type": "markdown",
      "metadata": {
        "id": "ObJrHt694ARL"
      },
      "source": [
        "**ampliemos la definicion del comando return**\n",
        "---\n",
        "1. Devolver parámetros \n"
      ]
    },
    {
      "cell_type": "code",
      "metadata": {
        "colab": {
          "base_uri": "https://localhost:8080/",
          "height": 35
        },
        "id": "t6mSb8Dn4VSl",
        "outputId": "cfda6683-2092-4b59-b9e8-73c02baa15de"
      },
      "source": [
        "#ejemplo 1.\n",
        "def w(): #sin argumentos\n",
        "  return \"Hi\" #devuelve el parametro que se incluyo \n",
        "w() "
      ],
      "execution_count": 9,
      "outputs": [
        {
          "output_type": "execute_result",
          "data": {
            "application/vnd.google.colaboratory.intrinsic+json": {
              "type": "string"
            },
            "text/plain": [
              "'Hi'"
            ]
          },
          "metadata": {
            "tags": []
          },
          "execution_count": 9
        }
      ]
    },
    {
      "cell_type": "markdown",
      "metadata": {
        "id": "n_3WblCG4qNy"
      },
      "source": [
        "2. Devolver varias variables."
      ]
    },
    {
      "cell_type": "code",
      "metadata": {
        "colab": {
          "base_uri": "https://localhost:8080/"
        },
        "id": "HCEFn1tj4ttG",
        "outputId": "5024fd6a-d895-4782-d572-3eb5657003d1"
      },
      "source": [
        "#ejemplo 2\n",
        "def sd(a,b,c):\n",
        "  q=a+b+c #declaracion de variables con una suma de argumentos.\n",
        "  z=q/3 #declaracion de variables con el promedio\n",
        "  return q,z  #devuelvame tales operaciones\n",
        "q,z=sd(2,4,6) #se llama la funcion para cerrar y que valores toman a,b,c\n",
        "#me muestre \n",
        "print(q)\n",
        "print(z)"
      ],
      "execution_count": 11,
      "outputs": [
        {
          "output_type": "stream",
          "text": [
            "12\n",
            "4.0\n"
          ],
          "name": "stdout"
        }
      ]
    },
    {
      "cell_type": "markdown",
      "metadata": {
        "id": "GortIyd55pyP"
      },
      "source": [
        "**Formas de hacer Documentacion en programacion y bloques de codigo en linea**\n",
        "---\n"
      ]
    },
    {
      "cell_type": "code",
      "metadata": {
        "colab": {
          "base_uri": "https://localhost:8080/"
        },
        "id": "Bpl01T12567f",
        "outputId": "db4eb09e-102e-4276-b1a5-c0286211a557"
      },
      "source": [
        "def gisela(a,b):\n",
        "  \"\"\"\n",
        "  esta es una nota larga.\n",
        "  aqui puede ir a descripcion de la funcion, los parametros que se van a usar \n",
        "  explicar como se usa y que operaciones devuelve esa funcion. \n",
        "  \"\"\"\n",
        "  return a+b\n",
        "gisela(2,3)\n"
      ],
      "execution_count": 12,
      "outputs": [
        {
          "output_type": "execute_result",
          "data": {
            "text/plain": [
              "5"
            ]
          },
          "metadata": {
            "tags": []
          },
          "execution_count": 12
        }
      ]
    },
    {
      "cell_type": "code",
      "metadata": {
        "colab": {
          "base_uri": "https://localhost:8080/"
        },
        "id": "gl8dn6HD69R0",
        "outputId": "d4fd534b-5055-4135-8d29-e643ed32605a"
      },
      "source": [
        "#con el help y el nombre de la funcion se pueden ver las notas que se han agregado\n",
        "help(gisela)"
      ],
      "execution_count": 13,
      "outputs": [
        {
          "output_type": "stream",
          "text": [
            "Help on function gisela in module __main__:\n",
            "\n",
            "gisela(a, b)\n",
            "    esta es una nota larga.\n",
            "    aqui puede ir a descripcion de la funcion, los parametros que se van a usar \n",
            "    explicar como se usa y que operaciones devuelve esa funcion.\n",
            "\n"
          ],
          "name": "stdout"
        }
      ]
    },
    {
      "cell_type": "code",
      "metadata": {
        "colab": {
          "base_uri": "https://localhost:8080/"
        },
        "id": "97HLajEU7G29",
        "outputId": "b35b84f6-8318-46bd-a4e7-f094de391938"
      },
      "source": [
        "#otra forma de acceder, es con el comando de print\n",
        "#no solo el nombre de la funcion, tambien se debe traer .__doc__ (doble guion bajo)\n",
        "print(gisela.__doc__)"
      ],
      "execution_count": 17,
      "outputs": [
        {
          "output_type": "stream",
          "text": [
            "\n",
            "  esta es una nota larga.\n",
            "  aqui puede ir a descripcion de la funcion, los parametros que se van a usar \n",
            "  explicar como se usa y que operaciones devuelve esa funcion. \n",
            "  \n"
          ],
          "name": "stdout"
        }
      ]
    }
  ]
}