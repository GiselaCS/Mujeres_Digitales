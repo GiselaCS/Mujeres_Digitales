{
  "nbformat": 4,
  "nbformat_minor": 0,
  "metadata": {
    "colab": {
      "name": "Clase8_Taller_2.ipynb",
      "provenance": [],
      "collapsed_sections": [],
      "authorship_tag": "ABX9TyM8CXXEvghoB5gTXW96Z6GP",
      "include_colab_link": true
    },
    "kernelspec": {
      "name": "python3",
      "display_name": "Python 3"
    },
    "language_info": {
      "name": "python"
    }
  },
  "cells": [
    {
      "cell_type": "markdown",
      "metadata": {
        "id": "view-in-github",
        "colab_type": "text"
      },
      "source": [
        "<a href=\"https://colab.research.google.com/github/GiselaCS/Mujeres_Digitales/blob/main/Clase8_Taller_2.ipynb\" target=\"_parent\"><img src=\"https://colab.research.google.com/assets/colab-badge.svg\" alt=\"Open In Colab\"/></a>"
      ]
    },
    {
      "cell_type": "code",
      "metadata": {
        "id": "M2CvWQxa0rdI"
      },
      "source": [
        ""
      ],
      "execution_count": null,
      "outputs": []
    },
    {
      "cell_type": "markdown",
      "metadata": {
        "id": "gTpx4JdK8MtP"
      },
      "source": [
        "**Ejercicio de practica**\n",
        "---\n",
        "\n",
        "---\n",
        "\n",
        "\n",
        "\n",
        "se le pide a la analista realizar una estimacion poblacional a partir de informacion descriptiva relevante, sobre la poblacion de los paises en via de desarrollo.\n",
        "\n",
        "para ello de inicio se solicita que se cree un programa que permita ingresar como prueba, 5 paises y su respectiva poblacion, e identificar que pais tiene la mayor cantidad de habitantes. \n",
        "\n",
        "\n"
      ]
    },
    {
      "cell_type": "code",
      "metadata": {
        "colab": {
          "base_uri": "https://localhost:8080/"
        },
        "id": "YWZWc2w9ArC1",
        "outputId": "e5639040-9dec-45cf-f29e-a58911648dd9"
      },
      "source": [
        "def poblacion():\n",
        "  pais=[] #variable lista\n",
        "  for x in range(2): #iterar\n",
        "    nombre=input(\"Ingresa el nombre del pais: \") #ejercicio dinamico\n",
        "    cant=int(input(\"ingrese la cantidad de habitantes: \"))\n",
        "    pais.append((nombre,cant)) #añadir al conjunto vacio pais con el append\n",
        "  return pais #me retorne la lista\n",
        "\n",
        "#parte para traer la lista\n",
        "def view(pais): #argumento de entrada\n",
        "  print(\"Habitantes por país: \")\n",
        "  #len para cantidad\n",
        "  for x in range(len(pais)):#para cada en el rango de (pais)\n",
        "  #nombre es cero, cantidad 1\n",
        "    print(pais[x][0],pais[x][1]) #[para traer nombres], el segundo para la ubicacion\n",
        "#para la operacion\n",
        "\n",
        "def mayor(pais):\n",
        "  p=0\n",
        "  for x in range(1,len(pais)):\n",
        "    if pais[x][1]>pais[p][1]: #si el segundo es mayor que el primero entonces\n",
        "      pos=x #trae el mayor\n",
        "  print(\"el pais con la mas alta poblacion registrada es: \", pais[pos][0])\n",
        "\n",
        " #cerrar\n",
        "pais= poblacion()\n",
        "view(pais)\n",
        "mayor(pais)"
      ],
      "execution_count": 15,
      "outputs": [
        {
          "output_type": "stream",
          "text": [
            "Ingresa el nombre del pais: colombia\n",
            "ingrese la cantidad de habitantes: 5\n",
            "Ingresa el nombre del pais: peru\n",
            "ingrese la cantidad de habitantes: 10\n",
            "Habitantes por país: \n",
            "colombia 5\n",
            "peru 10\n",
            "el pais con la mas alta poblacion registrada es:  peru\n"
          ],
          "name": "stdout"
        }
      ]
    },
    {
      "cell_type": "markdown",
      "metadata": {
        "id": "RkoAha91E3Xy"
      },
      "source": [
        "\n",
        "\n",
        "---\n",
        "**TALLER 2**\n",
        "\n",
        "\n",
        "---\n",
        "Se solicita realizar un programa que permita **identificar** el nivel de cumplimiento del area de ventas de la empresa AVA.\n",
        "\n",
        "Entre los principales requerimientos se encuentran los siguientes:\n",
        "\n",
        "1. Permita ingresar la cantidad de vendedores del area de ventas.\n",
        "2. Permita ingresar la puntuacion para cada uno de ellos *(escala de 1 a 10)* \n",
        "3. El programa debe permitir *identificar* el vendedor con peor rendimiento (1) y mejor rendimiento(10)\n",
        "4. obtener el promedio general del nivel de cumplimiento del area de ventas.\n",
        "\n",
        "**Nota:** si hay empate en la puntuación para definir el primer y ultimo puesto, *se define por orden alfabetico*.\n",
        "\n",
        "\n",
        "\n",
        "\n",
        "\n"
      ]
    },
    {
      "cell_type": "code",
      "metadata": {
        "id": "LRu2kefvGNPc"
      },
      "source": [
        "#ejemplo \n",
        "se=[1,10,6,8,4]\n",
        "sorted(se) #organiza la lista"
      ],
      "execution_count": null,
      "outputs": []
    },
    {
      "cell_type": "markdown",
      "metadata": {
        "id": "BGecpgiuIcwD"
      },
      "source": [
        "**Solucion taller**"
      ]
    },
    {
      "cell_type": "code",
      "metadata": {
        "colab": {
          "base_uri": "https://localhost:8080/"
        },
        "id": "Kbz4RYB_H1BG",
        "outputId": "81c7a9cc-ceae-4380-f9ef-5ec624c8c66e"
      },
      "source": [
        "#solicitamos los valores\n",
        "def ventas():\n",
        "  cantidad=int(input(\"ingrese la cantidad de vendedores: \"))\n",
        "  vendedor=[] \n",
        "  for x in range(cantidad): \n",
        "    nombre=input(\"Ingresa el nombre del vendedor: \") \n",
        "    cant=int(input(\"Ingresa la puntuacion del vendedor de (1 a 10): \"))\n",
        "    vendedor.append((nombre,cant)) \n",
        "  return vendedor \n",
        "\n",
        "#traemos la lista de vendedores\n",
        "\n",
        "def viewV(vendedor): \n",
        "  print(\"Cantidad por vendedor: \")\n",
        "  \n",
        "  for x in range(len(vendedor)):\n",
        "  \n",
        "    print(vendedor[x][0],vendedor[x][1]) \n",
        "\n",
        "#cerrar\n",
        "vendedor= ventas()\n",
        "viewV(vendedor)"
      ],
      "execution_count": 18,
      "outputs": [
        {
          "output_type": "stream",
          "text": [
            "ingrese la cantidad de vendedores:3\n",
            "Ingresa el nombre del vendedor: luis\n",
            "Ingresa la puntuacion del vendedor de 1 a 10: 1\n",
            "Ingresa el nombre del vendedor: maria\n",
            "Ingresa la puntuacion del vendedor de 1 a 10: 4\n",
            "Ingresa el nombre del vendedor: jorge\n",
            "Ingresa la puntuacion del vendedor de 1 a 10: 5\n",
            "Cantidad por vendedor: \n",
            "luis 1\n",
            "maria 4\n",
            "jorge 5\n"
          ],
          "name": "stdout"
        }
      ]
    }
  ]
}