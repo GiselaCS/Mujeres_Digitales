{
  "nbformat": 4,
  "nbformat_minor": 5,
  "metadata": {
    "kernelspec": {
      "display_name": "Python 3",
      "language": "python",
      "name": "python3"
    },
    "language_info": {
      "codemirror_mode": {
        "name": "ipython",
        "version": 3
      },
      "file_extension": ".py",
      "mimetype": "text/x-python",
      "name": "python",
      "nbconvert_exporter": "python",
      "pygments_lexer": "ipython3",
      "version": "3.8.11"
    },
    "colab": {
      "name": "Taller semana 3.ipynb",
      "provenance": [],
      "include_colab_link": true
    }
  },
  "cells": [
    {
      "cell_type": "markdown",
      "metadata": {
        "id": "view-in-github",
        "colab_type": "text"
      },
      "source": [
        "<a href=\"https://colab.research.google.com/github/GiselaCS/Mujeres_Digitales/blob/main/Taller_semana_3.ipynb\" target=\"_parent\"><img src=\"https://colab.research.google.com/assets/colab-badge.svg\" alt=\"Open In Colab\"/></a>"
      ]
    },
    {
      "cell_type": "markdown",
      "metadata": {
        "id": "08e8fc9c"
      },
      "source": [
        "# Taller semana 3"
      ],
      "id": "08e8fc9c"
    },
    {
      "cell_type": "markdown",
      "metadata": {
        "id": "4Xyvg0kQNpcy"
      },
      "source": [
        "Gisela criollo suarez"
      ],
      "id": "4Xyvg0kQNpcy"
    },
    {
      "cell_type": "markdown",
      "metadata": {
        "id": "eaa5a1ca"
      },
      "source": [
        "## Ejercicio 1:\n",
        "\n",
        "Cargue los datos del archivo ```pokemon_data.csv``` a un dataframe, cree una columna que se llame interes asignándole el valor False, luego cambie el valor de esta columna solo para los pokemon que sean legendarios (Legendary = True) y que el Type 1 sea fuego."
      ],
      "id": "eaa5a1ca"
    },
    {
      "cell_type": "code",
      "metadata": {
        "id": "16aff8b8"
      },
      "source": [
        "import pandas as pd"
      ],
      "id": "16aff8b8",
      "execution_count": 229,
      "outputs": []
    },
    {
      "cell_type": "code",
      "metadata": {
        "colab": {
          "base_uri": "https://localhost:8080/"
        },
        "id": "8032ee74",
        "outputId": "827a0871-246d-4553-d61c-b2da4f9bce38"
      },
      "source": [
        "# Escriba su código aquí\n",
        "\n",
        "import os\n",
        "print(os.getcwd())"
      ],
      "id": "8032ee74",
      "execution_count": 230,
      "outputs": [
        {
          "output_type": "stream",
          "text": [
            "/content\n"
          ],
          "name": "stdout"
        }
      ]
    },
    {
      "cell_type": "code",
      "metadata": {
        "id": "m9E99C08qHtT"
      },
      "source": [
        "#traemos el archivo que queremos leer\n",
        "pk = pd.read_csv('pokemon_data.csv')"
      ],
      "id": "m9E99C08qHtT",
      "execution_count": 231,
      "outputs": []
    },
    {
      "cell_type": "code",
      "metadata": {
        "colab": {
          "base_uri": "https://localhost:8080/"
        },
        "id": "d-41BaRusqSh",
        "outputId": "5e909423-6c18-40dc-9f26-8b62e8fecd40"
      },
      "source": [
        "#creamos la nueva columna \n",
        "df = pd.DataFrame (pk)\n",
        "df['Interes']=False\n",
        "print(df)"
      ],
      "id": "d-41BaRusqSh",
      "execution_count": 232,
      "outputs": [
        {
          "output_type": "stream",
          "text": [
            "       #                   Name   Type 1  ... Generation  Legendary  Interes\n",
            "0      1              Bulbasaur    Grass  ...          1      False    False\n",
            "1      2                Ivysaur    Grass  ...          1      False    False\n",
            "2      3               Venusaur    Grass  ...          1      False    False\n",
            "3      3  VenusaurMega Venusaur    Grass  ...          1      False    False\n",
            "4      4             Charmander     Fire  ...          1      False    False\n",
            "..   ...                    ...      ...  ...        ...        ...      ...\n",
            "795  719                Diancie     Rock  ...          6       True    False\n",
            "796  719    DiancieMega Diancie     Rock  ...          6       True    False\n",
            "797  720    HoopaHoopa Confined  Psychic  ...          6       True    False\n",
            "798  720     HoopaHoopa Unbound  Psychic  ...          6       True    False\n",
            "799  721              Volcanion     Fire  ...          6       True    False\n",
            "\n",
            "[800 rows x 13 columns]\n"
          ],
          "name": "stdout"
        }
      ]
    },
    {
      "cell_type": "code",
      "metadata": {
        "colab": {
          "base_uri": "https://localhost:8080/",
          "height": 204
        },
        "id": "QmSa9CiIuV1m",
        "outputId": "989b3242-5a42-4f75-e09c-b7081716be5e"
      },
      "source": [
        "#traer los pokemones de tipo fuego y legendarios\n",
        "df.loc[(df['Type 1'] == 'Fire') & (df['Legendary']==True)] \n",
        "#aqui se ve que el interes es false\n"
      ],
      "id": "QmSa9CiIuV1m",
      "execution_count": 233,
      "outputs": [
        {
          "output_type": "execute_result",
          "data": {
            "text/html": [
              "<div>\n",
              "<style scoped>\n",
              "    .dataframe tbody tr th:only-of-type {\n",
              "        vertical-align: middle;\n",
              "    }\n",
              "\n",
              "    .dataframe tbody tr th {\n",
              "        vertical-align: top;\n",
              "    }\n",
              "\n",
              "    .dataframe thead th {\n",
              "        text-align: right;\n",
              "    }\n",
              "</style>\n",
              "<table border=\"1\" class=\"dataframe\">\n",
              "  <thead>\n",
              "    <tr style=\"text-align: right;\">\n",
              "      <th></th>\n",
              "      <th>#</th>\n",
              "      <th>Name</th>\n",
              "      <th>Type 1</th>\n",
              "      <th>Type 2</th>\n",
              "      <th>HP</th>\n",
              "      <th>Attack</th>\n",
              "      <th>Defense</th>\n",
              "      <th>Sp. Atk</th>\n",
              "      <th>Sp. Def</th>\n",
              "      <th>Speed</th>\n",
              "      <th>Generation</th>\n",
              "      <th>Legendary</th>\n",
              "      <th>Interes</th>\n",
              "    </tr>\n",
              "  </thead>\n",
              "  <tbody>\n",
              "    <tr>\n",
              "      <th>158</th>\n",
              "      <td>146</td>\n",
              "      <td>Moltres</td>\n",
              "      <td>Fire</td>\n",
              "      <td>Flying</td>\n",
              "      <td>90</td>\n",
              "      <td>100</td>\n",
              "      <td>90</td>\n",
              "      <td>125</td>\n",
              "      <td>85</td>\n",
              "      <td>90</td>\n",
              "      <td>1</td>\n",
              "      <td>True</td>\n",
              "      <td>False</td>\n",
              "    </tr>\n",
              "    <tr>\n",
              "      <th>263</th>\n",
              "      <td>244</td>\n",
              "      <td>Entei</td>\n",
              "      <td>Fire</td>\n",
              "      <td>NaN</td>\n",
              "      <td>115</td>\n",
              "      <td>115</td>\n",
              "      <td>85</td>\n",
              "      <td>90</td>\n",
              "      <td>75</td>\n",
              "      <td>100</td>\n",
              "      <td>2</td>\n",
              "      <td>True</td>\n",
              "      <td>False</td>\n",
              "    </tr>\n",
              "    <tr>\n",
              "      <th>270</th>\n",
              "      <td>250</td>\n",
              "      <td>Ho-oh</td>\n",
              "      <td>Fire</td>\n",
              "      <td>Flying</td>\n",
              "      <td>106</td>\n",
              "      <td>130</td>\n",
              "      <td>90</td>\n",
              "      <td>110</td>\n",
              "      <td>154</td>\n",
              "      <td>90</td>\n",
              "      <td>2</td>\n",
              "      <td>True</td>\n",
              "      <td>False</td>\n",
              "    </tr>\n",
              "    <tr>\n",
              "      <th>542</th>\n",
              "      <td>485</td>\n",
              "      <td>Heatran</td>\n",
              "      <td>Fire</td>\n",
              "      <td>Steel</td>\n",
              "      <td>91</td>\n",
              "      <td>90</td>\n",
              "      <td>106</td>\n",
              "      <td>130</td>\n",
              "      <td>106</td>\n",
              "      <td>77</td>\n",
              "      <td>4</td>\n",
              "      <td>True</td>\n",
              "      <td>False</td>\n",
              "    </tr>\n",
              "    <tr>\n",
              "      <th>799</th>\n",
              "      <td>721</td>\n",
              "      <td>Volcanion</td>\n",
              "      <td>Fire</td>\n",
              "      <td>Water</td>\n",
              "      <td>80</td>\n",
              "      <td>110</td>\n",
              "      <td>120</td>\n",
              "      <td>130</td>\n",
              "      <td>90</td>\n",
              "      <td>70</td>\n",
              "      <td>6</td>\n",
              "      <td>True</td>\n",
              "      <td>False</td>\n",
              "    </tr>\n",
              "  </tbody>\n",
              "</table>\n",
              "</div>"
            ],
            "text/plain": [
              "       #       Name Type 1  Type 2  ...  Speed  Generation  Legendary  Interes\n",
              "158  146    Moltres   Fire  Flying  ...     90           1       True    False\n",
              "263  244      Entei   Fire     NaN  ...    100           2       True    False\n",
              "270  250      Ho-oh   Fire  Flying  ...     90           2       True    False\n",
              "542  485    Heatran   Fire   Steel  ...     77           4       True    False\n",
              "799  721  Volcanion   Fire   Water  ...     70           6       True    False\n",
              "\n",
              "[5 rows x 13 columns]"
            ]
          },
          "metadata": {},
          "execution_count": 233
        }
      ]
    },
    {
      "cell_type": "code",
      "metadata": {
        "id": "qNxReth5uHAz"
      },
      "source": [
        "#cambiar los valor del Interes de los pokemones type fire y legendarios.\n",
        "df.loc[(df['Type 1'] == 'Fire') & (df['Legendary']==True), 'Interes'] =True\n",
        "\n",
        "\n"
      ],
      "id": "qNxReth5uHAz",
      "execution_count": 234,
      "outputs": []
    },
    {
      "cell_type": "code",
      "metadata": {
        "colab": {
          "base_uri": "https://localhost:8080/",
          "height": 204
        },
        "id": "am-IoLjyxyi5",
        "outputId": "e0c330cb-4301-490b-b509-6495b6a86810"
      },
      "source": [
        "#traemos de nuevo los pokemones, esta vez se ve que Interes es True\n",
        "df.loc[(df['Type 1'] == 'Fire') & (df['Legendary']==True)]"
      ],
      "id": "am-IoLjyxyi5",
      "execution_count": 235,
      "outputs": [
        {
          "output_type": "execute_result",
          "data": {
            "text/html": [
              "<div>\n",
              "<style scoped>\n",
              "    .dataframe tbody tr th:only-of-type {\n",
              "        vertical-align: middle;\n",
              "    }\n",
              "\n",
              "    .dataframe tbody tr th {\n",
              "        vertical-align: top;\n",
              "    }\n",
              "\n",
              "    .dataframe thead th {\n",
              "        text-align: right;\n",
              "    }\n",
              "</style>\n",
              "<table border=\"1\" class=\"dataframe\">\n",
              "  <thead>\n",
              "    <tr style=\"text-align: right;\">\n",
              "      <th></th>\n",
              "      <th>#</th>\n",
              "      <th>Name</th>\n",
              "      <th>Type 1</th>\n",
              "      <th>Type 2</th>\n",
              "      <th>HP</th>\n",
              "      <th>Attack</th>\n",
              "      <th>Defense</th>\n",
              "      <th>Sp. Atk</th>\n",
              "      <th>Sp. Def</th>\n",
              "      <th>Speed</th>\n",
              "      <th>Generation</th>\n",
              "      <th>Legendary</th>\n",
              "      <th>Interes</th>\n",
              "    </tr>\n",
              "  </thead>\n",
              "  <tbody>\n",
              "    <tr>\n",
              "      <th>158</th>\n",
              "      <td>146</td>\n",
              "      <td>Moltres</td>\n",
              "      <td>Fire</td>\n",
              "      <td>Flying</td>\n",
              "      <td>90</td>\n",
              "      <td>100</td>\n",
              "      <td>90</td>\n",
              "      <td>125</td>\n",
              "      <td>85</td>\n",
              "      <td>90</td>\n",
              "      <td>1</td>\n",
              "      <td>True</td>\n",
              "      <td>True</td>\n",
              "    </tr>\n",
              "    <tr>\n",
              "      <th>263</th>\n",
              "      <td>244</td>\n",
              "      <td>Entei</td>\n",
              "      <td>Fire</td>\n",
              "      <td>NaN</td>\n",
              "      <td>115</td>\n",
              "      <td>115</td>\n",
              "      <td>85</td>\n",
              "      <td>90</td>\n",
              "      <td>75</td>\n",
              "      <td>100</td>\n",
              "      <td>2</td>\n",
              "      <td>True</td>\n",
              "      <td>True</td>\n",
              "    </tr>\n",
              "    <tr>\n",
              "      <th>270</th>\n",
              "      <td>250</td>\n",
              "      <td>Ho-oh</td>\n",
              "      <td>Fire</td>\n",
              "      <td>Flying</td>\n",
              "      <td>106</td>\n",
              "      <td>130</td>\n",
              "      <td>90</td>\n",
              "      <td>110</td>\n",
              "      <td>154</td>\n",
              "      <td>90</td>\n",
              "      <td>2</td>\n",
              "      <td>True</td>\n",
              "      <td>True</td>\n",
              "    </tr>\n",
              "    <tr>\n",
              "      <th>542</th>\n",
              "      <td>485</td>\n",
              "      <td>Heatran</td>\n",
              "      <td>Fire</td>\n",
              "      <td>Steel</td>\n",
              "      <td>91</td>\n",
              "      <td>90</td>\n",
              "      <td>106</td>\n",
              "      <td>130</td>\n",
              "      <td>106</td>\n",
              "      <td>77</td>\n",
              "      <td>4</td>\n",
              "      <td>True</td>\n",
              "      <td>True</td>\n",
              "    </tr>\n",
              "    <tr>\n",
              "      <th>799</th>\n",
              "      <td>721</td>\n",
              "      <td>Volcanion</td>\n",
              "      <td>Fire</td>\n",
              "      <td>Water</td>\n",
              "      <td>80</td>\n",
              "      <td>110</td>\n",
              "      <td>120</td>\n",
              "      <td>130</td>\n",
              "      <td>90</td>\n",
              "      <td>70</td>\n",
              "      <td>6</td>\n",
              "      <td>True</td>\n",
              "      <td>True</td>\n",
              "    </tr>\n",
              "  </tbody>\n",
              "</table>\n",
              "</div>"
            ],
            "text/plain": [
              "       #       Name Type 1  Type 2  ...  Speed  Generation  Legendary  Interes\n",
              "158  146    Moltres   Fire  Flying  ...     90           1       True     True\n",
              "263  244      Entei   Fire     NaN  ...    100           2       True     True\n",
              "270  250      Ho-oh   Fire  Flying  ...     90           2       True     True\n",
              "542  485    Heatran   Fire   Steel  ...     77           4       True     True\n",
              "799  721  Volcanion   Fire   Water  ...     70           6       True     True\n",
              "\n",
              "[5 rows x 13 columns]"
            ]
          },
          "metadata": {},
          "execution_count": 235
        }
      ]
    },
    {
      "cell_type": "code",
      "metadata": {
        "colab": {
          "base_uri": "https://localhost:8080/",
          "height": 453
        },
        "id": "zaSPoO_m3qMK",
        "outputId": "939ac391-146f-4419-df87-092896fc65d1"
      },
      "source": [
        "df\n"
      ],
      "id": "zaSPoO_m3qMK",
      "execution_count": 236,
      "outputs": [
        {
          "output_type": "execute_result",
          "data": {
            "text/html": [
              "<div>\n",
              "<style scoped>\n",
              "    .dataframe tbody tr th:only-of-type {\n",
              "        vertical-align: middle;\n",
              "    }\n",
              "\n",
              "    .dataframe tbody tr th {\n",
              "        vertical-align: top;\n",
              "    }\n",
              "\n",
              "    .dataframe thead th {\n",
              "        text-align: right;\n",
              "    }\n",
              "</style>\n",
              "<table border=\"1\" class=\"dataframe\">\n",
              "  <thead>\n",
              "    <tr style=\"text-align: right;\">\n",
              "      <th></th>\n",
              "      <th>#</th>\n",
              "      <th>Name</th>\n",
              "      <th>Type 1</th>\n",
              "      <th>Type 2</th>\n",
              "      <th>HP</th>\n",
              "      <th>Attack</th>\n",
              "      <th>Defense</th>\n",
              "      <th>Sp. Atk</th>\n",
              "      <th>Sp. Def</th>\n",
              "      <th>Speed</th>\n",
              "      <th>Generation</th>\n",
              "      <th>Legendary</th>\n",
              "      <th>Interes</th>\n",
              "    </tr>\n",
              "  </thead>\n",
              "  <tbody>\n",
              "    <tr>\n",
              "      <th>0</th>\n",
              "      <td>1</td>\n",
              "      <td>Bulbasaur</td>\n",
              "      <td>Grass</td>\n",
              "      <td>Poison</td>\n",
              "      <td>45</td>\n",
              "      <td>49</td>\n",
              "      <td>49</td>\n",
              "      <td>65</td>\n",
              "      <td>65</td>\n",
              "      <td>45</td>\n",
              "      <td>1</td>\n",
              "      <td>False</td>\n",
              "      <td>False</td>\n",
              "    </tr>\n",
              "    <tr>\n",
              "      <th>1</th>\n",
              "      <td>2</td>\n",
              "      <td>Ivysaur</td>\n",
              "      <td>Grass</td>\n",
              "      <td>Poison</td>\n",
              "      <td>60</td>\n",
              "      <td>62</td>\n",
              "      <td>63</td>\n",
              "      <td>80</td>\n",
              "      <td>80</td>\n",
              "      <td>60</td>\n",
              "      <td>1</td>\n",
              "      <td>False</td>\n",
              "      <td>False</td>\n",
              "    </tr>\n",
              "    <tr>\n",
              "      <th>2</th>\n",
              "      <td>3</td>\n",
              "      <td>Venusaur</td>\n",
              "      <td>Grass</td>\n",
              "      <td>Poison</td>\n",
              "      <td>80</td>\n",
              "      <td>82</td>\n",
              "      <td>83</td>\n",
              "      <td>100</td>\n",
              "      <td>100</td>\n",
              "      <td>80</td>\n",
              "      <td>1</td>\n",
              "      <td>False</td>\n",
              "      <td>False</td>\n",
              "    </tr>\n",
              "    <tr>\n",
              "      <th>3</th>\n",
              "      <td>3</td>\n",
              "      <td>VenusaurMega Venusaur</td>\n",
              "      <td>Grass</td>\n",
              "      <td>Poison</td>\n",
              "      <td>80</td>\n",
              "      <td>100</td>\n",
              "      <td>123</td>\n",
              "      <td>122</td>\n",
              "      <td>120</td>\n",
              "      <td>80</td>\n",
              "      <td>1</td>\n",
              "      <td>False</td>\n",
              "      <td>False</td>\n",
              "    </tr>\n",
              "    <tr>\n",
              "      <th>4</th>\n",
              "      <td>4</td>\n",
              "      <td>Charmander</td>\n",
              "      <td>Fire</td>\n",
              "      <td>NaN</td>\n",
              "      <td>39</td>\n",
              "      <td>52</td>\n",
              "      <td>43</td>\n",
              "      <td>60</td>\n",
              "      <td>50</td>\n",
              "      <td>65</td>\n",
              "      <td>1</td>\n",
              "      <td>False</td>\n",
              "      <td>False</td>\n",
              "    </tr>\n",
              "    <tr>\n",
              "      <th>...</th>\n",
              "      <td>...</td>\n",
              "      <td>...</td>\n",
              "      <td>...</td>\n",
              "      <td>...</td>\n",
              "      <td>...</td>\n",
              "      <td>...</td>\n",
              "      <td>...</td>\n",
              "      <td>...</td>\n",
              "      <td>...</td>\n",
              "      <td>...</td>\n",
              "      <td>...</td>\n",
              "      <td>...</td>\n",
              "      <td>...</td>\n",
              "    </tr>\n",
              "    <tr>\n",
              "      <th>795</th>\n",
              "      <td>719</td>\n",
              "      <td>Diancie</td>\n",
              "      <td>Rock</td>\n",
              "      <td>Fairy</td>\n",
              "      <td>50</td>\n",
              "      <td>100</td>\n",
              "      <td>150</td>\n",
              "      <td>100</td>\n",
              "      <td>150</td>\n",
              "      <td>50</td>\n",
              "      <td>6</td>\n",
              "      <td>True</td>\n",
              "      <td>False</td>\n",
              "    </tr>\n",
              "    <tr>\n",
              "      <th>796</th>\n",
              "      <td>719</td>\n",
              "      <td>DiancieMega Diancie</td>\n",
              "      <td>Rock</td>\n",
              "      <td>Fairy</td>\n",
              "      <td>50</td>\n",
              "      <td>160</td>\n",
              "      <td>110</td>\n",
              "      <td>160</td>\n",
              "      <td>110</td>\n",
              "      <td>110</td>\n",
              "      <td>6</td>\n",
              "      <td>True</td>\n",
              "      <td>False</td>\n",
              "    </tr>\n",
              "    <tr>\n",
              "      <th>797</th>\n",
              "      <td>720</td>\n",
              "      <td>HoopaHoopa Confined</td>\n",
              "      <td>Psychic</td>\n",
              "      <td>Ghost</td>\n",
              "      <td>80</td>\n",
              "      <td>110</td>\n",
              "      <td>60</td>\n",
              "      <td>150</td>\n",
              "      <td>130</td>\n",
              "      <td>70</td>\n",
              "      <td>6</td>\n",
              "      <td>True</td>\n",
              "      <td>False</td>\n",
              "    </tr>\n",
              "    <tr>\n",
              "      <th>798</th>\n",
              "      <td>720</td>\n",
              "      <td>HoopaHoopa Unbound</td>\n",
              "      <td>Psychic</td>\n",
              "      <td>Dark</td>\n",
              "      <td>80</td>\n",
              "      <td>160</td>\n",
              "      <td>60</td>\n",
              "      <td>170</td>\n",
              "      <td>130</td>\n",
              "      <td>80</td>\n",
              "      <td>6</td>\n",
              "      <td>True</td>\n",
              "      <td>False</td>\n",
              "    </tr>\n",
              "    <tr>\n",
              "      <th>799</th>\n",
              "      <td>721</td>\n",
              "      <td>Volcanion</td>\n",
              "      <td>Fire</td>\n",
              "      <td>Water</td>\n",
              "      <td>80</td>\n",
              "      <td>110</td>\n",
              "      <td>120</td>\n",
              "      <td>130</td>\n",
              "      <td>90</td>\n",
              "      <td>70</td>\n",
              "      <td>6</td>\n",
              "      <td>True</td>\n",
              "      <td>True</td>\n",
              "    </tr>\n",
              "  </tbody>\n",
              "</table>\n",
              "<p>800 rows × 13 columns</p>\n",
              "</div>"
            ],
            "text/plain": [
              "       #                   Name   Type 1  ... Generation  Legendary  Interes\n",
              "0      1              Bulbasaur    Grass  ...          1      False    False\n",
              "1      2                Ivysaur    Grass  ...          1      False    False\n",
              "2      3               Venusaur    Grass  ...          1      False    False\n",
              "3      3  VenusaurMega Venusaur    Grass  ...          1      False    False\n",
              "4      4             Charmander     Fire  ...          1      False    False\n",
              "..   ...                    ...      ...  ...        ...        ...      ...\n",
              "795  719                Diancie     Rock  ...          6       True    False\n",
              "796  719    DiancieMega Diancie     Rock  ...          6       True    False\n",
              "797  720    HoopaHoopa Confined  Psychic  ...          6       True    False\n",
              "798  720     HoopaHoopa Unbound  Psychic  ...          6       True    False\n",
              "799  721              Volcanion     Fire  ...          6       True     True\n",
              "\n",
              "[800 rows x 13 columns]"
            ]
          },
          "metadata": {},
          "execution_count": 236
        }
      ]
    },
    {
      "cell_type": "markdown",
      "metadata": {
        "id": "da0f488d"
      },
      "source": [
        "## Ejercicio 2\n",
        "\n",
        "Con los datos de pokemones anteriores, escriba un código para sacar el promedio de la columna Attack agrupado por Type 1."
      ],
      "id": "da0f488d"
    },
    {
      "cell_type": "code",
      "metadata": {
        "colab": {
          "base_uri": "https://localhost:8080/"
        },
        "id": "f4434c55",
        "outputId": "41550664-7296-43c3-c5ae-0ec5f471f7c8"
      },
      "source": [
        "# Escriba su código aquí\n",
        "df_type= pk['Type 1'].unique()\n",
        "df_type\n"
      ],
      "id": "f4434c55",
      "execution_count": 237,
      "outputs": [
        {
          "output_type": "execute_result",
          "data": {
            "text/plain": [
              "array(['Grass', 'Fire', 'Water', 'Bug', 'Normal', 'Poison', 'Electric',\n",
              "       'Ground', 'Fairy', 'Fighting', 'Psychic', 'Rock', 'Ghost', 'Ice',\n",
              "       'Dragon', 'Dark', 'Steel', 'Flying'], dtype=object)"
            ]
          },
          "metadata": {},
          "execution_count": 237
        }
      ]
    },
    {
      "cell_type": "code",
      "metadata": {
        "colab": {
          "base_uri": "https://localhost:8080/"
        },
        "id": "yBUbXGO0B8Gk",
        "outputId": "1b623d20-9400-475b-8963-c39ca76d7722"
      },
      "source": [
        "#promedio de Attack Type Fire\n",
        "prom=df.loc[df['Type 1'] == 'Grass','Attack'].mean()\n",
        "prom"
      ],
      "id": "yBUbXGO0B8Gk",
      "execution_count": 159,
      "outputs": [
        {
          "output_type": "execute_result",
          "data": {
            "text/plain": [
              "73.21428571428571"
            ]
          },
          "metadata": {},
          "execution_count": 159
        }
      ]
    },
    {
      "cell_type": "code",
      "metadata": {
        "colab": {
          "base_uri": "https://localhost:8080/"
        },
        "id": "djXotWEs-V2R",
        "outputId": "5e443146-d055-476b-fba5-49150e793f07"
      },
      "source": [
        "#promedio de Attack Type Fire\n",
        "prom=df.loc[df['Type 1'] == 'Fire','Attack'].mean()\n",
        "prom\n"
      ],
      "id": "djXotWEs-V2R",
      "execution_count": 133,
      "outputs": [
        {
          "output_type": "execute_result",
          "data": {
            "text/plain": [
              "84.76923076923077"
            ]
          },
          "metadata": {},
          "execution_count": 133
        }
      ]
    },
    {
      "cell_type": "code",
      "metadata": {
        "colab": {
          "base_uri": "https://localhost:8080/"
        },
        "id": "CeLpCt08_hgz",
        "outputId": "1487fe9e-687e-45cd-b14c-4a696f39881b"
      },
      "source": [
        "#promedio de Attack Type Water\n",
        "prom=df.loc[df['Type 1'] == 'Water','Attack'].mean()\n",
        "prom"
      ],
      "id": "CeLpCt08_hgz",
      "execution_count": 132,
      "outputs": [
        {
          "output_type": "execute_result",
          "data": {
            "text/plain": [
              "74.15178571428571"
            ]
          },
          "metadata": {},
          "execution_count": 132
        }
      ]
    },
    {
      "cell_type": "code",
      "metadata": {
        "colab": {
          "base_uri": "https://localhost:8080/"
        },
        "id": "POoh2EGh_u-B",
        "outputId": "a8da28cb-baf5-46f1-a598-dbabd70466ca"
      },
      "source": [
        "#promedio de Attack Type Bug\n",
        "prom=df.loc[df['Type 1'] == 'Bug','Attack'].mean()\n",
        "prom"
      ],
      "id": "POoh2EGh_u-B",
      "execution_count": 136,
      "outputs": [
        {
          "output_type": "execute_result",
          "data": {
            "text/plain": [
              "70.97101449275362"
            ]
          },
          "metadata": {},
          "execution_count": 136
        }
      ]
    },
    {
      "cell_type": "code",
      "metadata": {
        "colab": {
          "base_uri": "https://localhost:8080/"
        },
        "id": "U1cuuM_X_78T",
        "outputId": "d222dac2-358c-464b-bdd1-cfd5a9dcf0d0"
      },
      "source": [
        "#promedio de Attack Type Normal\n",
        "prom=df.loc[df['Type 1'] == 'Normal','Attack'].mean()\n",
        "prom"
      ],
      "id": "U1cuuM_X_78T",
      "execution_count": 137,
      "outputs": [
        {
          "output_type": "execute_result",
          "data": {
            "text/plain": [
              "73.46938775510205"
            ]
          },
          "metadata": {},
          "execution_count": 137
        }
      ]
    },
    {
      "cell_type": "code",
      "metadata": {
        "colab": {
          "base_uri": "https://localhost:8080/"
        },
        "id": "0k79gfBMAA9b",
        "outputId": "4a7c9d01-2da6-4a81-e69f-f93fdd005586"
      },
      "source": [
        "#promedio de Attack Type Poison\n",
        "prom=df.loc[df['Type 1'] == 'Poison','Attack'].mean()\n",
        "prom"
      ],
      "id": "0k79gfBMAA9b",
      "execution_count": 138,
      "outputs": [
        {
          "output_type": "execute_result",
          "data": {
            "text/plain": [
              "74.67857142857143"
            ]
          },
          "metadata": {},
          "execution_count": 138
        }
      ]
    },
    {
      "cell_type": "code",
      "metadata": {
        "colab": {
          "base_uri": "https://localhost:8080/"
        },
        "id": "BcNqI_hHAHDn",
        "outputId": "d6edb1eb-6910-4a5d-b088-5bb110d20482"
      },
      "source": [
        "#promedio de Attack Type Electric\n",
        "prom=df.loc[df['Type 1'] == 'Electric','Attack'].mean()\n",
        "prom"
      ],
      "id": "BcNqI_hHAHDn",
      "execution_count": 139,
      "outputs": [
        {
          "output_type": "execute_result",
          "data": {
            "text/plain": [
              "69.0909090909091"
            ]
          },
          "metadata": {},
          "execution_count": 139
        }
      ]
    },
    {
      "cell_type": "code",
      "metadata": {
        "colab": {
          "base_uri": "https://localhost:8080/"
        },
        "id": "RmE4litAANr4",
        "outputId": "d5ff3ff0-a2a6-406b-91c6-9daf0b3a3def"
      },
      "source": [
        "#promedio de Attack Type Ground\n",
        "prom=df.loc[df['Type 1'] == 'Ground','Attack'].mean()\n",
        "prom"
      ],
      "id": "RmE4litAANr4",
      "execution_count": 140,
      "outputs": [
        {
          "output_type": "execute_result",
          "data": {
            "text/plain": [
              "95.75"
            ]
          },
          "metadata": {},
          "execution_count": 140
        }
      ]
    },
    {
      "cell_type": "code",
      "metadata": {
        "colab": {
          "base_uri": "https://localhost:8080/"
        },
        "id": "AD6nZ20YAST-",
        "outputId": "c40e603d-261a-48be-cc34-ff1cda44829d"
      },
      "source": [
        "#promedio de Attack Type Fairy\n",
        "prom=df.loc[df['Type 1'] == 'Fairy','Attack'].mean()\n",
        "prom"
      ],
      "id": "AD6nZ20YAST-",
      "execution_count": 142,
      "outputs": [
        {
          "output_type": "execute_result",
          "data": {
            "text/plain": [
              "61.529411764705884"
            ]
          },
          "metadata": {},
          "execution_count": 142
        }
      ]
    },
    {
      "cell_type": "code",
      "metadata": {
        "colab": {
          "base_uri": "https://localhost:8080/"
        },
        "id": "iVQwhWkRAZoO",
        "outputId": "864f8d17-5242-4969-b7c9-9b1e47f5ce4c"
      },
      "source": [
        "#promedio de Attack Type Fighting\n",
        "prom=df.loc[df['Type 1'] == 'Fighting','Attack'].mean()\n",
        "prom"
      ],
      "id": "iVQwhWkRAZoO",
      "execution_count": 143,
      "outputs": [
        {
          "output_type": "execute_result",
          "data": {
            "text/plain": [
              "96.77777777777777"
            ]
          },
          "metadata": {},
          "execution_count": 143
        }
      ]
    },
    {
      "cell_type": "code",
      "metadata": {
        "colab": {
          "base_uri": "https://localhost:8080/"
        },
        "id": "fgjSOT5kAiQa",
        "outputId": "715691ac-4ed7-471d-d475-faf3f50412ed"
      },
      "source": [
        "#promedio de Attack Type Psychic\n",
        "prom=df.loc[df['Type 1'] == 'Psychic','Attack'].mean()\n",
        "prom"
      ],
      "id": "fgjSOT5kAiQa",
      "execution_count": 144,
      "outputs": [
        {
          "output_type": "execute_result",
          "data": {
            "text/plain": [
              "71.45614035087719"
            ]
          },
          "metadata": {},
          "execution_count": 144
        }
      ]
    },
    {
      "cell_type": "code",
      "metadata": {
        "colab": {
          "base_uri": "https://localhost:8080/"
        },
        "id": "ZMLNjw6nAqmD",
        "outputId": "ba7482b8-16e1-4458-d09b-98d3121dc4db"
      },
      "source": [
        "#promedio de Attack Type Rock\n",
        "prom=df.loc[df['Type 1'] == 'Rock','Attack'].mean()\n",
        "prom"
      ],
      "id": "ZMLNjw6nAqmD",
      "execution_count": 145,
      "outputs": [
        {
          "output_type": "execute_result",
          "data": {
            "text/plain": [
              "92.86363636363636"
            ]
          },
          "metadata": {},
          "execution_count": 145
        }
      ]
    },
    {
      "cell_type": "code",
      "metadata": {
        "colab": {
          "base_uri": "https://localhost:8080/"
        },
        "id": "b0JuotRHAudj",
        "outputId": "93810e82-f7e9-4f0a-d100-3f8f7016f154"
      },
      "source": [
        "#promedio de Attack Type Ghost\n",
        "prom=df.loc[df['Type 1'] == 'Ghost','Attack'].mean()\n",
        "prom"
      ],
      "id": "b0JuotRHAudj",
      "execution_count": 146,
      "outputs": [
        {
          "output_type": "execute_result",
          "data": {
            "text/plain": [
              "73.78125"
            ]
          },
          "metadata": {},
          "execution_count": 146
        }
      ]
    },
    {
      "cell_type": "code",
      "metadata": {
        "colab": {
          "base_uri": "https://localhost:8080/"
        },
        "id": "Vjf7GXAHA00a",
        "outputId": "0644888b-4c55-4ade-e7c6-5948783828dd"
      },
      "source": [
        "#promedio de Attack Type Ice\n",
        "prom=df.loc[df['Type 1'] == 'Ice','Attack'].mean()\n",
        "prom"
      ],
      "id": "Vjf7GXAHA00a",
      "execution_count": 147,
      "outputs": [
        {
          "output_type": "execute_result",
          "data": {
            "text/plain": [
              "72.75"
            ]
          },
          "metadata": {},
          "execution_count": 147
        }
      ]
    },
    {
      "cell_type": "code",
      "metadata": {
        "colab": {
          "base_uri": "https://localhost:8080/"
        },
        "id": "9e5pi5EEA5Yr",
        "outputId": "82ba2b5d-1789-4a58-df9b-a64339393e6c"
      },
      "source": [
        "#promedio de Attack Type Dragon\n",
        "prom=df.loc[df['Type 1'] == 'Dragon','Attack'].mean()\n",
        "prom"
      ],
      "id": "9e5pi5EEA5Yr",
      "execution_count": 148,
      "outputs": [
        {
          "output_type": "execute_result",
          "data": {
            "text/plain": [
              "112.125"
            ]
          },
          "metadata": {},
          "execution_count": 148
        }
      ]
    },
    {
      "cell_type": "code",
      "metadata": {
        "colab": {
          "base_uri": "https://localhost:8080/"
        },
        "id": "7k1UlK1GBA6j",
        "outputId": "8ccb5ed3-69fb-48f7-a645-33d353520ca4"
      },
      "source": [
        "#promedio de Attack Type Dark\n",
        "prom=df.loc[df['Type 1'] == 'Dark','Attack'].mean()\n",
        "prom"
      ],
      "id": "7k1UlK1GBA6j",
      "execution_count": 149,
      "outputs": [
        {
          "output_type": "execute_result",
          "data": {
            "text/plain": [
              "88.38709677419355"
            ]
          },
          "metadata": {},
          "execution_count": 149
        }
      ]
    },
    {
      "cell_type": "code",
      "metadata": {
        "colab": {
          "base_uri": "https://localhost:8080/"
        },
        "id": "N8NFuHO2BGhA",
        "outputId": "f42e2c69-da34-45e0-aa4f-5b8789937320"
      },
      "source": [
        "#promedio de Attack Type Steel\n",
        "prom=df.loc[df['Type 1'] == 'Steel','Attack'].mean()\n",
        "prom"
      ],
      "id": "N8NFuHO2BGhA",
      "execution_count": 150,
      "outputs": [
        {
          "output_type": "execute_result",
          "data": {
            "text/plain": [
              "92.70370370370371"
            ]
          },
          "metadata": {},
          "execution_count": 150
        }
      ]
    },
    {
      "cell_type": "code",
      "metadata": {
        "colab": {
          "base_uri": "https://localhost:8080/"
        },
        "id": "0vadzFvBBLcz",
        "outputId": "691b1a6a-e307-49b8-d604-6b11de42ea72"
      },
      "source": [
        "#promedio de Attack Type Flying\n",
        "prom=df.loc[df['Type 1'] == 'Flying','Attack'].mean()\n",
        "prom"
      ],
      "id": "0vadzFvBBLcz",
      "execution_count": 151,
      "outputs": [
        {
          "output_type": "execute_result",
          "data": {
            "text/plain": [
              "78.75"
            ]
          },
          "metadata": {},
          "execution_count": 151
        }
      ]
    },
    {
      "cell_type": "code",
      "metadata": {
        "id": "3vPb23JM_Y_s"
      },
      "source": [
        ""
      ],
      "id": "3vPb23JM_Y_s",
      "execution_count": null,
      "outputs": []
    },
    {
      "cell_type": "markdown",
      "metadata": {
        "id": "45f0cbc3"
      },
      "source": [
        "## Ejercicio 3\n",
        "\n",
        "Se le entregan los datos de movimientos de acciones en el archivo ```DUK.csv```, y se le pide que entregue el promedio de Open del 2015, es decir entre las fechas 2015-01-01 y 2015-12-31"
      ],
      "id": "45f0cbc3"
    },
    {
      "cell_type": "code",
      "metadata": {
        "id": "704ec036"
      },
      "source": [
        "# Escriba su código aquí\n",
        "#traemos el archivo que queremos leer\n",
        "duk = pd.read_csv('DUK.csv')\n"
      ],
      "id": "704ec036",
      "execution_count": 238,
      "outputs": []
    },
    {
      "cell_type": "code",
      "metadata": {
        "colab": {
          "base_uri": "https://localhost:8080/",
          "height": 419
        },
        "id": "49g9zZQxCleZ",
        "outputId": "23e63424-645c-4ca4-d00c-053e1b4bd43a"
      },
      "source": [
        "duk"
      ],
      "id": "49g9zZQxCleZ",
      "execution_count": 239,
      "outputs": [
        {
          "output_type": "execute_result",
          "data": {
            "text/html": [
              "<div>\n",
              "<style scoped>\n",
              "    .dataframe tbody tr th:only-of-type {\n",
              "        vertical-align: middle;\n",
              "    }\n",
              "\n",
              "    .dataframe tbody tr th {\n",
              "        vertical-align: top;\n",
              "    }\n",
              "\n",
              "    .dataframe thead th {\n",
              "        text-align: right;\n",
              "    }\n",
              "</style>\n",
              "<table border=\"1\" class=\"dataframe\">\n",
              "  <thead>\n",
              "    <tr style=\"text-align: right;\">\n",
              "      <th></th>\n",
              "      <th>Date</th>\n",
              "      <th>Open</th>\n",
              "      <th>High</th>\n",
              "      <th>Low</th>\n",
              "      <th>Close</th>\n",
              "      <th>Adj Close</th>\n",
              "      <th>Volume</th>\n",
              "    </tr>\n",
              "  </thead>\n",
              "  <tbody>\n",
              "    <tr>\n",
              "      <th>0</th>\n",
              "      <td>2014-07-28</td>\n",
              "      <td>73.309998</td>\n",
              "      <td>74.480003</td>\n",
              "      <td>73.230003</td>\n",
              "      <td>74.389999</td>\n",
              "      <td>59.266285</td>\n",
              "      <td>3281100</td>\n",
              "    </tr>\n",
              "    <tr>\n",
              "      <th>1</th>\n",
              "      <td>2014-07-29</td>\n",
              "      <td>74.400002</td>\n",
              "      <td>74.480003</td>\n",
              "      <td>73.760002</td>\n",
              "      <td>73.980003</td>\n",
              "      <td>58.939648</td>\n",
              "      <td>2236300</td>\n",
              "    </tr>\n",
              "    <tr>\n",
              "      <th>2</th>\n",
              "      <td>2014-07-30</td>\n",
              "      <td>74.029999</td>\n",
              "      <td>74.199997</td>\n",
              "      <td>72.580002</td>\n",
              "      <td>73.050003</td>\n",
              "      <td>58.198696</td>\n",
              "      <td>2782200</td>\n",
              "    </tr>\n",
              "    <tr>\n",
              "      <th>3</th>\n",
              "      <td>2014-07-31</td>\n",
              "      <td>72.610001</td>\n",
              "      <td>73.099998</td>\n",
              "      <td>72.059998</td>\n",
              "      <td>72.129997</td>\n",
              "      <td>57.465740</td>\n",
              "      <td>3249000</td>\n",
              "    </tr>\n",
              "    <tr>\n",
              "      <th>4</th>\n",
              "      <td>2014-08-01</td>\n",
              "      <td>72.239998</td>\n",
              "      <td>73.370003</td>\n",
              "      <td>72.150002</td>\n",
              "      <td>72.940002</td>\n",
              "      <td>58.111061</td>\n",
              "      <td>3960200</td>\n",
              "    </tr>\n",
              "    <tr>\n",
              "      <th>...</th>\n",
              "      <td>...</td>\n",
              "      <td>...</td>\n",
              "      <td>...</td>\n",
              "      <td>...</td>\n",
              "      <td>...</td>\n",
              "      <td>...</td>\n",
              "      <td>...</td>\n",
              "    </tr>\n",
              "    <tr>\n",
              "      <th>1254</th>\n",
              "      <td>2019-07-22</td>\n",
              "      <td>88.599998</td>\n",
              "      <td>88.690002</td>\n",
              "      <td>87.839996</td>\n",
              "      <td>88.150002</td>\n",
              "      <td>88.150002</td>\n",
              "      <td>2160300</td>\n",
              "    </tr>\n",
              "    <tr>\n",
              "      <th>1255</th>\n",
              "      <td>2019-07-23</td>\n",
              "      <td>88.180000</td>\n",
              "      <td>88.239998</td>\n",
              "      <td>87.370003</td>\n",
              "      <td>87.680000</td>\n",
              "      <td>87.680000</td>\n",
              "      <td>3141800</td>\n",
              "    </tr>\n",
              "    <tr>\n",
              "      <th>1256</th>\n",
              "      <td>2019-07-24</td>\n",
              "      <td>87.949997</td>\n",
              "      <td>87.980003</td>\n",
              "      <td>86.800003</td>\n",
              "      <td>87.180000</td>\n",
              "      <td>87.180000</td>\n",
              "      <td>2386500</td>\n",
              "    </tr>\n",
              "    <tr>\n",
              "      <th>1257</th>\n",
              "      <td>2019-07-25</td>\n",
              "      <td>86.900002</td>\n",
              "      <td>87.389999</td>\n",
              "      <td>86.169998</td>\n",
              "      <td>86.489998</td>\n",
              "      <td>86.489998</td>\n",
              "      <td>2680300</td>\n",
              "    </tr>\n",
              "    <tr>\n",
              "      <th>1258</th>\n",
              "      <td>2019-07-26</td>\n",
              "      <td>86.500000</td>\n",
              "      <td>87.080002</td>\n",
              "      <td>86.269997</td>\n",
              "      <td>86.910004</td>\n",
              "      <td>86.910004</td>\n",
              "      <td>2425200</td>\n",
              "    </tr>\n",
              "  </tbody>\n",
              "</table>\n",
              "<p>1259 rows × 7 columns</p>\n",
              "</div>"
            ],
            "text/plain": [
              "            Date       Open       High  ...      Close  Adj Close   Volume\n",
              "0     2014-07-28  73.309998  74.480003  ...  74.389999  59.266285  3281100\n",
              "1     2014-07-29  74.400002  74.480003  ...  73.980003  58.939648  2236300\n",
              "2     2014-07-30  74.029999  74.199997  ...  73.050003  58.198696  2782200\n",
              "3     2014-07-31  72.610001  73.099998  ...  72.129997  57.465740  3249000\n",
              "4     2014-08-01  72.239998  73.370003  ...  72.940002  58.111061  3960200\n",
              "...          ...        ...        ...  ...        ...        ...      ...\n",
              "1254  2019-07-22  88.599998  88.690002  ...  88.150002  88.150002  2160300\n",
              "1255  2019-07-23  88.180000  88.239998  ...  87.680000  87.680000  3141800\n",
              "1256  2019-07-24  87.949997  87.980003  ...  87.180000  87.180000  2386500\n",
              "1257  2019-07-25  86.900002  87.389999  ...  86.489998  86.489998  2680300\n",
              "1258  2019-07-26  86.500000  87.080002  ...  86.910004  86.910004  2425200\n",
              "\n",
              "[1259 rows x 7 columns]"
            ]
          },
          "metadata": {},
          "execution_count": 239
        }
      ]
    },
    {
      "cell_type": "code",
      "metadata": {
        "colab": {
          "base_uri": "https://localhost:8080/",
          "height": 419
        },
        "id": "fqQnCLqgDJpZ",
        "outputId": "f3f8e55a-8cf8-45b6-802d-2f89cf84b1a4"
      },
      "source": [
        "#filtrar fechas\n",
        "duk.loc[(duk['Date']>= '2015-01-01') &(duk['Date'] <= '2015-12-31')]\n"
      ],
      "id": "fqQnCLqgDJpZ",
      "execution_count": 240,
      "outputs": [
        {
          "output_type": "execute_result",
          "data": {
            "text/html": [
              "<div>\n",
              "<style scoped>\n",
              "    .dataframe tbody tr th:only-of-type {\n",
              "        vertical-align: middle;\n",
              "    }\n",
              "\n",
              "    .dataframe tbody tr th {\n",
              "        vertical-align: top;\n",
              "    }\n",
              "\n",
              "    .dataframe thead th {\n",
              "        text-align: right;\n",
              "    }\n",
              "</style>\n",
              "<table border=\"1\" class=\"dataframe\">\n",
              "  <thead>\n",
              "    <tr style=\"text-align: right;\">\n",
              "      <th></th>\n",
              "      <th>Date</th>\n",
              "      <th>Open</th>\n",
              "      <th>High</th>\n",
              "      <th>Low</th>\n",
              "      <th>Close</th>\n",
              "      <th>Adj Close</th>\n",
              "      <th>Volume</th>\n",
              "    </tr>\n",
              "  </thead>\n",
              "  <tbody>\n",
              "    <tr>\n",
              "      <th>110</th>\n",
              "      <td>2015-01-02</td>\n",
              "      <td>83.540001</td>\n",
              "      <td>84.230003</td>\n",
              "      <td>83.089996</td>\n",
              "      <td>84.050003</td>\n",
              "      <td>68.374176</td>\n",
              "      <td>2266200</td>\n",
              "    </tr>\n",
              "    <tr>\n",
              "      <th>111</th>\n",
              "      <td>2015-01-05</td>\n",
              "      <td>83.599998</td>\n",
              "      <td>83.910004</td>\n",
              "      <td>82.610001</td>\n",
              "      <td>82.839996</td>\n",
              "      <td>67.389832</td>\n",
              "      <td>3780400</td>\n",
              "    </tr>\n",
              "    <tr>\n",
              "      <th>112</th>\n",
              "      <td>2015-01-06</td>\n",
              "      <td>82.919998</td>\n",
              "      <td>84.790001</td>\n",
              "      <td>82.919998</td>\n",
              "      <td>84.199997</td>\n",
              "      <td>68.496178</td>\n",
              "      <td>5290900</td>\n",
              "    </tr>\n",
              "    <tr>\n",
              "      <th>113</th>\n",
              "      <td>2015-01-07</td>\n",
              "      <td>84.260002</td>\n",
              "      <td>84.889999</td>\n",
              "      <td>83.720001</td>\n",
              "      <td>84.470001</td>\n",
              "      <td>68.715836</td>\n",
              "      <td>2583500</td>\n",
              "    </tr>\n",
              "    <tr>\n",
              "      <th>114</th>\n",
              "      <td>2015-01-08</td>\n",
              "      <td>84.919998</td>\n",
              "      <td>85.279999</td>\n",
              "      <td>84.570000</td>\n",
              "      <td>84.809998</td>\n",
              "      <td>68.992432</td>\n",
              "      <td>2165100</td>\n",
              "    </tr>\n",
              "    <tr>\n",
              "      <th>...</th>\n",
              "      <td>...</td>\n",
              "      <td>...</td>\n",
              "      <td>...</td>\n",
              "      <td>...</td>\n",
              "      <td>...</td>\n",
              "      <td>...</td>\n",
              "      <td>...</td>\n",
              "    </tr>\n",
              "    <tr>\n",
              "      <th>357</th>\n",
              "      <td>2015-12-24</td>\n",
              "      <td>72.000000</td>\n",
              "      <td>72.389999</td>\n",
              "      <td>71.900002</td>\n",
              "      <td>72.040001</td>\n",
              "      <td>61.949467</td>\n",
              "      <td>1018200</td>\n",
              "    </tr>\n",
              "    <tr>\n",
              "      <th>358</th>\n",
              "      <td>2015-12-28</td>\n",
              "      <td>71.750000</td>\n",
              "      <td>72.260002</td>\n",
              "      <td>71.599998</td>\n",
              "      <td>71.919998</td>\n",
              "      <td>61.846283</td>\n",
              "      <td>2351800</td>\n",
              "    </tr>\n",
              "    <tr>\n",
              "      <th>359</th>\n",
              "      <td>2015-12-29</td>\n",
              "      <td>72.279999</td>\n",
              "      <td>72.750000</td>\n",
              "      <td>72.169998</td>\n",
              "      <td>72.370003</td>\n",
              "      <td>62.233242</td>\n",
              "      <td>1943600</td>\n",
              "    </tr>\n",
              "    <tr>\n",
              "      <th>360</th>\n",
              "      <td>2015-12-30</td>\n",
              "      <td>72.370003</td>\n",
              "      <td>72.599998</td>\n",
              "      <td>72.120003</td>\n",
              "      <td>72.190002</td>\n",
              "      <td>62.078468</td>\n",
              "      <td>2062000</td>\n",
              "    </tr>\n",
              "    <tr>\n",
              "      <th>361</th>\n",
              "      <td>2015-12-31</td>\n",
              "      <td>72.139999</td>\n",
              "      <td>72.220001</td>\n",
              "      <td>70.739998</td>\n",
              "      <td>71.389999</td>\n",
              "      <td>61.390526</td>\n",
              "      <td>2999500</td>\n",
              "    </tr>\n",
              "  </tbody>\n",
              "</table>\n",
              "<p>252 rows × 7 columns</p>\n",
              "</div>"
            ],
            "text/plain": [
              "           Date       Open       High        Low      Close  Adj Close   Volume\n",
              "110  2015-01-02  83.540001  84.230003  83.089996  84.050003  68.374176  2266200\n",
              "111  2015-01-05  83.599998  83.910004  82.610001  82.839996  67.389832  3780400\n",
              "112  2015-01-06  82.919998  84.790001  82.919998  84.199997  68.496178  5290900\n",
              "113  2015-01-07  84.260002  84.889999  83.720001  84.470001  68.715836  2583500\n",
              "114  2015-01-08  84.919998  85.279999  84.570000  84.809998  68.992432  2165100\n",
              "..          ...        ...        ...        ...        ...        ...      ...\n",
              "357  2015-12-24  72.000000  72.389999  71.900002  72.040001  61.949467  1018200\n",
              "358  2015-12-28  71.750000  72.260002  71.599998  71.919998  61.846283  2351800\n",
              "359  2015-12-29  72.279999  72.750000  72.169998  72.370003  62.233242  1943600\n",
              "360  2015-12-30  72.370003  72.599998  72.120003  72.190002  62.078468  2062000\n",
              "361  2015-12-31  72.139999  72.220001  70.739998  71.389999  61.390526  2999500\n",
              "\n",
              "[252 rows x 7 columns]"
            ]
          },
          "metadata": {},
          "execution_count": 240
        }
      ]
    },
    {
      "cell_type": "code",
      "metadata": {
        "colab": {
          "base_uri": "https://localhost:8080/"
        },
        "id": "w9UEuCTYMpFY",
        "outputId": "20d69c8a-b04b-4e07-b12a-9b44c3fd0b22"
      },
      "source": [
        "#para traer el promedio entre las fechas solicitadas del Open, lo agregamos al final y ponemos el .mean()\n",
        "duk.loc[(duk['Date']>= '2015-01-01') &(duk['Date'] <= '2015-12-31'), 'Open'].mean()"
      ],
      "id": "w9UEuCTYMpFY",
      "execution_count": 241,
      "outputs": [
        {
          "output_type": "execute_result",
          "data": {
            "text/plain": [
              "74.8137697698413"
            ]
          },
          "metadata": {},
          "execution_count": 241
        }
      ]
    }
  ]
}