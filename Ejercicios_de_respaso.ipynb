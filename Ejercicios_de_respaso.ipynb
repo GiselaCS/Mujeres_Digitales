{
  "nbformat": 4,
  "nbformat_minor": 0,
  "metadata": {
    "colab": {
      "name": "Ejercicios de respaso.ipynb",
      "provenance": [],
      "collapsed_sections": [],
      "authorship_tag": "ABX9TyPWIqea5i5tRQ0yS2wB/T9q",
      "include_colab_link": true
    },
    "kernelspec": {
      "name": "python3",
      "display_name": "Python 3"
    },
    "language_info": {
      "name": "python"
    }
  },
  "cells": [
    {
      "cell_type": "markdown",
      "metadata": {
        "id": "view-in-github",
        "colab_type": "text"
      },
      "source": [
        "<a href=\"https://colab.research.google.com/github/GiselaCS/Mujeres_Digitales/blob/main/Ejercicios_de_respaso.ipynb\" target=\"_parent\"><img src=\"https://colab.research.google.com/assets/colab-badge.svg\" alt=\"Open In Colab\"/></a>"
      ]
    },
    {
      "cell_type": "code",
      "metadata": {
        "id": "1iNsuRRRCNF2"
      },
      "source": [
        "import pandas as pd\n",
        "import numpy as np"
      ],
      "execution_count": 1,
      "outputs": []
    },
    {
      "cell_type": "code",
      "metadata": {
        "colab": {
          "base_uri": "https://localhost:8080/"
        },
        "id": "I8fIzm-FJJy_",
        "outputId": "92e69ee9-2e11-4bae-b0b1-722a6b699293"
      },
      "source": [
        "#recorrer una lista al reves\n",
        "a = [1,2,3,4]\n",
        "for i in range(len(a)-1,-1,-1):\n",
        "  print(a[i])"
      ],
      "execution_count": 2,
      "outputs": [
        {
          "output_type": "stream",
          "name": "stdout",
          "text": [
            "4\n",
            "3\n",
            "2\n",
            "1\n"
          ]
        }
      ]
    },
    {
      "cell_type": "code",
      "metadata": {
        "colab": {
          "base_uri": "https://localhost:8080/"
        },
        "id": "uWS-pVCBJeoT",
        "outputId": "bd9a1488-ca5e-484d-b247-37380d303d87"
      },
      "source": [
        "a = \"hola\"\n",
        "for i in range(len(a)-1,-1,-1):\n",
        "  print(a[i])"
      ],
      "execution_count": 9,
      "outputs": [
        {
          "output_type": "stream",
          "name": "stdout",
          "text": [
            "a\n",
            "l\n",
            "o\n",
            "h\n"
          ]
        }
      ]
    },
    {
      "cell_type": "code",
      "metadata": {
        "colab": {
          "base_uri": "https://localhost:8080/"
        },
        "id": "737LbymNKN0p",
        "outputId": "a487a606-d2c0-4637-add7-f35947c02953"
      },
      "source": [
        "c='hola soy gisela'\n",
        "for i in range(len(c)):\n",
        "  print(c[-i-1])"
      ],
      "execution_count": 5,
      "outputs": [
        {
          "output_type": "stream",
          "name": "stdout",
          "text": [
            "a\n",
            "l\n",
            "e\n",
            "s\n",
            "i\n",
            "g\n",
            " \n",
            "y\n",
            "o\n",
            "s\n",
            " \n",
            "a\n",
            "l\n",
            "o\n",
            "h\n"
          ]
        }
      ]
    },
    {
      "cell_type": "code",
      "metadata": {
        "colab": {
          "base_uri": "https://localhost:8080/"
        },
        "id": "n-T8R3q3KhEg",
        "outputId": "46eca25b-d7fb-4e60-f9e2-838862eadb43"
      },
      "source": [
        "a= ['a','b','c','d']\n",
        "\n",
        "c= []\n",
        "long = len(a)-1\n",
        "for i in range(len(a)):\n",
        "  c.append(a[long])\n",
        "  long -=1\n",
        "print(c)"
      ],
      "execution_count": 10,
      "outputs": [
        {
          "output_type": "stream",
          "name": "stdout",
          "text": [
            "['d', 'c', 'b', 'a']\n"
          ]
        }
      ]
    },
    {
      "cell_type": "code",
      "metadata": {
        "colab": {
          "base_uri": "https://localhost:8080/"
        },
        "id": "QpZ9FJp7L6Gc",
        "outputId": "2d04738a-0782-4901-8943-f62308925bf0"
      },
      "source": [
        "#agregar elemento\n",
        "a= ['a','b','c','d']\n",
        "a.append(\"e\")\n",
        "print(a)"
      ],
      "execution_count": 11,
      "outputs": [
        {
          "output_type": "stream",
          "name": "stdout",
          "text": [
            "['a', 'b', 'c', 'd', 'e']\n"
          ]
        }
      ]
    },
    {
      "cell_type": "code",
      "metadata": {
        "colab": {
          "base_uri": "https://localhost:8080/"
        },
        "id": "8fpXIPh3Mu53",
        "outputId": "d57d9da1-521d-4817-c8db-6b608407d384"
      },
      "source": [
        "#eliminar\n",
        "a= ['a','b','c','d','e']\n",
        "a.remove(\"e\")\n",
        "print(a)"
      ],
      "execution_count": 12,
      "outputs": [
        {
          "output_type": "stream",
          "name": "stdout",
          "text": [
            "['a', 'b', 'c', 'd']\n"
          ]
        }
      ]
    },
    {
      "cell_type": "code",
      "metadata": {
        "colab": {
          "base_uri": "https://localhost:8080/"
        },
        "id": "EAmG73WQM6Cu",
        "outputId": "362b2a2e-eab6-4d47-b7a2-de25b27291a3"
      },
      "source": [
        "#funciones\n",
        "#las funciones se crean con def \n",
        "def cuadrado(x):\n",
        "  resultado = x ** 2\n",
        "  return resultado\n",
        "print(cuadrado(3))\n",
        "print(\"-----------\")\n",
        "print(cuadrado(3) + cuadrado(4))"
      ],
      "execution_count": 15,
      "outputs": [
        {
          "output_type": "stream",
          "name": "stdout",
          "text": [
            "9\n",
            "-----------\n",
            "25\n"
          ]
        }
      ]
    },
    {
      "cell_type": "code",
      "metadata": {
        "colab": {
          "base_uri": "https://localhost:8080/"
        },
        "id": "EggAAK6qPj76",
        "outputId": "1711447a-1841-499c-cd5e-05035afa6b5f"
      },
      "source": [
        "#calcular el area del circulo dando r\n",
        "r = float(input(\"ingrese el radio del circulo\"))\n",
        "pi = 3.14\n",
        "a = pi * r **2\n",
        "print(\"el area del circulo es: \", a)\n"
      ],
      "execution_count": 17,
      "outputs": [
        {
          "output_type": "stream",
          "name": "stdout",
          "text": [
            "ingrese el radio del circulo6\n",
            "el area del circulo es:  113.04\n"
          ]
        }
      ]
    },
    {
      "cell_type": "code",
      "metadata": {
        "colab": {
          "base_uri": "https://localhost:8080/"
        },
        "id": "R4nitIPsQDtP",
        "outputId": "fe003f87-2e36-4067-8ade-85c17feb90c1"
      },
      "source": [
        "r = float(input(\"ingrese el radio del circulo\"))\n",
        "def circulo(r):\n",
        "  pi = 3.14\n",
        "  area= pi*r**2\n",
        "  return area\n",
        "print(circulo(r))"
      ],
      "execution_count": 19,
      "outputs": [
        {
          "output_type": "stream",
          "name": "stdout",
          "text": [
            "ingrese el radio del circulo7\n",
            "153.86\n"
          ]
        }
      ]
    },
    {
      "cell_type": "code",
      "metadata": {
        "colab": {
          "base_uri": "https://localhost:8080/"
        },
        "id": "z4UAQS9lTpSr",
        "outputId": "94d93179-6154-4d3d-ddb0-46b4163c63c2"
      },
      "source": [
        "#raiz de un numero 0.5\n",
        "num= float(input(\"ingrese un numero\"))\n",
        "def raiz(num):\n",
        "  r = num ** 0.5\n",
        "  return r\n",
        "print(\"la raiz del numero es: \",(raiz(num)))\n"
      ],
      "execution_count": 21,
      "outputs": [
        {
          "output_type": "stream",
          "name": "stdout",
          "text": [
            "ingrese un numero25\n",
            "la raiz del numero es:  5.0\n"
          ]
        }
      ]
    },
    {
      "cell_type": "code",
      "metadata": {
        "colab": {
          "base_uri": "https://localhost:8080/"
        },
        "id": "bVi8QcMWVIDU",
        "outputId": "f68d4e07-f757-4865-f83b-257a0de02d09"
      },
      "source": [
        "def hipotenusa(c1,c2):\n",
        "  suma= (cuadrado(c1) +cuadrado(c2))\n",
        "  h= raiz(suma)\n",
        "  return h\n",
        "  \n",
        "print(hipotenusa(5,6))"
      ],
      "execution_count": 32,
      "outputs": [
        {
          "output_type": "stream",
          "name": "stdout",
          "text": [
            "7.810249675906654\n"
          ]
        }
      ]
    },
    {
      "cell_type": "code",
      "metadata": {
        "colab": {
          "base_uri": "https://localhost:8080/"
        },
        "id": "Qwy8uvqZdS8D",
        "outputId": "c9ef7ac8-d429-4def-cd8d-6e95cc7dd4ef"
      },
      "source": [
        "def factorial(num):\n",
        "  fact=1\n",
        "  for i in range(1, num +1):\n",
        "    fact=fact * 1\n",
        "  return fact\n",
        "print(factorial(3))"
      ],
      "execution_count": 33,
      "outputs": [
        {
          "output_type": "stream",
          "name": "stdout",
          "text": [
            "1\n"
          ]
        }
      ]
    }
  ]
}