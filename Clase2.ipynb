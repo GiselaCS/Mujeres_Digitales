{
  "nbformat": 4,
  "nbformat_minor": 0,
  "metadata": {
    "colab": {
      "name": "Clase2.ipynb",
      "provenance": [],
      "collapsed_sections": [],
      "authorship_tag": "ABX9TyN/CCVg3k+tGCVN+HutLsrr",
      "include_colab_link": true
    },
    "kernelspec": {
      "name": "python3",
      "display_name": "Python 3"
    },
    "language_info": {
      "name": "python"
    }
  },
  "cells": [
    {
      "cell_type": "markdown",
      "metadata": {
        "id": "view-in-github",
        "colab_type": "text"
      },
      "source": [
        "<a href=\"https://colab.research.google.com/github/GiselaCS/Mujeres_Digitales/blob/main/Clase2.ipynb\" target=\"_parent\"><img src=\"https://colab.research.google.com/assets/colab-badge.svg\" alt=\"Open In Colab\"/></a>"
      ]
    },
    {
      "cell_type": "code",
      "metadata": {
        "id": "LP3v0qLTtq2U"
      },
      "source": [
        ""
      ],
      "execution_count": null,
      "outputs": []
    },
    {
      "cell_type": "markdown",
      "metadata": {
        "id": "Ir0N2FrJvAux"
      },
      "source": [
        "**Operadores matematicos**\n",
        "---\n",
        "Los operadores, permiten realizar diferentes procesos de calculo en cualquier lenguaje de programación.\n",
        "\n",
        "*los operadores mas basicos son:*\n",
        "1. suma\n",
        "2. resta\n",
        "3. multiplicacion\n",
        "4.division \n",
        "\n"
      ]
    },
    {
      "cell_type": "markdown",
      "metadata": {
        "id": "SESt3mKXvsjH"
      },
      "source": [
        "**Suma y resta**\n",
        "---\n",
        "Simbolo caracteristico (+), el cual se utilizara en medio de la declaracion de las variables a operar.\n",
        "\n",
        "Simbolo de resta (-)"
      ]
    },
    {
      "cell_type": "code",
      "metadata": {
        "colab": {
          "base_uri": "https://localhost:8080/"
        },
        "id": "wIxJPSp_wN1w",
        "outputId": "d6b3f81c-6a9a-4bbd-bc89-7c1eec462048"
      },
      "source": [
        "print(10+300)\n",
        "a=60\n",
        "b=50\n",
        "print(a-b)"
      ],
      "execution_count": 4,
      "outputs": [
        {
          "output_type": "stream",
          "text": [
            "310\n",
            "10\n"
          ],
          "name": "stdout"
        }
      ]
    },
    {
      "cell_type": "code",
      "metadata": {
        "colab": {
          "base_uri": "https://localhost:8080/"
        },
        "id": "OkpZ8Qz3vu3D",
        "outputId": "80c3e4d3-8f31-40ab-e97c-6dc9e756d4ce"
      },
      "source": [
        "numero_botellas=12\n",
        "print(numero_botellas + 8)"
      ],
      "execution_count": 5,
      "outputs": [
        {
          "output_type": "stream",
          "text": [
            "20\n"
          ],
          "name": "stdout"
        }
      ]
    },
    {
      "cell_type": "code",
      "metadata": {
        "colab": {
          "base_uri": "https://localhost:8080/"
        },
        "id": "pSrbiX-BxDcp",
        "outputId": "216b19b9-eed2-4651-8acd-6b269676a182"
      },
      "source": [
        "numero_botellas=12\n",
        "numero_botellas=numero_botellas + 8\n",
        "print(numero_botellas)"
      ],
      "execution_count": 6,
      "outputs": [
        {
          "output_type": "stream",
          "text": [
            "20\n"
          ],
          "name": "stdout"
        }
      ]
    },
    {
      "cell_type": "markdown",
      "metadata": {
        "id": "r336FauzxUMi"
      },
      "source": [
        "**sumas entre dos diferentes tipos de variables**\n",
        "---\n",
        "recordemos las variables:\n",
        "1. valiables numericas Enteras(int)\n",
        "2. flotantes (incorpora y flexibiliza los decimales)\n",
        "3. tipo cadena."
      ]
    },
    {
      "cell_type": "code",
      "metadata": {
        "colab": {
          "base_uri": "https://localhost:8080/"
        },
        "id": "LSoUbPsQxq8Y",
        "outputId": "fc7c69cd-fb98-49b3-a5a8-73469800f154"
      },
      "source": [
        "q1=100\n",
        "q2=24.5\n",
        "print(type(q1+q2))"
      ],
      "execution_count": 7,
      "outputs": [
        {
          "output_type": "stream",
          "text": [
            "<class 'float'>\n"
          ],
          "name": "stdout"
        }
      ]
    },
    {
      "cell_type": "code",
      "metadata": {
        "colab": {
          "base_uri": "https://localhost:8080/"
        },
        "id": "SAcwal64yQce",
        "outputId": "f6a55370-6a91-4aa3-8083-cf23517bca3b"
      },
      "source": [
        "v1=\"quiero\"\n",
        "v2=\"un celular\"\n",
        "print(v1+v2)"
      ],
      "execution_count": 9,
      "outputs": [
        {
          "output_type": "stream",
          "text": [
            "quieroun celular\n"
          ],
          "name": "stdout"
        }
      ]
    },
    {
      "cell_type": "code",
      "metadata": {
        "colab": {
          "base_uri": "https://localhost:8080/"
        },
        "id": "FUAlTOEEyrFT",
        "outputId": "7a7f906e-1d14-41d9-99b4-b8ad50417c82"
      },
      "source": [
        "xq2=235\n",
        "xq3= 400\n",
        "print(xq2-xq3)\n",
        "\n",
        "xq2=24.66\n",
        "xq3=4\n",
        "print(type(xq2-xq3))"
      ],
      "execution_count": 12,
      "outputs": [
        {
          "output_type": "stream",
          "text": [
            "-165\n",
            "<class 'float'>\n"
          ],
          "name": "stdout"
        }
      ]
    },
    {
      "cell_type": "markdown",
      "metadata": {
        "id": "o31kXgzxzg0W"
      },
      "source": [
        "**Importante**\n",
        "la resta no funciona directamente en un tipo de cadena"
      ]
    },
    {
      "cell_type": "markdown",
      "metadata": {
        "id": "BuiscR400r37"
      },
      "source": [
        "**Multiplicacion**\n",
        "---\n",
        "Definamos la multiplicacion como la suma de varias veces un numero, cantidad de veces indicadas por otro numero. Ejemplo: 4x2 = (sumar dos veces 4) 4+4 =8\n",
        "\n",
        "El simbolo que se manejaria es el (*)"
      ]
    },
    {
      "cell_type": "code",
      "metadata": {
        "colab": {
          "base_uri": "https://localhost:8080/"
        },
        "id": "pnFWdcNA07aD",
        "outputId": "b7bdf6d6-c34a-4009-ed3d-40dc8efbee0a"
      },
      "source": [
        "cali=5\n",
        "palmira=6\n",
        "print(cali*palmira)"
      ],
      "execution_count": 13,
      "outputs": [
        {
          "output_type": "stream",
          "text": [
            "30\n"
          ],
          "name": "stdout"
        }
      ]
    },
    {
      "cell_type": "markdown",
      "metadata": {
        "id": "2u8K8Gq-1ROq"
      },
      "source": [
        "**Importante**\n",
        "se aplica la ley conmutativa \n",
        "-el orden de los factores no altera el resultado (**Aplica para suma y multiplicacion**)"
      ]
    },
    {
      "cell_type": "code",
      "metadata": {
        "colab": {
          "base_uri": "https://localhost:8080/"
        },
        "id": "GtrXw1mq0rNe",
        "outputId": "82a372f4-beb9-44e0-97eb-eacd04a372b7"
      },
      "source": [
        "cali=5\n",
        "plamira=6\n",
        "print(palmira*cali)"
      ],
      "execution_count": 14,
      "outputs": [
        {
          "output_type": "stream",
          "text": [
            "30\n"
          ],
          "name": "stdout"
        }
      ]
    },
    {
      "cell_type": "markdown",
      "metadata": {
        "id": "3nSVuKC31oiM"
      },
      "source": [
        "**Division**\n",
        "---\n",
        "*ACLARACION:* **NO** aplica la ley conmutativa. El simbolo de division es (/)"
      ]
    },
    {
      "cell_type": "code",
      "metadata": {
        "colab": {
          "base_uri": "https://localhost:8080/"
        },
        "id": "lZLBhGrJ15F-",
        "outputId": "9710f168-ab20-41b0-92fa-654b9d917a21"
      },
      "source": [
        "a=20\n",
        "b=4\n",
        "print(a/b, b/a) #trae ambos resultados "
      ],
      "execution_count": 16,
      "outputs": [
        {
          "output_type": "stream",
          "text": [
            "5.0 0.2\n"
          ],
          "name": "stdout"
        }
      ]
    },
    {
      "cell_type": "markdown",
      "metadata": {
        "id": "wvyon74L2b1P"
      },
      "source": [
        "para el **print** podemos separar las operaciones por variable con (,), lo cual, no afecta la impresion de los resultados por operacion asignada"
      ]
    },
    {
      "cell_type": "markdown",
      "metadata": {
        "id": "cO6K3zoA2mnP"
      },
      "source": [
        "**Tipos de Division**\n",
        "---\n",
        "1. Division exacta (/), solo da el valor entero\n",
        "2. division inexacta, da el valor con decimales.\n"
      ]
    },
    {
      "cell_type": "code",
      "metadata": {
        "colab": {
          "base_uri": "https://localhost:8080/"
        },
        "id": "MJ7DaoHO3Sum",
        "outputId": "31d23f95-c1b7-4c86-c130-7dee5a15fbbb"
      },
      "source": [
        "#division exacta\n",
        "print(15//3)\n",
        "\n",
        "#dvision inexacta\n",
        "print(15/4)"
      ],
      "execution_count": 18,
      "outputs": [
        {
          "output_type": "stream",
          "text": [
            "5\n",
            "3.75\n"
          ],
          "name": "stdout"
        }
      ]
    },
    {
      "cell_type": "markdown",
      "metadata": {
        "id": "xOxtvxyj3_yS"
      },
      "source": [
        "**Nota:** operacion divisio, al igual que una division normal, no es posible dividir en cero, Porqué en matematicas es un resultado indefinido"
      ]
    },
    {
      "cell_type": "markdown",
      "metadata": {
        "id": "m3Zv2qB74ReV"
      },
      "source": [
        "5. potenciacion \n",
        "6. modulo.\n"
      ]
    },
    {
      "cell_type": "code",
      "metadata": {
        "id": "B62C6vw32Zj5"
      },
      "source": [
        ""
      ],
      "execution_count": null,
      "outputs": []
    },
    {
      "cell_type": "markdown",
      "metadata": {
        "id": "vOX9tQtQ4bjD"
      },
      "source": [
        "**Potenciacion**\n",
        "---\n",
        "en python se maneja el simbolo que es con asterisco (**),  el primer valor es la base y el ultimo valor el exponente "
      ]
    },
    {
      "cell_type": "code",
      "metadata": {
        "colab": {
          "base_uri": "https://localhost:8080/"
        },
        "id": "hY_SY0Wh4o7S",
        "outputId": "ed23d20e-e0fc-463e-fa4e-0cc4e12c4c7e"
      },
      "source": [
        "#el primero es la base, el segundo el exponente\n",
        "print(3**3)"
      ],
      "execution_count": 19,
      "outputs": [
        {
          "output_type": "stream",
          "text": [
            "27\n"
          ],
          "name": "stdout"
        }
      ]
    },
    {
      "cell_type": "markdown",
      "metadata": {
        "id": "qOvD7Q8G461W"
      },
      "source": [
        "**Módulo**\n",
        "---\n",
        "le llamamos módulo al residuo de la operacion de divisíon.\n",
        "el simbolo usado para mostrar el residuo es (%)\n",
        "-el primer valor que se pone, es el dividendo y el ultimo valor es el divisor."
      ]
    },
    {
      "cell_type": "code",
      "metadata": {
        "colab": {
          "base_uri": "https://localhost:8080/"
        },
        "id": "9KU3FEQB5OH9",
        "outputId": "4ca182e8-ec0c-4a36-e23c-79bc48917312"
      },
      "source": [
        "print(88%9)"
      ],
      "execution_count": 21,
      "outputs": [
        {
          "output_type": "stream",
          "text": [
            "7\n"
          ],
          "name": "stdout"
        }
      ]
    },
    {
      "cell_type": "markdown",
      "metadata": {
        "id": "8OKNnNtR8Dqc"
      },
      "source": [
        "**OPERADORES DE COMPARACION**\n",
        "---\n",
        "los operadores de comparacion sirven para comparar varos valores.\n",
        "En la vida cotidiana a la hora de tomas decisiones por ejemplo tenemos que decidir entre un camino u otro, ejemplo: Compras, decisiones de vida, caminos por recorrer.\n",
        "\n"
      ]
    },
    {
      "cell_type": "markdown",
      "metadata": {
        "id": "VVWD3vpt85Ms"
      },
      "source": [
        "**igualdad**\n",
        "---\n",
        "simbolo en python es (==)\n",
        "por ejemplo:"
      ]
    },
    {
      "cell_type": "code",
      "metadata": {
        "colab": {
          "base_uri": "https://localhost:8080/"
        },
        "id": "CCMw56hr8-b5",
        "outputId": "552f6e86-612e-4b38-8705-c1d00a8d0af2"
      },
      "source": [
        "x=30\n",
        "z=31\n",
        "y=30\n",
        "print(x==z)\n",
        "print(x==y)"
      ],
      "execution_count": 23,
      "outputs": [
        {
          "output_type": "stream",
          "text": [
            "False\n",
            "True\n"
          ],
          "name": "stdout"
        }
      ]
    },
    {
      "cell_type": "markdown",
      "metadata": {
        "id": "S3TE1JGX_RvM"
      },
      "source": [
        "**Diferencia**\n",
        "---\n",
        "a diferencia del operador de igualdad el simbolo esta combinado por el simbolo de admiracion, es decir (!=)"
      ]
    },
    {
      "cell_type": "code",
      "metadata": {
        "colab": {
          "base_uri": "https://localhost:8080/"
        },
        "id": "4Cr6HEK8_h7l",
        "outputId": "149551d0-8eff-4a4f-f4cf-ec2abf67e61c"
      },
      "source": [
        "x=\"casa\"\n",
        "z=\"caza\"\n",
        "print(x!=z)"
      ],
      "execution_count": 24,
      "outputs": [
        {
          "output_type": "stream",
          "text": [
            "True\n"
          ],
          "name": "stdout"
        }
      ]
    },
    {
      "cell_type": "markdown",
      "metadata": {
        "id": "yAWvXUCF_tX8"
      },
      "source": [
        "**Mayor que**\n",
        "---\n",
        "simbolo en python (>)\n",
        "Siempre en comparativa se designa cual es menor o el mayor, por el valor que esta a la izquierda de la operacion. --->"
      ]
    },
    {
      "cell_type": "code",
      "metadata": {
        "colab": {
          "base_uri": "https://localhost:8080/"
        },
        "id": "RyMLehyG_19e",
        "outputId": "734d3bac-eb8e-4915-f39c-07d79beeb210"
      },
      "source": [
        "print(30>29.9)\n",
        "\n",
        "print(20>10)"
      ],
      "execution_count": 27,
      "outputs": [
        {
          "output_type": "stream",
          "text": [
            "True\n",
            "True\n"
          ],
          "name": "stdout"
        }
      ]
    },
    {
      "cell_type": "code",
      "metadata": {
        "id": "tSMkqLA25rPS"
      },
      "source": [
        ""
      ],
      "execution_count": null,
      "outputs": []
    },
    {
      "cell_type": "markdown",
      "metadata": {
        "id": "Qy3B6wqrAehx"
      },
      "source": [
        "**Menor que**\n",
        "---\n",
        "caso contratio, el simbolo es (<).\n"
      ]
    },
    {
      "cell_type": "code",
      "metadata": {
        "colab": {
          "base_uri": "https://localhost:8080/"
        },
        "id": "YfCdX4YQAlGO",
        "outputId": "05f6adac-e8e4-4f28-9530-f075e4b28cc7"
      },
      "source": [
        "x=4\n",
        "y=3\n",
        "print(x<y)\n",
        "print(y<x)"
      ],
      "execution_count": 29,
      "outputs": [
        {
          "output_type": "stream",
          "text": [
            "False\n",
            "True\n"
          ],
          "name": "stdout"
        }
      ]
    },
    {
      "cell_type": "markdown",
      "metadata": {
        "id": "gM54tXjtAxvD"
      },
      "source": [
        "**Mayor o igual que**\n",
        "---\n",
        "Es similar al mayor que, con la diferencia de que la forma en que dara el resultado verdadero es si ambos numeros son iguales y flexibiliza dando verdadero de igual forma si el valor de la izquierda es mayor que el de la derecha.\n",
        "-el simbolo es (>=)"
      ]
    },
    {
      "cell_type": "code",
      "metadata": {
        "colab": {
          "base_uri": "https://localhost:8080/"
        },
        "id": "xhrO2LHLBM1r",
        "outputId": "41edcc29-c12c-48f4-b3e1-188ded4d98aa"
      },
      "source": [
        "x=10\n",
        "y=10\n",
        "z=5\n",
        "print(x>=y)\n",
        "print(x>=z)"
      ],
      "execution_count": 31,
      "outputs": [
        {
          "output_type": "stream",
          "text": [
            "True\n",
            "True\n"
          ],
          "name": "stdout"
        }
      ]
    },
    {
      "cell_type": "markdown",
      "metadata": {
        "id": "N7iwuxNpBsJB"
      },
      "source": [
        "**Menor o igual que**\n",
        "--\n",
        "el simbolo es (<=)\n"
      ]
    },
    {
      "cell_type": "code",
      "metadata": {
        "colab": {
          "base_uri": "https://localhost:8080/"
        },
        "id": "oABGZ36fBzTF",
        "outputId": "4035ec01-4018-42b7-feab-c1ca45efe86d"
      },
      "source": [
        "c=45\n",
        "print(c<=46)\n",
        "print(c<=44)"
      ],
      "execution_count": 33,
      "outputs": [
        {
          "output_type": "stream",
          "text": [
            "True\n",
            "False\n"
          ],
          "name": "stdout"
        }
      ]
    },
    {
      "cell_type": "markdown",
      "metadata": {
        "id": "pluPSTGfB60e"
      },
      "source": [
        "**Tener en cuenta**, en comparaciones los resultados que nos arrojan siempre es de tipo booleano es decir: True or False"
      ]
    },
    {
      "cell_type": "markdown",
      "metadata": {
        "id": "pY4zvNzSCcsD"
      },
      "source": [
        "**OPERADORES LOGICOS**\n",
        "---\n",
        "python incluye tres operadores logicos base:\n",
        "1. AND(y)\n",
        "2. OR(o)\n",
        "3. Not(No)\n",
        "\n",
        "-los operadores logicos funcionan solo con valores o variables booleanas y a su vez devuelven como respuesta valores booleanos."
      ]
    },
    {
      "cell_type": "markdown",
      "metadata": {
        "id": "4Mts5Y6oC62v"
      },
      "source": [
        "**Operador AND**\n",
        "---\n",
        "Este operador solo devolverá (verdadero) si ambos valores lo son.\n",
        "\n",
        "¿como usar el operador AND?\n",
        "\n",
        "para usar este operador, vasta con escribir un valor booleano, luego la palabra \"and\" y por ultimo otro valor booleano.\n",
        "\n"
      ]
    },
    {
      "cell_type": "code",
      "metadata": {
        "colab": {
          "base_uri": "https://localhost:8080/"
        },
        "id": "Rb5wVUoGDbuc",
        "outputId": "4649851d-89e9-43f3-e6c4-d6d978cbefeb"
      },
      "source": [
        "print(True and False)\n",
        "print(True and True)\n",
        "print(False and False)\n",
        "print(False and True)"
      ],
      "execution_count": 37,
      "outputs": [
        {
          "output_type": "stream",
          "text": [
            "False\n",
            "True\n",
            "False\n",
            "False\n"
          ],
          "name": "stdout"
        }
      ]
    },
    {
      "cell_type": "markdown",
      "metadata": {
        "id": "xc0WThv2EHvw"
      },
      "source": [
        "**Operador OR**\n",
        "---\n",
        "a diferencia del operador AND, Or devuelve a todos verdadero a menos que ambos sean **falsos**"
      ]
    },
    {
      "cell_type": "code",
      "metadata": {
        "colab": {
          "base_uri": "https://localhost:8080/"
        },
        "id": "UP2_20M8Eb0J",
        "outputId": "5fa8aec1-fe07-438e-beed-44acf3b7d05c"
      },
      "source": [
        "print(True or True)\n",
        "print(True or False)\n",
        "print(False or False)\n",
        "print(False or True)"
      ],
      "execution_count": 38,
      "outputs": [
        {
          "output_type": "stream",
          "text": [
            "True\n",
            "True\n",
            "False\n",
            "True\n"
          ],
          "name": "stdout"
        }
      ]
    },
    {
      "cell_type": "code",
      "metadata": {
        "colab": {
          "base_uri": "https://localhost:8080/"
        },
        "id": "oH50W223E7qW",
        "outputId": "f8fc5a57-170a-4f68-dfea-23fd5b43cab3"
      },
      "source": [
        "a=3\n",
        "b=2\n",
        "print(a>4 or a==4)\n",
        "print (b==b and a>=b)"
      ],
      "execution_count": 40,
      "outputs": [
        {
          "output_type": "stream",
          "text": [
            "False\n",
            "True\n"
          ],
          "name": "stdout"
        }
      ]
    },
    {
      "cell_type": "markdown",
      "metadata": {
        "id": "4-Bxl8l4Fkkj"
      },
      "source": [
        "**Operador NOt**\n",
        "---\n",
        "este operador es de genacion, es decir \"no\".\n",
        "\n",
        "este operador es muy especial, dado que por si solo no sirve para hacer ninguna operacion, lo unico que haces es negar, o en palabras mas simples invertir el valor booleano que viene despues de el.\n"
      ]
    },
    {
      "cell_type": "code",
      "metadata": {
        "colab": {
          "base_uri": "https://localhost:8080/"
        },
        "id": "wtLrpTYBF2uB",
        "outputId": "37f48281-fd4e-42d8-b955-8a06874052cc"
      },
      "source": [
        "print(not True)\n",
        "print(not False)\n"
      ],
      "execution_count": 42,
      "outputs": [
        {
          "output_type": "stream",
          "text": [
            "False\n",
            "True\n"
          ],
          "name": "stdout"
        }
      ]
    },
    {
      "cell_type": "markdown",
      "metadata": {
        "id": "koqOd3LTHO5y"
      },
      "source": [
        "**PRECEDENCIA DE OPERADORES**\n",
        "---\n",
        "es muy importante manejar el orden de las operaciones, para no caer en problemas de codigo error.\n",
        "\n",
        "*el orden debe ser:*\n",
        "1. de izquierda a derecha \n",
        "2. parentesis\n",
        "3. potenciación o radicacion \n",
        "4. Multiplicacion y división \n",
        "5. Suma y resta\n",
        "\n",
        "**ejemplo**\n",
        "\n",
        "4-2(10)=\n",
        "1. primero el parentesis: \n",
        "\n",
        "4-2*10= \n",
        "\n",
        "2. la multiplicacion :\n",
        "\n",
        "4-20=\n",
        "\n",
        "3. por ultmo la resta:\n",
        "\n",
        "4-20= -16\n",
        "\n",
        "---\n",
        "*¿cual crees que es el resultado de la siguiente operación*\n",
        "\n"
      ]
    },
    {
      "cell_type": "code",
      "metadata": {
        "colab": {
          "base_uri": "https://localhost:8080/"
        },
        "id": "xBYGZkwOIWgI",
        "outputId": "4de9a7a4-57b2-478c-b584-b38422f897b4"
      },
      "source": [
        "a=False\n",
        "b=True\n",
        "c=True\n",
        "print(not c and (a or b))"
      ],
      "execution_count": 44,
      "outputs": [
        {
          "output_type": "stream",
          "text": [
            "False\n"
          ],
          "name": "stdout"
        }
      ]
    },
    {
      "cell_type": "code",
      "metadata": {
        "colab": {
          "base_uri": "https://localhost:8080/"
        },
        "id": "zPUufIhZJA3s",
        "outputId": "1e32a9ac-6b6d-4ec9-bc4c-1ee62e04aace"
      },
      "source": [
        "print(3-2*(13-5))"
      ],
      "execution_count": 45,
      "outputs": [
        {
          "output_type": "stream",
          "text": [
            "-13\n"
          ],
          "name": "stdout"
        }
      ]
    },
    {
      "cell_type": "markdown",
      "metadata": {
        "id": "pY3aUobCJZNg"
      },
      "source": [
        "**RESUMEN**\n",
        "---\n",
        "1. Aplicacion de ley conmutativa: solo para suma y resta(operadores basicos)\n",
        "2. los resultados con operadores logicos son de tipo booleano.\n",
        "3. **No ** se puede realizar resta entre variables de tipo cadena(el procedimiento si abarcan numeros en la conversion desde el inicio)\n",
        "4. si aplicamos el condicional AND, para que es resultado sea verdadero la unica forma es que ambos valores sean verdaderos.\n",
        "5. Con el operador OR; si cumple que alguno de los dos valores son verdadero, el resultado sera verdadero.\n",
        "6. el operador NOT, trae el valor contrario del true o el false "
      ]
    },
    {
      "cell_type": "markdown",
      "metadata": {
        "id": "Y3xkmzbvOOv1"
      },
      "source": [
        "\n",
        "**TAREA CLASE 2**\n",
        "---\n",
        "*Ejercicio 1*\n",
        " \n",
        "a= True\n",
        "\n",
        "b = False\n",
        "\n",
        "c=True\n",
        "\n",
        "print( c and (a or b))\n",
        "\n",
        "=True\n",
        " 1. se resuelve el parentesis (a or b), este es igual a True, ya que uno de los dos valores cumple la condicion de ser verdadero.\n",
        "\n",
        "  print(c and True)\n",
        "\n",
        " 2. ahora se resuelve la operación, el valor sera verdadero ya que ambos son verdaderos y cumplen con la condicion del operador logico ADN\n"
      ]
    },
    {
      "cell_type": "code",
      "metadata": {
        "colab": {
          "base_uri": "https://localhost:8080/"
        },
        "id": "aqiXzolqPBgj",
        "outputId": "01710f06-df3c-4695-af58-e00d042f5ff4"
      },
      "source": [
        "a= True\n",
        "b = False\n",
        "c=True\n",
        "print( c and (a or b))"
      ],
      "execution_count": 46,
      "outputs": [
        {
          "output_type": "stream",
          "text": [
            "True\n"
          ],
          "name": "stdout"
        }
      ]
    },
    {
      "cell_type": "markdown",
      "metadata": {
        "id": "85ytVP-XPuLH"
      },
      "source": [
        "*Ejercicio 2*\n",
        " \n",
        "a= True\n",
        "\n",
        "b = True\n",
        "\n",
        "\n",
        "print( b or (not a))\n",
        "\n",
        "=True\n",
        " 1. se resuelve el parentesis (not a), este es igual a False, ya que el NOT, nos da el valor contrario de \"a\".\n",
        "\n",
        "  print(b or False)\n",
        "\n",
        " 2. ahora se resuelve la operación, el valor sera True ya que uno de los dos es verdadero y cumplen con la condicion del operador logico OR"
      ]
    },
    {
      "cell_type": "code",
      "metadata": {
        "colab": {
          "base_uri": "https://localhost:8080/"
        },
        "id": "ohRRE9DNP7Mu",
        "outputId": "e23b94f0-f217-4160-943f-5909b2d0ad2f"
      },
      "source": [
        "a= True\n",
        "\n",
        "b = True\n",
        "\n",
        "\n",
        "print( b or (not a))"
      ],
      "execution_count": 50,
      "outputs": [
        {
          "output_type": "stream",
          "text": [
            "True\n"
          ],
          "name": "stdout"
        }
      ]
    },
    {
      "cell_type": "markdown",
      "metadata": {
        "id": "6kmTLgm1VYSO"
      },
      "source": [
        "*Ejercicio 3*\n",
        "\n",
        "a=6\n",
        "\n",
        "b=7\n",
        "\n",
        "print(a>4 or a==4 and (b==b ))\n",
        "\n",
        "1. primero se realiza el parentesis, que en este caso va a dar True porque 7 es igual a 7.\n",
        "\n",
        "print(a>4 or a==4 and True)\n",
        "\n",
        "2. ahora resolvemos lo demas, primero a>4 es verdadero, luego a==4 es Falso, porque 6 no es igual a 4.\n",
        "\n",
        "print(True or False and True)\n",
        "\n",
        "3. para finalizar, False and True, da un valor Falso, lo que nos daria como resulato un valor True or False, y esto al cumplir con la condicion del Operador logico OR, el resultado es True\n",
        "\n",
        "\n"
      ]
    },
    {
      "cell_type": "code",
      "metadata": {
        "colab": {
          "base_uri": "https://localhost:8080/"
        },
        "id": "PSbiajIVVu-L",
        "outputId": "e7e8e562-b6fd-4382-cfeb-395683580db9"
      },
      "source": [
        "a=6\n",
        "\n",
        "b=7\n",
        "\n",
        "print(a>4 or a==4 and (b==b ))\n",
        "\n"
      ],
      "execution_count": 65,
      "outputs": [
        {
          "output_type": "stream",
          "text": [
            "True\n"
          ],
          "name": "stdout"
        }
      ]
    },
    {
      "cell_type": "markdown",
      "metadata": {
        "id": "dK9jOSplQyIj"
      },
      "source": [
        "*Ejercicio 4*\n",
        " \n",
        "a=7\n",
        "\n",
        "b =5\n",
        "\n",
        "c=9\n",
        "\n",
        "print( c + (a*b))\n",
        "\n",
        "\n",
        " 1. se resuelve el parentesis (a*b)\n",
        "\n",
        "  c + 37\n",
        "\n",
        "\n",
        " 2. ahora se resuelve la operación de suma\n",
        "\n",
        "  9 + 37 = 44"
      ]
    },
    {
      "cell_type": "code",
      "metadata": {
        "colab": {
          "base_uri": "https://localhost:8080/"
        },
        "id": "kM_OqncoRNPd",
        "outputId": "91bee4ae-94a6-44cb-a4a2-161639717833"
      },
      "source": [
        "a=7\n",
        "\n",
        "b =5\n",
        "\n",
        "c=9\n",
        "\n",
        "print( c + (a*b))"
      ],
      "execution_count": 56,
      "outputs": [
        {
          "output_type": "stream",
          "text": [
            "44\n"
          ],
          "name": "stdout"
        }
      ]
    },
    {
      "cell_type": "markdown",
      "metadata": {
        "id": "SABSaOY6SoCU"
      },
      "source": [
        ""
      ]
    },
    {
      "cell_type": "markdown",
      "metadata": {
        "id": "x0Xc7XgXSy5O"
      },
      "source": [
        "*Ejercico 5*\n",
        "\n",
        "a= 10\n",
        "\n",
        "b= 3\n",
        "\n",
        "c=9\n",
        " \n",
        "print(a *2 +(12 + (b / c)))\n",
        "\n",
        "\n",
        "1. primero el parentesis interno que contiene la division: \n",
        "\n",
        "  print(a *2 +(12 + 0.333333333333336))\n",
        "\n",
        "\n",
        "2. Resolvemos el segundo parentesis: \n",
        "\n",
        "   print(a *2 + 12.333333333333336)\n",
        "\n",
        "3. ahora realizamos la multiplicacion\n",
        "\n",
        "   print(20 + 12.333333333333336)\n",
        "\n",
        "4. finalmente realizamos la operacion de suma\n",
        "  \n",
        "   print(32.333333333333336)\n",
        "\n",
        "    \n",
        "\n"
      ]
    },
    {
      "cell_type": "code",
      "metadata": {
        "colab": {
          "base_uri": "https://localhost:8080/"
        },
        "id": "8EUS37KXTL0w",
        "outputId": "f1574d9c-1364-4c3c-be49-27a70f18d3e0"
      },
      "source": [
        "a= 10\n",
        "\n",
        "b= 3\n",
        "\n",
        "c=9\n",
        " \n",
        "print(a *2 +(12 + (b / c)))"
      ],
      "execution_count": 62,
      "outputs": [
        {
          "output_type": "stream",
          "text": [
            "32.333333333333336\n"
          ],
          "name": "stdout"
        }
      ]
    }
  ]
}