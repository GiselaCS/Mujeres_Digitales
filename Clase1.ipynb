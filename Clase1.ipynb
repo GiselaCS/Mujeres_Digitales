{
  "nbformat": 4,
  "nbformat_minor": 0,
  "metadata": {
    "colab": {
      "name": "Clase1.ipynb",
      "provenance": [],
      "authorship_tag": "ABX9TyPDP0T7vJHycvgDe/bMlGXf",
      "include_colab_link": true
    },
    "kernelspec": {
      "name": "python3",
      "display_name": "Python 3"
    },
    "language_info": {
      "name": "python"
    }
  },
  "cells": [
    {
      "cell_type": "markdown",
      "metadata": {
        "id": "view-in-github",
        "colab_type": "text"
      },
      "source": [
        "<a href=\"https://colab.research.google.com/github/GiselaCS/Mujeres_Digitales/blob/main/Clase1.ipynb\" target=\"_parent\"><img src=\"https://colab.research.google.com/assets/colab-badge.svg\" alt=\"Open In Colab\"/></a>"
      ]
    },
    {
      "cell_type": "code",
      "metadata": {
        "id": "pfq4CjfMobOy"
      },
      "source": [
        ""
      ],
      "execution_count": null,
      "outputs": []
    },
    {
      "cell_type": "markdown",
      "metadata": {
        "id": "Hj7ABzFVpM47"
      },
      "source": [
        "**Introduccion**\n",
        "---\n",
        "para manejar un codigo limpio en python:\n",
        "podemos seguir las siguientes recomendaciones:\n",
        "1.manejar siempre minuscula\n",
        "2. se le puede añadir numeros\n",
        "3.Aparecera errores si no esta la declaracion de la variable con el numero asignado, es decir, Ejemplo: ana1(Correcto), ana 1 (incorrecto- error) \n",
        "\n",
        "---\n",
        "En python hay varios tipos de datos, Compuestos y estan disponibles por defecto en los interpretes.\n",
        "1. numericos\n",
        "2. secuencias \n",
        "3. mapeos\n",
        "Conjuntos usados para agrupar otros valores.\n",
        "**Diferencia enre constantes y variables**\n",
        "En matematicas llamos constante a una magnitud que no cambia con el paso del tiempo.\n",
        "Ejemplo contabilidad : gastos fijos_Muebles de oficina.\n",
        "Ejemplo 2: 6 \n",
        "por otro lado el concepto de varible, la podemos definir como la cantidad que es susceptible a tomar distintos valores numericos.\n",
        "**ejemplo**\n",
        "\n"
      ]
    },
    {
      "cell_type": "markdown",
      "metadata": {
        "id": "WPGgOS_arW03"
      },
      "source": [
        ""
      ]
    },
    {
      "cell_type": "code",
      "metadata": {
        "id": "KM60uF85rYNG"
      },
      "source": [
        ""
      ],
      "execution_count": null,
      "outputs": []
    },
    {
      "cell_type": "code",
      "metadata": {
        "colab": {
          "base_uri": "https://localhost:8080/"
        },
        "id": "MG-JIXnzqyzX",
        "outputId": "59fc073b-91dd-4520-9125-72e0acb4eecb"
      },
      "source": [
        "x=5\n",
        "print(x)"
      ],
      "execution_count": 2,
      "outputs": [
        {
          "output_type": "stream",
          "text": [
            "5\n"
          ],
          "name": "stdout"
        }
      ]
    },
    {
      "cell_type": "markdown",
      "metadata": {
        "id": "aFQnDyR2oe4n"
      },
      "source": [
        ""
      ]
    },
    {
      "cell_type": "markdown",
      "metadata": {
        "id": "U0_OeVWmraJE"
      },
      "source": [
        "**Tipos de datos**\n",
        "\n",
        "---\n",
        "**Enteros**\n",
        "-son los numeros que no tiene decimales\n",
        "-pueden ser positivos y negativos\n"
      ]
    },
    {
      "cell_type": "code",
      "metadata": {
        "colab": {
          "base_uri": "https://localhost:8080/"
        },
        "id": "HM2nHvoErriO",
        "outputId": "c24fe0c9-0651-4c55-8a8e-0db86e19217f"
      },
      "source": [
        "a = int(3)\n",
        "print(a)"
      ],
      "execution_count": 3,
      "outputs": [
        {
          "output_type": "stream",
          "text": [
            "3\n"
          ],
          "name": "stdout"
        }
      ]
    },
    {
      "cell_type": "markdown",
      "metadata": {
        "id": "sJa67hFHr2Rg"
      },
      "source": [
        "el comando int, es para hacer alucion a numeros enteros. \n",
        "a parte el comando float, permite comandos con decimales."
      ]
    },
    {
      "cell_type": "code",
      "metadata": {
        "colab": {
          "base_uri": "https://localhost:8080/"
        },
        "id": "5bpALLiWsqzD",
        "outputId": "5b1572c2-448e-45f5-8511-08a387ac5fde"
      },
      "source": [
        "b=float(8.23)\n",
        "print(b)"
      ],
      "execution_count": 5,
      "outputs": [
        {
          "output_type": "stream",
          "text": [
            "8.23\n"
          ],
          "name": "stdout"
        }
      ]
    },
    {
      "cell_type": "markdown",
      "metadata": {
        "id": "LmyL-oa5s6jy"
      },
      "source": [
        "**Tipo Cadena**\n",
        "---\n",
        "las cadenas de texto encerrado entre (comillas simple o dobles) y se pueden conformar de diferenres caracteres(Numericos, Albeticos, Especiales #$%..)\n",
        "tener en cuenta, las cadenas admiten operadores como la suma y la resta. (variable string)\n"
      ]
    },
    {
      "cell_type": "code",
      "metadata": {
        "colab": {
          "base_uri": "https://localhost:8080/"
        },
        "id": "HsEI5Erqtmrl",
        "outputId": "deac483c-3e78-416f-8bc0-b2422ca60c6d"
      },
      "source": [
        "val1 =\"gisela\"\n",
        "print(val1)"
      ],
      "execution_count": 6,
      "outputs": [
        {
          "output_type": "stream",
          "text": [
            "gisela\n"
          ],
          "name": "stdout"
        }
      ]
    },
    {
      "cell_type": "code",
      "metadata": {
        "colab": {
          "base_uri": "https://localhost:8080/"
        },
        "id": "01_NgP_Mt9H3",
        "outputId": "7d823cc8-18b9-48d5-9382-9396bffd3d9d"
      },
      "source": [
        "n=\"Aprender\"\n",
        "z= \"python\"\n",
        "nz=n+\" \"+z\n",
        "print(nz)"
      ],
      "execution_count": 9,
      "outputs": [
        {
          "output_type": "stream",
          "text": [
            "Aprender python\n"
          ],
          "name": "stdout"
        }
      ]
    },
    {
      "cell_type": "markdown",
      "metadata": {
        "id": "OvqziMioyFOZ"
      },
      "source": [
        "**Tipo Booleano**\n",
        "---\n",
        "Este tipo de variables solo tendra un valor, Vedadero o falso (True or false)\n",
        "**Nota**\n",
        "son valores muy usados en condiciones y bucles.\n"
      ]
    },
    {
      "cell_type": "code",
      "metadata": {
        "colab": {
          "base_uri": "https://localhost:8080/"
        },
        "id": "mGipptOWymgF",
        "outputId": "0920662a-9dcb-42a7-a506-fcdefb963f90"
      },
      "source": [
        "lola=True\n",
        "print(\"el valor es verdadero:\", lola, type(lola))"
      ],
      "execution_count": 10,
      "outputs": [
        {
          "output_type": "stream",
          "text": [
            "el valor es verdadero: True <class 'bool'>\n"
          ],
          "name": "stdout"
        }
      ]
    },
    {
      "cell_type": "markdown",
      "metadata": {
        "id": "Kvvv-Cj9zVA8"
      },
      "source": [
        "python cuenta con tipos de datos que admiten colecciones:\n",
        "1. listas\n",
        "2.Tuplas\n",
        "3.Diccionarios \n",
        "**Tipo de conjuntos**\n",
        "---\n",
        "son una coleccion de datos sin elementos que repiten:\n",
        "el conjunto se escribe entre parentesis ()\n"
      ]
    },
    {
      "cell_type": "code",
      "metadata": {
        "colab": {
          "base_uri": "https://localhost:8080/"
        },
        "id": "UjfblnX10Ij6",
        "outputId": "b6305467-25e9-476d-9f76-8ab5638b18fe"
      },
      "source": [
        "fru='pera', 'manzana', 'naranja'\n",
        "print(fru)"
      ],
      "execution_count": 11,
      "outputs": [
        {
          "output_type": "stream",
          "text": [
            "('pera', 'manzana', 'naranja')\n"
          ],
          "name": "stdout"
        }
      ]
    },
    {
      "cell_type": "markdown",
      "metadata": {
        "id": "34LwKNx80jhE"
      },
      "source": [
        "**Tipo listas**\n",
        "---\n",
        "son listas las almacenan vectores.\n",
        "Ejemplo de listas en python:\n",
        "las listas aparecen entre corchetes []\n",
        "-las listas siempre empiezan a nombrarse desde el elemento cero, a partir de allí empieza el conteo."
      ]
    },
    {
      "cell_type": "code",
      "metadata": {
        "colab": {
          "base_uri": "https://localhost:8080/"
        },
        "id": "9eU1itJH052m",
        "outputId": "e36328fa-f2a9-4f7c-ab7c-1f228073c3ce"
      },
      "source": [
        "ines=['5', 'uva', 'lila', 'perro']\n",
        "fe=ines[0:2] #trae los elementos que se indican, del 0 hast antes del 2\n",
        "print(fe)"
      ],
      "execution_count": 13,
      "outputs": [
        {
          "output_type": "stream",
          "text": [
            "['5', 'uva']\n"
          ],
          "name": "stdout"
        }
      ]
    },
    {
      "cell_type": "markdown",
      "metadata": {
        "id": "U_PBfhKx2uwB"
      },
      "source": [
        "**Tipo Tuplas**\n",
        "---\n",
        "Es una lista que no se puede modificar despues de la creacion de esta:\n",
        "Tuplas anidadas: Agrupacion(Tuplas)\n",
        "ejemplo:"
      ]
    },
    {
      "cell_type": "code",
      "metadata": {
        "colab": {
          "base_uri": "https://localhost:8080/"
        },
        "id": "7G4Oa-a14dxi",
        "outputId": "d24df749-a7fd-4954-e0e9-670d12dfec3a"
      },
      "source": [
        "tupla=23,28, 'hello'\n",
        "otra=tupla,(1,2,3,4)\n",
        "print(otra)"
      ],
      "execution_count": 16,
      "outputs": [
        {
          "output_type": "stream",
          "text": [
            "((23, 28, 'hello'), (1, 2, 3, 4))\n"
          ],
          "name": "stdout"
        }
      ]
    },
    {
      "cell_type": "markdown",
      "metadata": {
        "id": "5AutbAsT57um"
      },
      "source": [
        "**Tipo Diccionarios**\n",
        "---\n",
        "Define los datos uno a uno entre un campo (ID -identificador) y un valor\n",
        "los diccionarios se manejan con corchetes {}"
      ]
    },
    {
      "cell_type": "code",
      "metadata": {
        "colab": {
          "base_uri": "https://localhost:8080/"
        },
        "id": "Ek9rDTfG6zF3",
        "outputId": "5244072d-c3e8-45a1-8ebd-c3c344e12179"
      },
      "source": [
        "datos_b= {\n",
        "    \"nombres\": \"Diana\", #primero palabras claves\n",
        "    \"apellidos\":\"perea\",\n",
        "    \"cedula\": \"234567\",\n",
        "    \"est_Civil\":\"Viuda\",\n",
        "    \"lugar_nacimiento\": \"manizales\",\n",
        "    \"fecha_nacimiento\": \"27/11/2000\",\n",
        "}\n",
        "print(\"ID del diccionario\", datos_b.keys()) #campos\n",
        "print(\"ID del diccionario\", datos_b.values()) #valores\n",
        "print(\"ID del diccionario\", datos_b.items()) #\n",
        "print(\"cedula:\",datos_b['cedula'] ) #traer un dato seleccionado \n",
        "\n",
        "\n"
      ],
      "execution_count": 27,
      "outputs": [
        {
          "output_type": "stream",
          "text": [
            "ID del diccionario dict_keys(['nombres', 'apellidos', 'cedula', 'est_Civil', 'lugar_nacimiento', 'fecha_nacimiento'])\n",
            "ID del diccionario dict_values(['Diana', 'perea', '234567', 'Viuda', 'manizales', '27/11/2000'])\n",
            "ID del diccionario dict_items([('nombres', 'Diana'), ('apellidos', 'perea'), ('cedula', '234567'), ('est_Civil', 'Viuda'), ('lugar_nacimiento', 'manizales'), ('fecha_nacimiento', '27/11/2000')])\n",
            "cedula: 234567\n"
          ],
          "name": "stdout"
        }
      ]
    },
    {
      "cell_type": "markdown",
      "metadata": {
        "id": "XmaKDjDe8sPy"
      },
      "source": [
        "**ejemplos practico (caracteisticas de carros)**\n"
      ]
    },
    {
      "cell_type": "code",
      "metadata": {
        "colab": {
          "base_uri": "https://localhost:8080/"
        },
        "id": "WSakiWUR82Hz",
        "outputId": "7e00daae-3968-4fcf-d857-262a5f0bf65e"
      },
      "source": [
        "carros_0={} #se crea el espacio, luego los valores\n",
        "carros_0['tam']='grande'\n",
        "carros_0['color']='negro'\n",
        "carros_0['marca']='renault'\n",
        "carros_0['precio']=60\n",
        "print(carros_0)\n",
        "carros_1={} #se crea el espacio, luego los valores\n",
        "carros_1['tam']='pequeño'\n",
        "carros_1['color']='blanco'\n",
        "carros_1['marca']='chevrolet'\n",
        "carros_1['precio']=37\n",
        "print(carros_1)\n",
        "\n",
        "#comprar ambos carros\n",
        "compra0=carros_0['precio']\n",
        "compra1=carros_1['precio']\n",
        "compratotal= compra0+compra1\n",
        "print(\"la compra total fue de:\", compratotal)\n",
        "print(\"la compra total fue de:\" + str(compratotal)) #segunda forma de hacerlo\n"
      ],
      "execution_count": 26,
      "outputs": [
        {
          "output_type": "stream",
          "text": [
            "{'tam': 'grande', 'color': 'negro', 'marca': 'renault', 'precio': 60}\n",
            "{'tam': 'pequeño', 'color': 'blanco', 'marca': 'chevrolet', 'precio': 37}\n",
            "la compra total fue de: 97\n",
            "la compra total fue de:97\n"
          ],
          "name": "stdout"
        }
      ]
    },
    {
      "cell_type": "code",
      "metadata": {
        "id": "nP9mni9L80m3"
      },
      "source": [
        ""
      ],
      "execution_count": null,
      "outputs": []
    }
  ]
}