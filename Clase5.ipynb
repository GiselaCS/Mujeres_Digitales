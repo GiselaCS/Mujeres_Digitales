{
  "nbformat": 4,
  "nbformat_minor": 0,
  "metadata": {
    "colab": {
      "name": "Clase5.ipynb",
      "provenance": [],
      "authorship_tag": "ABX9TyMVuZEeylnyUxG1cLaqGOB8",
      "include_colab_link": true
    },
    "kernelspec": {
      "name": "python3",
      "display_name": "Python 3"
    },
    "language_info": {
      "name": "python"
    }
  },
  "cells": [
    {
      "cell_type": "markdown",
      "metadata": {
        "id": "view-in-github",
        "colab_type": "text"
      },
      "source": [
        "<a href=\"https://colab.research.google.com/github/GiselaCS/Mujeres_Digitales/blob/main/Clase5.ipynb\" target=\"_parent\"><img src=\"https://colab.research.google.com/assets/colab-badge.svg\" alt=\"Open In Colab\"/></a>"
      ]
    },
    {
      "cell_type": "code",
      "metadata": {
        "id": "iIoP-I6kTb05"
      },
      "source": [
        ""
      ],
      "execution_count": null,
      "outputs": []
    },
    {
      "cell_type": "markdown",
      "metadata": {
        "id": "EWXNi86ZTfm2"
      },
      "source": [
        "CONTINUACIÓN DE CICLOS\n",
        "\n",
        "Ciclo For - Bucle FOR"
      ]
    },
    {
      "cell_type": "code",
      "metadata": {
        "id": "iCvG6mj1TgxW"
      },
      "source": [
        "for i in range(1,5):\n",
        "  print(1)"
      ],
      "execution_count": null,
      "outputs": []
    },
    {
      "cell_type": "markdown",
      "metadata": {
        "id": "WkfjDM77TjSA"
      },
      "source": [
        "Para dejar claro las partes que componen el bucle FOR, vamos a dejar claro las siguientes definiciones:\n",
        "\n",
        "Iterable: son los objetos que pueden ser iterados, por ejemplo una lista, un valor tipo cadena, etc\n",
        "\n",
        "Iterador: Son objetos que hacen a referencia a un elemento (para hacer referencia a cada uno de los elementos hay un método denominado \"next\" que permite hacer referencia a los elementos del conjunto\n",
        "\n",
        "**for (variable) in (iterable): (Nloque código)\n",
        "\n",
        "Algunos ejemplo de iterables en pyhton son las listas, cadenas, diccionarios, tuplas, etc.\n",
        "\n",
        "¿Cómo saber que es iterable a la hora de programar? \n",
        "\n",
        "Podemos darnos cuenta que es iterable usando la función *isinstance().*"
      ]
    },
    {
      "cell_type": "code",
      "metadata": {
        "id": "icxPw6KmUpfA"
      },
      "source": [
        "from collections import Iterable #paquete iterable de collections (python 3.7)\n",
        "lista = [1,2,3,4,5,6,7,8,9,0]\n",
        "a = \"computador\"\n",
        "b = 14\n",
        "print(isinstance(lista, Iterable))\n",
        "print(isinstance(a, Iterable))\n",
        "print(isinstance(b, Iterable))"
      ],
      "execution_count": null,
      "outputs": []
    },
    {
      "cell_type": "code",
      "metadata": {
        "id": "690x3_uqVQIY"
      },
      "source": [
        "a = 30 #arrojaría error porque no es iterable\n",
        "for i in a :"
      ],
      "execution_count": null,
      "outputs": []
    },
    {
      "cell_type": "markdown",
      "metadata": {
        "id": "Ys2NUOo0VVPn"
      },
      "source": [
        "Para entender los iteradores, es importante conocer la funcion iter(), esta función puede ser llamada sobre un objeto que sea iterable, y nos devolverá un iterador\n",
        "\n",
        "Ejemplo:"
      ]
    },
    {
      "cell_type": "code",
      "metadata": {
        "id": "AXGs_blSVdEQ",
        "colab": {
          "base_uri": "https://localhost:8080/"
        },
        "outputId": "f8d4f333-8c21-4156-c221-f96e5fadec1e"
      },
      "source": [
        "lista = [1,2,3,4,5,6,7,8,9,0]\n",
        "ref = iter(lista)\n",
        "print(ref)\n",
        "print(type(ref))"
      ],
      "execution_count": 1,
      "outputs": [
        {
          "output_type": "stream",
          "text": [
            "<list_iterator object at 0x7f294546f090>\n",
            "<class 'list_iterator'>\n"
          ],
          "name": "stdout"
        }
      ]
    },
    {
      "cell_type": "markdown",
      "metadata": {
        "id": "eMr128Y_Ws5a"
      },
      "source": [
        "Al imprimir ref es un iterador, de la clase list_iterador hace referencia a la lista original y nos permite acceder a sus elementos con la función next(). Cada vez que llamemos a next() sobre ref, nos devuelve el siguiente elemento de la lista original\n",
        "\n",
        "si por ejemplo, quiero acceder al elemento 7, tendremos que llamar 7 veces a next()"
      ]
    },
    {
      "cell_type": "code",
      "metadata": {
        "id": "T39tm0jTW4Mb",
        "colab": {
          "base_uri": "https://localhost:8080/"
        },
        "outputId": "709d2f85-8684-4aa3-841d-74a468890114"
      },
      "source": [
        "lista = [1,2,3,4,5,6,7,8,9,0]\n",
        "ref = iter(lista)\n",
        "print(next(ref))\n",
        "print(next(ref))\n",
        "print(next(ref))\n",
        "print(next(ref))\n",
        "print(next(ref))\n",
        "print(next(ref))\n",
        "print(next(ref))\n",
        "print(next(ref))\n",
        "print(next(ref))\n",
        "print(next(ref))"
      ],
      "execution_count": 2,
      "outputs": [
        {
          "output_type": "stream",
          "text": [
            "1\n",
            "2\n",
            "3\n",
            "4\n",
            "5\n",
            "6\n",
            "7\n",
            "8\n",
            "9\n",
            "0\n"
          ],
          "name": "stdout"
        }
      ]
    },
    {
      "cell_type": "markdown",
      "metadata": {
        "id": "WDcaE8FBXGA_"
      },
      "source": [
        "TENER EN CUENTA\n",
        "\n",
        "Existen otro iteradores para las diferentes clases:\n",
        "\n",
        "1. str_iterador para cadenas\n",
        "2. list_iterador para listas\n",
        "3. set_iterador para conjuntos\n",
        "4. dict_keyiterator para diccionarios"
      ]
    },
    {
      "cell_type": "markdown",
      "metadata": {
        "id": "MHtg8GTObAsz"
      },
      "source": [
        "FOR ANIDADOS\n",
        "---\n",
        "\n",
        "Es posible anidarlos , es decir ingresar uno dentro de otro, como lo vemos a continuación"
      ]
    },
    {
      "cell_type": "code",
      "metadata": {
        "id": "oe9jWeTmcZTD",
        "colab": {
          "base_uri": "https://localhost:8080/"
        },
        "outputId": "27acf21b-ac7b-45ef-fcde-02cb360d1be9"
      },
      "source": [
        "#vamos a crear una lista de listas lo cual conforma una especie de matriz\n",
        "#Recordemos que una matriz se compone de valores que se distribuyen el filan y columnas \n",
        "qa = [[1,2,3],\n",
        "      [4,5,6], \n",
        "      [7,8,9]]\n",
        "  \n",
        "for i in qa :\n",
        "  print(i)\n",
        "\n",
        "for i in qa:\n",
        "  for j in i:\n",
        "    print(j)"
      ],
      "execution_count": 3,
      "outputs": [
        {
          "output_type": "stream",
          "text": [
            "[1, 2, 3]\n",
            "[4, 5, 6]\n",
            "[7, 8, 9]\n",
            "1\n",
            "2\n",
            "3\n",
            "4\n",
            "5\n",
            "6\n",
            "7\n",
            "8\n",
            "9\n"
          ],
          "name": "stdout"
        }
      ]
    },
    {
      "cell_type": "markdown",
      "metadata": {
        "id": "uFiNReQqcebh"
      },
      "source": [
        "Si queremos acceder a cada elemento individualmente, se procede a realizar un bucle de FOR anidado. Es decir , un for se encargará de iterar las columnas y el otro, las filas."
      ]
    },
    {
      "cell_type": "code",
      "metadata": {
        "id": "yRwXkGficjyc",
        "colab": {
          "base_uri": "https://localhost:8080/"
        },
        "outputId": "485edd76-6ac0-4440-f786-9199b298f501"
      },
      "source": [
        "#Otra forma de utilizar solo el for es la iteración al revés. Es decir se puede iterar la lista desde ek ultimo al primer elemento\n",
        "lista = [1,2,3,4,5,6,7,8,9,0]\n",
        "for i in lista[::-1]:\n",
        "  print(i)"
      ],
      "execution_count": 4,
      "outputs": [
        {
          "output_type": "stream",
          "text": [
            "0\n",
            "9\n",
            "8\n",
            "7\n",
            "6\n",
            "5\n",
            "4\n",
            "3\n",
            "2\n",
            "1\n"
          ],
          "name": "stdout"
        }
      ]
    },
    {
      "cell_type": "code",
      "metadata": {
        "id": "rNfNsXfpcomq",
        "colab": {
          "base_uri": "https://localhost:8080/"
        },
        "outputId": "c57d15c2-6d0b-4fa4-9445-ec4511a98a05"
      },
      "source": [
        "lista = [1,2,3,4,5,6,7,8,9,0]\n",
        "for i in lista[::2]:\n",
        "  print(i)\n",
        "print(\"----------------------\")\n",
        "a = \"computador\"\n",
        "for i in a [::4]:\n",
        "  print(i)"
      ],
      "execution_count": 5,
      "outputs": [
        {
          "output_type": "stream",
          "text": [
            "1\n",
            "3\n",
            "5\n",
            "7\n",
            "9\n",
            "----------------------\n",
            "c\n",
            "u\n",
            "o\n"
          ],
          "name": "stdout"
        }
      ]
    },
    {
      "cell_type": "code",
      "metadata": {
        "id": "h7QJ2NMccvT3",
        "colab": {
          "base_uri": "https://localhost:8080/"
        },
        "outputId": "542f4faa-a768-42e6-8ac4-18b91133f7fe"
      },
      "source": [
        "#Usando rangos \n",
        "for i in range(10):\n",
        "  print(i)\n",
        "#El range( genera una secuencia de numero que van desde 0 por defecto \n",
        "#El número que sepasa como parámetro menos 2.\n",
        "\n",
        "#*Estructura: rage(inicio, fin, salto)\n",
        "\n",
        "#Observemos un truco con el range\n",
        "print(list(range(2,10,2))) #convertir un rango en una lista "
      ],
      "execution_count": 6,
      "outputs": [
        {
          "output_type": "stream",
          "text": [
            "0\n",
            "1\n",
            "2\n",
            "3\n",
            "4\n",
            "5\n",
            "6\n",
            "7\n",
            "8\n",
            "9\n",
            "[2, 4, 6, 8]\n"
          ],
          "name": "stdout"
        }
      ]
    },
    {
      "cell_type": "markdown",
      "metadata": {
        "id": "dNCkcfC3d2CF"
      },
      "source": [
        "LISTA DE COMPRENSIÓN\n",
        "---\n",
        "Estas nos permite crear listas de elementos en una sola linea de código \n",
        "\n",
        "Ejemplo: Crear una lista de las potencias a la 3 de los números impares de 0 a 9"
      ]
    },
    {
      "cell_type": "code",
      "metadata": {
        "colab": {
          "base_uri": "https://localhost:8080/"
        },
        "id": "6Ghxke84eG4_",
        "outputId": "3506bb1e-6fee-44cb-b0ff-faac1cec4fb3"
      },
      "source": [
        "tres = [i**3 for i in range(1,10,2)]\n",
        "print(tres)\n",
        "\n",
        "tres = []\n",
        "for i in range(1,10,2):\n",
        "  tres.append(i**3)\n",
        "  print(i)"
      ],
      "execution_count": 7,
      "outputs": [
        {
          "output_type": "stream",
          "text": [
            "[1, 27, 125, 343, 729]\n",
            "1\n",
            "3\n",
            "5\n",
            "7\n",
            "9\n"
          ],
          "name": "stdout"
        }
      ]
    },
    {
      "cell_type": "code",
      "metadata": {
        "colab": {
          "base_uri": "https://localhost:8080/"
        },
        "id": "NZpMsz1UeNKM",
        "outputId": "679caa91-c89d-4173-b433-b0a43e2a161c"
      },
      "source": [
        "s = [i for i in range(10)]\n",
        "print(s)"
      ],
      "execution_count": 8,
      "outputs": [
        {
          "output_type": "stream",
          "text": [
            "[0, 1, 2, 3, 4, 5, 6, 7, 8, 9]\n"
          ],
          "name": "stdout"
        }
      ]
    },
    {
      "cell_type": "code",
      "metadata": {
        "colab": {
          "base_uri": "https://localhost:8080/"
        },
        "id": "pEmcW9DCeSHW",
        "outputId": "a675f4bd-48b9-4aa6-90b8-b3096e682031"
      },
      "source": [
        "lwa = [5,10,15,20,25,30]\n",
        "lwa2 = [ 1/5 for i in lwa]\n",
        "print(lwa2)"
      ],
      "execution_count": 9,
      "outputs": [
        {
          "output_type": "stream",
          "text": [
            "[0.2, 0.2, 0.2, 0.2, 0.2, 0.2]\n"
          ],
          "name": "stdout"
        }
      ]
    },
    {
      "cell_type": "code",
      "metadata": {
        "colab": {
          "base_uri": "https://localhost:8080/"
        },
        "id": "Ai3nXNoEeYdI",
        "outputId": "e809f463-1615-4f28-fe5e-eb0b682ebed9"
      },
      "source": [
        "pera = \"mamá ama a ema\"\n",
        "pera2 = [i for i in pera if i== \"a\"]\n",
        "print(pera2)"
      ],
      "execution_count": 10,
      "outputs": [
        {
          "output_type": "stream",
          "text": [
            "['a', 'a', 'a', 'a', 'a']\n"
          ],
          "name": "stdout"
        }
      ]
    }
  ]
}