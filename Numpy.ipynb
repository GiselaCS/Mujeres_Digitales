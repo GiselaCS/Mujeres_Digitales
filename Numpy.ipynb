{
  "nbformat": 4,
  "nbformat_minor": 0,
  "metadata": {
    "colab": {
      "name": "Numpy.ipynb",
      "provenance": [],
      "authorship_tag": "ABX9TyM3majo7txfbhhe3EHv0OEr",
      "include_colab_link": true
    },
    "kernelspec": {
      "name": "python3",
      "display_name": "Python 3"
    },
    "language_info": {
      "name": "python"
    }
  },
  "cells": [
    {
      "cell_type": "markdown",
      "metadata": {
        "id": "view-in-github",
        "colab_type": "text"
      },
      "source": [
        "<a href=\"https://colab.research.google.com/github/GiselaCS/Mujeres_Digitales/blob/main/Numpy.ipynb\" target=\"_parent\"><img src=\"https://colab.research.google.com/assets/colab-badge.svg\" alt=\"Open In Colab\"/></a>"
      ]
    },
    {
      "cell_type": "code",
      "metadata": {
        "id": "OC_43gJDSmtz"
      },
      "source": [
        "import numpy as np \n",
        "import time"
      ],
      "execution_count": 1,
      "outputs": []
    },
    {
      "cell_type": "markdown",
      "metadata": {
        "id": "a-ZT3QdFTOGr"
      },
      "source": [
        "Numpy\n",
        "Paquete fundamental para operaciones matematicas en Python\n",
        "\n",
        "Link mayor info: https://numpy.org/\n",
        "\n",
        "Ultima version: NumPy v1.20.0\n",
        "\n",
        "NumPy es un proyecto de código abierto que tiene como objetivo permitir la computación numérica con Python. Fue creado en 2005, basándose en el trabajo inicial de las bibliotecas Numeric y Numarray. NumPy siempre será un software 100% de código abierto, de uso gratuito para todos y publicado bajo los términos liberales de la licencia BSD modificada.\n",
        "\n",
        "NumPy se desarrolla al aire libre en GitHub, a través del consenso de NumPy y de la comunidad científica Python en general. Para obtener más información sobre nuestro enfoque de gobernanza, consulte nuestro Documento de gobernanza.\n",
        "\n",
        "Equipo: https://numpy.org/gallery/team.html"
      ]
    },
    {
      "cell_type": "markdown",
      "metadata": {
        "id": "BGD6pK35TirA"
      },
      "source": [
        "NUMPY es un paquete fundamental para el trabajo de computacion cientifica con PYTHON, contiene\n",
        "\n",
        "1. Tipos de datos\n",
        "2. Clases\n",
        "3. Funciones\n",
        "4. Modulos\n",
        "\n",
        "Estos pisibilitan la creacion y manejo de array n-dimensionales\n",
        "\n",
        "El tipo de datos mas importante es el array (o ndarray, de n dimensiones)\n",
        "\n",
        "Algunas ventajas:\n",
        "\n",
        "1. Multiplataforma\n",
        "2. Potente Tiene funcionalidades de 3. cualquier otro paquete numerico\n",
        "3. Perfecta integracion interactuando con los tipos de datos y estructuras propios del lenguaje\n",
        "4. Gratuito"
      ]
    },
    {
      "cell_type": "code",
      "metadata": {
        "colab": {
          "base_uri": "https://localhost:8080/"
        },
        "id": "SxlC397qT5K7",
        "outputId": "01380106-6fe2-4a04-df6c-0cff8aa1e815"
      },
      "source": [
        "#una lista de listas\n",
        "#filas y columnas\n",
        "a= np.array([[1,2,3],[4,5,6]])\n",
        "print('a=', a)"
      ],
      "execution_count": 2,
      "outputs": [
        {
          "output_type": "stream",
          "text": [
            "a= [[1 2 3]\n",
            " [4 5 6]]\n"
          ],
          "name": "stdout"
        }
      ]
    },
    {
      "cell_type": "code",
      "metadata": {
        "colab": {
          "base_uri": "https://localhost:8080/"
        },
        "id": "hp2eDnDRUeS0",
        "outputId": "b9faf91b-3d97-4424-8305-9c63c1cde389"
      },
      "source": [
        "#cantidad de filas y columnas que tiene el arreglo\n",
        "print(a.shape)"
      ],
      "execution_count": 7,
      "outputs": [
        {
          "output_type": "stream",
          "text": [
            "(2, 3)\n"
          ],
          "name": "stdout"
        }
      ]
    },
    {
      "cell_type": "code",
      "metadata": {
        "colab": {
          "base_uri": "https://localhost:8080/"
        },
        "id": "TEJMOGvKTL3U",
        "outputId": "15c2ca2c-2581-4d42-d5f6-7c0f57a9db92"
      },
      "source": [
        "# cuantos elementos tiene\n",
        "print(a.ndim)"
      ],
      "execution_count": 4,
      "outputs": [
        {
          "output_type": "stream",
          "text": [
            "2\n"
          ],
          "name": "stdout"
        }
      ]
    },
    {
      "cell_type": "code",
      "metadata": {
        "colab": {
          "base_uri": "https://localhost:8080/"
        },
        "id": "lHEMjeqbUlYP",
        "outputId": "d4efb74f-70c7-4e72-e0d1-3ec50d936f56"
      },
      "source": [
        "#tamaño del dato\n",
        "print(a.size)"
      ],
      "execution_count": 3,
      "outputs": [
        {
          "output_type": "stream",
          "text": [
            "6\n"
          ],
          "name": "stdout"
        }
      ]
    },
    {
      "cell_type": "code",
      "metadata": {
        "colab": {
          "base_uri": "https://localhost:8080/"
        },
        "id": "L0qG8MosUr-l",
        "outputId": "a18b095b-32dc-4636-9267-38c9acc79758"
      },
      "source": [
        "#tipo de dato\n",
        "print(a.dtype)"
      ],
      "execution_count": 5,
      "outputs": [
        {
          "output_type": "stream",
          "text": [
            "int64\n"
          ],
          "name": "stdout"
        }
      ]
    },
    {
      "cell_type": "code",
      "metadata": {
        "colab": {
          "base_uri": "https://localhost:8080/"
        },
        "id": "cLXs4xmEUywL",
        "outputId": "32dea105-fb11-4969-f824-699822d6a7de"
      },
      "source": [
        "#trae los datos reales\n",
        "print(a.real)"
      ],
      "execution_count": 6,
      "outputs": [
        {
          "output_type": "stream",
          "text": [
            "[[1 2 3]\n",
            " [4 5 6]]\n"
          ],
          "name": "stdout"
        }
      ]
    },
    {
      "cell_type": "code",
      "metadata": {
        "colab": {
          "base_uri": "https://localhost:8080/"
        },
        "id": "D-GAdS2bVDjv",
        "outputId": "a60a4eba-87a8-4fce-dd0f-62dde3a44bf7"
      },
      "source": [
        "#trae los elementos imaginarios\n",
        "print(a.imag)"
      ],
      "execution_count": 8,
      "outputs": [
        {
          "output_type": "stream",
          "text": [
            "[[0 0 0]\n",
            " [0 0 0]]\n"
          ],
          "name": "stdout"
        }
      ]
    },
    {
      "cell_type": "code",
      "metadata": {
        "colab": {
          "base_uri": "https://localhost:8080/"
        },
        "id": "6TmmWW31VJx3",
        "outputId": "4ee14305-432a-44ac-9446-1ff82f0d743f"
      },
      "source": [
        "# Arrays n dimensionales\n",
        "a= np.array([[1,2,3,4],[5,6,7,8],[9,10,11,12]],dtype=int)\n",
        "print(a.shape)\n",
        "print(a)"
      ],
      "execution_count": 9,
      "outputs": [
        {
          "output_type": "stream",
          "text": [
            "(3, 4)\n",
            "[[ 1  2  3  4]\n",
            " [ 5  6  7  8]\n",
            " [ 9 10 11 12]]\n"
          ],
          "name": "stdout"
        }
      ]
    },
    {
      "cell_type": "code",
      "metadata": {
        "colab": {
          "base_uri": "https://localhost:8080/"
        },
        "id": "Piq-8V8DVQxt",
        "outputId": "0eb8dbfc-a16d-4440-ea81-be26469bc84f"
      },
      "source": [
        "#el primer numero es filas el segundo columnas\n",
        "a.shape"
      ],
      "execution_count": 12,
      "outputs": [
        {
          "output_type": "execute_result",
          "data": {
            "text/plain": [
              "(3, 4)"
            ]
          },
          "metadata": {},
          "execution_count": 12
        }
      ]
    },
    {
      "cell_type": "code",
      "metadata": {
        "colab": {
          "base_uri": "https://localhost:8080/"
        },
        "id": "k4SX3MEtVdcz",
        "outputId": "2e4d4563-3e03-48f6-b95c-ed09ba5022fd"
      },
      "source": [
        "a.shape[0] #fila"
      ],
      "execution_count": 13,
      "outputs": [
        {
          "output_type": "execute_result",
          "data": {
            "text/plain": [
              "3"
            ]
          },
          "metadata": {},
          "execution_count": 13
        }
      ]
    },
    {
      "cell_type": "code",
      "metadata": {
        "colab": {
          "base_uri": "https://localhost:8080/"
        },
        "id": "18zSUYbAVYIf",
        "outputId": "d81e9a62-962d-47e3-d5d5-614bbc00a9b5"
      },
      "source": [
        "a.shape[1] #columnas"
      ],
      "execution_count": 11,
      "outputs": [
        {
          "output_type": "execute_result",
          "data": {
            "text/plain": [
              "4"
            ]
          },
          "metadata": {},
          "execution_count": 11
        }
      ]
    },
    {
      "cell_type": "markdown",
      "metadata": {
        "id": "ogfccam6ViPb"
      },
      "source": [
        "**Manejo Basico**\n",
        "---\n",
        "\n",
        "1. Creacion\n",
        "2. Indexacion\n",
        "3. Operaciones aritmeticas (broadcasting) relacionale sy logicas\n",
        "4. Cambio de tipo (Casting)\n",
        "5. Valores especiales (nana o inf)\n",
        "6. Creacion En principio 4 formas\n",
        "\n",
        "A partir de secuencias (listas o tuplas) de PYTHON\n",
        "\n",
        "1. Haciendo uso de funciones propias de numpy\n",
        "2. Lectura de datos desde fichero\n",
        "3. Copiando otro array\n",
        "4. numpy.array(secuencia, tipo_datos)"
      ]
    },
    {
      "cell_type": "code",
      "metadata": {
        "colab": {
          "base_uri": "https://localhost:8080/"
        },
        "id": "w1_sgnHQV5ZH",
        "outputId": "299b211f-c8f8-4b38-a32d-62a210914a9f"
      },
      "source": [
        "'''\n",
        "El casting es un procedimiento para transformar una variable primitiva de un tipo a otro. \n",
        "También se utiliza para transformar un objeto de una clase a otra clase siempre y cuando \n",
        "haya una relación de herencia entre ambas.\n",
        "'''\n",
        "import numpy \n",
        "#los convierte a string\n",
        "a0=numpy.array([1,'5',4.3,1+3j]) # Casting implicito\n",
        "print(a0)\n",
        "print(type(a0[0]))\n",
        "tupla=(3,5,7.7)\n",
        "a2= numpy.array(tupla)\n",
        "print(a2)\n",
        "a3= numpy.array([])\n",
        "print(a3)\n",
        "a4=numpy.array(['lineal','lineal2','33'],dtype='|S3')\n",
        "print(a4)"
      ],
      "execution_count": 14,
      "outputs": [
        {
          "output_type": "stream",
          "text": [
            "['1' '5' '4.3' '(1+3j)']\n",
            "<class 'numpy.str_'>\n",
            "[3.  5.  7.7]\n",
            "[]\n",
            "[b'lin' b'lin' b'33']\n"
          ],
          "name": "stdout"
        }
      ]
    },
    {
      "cell_type": "code",
      "metadata": {
        "colab": {
          "base_uri": "https://localhost:8080/"
        },
        "id": "vtd0urygWebB",
        "outputId": "2b31eda2-a122-409d-e4c4-eb54e429c721"
      },
      "source": [
        "# Creacion con funciones numpy\n",
        "#del 5 al 6 de 0.1 \n",
        "numpy.arange(5,6,0.1)"
      ],
      "execution_count": 15,
      "outputs": [
        {
          "output_type": "execute_result",
          "data": {
            "text/plain": [
              "array([5. , 5.1, 5.2, 5.3, 5.4, 5.5, 5.6, 5.7, 5.8, 5.9])"
            ]
          },
          "metadata": {},
          "execution_count": 15
        }
      ]
    },
    {
      "cell_type": "code",
      "metadata": {
        "colab": {
          "base_uri": "https://localhost:8080/"
        },
        "id": "Diqup8hDWqwy",
        "outputId": "01644769-d95e-4e58-b342-14cd8d033c2b"
      },
      "source": [
        "numpy.linspace(5,6,5)\n",
        "# Devuelve un array en el que se ha dividido el intervalo start, stop en num fragmentos"
      ],
      "execution_count": 16,
      "outputs": [
        {
          "output_type": "execute_result",
          "data": {
            "text/plain": [
              "array([5.  , 5.25, 5.5 , 5.75, 6.  ])"
            ]
          },
          "metadata": {},
          "execution_count": 16
        }
      ]
    },
    {
      "cell_type": "code",
      "metadata": {
        "colab": {
          "base_uri": "https://localhost:8080/"
        },
        "id": "toxKILwiWvVT",
        "outputId": "8aed0749-549a-4072-9971-a50067ea7293"
      },
      "source": [
        "# el .ones crea matrices llenas de 1\n",
        "print(numpy.ones([2,3],dtype='int'))"
      ],
      "execution_count": 17,
      "outputs": [
        {
          "output_type": "stream",
          "text": [
            "[[1 1 1]\n",
            " [1 1 1]]\n"
          ],
          "name": "stdout"
        }
      ]
    },
    {
      "cell_type": "code",
      "metadata": {
        "colab": {
          "base_uri": "https://localhost:8080/"
        },
        "id": "a1COCnWYW1HZ",
        "outputId": "3bcd559e-aef7-4970-c36c-199e466e7e20"
      },
      "source": [
        "numpy.zeros #matrices con 0"
      ],
      "execution_count": 18,
      "outputs": [
        {
          "output_type": "execute_result",
          "data": {
            "text/plain": [
              "<function numpy.zeros>"
            ]
          },
          "metadata": {},
          "execution_count": 18
        }
      ]
    },
    {
      "cell_type": "code",
      "metadata": {
        "colab": {
          "base_uri": "https://localhost:8080/"
        },
        "id": "DQ3EovbOW7JI",
        "outputId": "57177294-b2c0-41ea-e781-7c23f938c112"
      },
      "source": [
        "numpy.zeros((2,3,4))"
      ],
      "execution_count": 19,
      "outputs": [
        {
          "output_type": "execute_result",
          "data": {
            "text/plain": [
              "array([[[0., 0., 0., 0.],\n",
              "        [0., 0., 0., 0.],\n",
              "        [0., 0., 0., 0.]],\n",
              "\n",
              "       [[0., 0., 0., 0.],\n",
              "        [0., 0., 0., 0.],\n",
              "        [0., 0., 0., 0.]]])"
            ]
          },
          "metadata": {},
          "execution_count": 19
        }
      ]
    },
    {
      "cell_type": "code",
      "metadata": {
        "id": "tAGp5btoXPPM"
      },
      "source": [
        "#ejemplo\n",
        "a = numpy.array([[1,2],[3,4]])"
      ],
      "execution_count": 20,
      "outputs": []
    },
    {
      "cell_type": "code",
      "metadata": {
        "colab": {
          "base_uri": "https://localhost:8080/"
        },
        "id": "aIt2gAbNXXlB",
        "outputId": "5525d6a8-a2c2-4a47-83fd-ca8854adb61b"
      },
      "source": [
        "a"
      ],
      "execution_count": 21,
      "outputs": [
        {
          "output_type": "execute_result",
          "data": {
            "text/plain": [
              "array([[1, 2],\n",
              "       [3, 4]])"
            ]
          },
          "metadata": {},
          "execution_count": 21
        }
      ]
    },
    {
      "cell_type": "code",
      "metadata": {
        "colab": {
          "base_uri": "https://localhost:8080/"
        },
        "id": "FeMhS4xNXa9-",
        "outputId": "3caf0159-c676-44da-bdf0-12b975a1b6db"
      },
      "source": [
        "#trae el elemento que se encuentra en esa posicion\n",
        "a[0,1]"
      ],
      "execution_count": 23,
      "outputs": [
        {
          "output_type": "execute_result",
          "data": {
            "text/plain": [
              "2"
            ]
          },
          "metadata": {},
          "execution_count": 23
        }
      ]
    },
    {
      "cell_type": "code",
      "metadata": {
        "colab": {
          "base_uri": "https://localhost:8080/"
        },
        "id": "D4fqL_wbXjHJ",
        "outputId": "1fcfa520-21ae-4804-bd47-8917b3a9e0ae"
      },
      "source": [
        "b= numpy.array([[1,5],[3,4]])\n",
        "b"
      ],
      "execution_count": 34,
      "outputs": [
        {
          "output_type": "execute_result",
          "data": {
            "text/plain": [
              "array([[1, 5],\n",
              "       [3, 4]])"
            ]
          },
          "metadata": {},
          "execution_count": 34
        }
      ]
    },
    {
      "cell_type": "code",
      "metadata": {
        "id": "Qm5w5MhoYAVZ"
      },
      "source": [
        "#este elemento tiene dos nombres\n",
        "c=b\n"
      ],
      "execution_count": 35,
      "outputs": []
    },
    {
      "cell_type": "code",
      "metadata": {
        "id": "fM0p41IyYDBu"
      },
      "source": [
        "b[0,1]=2"
      ],
      "execution_count": 36,
      "outputs": []
    },
    {
      "cell_type": "code",
      "metadata": {
        "colab": {
          "base_uri": "https://localhost:8080/"
        },
        "id": "eUd-N_cAYNKE",
        "outputId": "2fcefd8a-a3b9-4b62-d378-bf891a1982e2"
      },
      "source": [
        "#cualquier cambio se refleja en ambos\n",
        "c"
      ],
      "execution_count": 37,
      "outputs": [
        {
          "output_type": "execute_result",
          "data": {
            "text/plain": [
              "array([[1, 2],\n",
              "       [3, 4]])"
            ]
          },
          "metadata": {},
          "execution_count": 37
        }
      ]
    },
    {
      "cell_type": "code",
      "metadata": {
        "colab": {
          "base_uri": "https://localhost:8080/"
        },
        "id": "6Xydkj8lYH2I",
        "outputId": "9b73fb7d-b843-4c0e-fdaa-648f9483b064"
      },
      "source": [
        "b"
      ],
      "execution_count": 38,
      "outputs": [
        {
          "output_type": "execute_result",
          "data": {
            "text/plain": [
              "array([[1, 2],\n",
              "       [3, 4]])"
            ]
          },
          "metadata": {},
          "execution_count": 38
        }
      ]
    }
  ]
}