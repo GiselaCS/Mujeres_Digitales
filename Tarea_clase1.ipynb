{
  "nbformat": 4,
  "nbformat_minor": 0,
  "metadata": {
    "colab": {
      "name": "Tarea clase1.ipynb",
      "provenance": [],
      "authorship_tag": "ABX9TyNK56qpz2ZVhKDX4O1T26IJ",
      "include_colab_link": true
    },
    "kernelspec": {
      "name": "python3",
      "display_name": "Python 3"
    },
    "language_info": {
      "name": "python"
    }
  },
  "cells": [
    {
      "cell_type": "markdown",
      "metadata": {
        "id": "view-in-github",
        "colab_type": "text"
      },
      "source": [
        "<a href=\"https://colab.research.google.com/github/GiselaCS/Mujeres_Digitales/blob/main/Tarea_clase1.ipynb\" target=\"_parent\"><img src=\"https://colab.research.google.com/assets/colab-badge.svg\" alt=\"Open In Colab\"/></a>"
      ]
    },
    {
      "cell_type": "code",
      "metadata": {
        "id": "p3kivhhYXM2D"
      },
      "source": [
        ""
      ],
      "execution_count": null,
      "outputs": []
    },
    {
      "cell_type": "markdown",
      "metadata": {
        "id": "g-54b6EgXRW5"
      },
      "source": [
        "**Tipo de dato int**\n",
        "--\n"
      ]
    },
    {
      "cell_type": "code",
      "metadata": {
        "colab": {
          "base_uri": "https://localhost:8080/"
        },
        "id": "wM6vfIR1XZgH",
        "outputId": "ad1d83cf-502c-4425-d94a-f22b79e0cc82"
      },
      "source": [
        "#ejemplo 1\n",
        "num1=int(10) \n",
        "num2=int(15)\n",
        "resul= num1+num2\n",
        "print(\"el resultado de la suma es:\", resul)"
      ],
      "execution_count": 2,
      "outputs": [
        {
          "output_type": "stream",
          "text": [
            "el resultado de la suma es: 25\n"
          ],
          "name": "stdout"
        }
      ]
    },
    {
      "cell_type": "code",
      "metadata": {
        "colab": {
          "base_uri": "https://localhost:8080/"
        },
        "id": "RajbtLF_YA3v",
        "outputId": "17ef052e-6f22-4104-96cc-848330777203"
      },
      "source": [
        "#ejemplo 2\n",
        "num1=int(50)\n",
        "num2=int(25)\n",
        "resul=num1*num2\n",
        "print(\"el resultado es:\", resul)"
      ],
      "execution_count": 3,
      "outputs": [
        {
          "output_type": "stream",
          "text": [
            "el resultado es: 1250\n"
          ],
          "name": "stdout"
        }
      ]
    },
    {
      "cell_type": "markdown",
      "metadata": {
        "id": "H0IhqCsYYQYZ"
      },
      "source": [
        "**Tipo de dato Float**\n",
        "---"
      ]
    },
    {
      "cell_type": "code",
      "metadata": {
        "colab": {
          "base_uri": "https://localhost:8080/"
        },
        "id": "r9qP3YR5YUTv",
        "outputId": "34e0f7ef-a591-4e7f-c726-f3533ed099f3"
      },
      "source": [
        "#ejemplo 1\n",
        "num1=float(10)\n",
        "num2=float(3)\n",
        "result= num1/num2\n",
        "print(\"el resultado es:\", result)"
      ],
      "execution_count": 4,
      "outputs": [
        {
          "output_type": "stream",
          "text": [
            "el resultado es: 3.3333333333333335\n"
          ],
          "name": "stdout"
        }
      ]
    },
    {
      "cell_type": "code",
      "metadata": {
        "colab": {
          "base_uri": "https://localhost:8080/"
        },
        "id": "OvkxP9E6Ylqf",
        "outputId": "e981af04-05ec-4338-a36f-277bbebddfbd"
      },
      "source": [
        "#ejemplo 2\n",
        "num1=float(15.9)\n",
        "num2=float(12.1)\n",
        "resulta=num1-num2\n",
        "print(\"el resultado es:\", resulta)"
      ],
      "execution_count": 12,
      "outputs": [
        {
          "output_type": "stream",
          "text": [
            "el resultado es: 3.8000000000000007\n"
          ],
          "name": "stdout"
        }
      ]
    },
    {
      "cell_type": "markdown",
      "metadata": {
        "id": "56hpBSnzZdUE"
      },
      "source": [
        "**Tipo de dato Cadena**\n",
        "---"
      ]
    },
    {
      "cell_type": "code",
      "metadata": {
        "colab": {
          "base_uri": "https://localhost:8080/"
        },
        "id": "2p0zQe44ZirX",
        "outputId": "fc9de692-9876-4508-caa2-0d3808ea22a1"
      },
      "source": [
        "#ejemplo 1\n",
        "a=\"gisela\"\n",
        "print(a)"
      ],
      "execution_count": 13,
      "outputs": [
        {
          "output_type": "stream",
          "text": [
            "gisela\n"
          ],
          "name": "stdout"
        }
      ]
    },
    {
      "cell_type": "code",
      "metadata": {
        "colab": {
          "base_uri": "https://localhost:8080/"
        },
        "id": "fEa939K0Z75a",
        "outputId": "a5cbc907-b9f2-485b-fa60-b6b5fc4913a0"
      },
      "source": [
        "#ejemplo 2\n",
        "a1=\"gisela\"\n",
        "a2=\"criollo\"\n",
        "print(a1+\" \"+a2)"
      ],
      "execution_count": 15,
      "outputs": [
        {
          "output_type": "stream",
          "text": [
            "gisela criollo\n"
          ],
          "name": "stdout"
        }
      ]
    },
    {
      "cell_type": "markdown",
      "metadata": {
        "id": "9mwL9JQBaMGU"
      },
      "source": [
        "**Tipo de dato booleano**\n",
        "---"
      ]
    },
    {
      "cell_type": "code",
      "metadata": {
        "colab": {
          "base_uri": "https://localhost:8080/"
        },
        "id": "YxhYyQZKaYGk",
        "outputId": "e299900f-04e2-43ad-ebc2-8d4fe65ed87c"
      },
      "source": [
        "#ejemplo 1\n",
        "gisela_criollo=True\n",
        "print(\"el valor es verdadero:\", gisela_criollo, type(gisela_criollo))\n"
      ],
      "execution_count": 17,
      "outputs": [
        {
          "output_type": "stream",
          "text": [
            "el valor es verdadero: True <class 'bool'>\n"
          ],
          "name": "stdout"
        }
      ]
    },
    {
      "cell_type": "code",
      "metadata": {
        "colab": {
          "base_uri": "https://localhost:8080/"
        },
        "id": "HS8AVW76b2n8",
        "outputId": "36fdbd6e-a5e8-4668-8202-8fc4349e15de"
      },
      "source": [
        "#ejemplo 2\n",
        "gisela_maria=False\n",
        "print(\"el valor el falso:\", gisela_maria)\n"
      ],
      "execution_count": 18,
      "outputs": [
        {
          "output_type": "stream",
          "text": [
            "el valor el falso: False\n"
          ],
          "name": "stdout"
        }
      ]
    },
    {
      "cell_type": "markdown",
      "metadata": {
        "id": "AxmnNWwqcgx-"
      },
      "source": [
        "**tipo de conjuntos**\n",
        "---"
      ]
    },
    {
      "cell_type": "code",
      "metadata": {
        "colab": {
          "base_uri": "https://localhost:8080/"
        },
        "id": "tLL6TOWYcpIl",
        "outputId": "3b49ddce-c6a6-4214-ac45-b16dadd52406"
      },
      "source": [
        "#ejemplo1\n",
        "c1='rojo', 'amarillo','azul','verde', 'morado'\n",
        "print(c1)"
      ],
      "execution_count": 19,
      "outputs": [
        {
          "output_type": "stream",
          "text": [
            "('rojo', 'amarillo', 'azul', 'verde', 'morado')\n"
          ],
          "name": "stdout"
        }
      ]
    },
    {
      "cell_type": "code",
      "metadata": {
        "colab": {
          "base_uri": "https://localhost:8080/"
        },
        "id": "gnyuzHpAdFac",
        "outputId": "d3dd5d3a-e50a-45c1-c118-4c184e31d7e6"
      },
      "source": [
        "#ejemplo 2\n",
        "c2= 'jazmin', 'rosa', 'petunia', 'tulipan', 'orquidea'\n",
        "print(c2)"
      ],
      "execution_count": 20,
      "outputs": [
        {
          "output_type": "stream",
          "text": [
            "('jazmin', 'rosa', 'petunia', 'tulipan', 'orquidea')\n"
          ],
          "name": "stdout"
        }
      ]
    },
    {
      "cell_type": "markdown",
      "metadata": {
        "id": "_DDxy31adXkd"
      },
      "source": [
        "**Tipo de Listas**\n",
        "---"
      ]
    },
    {
      "cell_type": "code",
      "metadata": {
        "colab": {
          "base_uri": "https://localhost:8080/"
        },
        "id": "lOt4vWsIdcnl",
        "outputId": "5c3bba16-fb75-4e32-cf92-d188bede5b52"
      },
      "source": [
        "#ejemplo 1:\n",
        "lista1=['azucar', 'harina', 'levadura', 'sal']\n",
        "\n",
        "print(lista1)"
      ],
      "execution_count": 21,
      "outputs": [
        {
          "output_type": "stream",
          "text": [
            "['azucar', 'harina', 'levadura', 'sal']\n"
          ],
          "name": "stdout"
        }
      ]
    },
    {
      "cell_type": "code",
      "metadata": {
        "colab": {
          "base_uri": "https://localhost:8080/"
        },
        "id": "hMd5NP1jd02r",
        "outputId": "458a1713-8ce8-4c23-ee3d-6d03be2508f5"
      },
      "source": [
        "#ejemplo 2\n",
        "lista2=['mermelada', 'salsa', 'miel', 'crema de mani']\n",
        "fe=lista2[0:2] #trae los elementos que se indican\n",
        "print(fe)"
      ],
      "execution_count": 22,
      "outputs": [
        {
          "output_type": "stream",
          "text": [
            "['mermelada', 'salsa']\n"
          ],
          "name": "stdout"
        }
      ]
    },
    {
      "cell_type": "markdown",
      "metadata": {
        "id": "ryggNqQWeEok"
      },
      "source": [
        "**Tipo Tuplas**\n",
        "---"
      ]
    },
    {
      "cell_type": "code",
      "metadata": {
        "colab": {
          "base_uri": "https://localhost:8080/"
        },
        "id": "JPlzDWtSeJGV",
        "outputId": "b9109aad-1cc3-43bb-946c-f7e3c68ceb81"
      },
      "source": [
        "#ejemplo 1\n",
        "tupla1=27,11,2000, 'nacimiento'\n",
        "print(tupla1)"
      ],
      "execution_count": 24,
      "outputs": [
        {
          "output_type": "stream",
          "text": [
            "(27, 11, 2000, 'nacimiento')\n"
          ],
          "name": "stdout"
        }
      ]
    },
    {
      "cell_type": "code",
      "metadata": {
        "colab": {
          "base_uri": "https://localhost:8080/"
        },
        "id": "aDM3sbISefEF",
        "outputId": "74f1367e-6d0f-4bb7-c5b3-8f7d0d96c2e0"
      },
      "source": [
        "#ejemplo 2\n",
        "tupla1=27,11,2000, 'nacimiento'\n",
        "otra=tupla1,('sevilla', 'valle')\n",
        "print(otra)"
      ],
      "execution_count": 25,
      "outputs": [
        {
          "output_type": "stream",
          "text": [
            "((27, 11, 2000, 'nacimiento'), ('sevilla', 'valle'))\n"
          ],
          "name": "stdout"
        }
      ]
    },
    {
      "cell_type": "markdown",
      "metadata": {
        "id": "rI75X9lWepk6"
      },
      "source": [
        "**Tipo diccionarios**\n",
        "---"
      ]
    },
    {
      "cell_type": "code",
      "metadata": {
        "colab": {
          "base_uri": "https://localhost:8080/"
        },
        "id": "g8CiIHZReuCA",
        "outputId": "56d87112-a14e-4606-a789-a62e01fbe83b"
      },
      "source": [
        "#ejemplo 1\n",
        "datos_ani= {\n",
        "    \"tipo\":\"perro\",\n",
        "    \"nombre\": \"canela\",\n",
        "    \"Genero\": \"Femenino\",\n",
        "    \"edad\":\"1 año\",\n",
        "    \"lugar_nacimiento\": \"sevilla valle\",\n",
        "    \"fecha_nacimiento\": \"30/07/2020\",\n",
        "}\n",
        "print(\"ID del diccionario\", datos_ani.keys()) #campos\n",
        "print(\"ID del diccionario\", datos_ani.values()) #valores\n",
        "print(\"ID del diccionario\", datos_ani.items()) #ambos\n",
        "print(\"tipo:\",datos_ani['tipo'] ) #traer un dato seleccionado \n"
      ],
      "execution_count": 27,
      "outputs": [
        {
          "output_type": "stream",
          "text": [
            "ID del diccionario dict_keys(['tipo', 'nombre', 'Genero', 'edad', 'lugar_nacimiento', 'fecha_nacimiento'])\n",
            "ID del diccionario dict_values(['perro', 'canela', 'Femenino', '1 año', 'sevilla valle', '30/07/2020'])\n",
            "ID del diccionario dict_items([('tipo', 'perro'), ('nombre', 'canela'), ('Genero', 'Femenino'), ('edad', '1 año'), ('lugar_nacimiento', 'sevilla valle'), ('fecha_nacimiento', '30/07/2020')])\n",
            "tipo: perro\n"
          ],
          "name": "stdout"
        }
      ]
    },
    {
      "cell_type": "code",
      "metadata": {
        "colab": {
          "base_uri": "https://localhost:8080/"
        },
        "id": "_DiyiidwfptH",
        "outputId": "4f19448f-54c7-41a7-abe4-8b38798d6ef6"
      },
      "source": [
        "#ejemplo 2\n",
        "dic1={} \n",
        "dic1['tipo']=\"caja\"\n",
        "dic1['tam']='grande'\n",
        "dic1['color']='negro'\n",
        "dic1['precio']=5000\n",
        "\n",
        "dic2={} \n",
        "dic2['tipo']=\"caja\"\n",
        "dic2['tam']='grande'\n",
        "dic2['color']='marron'\n",
        "dic2['precio']=2500\n",
        "#comprar ambas cajas\n",
        "compratotal= dic1['precio']+dic2['precio']\n",
        "print(\"la compra total fue de:\", compratotal)\n",
        "\n"
      ],
      "execution_count": 29,
      "outputs": [
        {
          "output_type": "stream",
          "text": [
            "la compra total fue de: 7500\n"
          ],
          "name": "stdout"
        }
      ]
    }
  ]
}