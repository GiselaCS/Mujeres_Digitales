{
  "nbformat": 4,
  "nbformat_minor": 0,
  "metadata": {
    "kernelspec": {
      "display_name": "Python 3",
      "language": "python",
      "name": "python3"
    },
    "language_info": {
      "codemirror_mode": {
        "name": "ipython",
        "version": 3
      },
      "file_extension": ".py",
      "mimetype": "text/x-python",
      "name": "python",
      "nbconvert_exporter": "python",
      "pygments_lexer": "ipython3",
      "version": "3.8.5"
    },
    "varInspector": {
      "cols": {
        "lenName": 16,
        "lenType": 16,
        "lenVar": 40
      },
      "kernels_config": {
        "python": {
          "delete_cmd_postfix": "",
          "delete_cmd_prefix": "del ",
          "library": "var_list.py",
          "varRefreshCmd": "print(var_dic_list())"
        },
        "r": {
          "delete_cmd_postfix": ") ",
          "delete_cmd_prefix": "rm(",
          "library": "var_list.r",
          "varRefreshCmd": "cat(var_dic_list()) "
        }
      },
      "types_to_exclude": [
        "module",
        "function",
        "builtin_function_or_method",
        "instance",
        "_Feature"
      ],
      "window_display": false
    },
    "colab": {
      "name": "Random_Forest_(Ejemplo_2).ipynb",
      "provenance": [],
      "include_colab_link": true
    }
  },
  "cells": [
    {
      "cell_type": "markdown",
      "metadata": {
        "id": "view-in-github",
        "colab_type": "text"
      },
      "source": [
        "<a href=\"https://colab.research.google.com/github/GiselaCS/Mujeres_Digitales/blob/main/Random_Forest_(Ejemplo_2).ipynb\" target=\"_parent\"><img src=\"https://colab.research.google.com/assets/colab-badge.svg\" alt=\"Open In Colab\"/></a>"
      ]
    },
    {
      "cell_type": "code",
      "metadata": {
        "id": "Ju7yqwPhelYk"
      },
      "source": [
        "#Carga de las librerías\n",
        "import urllib.request\n",
        "import pandas as pd\n",
        "from sklearn.model_selection import train_test_split\n",
        "from sklearn.ensemble import RandomForestClassifier\n",
        "from sklearn.tree import DecisionTreeClassifier"
      ],
      "execution_count": null,
      "outputs": []
    },
    {
      "cell_type": "code",
      "metadata": {
        "id": "r_FKJY7gelYu",
        "colab": {
          "base_uri": "https://localhost:8080/"
        },
        "outputId": "85b90c82-6a6c-4881-acdd-4f9359c636eb"
      },
      "source": [
        "#Descargamos los datos desde internet!\n",
        "file_name = 'dataR2.csv'\n",
        "\n",
        "def download_file(file_name):\n",
        "    print('Descargando el dataset')\n",
        "    url = 'https://archive.ics.uci.edu/ml/machine-learning-databases/00451/dataR2.csv'\n",
        "    urllib.request.urlretrieve(url, file_name)\n",
        "\n",
        "\n",
        "download_file(file_name)"
      ],
      "execution_count": null,
      "outputs": [
        {
          "output_type": "stream",
          "name": "stdout",
          "text": [
            "Descargando el dataset\n"
          ]
        }
      ]
    },
    {
      "cell_type": "code",
      "metadata": {
        "id": "QeCmKyh8elYw",
        "colab": {
          "base_uri": "https://localhost:8080/",
          "height": 205
        },
        "outputId": "d1a41b64-69ac-4488-ca5c-bd2af13c915e"
      },
      "source": [
        "#Ahora si cargamos los datos en jupyter!\n",
        "data = pd.read_csv(file_name)\n",
        "data.head()"
      ],
      "execution_count": null,
      "outputs": [
        {
          "output_type": "execute_result",
          "data": {
            "text/html": [
              "<div>\n",
              "<style scoped>\n",
              "    .dataframe tbody tr th:only-of-type {\n",
              "        vertical-align: middle;\n",
              "    }\n",
              "\n",
              "    .dataframe tbody tr th {\n",
              "        vertical-align: top;\n",
              "    }\n",
              "\n",
              "    .dataframe thead th {\n",
              "        text-align: right;\n",
              "    }\n",
              "</style>\n",
              "<table border=\"1\" class=\"dataframe\">\n",
              "  <thead>\n",
              "    <tr style=\"text-align: right;\">\n",
              "      <th></th>\n",
              "      <th>Age</th>\n",
              "      <th>BMI</th>\n",
              "      <th>Glucose</th>\n",
              "      <th>Insulin</th>\n",
              "      <th>HOMA</th>\n",
              "      <th>Leptin</th>\n",
              "      <th>Adiponectin</th>\n",
              "      <th>Resistin</th>\n",
              "      <th>MCP.1</th>\n",
              "      <th>Classification</th>\n",
              "    </tr>\n",
              "  </thead>\n",
              "  <tbody>\n",
              "    <tr>\n",
              "      <th>0</th>\n",
              "      <td>48</td>\n",
              "      <td>23.500000</td>\n",
              "      <td>70</td>\n",
              "      <td>2.707</td>\n",
              "      <td>0.467409</td>\n",
              "      <td>8.8071</td>\n",
              "      <td>9.702400</td>\n",
              "      <td>7.99585</td>\n",
              "      <td>417.114</td>\n",
              "      <td>1</td>\n",
              "    </tr>\n",
              "    <tr>\n",
              "      <th>1</th>\n",
              "      <td>83</td>\n",
              "      <td>20.690495</td>\n",
              "      <td>92</td>\n",
              "      <td>3.115</td>\n",
              "      <td>0.706897</td>\n",
              "      <td>8.8438</td>\n",
              "      <td>5.429285</td>\n",
              "      <td>4.06405</td>\n",
              "      <td>468.786</td>\n",
              "      <td>1</td>\n",
              "    </tr>\n",
              "    <tr>\n",
              "      <th>2</th>\n",
              "      <td>82</td>\n",
              "      <td>23.124670</td>\n",
              "      <td>91</td>\n",
              "      <td>4.498</td>\n",
              "      <td>1.009651</td>\n",
              "      <td>17.9393</td>\n",
              "      <td>22.432040</td>\n",
              "      <td>9.27715</td>\n",
              "      <td>554.697</td>\n",
              "      <td>1</td>\n",
              "    </tr>\n",
              "    <tr>\n",
              "      <th>3</th>\n",
              "      <td>68</td>\n",
              "      <td>21.367521</td>\n",
              "      <td>77</td>\n",
              "      <td>3.226</td>\n",
              "      <td>0.612725</td>\n",
              "      <td>9.8827</td>\n",
              "      <td>7.169560</td>\n",
              "      <td>12.76600</td>\n",
              "      <td>928.220</td>\n",
              "      <td>1</td>\n",
              "    </tr>\n",
              "    <tr>\n",
              "      <th>4</th>\n",
              "      <td>86</td>\n",
              "      <td>21.111111</td>\n",
              "      <td>92</td>\n",
              "      <td>3.549</td>\n",
              "      <td>0.805386</td>\n",
              "      <td>6.6994</td>\n",
              "      <td>4.819240</td>\n",
              "      <td>10.57635</td>\n",
              "      <td>773.920</td>\n",
              "      <td>1</td>\n",
              "    </tr>\n",
              "  </tbody>\n",
              "</table>\n",
              "</div>"
            ],
            "text/plain": [
              "   Age        BMI  Glucose  ...  Resistin    MCP.1  Classification\n",
              "0   48  23.500000       70  ...   7.99585  417.114               1\n",
              "1   83  20.690495       92  ...   4.06405  468.786               1\n",
              "2   82  23.124670       91  ...   9.27715  554.697               1\n",
              "3   68  21.367521       77  ...  12.76600  928.220               1\n",
              "4   86  21.111111       92  ...  10.57635  773.920               1\n",
              "\n",
              "[5 rows x 10 columns]"
            ]
          },
          "metadata": {},
          "execution_count": 3
        }
      ]
    },
    {
      "cell_type": "code",
      "metadata": {
        "id": "2Iaz7zk-elYw",
        "colab": {
          "base_uri": "https://localhost:8080/"
        },
        "outputId": "e52a5343-7fde-448c-dd81-052f1369a9ea"
      },
      "source": [
        "#Analicemos brevemente el dataset\n",
        "data.shape"
      ],
      "execution_count": null,
      "outputs": [
        {
          "output_type": "execute_result",
          "data": {
            "text/plain": [
              "(116, 10)"
            ]
          },
          "metadata": {},
          "execution_count": 4
        }
      ]
    },
    {
      "cell_type": "code",
      "metadata": {
        "id": "AXNnLRZwelYx",
        "colab": {
          "base_uri": "https://localhost:8080/"
        },
        "outputId": "97bdbd2a-cca4-4be4-965d-3e22f5723bf9"
      },
      "source": [
        "data.info()"
      ],
      "execution_count": null,
      "outputs": [
        {
          "output_type": "stream",
          "name": "stdout",
          "text": [
            "<class 'pandas.core.frame.DataFrame'>\n",
            "RangeIndex: 116 entries, 0 to 115\n",
            "Data columns (total 10 columns):\n",
            " #   Column          Non-Null Count  Dtype  \n",
            "---  ------          --------------  -----  \n",
            " 0   Age             116 non-null    int64  \n",
            " 1   BMI             116 non-null    float64\n",
            " 2   Glucose         116 non-null    int64  \n",
            " 3   Insulin         116 non-null    float64\n",
            " 4   HOMA            116 non-null    float64\n",
            " 5   Leptin          116 non-null    float64\n",
            " 6   Adiponectin     116 non-null    float64\n",
            " 7   Resistin        116 non-null    float64\n",
            " 8   MCP.1           116 non-null    float64\n",
            " 9   Classification  116 non-null    int64  \n",
            "dtypes: float64(7), int64(3)\n",
            "memory usage: 9.2 KB\n"
          ]
        }
      ]
    },
    {
      "cell_type": "code",
      "metadata": {
        "colab": {
          "base_uri": "https://localhost:8080/"
        },
        "id": "gbYygHqCINkG",
        "outputId": "9414a744-3267-46b2-aae7-1955db810564"
      },
      "source": [
        "data.isnull().sum()"
      ],
      "execution_count": null,
      "outputs": [
        {
          "output_type": "execute_result",
          "data": {
            "text/plain": [
              "Age               0\n",
              "BMI               0\n",
              "Glucose           0\n",
              "Insulin           0\n",
              "HOMA              0\n",
              "Leptin            0\n",
              "Adiponectin       0\n",
              "Resistin          0\n",
              "MCP.1             0\n",
              "Classification    0\n",
              "dtype: int64"
            ]
          },
          "metadata": {},
          "execution_count": 6
        }
      ]
    },
    {
      "cell_type": "markdown",
      "metadata": {
        "id": "9r8gIwDlelYy"
      },
      "source": [
        "**Insights**:\n",
        "\n",
        "* El dataset se compone de 10 columnas de las cuales 9 corresponden a variables independientes, que usaremos para predecir el target. \n",
        "\n",
        "* Classification es la variable a predecir. Todas las variables son numéricas, ya sea enteras o reales y no tiene valores nulos."
      ]
    },
    {
      "cell_type": "code",
      "metadata": {
        "id": "smvflEbuelYz"
      },
      "source": [
        "#Separamos en X e y\n",
        "X = data.drop([\"Classification\"], axis=1)\n",
        "y = data[\"Classification\"]"
      ],
      "execution_count": null,
      "outputs": []
    },
    {
      "cell_type": "code",
      "metadata": {
        "colab": {
          "base_uri": "https://localhost:8080/",
          "height": 422
        },
        "id": "ZL05X_YiI5kl",
        "outputId": "951b1665-5063-4fdf-bb91-36a1478a8366"
      },
      "source": [
        "X"
      ],
      "execution_count": null,
      "outputs": [
        {
          "output_type": "execute_result",
          "data": {
            "text/html": [
              "<div>\n",
              "<style scoped>\n",
              "    .dataframe tbody tr th:only-of-type {\n",
              "        vertical-align: middle;\n",
              "    }\n",
              "\n",
              "    .dataframe tbody tr th {\n",
              "        vertical-align: top;\n",
              "    }\n",
              "\n",
              "    .dataframe thead th {\n",
              "        text-align: right;\n",
              "    }\n",
              "</style>\n",
              "<table border=\"1\" class=\"dataframe\">\n",
              "  <thead>\n",
              "    <tr style=\"text-align: right;\">\n",
              "      <th></th>\n",
              "      <th>Age</th>\n",
              "      <th>BMI</th>\n",
              "      <th>Glucose</th>\n",
              "      <th>Insulin</th>\n",
              "      <th>HOMA</th>\n",
              "      <th>Leptin</th>\n",
              "      <th>Adiponectin</th>\n",
              "      <th>Resistin</th>\n",
              "      <th>MCP.1</th>\n",
              "    </tr>\n",
              "  </thead>\n",
              "  <tbody>\n",
              "    <tr>\n",
              "      <th>0</th>\n",
              "      <td>48</td>\n",
              "      <td>23.500000</td>\n",
              "      <td>70</td>\n",
              "      <td>2.707</td>\n",
              "      <td>0.467409</td>\n",
              "      <td>8.8071</td>\n",
              "      <td>9.702400</td>\n",
              "      <td>7.99585</td>\n",
              "      <td>417.114</td>\n",
              "    </tr>\n",
              "    <tr>\n",
              "      <th>1</th>\n",
              "      <td>83</td>\n",
              "      <td>20.690495</td>\n",
              "      <td>92</td>\n",
              "      <td>3.115</td>\n",
              "      <td>0.706897</td>\n",
              "      <td>8.8438</td>\n",
              "      <td>5.429285</td>\n",
              "      <td>4.06405</td>\n",
              "      <td>468.786</td>\n",
              "    </tr>\n",
              "    <tr>\n",
              "      <th>2</th>\n",
              "      <td>82</td>\n",
              "      <td>23.124670</td>\n",
              "      <td>91</td>\n",
              "      <td>4.498</td>\n",
              "      <td>1.009651</td>\n",
              "      <td>17.9393</td>\n",
              "      <td>22.432040</td>\n",
              "      <td>9.27715</td>\n",
              "      <td>554.697</td>\n",
              "    </tr>\n",
              "    <tr>\n",
              "      <th>3</th>\n",
              "      <td>68</td>\n",
              "      <td>21.367521</td>\n",
              "      <td>77</td>\n",
              "      <td>3.226</td>\n",
              "      <td>0.612725</td>\n",
              "      <td>9.8827</td>\n",
              "      <td>7.169560</td>\n",
              "      <td>12.76600</td>\n",
              "      <td>928.220</td>\n",
              "    </tr>\n",
              "    <tr>\n",
              "      <th>4</th>\n",
              "      <td>86</td>\n",
              "      <td>21.111111</td>\n",
              "      <td>92</td>\n",
              "      <td>3.549</td>\n",
              "      <td>0.805386</td>\n",
              "      <td>6.6994</td>\n",
              "      <td>4.819240</td>\n",
              "      <td>10.57635</td>\n",
              "      <td>773.920</td>\n",
              "    </tr>\n",
              "    <tr>\n",
              "      <th>...</th>\n",
              "      <td>...</td>\n",
              "      <td>...</td>\n",
              "      <td>...</td>\n",
              "      <td>...</td>\n",
              "      <td>...</td>\n",
              "      <td>...</td>\n",
              "      <td>...</td>\n",
              "      <td>...</td>\n",
              "      <td>...</td>\n",
              "    </tr>\n",
              "    <tr>\n",
              "      <th>111</th>\n",
              "      <td>45</td>\n",
              "      <td>26.850000</td>\n",
              "      <td>92</td>\n",
              "      <td>3.330</td>\n",
              "      <td>0.755688</td>\n",
              "      <td>54.6800</td>\n",
              "      <td>12.100000</td>\n",
              "      <td>10.96000</td>\n",
              "      <td>268.230</td>\n",
              "    </tr>\n",
              "    <tr>\n",
              "      <th>112</th>\n",
              "      <td>62</td>\n",
              "      <td>26.840000</td>\n",
              "      <td>100</td>\n",
              "      <td>4.530</td>\n",
              "      <td>1.117400</td>\n",
              "      <td>12.4500</td>\n",
              "      <td>21.420000</td>\n",
              "      <td>7.32000</td>\n",
              "      <td>330.160</td>\n",
              "    </tr>\n",
              "    <tr>\n",
              "      <th>113</th>\n",
              "      <td>65</td>\n",
              "      <td>32.050000</td>\n",
              "      <td>97</td>\n",
              "      <td>5.730</td>\n",
              "      <td>1.370998</td>\n",
              "      <td>61.4800</td>\n",
              "      <td>22.540000</td>\n",
              "      <td>10.33000</td>\n",
              "      <td>314.050</td>\n",
              "    </tr>\n",
              "    <tr>\n",
              "      <th>114</th>\n",
              "      <td>72</td>\n",
              "      <td>25.590000</td>\n",
              "      <td>82</td>\n",
              "      <td>2.820</td>\n",
              "      <td>0.570392</td>\n",
              "      <td>24.9600</td>\n",
              "      <td>33.750000</td>\n",
              "      <td>3.27000</td>\n",
              "      <td>392.460</td>\n",
              "    </tr>\n",
              "    <tr>\n",
              "      <th>115</th>\n",
              "      <td>86</td>\n",
              "      <td>27.180000</td>\n",
              "      <td>138</td>\n",
              "      <td>19.910</td>\n",
              "      <td>6.777364</td>\n",
              "      <td>90.2800</td>\n",
              "      <td>14.110000</td>\n",
              "      <td>4.35000</td>\n",
              "      <td>90.090</td>\n",
              "    </tr>\n",
              "  </tbody>\n",
              "</table>\n",
              "<p>116 rows × 9 columns</p>\n",
              "</div>"
            ],
            "text/plain": [
              "     Age        BMI  Glucose  Insulin  ...   Leptin  Adiponectin  Resistin    MCP.1\n",
              "0     48  23.500000       70    2.707  ...   8.8071     9.702400   7.99585  417.114\n",
              "1     83  20.690495       92    3.115  ...   8.8438     5.429285   4.06405  468.786\n",
              "2     82  23.124670       91    4.498  ...  17.9393    22.432040   9.27715  554.697\n",
              "3     68  21.367521       77    3.226  ...   9.8827     7.169560  12.76600  928.220\n",
              "4     86  21.111111       92    3.549  ...   6.6994     4.819240  10.57635  773.920\n",
              "..   ...        ...      ...      ...  ...      ...          ...       ...      ...\n",
              "111   45  26.850000       92    3.330  ...  54.6800    12.100000  10.96000  268.230\n",
              "112   62  26.840000      100    4.530  ...  12.4500    21.420000   7.32000  330.160\n",
              "113   65  32.050000       97    5.730  ...  61.4800    22.540000  10.33000  314.050\n",
              "114   72  25.590000       82    2.820  ...  24.9600    33.750000   3.27000  392.460\n",
              "115   86  27.180000      138   19.910  ...  90.2800    14.110000   4.35000   90.090\n",
              "\n",
              "[116 rows x 9 columns]"
            ]
          },
          "metadata": {},
          "execution_count": 8
        }
      ]
    },
    {
      "cell_type": "code",
      "metadata": {
        "colab": {
          "base_uri": "https://localhost:8080/"
        },
        "id": "SJMvfgGJI6xC",
        "outputId": "4bf2a60e-0ada-4913-b2f0-c4039d456fd7"
      },
      "source": [
        "y"
      ],
      "execution_count": null,
      "outputs": [
        {
          "output_type": "execute_result",
          "data": {
            "text/plain": [
              "0      1\n",
              "1      1\n",
              "2      1\n",
              "3      1\n",
              "4      1\n",
              "      ..\n",
              "111    2\n",
              "112    2\n",
              "113    2\n",
              "114    2\n",
              "115    2\n",
              "Name: Classification, Length: 116, dtype: int64"
            ]
          },
          "metadata": {},
          "execution_count": 9
        }
      ]
    },
    {
      "cell_type": "code",
      "metadata": {
        "colab": {
          "base_uri": "https://localhost:8080/"
        },
        "id": "YYboWhBxI8a7",
        "outputId": "72965827-0975-47ae-fe98-645157dae015"
      },
      "source": [
        "y.unique()"
      ],
      "execution_count": null,
      "outputs": [
        {
          "output_type": "execute_result",
          "data": {
            "text/plain": [
              "array([1, 2])"
            ]
          },
          "metadata": {},
          "execution_count": 11
        }
      ]
    },
    {
      "cell_type": "code",
      "metadata": {
        "id": "rH5nXwWGelY1"
      },
      "source": [
        "#Separamos en train y test!\n",
        "(X_train, X_test,y_train, y_test) = train_test_split(X,y,stratify=y,test_size=0.30,random_state=42)"
      ],
      "execution_count": null,
      "outputs": []
    },
    {
      "cell_type": "code",
      "metadata": {
        "id": "CdcPLhY2elY3",
        "colab": {
          "base_uri": "https://localhost:8080/"
        },
        "outputId": "a305e9ce-e1da-47e0-cc90-6d4ad9da704f"
      },
      "source": [
        "#Creamos un arbol de decisión sencillo y lo fiteamos\n",
        "tree = DecisionTreeClassifier(random_state=42)\n",
        "tree.fit(X_train, y_train)"
      ],
      "execution_count": null,
      "outputs": [
        {
          "output_type": "execute_result",
          "data": {
            "text/plain": [
              "DecisionTreeClassifier(ccp_alpha=0.0, class_weight=None, criterion='gini',\n",
              "                       max_depth=None, max_features=None, max_leaf_nodes=None,\n",
              "                       min_impurity_decrease=0.0, min_impurity_split=None,\n",
              "                       min_samples_leaf=1, min_samples_split=2,\n",
              "                       min_weight_fraction_leaf=0.0, presort='deprecated',\n",
              "                       random_state=42, splitter='best')"
            ]
          },
          "metadata": {},
          "execution_count": 14
        }
      ]
    },
    {
      "cell_type": "code",
      "metadata": {
        "colab": {
          "base_uri": "https://localhost:8080/",
          "height": 1000
        },
        "id": "6z80uefKJ9R3",
        "outputId": "d51a7e7c-f640-42e6-cbc8-c9dcf646b308"
      },
      "source": [
        "X_test"
      ],
      "execution_count": null,
      "outputs": [
        {
          "output_type": "execute_result",
          "data": {
            "text/html": [
              "<div>\n",
              "<style scoped>\n",
              "    .dataframe tbody tr th:only-of-type {\n",
              "        vertical-align: middle;\n",
              "    }\n",
              "\n",
              "    .dataframe tbody tr th {\n",
              "        vertical-align: top;\n",
              "    }\n",
              "\n",
              "    .dataframe thead th {\n",
              "        text-align: right;\n",
              "    }\n",
              "</style>\n",
              "<table border=\"1\" class=\"dataframe\">\n",
              "  <thead>\n",
              "    <tr style=\"text-align: right;\">\n",
              "      <th></th>\n",
              "      <th>Age</th>\n",
              "      <th>BMI</th>\n",
              "      <th>Glucose</th>\n",
              "      <th>Insulin</th>\n",
              "      <th>HOMA</th>\n",
              "      <th>Leptin</th>\n",
              "      <th>Adiponectin</th>\n",
              "      <th>Resistin</th>\n",
              "      <th>MCP.1</th>\n",
              "    </tr>\n",
              "  </thead>\n",
              "  <tbody>\n",
              "    <tr>\n",
              "      <th>18</th>\n",
              "      <td>64</td>\n",
              "      <td>34.529723</td>\n",
              "      <td>95</td>\n",
              "      <td>4.427</td>\n",
              "      <td>1.037394</td>\n",
              "      <td>21.2117</td>\n",
              "      <td>5.462620</td>\n",
              "      <td>6.70188</td>\n",
              "      <td>252.449</td>\n",
              "    </tr>\n",
              "    <tr>\n",
              "      <th>71</th>\n",
              "      <td>44</td>\n",
              "      <td>24.740000</td>\n",
              "      <td>106</td>\n",
              "      <td>58.460</td>\n",
              "      <td>15.285341</td>\n",
              "      <td>18.1600</td>\n",
              "      <td>16.100000</td>\n",
              "      <td>5.31000</td>\n",
              "      <td>244.750</td>\n",
              "    </tr>\n",
              "    <tr>\n",
              "      <th>38</th>\n",
              "      <td>60</td>\n",
              "      <td>26.349292</td>\n",
              "      <td>103</td>\n",
              "      <td>5.138</td>\n",
              "      <td>1.305395</td>\n",
              "      <td>24.2998</td>\n",
              "      <td>2.194280</td>\n",
              "      <td>20.25350</td>\n",
              "      <td>378.996</td>\n",
              "    </tr>\n",
              "    <tr>\n",
              "      <th>57</th>\n",
              "      <td>68</td>\n",
              "      <td>21.082813</td>\n",
              "      <td>102</td>\n",
              "      <td>6.200</td>\n",
              "      <td>1.559920</td>\n",
              "      <td>9.6994</td>\n",
              "      <td>8.574655</td>\n",
              "      <td>13.74244</td>\n",
              "      <td>448.799</td>\n",
              "    </tr>\n",
              "    <tr>\n",
              "      <th>42</th>\n",
              "      <td>75</td>\n",
              "      <td>27.300000</td>\n",
              "      <td>85</td>\n",
              "      <td>5.197</td>\n",
              "      <td>1.089638</td>\n",
              "      <td>10.3900</td>\n",
              "      <td>9.000805</td>\n",
              "      <td>7.57670</td>\n",
              "      <td>335.393</td>\n",
              "    </tr>\n",
              "    <tr>\n",
              "      <th>87</th>\n",
              "      <td>85</td>\n",
              "      <td>27.688778</td>\n",
              "      <td>196</td>\n",
              "      <td>51.814</td>\n",
              "      <td>25.050342</td>\n",
              "      <td>70.8824</td>\n",
              "      <td>7.901685</td>\n",
              "      <td>55.21530</td>\n",
              "      <td>1078.359</td>\n",
              "    </tr>\n",
              "    <tr>\n",
              "      <th>28</th>\n",
              "      <td>35</td>\n",
              "      <td>35.250761</td>\n",
              "      <td>90</td>\n",
              "      <td>6.817</td>\n",
              "      <td>1.513374</td>\n",
              "      <td>50.6094</td>\n",
              "      <td>6.966895</td>\n",
              "      <td>22.03703</td>\n",
              "      <td>667.928</td>\n",
              "    </tr>\n",
              "    <tr>\n",
              "      <th>86</th>\n",
              "      <td>48</td>\n",
              "      <td>28.125000</td>\n",
              "      <td>90</td>\n",
              "      <td>2.540</td>\n",
              "      <td>0.563880</td>\n",
              "      <td>15.5325</td>\n",
              "      <td>10.222310</td>\n",
              "      <td>16.11032</td>\n",
              "      <td>1698.440</td>\n",
              "    </tr>\n",
              "    <tr>\n",
              "      <th>55</th>\n",
              "      <td>34</td>\n",
              "      <td>24.242424</td>\n",
              "      <td>92</td>\n",
              "      <td>21.699</td>\n",
              "      <td>4.924226</td>\n",
              "      <td>16.7353</td>\n",
              "      <td>21.823745</td>\n",
              "      <td>12.06534</td>\n",
              "      <td>481.949</td>\n",
              "    </tr>\n",
              "    <tr>\n",
              "      <th>22</th>\n",
              "      <td>29</td>\n",
              "      <td>32.270788</td>\n",
              "      <td>84</td>\n",
              "      <td>5.810</td>\n",
              "      <td>1.203832</td>\n",
              "      <td>45.6196</td>\n",
              "      <td>6.209635</td>\n",
              "      <td>24.60330</td>\n",
              "      <td>904.981</td>\n",
              "    </tr>\n",
              "    <tr>\n",
              "      <th>20</th>\n",
              "      <td>36</td>\n",
              "      <td>28.576676</td>\n",
              "      <td>86</td>\n",
              "      <td>4.345</td>\n",
              "      <td>0.921719</td>\n",
              "      <td>15.1248</td>\n",
              "      <td>8.600000</td>\n",
              "      <td>9.15390</td>\n",
              "      <td>534.224</td>\n",
              "    </tr>\n",
              "    <tr>\n",
              "      <th>14</th>\n",
              "      <td>38</td>\n",
              "      <td>23.340000</td>\n",
              "      <td>75</td>\n",
              "      <td>5.782</td>\n",
              "      <td>1.069670</td>\n",
              "      <td>15.2600</td>\n",
              "      <td>17.950000</td>\n",
              "      <td>9.35000</td>\n",
              "      <td>165.020</td>\n",
              "    </tr>\n",
              "    <tr>\n",
              "      <th>35</th>\n",
              "      <td>67</td>\n",
              "      <td>29.606767</td>\n",
              "      <td>79</td>\n",
              "      <td>5.819</td>\n",
              "      <td>1.133929</td>\n",
              "      <td>21.9033</td>\n",
              "      <td>2.194280</td>\n",
              "      <td>4.20750</td>\n",
              "      <td>585.307</td>\n",
              "    </tr>\n",
              "    <tr>\n",
              "      <th>10</th>\n",
              "      <td>34</td>\n",
              "      <td>21.470000</td>\n",
              "      <td>78</td>\n",
              "      <td>3.469</td>\n",
              "      <td>0.667436</td>\n",
              "      <td>14.5700</td>\n",
              "      <td>13.110000</td>\n",
              "      <td>6.92000</td>\n",
              "      <td>354.600</td>\n",
              "    </tr>\n",
              "    <tr>\n",
              "      <th>48</th>\n",
              "      <td>69</td>\n",
              "      <td>29.400000</td>\n",
              "      <td>89</td>\n",
              "      <td>10.704</td>\n",
              "      <td>2.349885</td>\n",
              "      <td>45.2720</td>\n",
              "      <td>8.286300</td>\n",
              "      <td>4.53000</td>\n",
              "      <td>215.769</td>\n",
              "    </tr>\n",
              "    <tr>\n",
              "      <th>51</th>\n",
              "      <td>77</td>\n",
              "      <td>25.900000</td>\n",
              "      <td>85</td>\n",
              "      <td>4.580</td>\n",
              "      <td>0.960273</td>\n",
              "      <td>13.7400</td>\n",
              "      <td>9.753260</td>\n",
              "      <td>11.77400</td>\n",
              "      <td>488.829</td>\n",
              "    </tr>\n",
              "    <tr>\n",
              "      <th>104</th>\n",
              "      <td>57</td>\n",
              "      <td>34.838148</td>\n",
              "      <td>95</td>\n",
              "      <td>12.548</td>\n",
              "      <td>2.940415</td>\n",
              "      <td>33.1612</td>\n",
              "      <td>2.364950</td>\n",
              "      <td>9.95420</td>\n",
              "      <td>655.834</td>\n",
              "    </tr>\n",
              "    <tr>\n",
              "      <th>95</th>\n",
              "      <td>49</td>\n",
              "      <td>29.777778</td>\n",
              "      <td>70</td>\n",
              "      <td>8.396</td>\n",
              "      <td>1.449709</td>\n",
              "      <td>51.3387</td>\n",
              "      <td>10.731740</td>\n",
              "      <td>20.76801</td>\n",
              "      <td>602.486</td>\n",
              "    </tr>\n",
              "    <tr>\n",
              "      <th>114</th>\n",
              "      <td>72</td>\n",
              "      <td>25.590000</td>\n",
              "      <td>82</td>\n",
              "      <td>2.820</td>\n",
              "      <td>0.570392</td>\n",
              "      <td>24.9600</td>\n",
              "      <td>33.750000</td>\n",
              "      <td>3.27000</td>\n",
              "      <td>392.460</td>\n",
              "    </tr>\n",
              "    <tr>\n",
              "      <th>91</th>\n",
              "      <td>82</td>\n",
              "      <td>31.217482</td>\n",
              "      <td>100</td>\n",
              "      <td>18.077</td>\n",
              "      <td>4.458993</td>\n",
              "      <td>31.6453</td>\n",
              "      <td>9.923650</td>\n",
              "      <td>19.94687</td>\n",
              "      <td>994.316</td>\n",
              "    </tr>\n",
              "    <tr>\n",
              "      <th>21</th>\n",
              "      <td>34</td>\n",
              "      <td>31.975015</td>\n",
              "      <td>87</td>\n",
              "      <td>4.530</td>\n",
              "      <td>0.972138</td>\n",
              "      <td>28.7502</td>\n",
              "      <td>7.642760</td>\n",
              "      <td>5.62592</td>\n",
              "      <td>572.783</td>\n",
              "    </tr>\n",
              "    <tr>\n",
              "      <th>98</th>\n",
              "      <td>71</td>\n",
              "      <td>27.915519</td>\n",
              "      <td>104</td>\n",
              "      <td>18.200</td>\n",
              "      <td>4.668907</td>\n",
              "      <td>53.4997</td>\n",
              "      <td>1.656020</td>\n",
              "      <td>49.24184</td>\n",
              "      <td>256.001</td>\n",
              "    </tr>\n",
              "    <tr>\n",
              "      <th>101</th>\n",
              "      <td>66</td>\n",
              "      <td>26.562500</td>\n",
              "      <td>89</td>\n",
              "      <td>6.524</td>\n",
              "      <td>1.432235</td>\n",
              "      <td>14.9084</td>\n",
              "      <td>8.429960</td>\n",
              "      <td>14.91922</td>\n",
              "      <td>269.487</td>\n",
              "    </tr>\n",
              "    <tr>\n",
              "      <th>65</th>\n",
              "      <td>45</td>\n",
              "      <td>23.140496</td>\n",
              "      <td>116</td>\n",
              "      <td>4.902</td>\n",
              "      <td>1.402626</td>\n",
              "      <td>17.9973</td>\n",
              "      <td>4.294705</td>\n",
              "      <td>5.26330</td>\n",
              "      <td>518.586</td>\n",
              "    </tr>\n",
              "    <tr>\n",
              "      <th>53</th>\n",
              "      <td>45</td>\n",
              "      <td>20.829995</td>\n",
              "      <td>74</td>\n",
              "      <td>4.560</td>\n",
              "      <td>0.832352</td>\n",
              "      <td>7.7529</td>\n",
              "      <td>8.237405</td>\n",
              "      <td>28.03230</td>\n",
              "      <td>382.955</td>\n",
              "    </tr>\n",
              "    <tr>\n",
              "      <th>59</th>\n",
              "      <td>62</td>\n",
              "      <td>22.656250</td>\n",
              "      <td>92</td>\n",
              "      <td>3.482</td>\n",
              "      <td>0.790182</td>\n",
              "      <td>9.8648</td>\n",
              "      <td>11.236235</td>\n",
              "      <td>10.69548</td>\n",
              "      <td>703.973</td>\n",
              "    </tr>\n",
              "    <tr>\n",
              "      <th>111</th>\n",
              "      <td>45</td>\n",
              "      <td>26.850000</td>\n",
              "      <td>92</td>\n",
              "      <td>3.330</td>\n",
              "      <td>0.755688</td>\n",
              "      <td>54.6800</td>\n",
              "      <td>12.100000</td>\n",
              "      <td>10.96000</td>\n",
              "      <td>268.230</td>\n",
              "    </tr>\n",
              "    <tr>\n",
              "      <th>58</th>\n",
              "      <td>51</td>\n",
              "      <td>19.132653</td>\n",
              "      <td>93</td>\n",
              "      <td>4.364</td>\n",
              "      <td>1.001102</td>\n",
              "      <td>11.0816</td>\n",
              "      <td>5.807620</td>\n",
              "      <td>5.57055</td>\n",
              "      <td>90.600</td>\n",
              "    </tr>\n",
              "    <tr>\n",
              "      <th>68</th>\n",
              "      <td>46</td>\n",
              "      <td>20.830000</td>\n",
              "      <td>88</td>\n",
              "      <td>3.420</td>\n",
              "      <td>0.742368</td>\n",
              "      <td>12.8700</td>\n",
              "      <td>18.550000</td>\n",
              "      <td>13.56000</td>\n",
              "      <td>301.210</td>\n",
              "    </tr>\n",
              "    <tr>\n",
              "      <th>79</th>\n",
              "      <td>41</td>\n",
              "      <td>26.672763</td>\n",
              "      <td>97</td>\n",
              "      <td>22.033</td>\n",
              "      <td>5.271762</td>\n",
              "      <td>44.7059</td>\n",
              "      <td>13.494865</td>\n",
              "      <td>27.83250</td>\n",
              "      <td>783.796</td>\n",
              "    </tr>\n",
              "    <tr>\n",
              "      <th>23</th>\n",
              "      <td>35</td>\n",
              "      <td>30.276817</td>\n",
              "      <td>84</td>\n",
              "      <td>4.376</td>\n",
              "      <td>0.906707</td>\n",
              "      <td>39.2134</td>\n",
              "      <td>9.048185</td>\n",
              "      <td>16.43706</td>\n",
              "      <td>733.797</td>\n",
              "    </tr>\n",
              "    <tr>\n",
              "      <th>93</th>\n",
              "      <td>49</td>\n",
              "      <td>32.461911</td>\n",
              "      <td>134</td>\n",
              "      <td>24.887</td>\n",
              "      <td>8.225983</td>\n",
              "      <td>42.3914</td>\n",
              "      <td>10.793940</td>\n",
              "      <td>5.76800</td>\n",
              "      <td>656.393</td>\n",
              "    </tr>\n",
              "    <tr>\n",
              "      <th>40</th>\n",
              "      <td>76</td>\n",
              "      <td>29.218408</td>\n",
              "      <td>83</td>\n",
              "      <td>5.376</td>\n",
              "      <td>1.100646</td>\n",
              "      <td>28.5620</td>\n",
              "      <td>7.369960</td>\n",
              "      <td>8.04375</td>\n",
              "      <td>698.789</td>\n",
              "    </tr>\n",
              "    <tr>\n",
              "      <th>2</th>\n",
              "      <td>82</td>\n",
              "      <td>23.124670</td>\n",
              "      <td>91</td>\n",
              "      <td>4.498</td>\n",
              "      <td>1.009651</td>\n",
              "      <td>17.9393</td>\n",
              "      <td>22.432040</td>\n",
              "      <td>9.27715</td>\n",
              "      <td>554.697</td>\n",
              "    </tr>\n",
              "    <tr>\n",
              "      <th>7</th>\n",
              "      <td>76</td>\n",
              "      <td>23.800000</td>\n",
              "      <td>118</td>\n",
              "      <td>6.470</td>\n",
              "      <td>1.883201</td>\n",
              "      <td>4.3110</td>\n",
              "      <td>13.251320</td>\n",
              "      <td>5.10420</td>\n",
              "      <td>280.694</td>\n",
              "    </tr>\n",
              "  </tbody>\n",
              "</table>\n",
              "</div>"
            ],
            "text/plain": [
              "     Age        BMI  Glucose  Insulin  ...   Leptin  Adiponectin  Resistin     MCP.1\n",
              "18    64  34.529723       95    4.427  ...  21.2117     5.462620   6.70188   252.449\n",
              "71    44  24.740000      106   58.460  ...  18.1600    16.100000   5.31000   244.750\n",
              "38    60  26.349292      103    5.138  ...  24.2998     2.194280  20.25350   378.996\n",
              "57    68  21.082813      102    6.200  ...   9.6994     8.574655  13.74244   448.799\n",
              "42    75  27.300000       85    5.197  ...  10.3900     9.000805   7.57670   335.393\n",
              "87    85  27.688778      196   51.814  ...  70.8824     7.901685  55.21530  1078.359\n",
              "28    35  35.250761       90    6.817  ...  50.6094     6.966895  22.03703   667.928\n",
              "86    48  28.125000       90    2.540  ...  15.5325    10.222310  16.11032  1698.440\n",
              "55    34  24.242424       92   21.699  ...  16.7353    21.823745  12.06534   481.949\n",
              "22    29  32.270788       84    5.810  ...  45.6196     6.209635  24.60330   904.981\n",
              "20    36  28.576676       86    4.345  ...  15.1248     8.600000   9.15390   534.224\n",
              "14    38  23.340000       75    5.782  ...  15.2600    17.950000   9.35000   165.020\n",
              "35    67  29.606767       79    5.819  ...  21.9033     2.194280   4.20750   585.307\n",
              "10    34  21.470000       78    3.469  ...  14.5700    13.110000   6.92000   354.600\n",
              "48    69  29.400000       89   10.704  ...  45.2720     8.286300   4.53000   215.769\n",
              "51    77  25.900000       85    4.580  ...  13.7400     9.753260  11.77400   488.829\n",
              "104   57  34.838148       95   12.548  ...  33.1612     2.364950   9.95420   655.834\n",
              "95    49  29.777778       70    8.396  ...  51.3387    10.731740  20.76801   602.486\n",
              "114   72  25.590000       82    2.820  ...  24.9600    33.750000   3.27000   392.460\n",
              "91    82  31.217482      100   18.077  ...  31.6453     9.923650  19.94687   994.316\n",
              "21    34  31.975015       87    4.530  ...  28.7502     7.642760   5.62592   572.783\n",
              "98    71  27.915519      104   18.200  ...  53.4997     1.656020  49.24184   256.001\n",
              "101   66  26.562500       89    6.524  ...  14.9084     8.429960  14.91922   269.487\n",
              "65    45  23.140496      116    4.902  ...  17.9973     4.294705   5.26330   518.586\n",
              "53    45  20.829995       74    4.560  ...   7.7529     8.237405  28.03230   382.955\n",
              "59    62  22.656250       92    3.482  ...   9.8648    11.236235  10.69548   703.973\n",
              "111   45  26.850000       92    3.330  ...  54.6800    12.100000  10.96000   268.230\n",
              "58    51  19.132653       93    4.364  ...  11.0816     5.807620   5.57055    90.600\n",
              "68    46  20.830000       88    3.420  ...  12.8700    18.550000  13.56000   301.210\n",
              "79    41  26.672763       97   22.033  ...  44.7059    13.494865  27.83250   783.796\n",
              "23    35  30.276817       84    4.376  ...  39.2134     9.048185  16.43706   733.797\n",
              "93    49  32.461911      134   24.887  ...  42.3914    10.793940   5.76800   656.393\n",
              "40    76  29.218408       83    5.376  ...  28.5620     7.369960   8.04375   698.789\n",
              "2     82  23.124670       91    4.498  ...  17.9393    22.432040   9.27715   554.697\n",
              "7     76  23.800000      118    6.470  ...   4.3110    13.251320   5.10420   280.694\n",
              "\n",
              "[35 rows x 9 columns]"
            ]
          },
          "metadata": {},
          "execution_count": 17
        }
      ]
    },
    {
      "cell_type": "code",
      "metadata": {
        "id": "HaNY2vxFelY4",
        "colab": {
          "base_uri": "https://localhost:8080/"
        },
        "outputId": "2f711f72-6434-4d22-d016-81201700989a"
      },
      "source": [
        "y_test_pred = tree.predict(X_test) #Prediccion en Test\n",
        "y_test_pred"
      ],
      "execution_count": null,
      "outputs": [
        {
          "output_type": "execute_result",
          "data": {
            "text/plain": [
              "array([1, 2, 2, 2, 1, 2, 1, 2, 2, 1, 1, 1, 1, 1, 1, 1, 2, 2, 1, 2, 1, 1,\n",
              "       2, 2, 2, 1, 1, 2, 1, 2, 2, 2, 1, 1, 2])"
            ]
          },
          "metadata": {},
          "execution_count": 16
        }
      ]
    },
    {
      "cell_type": "code",
      "metadata": {
        "colab": {
          "base_uri": "https://localhost:8080/"
        },
        "id": "0FE265noKMVI",
        "outputId": "8e61e2ab-35f9-4fc6-9ea0-88e391aae625"
      },
      "source": [
        "y_test"
      ],
      "execution_count": null,
      "outputs": [
        {
          "output_type": "execute_result",
          "data": {
            "text/plain": [
              "18     1\n",
              "71     2\n",
              "38     1\n",
              "57     2\n",
              "42     1\n",
              "87     2\n",
              "28     1\n",
              "86     2\n",
              "55     2\n",
              "22     1\n",
              "20     1\n",
              "14     1\n",
              "35     1\n",
              "10     1\n",
              "48     1\n",
              "51     1\n",
              "104    2\n",
              "95     2\n",
              "114    2\n",
              "91     2\n",
              "21     1\n",
              "98     2\n",
              "101    2\n",
              "65     2\n",
              "53     2\n",
              "59     2\n",
              "111    2\n",
              "58     2\n",
              "68     2\n",
              "79     2\n",
              "23     1\n",
              "93     2\n",
              "40     1\n",
              "2      1\n",
              "7      1\n",
              "Name: Classification, dtype: int64"
            ]
          },
          "metadata": {},
          "execution_count": 18
        }
      ]
    },
    {
      "cell_type": "code",
      "metadata": {
        "id": "Kux025kuelY5",
        "colab": {
          "base_uri": "https://localhost:8080/"
        },
        "outputId": "18c7c905-a563-4519-be91-d1f8a329c152"
      },
      "source": [
        "from sklearn.metrics import accuracy_score\n",
        "\n",
        "#Calculo el accuracy en Test\n",
        "test_accuracy = accuracy_score(y_test, y_test_pred)\n",
        "\n",
        "print('% de aciertos sobre el set de evaluación:',test_accuracy)"
      ],
      "execution_count": null,
      "outputs": [
        {
          "output_type": "stream",
          "name": "stdout",
          "text": [
            "% de aciertos sobre el set de evaluación: 0.7714285714285715\n"
          ]
        }
      ]
    },
    {
      "cell_type": "code",
      "metadata": {
        "id": "tDnT71q7elY5",
        "colab": {
          "base_uri": "https://localhost:8080/"
        },
        "outputId": "55a2d923-5373-4e8f-fc97-ca45ad090f89"
      },
      "source": [
        "#Creamos un random forest!\n",
        "model = RandomForestClassifier(random_state=42, n_estimators=100,\n",
        "                               class_weight=\"balanced\", max_features=\"log2\")\n",
        "model.fit(X_train, y_train)"
      ],
      "execution_count": null,
      "outputs": [
        {
          "output_type": "execute_result",
          "data": {
            "text/plain": [
              "RandomForestClassifier(bootstrap=True, ccp_alpha=0.0, class_weight='balanced',\n",
              "                       criterion='gini', max_depth=None, max_features='log2',\n",
              "                       max_leaf_nodes=None, max_samples=None,\n",
              "                       min_impurity_decrease=0.0, min_impurity_split=None,\n",
              "                       min_samples_leaf=1, min_samples_split=2,\n",
              "                       min_weight_fraction_leaf=0.0, n_estimators=100,\n",
              "                       n_jobs=None, oob_score=False, random_state=42, verbose=0,\n",
              "                       warm_start=False)"
            ]
          },
          "metadata": {},
          "execution_count": 26
        }
      ]
    },
    {
      "cell_type": "code",
      "metadata": {
        "id": "90PBUVpfelY6",
        "colab": {
          "base_uri": "https://localhost:8080/"
        },
        "outputId": "282684e8-f5a7-4418-e898-3e94e00f39c8"
      },
      "source": [
        "y_test_pred = model.predict(X_test) #Prediccion en Test\n",
        "y_test_pred"
      ],
      "execution_count": null,
      "outputs": [
        {
          "output_type": "execute_result",
          "data": {
            "text/plain": [
              "array([1, 2, 2, 2, 1, 2, 1, 2, 2, 1, 1, 1, 1, 1, 1, 1, 2, 1, 1, 2, 1, 2,\n",
              "       2, 2, 2, 1, 2, 1, 2, 2, 1, 2, 1, 1, 2])"
            ]
          },
          "metadata": {},
          "execution_count": 27
        }
      ]
    },
    {
      "cell_type": "code",
      "metadata": {
        "id": "sEnZw94jelY6",
        "colab": {
          "base_uri": "https://localhost:8080/"
        },
        "outputId": "51747e32-86ef-4fcc-a651-4b8b53ead614"
      },
      "source": [
        "#Calculo el accuracy en Test\n",
        "test_accuracy = accuracy_score(y_test, y_test_pred)\n",
        "\n",
        "print('% de aciertos sobre el set de evaluación:',test_accuracy)"
      ],
      "execution_count": null,
      "outputs": [
        {
          "output_type": "stream",
          "name": "stdout",
          "text": [
            "% de aciertos sobre el set de evaluación: 0.8285714285714286\n"
          ]
        }
      ]
    },
    {
      "cell_type": "markdown",
      "metadata": {
        "id": "Th513tOmelY7"
      },
      "source": [
        "Conclusiones!\n",
        "\n",
        "Simplemente utilizando el algoritmo de random forest, obtenemos un mejor accuracy que haciendo uso de un DecisionTreeClassifier 😉"
      ]
    }
  ]
}