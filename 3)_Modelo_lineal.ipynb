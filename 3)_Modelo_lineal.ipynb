{
  "nbformat": 4,
  "nbformat_minor": 0,
  "metadata": {
    "anaconda-cloud": {},
    "kernelspec": {
      "display_name": "Python 3",
      "language": "python",
      "name": "python3"
    },
    "language_info": {
      "codemirror_mode": {
        "name": "ipython",
        "version": 3
      },
      "file_extension": ".py",
      "mimetype": "text/x-python",
      "name": "python",
      "nbconvert_exporter": "python",
      "pygments_lexer": "ipython3",
      "version": "3.7.6"
    },
    "colab": {
      "name": "3) Modelo lineal.ipynb",
      "provenance": [],
      "collapsed_sections": [
        "dETQalgToHi1",
        "13ma0pnSoHi3",
        "W-uJKQqNoHjB",
        "Infj71HMoHjB",
        "KN5wutGSoHjB",
        "YoGUMRCBoHjI",
        "kKOViiO-oHjJ",
        "xep9pid-oHjK",
        "b0bdj7SjoHjL"
      ],
      "include_colab_link": true
    },
    "widgets": {
      "application/vnd.jupyter.widget-state+json": {
        "47b9499bc98a44bd9cc12928d35d3603": {
          "model_module": "@jupyter-widgets/output",
          "model_name": "OutputModel",
          "model_module_version": "1.0.0",
          "state": {
            "_view_name": "OutputView",
            "msg_id": "",
            "_dom_classes": [],
            "_model_name": "OutputModel",
            "outputs": [
              {
                "output_type": "display_data",
                "data": {
                  "application/vnd.jupyter.widget-view+json": {
                    "model_id": "43bb609fceac45d2978aef669e9784dc",
                    "version_minor": 0,
                    "version_major": 2
                  },
                  "text/plain": "Output()"
                },
                "metadata": {}
              },
              {
                "output_type": "display_data",
                "data": {
                  "application/vnd.jupyter.widget-view+json": {
                    "model_id": "86a76082fe874c43aa25579af5075c7a",
                    "version_minor": 0,
                    "version_major": 2
                  },
                  "text/plain": "Dropdown(description='Scenario:', index=1, options=('1', '2', '3', '4'), value='2')"
                },
                "metadata": {}
              },
              {
                "output_type": "display_data",
                "data": {
                  "application/vnd.jupyter.widget-view+json": {
                    "model_id": "6faabc75615a46bd96abe702d9108a1a",
                    "version_minor": 0,
                    "version_major": 2
                  },
                  "text/plain": "Figure(axes=[Axis(grid_lines='dashed', label='Age', label_color='blue', num_ticks=8, scale=LinearScale(max=40.…"
                },
                "metadata": {}
              },
              {
                "output_type": "display_data",
                "data": {
                  "application/vnd.jupyter.widget-view+json": {
                    "model_id": "c5cc3671133f412d8ea2a0d1cabfd22d",
                    "version_minor": 0,
                    "version_major": 2
                  },
                  "text/plain": "Box(children=(Button(button_style='primary', description='See Answer', layout=Layout(display='flex', justify_c…"
                },
                "metadata": {}
              }
            ],
            "_view_module": "@jupyter-widgets/output",
            "_model_module_version": "1.0.0",
            "_view_count": null,
            "_view_module_version": "1.0.0",
            "layout": "IPY_MODEL_60599f927b2c46e0a9996b29c93dc3c0",
            "_model_module": "@jupyter-widgets/output"
          }
        },
        "60599f927b2c46e0a9996b29c93dc3c0": {
          "model_module": "@jupyter-widgets/base",
          "model_name": "LayoutModel",
          "model_module_version": "1.2.0",
          "state": {
            "_view_name": "LayoutView",
            "grid_template_rows": null,
            "right": null,
            "justify_content": null,
            "_view_module": "@jupyter-widgets/base",
            "overflow": null,
            "_model_module_version": "1.2.0",
            "_view_count": null,
            "flex_flow": null,
            "width": null,
            "min_width": null,
            "border": null,
            "align_items": null,
            "bottom": null,
            "_model_module": "@jupyter-widgets/base",
            "top": null,
            "grid_column": null,
            "overflow_y": null,
            "overflow_x": null,
            "grid_auto_flow": null,
            "grid_area": null,
            "grid_template_columns": null,
            "flex": null,
            "_model_name": "LayoutModel",
            "justify_items": null,
            "grid_row": null,
            "max_height": null,
            "align_content": null,
            "visibility": null,
            "align_self": null,
            "height": null,
            "min_height": null,
            "padding": null,
            "grid_auto_rows": null,
            "grid_gap": null,
            "max_width": null,
            "order": null,
            "_view_module_version": "1.2.0",
            "grid_template_areas": null,
            "object_position": null,
            "object_fit": null,
            "grid_auto_columns": null,
            "margin": null,
            "display": null,
            "left": null
          }
        },
        "887badf18ed547a1abc1b750806bb15e": {
          "model_module": "@jupyter-widgets/controls",
          "model_name": "DropdownModel",
          "model_module_version": "1.5.0",
          "state": {
            "_options_labels": [
              "1",
              "2",
              "3",
              "4"
            ],
            "_view_name": "DropdownView",
            "style": "IPY_MODEL_a79041ad92e644cfb1c5beaa69cd8fff",
            "_dom_classes": [],
            "description": "Scenario:",
            "_model_name": "DropdownModel",
            "index": 1,
            "_view_module": "@jupyter-widgets/controls",
            "_model_module_version": "1.5.0",
            "_view_count": null,
            "disabled": false,
            "_view_module_version": "1.5.0",
            "description_tooltip": null,
            "_model_module": "@jupyter-widgets/controls",
            "layout": "IPY_MODEL_11a90943348c4fccb7d365ab80212492"
          }
        },
        "a79041ad92e644cfb1c5beaa69cd8fff": {
          "model_module": "@jupyter-widgets/controls",
          "model_name": "DescriptionStyleModel",
          "model_module_version": "1.5.0",
          "state": {
            "_view_name": "StyleView",
            "_model_name": "DescriptionStyleModel",
            "description_width": "",
            "_view_module": "@jupyter-widgets/base",
            "_model_module_version": "1.5.0",
            "_view_count": null,
            "_view_module_version": "1.2.0",
            "_model_module": "@jupyter-widgets/controls"
          }
        },
        "11a90943348c4fccb7d365ab80212492": {
          "model_module": "@jupyter-widgets/base",
          "model_name": "LayoutModel",
          "model_module_version": "1.2.0",
          "state": {
            "_view_name": "LayoutView",
            "grid_template_rows": null,
            "right": null,
            "justify_content": null,
            "_view_module": "@jupyter-widgets/base",
            "overflow": null,
            "_model_module_version": "1.2.0",
            "_view_count": null,
            "flex_flow": null,
            "width": null,
            "min_width": null,
            "border": null,
            "align_items": null,
            "bottom": null,
            "_model_module": "@jupyter-widgets/base",
            "top": null,
            "grid_column": null,
            "overflow_y": null,
            "overflow_x": null,
            "grid_auto_flow": null,
            "grid_area": null,
            "grid_template_columns": null,
            "flex": null,
            "_model_name": "LayoutModel",
            "justify_items": null,
            "grid_row": null,
            "max_height": null,
            "align_content": null,
            "visibility": null,
            "align_self": null,
            "height": null,
            "min_height": null,
            "padding": null,
            "grid_auto_rows": null,
            "grid_gap": null,
            "max_width": null,
            "order": null,
            "_view_module_version": "1.2.0",
            "grid_template_areas": null,
            "object_position": null,
            "object_fit": null,
            "grid_auto_columns": null,
            "margin": null,
            "display": null,
            "left": null
          }
        },
        "445a7f9daa694a75a6f4c4b319365d6b": {
          "model_module": "bqplot",
          "model_name": "FigureModel",
          "model_module_version": "^0.5.31",
          "state": {
            "_view_name": "Figure",
            "max_aspect_ratio": 100,
            "_view_module": "bqplot",
            "_model_module_version": "^0.5.31",
            "_view_count": null,
            "fig_margin": {
              "top": 60,
              "left": 60,
              "right": 60,
              "bottom": 60
            },
            "_model_module": "bqplot",
            "layout": "IPY_MODEL_6a6ca3c5fb7a4e7c8f67d057d013fb71",
            "pixel_ratio": null,
            "title": "Find the Regression Line of Best Fit",
            "axes": [
              "IPY_MODEL_568b5d648df14f1fb547b8815a470e49",
              "IPY_MODEL_6ecaf118decb4aaf9d774e5a4ffdeb94"
            ],
            "legend_location": "top-right",
            "theme": "classic",
            "marks": [
              "IPY_MODEL_c50e1bba385043f7858e07dddf8340eb",
              "IPY_MODEL_f1d38db6991c4a13a8e36ad864648bf2",
              "IPY_MODEL_f66c400e97074ca493447bde5d9e0b49",
              "IPY_MODEL_61fbec6b4c854245b7e8fef113af1041"
            ],
            "scale_x": "IPY_MODEL_d3c09e93000b41c488f8445425fdc0a9",
            "scale_y": "IPY_MODEL_08a6c937bd3e4af5b25691de2a6a33ab",
            "padding_y": 0.025,
            "padding_x": 0,
            "_dom_classes": [],
            "background_style": {},
            "_model_name": "FigureModel",
            "legend_style": {},
            "min_aspect_ratio": 0.01,
            "title_style": {},
            "animation_duration": 0,
            "interaction": null,
            "legend_text": {},
            "_view_module_version": "^0.5.31"
          }
        },
        "dd210583ef2c47549ed8c014ee177365": {
          "model_module": "@jupyter-widgets/controls",
          "model_name": "BoxModel",
          "model_module_version": "1.5.0",
          "state": {
            "_view_name": "BoxView",
            "_dom_classes": [],
            "_model_name": "BoxModel",
            "_view_module": "@jupyter-widgets/controls",
            "_model_module_version": "1.5.0",
            "_view_count": null,
            "_view_module_version": "1.5.0",
            "box_style": "",
            "layout": "IPY_MODEL_f5622dd756c24646837517ad637f3188",
            "_model_module": "@jupyter-widgets/controls",
            "children": [
              "IPY_MODEL_6e178f707ecb479998acc6864cef855a"
            ]
          }
        },
        "f5622dd756c24646837517ad637f3188": {
          "model_module": "@jupyter-widgets/base",
          "model_name": "LayoutModel",
          "model_module_version": "1.2.0",
          "state": {
            "_view_name": "LayoutView",
            "grid_template_rows": null,
            "right": null,
            "justify_content": "center",
            "_view_module": "@jupyter-widgets/base",
            "overflow": null,
            "_model_module_version": "1.2.0",
            "_view_count": null,
            "flex_flow": null,
            "width": "50%",
            "min_width": null,
            "border": null,
            "align_items": null,
            "bottom": null,
            "_model_module": "@jupyter-widgets/base",
            "top": null,
            "grid_column": null,
            "overflow_y": null,
            "overflow_x": null,
            "grid_auto_flow": null,
            "grid_area": null,
            "grid_template_columns": null,
            "flex": null,
            "_model_name": "LayoutModel",
            "justify_items": null,
            "grid_row": null,
            "max_height": null,
            "align_content": null,
            "visibility": null,
            "align_self": null,
            "height": null,
            "min_height": null,
            "padding": null,
            "grid_auto_rows": null,
            "grid_gap": null,
            "max_width": null,
            "order": null,
            "_view_module_version": "1.2.0",
            "grid_template_areas": null,
            "object_position": null,
            "object_fit": null,
            "grid_auto_columns": null,
            "margin": null,
            "display": "flex",
            "left": null
          }
        },
        "6e178f707ecb479998acc6864cef855a": {
          "model_module": "@jupyter-widgets/controls",
          "model_name": "ButtonModel",
          "model_module_version": "1.5.0",
          "state": {
            "_view_name": "ButtonView",
            "style": "IPY_MODEL_0d61ef8a9dca49058311567602c505de",
            "_dom_classes": [],
            "description": "See Answer",
            "_model_name": "ButtonModel",
            "button_style": "primary",
            "_view_module": "@jupyter-widgets/controls",
            "_model_module_version": "1.5.0",
            "tooltip": "",
            "_view_count": null,
            "disabled": false,
            "_view_module_version": "1.5.0",
            "layout": "IPY_MODEL_7f0b09c14e8f4379b2b3a5b7fe30dbe5",
            "_model_module": "@jupyter-widgets/controls",
            "icon": ""
          }
        },
        "0d61ef8a9dca49058311567602c505de": {
          "model_module": "@jupyter-widgets/controls",
          "model_name": "ButtonStyleModel",
          "model_module_version": "1.5.0",
          "state": {
            "_view_name": "StyleView",
            "_model_name": "ButtonStyleModel",
            "_view_module": "@jupyter-widgets/base",
            "_model_module_version": "1.5.0",
            "_view_count": null,
            "button_color": null,
            "font_weight": "",
            "_view_module_version": "1.2.0",
            "_model_module": "@jupyter-widgets/controls"
          }
        },
        "7f0b09c14e8f4379b2b3a5b7fe30dbe5": {
          "model_module": "@jupyter-widgets/base",
          "model_name": "LayoutModel",
          "model_module_version": "1.2.0",
          "state": {
            "_view_name": "LayoutView",
            "grid_template_rows": null,
            "right": null,
            "justify_content": "center",
            "_view_module": "@jupyter-widgets/base",
            "overflow": null,
            "_model_module_version": "1.2.0",
            "_view_count": null,
            "flex_flow": null,
            "width": "300px",
            "min_width": null,
            "border": null,
            "align_items": null,
            "bottom": null,
            "_model_module": "@jupyter-widgets/base",
            "top": null,
            "grid_column": null,
            "overflow_y": null,
            "overflow_x": null,
            "grid_auto_flow": null,
            "grid_area": null,
            "grid_template_columns": null,
            "flex": null,
            "_model_name": "LayoutModel",
            "justify_items": null,
            "grid_row": null,
            "max_height": null,
            "align_content": null,
            "visibility": null,
            "align_self": null,
            "height": null,
            "min_height": null,
            "padding": null,
            "grid_auto_rows": null,
            "grid_gap": null,
            "max_width": null,
            "order": null,
            "_view_module_version": "1.2.0",
            "grid_template_areas": null,
            "object_position": null,
            "object_fit": null,
            "grid_auto_columns": null,
            "margin": null,
            "display": "flex",
            "left": null
          }
        },
        "43bb609fceac45d2978aef669e9784dc": {
          "model_module": "@jupyter-widgets/output",
          "model_name": "OutputModel",
          "model_module_version": "1.0.0",
          "state": {
            "_view_name": "OutputView",
            "msg_id": "",
            "_dom_classes": [],
            "_model_name": "OutputModel",
            "outputs": [
              {
                "output_type": "display_data",
                "data": {
                  "application/vnd.jupyter.widget-view+json": {
                    "model_id": "ed5e519490374905b2767fce3bb32acc",
                    "version_minor": 0,
                    "version_major": 2
                  },
                  "text/plain": "Output()"
                },
                "metadata": {}
              },
              {
                "output_type": "display_data",
                "data": {
                  "application/vnd.jupyter.widget-view+json": {
                    "model_id": "cc70707453b747a4971e6a5bf9a7a9e1",
                    "version_minor": 0,
                    "version_major": 2
                  },
                  "text/plain": "Dropdown(description='Scenario:', index=2, options=('1', '2', '3', '4'), value='3')"
                },
                "metadata": {}
              },
              {
                "output_type": "display_data",
                "data": {
                  "application/vnd.jupyter.widget-view+json": {
                    "model_id": "12bc24b1ca7349e182e7bddee6860c05",
                    "version_minor": 0,
                    "version_major": 2
                  },
                  "text/plain": "Figure(axes=[Axis(grid_lines='dashed', label='Age', label_color='blue', num_ticks=8, scale=LinearScale(max=40.…"
                },
                "metadata": {}
              },
              {
                "output_type": "display_data",
                "data": {
                  "application/vnd.jupyter.widget-view+json": {
                    "model_id": "b5f0f0f5621443d5a0afdb3a45f5cce2",
                    "version_minor": 0,
                    "version_major": 2
                  },
                  "text/plain": "Box(children=(Button(button_style='primary', description='See Answer', layout=Layout(display='flex', justify_c…"
                },
                "metadata": {}
              }
            ],
            "_view_module": "@jupyter-widgets/output",
            "_model_module_version": "1.0.0",
            "_view_count": null,
            "_view_module_version": "1.0.0",
            "layout": "IPY_MODEL_6f52b93916e146a5822cccaf85af62d1",
            "_model_module": "@jupyter-widgets/output"
          }
        },
        "6f52b93916e146a5822cccaf85af62d1": {
          "model_module": "@jupyter-widgets/base",
          "model_name": "LayoutModel",
          "model_module_version": "1.2.0",
          "state": {
            "_view_name": "LayoutView",
            "grid_template_rows": null,
            "right": null,
            "justify_content": null,
            "_view_module": "@jupyter-widgets/base",
            "overflow": null,
            "_model_module_version": "1.2.0",
            "_view_count": null,
            "flex_flow": null,
            "width": null,
            "min_width": null,
            "border": null,
            "align_items": null,
            "bottom": null,
            "_model_module": "@jupyter-widgets/base",
            "top": null,
            "grid_column": null,
            "overflow_y": null,
            "overflow_x": null,
            "grid_auto_flow": null,
            "grid_area": null,
            "grid_template_columns": null,
            "flex": null,
            "_model_name": "LayoutModel",
            "justify_items": null,
            "grid_row": null,
            "max_height": null,
            "align_content": null,
            "visibility": null,
            "align_self": null,
            "height": null,
            "min_height": null,
            "padding": null,
            "grid_auto_rows": null,
            "grid_gap": null,
            "max_width": null,
            "order": null,
            "_view_module_version": "1.2.0",
            "grid_template_areas": null,
            "object_position": null,
            "object_fit": null,
            "grid_auto_columns": null,
            "margin": null,
            "display": null,
            "left": null
          }
        },
        "86a76082fe874c43aa25579af5075c7a": {
          "model_module": "@jupyter-widgets/controls",
          "model_name": "DropdownModel",
          "model_module_version": "1.5.0",
          "state": {
            "_options_labels": [
              "1",
              "2",
              "3",
              "4"
            ],
            "_view_name": "DropdownView",
            "style": "IPY_MODEL_e5a688e00d9b4473b87e98f2768be45a",
            "_dom_classes": [],
            "description": "Scenario:",
            "_model_name": "DropdownModel",
            "index": 2,
            "_view_module": "@jupyter-widgets/controls",
            "_model_module_version": "1.5.0",
            "_view_count": null,
            "disabled": false,
            "_view_module_version": "1.5.0",
            "description_tooltip": null,
            "_model_module": "@jupyter-widgets/controls",
            "layout": "IPY_MODEL_56df79dad0284be7a46dc99b6f0e4fbb"
          }
        },
        "e5a688e00d9b4473b87e98f2768be45a": {
          "model_module": "@jupyter-widgets/controls",
          "model_name": "DescriptionStyleModel",
          "model_module_version": "1.5.0",
          "state": {
            "_view_name": "StyleView",
            "_model_name": "DescriptionStyleModel",
            "description_width": "",
            "_view_module": "@jupyter-widgets/base",
            "_model_module_version": "1.5.0",
            "_view_count": null,
            "_view_module_version": "1.2.0",
            "_model_module": "@jupyter-widgets/controls"
          }
        },
        "56df79dad0284be7a46dc99b6f0e4fbb": {
          "model_module": "@jupyter-widgets/base",
          "model_name": "LayoutModel",
          "model_module_version": "1.2.0",
          "state": {
            "_view_name": "LayoutView",
            "grid_template_rows": null,
            "right": null,
            "justify_content": null,
            "_view_module": "@jupyter-widgets/base",
            "overflow": null,
            "_model_module_version": "1.2.0",
            "_view_count": null,
            "flex_flow": null,
            "width": null,
            "min_width": null,
            "border": null,
            "align_items": null,
            "bottom": null,
            "_model_module": "@jupyter-widgets/base",
            "top": null,
            "grid_column": null,
            "overflow_y": null,
            "overflow_x": null,
            "grid_auto_flow": null,
            "grid_area": null,
            "grid_template_columns": null,
            "flex": null,
            "_model_name": "LayoutModel",
            "justify_items": null,
            "grid_row": null,
            "max_height": null,
            "align_content": null,
            "visibility": null,
            "align_self": null,
            "height": null,
            "min_height": null,
            "padding": null,
            "grid_auto_rows": null,
            "grid_gap": null,
            "max_width": null,
            "order": null,
            "_view_module_version": "1.2.0",
            "grid_template_areas": null,
            "object_position": null,
            "object_fit": null,
            "grid_auto_columns": null,
            "margin": null,
            "display": null,
            "left": null
          }
        },
        "6faabc75615a46bd96abe702d9108a1a": {
          "model_module": "bqplot",
          "model_name": "FigureModel",
          "model_module_version": "^0.5.31",
          "state": {
            "_view_name": "Figure",
            "max_aspect_ratio": 100,
            "_view_module": "bqplot",
            "_model_module_version": "^0.5.31",
            "_view_count": null,
            "fig_margin": {
              "top": 60,
              "left": 60,
              "right": 60,
              "bottom": 60
            },
            "_model_module": "bqplot",
            "layout": "IPY_MODEL_32b9f9a40aae44a79b3342cc3b11973b",
            "pixel_ratio": null,
            "title": "Find the Regression Line of Best Fit",
            "axes": [
              "IPY_MODEL_a3f1b7609b2c4323b753474afaba50b2",
              "IPY_MODEL_493a2564f3b24faea24c841c4728faba"
            ],
            "legend_location": "top-right",
            "theme": "classic",
            "marks": [
              "IPY_MODEL_2f157a8c1cf547b2b235d391ae9a3c81",
              "IPY_MODEL_63f207d40fba41eab6c4d827fa9ff193",
              "IPY_MODEL_36fddd58196848a8a364ff891ccc9b0f",
              "IPY_MODEL_8a2ca68db117481ba7c50f75ca1c9305"
            ],
            "scale_x": "IPY_MODEL_abe7f08dd824449a88e135cb9fa3b5a9",
            "scale_y": "IPY_MODEL_2efd8df8301a45d28d1cd2cb6b4106f3",
            "padding_y": 0.025,
            "padding_x": 0,
            "_dom_classes": [],
            "background_style": {},
            "_model_name": "FigureModel",
            "legend_style": {},
            "min_aspect_ratio": 0.01,
            "title_style": {},
            "animation_duration": 0,
            "interaction": null,
            "legend_text": {},
            "_view_module_version": "^0.5.31"
          }
        },
        "ed5e519490374905b2767fce3bb32acc": {
          "model_module": "@jupyter-widgets/output",
          "model_name": "OutputModel",
          "model_module_version": "1.0.0",
          "state": {
            "_view_name": "OutputView",
            "msg_id": "",
            "_dom_classes": [],
            "_model_name": "OutputModel",
            "outputs": [],
            "_view_module": "@jupyter-widgets/output",
            "_model_module_version": "1.0.0",
            "_view_count": null,
            "_view_module_version": "1.0.0",
            "layout": "IPY_MODEL_015a33eea2a048fdbd00dbb603993c8d",
            "_model_module": "@jupyter-widgets/output"
          }
        },
        "015a33eea2a048fdbd00dbb603993c8d": {
          "model_module": "@jupyter-widgets/base",
          "model_name": "LayoutModel",
          "model_module_version": "1.2.0",
          "state": {
            "_view_name": "LayoutView",
            "grid_template_rows": null,
            "right": null,
            "justify_content": null,
            "_view_module": "@jupyter-widgets/base",
            "overflow": null,
            "_model_module_version": "1.2.0",
            "_view_count": null,
            "flex_flow": null,
            "width": null,
            "min_width": null,
            "border": null,
            "align_items": null,
            "bottom": null,
            "_model_module": "@jupyter-widgets/base",
            "top": null,
            "grid_column": null,
            "overflow_y": null,
            "overflow_x": null,
            "grid_auto_flow": null,
            "grid_area": null,
            "grid_template_columns": null,
            "flex": null,
            "_model_name": "LayoutModel",
            "justify_items": null,
            "grid_row": null,
            "max_height": null,
            "align_content": null,
            "visibility": null,
            "align_self": null,
            "height": null,
            "min_height": null,
            "padding": null,
            "grid_auto_rows": null,
            "grid_gap": null,
            "max_width": null,
            "order": null,
            "_view_module_version": "1.2.0",
            "grid_template_areas": null,
            "object_position": null,
            "object_fit": null,
            "grid_auto_columns": null,
            "margin": null,
            "display": null,
            "left": null
          }
        },
        "cc70707453b747a4971e6a5bf9a7a9e1": {
          "model_module": "@jupyter-widgets/controls",
          "model_name": "DropdownModel",
          "model_module_version": "1.5.0",
          "state": {
            "_options_labels": [
              "1",
              "2",
              "3",
              "4"
            ],
            "_view_name": "DropdownView",
            "style": "IPY_MODEL_2e7b70c5b8f54233a5eb817b70779cad",
            "_dom_classes": [],
            "description": "Scenario:",
            "_model_name": "DropdownModel",
            "index": 2,
            "_view_module": "@jupyter-widgets/controls",
            "_model_module_version": "1.5.0",
            "_view_count": null,
            "disabled": false,
            "_view_module_version": "1.5.0",
            "description_tooltip": null,
            "_model_module": "@jupyter-widgets/controls",
            "layout": "IPY_MODEL_d14f22158344420a975d330e596f9242"
          }
        },
        "2e7b70c5b8f54233a5eb817b70779cad": {
          "model_module": "@jupyter-widgets/controls",
          "model_name": "DescriptionStyleModel",
          "model_module_version": "1.5.0",
          "state": {
            "_view_name": "StyleView",
            "_model_name": "DescriptionStyleModel",
            "description_width": "",
            "_view_module": "@jupyter-widgets/base",
            "_model_module_version": "1.5.0",
            "_view_count": null,
            "_view_module_version": "1.2.0",
            "_model_module": "@jupyter-widgets/controls"
          }
        },
        "d14f22158344420a975d330e596f9242": {
          "model_module": "@jupyter-widgets/base",
          "model_name": "LayoutModel",
          "model_module_version": "1.2.0",
          "state": {
            "_view_name": "LayoutView",
            "grid_template_rows": null,
            "right": null,
            "justify_content": null,
            "_view_module": "@jupyter-widgets/base",
            "overflow": null,
            "_model_module_version": "1.2.0",
            "_view_count": null,
            "flex_flow": null,
            "width": null,
            "min_width": null,
            "border": null,
            "align_items": null,
            "bottom": null,
            "_model_module": "@jupyter-widgets/base",
            "top": null,
            "grid_column": null,
            "overflow_y": null,
            "overflow_x": null,
            "grid_auto_flow": null,
            "grid_area": null,
            "grid_template_columns": null,
            "flex": null,
            "_model_name": "LayoutModel",
            "justify_items": null,
            "grid_row": null,
            "max_height": null,
            "align_content": null,
            "visibility": null,
            "align_self": null,
            "height": null,
            "min_height": null,
            "padding": null,
            "grid_auto_rows": null,
            "grid_gap": null,
            "max_width": null,
            "order": null,
            "_view_module_version": "1.2.0",
            "grid_template_areas": null,
            "object_position": null,
            "object_fit": null,
            "grid_auto_columns": null,
            "margin": null,
            "display": null,
            "left": null
          }
        },
        "12bc24b1ca7349e182e7bddee6860c05": {
          "model_module": "bqplot",
          "model_name": "FigureModel",
          "model_module_version": "^0.5.31",
          "state": {
            "_view_name": "Figure",
            "max_aspect_ratio": 100,
            "_view_module": "bqplot",
            "_model_module_version": "^0.5.31",
            "_view_count": null,
            "fig_margin": {
              "top": 60,
              "left": 60,
              "right": 60,
              "bottom": 60
            },
            "_model_module": "bqplot",
            "layout": "IPY_MODEL_e10383c1b7e04bbe815d9cf2857b7f5d",
            "pixel_ratio": null,
            "title": "Find the Regression Line of Best Fit",
            "axes": [
              "IPY_MODEL_52afdec688fe4ecea5e4a0a5fdb68567",
              "IPY_MODEL_0be90f1638384b56ac7363c3631b43fa"
            ],
            "legend_location": "top-right",
            "theme": "classic",
            "marks": [
              "IPY_MODEL_4087608ed9ae4be2a486728c565a286b",
              "IPY_MODEL_98e59bfbd76947ee8480514b3c4fcad1",
              "IPY_MODEL_9accb8339a2a49dd9f3cb4a784cb8b72",
              "IPY_MODEL_c5ce469425a54112b2b311136815c20d"
            ],
            "scale_x": "IPY_MODEL_4bc513cc91c24913b01308d306dd7aba",
            "scale_y": "IPY_MODEL_1cc4631d5ea045d88dee720227b6b644",
            "padding_y": 0.025,
            "padding_x": 0,
            "_dom_classes": [],
            "background_style": {},
            "_model_name": "FigureModel",
            "legend_style": {},
            "min_aspect_ratio": 0.01,
            "title_style": {},
            "animation_duration": 0,
            "interaction": null,
            "legend_text": {},
            "_view_module_version": "^0.5.31"
          }
        },
        "833a096e9cfa4d5882e4acd6cf4dfaab": {
          "model_module": "@jupyter-widgets/output",
          "model_name": "OutputModel",
          "model_module_version": "1.0.0",
          "state": {
            "_view_name": "OutputView",
            "msg_id": "",
            "_dom_classes": [],
            "_model_name": "OutputModel",
            "outputs": [],
            "_view_module": "@jupyter-widgets/output",
            "_model_module_version": "1.0.0",
            "_view_count": null,
            "_view_module_version": "1.0.0",
            "layout": "IPY_MODEL_a8d28da7310641d5a08e1a8c78463627",
            "_model_module": "@jupyter-widgets/output"
          }
        },
        "a8d28da7310641d5a08e1a8c78463627": {
          "model_module": "@jupyter-widgets/base",
          "model_name": "LayoutModel",
          "model_module_version": "1.2.0",
          "state": {
            "_view_name": "LayoutView",
            "grid_template_rows": null,
            "right": null,
            "justify_content": null,
            "_view_module": "@jupyter-widgets/base",
            "overflow": null,
            "_model_module_version": "1.2.0",
            "_view_count": null,
            "flex_flow": null,
            "width": null,
            "min_width": null,
            "border": null,
            "align_items": null,
            "bottom": null,
            "_model_module": "@jupyter-widgets/base",
            "top": null,
            "grid_column": null,
            "overflow_y": null,
            "overflow_x": null,
            "grid_auto_flow": null,
            "grid_area": null,
            "grid_template_columns": null,
            "flex": null,
            "_model_name": "LayoutModel",
            "justify_items": null,
            "grid_row": null,
            "max_height": null,
            "align_content": null,
            "visibility": null,
            "align_self": null,
            "height": null,
            "min_height": null,
            "padding": null,
            "grid_auto_rows": null,
            "grid_gap": null,
            "max_width": null,
            "order": null,
            "_view_module_version": "1.2.0",
            "grid_template_areas": null,
            "object_position": null,
            "object_fit": null,
            "grid_auto_columns": null,
            "margin": null,
            "display": null,
            "left": null
          }
        },
        "6e978b771e0a4f4f844cb10556fd973c": {
          "model_module": "bqplot",
          "model_name": "FigureModel",
          "model_module_version": "^0.5.31",
          "state": {
            "_view_name": "Figure",
            "max_aspect_ratio": 100,
            "_view_module": "bqplot",
            "_model_module_version": "^0.5.31",
            "_view_count": null,
            "fig_margin": {
              "top": 60,
              "left": 60,
              "right": 60,
              "bottom": 60
            },
            "_model_module": "bqplot",
            "layout": "IPY_MODEL_b0b392f956cf4108bdff27d0b3b708b6",
            "pixel_ratio": null,
            "title": "Find the Largest Residual",
            "axes": [
              "IPY_MODEL_bd596b16c19d4965b8431d723bcfdea4",
              "IPY_MODEL_9025137bef714ab4bc2c76f3755a8595"
            ],
            "legend_location": "top-right",
            "theme": "classic",
            "marks": [
              "IPY_MODEL_3662d6850ca2451b86c3889800ff8192",
              "IPY_MODEL_f2dda820a7f14391bbe81cf46b3b99a0",
              "IPY_MODEL_036f2fad3fec4b0eba4d0c80f0ed11d9"
            ],
            "scale_x": "IPY_MODEL_5c646e21f7134547ad29039fba62678d",
            "scale_y": "IPY_MODEL_0bbc1b5b05624d36a061410b4a586905",
            "padding_y": 0.025,
            "padding_x": 0,
            "_dom_classes": [],
            "background_style": {},
            "_model_name": "FigureModel",
            "legend_style": {},
            "min_aspect_ratio": 0.01,
            "title_style": {},
            "animation_duration": 0,
            "interaction": null,
            "legend_text": {},
            "_view_module_version": "^0.5.31"
          }
        },
        "96833592a08a48c9b3aec08bb158dd4e": {
          "model_module": "@jupyter-widgets/controls",
          "model_name": "BoxModel",
          "model_module_version": "1.5.0",
          "state": {
            "_view_name": "BoxView",
            "_dom_classes": [],
            "_model_name": "BoxModel",
            "_view_module": "@jupyter-widgets/controls",
            "_model_module_version": "1.5.0",
            "_view_count": null,
            "_view_module_version": "1.5.0",
            "box_style": "",
            "layout": "IPY_MODEL_d6377d695b0243f6b718b6313b909ecf",
            "_model_module": "@jupyter-widgets/controls",
            "children": [
              "IPY_MODEL_917fb8692c384125a30b62ecefeb2c5a"
            ]
          }
        },
        "d6377d695b0243f6b718b6313b909ecf": {
          "model_module": "@jupyter-widgets/base",
          "model_name": "LayoutModel",
          "model_module_version": "1.2.0",
          "state": {
            "_view_name": "LayoutView",
            "grid_template_rows": null,
            "right": null,
            "justify_content": "center",
            "_view_module": "@jupyter-widgets/base",
            "overflow": null,
            "_model_module_version": "1.2.0",
            "_view_count": null,
            "flex_flow": null,
            "width": "50%",
            "min_width": null,
            "border": null,
            "align_items": null,
            "bottom": null,
            "_model_module": "@jupyter-widgets/base",
            "top": null,
            "grid_column": null,
            "overflow_y": null,
            "overflow_x": null,
            "grid_auto_flow": null,
            "grid_area": null,
            "grid_template_columns": null,
            "flex": null,
            "_model_name": "LayoutModel",
            "justify_items": null,
            "grid_row": null,
            "max_height": null,
            "align_content": null,
            "visibility": null,
            "align_self": null,
            "height": null,
            "min_height": null,
            "padding": null,
            "grid_auto_rows": null,
            "grid_gap": null,
            "max_width": null,
            "order": null,
            "_view_module_version": "1.2.0",
            "grid_template_areas": null,
            "object_position": null,
            "object_fit": null,
            "grid_auto_columns": null,
            "margin": null,
            "display": "flex",
            "left": null
          }
        },
        "917fb8692c384125a30b62ecefeb2c5a": {
          "model_module": "@jupyter-widgets/controls",
          "model_name": "ButtonModel",
          "model_module_version": "1.5.0",
          "state": {
            "_view_name": "ButtonView",
            "style": "IPY_MODEL_8c3801abcdbb4bb69d0a25cd8ed98c7e",
            "_dom_classes": [],
            "description": "See Answer",
            "_model_name": "ButtonModel",
            "button_style": "primary",
            "_view_module": "@jupyter-widgets/controls",
            "_model_module_version": "1.5.0",
            "tooltip": "",
            "_view_count": null,
            "disabled": false,
            "_view_module_version": "1.5.0",
            "layout": "IPY_MODEL_e1aa2e20136041c0a82ac4fa1e744e59",
            "_model_module": "@jupyter-widgets/controls",
            "icon": ""
          }
        },
        "8c3801abcdbb4bb69d0a25cd8ed98c7e": {
          "model_module": "@jupyter-widgets/controls",
          "model_name": "ButtonStyleModel",
          "model_module_version": "1.5.0",
          "state": {
            "_view_name": "StyleView",
            "_model_name": "ButtonStyleModel",
            "_view_module": "@jupyter-widgets/base",
            "_model_module_version": "1.5.0",
            "_view_count": null,
            "button_color": null,
            "font_weight": "",
            "_view_module_version": "1.2.0",
            "_model_module": "@jupyter-widgets/controls"
          }
        },
        "e1aa2e20136041c0a82ac4fa1e744e59": {
          "model_module": "@jupyter-widgets/base",
          "model_name": "LayoutModel",
          "model_module_version": "1.2.0",
          "state": {
            "_view_name": "LayoutView",
            "grid_template_rows": null,
            "right": null,
            "justify_content": "center",
            "_view_module": "@jupyter-widgets/base",
            "overflow": null,
            "_model_module_version": "1.2.0",
            "_view_count": null,
            "flex_flow": null,
            "width": "300px",
            "min_width": null,
            "border": null,
            "align_items": null,
            "bottom": null,
            "_model_module": "@jupyter-widgets/base",
            "top": null,
            "grid_column": null,
            "overflow_y": null,
            "overflow_x": null,
            "grid_auto_flow": null,
            "grid_area": null,
            "grid_template_columns": null,
            "flex": null,
            "_model_name": "LayoutModel",
            "justify_items": null,
            "grid_row": null,
            "max_height": null,
            "align_content": null,
            "visibility": null,
            "align_self": null,
            "height": null,
            "min_height": null,
            "padding": null,
            "grid_auto_rows": null,
            "grid_gap": null,
            "max_width": null,
            "order": null,
            "_view_module_version": "1.2.0",
            "grid_template_areas": null,
            "object_position": null,
            "object_fit": null,
            "grid_auto_columns": null,
            "margin": null,
            "display": "flex",
            "left": null
          }
        }
      }
    }
  },
  "cells": [
    {
      "cell_type": "markdown",
      "metadata": {
        "id": "view-in-github",
        "colab_type": "text"
      },
      "source": [
        "<a href=\"https://colab.research.google.com/github/GiselaCS/Mujeres_Digitales/blob/main/3)_Modelo_lineal.ipynb\" target=\"_parent\"><img src=\"https://colab.research.google.com/assets/colab-badge.svg\" alt=\"Open In Colab\"/></a>"
      ]
    },
    {
      "cell_type": "markdown",
      "metadata": {
        "id": "KuwOrzF2oHiW"
      },
      "source": [
        "# ¿Qué factores están impulsando la discriminación salarial entre hombres y mujeres en su organización?"
      ]
    },
    {
      "cell_type": "code",
      "metadata": {
        "colab": {
          "base_uri": "https://localhost:8080/"
        },
        "id": "jxE1Y7zpoHic",
        "outputId": "4c8c2f6d-91d1-4015-9713-bcc89511ae72"
      },
      "source": [
        "! pip install chart_studio"
      ],
      "execution_count": null,
      "outputs": [
        {
          "output_type": "stream",
          "name": "stdout",
          "text": [
            "Collecting chart_studio\n",
            "  Downloading chart_studio-1.1.0-py3-none-any.whl (64 kB)\n",
            "\u001b[?25l\r\u001b[K     |█████                           | 10 kB 23.5 MB/s eta 0:00:01\r\u001b[K     |██████████▏                     | 20 kB 26.8 MB/s eta 0:00:01\r\u001b[K     |███████████████▎                | 30 kB 22.6 MB/s eta 0:00:01\r\u001b[K     |████████████████████▍           | 40 kB 19.1 MB/s eta 0:00:01\r\u001b[K     |█████████████████████████▍      | 51 kB 7.5 MB/s eta 0:00:01\r\u001b[K     |██████████████████████████████▌ | 61 kB 7.9 MB/s eta 0:00:01\r\u001b[K     |████████████████████████████████| 64 kB 2.5 MB/s \n",
            "\u001b[?25hRequirement already satisfied: retrying>=1.3.3 in /usr/local/lib/python3.7/dist-packages (from chart_studio) (1.3.3)\n",
            "Requirement already satisfied: requests in /usr/local/lib/python3.7/dist-packages (from chart_studio) (2.23.0)\n",
            "Requirement already satisfied: plotly in /usr/local/lib/python3.7/dist-packages (from chart_studio) (4.4.1)\n",
            "Requirement already satisfied: six in /usr/local/lib/python3.7/dist-packages (from chart_studio) (1.15.0)\n",
            "Requirement already satisfied: certifi>=2017.4.17 in /usr/local/lib/python3.7/dist-packages (from requests->chart_studio) (2021.5.30)\n",
            "Requirement already satisfied: urllib3!=1.25.0,!=1.25.1,<1.26,>=1.21.1 in /usr/local/lib/python3.7/dist-packages (from requests->chart_studio) (1.24.3)\n",
            "Requirement already satisfied: idna<3,>=2.5 in /usr/local/lib/python3.7/dist-packages (from requests->chart_studio) (2.10)\n",
            "Requirement already satisfied: chardet<4,>=3.0.2 in /usr/local/lib/python3.7/dist-packages (from requests->chart_studio) (3.0.4)\n",
            "Installing collected packages: chart-studio\n",
            "Successfully installed chart-studio-1.1.0\n"
          ]
        }
      ]
    },
    {
      "cell_type": "code",
      "metadata": {
        "colab": {
          "base_uri": "https://localhost:8080/"
        },
        "id": "1ZF9C1LNoHie",
        "outputId": "196e0dd4-f1d9-4727-a457-7c01a2a9b1d8"
      },
      "source": [
        "! pip install bqplot"
      ],
      "execution_count": null,
      "outputs": [
        {
          "output_type": "stream",
          "name": "stdout",
          "text": [
            "Collecting bqplot\n",
            "  Downloading bqplot-0.12.30-py2.py3-none-any.whl (1.2 MB)\n",
            "\u001b[?25l\r\u001b[K     |▎                               | 10 kB 25.6 MB/s eta 0:00:01\r\u001b[K     |▌                               | 20 kB 31.0 MB/s eta 0:00:01\r\u001b[K     |▉                               | 30 kB 15.2 MB/s eta 0:00:01\r\u001b[K     |█                               | 40 kB 11.5 MB/s eta 0:00:01\r\u001b[K     |█▍                              | 51 kB 8.1 MB/s eta 0:00:01\r\u001b[K     |█▋                              | 61 kB 7.5 MB/s eta 0:00:01\r\u001b[K     |█▉                              | 71 kB 8.2 MB/s eta 0:00:01\r\u001b[K     |██▏                             | 81 kB 9.1 MB/s eta 0:00:01\r\u001b[K     |██▍                             | 92 kB 8.6 MB/s eta 0:00:01\r\u001b[K     |██▊                             | 102 kB 7.7 MB/s eta 0:00:01\r\u001b[K     |███                             | 112 kB 7.7 MB/s eta 0:00:01\r\u001b[K     |███▏                            | 122 kB 7.7 MB/s eta 0:00:01\r\u001b[K     |███▌                            | 133 kB 7.7 MB/s eta 0:00:01\r\u001b[K     |███▊                            | 143 kB 7.7 MB/s eta 0:00:01\r\u001b[K     |████                            | 153 kB 7.7 MB/s eta 0:00:01\r\u001b[K     |████▎                           | 163 kB 7.7 MB/s eta 0:00:01\r\u001b[K     |████▌                           | 174 kB 7.7 MB/s eta 0:00:01\r\u001b[K     |████▉                           | 184 kB 7.7 MB/s eta 0:00:01\r\u001b[K     |█████                           | 194 kB 7.7 MB/s eta 0:00:01\r\u001b[K     |█████▍                          | 204 kB 7.7 MB/s eta 0:00:01\r\u001b[K     |█████▋                          | 215 kB 7.7 MB/s eta 0:00:01\r\u001b[K     |█████▉                          | 225 kB 7.7 MB/s eta 0:00:01\r\u001b[K     |██████▏                         | 235 kB 7.7 MB/s eta 0:00:01\r\u001b[K     |██████▍                         | 245 kB 7.7 MB/s eta 0:00:01\r\u001b[K     |██████▊                         | 256 kB 7.7 MB/s eta 0:00:01\r\u001b[K     |███████                         | 266 kB 7.7 MB/s eta 0:00:01\r\u001b[K     |███████▏                        | 276 kB 7.7 MB/s eta 0:00:01\r\u001b[K     |███████▌                        | 286 kB 7.7 MB/s eta 0:00:01\r\u001b[K     |███████▊                        | 296 kB 7.7 MB/s eta 0:00:01\r\u001b[K     |████████                        | 307 kB 7.7 MB/s eta 0:00:01\r\u001b[K     |████████▎                       | 317 kB 7.7 MB/s eta 0:00:01\r\u001b[K     |████████▌                       | 327 kB 7.7 MB/s eta 0:00:01\r\u001b[K     |████████▉                       | 337 kB 7.7 MB/s eta 0:00:01\r\u001b[K     |█████████                       | 348 kB 7.7 MB/s eta 0:00:01\r\u001b[K     |█████████▍                      | 358 kB 7.7 MB/s eta 0:00:01\r\u001b[K     |█████████▋                      | 368 kB 7.7 MB/s eta 0:00:01\r\u001b[K     |█████████▉                      | 378 kB 7.7 MB/s eta 0:00:01\r\u001b[K     |██████████▏                     | 389 kB 7.7 MB/s eta 0:00:01\r\u001b[K     |██████████▍                     | 399 kB 7.7 MB/s eta 0:00:01\r\u001b[K     |██████████▊                     | 409 kB 7.7 MB/s eta 0:00:01\r\u001b[K     |███████████                     | 419 kB 7.7 MB/s eta 0:00:01\r\u001b[K     |███████████▏                    | 430 kB 7.7 MB/s eta 0:00:01\r\u001b[K     |███████████▌                    | 440 kB 7.7 MB/s eta 0:00:01\r\u001b[K     |███████████▊                    | 450 kB 7.7 MB/s eta 0:00:01\r\u001b[K     |████████████                    | 460 kB 7.7 MB/s eta 0:00:01\r\u001b[K     |████████████▎                   | 471 kB 7.7 MB/s eta 0:00:01\r\u001b[K     |████████████▌                   | 481 kB 7.7 MB/s eta 0:00:01\r\u001b[K     |████████████▉                   | 491 kB 7.7 MB/s eta 0:00:01\r\u001b[K     |█████████████                   | 501 kB 7.7 MB/s eta 0:00:01\r\u001b[K     |█████████████▍                  | 512 kB 7.7 MB/s eta 0:00:01\r\u001b[K     |█████████████▋                  | 522 kB 7.7 MB/s eta 0:00:01\r\u001b[K     |█████████████▉                  | 532 kB 7.7 MB/s eta 0:00:01\r\u001b[K     |██████████████▏                 | 542 kB 7.7 MB/s eta 0:00:01\r\u001b[K     |██████████████▍                 | 552 kB 7.7 MB/s eta 0:00:01\r\u001b[K     |██████████████▊                 | 563 kB 7.7 MB/s eta 0:00:01\r\u001b[K     |███████████████                 | 573 kB 7.7 MB/s eta 0:00:01\r\u001b[K     |███████████████▏                | 583 kB 7.7 MB/s eta 0:00:01\r\u001b[K     |███████████████▌                | 593 kB 7.7 MB/s eta 0:00:01\r\u001b[K     |███████████████▊                | 604 kB 7.7 MB/s eta 0:00:01\r\u001b[K     |████████████████                | 614 kB 7.7 MB/s eta 0:00:01\r\u001b[K     |████████████████▎               | 624 kB 7.7 MB/s eta 0:00:01\r\u001b[K     |████████████████▌               | 634 kB 7.7 MB/s eta 0:00:01\r\u001b[K     |████████████████▉               | 645 kB 7.7 MB/s eta 0:00:01\r\u001b[K     |█████████████████               | 655 kB 7.7 MB/s eta 0:00:01\r\u001b[K     |█████████████████▍              | 665 kB 7.7 MB/s eta 0:00:01\r\u001b[K     |█████████████████▋              | 675 kB 7.7 MB/s eta 0:00:01\r\u001b[K     |█████████████████▉              | 686 kB 7.7 MB/s eta 0:00:01\r\u001b[K     |██████████████████▏             | 696 kB 7.7 MB/s eta 0:00:01\r\u001b[K     |██████████████████▍             | 706 kB 7.7 MB/s eta 0:00:01\r\u001b[K     |██████████████████▊             | 716 kB 7.7 MB/s eta 0:00:01\r\u001b[K     |███████████████████             | 727 kB 7.7 MB/s eta 0:00:01\r\u001b[K     |███████████████████▏            | 737 kB 7.7 MB/s eta 0:00:01\r\u001b[K     |███████████████████▌            | 747 kB 7.7 MB/s eta 0:00:01\r\u001b[K     |███████████████████▊            | 757 kB 7.7 MB/s eta 0:00:01\r\u001b[K     |████████████████████            | 768 kB 7.7 MB/s eta 0:00:01\r\u001b[K     |████████████████████▎           | 778 kB 7.7 MB/s eta 0:00:01\r\u001b[K     |████████████████████▌           | 788 kB 7.7 MB/s eta 0:00:01\r\u001b[K     |████████████████████▉           | 798 kB 7.7 MB/s eta 0:00:01\r\u001b[K     |█████████████████████           | 808 kB 7.7 MB/s eta 0:00:01\r\u001b[K     |█████████████████████▍          | 819 kB 7.7 MB/s eta 0:00:01\r\u001b[K     |█████████████████████▋          | 829 kB 7.7 MB/s eta 0:00:01\r\u001b[K     |█████████████████████▉          | 839 kB 7.7 MB/s eta 0:00:01\r\u001b[K     |██████████████████████▏         | 849 kB 7.7 MB/s eta 0:00:01\r\u001b[K     |██████████████████████▍         | 860 kB 7.7 MB/s eta 0:00:01\r\u001b[K     |██████████████████████▊         | 870 kB 7.7 MB/s eta 0:00:01\r\u001b[K     |███████████████████████         | 880 kB 7.7 MB/s eta 0:00:01\r\u001b[K     |███████████████████████▏        | 890 kB 7.7 MB/s eta 0:00:01\r\u001b[K     |███████████████████████▌        | 901 kB 7.7 MB/s eta 0:00:01\r\u001b[K     |███████████████████████▊        | 911 kB 7.7 MB/s eta 0:00:01\r\u001b[K     |████████████████████████        | 921 kB 7.7 MB/s eta 0:00:01\r\u001b[K     |████████████████████████▎       | 931 kB 7.7 MB/s eta 0:00:01\r\u001b[K     |████████████████████████▌       | 942 kB 7.7 MB/s eta 0:00:01\r\u001b[K     |████████████████████████▉       | 952 kB 7.7 MB/s eta 0:00:01\r\u001b[K     |█████████████████████████       | 962 kB 7.7 MB/s eta 0:00:01\r\u001b[K     |█████████████████████████▍      | 972 kB 7.7 MB/s eta 0:00:01\r\u001b[K     |█████████████████████████▋      | 983 kB 7.7 MB/s eta 0:00:01\r\u001b[K     |█████████████████████████▉      | 993 kB 7.7 MB/s eta 0:00:01\r\u001b[K     |██████████████████████████▏     | 1.0 MB 7.7 MB/s eta 0:00:01\r\u001b[K     |██████████████████████████▍     | 1.0 MB 7.7 MB/s eta 0:00:01\r\u001b[K     |██████████████████████████▊     | 1.0 MB 7.7 MB/s eta 0:00:01\r\u001b[K     |███████████████████████████     | 1.0 MB 7.7 MB/s eta 0:00:01\r\u001b[K     |███████████████████████████▏    | 1.0 MB 7.7 MB/s eta 0:00:01\r\u001b[K     |███████████████████████████▌    | 1.1 MB 7.7 MB/s eta 0:00:01\r\u001b[K     |███████████████████████████▊    | 1.1 MB 7.7 MB/s eta 0:00:01\r\u001b[K     |████████████████████████████    | 1.1 MB 7.7 MB/s eta 0:00:01\r\u001b[K     |████████████████████████████▎   | 1.1 MB 7.7 MB/s eta 0:00:01\r\u001b[K     |████████████████████████████▌   | 1.1 MB 7.7 MB/s eta 0:00:01\r\u001b[K     |████████████████████████████▉   | 1.1 MB 7.7 MB/s eta 0:00:01\r\u001b[K     |█████████████████████████████   | 1.1 MB 7.7 MB/s eta 0:00:01\r\u001b[K     |█████████████████████████████▍  | 1.1 MB 7.7 MB/s eta 0:00:01\r\u001b[K     |█████████████████████████████▋  | 1.1 MB 7.7 MB/s eta 0:00:01\r\u001b[K     |█████████████████████████████▉  | 1.1 MB 7.7 MB/s eta 0:00:01\r\u001b[K     |██████████████████████████████▏ | 1.2 MB 7.7 MB/s eta 0:00:01\r\u001b[K     |██████████████████████████████▍ | 1.2 MB 7.7 MB/s eta 0:00:01\r\u001b[K     |██████████████████████████████▊ | 1.2 MB 7.7 MB/s eta 0:00:01\r\u001b[K     |███████████████████████████████ | 1.2 MB 7.7 MB/s eta 0:00:01\r\u001b[K     |███████████████████████████████▎| 1.2 MB 7.7 MB/s eta 0:00:01\r\u001b[K     |███████████████████████████████▌| 1.2 MB 7.7 MB/s eta 0:00:01\r\u001b[K     |███████████████████████████████▊| 1.2 MB 7.7 MB/s eta 0:00:01\r\u001b[K     |████████████████████████████████| 1.2 MB 7.7 MB/s \n",
            "\u001b[?25hCollecting traittypes>=0.0.6\n",
            "  Downloading traittypes-0.2.1-py2.py3-none-any.whl (8.6 kB)\n",
            "Requirement already satisfied: traitlets>=4.3.0 in /usr/local/lib/python3.7/dist-packages (from bqplot) (5.1.0)\n",
            "Requirement already satisfied: pandas in /usr/local/lib/python3.7/dist-packages (from bqplot) (1.1.5)\n",
            "Requirement already satisfied: ipywidgets>=7.5.0 in /usr/local/lib/python3.7/dist-packages (from bqplot) (7.6.5)\n",
            "Requirement already satisfied: numpy>=1.10.4 in /usr/local/lib/python3.7/dist-packages (from bqplot) (1.19.5)\n",
            "Requirement already satisfied: ipython>=4.0.0 in /usr/local/lib/python3.7/dist-packages (from ipywidgets>=7.5.0->bqplot) (5.5.0)\n",
            "Requirement already satisfied: nbformat>=4.2.0 in /usr/local/lib/python3.7/dist-packages (from ipywidgets>=7.5.0->bqplot) (5.1.3)\n",
            "Requirement already satisfied: widgetsnbextension~=3.5.0 in /usr/local/lib/python3.7/dist-packages (from ipywidgets>=7.5.0->bqplot) (3.5.1)\n",
            "Requirement already satisfied: ipykernel>=4.5.1 in /usr/local/lib/python3.7/dist-packages (from ipywidgets>=7.5.0->bqplot) (4.10.1)\n",
            "Requirement already satisfied: ipython-genutils~=0.2.0 in /usr/local/lib/python3.7/dist-packages (from ipywidgets>=7.5.0->bqplot) (0.2.0)\n",
            "Requirement already satisfied: jupyterlab-widgets>=1.0.0 in /usr/local/lib/python3.7/dist-packages (from ipywidgets>=7.5.0->bqplot) (1.0.2)\n",
            "Requirement already satisfied: jupyter-client in /usr/local/lib/python3.7/dist-packages (from ipykernel>=4.5.1->ipywidgets>=7.5.0->bqplot) (5.3.5)\n",
            "Requirement already satisfied: tornado>=4.0 in /usr/local/lib/python3.7/dist-packages (from ipykernel>=4.5.1->ipywidgets>=7.5.0->bqplot) (5.1.1)\n",
            "Requirement already satisfied: prompt-toolkit<2.0.0,>=1.0.4 in /usr/local/lib/python3.7/dist-packages (from ipython>=4.0.0->ipywidgets>=7.5.0->bqplot) (1.0.18)\n",
            "Requirement already satisfied: setuptools>=18.5 in /usr/local/lib/python3.7/dist-packages (from ipython>=4.0.0->ipywidgets>=7.5.0->bqplot) (57.4.0)\n",
            "Requirement already satisfied: simplegeneric>0.8 in /usr/local/lib/python3.7/dist-packages (from ipython>=4.0.0->ipywidgets>=7.5.0->bqplot) (0.8.1)\n",
            "Requirement already satisfied: pygments in /usr/local/lib/python3.7/dist-packages (from ipython>=4.0.0->ipywidgets>=7.5.0->bqplot) (2.6.1)\n",
            "Requirement already satisfied: pexpect in /usr/local/lib/python3.7/dist-packages (from ipython>=4.0.0->ipywidgets>=7.5.0->bqplot) (4.8.0)\n",
            "Requirement already satisfied: pickleshare in /usr/local/lib/python3.7/dist-packages (from ipython>=4.0.0->ipywidgets>=7.5.0->bqplot) (0.7.5)\n",
            "Requirement already satisfied: decorator in /usr/local/lib/python3.7/dist-packages (from ipython>=4.0.0->ipywidgets>=7.5.0->bqplot) (4.4.2)\n",
            "Requirement already satisfied: jupyter-core in /usr/local/lib/python3.7/dist-packages (from nbformat>=4.2.0->ipywidgets>=7.5.0->bqplot) (4.7.1)\n",
            "Requirement already satisfied: jsonschema!=2.5.0,>=2.4 in /usr/local/lib/python3.7/dist-packages (from nbformat>=4.2.0->ipywidgets>=7.5.0->bqplot) (2.6.0)\n",
            "Requirement already satisfied: six>=1.9.0 in /usr/local/lib/python3.7/dist-packages (from prompt-toolkit<2.0.0,>=1.0.4->ipython>=4.0.0->ipywidgets>=7.5.0->bqplot) (1.15.0)\n",
            "Requirement already satisfied: wcwidth in /usr/local/lib/python3.7/dist-packages (from prompt-toolkit<2.0.0,>=1.0.4->ipython>=4.0.0->ipywidgets>=7.5.0->bqplot) (0.2.5)\n",
            "Requirement already satisfied: notebook>=4.4.1 in /usr/local/lib/python3.7/dist-packages (from widgetsnbextension~=3.5.0->ipywidgets>=7.5.0->bqplot) (5.3.1)\n",
            "Requirement already satisfied: nbconvert in /usr/local/lib/python3.7/dist-packages (from notebook>=4.4.1->widgetsnbextension~=3.5.0->ipywidgets>=7.5.0->bqplot) (5.6.1)\n",
            "Requirement already satisfied: jinja2 in /usr/local/lib/python3.7/dist-packages (from notebook>=4.4.1->widgetsnbextension~=3.5.0->ipywidgets>=7.5.0->bqplot) (2.11.3)\n",
            "Requirement already satisfied: Send2Trash in /usr/local/lib/python3.7/dist-packages (from notebook>=4.4.1->widgetsnbextension~=3.5.0->ipywidgets>=7.5.0->bqplot) (1.8.0)\n",
            "Requirement already satisfied: terminado>=0.8.1 in /usr/local/lib/python3.7/dist-packages (from notebook>=4.4.1->widgetsnbextension~=3.5.0->ipywidgets>=7.5.0->bqplot) (0.12.1)\n",
            "Requirement already satisfied: pyzmq>=13 in /usr/local/lib/python3.7/dist-packages (from jupyter-client->ipykernel>=4.5.1->ipywidgets>=7.5.0->bqplot) (22.3.0)\n",
            "Requirement already satisfied: python-dateutil>=2.1 in /usr/local/lib/python3.7/dist-packages (from jupyter-client->ipykernel>=4.5.1->ipywidgets>=7.5.0->bqplot) (2.8.2)\n",
            "Requirement already satisfied: ptyprocess in /usr/local/lib/python3.7/dist-packages (from terminado>=0.8.1->notebook>=4.4.1->widgetsnbextension~=3.5.0->ipywidgets>=7.5.0->bqplot) (0.7.0)\n",
            "Requirement already satisfied: MarkupSafe>=0.23 in /usr/local/lib/python3.7/dist-packages (from jinja2->notebook>=4.4.1->widgetsnbextension~=3.5.0->ipywidgets>=7.5.0->bqplot) (2.0.1)\n",
            "Requirement already satisfied: bleach in /usr/local/lib/python3.7/dist-packages (from nbconvert->notebook>=4.4.1->widgetsnbextension~=3.5.0->ipywidgets>=7.5.0->bqplot) (4.1.0)\n",
            "Requirement already satisfied: entrypoints>=0.2.2 in /usr/local/lib/python3.7/dist-packages (from nbconvert->notebook>=4.4.1->widgetsnbextension~=3.5.0->ipywidgets>=7.5.0->bqplot) (0.3)\n",
            "Requirement already satisfied: mistune<2,>=0.8.1 in /usr/local/lib/python3.7/dist-packages (from nbconvert->notebook>=4.4.1->widgetsnbextension~=3.5.0->ipywidgets>=7.5.0->bqplot) (0.8.4)\n",
            "Requirement already satisfied: testpath in /usr/local/lib/python3.7/dist-packages (from nbconvert->notebook>=4.4.1->widgetsnbextension~=3.5.0->ipywidgets>=7.5.0->bqplot) (0.5.0)\n",
            "Requirement already satisfied: pandocfilters>=1.4.1 in /usr/local/lib/python3.7/dist-packages (from nbconvert->notebook>=4.4.1->widgetsnbextension~=3.5.0->ipywidgets>=7.5.0->bqplot) (1.5.0)\n",
            "Requirement already satisfied: defusedxml in /usr/local/lib/python3.7/dist-packages (from nbconvert->notebook>=4.4.1->widgetsnbextension~=3.5.0->ipywidgets>=7.5.0->bqplot) (0.7.1)\n",
            "Requirement already satisfied: packaging in /usr/local/lib/python3.7/dist-packages (from bleach->nbconvert->notebook>=4.4.1->widgetsnbextension~=3.5.0->ipywidgets>=7.5.0->bqplot) (21.0)\n",
            "Requirement already satisfied: webencodings in /usr/local/lib/python3.7/dist-packages (from bleach->nbconvert->notebook>=4.4.1->widgetsnbextension~=3.5.0->ipywidgets>=7.5.0->bqplot) (0.5.1)\n",
            "Requirement already satisfied: pyparsing>=2.0.2 in /usr/local/lib/python3.7/dist-packages (from packaging->bleach->nbconvert->notebook>=4.4.1->widgetsnbextension~=3.5.0->ipywidgets>=7.5.0->bqplot) (2.4.7)\n",
            "Requirement already satisfied: pytz>=2017.2 in /usr/local/lib/python3.7/dist-packages (from pandas->bqplot) (2018.9)\n",
            "Installing collected packages: traittypes, bqplot\n",
            "Successfully installed bqplot-0.12.30 traittypes-0.2.1\n"
          ]
        }
      ]
    },
    {
      "cell_type": "code",
      "metadata": {
        "id": "9Xyfyry_oHif",
        "colab": {
          "base_uri": "https://localhost:8080/"
        },
        "outputId": "71c96382-bf8c-44c7-9009-e68b8e2e6dd2"
      },
      "source": [
        "### Load relevant packages\n",
        "import pandas                  as pd\n",
        "from   scipy import stats\n",
        "import numpy                   as np\n",
        "import matplotlib.pyplot       as plt\n",
        "import seaborn                 as sns\n",
        "import statsmodels.formula.api as sm\n",
        "import chart_studio.plotly     as py\n",
        "# https://community.plot.ly/t/solved-update-to-plotly-4-0-0-broke-application/26526/2\n",
        "import os\n",
        "\n",
        "#%matplotlib inline\n",
        "#plt.style.use('ggplot')\n",
        "from bokeh.resources import INLINE\n",
        "import bokeh.io\n",
        "from bokeh import *\n",
        "bokeh.io.output_notebook(INLINE)"
      ],
      "execution_count": null,
      "outputs": [
        {
          "output_type": "stream",
          "name": "stderr",
          "text": [
            "/usr/local/lib/python3.7/dist-packages/statsmodels/tools/_testing.py:19: FutureWarning: pandas.util.testing is deprecated. Use the functions in the public API at pandas.testing instead.\n",
            "  import pandas.util.testing as tm\n"
          ]
        }
      ]
    },
    {
      "cell_type": "markdown",
      "metadata": {
        "id": "asX_-5A7oHil"
      },
      "source": [
        "## Objetivos(2 min)\n",
        "\n",
        "En este caso, estableceremos una comprensión básica de las estadísticas necesarias para la regresión lineal y luego introduciremos la regresión lineal comenzando con 2 parámetros. Esperamos que los estudiantes comprendan a fondo los componentes funcionales de un modelo de regresión lineal, como la interpretación de los coeficientes y la comprensión de varias métricas para evaluar adecuadamente el rendimiento del modelo."
      ]
    },
    {
      "cell_type": "markdown",
      "metadata": {
        "id": "bZm9IN9voHin"
      },
      "source": [
        "## Introducción(5 min)"
      ]
    },
    {
      "cell_type": "markdown",
      "metadata": {
        "id": "NN9yrtjZoHin"
      },
      "source": [
        "**Contexto empresarial**. Eres un científico de datos en una gran organización. Su empresa está pasando por una revisión interna de sus prácticas de contratación y compensación a los empleados. En los últimos años, su empresa ha tenido poco éxito en la conversión de candidatas de alta calidad que deseaba contratar. La gerencia plantea la hipótesis de que esto se debe a una posible discriminación salarial y quiere averiguar qué la está causando."
      ]
    },
    {
      "cell_type": "markdown",
      "metadata": {
        "id": "AaOz2F5doHio"
      },
      "source": [
        "**Problema empresarial** Como parte de la revisión interna, el departamento de recursos humanos se ha acercado a usted para investigar específicamente la siguiente pregunta: <b> \"En general, ¿se les paga más a los hombres que a las mujeres en su organización? Si es así, ¿qué conduciendo esta brecha? \""
      ]
    },
    {
      "cell_type": "markdown",
      "metadata": {
        "id": "MNFocargoHip"
      },
      "source": [
        "**Contexto analítico**. El departamento de recursos humanos le ha proporcionado una base de datos de empleados que contiene información sobre varios atributos como rendimiento, educación, ingresos, antigüedad, etc. Usaremos técnicas de regresión lineal en este conjunto de datos para resolver el problema comercial descrito anteriormente. Veremos cómo la regresión lineal cuantifica la correlación entre la variable dependiente (salario) y las variables independientes (por ejemplo, educación, ingresos, antigüedad, etc.)\n",
        "\n",
        "El caso está estructurado de la siguiente manera: (1) realizaremos un análisis de datos exploratorio para investigar visualmente las diferencias salariales; (2) utilizar los conocimientos observados para ajustar formalmente los modelos de regresión; y finalmente (3) abordar el tema de la discriminación salarial."
      ]
    },
    {
      "cell_type": "markdown",
      "metadata": {
        "id": "JUEv90kRoHiq"
      },
      "source": [
        "## Exploración de data (30 min)"
      ]
    },
    {
      "cell_type": "code",
      "metadata": {
        "colab": {
          "base_uri": "https://localhost:8080/"
        },
        "id": "AbbNtyTEoRum",
        "outputId": "9a9ce0fd-f03a-4dea-c496-aebb1abf2fac"
      },
      "source": [
        "from google.colab import drive\n",
        "import os\n",
        "drive.mount('/content/gdrive')\n",
        "# Establecer ruta de acceso en drive\n",
        "import os\n",
        "print(os.getcwd())\n",
        "os.chdir(\"/content/gdrive/My Drive\")"
      ],
      "execution_count": null,
      "outputs": [
        {
          "output_type": "stream",
          "text": [
            "Mounted at /content/gdrive\n",
            "/content\n"
          ],
          "name": "stdout"
        }
      ]
    },
    {
      "cell_type": "code",
      "metadata": {
        "colab": {
          "base_uri": "https://localhost:8080/"
        },
        "id": "A22sZbNdoXI7",
        "outputId": "2eb8c839-495a-4482-b45c-ee61c9e65b2e"
      },
      "source": [
        "%cd '/content/gdrive/MyDrive/Bootcamp SENA 2021/Semana 9/'"
      ],
      "execution_count": null,
      "outputs": [
        {
          "output_type": "stream",
          "text": [
            "/content/gdrive/MyDrive/Bootcamp SENA 2021/Semana 9\n"
          ],
          "name": "stdout"
        }
      ]
    },
    {
      "cell_type": "code",
      "metadata": {
        "id": "W-ouWV0NoHiq"
      },
      "source": [
        "Data = pd.read_csv('glassdoordata.csv')"
      ],
      "execution_count": null,
      "outputs": []
    },
    {
      "cell_type": "code",
      "metadata": {
        "colab": {
          "base_uri": "https://localhost:8080/",
          "height": 202
        },
        "id": "avJmGwoFoHir",
        "outputId": "5383e1b4-7546-4def-9c09-c89fe462b3d8"
      },
      "source": [
        "Data.head()"
      ],
      "execution_count": null,
      "outputs": [
        {
          "output_type": "execute_result",
          "data": {
            "text/html": [
              "<div>\n",
              "<style scoped>\n",
              "    .dataframe tbody tr th:only-of-type {\n",
              "        vertical-align: middle;\n",
              "    }\n",
              "\n",
              "    .dataframe tbody tr th {\n",
              "        vertical-align: top;\n",
              "    }\n",
              "\n",
              "    .dataframe thead th {\n",
              "        text-align: right;\n",
              "    }\n",
              "</style>\n",
              "<table border=\"1\" class=\"dataframe\">\n",
              "  <thead>\n",
              "    <tr style=\"text-align: right;\">\n",
              "      <th></th>\n",
              "      <th>jobtitle</th>\n",
              "      <th>gender</th>\n",
              "      <th>age</th>\n",
              "      <th>performance</th>\n",
              "      <th>education</th>\n",
              "      <th>department</th>\n",
              "      <th>seniority</th>\n",
              "      <th>income</th>\n",
              "      <th>bonus</th>\n",
              "    </tr>\n",
              "  </thead>\n",
              "  <tbody>\n",
              "    <tr>\n",
              "      <th>0</th>\n",
              "      <td>Graphic Designer</td>\n",
              "      <td>Female</td>\n",
              "      <td>18</td>\n",
              "      <td>5</td>\n",
              "      <td>College</td>\n",
              "      <td>Operations</td>\n",
              "      <td>2</td>\n",
              "      <td>42363</td>\n",
              "      <td>9938</td>\n",
              "    </tr>\n",
              "    <tr>\n",
              "      <th>1</th>\n",
              "      <td>Software Engineer</td>\n",
              "      <td>Male</td>\n",
              "      <td>21</td>\n",
              "      <td>5</td>\n",
              "      <td>College</td>\n",
              "      <td>Management</td>\n",
              "      <td>5</td>\n",
              "      <td>108476</td>\n",
              "      <td>11128</td>\n",
              "    </tr>\n",
              "    <tr>\n",
              "      <th>2</th>\n",
              "      <td>Warehouse Associate</td>\n",
              "      <td>Female</td>\n",
              "      <td>19</td>\n",
              "      <td>4</td>\n",
              "      <td>PhD</td>\n",
              "      <td>Administration</td>\n",
              "      <td>5</td>\n",
              "      <td>90208</td>\n",
              "      <td>9268</td>\n",
              "    </tr>\n",
              "    <tr>\n",
              "      <th>3</th>\n",
              "      <td>Software Engineer</td>\n",
              "      <td>Male</td>\n",
              "      <td>20</td>\n",
              "      <td>5</td>\n",
              "      <td>Masters</td>\n",
              "      <td>Sales</td>\n",
              "      <td>4</td>\n",
              "      <td>108080</td>\n",
              "      <td>10154</td>\n",
              "    </tr>\n",
              "    <tr>\n",
              "      <th>4</th>\n",
              "      <td>Graphic Designer</td>\n",
              "      <td>Male</td>\n",
              "      <td>26</td>\n",
              "      <td>5</td>\n",
              "      <td>Masters</td>\n",
              "      <td>Engineering</td>\n",
              "      <td>5</td>\n",
              "      <td>99464</td>\n",
              "      <td>9319</td>\n",
              "    </tr>\n",
              "  </tbody>\n",
              "</table>\n",
              "</div>"
            ],
            "text/plain": [
              "              jobtitle  gender  age  ...  seniority  income  bonus\n",
              "0     Graphic Designer  Female   18  ...          2   42363   9938\n",
              "1    Software Engineer    Male   21  ...          5  108476  11128\n",
              "2  Warehouse Associate  Female   19  ...          5   90208   9268\n",
              "3    Software Engineer    Male   20  ...          4  108080  10154\n",
              "4     Graphic Designer    Male   26  ...          5   99464   9319\n",
              "\n",
              "[5 rows x 9 columns]"
            ]
          },
          "metadata": {},
          "execution_count": 5
        }
      ]
    },
    {
      "cell_type": "code",
      "metadata": {
        "colab": {
          "base_uri": "https://localhost:8080/"
        },
        "id": "IzrfsaeEoHir",
        "outputId": "227b892d-76cc-435a-f86e-96dbe6869799"
      },
      "source": [
        "Data.shape"
      ],
      "execution_count": null,
      "outputs": [
        {
          "output_type": "execute_result",
          "data": {
            "text/plain": [
              "(1000, 9)"
            ]
          },
          "metadata": {
            "tags": []
          },
          "execution_count": 10
        }
      ]
    },
    {
      "cell_type": "markdown",
      "metadata": {
        "id": "MgGJHvyvoHis"
      },
      "source": [
        "Las variables disponibles son:\n",
        "* **job title**: el título del trabajo (por ejemplo, \"Diseñador gráfico\", \"Ingeniero de software\", etc.);\n",
        "* **gender**: hombre o mujer;\n",
        "* **age**: edad;\n",
        "* **performance**: en una escala del 1 al 5, siendo 1 el más bajo y 5 el más alto;\n",
        "* **education**: diferentes niveles de educación (por ejemplo, \"Universidad\", \"Doctorado\", \"Maestría\", \"Escuela secundaria\");\n",
        "* **department**: diferentes departamentos de la organización (por ejemplo, \"Operaciones\", \"Gestión\", etc.);\n",
        "* **seniority**: en una escala de 1 a 5, siendo 1 la más baja y 5 la más alta;\n",
        "* **income, bonus**: ambos expresados en dólares"
      ]
    },
    {
      "cell_type": "markdown",
      "metadata": {
        "id": "4pz9X2W1oHis"
      },
      "source": [
        "Como estamos interesados en la compensación total, creemos una nueva columna llamada <code>pay</code>:"
      ]
    },
    {
      "cell_type": "code",
      "metadata": {
        "id": "zGdNvgChoHit"
      },
      "source": [
        "Data['pay'] = Data['income'] + Data['bonus']"
      ],
      "execution_count": null,
      "outputs": []
    },
    {
      "cell_type": "code",
      "metadata": {
        "colab": {
          "base_uri": "https://localhost:8080/",
          "height": 309
        },
        "id": "WzlrgU2ToHit",
        "outputId": "7f9585d5-5ae6-4beb-84b2-1eae1ab5df79"
      },
      "source": [
        "Data.head()"
      ],
      "execution_count": null,
      "outputs": [
        {
          "output_type": "execute_result",
          "data": {
            "text/html": [
              "<div>\n",
              "<style scoped>\n",
              "    .dataframe tbody tr th:only-of-type {\n",
              "        vertical-align: middle;\n",
              "    }\n",
              "\n",
              "    .dataframe tbody tr th {\n",
              "        vertical-align: top;\n",
              "    }\n",
              "\n",
              "    .dataframe thead th {\n",
              "        text-align: right;\n",
              "    }\n",
              "</style>\n",
              "<table border=\"1\" class=\"dataframe\">\n",
              "  <thead>\n",
              "    <tr style=\"text-align: right;\">\n",
              "      <th></th>\n",
              "      <th>jobtitle</th>\n",
              "      <th>gender</th>\n",
              "      <th>age</th>\n",
              "      <th>performance</th>\n",
              "      <th>education</th>\n",
              "      <th>department</th>\n",
              "      <th>seniority</th>\n",
              "      <th>income</th>\n",
              "      <th>bonus</th>\n",
              "      <th>pay</th>\n",
              "    </tr>\n",
              "  </thead>\n",
              "  <tbody>\n",
              "    <tr>\n",
              "      <th>0</th>\n",
              "      <td>Graphic Designer</td>\n",
              "      <td>Female</td>\n",
              "      <td>18</td>\n",
              "      <td>5</td>\n",
              "      <td>College</td>\n",
              "      <td>Operations</td>\n",
              "      <td>2</td>\n",
              "      <td>42363</td>\n",
              "      <td>9938</td>\n",
              "      <td>52301</td>\n",
              "    </tr>\n",
              "    <tr>\n",
              "      <th>1</th>\n",
              "      <td>Software Engineer</td>\n",
              "      <td>Male</td>\n",
              "      <td>21</td>\n",
              "      <td>5</td>\n",
              "      <td>College</td>\n",
              "      <td>Management</td>\n",
              "      <td>5</td>\n",
              "      <td>108476</td>\n",
              "      <td>11128</td>\n",
              "      <td>119604</td>\n",
              "    </tr>\n",
              "    <tr>\n",
              "      <th>2</th>\n",
              "      <td>Warehouse Associate</td>\n",
              "      <td>Female</td>\n",
              "      <td>19</td>\n",
              "      <td>4</td>\n",
              "      <td>PhD</td>\n",
              "      <td>Administration</td>\n",
              "      <td>5</td>\n",
              "      <td>90208</td>\n",
              "      <td>9268</td>\n",
              "      <td>99476</td>\n",
              "    </tr>\n",
              "    <tr>\n",
              "      <th>3</th>\n",
              "      <td>Software Engineer</td>\n",
              "      <td>Male</td>\n",
              "      <td>20</td>\n",
              "      <td>5</td>\n",
              "      <td>Masters</td>\n",
              "      <td>Sales</td>\n",
              "      <td>4</td>\n",
              "      <td>108080</td>\n",
              "      <td>10154</td>\n",
              "      <td>118234</td>\n",
              "    </tr>\n",
              "    <tr>\n",
              "      <th>4</th>\n",
              "      <td>Graphic Designer</td>\n",
              "      <td>Male</td>\n",
              "      <td>26</td>\n",
              "      <td>5</td>\n",
              "      <td>Masters</td>\n",
              "      <td>Engineering</td>\n",
              "      <td>5</td>\n",
              "      <td>99464</td>\n",
              "      <td>9319</td>\n",
              "      <td>108783</td>\n",
              "    </tr>\n",
              "  </tbody>\n",
              "</table>\n",
              "</div>"
            ],
            "text/plain": [
              "              jobtitle  gender  age  ...  income  bonus     pay\n",
              "0     Graphic Designer  Female   18  ...   42363   9938   52301\n",
              "1    Software Engineer    Male   21  ...  108476  11128  119604\n",
              "2  Warehouse Associate  Female   19  ...   90208   9268   99476\n",
              "3    Software Engineer    Male   20  ...  108080  10154  118234\n",
              "4     Graphic Designer    Male   26  ...   99464   9319  108783\n",
              "\n",
              "[5 rows x 10 columns]"
            ]
          },
          "metadata": {},
          "execution_count": 7
        }
      ]
    },
    {
      "cell_type": "markdown",
      "metadata": {
        "id": "yt0LB8zIoHit"
      },
      "source": [
        "###  Ejercicio 1: (15 min)\n",
        "\n",
        "#### 1.1 (2 min)\n",
        "\n",
        "Construya una gráfica de caja comparando el salario entre hombres y mujeres. ¿Qué puedes concluir?"
      ]
    },
    {
      "cell_type": "code",
      "metadata": {
        "colab": {
          "base_uri": "https://localhost:8080/",
          "height": 295
        },
        "id": "wYIipcY-oHit",
        "outputId": "a6af3259-084e-44ee-f118-d8ae6301c8b4"
      },
      "source": [
        "#grafica por genero \n",
        "sns.boxplot(x='gender', y = 'pay', data = Data) \n",
        "#Data.boxplot(grid= False, column = ['pay'], by = ['gender'])\n",
        "plt.title(\"Pay vs Gender\");\n",
        "#el valor de las cajitas es la mediana"
      ],
      "execution_count": null,
      "outputs": [
        {
          "output_type": "display_data",
          "data": {
            "image/png": "[encoded data removed]",
            "text/plain": [
              "<Figure size 432x288 with 1 Axes>"
            ]
          },
          "metadata": {
            "needs_background": "light"
          }
        }
      ]
    },
    {
      "cell_type": "markdown",
      "metadata": {
        "id": "jUik6ZZhoHiu"
      },
      "source": [
        "**Respuesta**. La mediana de hombres es mayor que la mediana para mujeres"
      ]
    },
    {
      "cell_type": "markdown",
      "metadata": {
        "id": "eXVhrkkKoHiu"
      },
      "source": [
        "#### 1.2 (3 min)\n",
        "\n",
        "Realice una[$t$-prueba](https://www.statisticshowto.datasciencecentral.com/probability-and-statistics/t-test/) sobre la diferencia en el salario promedio entre hombres y mujeres. ¿Qué puedes concluir?"
      ]
    },
    {
      "cell_type": "code",
      "metadata": {
        "colab": {
          "base_uri": "https://localhost:8080/"
        },
        "id": "tibPOVkToHiu",
        "outputId": "103c9555-e8a4-4fdc-98ff-b4f4802dfd65"
      },
      "source": [
        "Data.loc[Data['gender'] == 'Female', 'pay']"
      ],
      "execution_count": null,
      "outputs": [
        {
          "output_type": "execute_result",
          "data": {
            "text/plain": [
              "0       52301\n",
              "2       99476\n",
              "5       81016\n",
              "6       78126\n",
              "8      122812\n",
              "        ...  \n",
              "991    108986\n",
              "992     84963\n",
              "993     82673\n",
              "994     88030\n",
              "995     65914\n",
              "Name: pay, Length: 468, dtype: int64"
            ]
          },
          "metadata": {},
          "execution_count": 9
        }
      ]
    },
    {
      "cell_type": "code",
      "metadata": {
        "colab": {
          "base_uri": "https://localhost:8080/"
        },
        "id": "Ju5nbg5uoHiv",
        "outputId": "4980458a-0edd-4a19-ccfa-9590122c9883"
      },
      "source": [
        "## A simple t test for difference of means\n",
        "t2, p2 = stats.ttest_ind(Data.loc[Data['gender'] == 'Male', 'pay'],Data.loc[Data['gender'] == 'Female', 'pay'])\n",
        "print(\"t = \" + str(t2))\n",
        "print(\"p = \" + str(p2))\n",
        "#se comparan los valores frente al valor de significancia 0.05"
      ],
      "execution_count": null,
      "outputs": [
        {
          "output_type": "stream",
          "name": "stdout",
          "text": [
            "t = 5.407461816876623\n",
            "p = 8.000016978237565e-08\n"
          ]
        }
      ]
    },
    {
      "cell_type": "markdown",
      "metadata": {
        "id": "M2bxDkJJoHiv"
      },
      "source": [
        "**Respuesta**.  Existe una diferencia estadísticamente significativa entre el salario de hombres y mujeres. El valor de $ p $ es mucho menor que 0.05."
      ]
    },
    {
      "cell_type": "markdown",
      "metadata": {
        "id": "KLOJ4nv0oHiv"
      },
      "source": [
        "#### 1.3 (10 min)\n",
        "Construya un [boxplot](https://www.statisticshowto.datasciencecentral.com/probability-and-statistics/descriptive-statistics/box-plot/) de pago, con respecto a los siguientes atributos: antigüedad, educación, título de trabajo y desempeño . También haga un diagrama de dispersión de salario versus edad. ¿Qué patrones observas?"
      ]
    },
    {
      "cell_type": "code",
      "metadata": {
        "colab": {
          "base_uri": "https://localhost:8080/"
        },
        "id": "A2k_IIbroHiw",
        "outputId": "69eb1b17-d343-4f7a-cfbf-9e88a3f317d1"
      },
      "source": [
        "Data.groupby('gender')['pay'].mean()"
      ],
      "execution_count": null,
      "outputs": [
        {
          "output_type": "execute_result",
          "data": {
            "text/plain": [
              "gender\n",
              "Female     96416.831197\n",
              "Male      104918.678571\n",
              "Name: pay, dtype: float64"
            ]
          },
          "metadata": {},
          "execution_count": 11
        }
      ]
    },
    {
      "cell_type": "code",
      "metadata": {
        "colab": {
          "base_uri": "https://localhost:8080/"
        },
        "id": "HEu6c2fyoHiw",
        "outputId": "08f1a51c-b668-468e-9449-558b23e1c15a"
      },
      "source": [
        "#Let us compute the average pay for men vs. women.\n",
        "pay_by_gender = Data.groupby('gender')['pay']\n",
        "pay_by_gender.mean()"
      ],
      "execution_count": null,
      "outputs": [
        {
          "output_type": "execute_result",
          "data": {
            "text/plain": [
              "gender\n",
              "Female     96416.831197\n",
              "Male      104918.678571\n",
              "Name: pay, dtype: float64"
            ]
          },
          "metadata": {},
          "execution_count": 12
        }
      ]
    },
    {
      "cell_type": "code",
      "metadata": {
        "colab": {
          "base_uri": "https://localhost:8080/"
        },
        "id": "sX_Kl54SoHix",
        "outputId": "3bd26868-1ba4-4180-af53-c6c4308b4c69"
      },
      "source": [
        "pay_by_gender.mean()['Male'] - pay_by_gender.mean()['Female']"
      ],
      "execution_count": null,
      "outputs": [
        {
          "output_type": "execute_result",
          "data": {
            "text/plain": [
              "8501.847374847363"
            ]
          },
          "metadata": {},
          "execution_count": 13
        }
      ]
    },
    {
      "cell_type": "code",
      "metadata": {
        "scrolled": true,
        "colab": {
          "base_uri": "https://localhost:8080/",
          "height": 304
        },
        "id": "jq42UEOloHix",
        "outputId": "177c3a7a-6e4d-433b-d97f-d7b9a06ae48a"
      },
      "source": [
        "plt.scatter(Data['age'],Data['pay'])\n",
        "plt.title(\"Pay vs. Age\", fontsize=20, verticalalignment='bottom');\n",
        "plt.xlabel(\"Age\");\n",
        "plt.ylabel(\"Pay\");"
      ],
      "execution_count": null,
      "outputs": [
        {
          "output_type": "display_data",
          "data": {
            "image/png": "[encoded data removed]",
            "text/plain": [
              "<Figure size 432x288 with 1 Axes>"
            ]
          },
          "metadata": {
            "needs_background": "light"
          }
        }
      ]
    },
    {
      "cell_type": "code",
      "metadata": {
        "colab": {
          "base_uri": "https://localhost:8080/",
          "height": 304
        },
        "id": "VGNjzrL3oHix",
        "outputId": "a394e4eb-184b-4155-ca36-782f6a10caf9"
      },
      "source": [
        "sns.boxplot(x='education', y = 'pay', data = Data) \n",
        "plt.title(\"Pay vs. Education\", fontsize=20, verticalalignment='bottom');"
      ],
      "execution_count": null,
      "outputs": [
        {
          "output_type": "display_data",
          "data": {
            "image/png": "[encoded data removed]",
            "text/plain": [
              "<Figure size 432x288 with 1 Axes>"
            ]
          },
          "metadata": {
            "needs_background": "light"
          }
        }
      ]
    },
    {
      "cell_type": "code",
      "metadata": {
        "colab": {
          "base_uri": "https://localhost:8080/",
          "height": 304
        },
        "id": "bCS9jh9QoHiy",
        "outputId": "0c62f14c-8506-4005-fd92-d5dec7406223"
      },
      "source": [
        "sns.boxplot(x='seniority', y = 'pay', data = Data) \n",
        "plt.title(\"Pay vs. Seniority\", fontsize=20, verticalalignment='bottom');"
      ],
      "execution_count": null,
      "outputs": [
        {
          "output_type": "display_data",
          "data": {
            "image/png": "[encoded data removed]",
            "text/plain": [
              "<Figure size 432x288 with 1 Axes>"
            ]
          },
          "metadata": {
            "needs_background": "light"
          }
        }
      ]
    },
    {
      "cell_type": "code",
      "metadata": {
        "colab": {
          "base_uri": "https://localhost:8080/",
          "height": 304
        },
        "id": "7w8_MAQKoHiy",
        "outputId": "539303ef-22cd-4062-c924-6e6aac6bd999"
      },
      "source": [
        "sns.boxplot(x='performance', y = 'pay', data = Data) \n",
        "plt.title(\"Pay vs. Performance\", fontsize=20, verticalalignment='bottom');"
      ],
      "execution_count": null,
      "outputs": [
        {
          "output_type": "display_data",
          "data": {
            "image/png": "[encoded data removed]",
            "text/plain": [
              "<Figure size 432x288 with 1 Axes>"
            ]
          },
          "metadata": {
            "needs_background": "light"
          }
        }
      ]
    },
    {
      "cell_type": "code",
      "metadata": {
        "colab": {
          "base_uri": "https://localhost:8080/",
          "height": 401
        },
        "id": "YgW1hQZDoHiy",
        "outputId": "554ab7aa-94f4-41e0-c67d-097ba23af623"
      },
      "source": [
        "sns.boxplot(x='jobtitle', y = 'pay', data = Data) \n",
        "plt.title(\"Pay vs. Jobtitle\", fontsize=20, verticalalignment='bottom')\n",
        "plt.xticks(rotation=90);"
      ],
      "execution_count": null,
      "outputs": [
        {
          "output_type": "display_data",
          "data": {
            "image/png": "[encoded data removed]",
            "text/plain": [
              "<Figure size 432x288 with 1 Axes>"
            ]
          },
          "metadata": {
            "needs_background": "light"
          }
        }
      ]
    },
    {
      "cell_type": "markdown",
      "metadata": {
        "id": "v9IMulGloHiz"
      },
      "source": [
        "***Respuesta:*** Existe una variación significativa de salario en algunos de los atributos. El pago aumenta con la antigüedad. Entre los títulos de trabajo, los gerentes reciben un salario relativamente alto en promedio. A los asociados de marketing se les paga mucho menos. El pago frente a la educación es similar para todas las categorías, excepto para las personas que solo tienen educación secundaria. Se les paga en promedio mucho menos. Existe una relación lineal entre salario y edad."
      ]
    },
    {
      "cell_type": "markdown",
      "metadata": {
        "id": "aMC1fFEioHiz"
      },
      "source": [
        "### Ejercicio 2: (10 min)\n",
        "\n",
        "Ahora, hagamos las mismas gráficas que en el ejercicio 1.3, pero además diferenciemos por género. ¿Qué patrones observas?"
      ]
    },
    {
      "cell_type": "code",
      "metadata": {
        "colab": {
          "base_uri": "https://localhost:8080/",
          "height": 304
        },
        "id": "OmEJKQlGoHi0",
        "outputId": "f1e178f3-0a33-4ed6-8723-bb10e37b8e66"
      },
      "source": [
        "sns.boxplot(x='education', y = 'pay', hue = 'gender', data = Data) \n",
        "plt.title(\"Pay vs. Education\", fontsize=20, verticalalignment='bottom');"
      ],
      "execution_count": null,
      "outputs": [
        {
          "output_type": "display_data",
          "data": {
            "image/png": "[encoded data removed]",
            "text/plain": [
              "<Figure size 432x288 with 1 Axes>"
            ]
          },
          "metadata": {
            "needs_background": "light"
          }
        }
      ]
    },
    {
      "cell_type": "code",
      "metadata": {
        "colab": {
          "base_uri": "https://localhost:8080/",
          "height": 304
        },
        "id": "0OSb1P4PoHi0",
        "outputId": "5ced507b-f551-43fe-b884-b037120983bc"
      },
      "source": [
        "sns.boxplot(x='seniority', y = 'pay', hue = 'gender', data = Data) \n",
        "plt.title(\"Pay vs. Seniority\", fontsize=20, verticalalignment='bottom');"
      ],
      "execution_count": null,
      "outputs": [
        {
          "output_type": "display_data",
          "data": {
            "image/png": "[encoded data removed]",
            "text/plain": [
              "<Figure size 432x288 with 1 Axes>"
            ]
          },
          "metadata": {
            "needs_background": "light"
          }
        }
      ]
    },
    {
      "cell_type": "code",
      "metadata": {
        "colab": {
          "base_uri": "https://localhost:8080/",
          "height": 304
        },
        "id": "cFPmzI6aoHi0",
        "outputId": "d873b914-51a0-4f7f-a9ef-f6225307f17a"
      },
      "source": [
        "sns.boxplot(x='performance', y = 'pay', hue = 'gender', data = Data) \n",
        "plt.title(\"Pay vs. Performance\", fontsize=20, verticalalignment='bottom');"
      ],
      "execution_count": null,
      "outputs": [
        {
          "output_type": "display_data",
          "data": {
            "image/png": "[encoded data removed]",
            "text/plain": [
              "<Figure size 432x288 with 1 Axes>"
            ]
          },
          "metadata": {
            "needs_background": "light"
          }
        }
      ]
    },
    {
      "cell_type": "code",
      "metadata": {
        "colab": {
          "base_uri": "https://localhost:8080/",
          "height": 401
        },
        "id": "sV7N_AupoHi1",
        "outputId": "75768b59-a0f9-4f22-b80c-fc51d63ab20e"
      },
      "source": [
        "sns.boxplot(x='jobtitle', y = 'pay', hue = 'gender',data = Data) \n",
        "plt.title(\"Pay vs. Jobtitle\", fontsize=20, verticalalignment='bottom')\n",
        "plt.xticks(rotation=90);"
      ],
      "execution_count": null,
      "outputs": [
        {
          "output_type": "display_data",
          "data": {
            "image/png": "[encoded data removed]",
            "text/plain": [
              "<Figure size 432x288 with 1 Axes>"
            ]
          },
          "metadata": {
            "needs_background": "light"
          }
        }
      ]
    },
    {
      "cell_type": "markdown",
      "metadata": {
        "id": "_MfRL6-SoHi1"
      },
      "source": [
        "**Respuesta**. Existe una gran variación de salario en varias categorías (como antigüedad, desempeño, título de trabajo, etc.). Dentro de cada categoría, existe alguna diferencia entre el salario de hombres y mujeres, pero no tanto como entre categorías."
      ]
    },
    {
      "cell_type": "markdown",
      "metadata": {
        "id": "dETQalgToHi1"
      },
      "source": [
        "### Ejercicio 3: (5 min)\n",
        "\n",
        "Considere las siguientes declaraciones:\n",
        "\n",
        "I. Según el diagrama de caja y la tabla, el salario promedio de los hombres es 8500 USD más que el de las mujeres en esta organización.\n",
        "\n",
        "II. A los hombres se les paga significativamente más que a las mujeres debido únicamente a las diferencias de género.\n",
        "\n",
        "¿Cuál de las siguientes conclusiones sobre estas afirmaciones es correcta?\n",
        "\n",
        "a. Ambas declaraciones I y II son correctas.\n",
        "\n",
        "b. La declaración I es correcta, pero la declaración II no.\n",
        "\n",
        "c. La declaración I no es correcta, pero la declaración II sí lo es.\n",
        "\n",
        "d. Ambas declaraciones I y II son incorrectas.\n",
        "\n",
        "**Respuesta**. La declaración I es verdadera tal como lo muestran las tablas y el diagrama. Sin embargo, no podemos concluir que la Declaración II sea correcta. Esto se debe a que puede haber otros factores que contribuyan a un salario más alto para los hombres. Por ejemplo, los hombres en este conjunto de datos podrían estar todos en puestos de alto nivel, mientras que la mayoría de las mujeres en puestos de menor rango. El pago generalmente aumenta con la antigüedad. Por lo tanto, si no tomamos en cuenta la antigüedad al calcular la brecha salarial, podríamos estar comparando manzanas con naranjas."
      ]
    },
    {
      "cell_type": "markdown",
      "metadata": {
        "id": "vlir8JjhoHi2"
      },
      "source": [
        "## Que variables influencian en el pago? (10 min)\n",
        "\n",
        "<p> Como discutimos en el ejercicio 3 y también vimos en la exploración de datos, aunque existe una brecha salarial significativa entre los géneros, también hay algunos otros factores en juego que están impulsando esta diferencia. Por lo tanto, ignorar estos factores al abordar la discriminación salarial podría llevar a conclusiones erróneas o engañosas sobre cómo abordar el problema. </p>\n",
        "\n",
        "<p> ¿Cómo tenemos en cuenta la influencia de las otras variables en el salario? ¿Cuáles son estas variables?\n",
        "Un buen lugar para comenzar es inspirarse en nuestro análisis de datos exploratorio anterior. La única variable numérica en este conjunto de datos es la edad, así que comencemos con un diagrama de dispersión de salario frente a edad: </p>"
      ]
    },
    {
      "cell_type": "code",
      "metadata": {
        "scrolled": true,
        "colab": {
          "base_uri": "https://localhost:8080/",
          "height": 304
        },
        "id": "z4s3e3U8oHi2",
        "outputId": "2ff8e292-19ab-4c07-d6d7-78ed51c02cdc"
      },
      "source": [
        "plt.scatter(Data['age'],Data['pay'])\n",
        "plt.title(\"Pay vs. Age\", fontsize=20, verticalalignment='bottom')\n",
        "plt.xlabel(\"Age\")\n",
        "plt.ylabel(\"Pay\");"
      ],
      "execution_count": null,
      "outputs": [
        {
          "output_type": "display_data",
          "data": {
            "image/png": "[encoded data removed]",
            "text/plain": [
              "<Figure size 432x288 with 1 Axes>"
            ]
          },
          "metadata": {
            "needs_background": "light"
          }
        }
      ]
    },
    {
      "cell_type": "markdown",
      "metadata": {
        "id": "13ma0pnSoHi3"
      },
      "source": [
        "### Correlacion para medidas de relacion lineal entre dos variables\n",
        "Vemos una relación lineal entre salario y edad. El salario parece estar <b> correlacionado </b> positivamente con la edad; es decir, cuanto mayor es una persona, más tienden a cobrar. Por lo tanto, podría ser que haya más hombres en nuestro conjunto de datos que sean mayores y la diferencia salarial entre hombres y mujeres que vemos podría ser una consecuencia de esto. La <b> correlación </b> cuantitativa mide qué tan lineal es la relación entre dos variables. Adivina la correlación entre salario y edad."
      ]
    },
    {
      "cell_type": "markdown",
      "metadata": {
        "id": "-U3c95cfoHi4"
      },
      "source": [
        "### Estimar la correlacion (5 min)"
      ]
    },
    {
      "cell_type": "markdown",
      "metadata": {
        "id": "22eWBHFfoHi4"
      },
      "source": [
        "Para entrar en calor sobre el concepto de correlación, aquí hay algunos escenarios simulados. En cada uno de estos casos, adivine la correlación:"
      ]
    },
    {
      "cell_type": "code",
      "metadata": {
        "colab": {
          "base_uri": "https://localhost:8080/",
          "height": 551
        },
        "id": "OKGpBOdXoHi4",
        "outputId": "dedbccde-26a3-4a95-f08c-81acd162f89d"
      },
      "source": [
        "plt.figure(figsize=(12,10))\n",
        "rho = [0.999, -0.999, 0.5, -0.7,0.001,-0.3]\n",
        "cor_list = []\n",
        "np.random.seed(10)\n",
        "for i, r in enumerate(rho):\n",
        "    plt.subplot(2,3,i+1)\n",
        "    mean, cov = [4, 6], [(1, r), (r, 1)]\n",
        "    x, y = np.random.multivariate_normal(mean, cov, 150).T\n",
        "    ax = sns.scatterplot(x=x, y=y, color=\"g\")\n",
        "    cor_list.append(np.corrcoef(x,y)[0,1])\n",
        "    plt.xlabel(\"x\")\n",
        "    plt.ylabel(\"y\")\n",
        "    plt.title(\"Adivina la correlacion\")"
      ],
      "execution_count": null,
      "outputs": [
        {
          "output_type": "display_data",
          "data": {
            "image/png": "[encoded data removed]",
            "text/plain": [
              "<Figure size 864x720 with 6 Axes>"
            ]
          },
          "metadata": {
            "needs_background": "light"
          }
        }
      ]
    },
    {
      "cell_type": "code",
      "metadata": {
        "colab": {
          "base_uri": "https://localhost:8080/"
        },
        "id": "hUTEyAJBoHi5",
        "outputId": "7ab1b6cb-1e4a-4a20-c40f-0baf92d5b901"
      },
      "source": [
        "cor_list"
      ],
      "execution_count": null,
      "outputs": [
        {
          "output_type": "execute_result",
          "data": {
            "text/plain": [
              "[0.9990081442281228,\n",
              " -0.9992506121564401,\n",
              " 0.5047051300834758,\n",
              " -0.722898221972322,\n",
              " -0.040411257687132,\n",
              " -0.3208318426338665]"
            ]
          },
          "metadata": {},
          "execution_count": 25
        }
      ]
    },
    {
      "cell_type": "markdown",
      "metadata": {
        "id": "GF9wXYc8oHi5"
      },
      "source": [
        "### Pregunta:\n",
        "\n",
        "Si la correlación entre dos variables es cero, entonces las dos variables no están relacionadas. ¿Es esto verdadero o falso?"
      ]
    },
    {
      "cell_type": "markdown",
      "metadata": {
        "id": "cZMj5b17oHi6"
      },
      "source": [
        "**Respuesta**. Eso es falso. Puede haber relaciones no lineales entre las variables, y es posible que no se capturen mediante la correlación, que es una medida lineal. En tales casos, se requieren modelos avanzados que capturen relaciones no lineales."
      ]
    },
    {
      "cell_type": "markdown",
      "metadata": {
        "id": "R43F_dhBoHi6"
      },
      "source": [
        "### Matriz de correlación (5 min)\n",
        "\n",
        "Para encontrar las variables que tienen la mayor influencia en el salario, podemos calcular una <b> matriz de correlación </b> que mide las correlaciones por pares entre dos variables cualesquiera:"
      ]
    },
    {
      "cell_type": "code",
      "metadata": {
        "colab": {
          "base_uri": "https://localhost:8080/",
          "height": 173
        },
        "id": "O8LjXmBHoHi6",
        "outputId": "b88894ba-8d34-4704-d5a6-4442a13557bd"
      },
      "source": [
        "corr_mat  = Data[['pay', 'age', 'seniority','performance']].corr()\n",
        "corr_mat"
      ],
      "execution_count": null,
      "outputs": [
        {
          "output_type": "execute_result",
          "data": {
            "text/html": [
              "<div>\n",
              "<style scoped>\n",
              "    .dataframe tbody tr th:only-of-type {\n",
              "        vertical-align: middle;\n",
              "    }\n",
              "\n",
              "    .dataframe tbody tr th {\n",
              "        vertical-align: top;\n",
              "    }\n",
              "\n",
              "    .dataframe thead th {\n",
              "        text-align: right;\n",
              "    }\n",
              "</style>\n",
              "<table border=\"1\" class=\"dataframe\">\n",
              "  <thead>\n",
              "    <tr style=\"text-align: right;\">\n",
              "      <th></th>\n",
              "      <th>pay</th>\n",
              "      <th>age</th>\n",
              "      <th>seniority</th>\n",
              "      <th>performance</th>\n",
              "    </tr>\n",
              "  </thead>\n",
              "  <tbody>\n",
              "    <tr>\n",
              "      <th>pay</th>\n",
              "      <td>1.000000</td>\n",
              "      <td>0.533715</td>\n",
              "      <td>0.530307</td>\n",
              "      <td>0.014155</td>\n",
              "    </tr>\n",
              "    <tr>\n",
              "      <th>age</th>\n",
              "      <td>0.533715</td>\n",
              "      <td>1.000000</td>\n",
              "      <td>-0.021414</td>\n",
              "      <td>-0.056875</td>\n",
              "    </tr>\n",
              "    <tr>\n",
              "      <th>seniority</th>\n",
              "      <td>0.530307</td>\n",
              "      <td>-0.021414</td>\n",
              "      <td>1.000000</td>\n",
              "      <td>-0.021127</td>\n",
              "    </tr>\n",
              "    <tr>\n",
              "      <th>performance</th>\n",
              "      <td>0.014155</td>\n",
              "      <td>-0.056875</td>\n",
              "      <td>-0.021127</td>\n",
              "      <td>1.000000</td>\n",
              "    </tr>\n",
              "  </tbody>\n",
              "</table>\n",
              "</div>"
            ],
            "text/plain": [
              "                  pay       age  seniority  performance\n",
              "pay          1.000000  0.533715   0.530307     0.014155\n",
              "age          0.533715  1.000000  -0.021414    -0.056875\n",
              "seniority    0.530307 -0.021414   1.000000    -0.021127\n",
              "performance  0.014155 -0.056875  -0.021127     1.000000"
            ]
          },
          "metadata": {},
          "execution_count": 26
        }
      ]
    },
    {
      "cell_type": "markdown",
      "metadata": {
        "id": "WQxeQlV5oHi6"
      },
      "source": [
        "También podemos visualizar la [matriz de correlación](https://www.displayr.com/what-is-a-correlation-matrix/) arriba como un mapa de calor:"
      ]
    },
    {
      "cell_type": "code",
      "metadata": {
        "colab": {
          "base_uri": "https://localhost:8080/",
          "height": 298
        },
        "id": "t9WyhqqgoHi7",
        "outputId": "b6adf265-750f-4550-8931-9b95dd3ba4df"
      },
      "source": [
        "sns.heatmap(corr_mat)\n",
        "plt.title(\"Correlation Matrix\")"
      ],
      "execution_count": null,
      "outputs": [
        {
          "output_type": "execute_result",
          "data": {
            "text/plain": [
              "Text(0.5, 1.0, 'Correlation Matrix')"
            ]
          },
          "metadata": {},
          "execution_count": 27
        },
        {
          "output_type": "display_data",
          "data": {
            "image/png": "[encoded data removed]",
            "text/plain": [
              "<Figure size 432x288 with 2 Axes>"
            ]
          },
          "metadata": {
            "needs_background": "light"
          }
        }
      ]
    },
    {
      "cell_type": "markdown",
      "metadata": {
        "id": "bxwvDw_RoHi7"
      },
      "source": [
        "## Uso de modelos lineales para tener en cuenta las variables correlacionadas con el salario (15 min)\n",
        "Una vez que identificamos algunas variables independientes que están correlacionadas con la variable dependiente, se puede usar un modelo lineal para capturar esta relación cuantitativamente. Un modelo lineal hace esto al encontrar una línea que [**se ajuste mejor**](https://mathbits.com/MathBits/TISection/Statistics1/LineFit.htm) los puntos de datos:"
      ]
    },
    {
      "cell_type": "code",
      "metadata": {
        "colab": {
          "base_uri": "https://localhost:8080/",
          "height": 412
        },
        "id": "IW_dc_SKoHi7",
        "outputId": "bf1a1d50-b672-4489-c965-f0c0636a187c"
      },
      "source": [
        "sns.lmplot(x = 'age', y = 'pay', data = Data, scatter_kws = {'color': (174/255,199/255,14/255)})\n",
        "plt.title(\"Pay vs. Age\", fontsize=20, verticalalignment='bottom')\n",
        "plt.xlabel(\"Age\")\n",
        "plt.ylabel(\"Pay\")"
      ],
      "execution_count": null,
      "outputs": [
        {
          "output_type": "execute_result",
          "data": {
            "text/plain": [
              "Text(-1.0750000000000028, 0.5, 'Pay')"
            ]
          },
          "metadata": {},
          "execution_count": 28
        },
        {
          "output_type": "display_data",
          "data": {
            "image/png": "[encoded data removed]",
            "text/plain": [
              "<Figure size 360x360 with 1 Axes>"
            ]
          },
          "metadata": {
            "needs_background": "light"
          }
        }
      ]
    },
    {
      "cell_type": "markdown",
      "metadata": {
        "id": "IPXWds3OoHi8"
      },
      "source": [
        "Una línea tiene dos parámetros: intersección ($\\beta_0$) y pendiente ($\\beta_1$). Por tanto, un modelo lineal de salario frente a edad puede representarse como\n",
        "  $$\\mathrm{pago} = \\beta_0 + \\beta_1 \\mathrm{edad} + \\mathrm{error}. $$\n",
        "\n",
        "La interpretación del coeficiente $ \\beta_1$ es la siguiente: un aumento de un año en la edad conducirá en promedio a un cambio de $ \\beta_1 $ USD en la paga. La intersección $ \\beta_0 $ puede considerarse como una especie de pago \"básico\"."
      ]
    },
    {
      "cell_type": "markdown",
      "metadata": {
        "id": "yZl28_KYoHi8"
      },
      "source": [
        "### Visualizacion interactiva (10 min)"
      ]
    },
    {
      "cell_type": "markdown",
      "metadata": {
        "id": "4aIT_u9doHi8"
      },
      "source": [
        "La siguiente visualización interactiva le ofrece algunos escenarios. Intente encontrar la línea que mejor se ajuste a cada escenario:"
      ]
    },
    {
      "cell_type": "code",
      "metadata": {
        "colab": {
          "base_uri": "https://localhost:8080/",
          "height": 48,
          "referenced_widgets": [
            "47b9499bc98a44bd9cc12928d35d3603",
            "60599f927b2c46e0a9996b29c93dc3c0",
            "887badf18ed547a1abc1b750806bb15e",
            "a79041ad92e644cfb1c5beaa69cd8fff",
            "11a90943348c4fccb7d365ab80212492",
            "445a7f9daa694a75a6f4c4b319365d6b",
            "dd210583ef2c47549ed8c014ee177365",
            "f5622dd756c24646837517ad637f3188",
            "6e178f707ecb479998acc6864cef855a",
            "0d61ef8a9dca49058311567602c505de",
            "7f0b09c14e8f4379b2b3a5b7fe30dbe5",
            "43bb609fceac45d2978aef669e9784dc",
            "6f52b93916e146a5822cccaf85af62d1",
            "86a76082fe874c43aa25579af5075c7a",
            "e5a688e00d9b4473b87e98f2768be45a",
            "56df79dad0284be7a46dc99b6f0e4fbb",
            "6faabc75615a46bd96abe702d9108a1a",
            "ed5e519490374905b2767fce3bb32acc",
            "015a33eea2a048fdbd00dbb603993c8d",
            "cc70707453b747a4971e6a5bf9a7a9e1",
            "2e7b70c5b8f54233a5eb817b70779cad",
            "d14f22158344420a975d330e596f9242",
            "12bc24b1ca7349e182e7bddee6860c05"
          ]
        },
        "id": "FWtWOAhVoHi8",
        "outputId": "229fdbbe-6742-46f6-f110-029276c196a4"
      },
      "source": [
        "from bqplot import *\n",
        "from IPython.display import display\n",
        "from bqplot.interacts import (\n",
        "    FastIntervalSelector, IndexSelector, BrushIntervalSelector,\n",
        "    BrushSelector, MultiSelector, LassoSelector, PanZoom, HandDraw\n",
        ")\n",
        "import ipywidgets as widgets\n",
        "from ipywidgets import *\n",
        "\n",
        "def run_scenario(scenario='1'):\n",
        "    \n",
        "    #determinar el escenario\n",
        "    if (scenario == '1'):\n",
        "        # definir x,y scenario 1\n",
        "        x_coor = [18, 20, 22, 24, 26, 28, 30, 32, 34, 36, 38, 40]\n",
        "        y_coor = [50000, 53000, 60000, 59000, 63000, 70000, 67000, 80000, 75000, 88000, 90000, 92000]\n",
        "    elif (scenario=='2'): \n",
        "        # definir x,y scenario 2\n",
        "        x_coor = [18, 26, 28, 30, 32, 34, 36, 38, 40, 20, 24]\n",
        "        y_coor = [50000, 63000, 70000, 67000, 80000, 75000, 88000, 90000, 92000, 85000, 70000]\n",
        "    elif (scenario=='3'): \n",
        "        # definir x,y scenario 3\n",
        "        x_coor = [18, 20, 22, 32, 34, 36, 38, 40, 38, 36]\n",
        "        y_coor = [50000, 53000, 60000, 80000, 75000, 88000, 90000, 92000, 50000, 52000]\n",
        "    elif (scenario=='4'): \n",
        "        # definir x,y scenario 4\n",
        "        x_coor = [18, 20, 22, 24, 26, 28, 30, 38, 40, 35, 22]\n",
        "        y_coor = [50000, 53000, 60000, 59000, 63000, 70000, 67000, 90000, 92000, 55000, 90000]\n",
        "\n",
        "    # definir la escala linear para x,y\n",
        "    x_sc = LinearScale(min=min(x_coor), max=max(x_coor))\n",
        "    y_sc = LinearScale(min=min(y_coor), max=max(y_coor))\n",
        "\n",
        "    # crear los ejes x,y usando escalas lineales\n",
        "    ax_x = Axis(label='Age', scale=x_sc, grid_lines='dashed', num_ticks=8, label_color='blue')\n",
        "    ax_y = Axis(label='Income', scale=y_sc, orientation='vertical', label_color='blue', label_offset='50px')\n",
        "\n",
        "    #adicionar los puntos\n",
        "    names = []\n",
        "\n",
        "    for i in range(0, len(x_coor)):\n",
        "        name = str(x_coor[i]) + ', ' + str(y_coor[i])\n",
        "        names.append(name)\n",
        "\n",
        "    def_tt = Tooltip(fields=['x', 'y'], formats=['', '.2f'])\n",
        "\n",
        "    scatter_dots = Scatter(x=x_coor, y=y_coor, scales={'x': x_sc, 'y': y_sc}, tooltip=def_tt, unhovered_style={'opacity': 0.5})\n",
        "#     scatter2 = Scatter(x=[x_coor[1]], y=[y_coor[1]], scales={'x': x_sc, 'y': y_sc}, enable_move=True)\n",
        "\n",
        "    #definir la linea de regresion\n",
        "    sum_x = 0\n",
        "    sum_y = 0\n",
        "    sum_xy = 0\n",
        "    sum_x_squared = 0\n",
        "    sum_y_squared = 0\n",
        "    n = len(x_coor)\n",
        "\n",
        "    for i in range(0, len(x_coor)):\n",
        "        sum_x += x_coor[i]\n",
        "        sum_y += y_coor[i]\n",
        "        sum_xy += sum_x * sum_y\n",
        "        sum_x_squared += sum_x * sum_x\n",
        "        sum_y_squared += sum_y * sum_y\n",
        "\n",
        "\n",
        "    a = ((sum_y * sum_x_squared) - (sum_x * sum_xy)) / ((n * sum_x_squared) - (sum_x * sum_x))\n",
        "    b = ((n * sum_xy) - (sum_x * sum_y)) / ((n * sum_x_squared) - (sum_x * sum_x))\n",
        "\n",
        "    y_hat_values = []\n",
        "\n",
        "    for x in x_coor:\n",
        "        new_y_val = a + (b * x)\n",
        "        y_hat_values.append(new_y_val)\n",
        "\n",
        "    regression_line = Lines(x=x_coor, y=y_hat_values, scales={'x': x_sc, 'y': y_sc}, colors=['red'], visible=False)\n",
        "\n",
        "    #interaccion con el usuario \n",
        "\n",
        "    user_line_x = [19, 40]\n",
        "    user_line_y = [60000, 60000]\n",
        "\n",
        "    starting_user_line = Lines(x=user_line_x, y=user_line_y, scales={'x': x_sc, 'y': y_sc}, colors=['green'])\n",
        "    \n",
        "    scatter = Scatter(x=user_line_x, y=user_line_y, scales={'x': x_sc, 'y': y_sc}, unhovered_style={'opacity': 0.5}, enable_move=True, colors=['black'])\n",
        "\n",
        "    #crear figura dinamica\n",
        "    fig = Figure(marks=[scatter_dots, scatter, starting_user_line, regression_line], axes=[ax_x, ax_y], title=\"Find the Regression Line of Best Fit\")\n",
        "    \n",
        "\n",
        "    #adicionar menu en tiempo real \n",
        "    dropdown = widgets.Dropdown(\n",
        "        options=['1', '2', '3', '4'],\n",
        "        value=scenario,\n",
        "        description='Scenario:',\n",
        "        disabled=False,\n",
        "    )\n",
        "\n",
        "    out = Output()\n",
        "    display(out)\n",
        "    \n",
        "    def handler(x):\n",
        "        print('hi')\n",
        "    \n",
        "    @out.capture()\n",
        "    def observe_scatter_x_y(point, change):\n",
        "        \n",
        "        \n",
        "        x_array = point.x\n",
        "        y_array = point.y\n",
        "        find_change_x = change['point']['x']\n",
        "        find_change_y = change['point']['y']\n",
        "        hovered_point = point.hovered_point\n",
        "        \n",
        "        \n",
        "        \n",
        "        if (hovered_point == 0):\n",
        "            starting_user_line.set_trait('x', [find_change_x, x_array[1]]) \n",
        "            starting_user_line.set_trait('y', [find_change_y, y_array[1]])\n",
        "#             starting_user_line.y[0] = find_change_y\n",
        "#             starting_user_line.x[0] = starting_user_line.x.pop(0)\n",
        "#             starting_user_line.y = starting_user_line.y.pop(0)\n",
        "#             starting_user_line.x = starting_user_line.x.insert(0, find_change_y)\n",
        "#             starting_user_line.y = starting_user_line.y.insert(0, find_change_y)\n",
        "        elif (hovered_point == 1):\n",
        "            starting_user_line.set_trait('x', [x_array[0], find_change_x]) \n",
        "            starting_user_line.set_trait('y', [y_array[0], find_change_y])\n",
        "#             starting_user_line.x = starting_user_line.x.pop(1)\n",
        "#             starting_user_line.y = starting_user_line.y.pop(1)\n",
        "#             starting_user_line.x = starting_user_line.x.insert(1, find_change_y)\n",
        "#             starting_user_line.y = starting_user_line.y.insert(1, find_change_y)\n",
        "            \n",
        "        \n",
        "        \n",
        "        \n",
        "#         if change['name'] == 'x':\n",
        "#             line.x = line.x + change['new'] - change['old']\n",
        "#         else:\n",
        "#             line.y = line.y + change['new'] - change['old']\n",
        "    \n",
        "    scatter.on_drag(observe_scatter_x_y)\n",
        "\n",
        "    @out.capture()\n",
        "    def on_dropdown_change(b):\n",
        "        fig.close()\n",
        "        button.close()\n",
        "        dropdown.close()\n",
        "        run_scenario(dropdown.value)\n",
        "       \n",
        "    dropdown.observe(on_dropdown_change, 'value')\n",
        "\n",
        "    #Adicionar funcionalidad de click \n",
        "    button = widgets.Button(description=\"See Answer\", button_style='primary',  margin_left='40px', layout=Layout(display='flex', button_color='white', justify_content='center', width='300px'))\n",
        "\n",
        "    def on_button_clicked(b):\n",
        "        regression_line.set_trait('visible', True)\n",
        "\n",
        "    button.on_click(on_button_clicked)\n",
        "    \n",
        "    box_layout = Layout(display='flex',\n",
        "                    justify_content='center',\n",
        "                    width='50%')\n",
        "\n",
        "    box = Box(children=[button], layout=box_layout)\n",
        "\n",
        "    display(dropdown, fig, box)\n",
        "\n",
        "run_scenario()\n"
      ],
      "execution_count": null,
      "outputs": [
        {
          "output_type": "display_data",
          "data": {
            "application/vnd.jupyter.widget-view+json": {
              "model_id": "47b9499bc98a44bd9cc12928d35d3603",
              "version_minor": 0,
              "version_major": 2
            },
            "text/plain": [
              "Output()"
            ]
          },
          "metadata": {}
        },
        {
          "output_type": "display_data",
          "data": {
            "application/vnd.jupyter.widget-view+json": {
              "model_id": "887badf18ed547a1abc1b750806bb15e",
              "version_minor": 0,
              "version_major": 2
            },
            "text/plain": [
              "Dropdown(description='Scenario:', options=('1', '2', '3', '4'), value='1')"
            ]
          },
          "metadata": {}
        },
        {
          "output_type": "display_data",
          "data": {
            "application/vnd.jupyter.widget-view+json": {
              "model_id": "445a7f9daa694a75a6f4c4b319365d6b",
              "version_minor": 0,
              "version_major": 2
            },
            "text/plain": [
              "Figure(axes=[Axis(grid_lines='dashed', label='Age', label_color='blue', num_ticks=8, scale=LinearScale(max=40.…"
            ]
          },
          "metadata": {}
        },
        {
          "output_type": "display_data",
          "data": {
            "application/vnd.jupyter.widget-view+json": {
              "model_id": "dd210583ef2c47549ed8c014ee177365",
              "version_minor": 0,
              "version_major": 2
            },
            "text/plain": [
              "Box(children=(Button(button_style='primary', description='See Answer', layout=Layout(display='flex', justify_c…"
            ]
          },
          "metadata": {}
        }
      ]
    },
    {
      "cell_type": "markdown",
      "metadata": {
        "id": "Z8NKzTRGoHi9"
      },
      "source": [
        "### Residuales (5 min)\n",
        "\n",
        "El [residual](https://www.displayr.com/learn-what-are-residuals/) representa la diferencia entre la observación real y la predicha por la línea de regresión lineal, como se muestra a continuación:\n",
        "\n",
        "Instrucciones:\n",
        "     - Pase el cursor sobre los puntos de datos y verá sus coordenadas (x, y)\n",
        "     - Seleccione (haciendo clic) el punto que cree que tiene el mayor residuo\n",
        "     - Cuando haya seleccionado, haga clic en 'Ver respuesta' para ver el resultado"
      ]
    },
    {
      "cell_type": "code",
      "metadata": {
        "colab": {
          "base_uri": "https://localhost:8080/",
          "height": 48,
          "referenced_widgets": [
            "833a096e9cfa4d5882e4acd6cf4dfaab",
            "a8d28da7310641d5a08e1a8c78463627",
            "6e978b771e0a4f4f844cb10556fd973c",
            "96833592a08a48c9b3aec08bb158dd4e",
            "d6377d695b0243f6b718b6313b909ecf",
            "917fb8692c384125a30b62ecefeb2c5a",
            "8c3801abcdbb4bb69d0a25cd8ed98c7e",
            "e1aa2e20136041c0a82ac4fa1e744e59"
          ]
        },
        "id": "W8KkcDjCoHi-",
        "outputId": "aef97b06-139e-4c3f-b62a-c6db84d708c5"
      },
      "source": [
        "from bqplot import *\n",
        "from IPython.display import display\n",
        "from bqplot.interacts import (\n",
        "    FastIntervalSelector, IndexSelector, BrushIntervalSelector,\n",
        "    BrushSelector, MultiSelector, LassoSelector, PanZoom, HandDraw\n",
        ")\n",
        "import ipywidgets as widgets\n",
        "from ipywidgets import *\n",
        "from bokeh.resources import INLINE\n",
        "import bokeh.io\n",
        "from bokeh import *\n",
        "bokeh.io.output_notebook(INLINE)\n",
        "\n",
        "\n",
        "# defining x,y coordinates, scenario 1\n",
        "x_coor = [18, 20, 22, 24, 26, 28, 30, 32, 34, 36, 38, 40, 39]\n",
        "y_coor = [50000, 53000, 60000, 59000, 63000, 70000, 67000, 80000, 75000, 88000, 90000, 92000, 52000]\n",
        "\n",
        "# defining linear scale for x,y axes\n",
        "x_sc = LinearScale(min=min(x_coor), max=max(x_coor))\n",
        "y_sc = LinearScale(min=min(y_coor), max=max(y_coor))\n",
        "\n",
        "# creating x,y axes using linear scales above\n",
        "ax_x = Axis(label='Age', scale=x_sc, grid_lines='dashed', num_ticks=8, label_color='blue')\n",
        "ax_y = Axis(label='Income', scale=y_sc, orientation='vertical', label_color='blue', label_offset='50px')\n",
        "\n",
        "#adding scatter marks\n",
        "names = []\n",
        "\n",
        "for i in range(0, len(x_coor)):\n",
        "    name = str(x_coor[i]) + ', ' + str(y_coor[i])\n",
        "    names.append(name)\n",
        "\n",
        "def_tt = Tooltip(fields=['x', 'y'], formats=['', '.2f'])\n",
        "\n",
        "scatter = Scatter(x=x_coor, y=y_coor, scales={'x': x_sc, 'y': y_sc}, opacity=[0.5], tooltip=def_tt, selected_style={'fill':'red', 'stroke': 'red'}, selected=[5])\n",
        "\n",
        "out = Output()\n",
        "display(out)\n",
        "\n",
        "\n",
        "@out.capture()\n",
        "def on_scatter_click(marks, dot):\n",
        "    marks.set_trait('selected', [dot['data']['index']])\n",
        "    \n",
        "scatter.on_element_click(on_scatter_click)\n",
        "\n",
        "# defining in regression line\n",
        "sum_x = 0\n",
        "sum_y = 0\n",
        "sum_xy = 0\n",
        "sum_x_squared = 0\n",
        "sum_y_squared = 0\n",
        "n = len(x_coor)\n",
        "\n",
        "for i in range(0, len(x_coor)):\n",
        "    sum_x += x_coor[i]\n",
        "    sum_y += y_coor[i]\n",
        "    sum_xy += sum_x * sum_y\n",
        "    sum_x_squared += sum_x * sum_x\n",
        "    sum_y_squared += sum_y * sum_y\n",
        "\n",
        "\n",
        "a = ((sum_y * sum_x_squared) - (sum_x * sum_xy)) / ((n * sum_x_squared) - (sum_x * sum_x))\n",
        "b = ((n * sum_xy) - (sum_x * sum_y)) / ((n * sum_x_squared) - (sum_x * sum_x))\n",
        "\n",
        "y_hat_values = []\n",
        "\n",
        "for x in x_coor:\n",
        "    new_y_val = a + (b * x)\n",
        "    y_hat_values.append(new_y_val)\n",
        "\n",
        "regression_line = Lines(x=x_coor, y=y_hat_values, scales={'x': x_sc, 'y': y_sc}, colors=['red'])\n",
        "\n",
        "\n",
        "#create figures and render\n",
        "fig = Figure(marks=[scatter, regression_line], axes=[ax_x, ax_y], title='Find the Largest Residual',)\n",
        "\n",
        "\n",
        "#add clicking action for submit\n",
        "button = widgets.Button(description=\"See Answer\", button_style='primary',  margin_left='40px', layout=Layout(display='flex', button_color='white', justify_content='center', width='300px'))\n",
        "\n",
        "@out.capture()\n",
        "def on_button_clicked(b):\n",
        "    answer = 12\n",
        "    scatter.set_trait('selected', [answer])\n",
        "    residual_line=Lines(x=[x_coor[answer], x_coor[answer]], y=[y_coor[answer], y_hat_values[answer]], scales={'x': x_sc, 'y': y_sc}, colors=['red'])\n",
        "    fig.set_trait('marks', [scatter, regression_line, residual_line])\n",
        "    \n",
        "\n",
        "button.on_click(on_button_clicked)\n",
        "\n",
        "box_layout = Layout(display='flex',\n",
        "                    justify_content='center',\n",
        "                    width='50%')\n",
        "\n",
        "box = Box(children=[button], layout=box_layout)\n",
        "\n",
        "display(fig, box)"
      ],
      "execution_count": null,
      "outputs": [
        {
          "output_type": "display_data",
          "data": {
            "application/vnd.jupyter.widget-view+json": {
              "model_id": "833a096e9cfa4d5882e4acd6cf4dfaab",
              "version_minor": 0,
              "version_major": 2
            },
            "text/plain": [
              "Output()"
            ]
          },
          "metadata": {}
        },
        {
          "output_type": "display_data",
          "data": {
            "application/vnd.jupyter.widget-view+json": {
              "model_id": "6e978b771e0a4f4f844cb10556fd973c",
              "version_minor": 0,
              "version_major": 2
            },
            "text/plain": [
              "Figure(axes=[Axis(grid_lines='dashed', label='Age', label_color='blue', num_ticks=8, scale=LinearScale(max=40.…"
            ]
          },
          "metadata": {}
        },
        {
          "output_type": "display_data",
          "data": {
            "application/vnd.jupyter.widget-view+json": {
              "model_id": "96833592a08a48c9b3aec08bb158dd4e",
              "version_minor": 0,
              "version_major": 2
            },
            "text/plain": [
              "Box(children=(Button(button_style='primary', description='See Answer', layout=Layout(display='flex', justify_c…"
            ]
          },
          "metadata": {}
        }
      ]
    },
    {
      "cell_type": "markdown",
      "metadata": {
        "id": "ST46g8pVoHjA"
      },
      "source": [
        "## Interpretar la salida de un modelo lineal (10 min)\n",
        "El modelo lineal de salario versus edad se puede ajustar de la siguiente manera:"
      ]
    },
    {
      "cell_type": "code",
      "metadata": {
        "colab": {
          "base_uri": "https://localhost:8080/"
        },
        "id": "6WA5qm3LoHjA",
        "outputId": "4bea0789-6d79-4109-a665-abc37634eea7"
      },
      "source": [
        "model1 = 'pay~age'\n",
        "lm1   = sm.ols(formula = model1, data = Data).fit()\n",
        "print(lm1.summary())"
      ],
      "execution_count": null,
      "outputs": [
        {
          "output_type": "stream",
          "name": "stdout",
          "text": [
            "                            OLS Regression Results                            \n",
            "==============================================================================\n",
            "Dep. Variable:                    pay   R-squared:                       0.285\n",
            "Model:                            OLS   Adj. R-squared:                  0.284\n",
            "Method:                 Least Squares   F-statistic:                     397.5\n",
            "Date:                Thu, 23 Sep 2021   Prob (F-statistic):           1.04e-74\n",
            "Time:                        19:56:34   Log-Likelihood:                -11384.\n",
            "No. Observations:                1000   AIC:                         2.277e+04\n",
            "Df Residuals:                     998   BIC:                         2.278e+04\n",
            "Df Model:                           1                                         \n",
            "Covariance Type:            nonrobust                                         \n",
            "==============================================================================\n",
            "                 coef    std err          t      P>|t|      [0.025      0.975]\n",
            "------------------------------------------------------------------------------\n",
            "Intercept   6.206e+04   2062.885     30.085      0.000     5.8e+04    6.61e+04\n",
            "age          939.2501     47.109     19.938      0.000     846.806    1031.694\n",
            "==============================================================================\n",
            "Omnibus:                        6.360   Durbin-Watson:                   1.905\n",
            "Prob(Omnibus):                  0.042   Jarque-Bera (JB):                6.421\n",
            "Skew:                           0.182   Prob(JB):                       0.0403\n",
            "Kurtosis:                       2.853   Cond. No.                         134.\n",
            "==============================================================================\n",
            "\n",
            "Warnings:\n",
            "[1] Standard Errors assume that the covariance matrix of the errors is correctly specified.\n"
          ]
        }
      ]
    },
    {
      "cell_type": "markdown",
      "metadata": {
        "id": "W-uJKQqNoHjB"
      },
      "source": [
        "### ¿En qué debemos centrarnos en la tabla de regresión?\n",
        "Aunque la tabla de salida anterior contiene mucha información, solo necesitamos enfocarnos en una pequeña cantidad de cantidades.\n",
        "Estos son los coeficientes (las estimaciones de $ \\beta_0 $ y $ \\beta_1 $), así como sus valores de $p$ y $R$ al cuadrado."
      ]
    },
    {
      "cell_type": "markdown",
      "metadata": {
        "id": "Infj71HMoHjB"
      },
      "source": [
        "### Coeficientes\n",
        "La intersección $\\beta_0$ es de aproximadamente 62060 USD. Esto se puede considerar como el salario base. (Con frecuencia, la intersección no tiene una interpretación significativa, eso está bien). La pendiente (el coeficiente $\\beta_1$ para la edad) es 939,25. La interpretación de este coeficiente es como se explicó anteriormente: si un empleado envejece un año, se espera que su salario aumente en 939,25 USD en promedio.\n",
        "\n",
        "Es importante tener en cuenta que la forma en que limpiamos/imputamos los datos antes del modelado tendrá grandes efectos en los coeficientes que obtenga. Un ejemplo simple es si convertimos arbitrariamente todos los valores faltantes a la media de ese parámetro. Esto conducirá a un coeficiente completamente diferente que si usáramos $k$ - imputación de vecinos más cercanos. Por eso es tan importante elegir cuidadosa y deliberadamente un método de imputación apropiado cuando se trata de datos faltantes o incorrectos."
      ]
    },
    {
      "cell_type": "markdown",
      "metadata": {
        "id": "KN5wutGSoHjB"
      },
      "source": [
        "### $p$-values\n",
        "La hipotesis nula está dada por:\n",
        "$$ H_0:  \\beta_1 = 0 $$ \n",
        "y la alternativa es:\n",
        "$$ H_a: \\beta_1 \\neq 0.$$\n",
        "El [p-value](https://towardsdatascience.com/p-values-explained-by-data-scientist-f40a746cfc8) de $\\beta_1$ (dado debajo de la columna: $\"P>|t|\"$) es 0.000. Por lo tanto, es estadísticamente significativo al nivel 0.05 y rechazamos la hipótesis nula. Esto implica que la edad explica algunas de las diferencias salariales.\n",
        "\n",
        "No existe una forma perfecta o exacta de establecer un umbral de valor de $p$ estadísticamente significativo. Realmente depende de sus necesidades como profesional de datos $p$: los valores se utilizan para evaluar qué tan preciso creemos que es un coeficiente específico. ¿Qué tan seguro necesita que sea la interpretación de sus coeficientes? Generalmente, 0.05 es una heurística común pero no es un número estricto."
      ]
    },
    {
      "cell_type": "markdown",
      "metadata": {
        "id": "W9D3umoIoHjC"
      },
      "source": [
        "## $R$-cuadrado (15 min)\n",
        "\n",
        "Una de las cantidades clave a las que se debe prestar atención al interpretar una tabla de regresión es la cantidad\n",
        "[$R$ -cuadrado](https://blog.minitab.com/blog/adventures-in-statistics-2/regression-analysis-how-do-i-interpret-r-squared-and-assess-the- bondad de ajuste). Tenga en cuenta que la tabla muestra $ R $ al cuadrado y $ R $ ajustados al cuadrado. Nos centraremos en $ R $ al cuadrado. Esta cantidad siempre estará entre 0 y 1. Para el modelo de salario vs. edad, esta cantidad es 0.285 = 28.5%. En esta organización, hay una gran variación en el pago: diferentes empleados reciben diferentes cantidades.\n",
        "\n",
        "Un $R$ al cuadrado de 28,5% en este modelo lineal significa que esta variación observada en el salario no se debe al azar; más bien, el factor edad explica sistemáticamente el 28,5% de esta variación salarial. Cuanto mayor sea el cuadrado de $ R $, mayor será el porcentaje de variación observada que puede ser explicada por el modelo. Dado que <code> model1 </code> solo explica alrededor del 28,5% de la variación, esto nos motiva a investigar si otros factores además de la edad pueden utilizarse para explicar las diferencias salariales."
      ]
    },
    {
      "cell_type": "markdown",
      "metadata": {
        "id": "IJ1fy4iuoHjC"
      },
      "source": [
        "### Relacion entre correlacion y $R$-cuadrado"
      ]
    },
    {
      "cell_type": "code",
      "metadata": {
        "colab": {
          "base_uri": "https://localhost:8080/"
        },
        "id": "vOB79Tr1oHjC",
        "outputId": "d130ad28-9ad7-4116-c3d7-88068a471327"
      },
      "source": [
        "corr_age_pay = np.corrcoef(Data['pay'],Data['age'])[0,1]\n",
        "corr_age_pay*corr_age_pay"
      ],
      "execution_count": null,
      "outputs": [
        {
          "output_type": "execute_result",
          "data": {
            "text/plain": [
              "0.2848512885110829"
            ]
          },
          "metadata": {},
          "execution_count": 32
        }
      ]
    },
    {
      "cell_type": "markdown",
      "metadata": {
        "id": "ia4yt4iGoHjC"
      },
      "source": [
        "### Interpretacion geometrica del $R$-Squared\n",
        "La formula para el $R$-squared es la siguiente:\n",
        "  $$ R^2 = 1 - \\frac{\\mathrm{RSS}}{\\mathrm{TSS}} $$\n",
        "Aquí [RSS](https://gerardnico.com/data_mining/rss) y [TSS](https://gerardnico.com/data_mining/tss) denotan la suma total y residual de cuadrados respectivamente. Para entender lo anterior fórmula con cuidado, tracemos el pago frente a la edad de nuevo."
      ]
    },
    {
      "cell_type": "code",
      "metadata": {
        "colab": {
          "base_uri": "https://localhost:8080/",
          "height": 394
        },
        "id": "WsatLzPwoHjD",
        "outputId": "7863b387-d941-4c7d-940a-cb74c7535346"
      },
      "source": [
        "sns.lmplot(x = 'age', y = 'pay', data = Data, scatter_kws = {'color': (174/255,199/255,14/255)})\n",
        "plt.title(\"Pay vs. Age\", fontsize=20, verticalalignment='bottom')\n",
        "plt.axhline(Data['pay'].mean(), ls='--',color = 'b')\n",
        "plt.xlabel(\"Age\")\n",
        "plt.ylabel(\"Pay\");"
      ],
      "execution_count": null,
      "outputs": [
        {
          "output_type": "display_data",
          "data": {
            "image/png": "[encoded data removed]",
            "text/plain": [
              "<Figure size 360x360 with 1 Axes>"
            ]
          },
          "metadata": {
            "needs_background": "light"
          }
        }
      ]
    },
    {
      "cell_type": "markdown",
      "metadata": {
        "id": "fuSrG2mnoHjD"
      },
      "source": [
        "Consideremos el modelo <code>model0</code> dado por:\n",
        " $$ \\mathrm{pay} = \\beta_0 + \\mathrm{error} $$\n",
        "La mejor estimación para $ \\beta_0 $ es solo el salario promedio. Esto viene dado por la línea azul. La suma de los cuadrados de los residuos aquí se llama la suma total de cuadrados (TSS).\n",
        "R cuadrado mide qué tan bien la línea de regresión de <code> model1 </code> (pago frente a edad) dada por la línea roja explica la variación observada en comparación con <code> model0 </code>. La suma de los cuadrados residuales para este modelo es el RSS."
      ]
    },
    {
      "cell_type": "markdown",
      "metadata": {
        "id": "byHlmbCeoHjD"
      },
      "source": [
        "### Calculando el $R$-Squared escribiendo el codigo"
      ]
    },
    {
      "cell_type": "code",
      "metadata": {
        "colab": {
          "base_uri": "https://localhost:8080/"
        },
        "id": "tD6TIMyboHjE",
        "outputId": "103af98c-d17c-49f5-9d49-592356e58c86"
      },
      "source": [
        "# you can 'peek' inside the object lm1 using the dir command\n",
        "dir(lm1)\n",
        "# for instance if you want to know what the fitted values are\n",
        "## lm.fittedvalues"
      ],
      "execution_count": null,
      "outputs": [
        {
          "output_type": "execute_result",
          "data": {
            "text/plain": [
              "['HC0_se',\n",
              " 'HC1_se',\n",
              " 'HC2_se',\n",
              " 'HC3_se',\n",
              " '_HCCM',\n",
              " '__class__',\n",
              " '__delattr__',\n",
              " '__dict__',\n",
              " '__dir__',\n",
              " '__doc__',\n",
              " '__eq__',\n",
              " '__format__',\n",
              " '__ge__',\n",
              " '__getattribute__',\n",
              " '__gt__',\n",
              " '__hash__',\n",
              " '__init__',\n",
              " '__init_subclass__',\n",
              " '__le__',\n",
              " '__lt__',\n",
              " '__module__',\n",
              " '__ne__',\n",
              " '__new__',\n",
              " '__reduce__',\n",
              " '__reduce_ex__',\n",
              " '__repr__',\n",
              " '__setattr__',\n",
              " '__sizeof__',\n",
              " '__str__',\n",
              " '__subclasshook__',\n",
              " '__weakref__',\n",
              " '_cache',\n",
              " '_data_attr',\n",
              " '_get_robustcov_results',\n",
              " '_is_nested',\n",
              " '_wexog_singular_values',\n",
              " 'aic',\n",
              " 'bic',\n",
              " 'bse',\n",
              " 'centered_tss',\n",
              " 'compare_f_test',\n",
              " 'compare_lm_test',\n",
              " 'compare_lr_test',\n",
              " 'condition_number',\n",
              " 'conf_int',\n",
              " 'conf_int_el',\n",
              " 'cov_HC0',\n",
              " 'cov_HC1',\n",
              " 'cov_HC2',\n",
              " 'cov_HC3',\n",
              " 'cov_kwds',\n",
              " 'cov_params',\n",
              " 'cov_type',\n",
              " 'df_model',\n",
              " 'df_resid',\n",
              " 'diagn',\n",
              " 'eigenvals',\n",
              " 'el_test',\n",
              " 'ess',\n",
              " 'f_pvalue',\n",
              " 'f_test',\n",
              " 'fittedvalues',\n",
              " 'fvalue',\n",
              " 'get_influence',\n",
              " 'get_prediction',\n",
              " 'get_robustcov_results',\n",
              " 'initialize',\n",
              " 'k_constant',\n",
              " 'llf',\n",
              " 'load',\n",
              " 'model',\n",
              " 'mse_model',\n",
              " 'mse_resid',\n",
              " 'mse_total',\n",
              " 'nobs',\n",
              " 'normalized_cov_params',\n",
              " 'outlier_test',\n",
              " 'params',\n",
              " 'predict',\n",
              " 'pvalues',\n",
              " 'remove_data',\n",
              " 'resid',\n",
              " 'resid_pearson',\n",
              " 'rsquared',\n",
              " 'rsquared_adj',\n",
              " 'save',\n",
              " 'scale',\n",
              " 'ssr',\n",
              " 'summary',\n",
              " 'summary2',\n",
              " 't_test',\n",
              " 't_test_pairwise',\n",
              " 'tvalues',\n",
              " 'uncentered_tss',\n",
              " 'use_t',\n",
              " 'wald_test',\n",
              " 'wald_test_terms',\n",
              " 'wresid']"
            ]
          },
          "metadata": {},
          "execution_count": 34
        }
      ]
    },
    {
      "cell_type": "code",
      "metadata": {
        "colab": {
          "base_uri": "https://localhost:8080/"
        },
        "id": "owp9TU88oHjE",
        "outputId": "b5f700cf-175b-4ef5-9229-5035a5bbe952"
      },
      "source": [
        "lm1.fittedvalues"
      ],
      "execution_count": null,
      "outputs": [
        {
          "output_type": "execute_result",
          "data": {
            "text/plain": [
              "0       78967.935762\n",
              "1       81785.686146\n",
              "2       79907.185890\n",
              "3       80846.436018\n",
              "4       86481.936784\n",
              "           ...      \n",
              "995    119355.691254\n",
              "996    115598.690743\n",
              "997    107145.439594\n",
              "998    123112.691765\n",
              "999    118416.441126\n",
              "Length: 1000, dtype: float64"
            ]
          },
          "metadata": {},
          "execution_count": 35
        }
      ]
    },
    {
      "cell_type": "code",
      "metadata": {
        "colab": {
          "base_uri": "https://localhost:8080/"
        },
        "id": "Af2GcNBXoHjE",
        "outputId": "1ab2868a-c4a7-46eb-bfcd-8d89db53cf6b"
      },
      "source": [
        "## Write code to find residuals from fitted values\n",
        "res = Data['pay'] - lm1.fittedvalues\n",
        "res[0:5]"
      ],
      "execution_count": null,
      "outputs": [
        {
          "output_type": "execute_result",
          "data": {
            "text/plain": [
              "0   -26666.935762\n",
              "1    37818.313854\n",
              "2    19568.814110\n",
              "3    37387.563982\n",
              "4    22301.063216\n",
              "dtype: float64"
            ]
          },
          "metadata": {},
          "execution_count": 36
        }
      ]
    },
    {
      "cell_type": "code",
      "metadata": {
        "colab": {
          "base_uri": "https://localhost:8080/"
        },
        "id": "m12S8FmhoHjF",
        "outputId": "7e4feaac-88c3-4061-dcdb-f61bc05d39d0"
      },
      "source": [
        "## check if this is the same as that stored in lm1.resid\n",
        "lm1.resid[0:5]"
      ],
      "execution_count": null,
      "outputs": [
        {
          "output_type": "execute_result",
          "data": {
            "text/plain": [
              "0   -26666.935762\n",
              "1    37818.313854\n",
              "2    19568.814110\n",
              "3    37387.563982\n",
              "4    22301.063216\n",
              "dtype: float64"
            ]
          },
          "metadata": {},
          "execution_count": 37
        }
      ]
    },
    {
      "cell_type": "code",
      "metadata": {
        "id": "UeprcoFAoHjF"
      },
      "source": [
        "#la media\n",
        "mean_pay = Data['pay'].mean()\n",
        "\n",
        "## Suma total de SSS\n",
        "TSS = sum((Data['pay'] - mean_pay)*(Data['pay'] - mean_pay))\n",
        "TSS\n",
        "\n",
        "## Suma de cuadrados de residuales\n",
        "RSS = sum(res*res)"
      ],
      "execution_count": null,
      "outputs": []
    },
    {
      "cell_type": "code",
      "metadata": {
        "colab": {
          "base_uri": "https://localhost:8080/"
        },
        "id": "p0fZk-W0oHjF",
        "outputId": "71ab92fd-23cc-47e5-a9c8-a625d11220cf"
      },
      "source": [
        "R_squared = (TSS - RSS)/TSS\n",
        "R_squared"
      ],
      "execution_count": null,
      "outputs": [
        {
          "output_type": "execute_result",
          "data": {
            "text/plain": [
              "0.28485128851108443"
            ]
          },
          "metadata": {},
          "execution_count": 39
        }
      ]
    },
    {
      "cell_type": "markdown",
      "metadata": {
        "id": "Sagouz94oHjF"
      },
      "source": [
        "## Mirando age vs gender: Variables Categoricas (10 min)"
      ]
    },
    {
      "cell_type": "markdown",
      "metadata": {
        "id": "LRW4iPcUoHjG"
      },
      "source": [
        "Ahora que hemos visto que la edad explica parte de la relación con el salario, consideremos un modelo en el que tengamos en cuenta la edad y el género simultáneamente. La edad es una variable numérica (p. Ej., 26,5, 32). Por el contrario, el género solo toma dos valores: masculino y femenino. Estas variables se denominan <b> variables categóricas </b>. La forma en que interpretamos los coeficientes de las variables factoriales en el modelo lineal es ligeramente diferente de los de las variables numéricas:"
      ]
    },
    {
      "cell_type": "code",
      "metadata": {
        "colab": {
          "base_uri": "https://localhost:8080/",
          "height": 601
        },
        "id": "rAGO8_TrrWVp",
        "outputId": "3391ac11-c8e3-482e-aebf-2b7c86f511d5"
      },
      "source": [
        "Data"
      ],
      "execution_count": null,
      "outputs": [
        {
          "output_type": "execute_result",
          "data": {
            "text/html": [
              "<div>\n",
              "<style scoped>\n",
              "    .dataframe tbody tr th:only-of-type {\n",
              "        vertical-align: middle;\n",
              "    }\n",
              "\n",
              "    .dataframe tbody tr th {\n",
              "        vertical-align: top;\n",
              "    }\n",
              "\n",
              "    .dataframe thead th {\n",
              "        text-align: right;\n",
              "    }\n",
              "</style>\n",
              "<table border=\"1\" class=\"dataframe\">\n",
              "  <thead>\n",
              "    <tr style=\"text-align: right;\">\n",
              "      <th></th>\n",
              "      <th>jobtitle</th>\n",
              "      <th>gender</th>\n",
              "      <th>age</th>\n",
              "      <th>performance</th>\n",
              "      <th>education</th>\n",
              "      <th>department</th>\n",
              "      <th>seniority</th>\n",
              "      <th>income</th>\n",
              "      <th>bonus</th>\n",
              "      <th>pay</th>\n",
              "    </tr>\n",
              "  </thead>\n",
              "  <tbody>\n",
              "    <tr>\n",
              "      <th>0</th>\n",
              "      <td>Graphic Designer</td>\n",
              "      <td>Female</td>\n",
              "      <td>18</td>\n",
              "      <td>5</td>\n",
              "      <td>College</td>\n",
              "      <td>Operations</td>\n",
              "      <td>2</td>\n",
              "      <td>42363</td>\n",
              "      <td>9938</td>\n",
              "      <td>52301</td>\n",
              "    </tr>\n",
              "    <tr>\n",
              "      <th>1</th>\n",
              "      <td>Software Engineer</td>\n",
              "      <td>Male</td>\n",
              "      <td>21</td>\n",
              "      <td>5</td>\n",
              "      <td>College</td>\n",
              "      <td>Management</td>\n",
              "      <td>5</td>\n",
              "      <td>108476</td>\n",
              "      <td>11128</td>\n",
              "      <td>119604</td>\n",
              "    </tr>\n",
              "    <tr>\n",
              "      <th>2</th>\n",
              "      <td>Warehouse Associate</td>\n",
              "      <td>Female</td>\n",
              "      <td>19</td>\n",
              "      <td>4</td>\n",
              "      <td>PhD</td>\n",
              "      <td>Administration</td>\n",
              "      <td>5</td>\n",
              "      <td>90208</td>\n",
              "      <td>9268</td>\n",
              "      <td>99476</td>\n",
              "    </tr>\n",
              "    <tr>\n",
              "      <th>3</th>\n",
              "      <td>Software Engineer</td>\n",
              "      <td>Male</td>\n",
              "      <td>20</td>\n",
              "      <td>5</td>\n",
              "      <td>Masters</td>\n",
              "      <td>Sales</td>\n",
              "      <td>4</td>\n",
              "      <td>108080</td>\n",
              "      <td>10154</td>\n",
              "      <td>118234</td>\n",
              "    </tr>\n",
              "    <tr>\n",
              "      <th>4</th>\n",
              "      <td>Graphic Designer</td>\n",
              "      <td>Male</td>\n",
              "      <td>26</td>\n",
              "      <td>5</td>\n",
              "      <td>Masters</td>\n",
              "      <td>Engineering</td>\n",
              "      <td>5</td>\n",
              "      <td>99464</td>\n",
              "      <td>9319</td>\n",
              "      <td>108783</td>\n",
              "    </tr>\n",
              "    <tr>\n",
              "      <th>...</th>\n",
              "      <td>...</td>\n",
              "      <td>...</td>\n",
              "      <td>...</td>\n",
              "      <td>...</td>\n",
              "      <td>...</td>\n",
              "      <td>...</td>\n",
              "      <td>...</td>\n",
              "      <td>...</td>\n",
              "      <td>...</td>\n",
              "      <td>...</td>\n",
              "    </tr>\n",
              "    <tr>\n",
              "      <th>995</th>\n",
              "      <td>Marketing Associate</td>\n",
              "      <td>Female</td>\n",
              "      <td>61</td>\n",
              "      <td>1</td>\n",
              "      <td>High School</td>\n",
              "      <td>Administration</td>\n",
              "      <td>1</td>\n",
              "      <td>62644</td>\n",
              "      <td>3270</td>\n",
              "      <td>65914</td>\n",
              "    </tr>\n",
              "    <tr>\n",
              "      <th>996</th>\n",
              "      <td>Data Scientist</td>\n",
              "      <td>Male</td>\n",
              "      <td>57</td>\n",
              "      <td>1</td>\n",
              "      <td>Masters</td>\n",
              "      <td>Sales</td>\n",
              "      <td>2</td>\n",
              "      <td>108977</td>\n",
              "      <td>3567</td>\n",
              "      <td>112544</td>\n",
              "    </tr>\n",
              "    <tr>\n",
              "      <th>997</th>\n",
              "      <td>Financial Analyst</td>\n",
              "      <td>Male</td>\n",
              "      <td>48</td>\n",
              "      <td>1</td>\n",
              "      <td>High School</td>\n",
              "      <td>Operations</td>\n",
              "      <td>1</td>\n",
              "      <td>92347</td>\n",
              "      <td>2724</td>\n",
              "      <td>95071</td>\n",
              "    </tr>\n",
              "    <tr>\n",
              "      <th>998</th>\n",
              "      <td>Financial Analyst</td>\n",
              "      <td>Male</td>\n",
              "      <td>65</td>\n",
              "      <td>2</td>\n",
              "      <td>High School</td>\n",
              "      <td>Administration</td>\n",
              "      <td>1</td>\n",
              "      <td>97376</td>\n",
              "      <td>2225</td>\n",
              "      <td>99601</td>\n",
              "    </tr>\n",
              "    <tr>\n",
              "      <th>999</th>\n",
              "      <td>Financial Analyst</td>\n",
              "      <td>Male</td>\n",
              "      <td>60</td>\n",
              "      <td>1</td>\n",
              "      <td>PhD</td>\n",
              "      <td>Sales</td>\n",
              "      <td>2</td>\n",
              "      <td>123108</td>\n",
              "      <td>2244</td>\n",
              "      <td>125352</td>\n",
              "    </tr>\n",
              "  </tbody>\n",
              "</table>\n",
              "<p>1000 rows × 10 columns</p>\n",
              "</div>"
            ],
            "text/plain": [
              "                jobtitle  gender  age  ...  income  bonus     pay\n",
              "0       Graphic Designer  Female   18  ...   42363   9938   52301\n",
              "1      Software Engineer    Male   21  ...  108476  11128  119604\n",
              "2    Warehouse Associate  Female   19  ...   90208   9268   99476\n",
              "3      Software Engineer    Male   20  ...  108080  10154  118234\n",
              "4       Graphic Designer    Male   26  ...   99464   9319  108783\n",
              "..                   ...     ...  ...  ...     ...    ...     ...\n",
              "995  Marketing Associate  Female   61  ...   62644   3270   65914\n",
              "996       Data Scientist    Male   57  ...  108977   3567  112544\n",
              "997    Financial Analyst    Male   48  ...   92347   2724   95071\n",
              "998    Financial Analyst    Male   65  ...   97376   2225   99601\n",
              "999    Financial Analyst    Male   60  ...  123108   2244  125352\n",
              "\n",
              "[1000 rows x 10 columns]"
            ]
          },
          "metadata": {},
          "execution_count": 40
        }
      ]
    },
    {
      "cell_type": "code",
      "metadata": {
        "colab": {
          "base_uri": "https://localhost:8080/"
        },
        "id": "VBcadm1HoHjG",
        "outputId": "0e244a4b-6381-4ad3-bdc7-4ae867ed10b8"
      },
      "source": [
        "model2 = 'pay~age + gender'\n",
        "lm2    = sm.ols(formula = model2, data = Data).fit()\n",
        "print(lm2.summary())"
      ],
      "execution_count": null,
      "outputs": [
        {
          "output_type": "stream",
          "name": "stdout",
          "text": [
            "                            OLS Regression Results                            \n",
            "==============================================================================\n",
            "Dep. Variable:                    pay   R-squared:                       0.319\n",
            "Model:                            OLS   Adj. R-squared:                  0.317\n",
            "Method:                 Least Squares   F-statistic:                     233.2\n",
            "Date:                Thu, 23 Sep 2021   Prob (F-statistic):           8.10e-84\n",
            "Time:                        20:02:42   Log-Likelihood:                -11359.\n",
            "No. Observations:                1000   AIC:                         2.272e+04\n",
            "Df Residuals:                     997   BIC:                         2.274e+04\n",
            "Df Model:                           2                                         \n",
            "Covariance Type:            nonrobust                                         \n",
            "==================================================================================\n",
            "                     coef    std err          t      P>|t|      [0.025      0.975]\n",
            "----------------------------------------------------------------------------------\n",
            "Intercept       5.674e+04   2151.480     26.373      0.000    5.25e+04     6.1e+04\n",
            "gender[T.Male]  9279.3180   1317.787      7.042      0.000    6693.364    1.19e+04\n",
            "age              948.5266     46.022     20.610      0.000     858.216    1038.837\n",
            "==============================================================================\n",
            "Omnibus:                        9.898   Durbin-Watson:                   1.871\n",
            "Prob(Omnibus):                  0.007   Jarque-Bera (JB):                9.345\n",
            "Skew:                           0.197   Prob(JB):                      0.00935\n",
            "Kurtosis:                       2.737   Cond. No.                         148.\n",
            "==============================================================================\n",
            "\n",
            "Warnings:\n",
            "[1] Standard Errors assume that the covariance matrix of the errors is correctly specified.\n"
          ]
        }
      ]
    },
    {
      "cell_type": "markdown",
      "metadata": {
        "id": "X14wVM7uoHjG"
      },
      "source": [
        "La interpretación del coeficiente de edad es la misma que antes: si la edad aumenta en un año, se espera que el salario aumente en 948,5 USD. Ahora, concéntrate en el coeficiente de género. Solo muestra masculino (T.male), porque la categoría femenina se toma como la categoría predeterminada. (Tenga en cuenta que la elección de la categoría predeterminada no importa; fácilmente podríamos haber elegido hacer masculino como categoría predeterminada y, por lo tanto, el coeficiente de género sería T.female). El coeficiente 9279.3180 se interpreta de la siguiente manera: para empleados de la misma edad, en promedio, los hombres ganan 9279,3180 USD más que las mujeres."
      ]
    },
    {
      "cell_type": "markdown",
      "metadata": {
        "id": "11UDd5NZoHjG"
      },
      "source": [
        "Pero todavía no hemos respondido satisfactoriamente a nuestra pregunta principal. Hasta ahora, solo hemos tenido en cuenta la edad además del género para explicar las diferencias salariales. Todavía hay algunos factores más que podrían afectar la paga. Consideramos la educación a continuación. La siguiente gráfica muestra que a los empleados con al menos una educación universitaria se les paga más:"
      ]
    },
    {
      "cell_type": "code",
      "metadata": {
        "colab": {
          "base_uri": "https://localhost:8080/",
          "height": 304
        },
        "id": "j-1xdqJ7oHjH",
        "outputId": "1621cb20-82ee-419f-d938-b927a87c0691"
      },
      "source": [
        "sns.boxplot(x='education', y = 'pay', data = Data) \n",
        "plt.title(\"Pay vs. Education\", fontsize=20, verticalalignment='bottom');"
      ],
      "execution_count": null,
      "outputs": [
        {
          "output_type": "display_data",
          "data": {
            "image/png": "[encoded data removed]",
            "text/plain": [
              "<Figure size 432x288 with 1 Axes>"
            ]
          },
          "metadata": {
            "needs_background": "light"
          }
        }
      ]
    },
    {
      "cell_type": "markdown",
      "metadata": {
        "id": "I6RXlqQ_oHjH"
      },
      "source": [
        "### Ejercicio 4: (5 min)\n",
        "\n",
        "Proporcione el código para ajustar un modelo lineal con el salario como variable dependiente y la edad, el sexo y la educación como variables independientes. Compare el $ R $ -cuadrado de esto con el de <code> model2 </code>. ¿Qué conclusiones podemos sacar?"
      ]
    },
    {
      "cell_type": "code",
      "metadata": {
        "scrolled": false,
        "colab": {
          "base_uri": "https://localhost:8080/"
        },
        "id": "BMZNpQ4eoHjH",
        "outputId": "9aec5dc3-007c-47c3-f9b2-7d475b2c078e"
      },
      "source": [
        "model3 = 'pay~age + gender + education'\n",
        "lm3   = sm.ols(formula = model3, data = Data).fit()\n",
        "print(lm3.summary())"
      ],
      "execution_count": null,
      "outputs": [
        {
          "output_type": "stream",
          "name": "stdout",
          "text": [
            "                            OLS Regression Results                            \n",
            "==============================================================================\n",
            "Dep. Variable:                    pay   R-squared:                       0.345\n",
            "Model:                            OLS   Adj. R-squared:                  0.342\n",
            "Method:                 Least Squares   F-statistic:                     104.7\n",
            "Date:                Thu, 23 Sep 2021   Prob (F-statistic):           8.74e-89\n",
            "Time:                        20:05:14   Log-Likelihood:                -11340.\n",
            "No. Observations:                1000   AIC:                         2.269e+04\n",
            "Df Residuals:                     994   BIC:                         2.272e+04\n",
            "Df Model:                           5                                         \n",
            "Covariance Type:            nonrobust                                         \n",
            "============================================================================================\n",
            "                               coef    std err          t      P>|t|      [0.025      0.975]\n",
            "--------------------------------------------------------------------------------------------\n",
            "Intercept                 5.562e+04   2378.880     23.380      0.000     5.1e+04    6.03e+04\n",
            "gender[T.Male]            8789.0942   1297.996      6.771      0.000    6241.967    1.13e+04\n",
            "education[T.High School] -3906.3104   1817.025     -2.150      0.032   -7471.956    -340.664\n",
            "education[T.Masters]      4171.0770   1836.165      2.272      0.023     567.871    7774.283\n",
            "education[T.PhD]          6727.2845   1867.621      3.602      0.000    3062.352    1.04e+04\n",
            "age                        942.4566     45.209     20.846      0.000     853.740    1031.173\n",
            "==============================================================================\n",
            "Omnibus:                        8.469   Durbin-Watson:                   1.891\n",
            "Prob(Omnibus):                  0.014   Jarque-Bera (JB):                8.283\n",
            "Skew:                           0.195   Prob(JB):                       0.0159\n",
            "Kurtosis:                       2.782   Cond. No.                         206.\n",
            "==============================================================================\n",
            "\n",
            "Warnings:\n",
            "[1] Standard Errors assume that the covariance matrix of the errors is correctly specified.\n"
          ]
        }
      ]
    },
    {
      "cell_type": "code",
      "metadata": {
        "id": "iWe--H34SiVA"
      },
      "source": [
        "pago = 5.562e+04 + age * 942.4566 + masc * 8789.0942 + high * -3906.3104 + master * 4171.0770 + PhO * 6727.2845"
      ],
      "execution_count": null,
      "outputs": []
    },
    {
      "cell_type": "markdown",
      "metadata": {
        "id": "4LUMCiWqoHjI"
      },
      "source": [
        "**Respuesta**. El cuadrado de $ R $ ha aumentado del 28,5% al 34,5%. Esto significa que la educación ayuda a explicar un poco más variación que no se explica por la edad y el género."
      ]
    },
    {
      "cell_type": "markdown",
      "metadata": {
        "id": "YoGUMRCBoHjI"
      },
      "source": [
        "### Ejercicio 5: (5 min)\n",
        "\n",
        "¿Cuál de las siguientes afirmaciones es falsa? Después de tener en cuenta la edad y el sexo:\n",
        "\n",
        "(a) A los empleados con educación universitaria se les paga 3906 USD más en promedio que a los que solo tienen un título de escuela secundaria.\n",
        "\n",
        "(b) A los empleados con solo un título de escuela secundaria se les paga 7500,1 USD menos en promedio en comparación con aquellos con una maestría.\n",
        "\n",
        "(c) Los empleados con un título de doctorado ganan en promedio 2556,20 USD más que los que tienen una maestría.\n",
        "\n",
        "(d) Los empleados con una maestría ganan en promedio 8077,3 USD más que aquellos con solo un título de escuela secundaria.\n",
        "\n",
        "**Respuesta**.\n",
        "(a) Correcto. Para el modelo lineal: 'salario ~ edad + género + educación', la educación es una variable de factor y la educación universitaria es la predeterminada debido al orden alfabético. Obtenemos que el coeficiente de la escuela secundaria sea -3906,3104.\n",
        "\n",
        "(b) ¡Incorrecto! Para el modelo lineal: 'salario ~ edad + género + educación', la diferencia de los coeficientes de la escuela secundaria y la maestría da la respuesta requerida. Esto se debe a que (escuela secundaria - universidad) - (maestría - universidad) = (escuela secundaria - maestría).\n",
        "\n",
        "(c) ¡Incorrecto! Para el modelo lineal: 'salario ~ edad + género + educación', la diferencia de los coeficientes de maestría y doctorado da la respuesta requerida. Esto se debe a que (Doctorado - Universidad) - (Maestría - Universidad) = (Doctorado - Maestría).\n",
        "\n",
        "(d) ¡Incorrecto! Para el modelo lineal: 'salario ~ edad + género + educación', la diferencia de los coeficientes de la escuela secundaria y la maestría da la respuesta requerida. Esto se debe a que (escuela secundaria - universidad) - (maestría - universidad) = (escuela secundaria - maestría)."
      ]
    },
    {
      "cell_type": "markdown",
      "metadata": {
        "id": "dv2gKHcmoHjI"
      },
      "source": [
        "## Modelo integrado teniendo en cuenta todas las variables (10 min)"
      ]
    },
    {
      "cell_type": "markdown",
      "metadata": {
        "id": "OWsNPzOAoHjJ"
      },
      "source": [
        "Consideremos todos los demás factores que podrían explicar las brechas salariales a la vez. ¿Qué puedes concluir ?:"
      ]
    },
    {
      "cell_type": "code",
      "metadata": {
        "colab": {
          "base_uri": "https://localhost:8080/"
        },
        "id": "RmlUxEbqW_VM",
        "outputId": "7105d0ce-2d80-4708-d831-d8f616beabe9"
      },
      "source": [
        "lm = sm.ols(formula= 'pay ~ jobtitle + age + seniority + department', data = Data).fit()\n",
        "print(lm.summary())"
      ],
      "execution_count": null,
      "outputs": [
        {
          "output_type": "stream",
          "name": "stdout",
          "text": [
            "                            OLS Regression Results                            \n",
            "==============================================================================\n",
            "Dep. Variable:                    pay   R-squared:                       0.821\n",
            "Model:                            OLS   Adj. R-squared:                  0.818\n",
            "Method:                 Least Squares   F-statistic:                     300.4\n",
            "Date:                Thu, 23 Sep 2021   Prob (F-statistic):               0.00\n",
            "Time:                        20:34:44   Log-Likelihood:                -10692.\n",
            "No. Observations:                1000   AIC:                         2.142e+04\n",
            "Df Residuals:                     984   BIC:                         2.149e+04\n",
            "Df Model:                          15                                         \n",
            "Covariance Type:            nonrobust                                         \n",
            "===================================================================================================\n",
            "                                      coef    std err          t      P>|t|      [0.025      0.975]\n",
            "---------------------------------------------------------------------------------------------------\n",
            "Intercept                        2.797e+04   1749.619     15.988      0.000    2.45e+04    3.14e+04\n",
            "jobtitle[T.Driver]              -4130.4348   1531.676     -2.697      0.007   -7136.162   -1124.708\n",
            "jobtitle[T.Financial Analyst]    3562.9708   1469.352      2.425      0.015     679.546    6446.395\n",
            "jobtitle[T.Graphic Designer]    -2359.8228   1503.226     -1.570      0.117   -5309.719     590.074\n",
            "jobtitle[T.IT]                  -2250.9409   1510.515     -1.490      0.136   -5215.142     713.261\n",
            "jobtitle[T.Manager]              3.143e+04   1540.086     20.407      0.000    2.84e+04    3.45e+04\n",
            "jobtitle[T.Marketing Associate] -1.779e+04   1435.386    -12.397      0.000   -2.06e+04    -1.5e+04\n",
            "jobtitle[T.Sales Associate]      -412.3507   1519.875     -0.271      0.786   -3394.920    2570.218\n",
            "jobtitle[T.Software Engineer]    1.361e+04   1463.514      9.296      0.000    1.07e+04    1.65e+04\n",
            "jobtitle[T.Warehouse Associate]  -887.2793   1536.874     -0.577      0.564   -3903.206    2128.647\n",
            "department[T.Engineering]        3672.8344   1096.952      3.348      0.001    1520.200    5825.469\n",
            "department[T.Management]         2823.5000   1094.704      2.579      0.010     675.277    4971.723\n",
            "department[T.Operations]         -293.2224   1074.981     -0.273      0.785   -2402.742    1816.297\n",
            "department[T.Sales]              6191.4374   1081.351      5.726      0.000    4069.417    8313.457\n",
            "age                               947.3400     23.835     39.746      0.000     900.567     994.113\n",
            "seniority                        9969.3393    244.848     40.716      0.000    9488.854    1.04e+04\n",
            "==============================================================================\n",
            "Omnibus:                        3.695   Durbin-Watson:                   1.925\n",
            "Prob(Omnibus):                  0.158   Jarque-Bera (JB):                3.764\n",
            "Skew:                          -0.144   Prob(JB):                        0.152\n",
            "Kurtosis:                       2.917   Cond. No.                         448.\n",
            "==============================================================================\n",
            "\n",
            "Warnings:\n",
            "[1] Standard Errors assume that the covariance matrix of the errors is correctly specified.\n"
          ]
        }
      ]
    },
    {
      "cell_type": "code",
      "metadata": {
        "colab": {
          "base_uri": "https://localhost:8080/"
        },
        "id": "GKJAK6TvoHjJ",
        "outputId": "4a815378-5446-432c-d705-2f7df2ad937a"
      },
      "source": [
        "model4 = 'pay~jobtitle + age + performance + education + department + seniority + gender'\n",
        "lm4    = sm.ols(formula = model4, data = Data).fit()\n",
        "print(lm4.summary())"
      ],
      "execution_count": null,
      "outputs": [
        {
          "output_type": "stream",
          "name": "stdout",
          "text": [
            "                            OLS Regression Results                            \n",
            "==============================================================================\n",
            "Dep. Variable:                    pay   R-squared:                       0.841\n",
            "Model:                            OLS   Adj. R-squared:                  0.838\n",
            "Method:                 Least Squares   F-statistic:                     259.6\n",
            "Date:                Thu, 23 Sep 2021   Prob (F-statistic):               0.00\n",
            "Time:                        20:07:55   Log-Likelihood:                -10631.\n",
            "No. Observations:                1000   AIC:                         2.130e+04\n",
            "Df Residuals:                     979   BIC:                         2.141e+04\n",
            "Df Model:                          20                                         \n",
            "Covariance Type:            nonrobust                                         \n",
            "===================================================================================================\n",
            "                                      coef    std err          t      P>|t|      [0.025      0.975]\n",
            "---------------------------------------------------------------------------------------------------\n",
            "Intercept                        2.203e+04   1933.534     11.392      0.000    1.82e+04    2.58e+04\n",
            "jobtitle[T.Driver]              -3928.9812   1447.166     -2.715      0.007   -6768.886   -1089.076\n",
            "jobtitle[T.Financial Analyst]    3417.7090   1388.276      2.462      0.014     693.370    6142.048\n",
            "jobtitle[T.Graphic Designer]    -2457.6992   1420.886     -1.730      0.084   -5246.031     330.633\n",
            "jobtitle[T.IT]                  -2149.7022   1427.414     -1.506      0.132   -4950.846     651.442\n",
            "jobtitle[T.Manager]               3.16e+04   1471.445     21.476      0.000    2.87e+04    3.45e+04\n",
            "jobtitle[T.Marketing Associate] -1.701e+04   1385.795    -12.277      0.000   -1.97e+04   -1.43e+04\n",
            "jobtitle[T.Sales Associate]       263.4456   1435.261      0.184      0.854   -2553.096    3079.988\n",
            "jobtitle[T.Software Engineer]    1.339e+04   1413.182      9.473      0.000    1.06e+04    1.62e+04\n",
            "jobtitle[T.Warehouse Associate]  -564.0171   1452.967     -0.388      0.698   -3415.305    2287.271\n",
            "education[T.High School]        -1435.1693    908.773     -1.579      0.115   -3218.536     348.198\n",
            "education[T.Masters]             4717.9971    914.421      5.160      0.000    2923.546    6512.448\n",
            "education[T.PhD]                 6026.2867    929.705      6.482      0.000    4201.842    7850.731\n",
            "department[T.Engineering]        3267.9358   1036.509      3.153      0.002    1233.901    5301.970\n",
            "department[T.Management]         2957.8290   1033.031      2.863      0.004     930.619    4985.039\n",
            "department[T.Operations]         -481.4968   1014.616     -0.475      0.635   -2472.570    1509.577\n",
            "department[T.Sales]              6193.4962   1020.679      6.068      0.000    4190.526    8196.466\n",
            "gender[T.Male]                    392.3244    715.798      0.548      0.584   -1012.351    1797.000\n",
            "age                               948.9464     22.527     42.126      0.000     904.740     993.152\n",
            "performance                      1156.8797    228.188      5.070      0.000     709.085    1604.674\n",
            "seniority                        9903.7103    231.490     42.782      0.000    9449.436    1.04e+04\n",
            "==============================================================================\n",
            "Omnibus:                        3.500   Durbin-Watson:                   1.982\n",
            "Prob(Omnibus):                  0.174   Jarque-Bera (JB):                3.555\n",
            "Skew:                          -0.130   Prob(JB):                        0.169\n",
            "Kurtosis:                       2.866   Cond. No.                         453.\n",
            "==============================================================================\n",
            "\n",
            "Warnings:\n",
            "[1] Standard Errors assume that the covariance matrix of the errors is correctly specified.\n"
          ]
        }
      ]
    },
    {
      "cell_type": "code",
      "metadata": {
        "colab": {
          "base_uri": "https://localhost:8080/"
        },
        "id": "Djj3EOAXoHjJ",
        "outputId": "b3a5ddc4-a4aa-4adc-fe5c-41edbc345cb8"
      },
      "source": [
        "model5 = 'pay~jobtitle+jobtitle*gender'\n",
        "lm5    = sm.ols(formula = model5, data = Data).fit()\n",
        "print(lm5.summary())"
      ],
      "execution_count": null,
      "outputs": [
        {
          "output_type": "stream",
          "name": "stdout",
          "text": [
            "                            OLS Regression Results                            \n",
            "==============================================================================\n",
            "Dep. Variable:                    pay   R-squared:                       0.234\n",
            "Model:                            OLS   Adj. R-squared:                  0.219\n",
            "Method:                 Least Squares   F-statistic:                     15.74\n",
            "Date:                Thu, 23 Sep 2021   Prob (F-statistic):           6.47e-45\n",
            "Time:                        20:09:20   Log-Likelihood:                -11418.\n",
            "No. Observations:                1000   AIC:                         2.288e+04\n",
            "Df Residuals:                     980   BIC:                         2.297e+04\n",
            "Df Model:                          19                                         \n",
            "Covariance Type:            nonrobust                                         \n",
            "==================================================================================================================\n",
            "                                                     coef    std err          t      P>|t|      [0.025      0.975]\n",
            "------------------------------------------------------------------------------------------------------------------\n",
            "Intercept                                       1.025e+05   3053.880     33.548      0.000    9.65e+04    1.08e+05\n",
            "jobtitle[T.Driver]                             -9254.9163   4480.131     -2.066      0.039    -1.8e+04    -463.163\n",
            "jobtitle[T.Financial Analyst]                   -708.6111   4406.097     -0.161      0.872   -9355.081    7937.859\n",
            "jobtitle[T.Graphic Designer]                   -3641.8475   4429.881     -0.822      0.411   -1.23e+04    5051.297\n",
            "jobtitle[T.IT]                                 -5614.3242   4383.143     -1.281      0.201   -1.42e+04    2987.101\n",
            "jobtitle[T.Manager]                             3.079e+04   6065.197      5.077      0.000    1.89e+04    4.27e+04\n",
            "jobtitle[T.Marketing Associate]                 -2.02e+04   3734.394     -5.409      0.000   -2.75e+04   -1.29e+04\n",
            "jobtitle[T.Sales Associate]                    -4231.7293   4563.031     -0.927      0.354   -1.32e+04    4722.706\n",
            "jobtitle[T.Software Engineer]                  -1304.8892   8432.803     -0.155      0.877   -1.79e+04    1.52e+04\n",
            "jobtitle[T.Warehouse Associate]                -2368.3294   4480.131     -0.529      0.597   -1.12e+04    6423.424\n",
            "gender[T.Male]                                 -7002.2642   4298.798     -1.629      0.104   -1.54e+04    1433.644\n",
            "jobtitle[T.Driver]:gender[T.Male]               1.222e+04   6341.074      1.928      0.054    -220.929    2.47e+04\n",
            "jobtitle[T.Financial Analyst]:gender[T.Male]    6374.9732   6090.105      1.047      0.295   -5576.173    1.83e+04\n",
            "jobtitle[T.Graphic Designer]:gender[T.Male]     4775.9275   6217.964      0.768      0.443   -7426.129     1.7e+04\n",
            "jobtitle[T.IT]:gender[T.Male]                   7403.9111   6253.863      1.184      0.237   -4868.593    1.97e+04\n",
            "jobtitle[T.Manager]:gender[T.Male]              4687.1392   7266.719      0.645      0.519   -9572.980    1.89e+04\n",
            "jobtitle[T.Marketing Associate]:gender[T.Male]  1.291e+04   8248.299      1.566      0.118   -3273.608    2.91e+04\n",
            "jobtitle[T.Sales Associate]:gender[T.Male]      9675.2783   6298.146      1.536      0.125   -2684.126     2.2e+04\n",
            "jobtitle[T.Software Engineer]:gender[T.Male]    1.889e+04   9228.195      2.047      0.041     779.406     3.7e+04\n",
            "jobtitle[T.Warehouse Associate]:gender[T.Male]   281.9430   6360.728      0.044      0.965   -1.22e+04    1.28e+04\n",
            "==============================================================================\n",
            "Omnibus:                       10.145   Durbin-Watson:                   1.954\n",
            "Prob(Omnibus):                  0.006   Jarque-Bera (JB):                6.804\n",
            "Skew:                           0.024   Prob(JB):                       0.0333\n",
            "Kurtosis:                       2.599   Cond. No.                         29.3\n",
            "==============================================================================\n",
            "\n",
            "Warnings:\n",
            "[1] Standard Errors assume that the covariance matrix of the errors is correctly specified.\n"
          ]
        }
      ]
    },
    {
      "cell_type": "markdown",
      "metadata": {
        "id": "kKOViiO-oHjJ"
      },
      "source": [
        "### Ejercicio 6: (5 min)\n",
        "\n",
        "Teniendo en cuenta todos los factores como en <code> model4 </code>, ¿cuál de los siguientes trabajos paga más?\n",
        "\n",
        "(a) Sales Associate\n",
        "\n",
        "(b) Software Engineer\n",
        "\n",
        "(c) Manager\n",
        "\n",
        "(d) Graphic Designer\n",
        "\n",
        "**Respuesta**.\n",
        "\n",
        "(a) Incorrecto.\n",
        "\n",
        "(b) Incorrecto.\n",
        "\n",
        "(c) ¡Correcto!\n",
        "\n",
        "(d) Incorrecto."
      ]
    },
    {
      "cell_type": "markdown",
      "metadata": {
        "id": "1MoW3jZzoHjK"
      },
      "source": [
        "## Revisando la cuestión de la discriminación salarial (7 min)\n",
        "\n",
        "Ahora que hemos analizado y explicado varios atributos que se correlacionan con el salario, revisemos la cuestión de qué está impulsando la discriminación salarial. <code> model4 </code>, que representa todas las variables del conjunto de datos, tiene un $R$ al cuadrado del 84,1%. Esta es definitivamente una gran mejora con respecto a <code> model1 </code> (pago frente a edad) que tiene un $ R $ al cuadrado de 28,5%. Por lo tanto, en comparación con <code> model1 </code>, <code> model4 </code> explica 84,1% - 28,5% = 55,6% más de la variación observada en los datos."
      ]
    },
    {
      "cell_type": "markdown",
      "metadata": {
        "id": "xep9pid-oHjK"
      },
      "source": [
        "### Ejercicio 7: (7 min)\n",
        "\n",
        "Según el análisis que hemos realizado hasta ahora (<code> modelo1 </code> - <code> modelo4 </code>), considere las siguientes afirmaciones.\n",
        "\n",
        "I. Después de tener en cuenta el cargo, la educación, el desempeño y la edad, la proporción de la diferencia salarial atribuible únicamente al género es pequeña.\n",
        "\n",
        "II. Existe evidencia de que la discriminación salarial entre hombres y mujeres se debe únicamente al género.\n",
        "\n",
        "III. Hay motivos para creer que podría haber una cantidad desproporcionada de mujeres en trabajos peor pagados\n",
        "como marketing, mientras que podría haber más hombres en trabajos mejor pagados, como gerente.\n",
        "\n",
        "Elija la respuesta correcta:\n",
        "\n",
        "(a) I es correcto, II y III son incorrectos.\n",
        "\n",
        "(b) II es correcto, I y III son incorrectos.\n",
        "\n",
        "(c) I es incorrecta, II y III son correctas.\n",
        "\n",
        "(d) I y III son correctos, II es incorrecto.\n",
        "\n",
        "**Responder.**\n",
        "\n",
        "(a) Incorrecto. Sabemos por el modelo4 que el coeficiente de género no es significativo (392.3244 USD, y este coeficiente no es significativo). Por tanto, yo es correcto y yo es incorrecto. Pero desde el primer diagrama que hicimos, vimos que la diferencia salarial promedio entre hombres y mujeres en esta organización es de unos 8500 USD. La explicación clave de esta discrepancia es que las mujeres tienen trabajos peor remunerados que los hombres. Por tanto, III es correcto.\n",
        "\n",
        "(b) Incorrecto. Sabemos por el modelo4 que el coeficiente de género no es significativo (392.3244 USD, y este coeficiente no es significativo). Por tanto, yo es correcto y yo es incorrecto. Pero desde el primer diagrama que hicimos, vimos que la diferencia salarial promedio entre hombres y mujeres en esta organización es de unos 8500 USD. La explicación clave de esta discrepancia es que las mujeres tienen trabajos peor remunerados que los hombres. Por tanto, III es correcto.\n",
        "\n",
        "(c) Incorrecto. Sabemos por el modelo4 que el coeficiente de género no es significativo (392.3244 USD, y este coeficiente no es significativo). Por tanto, yo es correcto y yo es incorrecto. Pero desde el primer diagrama que hicimos, vimos que la diferencia salarial promedio entre hombres y mujeres en esta organización es de unos 8500 USD. La explicación clave de esta discrepancia es que las mujeres tienen trabajos peor remunerados que los hombres. Por tanto, III es correcto.\n",
        "\n",
        "(d) ¡Correcto! Sabemos por el modelo4 que el coeficiente de género no es significativo (392.3244 USD, y este coeficiente no es significativo). Por tanto, yo es correcto y yo es incorrecto. Pero desde el primer diagrama que hicimos, vimos que la diferencia salarial promedio entre hombres y mujeres en esta organización es de unos 8500 USD. La explicación clave de esta discrepancia es que las mujeres tienen trabajos peor remunerados que los hombres. Por tanto, III es correcto."
      ]
    },
    {
      "cell_type": "markdown",
      "metadata": {
        "id": "J2z1o05joHjK"
      },
      "source": [
        "## Investigar la distribución de género según la antigüedad y los tipos de trabajo (10 min)\n",
        "\n",
        "Motivados por el ejercicio 7, veamos cómo se distribuyen las mujeres en varios factores. La siguiente gráfica muestra que hombres y mujeres se distribuyen de manera similar por antigüedad:"
      ]
    },
    {
      "cell_type": "code",
      "metadata": {
        "colab": {
          "base_uri": "https://localhost:8080/",
          "height": 304
        },
        "id": "xkfCXmAhoHjK",
        "outputId": "90989899-fe51-4cb9-ec93-df8c3bf85093"
      },
      "source": [
        "sns.countplot(x='seniority', hue = 'gender', data = Data) \n",
        "plt.title(\"Seniority distribution for men vs. women\", fontsize=20, verticalalignment='bottom');"
      ],
      "execution_count": null,
      "outputs": [
        {
          "output_type": "display_data",
          "data": {
            "image/png": "[encoded data removed]",
            "text/plain": [
              "<Figure size 432x288 with 1 Axes>"
            ]
          },
          "metadata": {
            "tags": [],
            "needs_background": "light"
          }
        }
      ]
    },
    {
      "cell_type": "markdown",
      "metadata": {
        "id": "NHFlWJOvoHjL"
      },
      "source": [
        "Sin embargo, observar la distribución de las mujeres en varios tipos de trabajos revela una historia diferente. En el siguiente diagrama de barras, vemos que las mujeres están desproporcionadamente subrepresentadas en la ingeniería de software y los roles gerenciales. Además, las mujeres están desproporcionadamente sobrerrepresentadas en el puesto de asociado de marketing:"
      ]
    },
    {
      "cell_type": "code",
      "metadata": {
        "colab": {
          "base_uri": "https://localhost:8080/",
          "height": 370
        },
        "id": "rDkV1Se8oHjL",
        "outputId": "0c8515e7-e96d-4ee0-ce56-e0c8e6fcb71f"
      },
      "source": [
        "pl = sns.countplot(x=\"jobtitle\", hue= \"gender\", data= Data)\n",
        "pl.set_xticklabels(pl.get_xticklabels(), rotation=40, ha=\"right\");\n",
        "plt.title(\" Distribution of men vs. women across various roles\", fontsize=20, verticalalignment='bottom');"
      ],
      "execution_count": null,
      "outputs": [
        {
          "output_type": "display_data",
          "data": {
            "image/png": "[encoded data removed]",
            "text/plain": [
              "<Figure size 432x288 with 1 Axes>"
            ]
          },
          "metadata": {
            "tags": [],
            "needs_background": "light"
          }
        }
      ]
    },
    {
      "cell_type": "code",
      "metadata": {
        "colab": {
          "base_uri": "https://localhost:8080/",
          "height": 370
        },
        "id": "3RUpZeIxoHjL",
        "outputId": "265bba18-b540-40f3-ee48-b5fdb9740f4d"
      },
      "source": [
        "pl2 = sns.boxplot(x=\"jobtitle\", y = \"pay\", data = Data)\n",
        "pl2.set_xticklabels(pl2.get_xticklabels(), rotation=40, ha=\"right\");\n",
        "plt.title(\"Pay distribution across jobtitles\", fontsize=20, verticalalignment='bottom');"
      ],
      "execution_count": null,
      "outputs": [
        {
          "output_type": "display_data",
          "data": {
            "image/png": "[encoded data removed]",
            "text/plain": [
              "<Figure size 432x288 with 1 Axes>"
            ]
          },
          "metadata": {
            "tags": [],
            "needs_background": "light"
          }
        }
      ]
    },
    {
      "cell_type": "markdown",
      "metadata": {
        "id": "b0bdj7SjoHjL"
      },
      "source": [
        "El gráfico anterior muestra que el gerente y el asociado de marketing tienen los salarios promedio más altos y más bajos, respectivamente. También vemos en el gráfico anterior que la proporción de mujeres es la más baja y la más alta en los roles de gerente y asociado de marketing, respectivamente. Esto explica visualmente el resultado de nuestro modelo de regresión acerca de por qué no hay evidencia de discrepancia salarial después de tener en cuenta todos estos factores.\n",
        "\n",
        "## Conclusiones (5 min)\n",
        "\n",
        "Usamos las técnicas de regresión lineal para determinar si existía o no discriminación salarial basada en el género dentro de su organización. Modelamos el efecto de varias variables independientes (en este caso, antigüedad, edad, desempeño y cargo) para explicar la variación observada en una variable dependiente (en este caso, el salario). Observamos la estadística de $ R $ al cuadrado de nuestros modelos lineales para ayudarnos a medir qué porcentaje de la variación observada en el pago se explica por las variables independientes.\n",
        "\n",
        "Vimos que la diferencia en el salario promedio entre hombres y mujeres es de unos 8500 USD en estos datos. Sin embargo, esta diferencia se convirtió en 400 USD y es estadísticamente indistinguible (valor $ p $ = 0.584) de cero después de controlar los otros factores correlacionados con el salario. Sin embargo, una exploración más profunda de los datos sugirió que las mujeres están desproporcionadamente sobrerrepresentadas en los trabajos peor pagados, mientras que los hombres están desproporcionadamente sobrerrepresentados en los trabajos mejor pagados.\n",
        "\n",
        "Por lo tanto, se justifica una investigación sobre las prácticas de contratación, promoción y colocación laboral de hombres y mujeres. En su informe al departamento de recursos humanos, debe pedirles que analicen las siguientes preguntas:\n",
        "1. ¿Las mujeres eligen o se ven obligadas a aceptar trabajos peor pagados?\n",
        "2. ¿Se discrimina a las mujeres en los procesos de contratación para trabajos mejor remunerados?"
      ]
    },
    {
      "cell_type": "markdown",
      "metadata": {
        "id": "EPoo_HkgoHjM"
      },
      "source": [
        "## Para llevar (7 min)\n",
        "En este caso, aprendió cómo aprovechar sus habilidades en el análisis de datos exploratorios para construir un modelo lineal efectivo que tuvo en cuenta varios factores relacionados con el resultado de interés (pago). Fundamentalmente, aprendimos que:\n",
        "\n",
        "1. No es suficiente mirar directamente la relación entre el resultado de interés y la variable independiente de interés; puede haber varios factores de confusión.\n",
        "2. Llevar a cabo la EDA antes de construir cualquier modelo es importante para descubrir y tener en cuenta estos factores de confusión que podrían estar impulsando las diferencias en el resultado de interés.\n",
        "3. $R$ al cuadrado es una cantidad importante que explica qué tan bien su modelo explicó la variación observada. Se puede utilizar para comparar diferentes modelos.\n",
        "4. Analizar los coeficientes de una regresión lineal para comprender cómo los diversos parámetros impactan en el resultado final es extremadamente importante; esta interpretabilidad es una parte clave de la traducción de datos en acciones comerciales.\n",
        "\n",
        "En estos días, los medios destacan constantemente los algoritmos de aprendizaje automático más avanzados, como las redes neuronales. Es importante que reconozca el inmenso valor de la regresión lineal, en particular por sus capacidades de inferencia e interpretabilidad. Si bien las redes neuronales pueden superar la regresión lineal en ciertas tareas, es mucho más una caja negra y comprender cómo los datos hacen que el modelo reaccione es extremadamente importante en la mayoría de los escenarios comerciales."
      ]
    },
    {
      "cell_type": "code",
      "metadata": {
        "id": "y0krPUo7oHjM"
      },
      "source": [
        ""
      ],
      "execution_count": null,
      "outputs": []
    }
  ]
}