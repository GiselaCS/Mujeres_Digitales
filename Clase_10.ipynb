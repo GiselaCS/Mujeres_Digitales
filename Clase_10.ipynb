{
  "nbformat": 4,
  "nbformat_minor": 0,
  "metadata": {
    "colab": {
      "name": "Clase_10.ipynb",
      "provenance": [],
      "authorship_tag": "ABX9TyM8cweAeNGQZ/kZpS6eqpEV",
      "include_colab_link": true
    },
    "kernelspec": {
      "name": "python3",
      "display_name": "Python 3"
    },
    "language_info": {
      "name": "python"
    }
  },
  "cells": [
    {
      "cell_type": "markdown",
      "metadata": {
        "id": "view-in-github",
        "colab_type": "text"
      },
      "source": [
        "<a href=\"https://colab.research.google.com/github/GiselaCS/Mujeres_Digitales/blob/main/Clase_10.ipynb\" target=\"_parent\"><img src=\"https://colab.research.google.com/assets/colab-badge.svg\" alt=\"Open In Colab\"/></a>"
      ]
    },
    {
      "cell_type": "code",
      "metadata": {
        "id": "YdXPvTEIpP59"
      },
      "source": [
        "import pandas as pd"
      ],
      "execution_count": 1,
      "outputs": []
    },
    {
      "cell_type": "code",
      "metadata": {
        "colab": {
          "base_uri": "https://localhost:8080/"
        },
        "id": "BlAmEhGpuYOK",
        "outputId": "ee91d40e-e4f4-48c7-9549-8acd54df1d4e"
      },
      "source": [
        "juan = pd.Series([3, None , 11, 9],\\\n",
        "                     index=['David', 'Pedro', 'Ju', 'Lin'],\\\n",
        "                     name='Counts')\n",
        "\n",
        "juan2 = pd.Series([5, None , 15, 21],\\\n",
        "                     index=['David', 'Pedro', 'Ju', 'Lin'],\\\n",
        "                     name='Counts')\n",
        "# Procesos iterativos\n",
        "for value in juan: \n",
        "  print(value)"
      ],
      "execution_count": 7,
      "outputs": [
        {
          "output_type": "stream",
          "text": [
            "3.0\n",
            "nan\n",
            "11.0\n",
            "9.0\n"
          ],
          "name": "stdout"
        }
      ]
    },
    {
      "cell_type": "code",
      "metadata": {
        "colab": {
          "base_uri": "https://localhost:8080/"
        },
        "id": "o4hQQmtUtvbY",
        "outputId": "1f4911a8-e996-40c9-f2a4-88bf1b021a99"
      },
      "source": [
        "# Uso de counts\n",
        "jj = pd.Series([67.3, 100, 96.7, None, 100],\\\n",
        "               index=['R', 'P', 'G', 'P', 'B'],\\\n",
        "               name='test2')\n",
        "print(jj)"
      ],
      "execution_count": 2,
      "outputs": [
        {
          "output_type": "stream",
          "text": [
            "R     67.3\n",
            "P    100.0\n",
            "G     96.7\n",
            "P      NaN\n",
            "B    100.0\n",
            "Name: test2, dtype: float64\n"
          ],
          "name": "stdout"
        }
      ]
    },
    {
      "cell_type": "code",
      "metadata": {
        "colab": {
          "base_uri": "https://localhost:8080/"
        },
        "id": "7R_R1zUwuADS",
        "outputId": "f272fe28-8073-45b5-e3f0-9a2c62ee4c5a"
      },
      "source": [
        "print(jj.count())\n",
        "print('----')\n",
        "print(jj.value_counts())\n",
        "print('----')\n",
        "print(jj.unique())\n",
        "print('----')\n",
        "print(jj.drop_duplicates())\n",
        "print('----')\n",
        "print(jj.duplicated())"
      ],
      "execution_count": 5,
      "outputs": [
        {
          "output_type": "stream",
          "text": [
            "4\n",
            "----\n",
            "100.0    2\n",
            "96.7     1\n",
            "67.3     1\n",
            "Name: test2, dtype: int64\n",
            "----\n",
            "[ 67.3 100.   96.7   nan]\n",
            "----\n",
            "R     67.3\n",
            "P    100.0\n",
            "G     96.7\n",
            "P      NaN\n",
            "Name: test2, dtype: float64\n",
            "----\n",
            "R    False\n",
            "P    False\n",
            "G    False\n",
            "P    False\n",
            "B     True\n",
            "Name: test2, dtype: bool\n"
          ],
          "name": "stdout"
        }
      ]
    },
    {
      "cell_type": "code",
      "metadata": {
        "colab": {
          "base_uri": "https://localhost:8080/"
        },
        "id": "LuYq9gpuuHNR",
        "outputId": "43f053e3-8070-4d6c-c57c-9cd0147ba2f1"
      },
      "source": [
        "print(jj.groupby(jj.index).first())\n",
        "print('-----------')\n",
        "print(jj.groupby(jj.index).last())"
      ],
      "execution_count": 6,
      "outputs": [
        {
          "output_type": "stream",
          "text": [
            "B    100.0\n",
            "G     96.7\n",
            "P    100.0\n",
            "R     67.3\n",
            "Name: test2, dtype: float64\n",
            "-----------\n",
            "B    100.0\n",
            "G     96.7\n",
            "P    100.0\n",
            "R     67.3\n",
            "Name: test2, dtype: float64\n"
          ],
          "name": "stdout"
        }
      ]
    },
    {
      "cell_type": "code",
      "metadata": {
        "colab": {
          "base_uri": "https://localhost:8080/"
        },
        "id": "WRLlcEjTtPOJ",
        "outputId": "667f06b0-a40c-44e2-8f60-bd5bd3e22142"
      },
      "source": [
        "# Funciones estadisticas\n",
        "print(jj.mean())\n",
        "print(jj.median())\n",
        "print(jj.quantile())\n",
        "print(jj.quantile(0.1))\n",
        "print(jj.quantile(0.9))\n",
        "print('------------')\n",
        "print(jj.describe())\n",
        "print('-----------')\n",
        "print(jj.describe(percentiles=[0.05,0.1,0.2]))\n",
        "print('------------')\n",
        "print(jj.min())\n",
        "print('------------')\n",
        "print(jj.idxmin())\n",
        "print('------------')\n",
        "print(jj.max())\n",
        "print('------------')\n",
        "print(jj.idxmax())\n"
      ],
      "execution_count": 3,
      "outputs": [
        {
          "output_type": "stream",
          "text": [
            "91.0\n",
            "98.35\n",
            "98.35\n",
            "76.12\n",
            "100.0\n",
            "------------\n",
            "count      4.000000\n",
            "mean      91.000000\n",
            "std       15.876398\n",
            "min       67.300000\n",
            "25%       89.350000\n",
            "50%       98.350000\n",
            "75%      100.000000\n",
            "max      100.000000\n",
            "Name: test2, dtype: float64\n",
            "-----------\n",
            "count      4.000000\n",
            "mean      91.000000\n",
            "std       15.876398\n",
            "min       67.300000\n",
            "5%        71.710000\n",
            "10%       76.120000\n",
            "20%       84.940000\n",
            "50%       98.350000\n",
            "max      100.000000\n",
            "Name: test2, dtype: float64\n",
            "------------\n",
            "67.3\n",
            "------------\n",
            "R\n",
            "------------\n",
            "100.0\n",
            "------------\n",
            "P\n"
          ],
          "name": "stdout"
        }
      ]
    },
    {
      "cell_type": "code",
      "metadata": {
        "colab": {
          "base_uri": "https://localhost:8080/",
          "height": 724
        },
        "id": "v9lnwYiOtVwB",
        "outputId": "e5c0c560-1349-425f-97ae-cf6a6c2cb005"
      },
      "source": [
        "print('------------')\n",
        "print(jj.var())\n",
        "print('------------')\n",
        "print(jj.std())\n",
        "print('------------')\n",
        "print(jj.mad())\n",
        "print('------------')\n",
        "print(jj.skew())\n",
        "print('------------')\n",
        "print(jj.kurt())\n",
        "print('------------')\n",
        "print(jj.corr(juan2))\n",
        "print('------------')\n",
        "print(jj.cumsum())\n",
        "print('------------')\n",
        "print(jj.cumprod())\n",
        "jj.hist()"
      ],
      "execution_count": 8,
      "outputs": [
        {
          "output_type": "stream",
          "text": [
            "------------\n",
            "252.06000000000006\n",
            "------------\n",
            "15.876397576276554\n",
            "------------\n",
            "11.850000000000001\n",
            "------------\n",
            "-1.9439329105552396\n",
            "------------\n",
            "3.7963553468668323\n",
            "------------\n",
            "nan\n",
            "------------\n",
            "R     67.3\n",
            "P    167.3\n",
            "G    264.0\n",
            "P      NaN\n",
            "B    364.0\n",
            "Name: test2, dtype: float64\n",
            "------------\n",
            "R          67.3\n",
            "P        6730.0\n",
            "G      650791.0\n",
            "P           NaN\n",
            "B    65079100.0\n",
            "Name: test2, dtype: float64\n"
          ],
          "name": "stdout"
        },
        {
          "output_type": "execute_result",
          "data": {
            "text/plain": [
              "<matplotlib.axes._subplots.AxesSubplot at 0x7f9dd425cf10>"
            ]
          },
          "metadata": {},
          "execution_count": 8
        },
        {
          "output_type": "display_data",
          "data": {
            "image/png": "[encoded data removed]",
            "text/plain": [
              "<Figure size 432x288 with 1 Axes>"
            ]
          },
          "metadata": {
            "needs_background": "light"
          }
        }
      ]
    },
    {
      "cell_type": "code",
      "metadata": {
        "colab": {
          "base_uri": "https://localhost:8080/"
        },
        "id": "grOzzxQWuoNT",
        "outputId": "9f33eff3-d66f-4ffd-e6ad-5539c68fce97"
      },
      "source": [
        "# Lidiar con Nas\n",
        "print(jj.fillna(-1))\n",
        "print(jj.dropna())\n",
        "val_mask = jj.notnull()\n",
        "val_mask\n",
        "jj[val_mask]"
      ],
      "execution_count": 9,
      "outputs": [
        {
          "output_type": "stream",
          "text": [
            "R     67.3\n",
            "P    100.0\n",
            "G     96.7\n",
            "P     -1.0\n",
            "B    100.0\n",
            "Name: test2, dtype: float64\n",
            "R     67.3\n",
            "P    100.0\n",
            "G     96.7\n",
            "B    100.0\n",
            "Name: test2, dtype: float64\n"
          ],
          "name": "stdout"
        },
        {
          "output_type": "execute_result",
          "data": {
            "text/plain": [
              "R     67.3\n",
              "P    100.0\n",
              "G     96.7\n",
              "B    100.0\n",
              "Name: test2, dtype: float64"
            ]
          },
          "metadata": {},
          "execution_count": 9
        }
      ]
    },
    {
      "cell_type": "code",
      "metadata": {
        "colab": {
          "base_uri": "https://localhost:8080/"
        },
        "id": "zQijeOE8utEl",
        "outputId": "cc5e95a8-5af3-4aa0-9cfa-a25eef25d6c2"
      },
      "source": [
        "# Sorting\n",
        "orig = jj.copy()\n",
        "print(orig.sort_values())\n",
        "print(orig.sort_values(ascending=False))\n",
        "print(orig.sort_index())\n",
        "print(orig.sort_index(ascending=False))\n",
        "#print(orig.rank())"
      ],
      "execution_count": 10,
      "outputs": [
        {
          "output_type": "stream",
          "text": [
            "R     67.3\n",
            "G     96.7\n",
            "P    100.0\n",
            "B    100.0\n",
            "P      NaN\n",
            "Name: test2, dtype: float64\n",
            "B    100.0\n",
            "P    100.0\n",
            "G     96.7\n",
            "R     67.3\n",
            "P      NaN\n",
            "Name: test2, dtype: float64\n",
            "B    100.0\n",
            "G     96.7\n",
            "P    100.0\n",
            "P      NaN\n",
            "R     67.3\n",
            "Name: test2, dtype: float64\n",
            "R     67.3\n",
            "P    100.0\n",
            "P      NaN\n",
            "G     96.7\n",
            "B    100.0\n",
            "Name: test2, dtype: float64\n"
          ],
          "name": "stdout"
        }
      ]
    },
    {
      "cell_type": "code",
      "metadata": {
        "colab": {
          "base_uri": "https://localhost:8080/"
        },
        "id": "6TA9LDeouznS",
        "outputId": "061fa50c-5c9a-4feb-a7cc-b7f483810063"
      },
      "source": [
        "# Aplicando funciones\n",
        "def format(x): \n",
        "  if x == 1:\n",
        "    template = '{} David'\n",
        "  else:\n",
        "    template = '{} David'\n",
        "  return template.format(x)\n",
        "jj.map(format)"
      ],
      "execution_count": 11,
      "outputs": [
        {
          "output_type": "execute_result",
          "data": {
            "text/plain": [
              "R     67.3 David\n",
              "P    100.0 David\n",
              "G     96.7 David\n",
              "P      nan David\n",
              "B    100.0 David\n",
              "Name: test2, dtype: object"
            ]
          },
          "metadata": {},
          "execution_count": 11
        }
      ]
    },
    {
      "cell_type": "code",
      "metadata": {
        "colab": {
          "base_uri": "https://localhost:8080/"
        },
        "id": "AMBSVNBzu4aw",
        "outputId": "213481c3-bef9-4f06-f333-4ff41427902a"
      },
      "source": [
        "# Operaciones con strings\n",
        "nombres = pd.Series(['Jorge', 'John', 'Paula'])\n",
        "print(nombres.str.lower())\n",
        "print(nombres.str.findall('o'))"
      ],
      "execution_count": 12,
      "outputs": [
        {
          "output_type": "stream",
          "text": [
            "0    jorge\n",
            "1     john\n",
            "2    paula\n",
            "dtype: object\n",
            "0    [o]\n",
            "1    [o]\n",
            "2     []\n",
            "dtype: object\n"
          ],
          "name": "stdout"
        }
      ]
    },
    {
      "cell_type": "code",
      "metadata": {
        "id": "veFq7AIt2iGG"
      },
      "source": [
        "import numpy as np\n",
        "\n",
        "data = np.array([['', \"col1\", \"col2\",\"col3\",\"col4\"], \n",
        "                 [\"row1\",11,22,33,44],\n",
        "                 [\"row2\",55,66,77,88],\n",
        "                 [\"row3\",99,1010,1111,1212],\n",
        "                 [\"row4\",1313,1414,1515,1616]])"
      ],
      "execution_count": 13,
      "outputs": []
    },
    {
      "cell_type": "code",
      "metadata": {
        "id": "bEix6oMZ28Rh"
      },
      "source": [
        "# data = all data ex = col 0 | columns = row 0 \n",
        "df = pd.DataFrame(data=data[1:,1:], index=data[1:,0], columns=data[0,1:])"
      ],
      "execution_count": 15,
      "outputs": []
    },
    {
      "cell_type": "code",
      "metadata": {
        "colab": {
          "base_uri": "https://localhost:8080/",
          "height": 137
        },
        "id": "mVqM_IUb3MDB",
        "outputId": "69740e2d-5e9c-49bd-996c-416129e32771"
      },
      "source": [
        "print(df)\n",
        "print(df.shape) # Forma\n",
        "df['col1']['row1'] # coordenadas "
      ],
      "execution_count": 16,
      "outputs": [
        {
          "output_type": "stream",
          "text": [
            "      col1  col2  col3  col4\n",
            "row1    11    22    33    44\n",
            "row2    55    66    77    88\n",
            "row3    99  1010  1111  1212\n",
            "row4  1313  1414  1515  1616\n",
            "(4, 4)\n"
          ],
          "name": "stdout"
        },
        {
          "output_type": "execute_result",
          "data": {
            "application/vnd.google.colaboratory.intrinsic+json": {
              "type": "string"
            },
            "text/plain": [
              "'11'"
            ]
          },
          "metadata": {},
          "execution_count": 16
        }
      ]
    },
    {
      "cell_type": "code",
      "metadata": {
        "colab": {
          "base_uri": "https://localhost:8080/"
        },
        "id": "smy6-qA935UO",
        "outputId": "44872bf3-522f-4452-aba2-4953e12473c4"
      },
      "source": [
        "for indx in range(4):\n",
        "  print(df.iloc[indx,indx]) "
      ],
      "execution_count": 18,
      "outputs": [
        {
          "output_type": "stream",
          "text": [
            "11\n",
            "66\n",
            "1111\n",
            "1616\n"
          ],
          "name": "stdout"
        }
      ]
    },
    {
      "cell_type": "markdown",
      "metadata": {
        "id": "0gF6LNfK4QEd"
      },
      "source": [
        "es lo mismo que hacer"
      ]
    },
    {
      "cell_type": "code",
      "metadata": {
        "colab": {
          "base_uri": "https://localhost:8080/"
        },
        "id": "SV048vKP4RrY",
        "outputId": "1a37c14e-ce49-457f-ace6-f51c5e267632"
      },
      "source": [
        "print(df.iloc[0,0])\n",
        "print(df.iloc[1,1])\n",
        "print(df.iloc[2,2])\n",
        "print(df.iloc[3,3])"
      ],
      "execution_count": 19,
      "outputs": [
        {
          "output_type": "stream",
          "text": [
            "11\n",
            "66\n",
            "1111\n",
            "1616\n"
          ],
          "name": "stdout"
        }
      ]
    },
    {
      "cell_type": "code",
      "metadata": {
        "colab": {
          "base_uri": "https://localhost:8080/"
        },
        "id": "3TDa6LQU4idj",
        "outputId": "06ce5335-3741-40f2-eb19-c0fe0e5e70fa"
      },
      "source": [
        "#otra forma con iloc\n",
        "indices = df.index.to_list() #convertir todas las filas a lista\n",
        "columnas = df.columns.to_list() #convertir todas las columnas a lista\n",
        "print(indices, columnas)"
      ],
      "execution_count": 27,
      "outputs": [
        {
          "output_type": "stream",
          "text": [
            "['row1', 'row2', 'row3', 'row4'] ['col1', 'col2', 'col3', 'col4']\n"
          ],
          "name": "stdout"
        }
      ]
    },
    {
      "cell_type": "code",
      "metadata": {
        "colab": {
          "base_uri": "https://localhost:8080/"
        },
        "id": "yisVI43t7Ol5",
        "outputId": "17df8c2a-2ed7-4fe6-b0dc-b6dc30cdd838"
      },
      "source": [
        "for indx in range(4):\n",
        "  print(df.iloc[indx,indx])"
      ],
      "execution_count": 41,
      "outputs": [
        {
          "output_type": "stream",
          "text": [
            "11\n",
            "66\n",
            "1111\n",
            "1616\n"
          ],
          "name": "stdout"
        }
      ]
    },
    {
      "cell_type": "code",
      "metadata": {
        "colab": {
          "base_uri": "https://localhost:8080/"
        },
        "id": "RqpXfWz690zF",
        "outputId": "efad8890-b399-40ea-a762-0803304055fd"
      },
      "source": [
        "#otra forma de hacerlo el llamado completo\n",
        "for j in range(4): #filas\n",
        "  for m in range(4): #columnas\n",
        "    if j<=m:\n",
        "      print( df.iloc[j,m])\n"
      ],
      "execution_count": 51,
      "outputs": [
        {
          "output_type": "stream",
          "text": [
            "11\n",
            "22\n",
            "33\n",
            "44\n",
            "66\n",
            "77\n",
            "88\n",
            "1111\n",
            "1212\n",
            "1616\n"
          ],
          "name": "stdout"
        }
      ]
    },
    {
      "cell_type": "code",
      "metadata": {
        "colab": {
          "base_uri": "https://localhost:8080/"
        },
        "id": "EbapM9vAB1fZ",
        "outputId": "9fd2b37e-1c2f-43d6-a8cf-d8f92665bc1b"
      },
      "source": [
        "#otra forma de hacerlo\n",
        "for x in range(4):\n",
        "  print(df.iloc[x,x:]) #las columnas se recorren hasta el final"
      ],
      "execution_count": 52,
      "outputs": [
        {
          "output_type": "stream",
          "text": [
            "col1    11\n",
            "col2    22\n",
            "col3    33\n",
            "col4    44\n",
            "Name: row1, dtype: object\n",
            "col2    66\n",
            "col3    77\n",
            "col4    88\n",
            "Name: row2, dtype: object\n",
            "col3    1111\n",
            "col4    1212\n",
            "Name: row3, dtype: object\n",
            "col4    1616\n",
            "Name: row4, dtype: object\n"
          ],
          "name": "stdout"
        }
      ]
    },
    {
      "cell_type": "code",
      "metadata": {
        "id": "0SHsr4OX3QNa"
      },
      "source": [
        "for ind in df.index: #indice\n",
        "  for col in df.columns: #columna\n",
        "    df.loc[ind,col] #indice 1 columna 1\n",
        "    \n"
      ],
      "execution_count": 17,
      "outputs": []
    },
    {
      "cell_type": "code",
      "metadata": {
        "id": "PuPfML1nJfgH"
      },
      "source": [
        "import pandas as pd"
      ],
      "execution_count": 66,
      "outputs": []
    },
    {
      "cell_type": "code",
      "metadata": {
        "colab": {
          "resources": {
            "http://localhost:8080/nbextensions/google.colab/files.js": {
              "data": "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",
              "ok": true,
              "headers": [
                [
                  "content-type",
                  "application/javascript"
                ]
              ],
              "status": 200,
              "status_text": ""
            }
          },
          "base_uri": "https://localhost:8080/",
          "height": 72
        },
        "id": "ArE3L6_ZJs36",
        "outputId": "c684059b-93bd-4d47-b728-0c7c680cdffb"
      },
      "source": [
        "from google.colab import files\n",
        "uploaded = files.upload()"
      ],
      "execution_count": 67,
      "outputs": [
        {
          "output_type": "display_data",
          "data": {
            "text/html": [
              "\n",
              "     <input type=\"file\" id=\"files-5a6fd806-acc9-440a-ab98-d0a43a91ceb1\" name=\"files[]\" multiple disabled\n",
              "        style=\"border:none\" />\n",
              "     <output id=\"result-5a6fd806-acc9-440a-ab98-d0a43a91ceb1\">\n",
              "      Upload widget is only available when the cell has been executed in the\n",
              "      current browser session. Please rerun this cell to enable.\n",
              "      </output>\n",
              "      <script src=\"/nbextensions/google.colab/files.js\"></script> "
            ],
            "text/plain": [
              "<IPython.core.display.HTML object>"
            ]
          },
          "metadata": {}
        },
        {
          "output_type": "stream",
          "text": [
            "Saving pokemon_data.csv to pokemon_data (1).csv\n"
          ],
          "name": "stdout"
        }
      ]
    },
    {
      "cell_type": "code",
      "metadata": {
        "colab": {
          "base_uri": "https://localhost:8080/"
        },
        "id": "vFcKDC6qF4Gy",
        "outputId": "aa3be240-6ebb-4aa3-9fc0-c000aa974c45"
      },
      "source": [
        "import os\n",
        "print(os.getcwd())"
      ],
      "execution_count": 53,
      "outputs": [
        {
          "output_type": "stream",
          "text": [
            "/content\n"
          ],
          "name": "stdout"
        }
      ]
    },
    {
      "cell_type": "code",
      "metadata": {
        "id": "nihCmBPcInEe"
      },
      "source": [
        "pk = pd.read_csv('sample_data/pokemon_data.csv')"
      ],
      "execution_count": 72,
      "outputs": []
    },
    {
      "cell_type": "code",
      "metadata": {
        "colab": {
          "base_uri": "https://localhost:8080/",
          "height": 204
        },
        "id": "MjJJDji1K3PO",
        "outputId": "16788f05-7dc2-4190-ec9c-a4d6ae911ff6"
      },
      "source": [
        "pk.head()"
      ],
      "execution_count": 73,
      "outputs": [
        {
          "output_type": "execute_result",
          "data": {
            "text/html": [
              "<div>\n",
              "<style scoped>\n",
              "    .dataframe tbody tr th:only-of-type {\n",
              "        vertical-align: middle;\n",
              "    }\n",
              "\n",
              "    .dataframe tbody tr th {\n",
              "        vertical-align: top;\n",
              "    }\n",
              "\n",
              "    .dataframe thead th {\n",
              "        text-align: right;\n",
              "    }\n",
              "</style>\n",
              "<table border=\"1\" class=\"dataframe\">\n",
              "  <thead>\n",
              "    <tr style=\"text-align: right;\">\n",
              "      <th></th>\n",
              "      <th>#</th>\n",
              "      <th>Name</th>\n",
              "      <th>Type 1</th>\n",
              "      <th>Type 2</th>\n",
              "      <th>HP</th>\n",
              "      <th>Attack</th>\n",
              "      <th>Defense</th>\n",
              "      <th>Sp. Atk</th>\n",
              "      <th>Sp. Def</th>\n",
              "      <th>Speed</th>\n",
              "      <th>Generation</th>\n",
              "      <th>Legendary</th>\n",
              "    </tr>\n",
              "  </thead>\n",
              "  <tbody>\n",
              "    <tr>\n",
              "      <th>0</th>\n",
              "      <td>1</td>\n",
              "      <td>Bulbasaur</td>\n",
              "      <td>Grass</td>\n",
              "      <td>Poison</td>\n",
              "      <td>45</td>\n",
              "      <td>49</td>\n",
              "      <td>49</td>\n",
              "      <td>65</td>\n",
              "      <td>65</td>\n",
              "      <td>45</td>\n",
              "      <td>1</td>\n",
              "      <td>False</td>\n",
              "    </tr>\n",
              "    <tr>\n",
              "      <th>1</th>\n",
              "      <td>2</td>\n",
              "      <td>Ivysaur</td>\n",
              "      <td>Grass</td>\n",
              "      <td>Poison</td>\n",
              "      <td>60</td>\n",
              "      <td>62</td>\n",
              "      <td>63</td>\n",
              "      <td>80</td>\n",
              "      <td>80</td>\n",
              "      <td>60</td>\n",
              "      <td>1</td>\n",
              "      <td>False</td>\n",
              "    </tr>\n",
              "    <tr>\n",
              "      <th>2</th>\n",
              "      <td>3</td>\n",
              "      <td>Venusaur</td>\n",
              "      <td>Grass</td>\n",
              "      <td>Poison</td>\n",
              "      <td>80</td>\n",
              "      <td>82</td>\n",
              "      <td>83</td>\n",
              "      <td>100</td>\n",
              "      <td>100</td>\n",
              "      <td>80</td>\n",
              "      <td>1</td>\n",
              "      <td>False</td>\n",
              "    </tr>\n",
              "    <tr>\n",
              "      <th>3</th>\n",
              "      <td>3</td>\n",
              "      <td>VenusaurMega Venusaur</td>\n",
              "      <td>Grass</td>\n",
              "      <td>Poison</td>\n",
              "      <td>80</td>\n",
              "      <td>100</td>\n",
              "      <td>123</td>\n",
              "      <td>122</td>\n",
              "      <td>120</td>\n",
              "      <td>80</td>\n",
              "      <td>1</td>\n",
              "      <td>False</td>\n",
              "    </tr>\n",
              "    <tr>\n",
              "      <th>4</th>\n",
              "      <td>4</td>\n",
              "      <td>Charmander</td>\n",
              "      <td>Fire</td>\n",
              "      <td>NaN</td>\n",
              "      <td>39</td>\n",
              "      <td>52</td>\n",
              "      <td>43</td>\n",
              "      <td>60</td>\n",
              "      <td>50</td>\n",
              "      <td>65</td>\n",
              "      <td>1</td>\n",
              "      <td>False</td>\n",
              "    </tr>\n",
              "  </tbody>\n",
              "</table>\n",
              "</div>"
            ],
            "text/plain": [
              "   #                   Name Type 1  ... Speed  Generation  Legendary\n",
              "0  1              Bulbasaur  Grass  ...    45           1      False\n",
              "1  2                Ivysaur  Grass  ...    60           1      False\n",
              "2  3               Venusaur  Grass  ...    80           1      False\n",
              "3  3  VenusaurMega Venusaur  Grass  ...    80           1      False\n",
              "4  4             Charmander   Fire  ...    65           1      False\n",
              "\n",
              "[5 rows x 12 columns]"
            ]
          },
          "metadata": {},
          "execution_count": 73
        }
      ]
    },
    {
      "cell_type": "code",
      "metadata": {
        "id": "rH5DFOROLdCC"
      },
      "source": [
        "pk_type =pk['Type 1'].unique()"
      ],
      "execution_count": 93,
      "outputs": []
    },
    {
      "cell_type": "code",
      "metadata": {
        "id": "grn2TUstLqY4"
      },
      "source": [
        "pk['catched'] = False"
      ],
      "execution_count": 75,
      "outputs": []
    },
    {
      "cell_type": "code",
      "metadata": {
        "colab": {
          "base_uri": "https://localhost:8080/",
          "height": 204
        },
        "id": "6lc4A7X0Lxvf",
        "outputId": "cc1a3a79-60e9-4690-cdba-b14a3dbe8ff4"
      },
      "source": [
        "pk.head()"
      ],
      "execution_count": 76,
      "outputs": [
        {
          "output_type": "execute_result",
          "data": {
            "text/html": [
              "<div>\n",
              "<style scoped>\n",
              "    .dataframe tbody tr th:only-of-type {\n",
              "        vertical-align: middle;\n",
              "    }\n",
              "\n",
              "    .dataframe tbody tr th {\n",
              "        vertical-align: top;\n",
              "    }\n",
              "\n",
              "    .dataframe thead th {\n",
              "        text-align: right;\n",
              "    }\n",
              "</style>\n",
              "<table border=\"1\" class=\"dataframe\">\n",
              "  <thead>\n",
              "    <tr style=\"text-align: right;\">\n",
              "      <th></th>\n",
              "      <th>#</th>\n",
              "      <th>Name</th>\n",
              "      <th>Type 1</th>\n",
              "      <th>Type 2</th>\n",
              "      <th>HP</th>\n",
              "      <th>Attack</th>\n",
              "      <th>Defense</th>\n",
              "      <th>Sp. Atk</th>\n",
              "      <th>Sp. Def</th>\n",
              "      <th>Speed</th>\n",
              "      <th>Generation</th>\n",
              "      <th>Legendary</th>\n",
              "      <th>catched</th>\n",
              "    </tr>\n",
              "  </thead>\n",
              "  <tbody>\n",
              "    <tr>\n",
              "      <th>0</th>\n",
              "      <td>1</td>\n",
              "      <td>Bulbasaur</td>\n",
              "      <td>Grass</td>\n",
              "      <td>Poison</td>\n",
              "      <td>45</td>\n",
              "      <td>49</td>\n",
              "      <td>49</td>\n",
              "      <td>65</td>\n",
              "      <td>65</td>\n",
              "      <td>45</td>\n",
              "      <td>1</td>\n",
              "      <td>False</td>\n",
              "      <td>False</td>\n",
              "    </tr>\n",
              "    <tr>\n",
              "      <th>1</th>\n",
              "      <td>2</td>\n",
              "      <td>Ivysaur</td>\n",
              "      <td>Grass</td>\n",
              "      <td>Poison</td>\n",
              "      <td>60</td>\n",
              "      <td>62</td>\n",
              "      <td>63</td>\n",
              "      <td>80</td>\n",
              "      <td>80</td>\n",
              "      <td>60</td>\n",
              "      <td>1</td>\n",
              "      <td>False</td>\n",
              "      <td>False</td>\n",
              "    </tr>\n",
              "    <tr>\n",
              "      <th>2</th>\n",
              "      <td>3</td>\n",
              "      <td>Venusaur</td>\n",
              "      <td>Grass</td>\n",
              "      <td>Poison</td>\n",
              "      <td>80</td>\n",
              "      <td>82</td>\n",
              "      <td>83</td>\n",
              "      <td>100</td>\n",
              "      <td>100</td>\n",
              "      <td>80</td>\n",
              "      <td>1</td>\n",
              "      <td>False</td>\n",
              "      <td>False</td>\n",
              "    </tr>\n",
              "    <tr>\n",
              "      <th>3</th>\n",
              "      <td>3</td>\n",
              "      <td>VenusaurMega Venusaur</td>\n",
              "      <td>Grass</td>\n",
              "      <td>Poison</td>\n",
              "      <td>80</td>\n",
              "      <td>100</td>\n",
              "      <td>123</td>\n",
              "      <td>122</td>\n",
              "      <td>120</td>\n",
              "      <td>80</td>\n",
              "      <td>1</td>\n",
              "      <td>False</td>\n",
              "      <td>False</td>\n",
              "    </tr>\n",
              "    <tr>\n",
              "      <th>4</th>\n",
              "      <td>4</td>\n",
              "      <td>Charmander</td>\n",
              "      <td>Fire</td>\n",
              "      <td>NaN</td>\n",
              "      <td>39</td>\n",
              "      <td>52</td>\n",
              "      <td>43</td>\n",
              "      <td>60</td>\n",
              "      <td>50</td>\n",
              "      <td>65</td>\n",
              "      <td>1</td>\n",
              "      <td>False</td>\n",
              "      <td>False</td>\n",
              "    </tr>\n",
              "  </tbody>\n",
              "</table>\n",
              "</div>"
            ],
            "text/plain": [
              "   #                   Name Type 1  ... Generation  Legendary  catched\n",
              "0  1              Bulbasaur  Grass  ...          1      False    False\n",
              "1  2                Ivysaur  Grass  ...          1      False    False\n",
              "2  3               Venusaur  Grass  ...          1      False    False\n",
              "3  3  VenusaurMega Venusaur  Grass  ...          1      False    False\n",
              "4  4             Charmander   Fire  ...          1      False    False\n",
              "\n",
              "[5 rows x 13 columns]"
            ]
          },
          "metadata": {},
          "execution_count": 76
        }
      ]
    },
    {
      "cell_type": "code",
      "metadata": {
        "colab": {
          "base_uri": "https://localhost:8080/",
          "height": 419
        },
        "id": "fEgSuvEhbTfV",
        "outputId": "b3b36f8f-9705-40f4-d11c-2d03a08b845d"
      },
      "source": [
        "#todos\n",
        "pk"
      ],
      "execution_count": 77,
      "outputs": [
        {
          "output_type": "execute_result",
          "data": {
            "text/html": [
              "<div>\n",
              "<style scoped>\n",
              "    .dataframe tbody tr th:only-of-type {\n",
              "        vertical-align: middle;\n",
              "    }\n",
              "\n",
              "    .dataframe tbody tr th {\n",
              "        vertical-align: top;\n",
              "    }\n",
              "\n",
              "    .dataframe thead th {\n",
              "        text-align: right;\n",
              "    }\n",
              "</style>\n",
              "<table border=\"1\" class=\"dataframe\">\n",
              "  <thead>\n",
              "    <tr style=\"text-align: right;\">\n",
              "      <th></th>\n",
              "      <th>#</th>\n",
              "      <th>Name</th>\n",
              "      <th>Type 1</th>\n",
              "      <th>Type 2</th>\n",
              "      <th>HP</th>\n",
              "      <th>Attack</th>\n",
              "      <th>Defense</th>\n",
              "      <th>Sp. Atk</th>\n",
              "      <th>Sp. Def</th>\n",
              "      <th>Speed</th>\n",
              "      <th>Generation</th>\n",
              "      <th>Legendary</th>\n",
              "      <th>catched</th>\n",
              "    </tr>\n",
              "  </thead>\n",
              "  <tbody>\n",
              "    <tr>\n",
              "      <th>0</th>\n",
              "      <td>1</td>\n",
              "      <td>Bulbasaur</td>\n",
              "      <td>Grass</td>\n",
              "      <td>Poison</td>\n",
              "      <td>45</td>\n",
              "      <td>49</td>\n",
              "      <td>49</td>\n",
              "      <td>65</td>\n",
              "      <td>65</td>\n",
              "      <td>45</td>\n",
              "      <td>1</td>\n",
              "      <td>False</td>\n",
              "      <td>False</td>\n",
              "    </tr>\n",
              "    <tr>\n",
              "      <th>1</th>\n",
              "      <td>2</td>\n",
              "      <td>Ivysaur</td>\n",
              "      <td>Grass</td>\n",
              "      <td>Poison</td>\n",
              "      <td>60</td>\n",
              "      <td>62</td>\n",
              "      <td>63</td>\n",
              "      <td>80</td>\n",
              "      <td>80</td>\n",
              "      <td>60</td>\n",
              "      <td>1</td>\n",
              "      <td>False</td>\n",
              "      <td>False</td>\n",
              "    </tr>\n",
              "    <tr>\n",
              "      <th>2</th>\n",
              "      <td>3</td>\n",
              "      <td>Venusaur</td>\n",
              "      <td>Grass</td>\n",
              "      <td>Poison</td>\n",
              "      <td>80</td>\n",
              "      <td>82</td>\n",
              "      <td>83</td>\n",
              "      <td>100</td>\n",
              "      <td>100</td>\n",
              "      <td>80</td>\n",
              "      <td>1</td>\n",
              "      <td>False</td>\n",
              "      <td>False</td>\n",
              "    </tr>\n",
              "    <tr>\n",
              "      <th>3</th>\n",
              "      <td>3</td>\n",
              "      <td>VenusaurMega Venusaur</td>\n",
              "      <td>Grass</td>\n",
              "      <td>Poison</td>\n",
              "      <td>80</td>\n",
              "      <td>100</td>\n",
              "      <td>123</td>\n",
              "      <td>122</td>\n",
              "      <td>120</td>\n",
              "      <td>80</td>\n",
              "      <td>1</td>\n",
              "      <td>False</td>\n",
              "      <td>False</td>\n",
              "    </tr>\n",
              "    <tr>\n",
              "      <th>4</th>\n",
              "      <td>4</td>\n",
              "      <td>Charmander</td>\n",
              "      <td>Fire</td>\n",
              "      <td>NaN</td>\n",
              "      <td>39</td>\n",
              "      <td>52</td>\n",
              "      <td>43</td>\n",
              "      <td>60</td>\n",
              "      <td>50</td>\n",
              "      <td>65</td>\n",
              "      <td>1</td>\n",
              "      <td>False</td>\n",
              "      <td>False</td>\n",
              "    </tr>\n",
              "    <tr>\n",
              "      <th>...</th>\n",
              "      <td>...</td>\n",
              "      <td>...</td>\n",
              "      <td>...</td>\n",
              "      <td>...</td>\n",
              "      <td>...</td>\n",
              "      <td>...</td>\n",
              "      <td>...</td>\n",
              "      <td>...</td>\n",
              "      <td>...</td>\n",
              "      <td>...</td>\n",
              "      <td>...</td>\n",
              "      <td>...</td>\n",
              "      <td>...</td>\n",
              "    </tr>\n",
              "    <tr>\n",
              "      <th>795</th>\n",
              "      <td>719</td>\n",
              "      <td>Diancie</td>\n",
              "      <td>Rock</td>\n",
              "      <td>Fairy</td>\n",
              "      <td>50</td>\n",
              "      <td>100</td>\n",
              "      <td>150</td>\n",
              "      <td>100</td>\n",
              "      <td>150</td>\n",
              "      <td>50</td>\n",
              "      <td>6</td>\n",
              "      <td>True</td>\n",
              "      <td>False</td>\n",
              "    </tr>\n",
              "    <tr>\n",
              "      <th>796</th>\n",
              "      <td>719</td>\n",
              "      <td>DiancieMega Diancie</td>\n",
              "      <td>Rock</td>\n",
              "      <td>Fairy</td>\n",
              "      <td>50</td>\n",
              "      <td>160</td>\n",
              "      <td>110</td>\n",
              "      <td>160</td>\n",
              "      <td>110</td>\n",
              "      <td>110</td>\n",
              "      <td>6</td>\n",
              "      <td>True</td>\n",
              "      <td>False</td>\n",
              "    </tr>\n",
              "    <tr>\n",
              "      <th>797</th>\n",
              "      <td>720</td>\n",
              "      <td>HoopaHoopa Confined</td>\n",
              "      <td>Psychic</td>\n",
              "      <td>Ghost</td>\n",
              "      <td>80</td>\n",
              "      <td>110</td>\n",
              "      <td>60</td>\n",
              "      <td>150</td>\n",
              "      <td>130</td>\n",
              "      <td>70</td>\n",
              "      <td>6</td>\n",
              "      <td>True</td>\n",
              "      <td>False</td>\n",
              "    </tr>\n",
              "    <tr>\n",
              "      <th>798</th>\n",
              "      <td>720</td>\n",
              "      <td>HoopaHoopa Unbound</td>\n",
              "      <td>Psychic</td>\n",
              "      <td>Dark</td>\n",
              "      <td>80</td>\n",
              "      <td>160</td>\n",
              "      <td>60</td>\n",
              "      <td>170</td>\n",
              "      <td>130</td>\n",
              "      <td>80</td>\n",
              "      <td>6</td>\n",
              "      <td>True</td>\n",
              "      <td>False</td>\n",
              "    </tr>\n",
              "    <tr>\n",
              "      <th>799</th>\n",
              "      <td>721</td>\n",
              "      <td>Volcanion</td>\n",
              "      <td>Fire</td>\n",
              "      <td>Water</td>\n",
              "      <td>80</td>\n",
              "      <td>110</td>\n",
              "      <td>120</td>\n",
              "      <td>130</td>\n",
              "      <td>90</td>\n",
              "      <td>70</td>\n",
              "      <td>6</td>\n",
              "      <td>True</td>\n",
              "      <td>False</td>\n",
              "    </tr>\n",
              "  </tbody>\n",
              "</table>\n",
              "<p>800 rows × 13 columns</p>\n",
              "</div>"
            ],
            "text/plain": [
              "       #                   Name   Type 1  ... Generation  Legendary  catched\n",
              "0      1              Bulbasaur    Grass  ...          1      False    False\n",
              "1      2                Ivysaur    Grass  ...          1      False    False\n",
              "2      3               Venusaur    Grass  ...          1      False    False\n",
              "3      3  VenusaurMega Venusaur    Grass  ...          1      False    False\n",
              "4      4             Charmander     Fire  ...          1      False    False\n",
              "..   ...                    ...      ...  ...        ...        ...      ...\n",
              "795  719                Diancie     Rock  ...          6       True    False\n",
              "796  719    DiancieMega Diancie     Rock  ...          6       True    False\n",
              "797  720    HoopaHoopa Confined  Psychic  ...          6       True    False\n",
              "798  720     HoopaHoopa Unbound  Psychic  ...          6       True    False\n",
              "799  721              Volcanion     Fire  ...          6       True    False\n",
              "\n",
              "[800 rows x 13 columns]"
            ]
          },
          "metadata": {},
          "execution_count": 77
        }
      ]
    },
    {
      "cell_type": "code",
      "metadata": {
        "colab": {
          "base_uri": "https://localhost:8080/"
        },
        "id": "IyIwtmPghZTc",
        "outputId": "a3ed70d2-5480-4dd9-8b3c-a0e30cee362a"
      },
      "source": [
        "\n",
        "pk[pk['Type 1']== 'Grass']['catched'] == True\n",
        "\n"
      ],
      "execution_count": 97,
      "outputs": [
        {
          "output_type": "execute_result",
          "data": {
            "text/plain": [
              "0      False\n",
              "1      False\n",
              "2      False\n",
              "3      False\n",
              "48     False\n",
              "       ...  \n",
              "718    False\n",
              "719    False\n",
              "720    False\n",
              "740    False\n",
              "741    False\n",
              "Name: catched, Length: 70, dtype: bool"
            ]
          },
          "metadata": {},
          "execution_count": 97
        }
      ]
    },
    {
      "cell_type": "code",
      "metadata": {
        "colab": {
          "base_uri": "https://localhost:8080/"
        },
        "id": "eL_MmaJTj1c7",
        "outputId": "acf4c57a-c3e0-40b4-9cd0-0bd4b8d6d695"
      },
      "source": [
        "#tipos de pokemones\n",
        "for i in pk_type:\n",
        "  print(i)"
      ],
      "execution_count": 102,
      "outputs": [
        {
          "output_type": "stream",
          "text": [
            "Grass\n",
            "Fire\n",
            "Water\n",
            "Bug\n",
            "Normal\n",
            "Poison\n",
            "Electric\n",
            "Ground\n",
            "Fairy\n",
            "Fighting\n",
            "Psychic\n",
            "Rock\n",
            "Ghost\n",
            "Ice\n",
            "Dragon\n",
            "Dark\n",
            "Steel\n",
            "Flying\n"
          ],
          "name": "stdout"
        }
      ]
    },
    {
      "cell_type": "code",
      "metadata": {
        "colab": {
          "base_uri": "https://localhost:8080/"
        },
        "id": "2ZS4hzhwkJhL",
        "outputId": "df5d4fe5-1e37-47d2-e4bf-ef3c3716d865"
      },
      "source": [
        "pk[pk['Type 1']== 'Fire']['catched'] == True"
      ],
      "execution_count": 103,
      "outputs": [
        {
          "output_type": "execute_result",
          "data": {
            "text/plain": [
              "4      False\n",
              "5      False\n",
              "6      False\n",
              "7      False\n",
              "8      False\n",
              "42     False\n",
              "43     False\n",
              "63     False\n",
              "64     False\n",
              "83     False\n",
              "84     False\n",
              "135    False\n",
              "147    False\n",
              "158    False\n",
              "169    False\n",
              "170    False\n",
              "171    False\n",
              "236    False\n",
              "237    False\n",
              "259    False\n",
              "263    False\n",
              "270    False\n",
              "276    False\n",
              "277    False\n",
              "278    False\n",
              "279    False\n",
              "352    False\n",
              "353    False\n",
              "354    False\n",
              "355    False\n",
              "435    False\n",
              "436    False\n",
              "437    False\n",
              "518    False\n",
              "542    False\n",
              "557    False\n",
              "558    False\n",
              "559    False\n",
              "572    False\n",
              "573    False\n",
              "614    False\n",
              "615    False\n",
              "616    False\n",
              "692    False\n",
              "721    False\n",
              "722    False\n",
              "723    False\n",
              "730    False\n",
              "731    False\n",
              "735    False\n",
              "736    False\n",
              "799    False\n",
              "Name: catched, dtype: bool"
            ]
          },
          "metadata": {},
          "execution_count": 103
        }
      ]
    },
    {
      "cell_type": "code",
      "metadata": {
        "id": "HyjxstTPmSiq"
      },
      "source": [
        "pk[pk['Type 1']== 'Water']['catched'] == True"
      ],
      "execution_count": null,
      "outputs": []
    },
    {
      "cell_type": "code",
      "metadata": {
        "id": "C9NeZjdYmWaf"
      },
      "source": [
        "pk[pk['Type 1']== 'Bug']['catched'] == True"
      ],
      "execution_count": null,
      "outputs": []
    },
    {
      "cell_type": "code",
      "metadata": {
        "id": "1RBKInM5mZRG"
      },
      "source": [
        "pk[pk['Type 1']== 'Normal']['catched'] == True"
      ],
      "execution_count": null,
      "outputs": []
    },
    {
      "cell_type": "code",
      "metadata": {
        "id": "Kv8AcAyImcLS"
      },
      "source": [
        "pk[pk['Type 1']== 'Poison']['catched'] == True"
      ],
      "execution_count": null,
      "outputs": []
    },
    {
      "cell_type": "code",
      "metadata": {
        "id": "jFgc7DJsmehD"
      },
      "source": [
        "pk[pk['Type 1']== 'Eletric']['catched'] == True"
      ],
      "execution_count": null,
      "outputs": []
    },
    {
      "cell_type": "code",
      "metadata": {
        "id": "SLE-JiG0mnic"
      },
      "source": [
        "pk[pk['Type 1']== 'Ground']['catched'] == True"
      ],
      "execution_count": null,
      "outputs": []
    },
    {
      "cell_type": "code",
      "metadata": {
        "id": "IQ8RZGKtmtiO"
      },
      "source": [
        "pk[pk['Type 1']== 'Fairy']['catched'] == True"
      ],
      "execution_count": null,
      "outputs": []
    },
    {
      "cell_type": "code",
      "metadata": {
        "id": "8SEZMoQXm0g5"
      },
      "source": [
        "pk[pk['Type 1']== 'Faighting']['catched'] == True"
      ],
      "execution_count": null,
      "outputs": []
    },
    {
      "cell_type": "code",
      "metadata": {
        "id": "4eYbT9MAm6-7"
      },
      "source": [
        "pk[pk['Type 1']== 'Psychic']['catched'] == True"
      ],
      "execution_count": null,
      "outputs": []
    },
    {
      "cell_type": "code",
      "metadata": {
        "id": "EYuExyYMnFKJ"
      },
      "source": [
        "pk[pk['Type 1']== 'Rock']['catched'] == True"
      ],
      "execution_count": null,
      "outputs": []
    },
    {
      "cell_type": "code",
      "metadata": {
        "id": "hJAvXzuqnMw6"
      },
      "source": [
        "pk[pk['Type 1']== 'Ghost']['catched'] == True"
      ],
      "execution_count": null,
      "outputs": []
    },
    {
      "cell_type": "code",
      "metadata": {
        "id": "m6IfxMtJnUgD"
      },
      "source": [
        "pk[pk['Type 1']== 'Ice']['catched'] == True"
      ],
      "execution_count": null,
      "outputs": []
    },
    {
      "cell_type": "code",
      "metadata": {
        "id": "k4Ve8ulknd5_"
      },
      "source": [
        "pk[pk['Type 1']== 'Dragon']['catched'] == True"
      ],
      "execution_count": null,
      "outputs": []
    },
    {
      "cell_type": "code",
      "metadata": {
        "id": "d1Eq5Z7sni6p"
      },
      "source": [
        "pk[pk['Type 1']== 'Dark']['catched'] == True"
      ],
      "execution_count": null,
      "outputs": []
    },
    {
      "cell_type": "code",
      "metadata": {
        "id": "ff6vI-0snnf0"
      },
      "source": [
        "pk[pk['Type 1']== 'Steel']['catched'] == True"
      ],
      "execution_count": null,
      "outputs": []
    },
    {
      "cell_type": "code",
      "metadata": {
        "id": "JTrnJIJHnsIn"
      },
      "source": [
        "pk[pk['Type 1']== 'Flying']['catched'] == True"
      ],
      "execution_count": null,
      "outputs": []
    }
  ]
}