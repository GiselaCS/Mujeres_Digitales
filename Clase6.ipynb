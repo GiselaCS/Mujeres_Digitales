{
  "nbformat": 4,
  "nbformat_minor": 0,
  "metadata": {
    "colab": {
      "name": "Clase6.ipynb",
      "provenance": [],
      "authorship_tag": "ABX9TyNEGst4mymgKyyFKuhMClIn",
      "include_colab_link": true
    },
    "kernelspec": {
      "name": "python3",
      "display_name": "Python 3"
    },
    "language_info": {
      "name": "python"
    }
  },
  "cells": [
    {
      "cell_type": "markdown",
      "metadata": {
        "id": "view-in-github",
        "colab_type": "text"
      },
      "source": [
        "<a href=\"https://colab.research.google.com/github/GiselaCS/Mujeres_Digitales/blob/main/Clase6.ipynb\" target=\"_parent\"><img src=\"https://colab.research.google.com/assets/colab-badge.svg\" alt=\"Open In Colab\"/></a>"
      ]
    },
    {
      "cell_type": "code",
      "metadata": {
        "id": "gbKOSCrHnFOt"
      },
      "source": [
        ""
      ],
      "execution_count": null,
      "outputs": []
    },
    {
      "cell_type": "markdown",
      "metadata": {
        "id": "CV5I6Qr-oUa-"
      },
      "source": [
        "**CONTINUACION DE LOS EJEMPLOS DEL USO DE LISTA DE COMPRENSION**\n",
        "---\n",
        "*COMPRENSION DE CONJUNTOS*\n",
        "\n",
        "La comprension es muy similar a la que veniamos manejando con Lista. La unica diferencia es que se usan los {}\n",
        "\n",
        "Recordemos que los conjuntos tambien denonimados \"sets\", no permiten duplicados, es decir, cada elemento es unico. si se llega añadir un elemento repetido, no arroja error, "
      ]
    },
    {
      "cell_type": "code",
      "metadata": {
        "colab": {
          "base_uri": "https://localhost:8080/"
        },
        "id": "Hbx-afmWpuoX",
        "outputId": "9449a110-1ba1-4c93-897b-47e8eed42f66"
      },
      "source": [
        "sa=\"ema ama a mama\"\n",
        "#para cada valor que se puede iterar en sa, lo itera si algun valor es igual a m\n",
        "sa2={i for i in sa if i==\"m\" }\n",
        "print(sa2)"
      ],
      "execution_count": null,
      "outputs": [
        {
          "output_type": "stream",
          "text": [
            "{'m'}\n"
          ],
          "name": "stdout"
        }
      ]
    },
    {
      "cell_type": "markdown",
      "metadata": {
        "id": "kRUvuj3XqaRw"
      },
      "source": [
        "Ahora, veamos a continuacion el caso de diccionarios de comprensión.\n",
        "\n",
        "la unica diferencia que tiene respecto a las listas o conjuntos de compresion es la especificacon de llaves, o claves(key)."
      ]
    },
    {
      "cell_type": "code",
      "metadata": {
        "colab": {
          "base_uri": "https://localhost:8080/"
        },
        "id": "bFz2gnORqv25",
        "outputId": "cc6801ef-ada6-4583-d6f6-d97fb254f31d"
      },
      "source": [
        "#aqui estan las claves\n",
        "lista=['nombre', \"apellido\", \"ciudad\"]\n",
        "#aqui el contenido o informacion\n",
        "lista2=[\"ana\", \"Rodiguez\", \"popayan\"]\n",
        "#i identifica la llave, y la j el contenido, zip conjunto de los datos\n",
        "dict={i:j for i, j in zip(lista,lista2)}\n",
        "print(dict)"
      ],
      "execution_count": null,
      "outputs": [
        {
          "output_type": "stream",
          "text": [
            "{'nombre': 'ana', 'apellido': 'Rodiguez', 'ciudad': 'popayan'}\n"
          ],
          "name": "stdout"
        }
      ]
    },
    {
      "cell_type": "markdown",
      "metadata": {
        "id": "xp2xP4_fr1Fq"
      },
      "source": [
        "Pudimos observar que añadiendo :, asignamos un valor a la llave declarada, a su vez, usamos zip() el cual tiene, como funcion iterar dos listas en paralelo. \n",
        "es decir como zip podemos convertir dos listas en un diccionario y el for se manejaria iterando los valores en simultaneo. \n",
        "\n",
        "\n"
      ]
    },
    {
      "cell_type": "markdown",
      "metadata": {
        "id": "-uwjYzFrscT-"
      },
      "source": [
        "**OTRAS ESTRUCTURAS DE CONTROL**\n",
        "---\n",
        "1. Switch\n",
        "2. Brak\n",
        "3. Continue\n",
        "4. Complemento de iteracion (Enumerate)"
      ]
    },
    {
      "cell_type": "markdown",
      "metadata": {
        "id": "CjyZYebOssqk"
      },
      "source": [
        "**1. Switch**\n",
        "\n",
        "esta es una herramienta, que permite ejecutar diferentes secciones de codigo dependiendo de las condiciones impuestas. Su funcion es muy similar a usar If anidados o varios por separados al mismo tiempo.\n",
        "\n",
        "sin embargo en python no hay un Switch directo.\n",
        "\n",
        "**2. break **\n",
        "\n",
        "Nos permite alterar el comportamiento de los ciclos de while y for, directamente su funcion es la de finalizar los ciclos."
      ]
    },
    {
      "cell_type": "code",
      "metadata": {
        "colab": {
          "base_uri": "https://localhost:8080/"
        },
        "id": "53X9JxbCt0_S",
        "outputId": "1d1affa5-a1ae-4d08-f2f1-d91eb0abcfc5"
      },
      "source": [
        "x=\"Andrea\"\n",
        "for i in x:\n",
        "  if i == \"e\":\n",
        "    print(\"se obtuvo la letra e\")\n",
        "    break\n",
        "print(i)"
      ],
      "execution_count": null,
      "outputs": [
        {
          "output_type": "stream",
          "text": [
            "se obtuvo la letra e\n",
            "e\n"
          ],
          "name": "stdout"
        }
      ]
    },
    {
      "cell_type": "code",
      "metadata": {
        "colab": {
          "base_uri": "https://localhost:8080/"
        },
        "id": "cuVMnkPlvEUJ",
        "outputId": "adda4686-d47e-4428-879e-56d753c1db50"
      },
      "source": [
        "x = 15\n",
        "while  True:\n",
        "  x -=1\n",
        "  print(x)\n",
        "  if x==0:\n",
        "    break\n",
        "print(\"Se finaliza el ciclo\")"
      ],
      "execution_count": null,
      "outputs": [
        {
          "output_type": "stream",
          "text": [
            "14\n",
            "13\n",
            "12\n",
            "11\n",
            "10\n",
            "9\n",
            "8\n",
            "7\n",
            "6\n",
            "5\n",
            "4\n",
            "3\n",
            "2\n",
            "1\n",
            "0\n",
            "Se finaliza el ciclo\n"
          ],
          "name": "stdout"
        }
      ]
    },
    {
      "cell_type": "markdown",
      "metadata": {
        "id": "2Feqb5tXu_IW"
      },
      "source": [
        ""
      ]
    },
    {
      "cell_type": "code",
      "metadata": {
        "colab": {
          "base_uri": "https://localhost:8080/"
        },
        "id": "-vp_b8Z2wdh3",
        "outputId": "9554a742-f365-4635-d66c-4f6becaa8555"
      },
      "source": [
        "#uso del break con los ciclos anidados \n",
        "for i in range(1,8):\n",
        "  for j in range(1,8):\n",
        "    break\n",
        "  print(i,j)\n",
        "#el break no afecta el for exterior, rompe el ciclo anidado en su conjunto, pero no afecta directamente el cilco exterior"
      ],
      "execution_count": null,
      "outputs": [
        {
          "output_type": "stream",
          "text": [
            "1 1\n",
            "2 1\n",
            "3 1\n",
            "4 1\n",
            "5 1\n",
            "6 1\n",
            "7 1\n"
          ],
          "name": "stdout"
        }
      ]
    },
    {
      "cell_type": "markdown",
      "metadata": {
        "id": "pzrFPHy9xok6"
      },
      "source": [
        "** 2. Continue**\n",
        "---\n",
        "El continue se salta todo el código restante en la iteración actual y vuelve al principio en caso que queden elementos por iterar.\n",
        "\n",
        "Diferencias entre break y continue: La printipal diferencia es que el continue NO rompe el ciclo si no que pasa a la iteración pendiente."
      ]
    },
    {
      "cell_type": "code",
      "metadata": {
        "colab": {
          "base_uri": "https://localhost:8080/"
        },
        "id": "7xeya6QmyWG8",
        "outputId": "be52e2a4-5c16-4569-a0a8-0f6f940972b3"
      },
      "source": [
        "x= \"Andrea\"\n",
        "for i in x:\n",
        "  if i==\"r\":\n",
        "    continue\n",
        "  print(i)"
      ],
      "execution_count": null,
      "outputs": [
        {
          "output_type": "stream",
          "text": [
            "A\n",
            "n\n",
            "d\n",
            "e\n",
            "a\n"
          ],
          "name": "stdout"
        }
      ]
    },
    {
      "cell_type": "code",
      "metadata": {
        "colab": {
          "base_uri": "https://localhost:8080/"
        },
        "id": "QjoNrLsfyuR-",
        "outputId": "ac8334bc-e86f-4edc-abbe-5c08dd65e7c6"
      },
      "source": [
        "x= 15 \n",
        "while x>0:\n",
        "  x -= 1\n",
        "  if x==3:\n",
        "    continue\n",
        "  print(x)"
      ],
      "execution_count": null,
      "outputs": [
        {
          "output_type": "stream",
          "text": [
            "14\n",
            "13\n",
            "12\n",
            "11\n",
            "10\n",
            "9\n",
            "8\n",
            "7\n",
            "6\n",
            "5\n",
            "4\n",
            "2\n",
            "1\n",
            "0\n"
          ],
          "name": "stdout"
        }
      ]
    },
    {
      "cell_type": "markdown",
      "metadata": {
        "id": "QeVSvCm_zaGY"
      },
      "source": [
        "** Iterar con enumerate**\n",
        "---\n",
        "python nos permite iterar colecciones de objetos y elementos de la misma forma.\n",
        "sin embargo hay una opcion que es que en algunas situaciones que queramos acceder a un elemento ordenado podemos hacerlo, nombrando el indice de cada elemento llamado.\n",
        "\n"
      ]
    },
    {
      "cell_type": "code",
      "metadata": {
        "colab": {
          "base_uri": "https://localhost:8080/"
        },
        "id": "UqCXFNFcz3Lm",
        "outputId": "a6e545da-3893-4233-cb3d-b0b70b6caff4"
      },
      "source": [
        "w=[\"sa\", \"se\", \"si\", \"so\", \"su\"]\n",
        "indice =0\n",
        "for i in w: \n",
        "  print(indice, i)\n",
        "  indice +=1\n",
        "  "
      ],
      "execution_count": null,
      "outputs": [
        {
          "output_type": "stream",
          "text": [
            "0 sa\n",
            "1 se\n",
            "2 si\n",
            "3 so\n",
            "4 su\n"
          ],
          "name": "stdout"
        }
      ]
    },
    {
      "cell_type": "code",
      "metadata": {
        "colab": {
          "base_uri": "https://localhost:8080/"
        },
        "id": "xCV7fqyq0eQj",
        "outputId": "0930cf72-da2d-4056-9ff6-ac469fed9efb"
      },
      "source": [
        "w=[\"sa\", \"se\", \"si\", \"so\", \"su\"]\n",
        "for indice, i in enumerate(w):\n",
        "  print(indice,1)\n",
        "\n",
        "x= list(enumerate(w))\n",
        "print(x)"
      ],
      "execution_count": null,
      "outputs": [
        {
          "output_type": "stream",
          "text": [
            "0 1\n",
            "1 1\n",
            "2 1\n",
            "3 1\n",
            "4 1\n",
            "[(0, 'sa'), (1, 'se'), (2, 'si'), (3, 'so'), (4, 'su')]\n"
          ],
          "name": "stdout"
        }
      ]
    },
    {
      "cell_type": "markdown",
      "metadata": {
        "id": "ag82bq0012j5"
      },
      "source": [
        "**Uso zip()**\n",
        "---\n",
        "si pasamos dos listas a zip, el resultado sera una tupla donde cada elemento tendra todos y cada uno de los elementos de las entradas. \n"
      ]
    },
    {
      "cell_type": "code",
      "metadata": {
        "colab": {
          "base_uri": "https://localhost:8080/"
        },
        "id": "FIt5okuA2Cfg",
        "outputId": "f3df700f-8eb3-4db1-dc97-10d3ab29f932"
      },
      "source": [
        "a=[1,2,3]\n",
        "b=[\"a\", \"b\", \"c\"]\n",
        "x=(\"q\", \"w\", \"e\")\n",
        "z=(10,20,30)\n",
        "c=zip(a,b)\n",
        "print(list(c))\n",
        "\n",
        "for i, j, g, m in zip(a,b,x,z):\n",
        "  print(\"numero\",i, \"letras\", j)\n",
        "  print(i,j,g,m)"
      ],
      "execution_count": null,
      "outputs": [
        {
          "output_type": "stream",
          "text": [
            "[(1, 'a'), (2, 'b'), (3, 'c')]\n",
            "numero 1 letras a\n",
            "1 a q 10\n",
            "numero 2 letras b\n",
            "2 b w 20\n",
            "numero 3 letras c\n",
            "3 c e 30\n"
          ],
          "name": "stdout"
        }
      ]
    },
    {
      "cell_type": "code",
      "metadata": {
        "colab": {
          "base_uri": "https://localhost:8080/"
        },
        "id": "z4-ZcQi_4HuA",
        "outputId": "c13c3742-34e3-4057-bedb-b1d3734fd319"
      },
      "source": [
        "#solo itera la misma cantidad de filas y columnas, es decir en este caso solo itera 2\n",
        "a=[1,2,3]\n",
        "b=[\"a\", \"b\"]\n",
        "\n",
        "for sa,se in zip(a,b):\n",
        "  print(sa,se)"
      ],
      "execution_count": null,
      "outputs": [
        {
          "output_type": "stream",
          "text": [
            "1 a\n",
            "2 b\n"
          ],
          "name": "stdout"
        }
      ]
    },
    {
      "cell_type": "code",
      "metadata": {
        "colab": {
          "base_uri": "https://localhost:8080/"
        },
        "id": "3yGkMmm-41iQ",
        "outputId": "7ecb171f-f623-4a1b-88e6-c0d8bf4a1ae3"
      },
      "source": [
        "#para separar por categoria\n",
        "c=[(1,\"a\"), (2,\"b\"), (3,\"c\")]\n",
        "a,b=zip(*c)\n",
        "print(a)\n",
        "print(b)\n",
        "\n"
      ],
      "execution_count": null,
      "outputs": [
        {
          "output_type": "stream",
          "text": [
            "(1, 2, 3)\n",
            "('a', 'b', 'c')\n"
          ],
          "name": "stdout"
        }
      ]
    },
    {
      "cell_type": "markdown",
      "metadata": {
        "id": "dZaku7a455az"
      },
      "source": [
        "**Funciones**\n",
        "---\n",
        "la funcion nos permite ordenar de manera adecuada la generacion de objetos y bloques de codigo por ciclos y demas estructura.\n",
        "\n",
        "la sintaxis es la siguiente:\n",
        "\n",
        "def nombre_funcion(argumento):\n",
        "\n",
        "  codigo\n",
        "\n",
        "nombre_funcion(argumento2)\n"
      ]
    },
    {
      "cell_type": "code",
      "metadata": {
        "colab": {
          "base_uri": "https://localhost:8080/"
        },
        "id": "h4jSI1cr66e4",
        "outputId": "ac4e6664-c276-4e5a-b84a-15b87f236b30"
      },
      "source": [
        "def f(a):\n",
        "  return 2*a\n",
        "y=f(3)\n",
        "print(y)"
      ],
      "execution_count": null,
      "outputs": [
        {
          "output_type": "stream",
          "text": [
            "6\n"
          ],
          "name": "stdout"
        }
      ]
    },
    {
      "cell_type": "markdown",
      "metadata": {
        "id": "sESppuK67mBE"
      },
      "source": [
        "Las funciones no sólo realizan una operación con sus entradas (argumentos de inicio), sino tambien parten de los siguientes principios:\n",
        "\n",
        "1. Reusabilidad si tenemos un fragmento de código usado en muchos sitios, y se guardan en una función nos evitará tener códigos repetidos. Ademas de la conveniencia que tiene por ser facilmente editable.\n",
        "\n",
        "2. Modularidad Permite legibilidad de forma mas sencilla, es decir, los largos bloques de código se pueden agrupar en modulos o funciones y la lectura va a ser mucho mas sencilla."
      ]
    },
    {
      "cell_type": "code",
      "metadata": {
        "colab": {
          "base_uri": "https://localhost:8080/"
        },
        "id": "I1xU3dvdIAo8",
        "outputId": "7fbdfa8c-be1b-4241-ceda-4832f1cf9c41"
      },
      "source": [
        "#Ejemplo 1: Función SIN argumentos de entrada ni parametros de salida:\n",
        "\n",
        "def s():\n",
        "  print(\"hi gisela\") # hasta aqui DECLARCIÓN DE LA FUNCIÓN sale chulito verde al ejecutarla\n",
        "s() #Al cerrar la definición de función me va aparecer la ejecución del código"
      ],
      "execution_count": null,
      "outputs": [
        {
          "output_type": "stream",
          "text": [
            "hi gisela\n"
          ],
          "name": "stdout"
        }
      ]
    },
    {
      "cell_type": "code",
      "metadata": {
        "colab": {
          "base_uri": "https://localhost:8080/"
        },
        "id": "2sh6vO45IKAe",
        "outputId": "be49ef98-3f23-47da-81a1-7ed1b2bb46d6"
      },
      "source": [
        "#Ejemplo 2: incluir argmentos de entrada\n",
        "\n",
        "def s(apellido):\n",
        "  print(\"Hola gisela\", apellido) #apelllido no tiene valor alguno\n",
        "s(\"Criollo suarez\") #cuando se cierrar la funcion le doy un valor de salida"
      ],
      "execution_count": null,
      "outputs": [
        {
          "output_type": "stream",
          "text": [
            "Hola gisela Criollo suarez\n"
          ],
          "name": "stdout"
        }
      ]
    },
    {
      "cell_type": "code",
      "metadata": {
        "colab": {
          "base_uri": "https://localhost:8080/"
        },
        "id": "30sojYFyIT99",
        "outputId": "fc14ec05-99f3-4c07-df1a-b39f575432e6"
      },
      "source": [
        "#Ejemplo 3: Usando dos argumentos en la entrada y salida y operación aritmetica\n",
        "\n",
        "def suma(a,b):\n",
        "  return a+b #para no hacer declaracion y creacion de objetos de variables se usa asi el return\n",
        "suma(3,5)"
      ],
      "execution_count": null,
      "outputs": [
        {
          "output_type": "execute_result",
          "data": {
            "text/plain": [
              "8"
            ]
          },
          "metadata": {
            "tags": []
          },
          "execution_count": 34
        }
      ]
    },
    {
      "cell_type": "code",
      "metadata": {
        "colab": {
          "base_uri": "https://localhost:8080/"
        },
        "id": "7bxR4c5mI-e9",
        "outputId": "18bf5839-a2f0-4af8-a012-b0a80833e0db"
      },
      "source": [
        "#Ejemplo 4: Reusabilidad del código\n",
        "suma(a=5, b=25)   # se esta llamando la funcion suma"
      ],
      "execution_count": null,
      "outputs": [
        {
          "output_type": "execute_result",
          "data": {
            "text/plain": [
              "30"
            ]
          },
          "metadata": {
            "tags": []
          },
          "execution_count": 35
        }
      ]
    },
    {
      "cell_type": "code",
      "metadata": {
        "colab": {
          "base_uri": "https://localhost:8080/"
        },
        "id": "lAF-w7j1JCmZ",
        "outputId": "f5235325-dcc3-4d9b-a8c3-c4f6b7b37870"
      },
      "source": [
        "#Ejemplo 5: Argumentos fijos desde el inicio\n",
        "\n",
        "def suma(a,b,c,d=1):\n",
        "  return a+b+c+d\n",
        "suma(2,3,4)"
      ],
      "execution_count": null,
      "outputs": [
        {
          "output_type": "execute_result",
          "data": {
            "text/plain": [
              "10"
            ]
          },
          "metadata": {
            "tags": []
          },
          "execution_count": 36
        }
      ]
    },
    {
      "cell_type": "code",
      "metadata": {
        "colab": {
          "base_uri": "https://localhost:8080/"
        },
        "id": "yCuGkAKAJOWs",
        "outputId": "daf73e28-76d6-44f1-8b39-9e72854a10d1"
      },
      "source": [
        "suma(5,6,7,8)"
      ],
      "execution_count": null,
      "outputs": [
        {
          "output_type": "execute_result",
          "data": {
            "text/plain": [
              "26"
            ]
          },
          "metadata": {
            "tags": []
          },
          "execution_count": 37
        }
      ]
    },
    {
      "cell_type": "code",
      "metadata": {
        "colab": {
          "base_uri": "https://localhost:8080/"
        },
        "id": "2op28VvpJWf8",
        "outputId": "10c1cc20-c813-4832-a2fa-186e9a2eb942"
      },
      "source": [
        "def suma(a=2,b=3, c=4,d=5): #declarados desde el inicio\n",
        "  return a+b+c+d\n",
        "suma()\n",
        "\n",
        "suma(1) #lo cambia en a\n",
        "\n",
        "suma(1,5) # cambia los valores de a y b\n",
        "\n",
        "suma(a=1, c=5) #modifica valores a y c"
      ],
      "execution_count": null,
      "outputs": [
        {
          "output_type": "execute_result",
          "data": {
            "text/plain": [
              "14"
            ]
          },
          "metadata": {
            "tags": []
          },
          "execution_count": 38
        }
      ]
    },
    {
      "cell_type": "code",
      "metadata": {
        "colab": {
          "base_uri": "https://localhost:8080/"
        },
        "id": "BQ-G8mAoJiVv",
        "outputId": "f44be37b-7061-425a-c415-f9220afd492e"
      },
      "source": [
        "#Ejemplo 6: Argumentos de longitud variable\n",
        "\n",
        "def suma(number): #usa suma ejercicio anterior\n",
        "  total=0\n",
        "  for i in number:\n",
        "    total +=i\n",
        "  return total\n",
        "suma([1,3,5,4])"
      ],
      "execution_count": null,
      "outputs": [
        {
          "output_type": "execute_result",
          "data": {
            "text/plain": [
              "13"
            ]
          },
          "metadata": {
            "tags": []
          },
          "execution_count": 39
        }
      ]
    },
    {
      "cell_type": "markdown",
      "metadata": {
        "id": "EHd8MIGZJpcw"
      },
      "source": [
        "*Nota*: Se realizó la suma de todos los números de entrada. para ello la declaración de los argumentos de salida sería como una lista.\n",
        "\n",
        "La forma de sintaxis anterior es valida, sin embargo tenemos un solo argumento que es una lista de números.\n",
        "\n",
        "Si declarramos un argumento con asterisco * esto hará que el argumento sea guardado como tupla de manera automática."
      ]
    },
    {
      "cell_type": "code",
      "metadata": {
        "colab": {
          "base_uri": "https://localhost:8080/"
        },
        "id": "zT_Z3cbRJ2fu",
        "outputId": "fd28d508-f2dc-4896-a2c7-281f8545cfd0"
      },
      "source": [
        "def suma (*number):\n",
        "  print(type(number))\n",
        "  total=0\n",
        "  for i in number:\n",
        "    total+=i\n",
        "  return total\n",
        "suma(2,3,5,4)"
      ],
      "execution_count": null,
      "outputs": [
        {
          "output_type": "stream",
          "text": [
            "<class 'tuple'>\n"
          ],
          "name": "stdout"
        },
        {
          "output_type": "execute_result",
          "data": {
            "text/plain": [
              "14"
            ]
          },
          "metadata": {
            "tags": []
          },
          "execution_count": 40
        }
      ]
    }
  ]
}