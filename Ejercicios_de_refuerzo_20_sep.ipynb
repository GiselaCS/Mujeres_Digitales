{
  "nbformat": 4,
  "nbformat_minor": 0,
  "metadata": {
    "colab": {
      "name": "Ejercicios de refuerzo 20 sep.ipynb",
      "provenance": [],
      "collapsed_sections": [],
      "authorship_tag": "ABX9TyN070f9rHdzGsyuIeZoi31X",
      "include_colab_link": true
    },
    "kernelspec": {
      "name": "python3",
      "display_name": "Python 3"
    },
    "language_info": {
      "name": "python"
    }
  },
  "cells": [
    {
      "cell_type": "markdown",
      "metadata": {
        "id": "view-in-github",
        "colab_type": "text"
      },
      "source": [
        "<a href=\"https://colab.research.google.com/github/GiselaCS/Mujeres_Digitales/blob/main/Ejercicios_de_refuerzo_20_sep.ipynb\" target=\"_parent\"><img src=\"https://colab.research.google.com/assets/colab-badge.svg\" alt=\"Open In Colab\"/></a>"
      ]
    },
    {
      "cell_type": "code",
      "metadata": {
        "colab": {
          "base_uri": "https://localhost:8080/"
        },
        "id": "oZ5-BxxL86gr",
        "outputId": "37728c6f-a412-49a0-bd60-ce1e5e3db651"
      },
      "source": [
        "n= int(input(\"Altura de triangulo: \"))\n",
        "for i in range(n):\n",
        "   print(\"*\"*(i+1))"
      ],
      "execution_count": 1,
      "outputs": [
        {
          "output_type": "stream",
          "name": "stdout",
          "text": [
            "Altura de triangulo: 8\n",
            "*\n",
            "**\n",
            "***\n",
            "****\n",
            "*****\n",
            "******\n",
            "*******\n",
            "********\n"
          ]
        }
      ]
    },
    {
      "cell_type": "code",
      "metadata": {
        "colab": {
          "base_uri": "https://localhost:8080/"
        },
        "id": "lneTMkrz9igf",
        "outputId": "029a6ad8-f8b4-44d2-dcd0-c29b3e660573"
      },
      "source": [
        "n= int(input(\"ingrese la altura del triangulo: \"))\n",
        "for i in range(1, n + 1):\n",
        "  print(\"*\" * i)\n",
        "  \n"
      ],
      "execution_count": 12,
      "outputs": [
        {
          "output_type": "stream",
          "name": "stdout",
          "text": [
            "ingrese la altura del triangulo: 2\n",
            "*\n",
            "**\n"
          ]
        }
      ]
    },
    {
      "cell_type": "code",
      "metadata": {
        "colab": {
          "base_uri": "https://localhost:8080/"
        },
        "id": "92rEIZj5-4EB",
        "outputId": "b9f9123b-4abd-4cdb-bf63-e2a160dad183"
      },
      "source": [
        "n= int(input(\"ingrese la altura del triangulo: \"))\n",
        "i =1\n",
        "while True:\n",
        "  print(\"*\" * i)\n",
        "  i = i + 1\n",
        "  if i  == n + 1:\n",
        "    break\n"
      ],
      "execution_count": 28,
      "outputs": [
        {
          "output_type": "stream",
          "name": "stdout",
          "text": [
            "ingrese la altura del triangulo: 6\n",
            "*\n",
            "**\n",
            "***\n",
            "****\n",
            "*****\n",
            "******\n"
          ]
        }
      ]
    },
    {
      "cell_type": "code",
      "metadata": {
        "colab": {
          "base_uri": "https://localhost:8080/"
        },
        "id": "NSCUOUTdBZhS",
        "outputId": "813b4f96-6b71-42ee-d2ad-bee05758b14d"
      },
      "source": [
        "for i in range(1, 11):\n",
        "    for j in range(1, 11):\n",
        "        print(i*j)\n",
        "    print(\"\")"
      ],
      "execution_count": 33,
      "outputs": [
        {
          "output_type": "stream",
          "name": "stdout",
          "text": [
            "1\n",
            "2\n",
            "3\n",
            "4\n",
            "5\n",
            "6\n",
            "7\n",
            "8\n",
            "9\n",
            "10\n",
            "\n",
            "2\n",
            "4\n",
            "6\n",
            "8\n",
            "10\n",
            "12\n",
            "14\n",
            "16\n",
            "18\n",
            "20\n",
            "\n",
            "3\n",
            "6\n",
            "9\n",
            "12\n",
            "15\n",
            "18\n",
            "21\n",
            "24\n",
            "27\n",
            "30\n",
            "\n",
            "4\n",
            "8\n",
            "12\n",
            "16\n",
            "20\n",
            "24\n",
            "28\n",
            "32\n",
            "36\n",
            "40\n",
            "\n",
            "5\n",
            "10\n",
            "15\n",
            "20\n",
            "25\n",
            "30\n",
            "35\n",
            "40\n",
            "45\n",
            "50\n",
            "\n",
            "6\n",
            "12\n",
            "18\n",
            "24\n",
            "30\n",
            "36\n",
            "42\n",
            "48\n",
            "54\n",
            "60\n",
            "\n",
            "7\n",
            "14\n",
            "21\n",
            "28\n",
            "35\n",
            "42\n",
            "49\n",
            "56\n",
            "63\n",
            "70\n",
            "\n",
            "8\n",
            "16\n",
            "24\n",
            "32\n",
            "40\n",
            "48\n",
            "56\n",
            "64\n",
            "72\n",
            "80\n",
            "\n",
            "9\n",
            "18\n",
            "27\n",
            "36\n",
            "45\n",
            "54\n",
            "63\n",
            "72\n",
            "81\n",
            "90\n",
            "\n",
            "10\n",
            "20\n",
            "30\n",
            "40\n",
            "50\n",
            "60\n",
            "70\n",
            "80\n",
            "90\n",
            "100\n",
            "\n"
          ]
        }
      ]
    },
    {
      "cell_type": "code",
      "metadata": {
        "colab": {
          "base_uri": "https://localhost:8080/"
        },
        "id": "w8BKXPkiC___",
        "outputId": "8a5205bf-974b-4b45-d5c3-ba5ff2b60501"
      },
      "source": [
        "num = int(input(\"Introduce un número entero: \"))\n",
        "for i in range(2, n):\n",
        "    if num % i == 0:\n",
        "        break\n",
        "if (i + 1)  == n:\n",
        "    print(str(num) + \" es primo\")\n",
        "else: \n",
        "    print(str(num) + \" no es primo\")"
      ],
      "execution_count": 38,
      "outputs": [
        {
          "output_type": "stream",
          "name": "stdout",
          "text": [
            "Introduce un número entero: 13\n",
            "13 es primo\n"
          ]
        }
      ]
    },
    {
      "cell_type": "code",
      "metadata": {
        "colab": {
          "base_uri": "https://localhost:8080/"
        },
        "id": "QQYfFea1HmB4",
        "outputId": "ee6fe77d-fa78-4707-8832-d9f7e610a4ff"
      },
      "source": [
        "f= input(\"ingrese una frase: \")\n",
        "l= input(\"ingrese una leta: \")\n",
        "v= 0\n",
        "for i in f:\n",
        "  if i == l:\n",
        "    v += 1\n",
        "print(\"la letra:\",l,\", aparece\", v, \"veces, en la frase:\", f)"
      ],
      "execution_count": 42,
      "outputs": [
        {
          "output_type": "stream",
          "name": "stdout",
          "text": [
            "ingrese una frase: mama\n",
            "ingrese una leta: a\n",
            "la letra: a , aparece 2 veces, en la frase: mama\n"
          ]
        }
      ]
    }
  ]
}