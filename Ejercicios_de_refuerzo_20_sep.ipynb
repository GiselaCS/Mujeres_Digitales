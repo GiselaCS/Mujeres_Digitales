{
  "nbformat": 4,
  "nbformat_minor": 0,
  "metadata": {
    "colab": {
      "name": "Ejercicios de refuerzo 20 sep.ipynb",
      "provenance": [],
      "collapsed_sections": [],
      "authorship_tag": "ABX9TyOqEvdMMFeoJizkZmqG44vh",
      "include_colab_link": true
    },
    "kernelspec": {
      "name": "python3",
      "display_name": "Python 3"
    },
    "language_info": {
      "name": "python"
    }
  },
  "cells": [
    {
      "cell_type": "markdown",
      "metadata": {
        "id": "view-in-github",
        "colab_type": "text"
      },
      "source": [
        "<a href=\"https://colab.research.google.com/github/GiselaCS/Mujeres_Digitales/blob/main/Ejercicios_de_refuerzo_20_sep.ipynb\" target=\"_parent\"><img src=\"https://colab.research.google.com/assets/colab-badge.svg\" alt=\"Open In Colab\"/></a>"
      ]
    },
    {
      "cell_type": "code",
      "metadata": {
        "colab": {
          "base_uri": "https://localhost:8080/"
        },
        "id": "oZ5-BxxL86gr",
        "outputId": "37728c6f-a412-49a0-bd60-ce1e5e3db651"
      },
      "source": [
        "n= int(input(\"Altura de triangulo: \"))\n",
        "for i in range(n):\n",
        "   print(\"*\"*(i+1))"
      ],
      "execution_count": null,
      "outputs": [
        {
          "output_type": "stream",
          "name": "stdout",
          "text": [
            "Altura de triangulo: 8\n",
            "*\n",
            "**\n",
            "***\n",
            "****\n",
            "*****\n",
            "******\n",
            "*******\n",
            "********\n"
          ]
        }
      ]
    },
    {
      "cell_type": "code",
      "metadata": {
        "colab": {
          "base_uri": "https://localhost:8080/"
        },
        "id": "lneTMkrz9igf",
        "outputId": "029a6ad8-f8b4-44d2-dcd0-c29b3e660573"
      },
      "source": [
        "n= int(input(\"ingrese la altura del triangulo: \"))\n",
        "for i in range(1, n + 1):\n",
        "  print(\"*\" * i)\n",
        "  \n"
      ],
      "execution_count": null,
      "outputs": [
        {
          "output_type": "stream",
          "name": "stdout",
          "text": [
            "ingrese la altura del triangulo: 2\n",
            "*\n",
            "**\n"
          ]
        }
      ]
    },
    {
      "cell_type": "code",
      "metadata": {
        "colab": {
          "base_uri": "https://localhost:8080/"
        },
        "id": "92rEIZj5-4EB",
        "outputId": "b9f9123b-4abd-4cdb-bf63-e2a160dad183"
      },
      "source": [
        "n= int(input(\"ingrese la altura del triangulo: \"))\n",
        "i =1\n",
        "while True:\n",
        "  print(\"*\" * i)\n",
        "  i = i + 1\n",
        "  if i  == n + 1:\n",
        "    break\n"
      ],
      "execution_count": null,
      "outputs": [
        {
          "output_type": "stream",
          "name": "stdout",
          "text": [
            "ingrese la altura del triangulo: 6\n",
            "*\n",
            "**\n",
            "***\n",
            "****\n",
            "*****\n",
            "******\n"
          ]
        }
      ]
    },
    {
      "cell_type": "code",
      "metadata": {
        "colab": {
          "base_uri": "https://localhost:8080/"
        },
        "id": "NSCUOUTdBZhS",
        "outputId": "813b4f96-6b71-42ee-d2ad-bee05758b14d"
      },
      "source": [
        "for i in range(1, 11):\n",
        "    for j in range(1, 11):\n",
        "        print(i*j)\n",
        "    print(\"\")"
      ],
      "execution_count": null,
      "outputs": [
        {
          "output_type": "stream",
          "name": "stdout",
          "text": [
            "1\n",
            "2\n",
            "3\n",
            "4\n",
            "5\n",
            "6\n",
            "7\n",
            "8\n",
            "9\n",
            "10\n",
            "\n",
            "2\n",
            "4\n",
            "6\n",
            "8\n",
            "10\n",
            "12\n",
            "14\n",
            "16\n",
            "18\n",
            "20\n",
            "\n",
            "3\n",
            "6\n",
            "9\n",
            "12\n",
            "15\n",
            "18\n",
            "21\n",
            "24\n",
            "27\n",
            "30\n",
            "\n",
            "4\n",
            "8\n",
            "12\n",
            "16\n",
            "20\n",
            "24\n",
            "28\n",
            "32\n",
            "36\n",
            "40\n",
            "\n",
            "5\n",
            "10\n",
            "15\n",
            "20\n",
            "25\n",
            "30\n",
            "35\n",
            "40\n",
            "45\n",
            "50\n",
            "\n",
            "6\n",
            "12\n",
            "18\n",
            "24\n",
            "30\n",
            "36\n",
            "42\n",
            "48\n",
            "54\n",
            "60\n",
            "\n",
            "7\n",
            "14\n",
            "21\n",
            "28\n",
            "35\n",
            "42\n",
            "49\n",
            "56\n",
            "63\n",
            "70\n",
            "\n",
            "8\n",
            "16\n",
            "24\n",
            "32\n",
            "40\n",
            "48\n",
            "56\n",
            "64\n",
            "72\n",
            "80\n",
            "\n",
            "9\n",
            "18\n",
            "27\n",
            "36\n",
            "45\n",
            "54\n",
            "63\n",
            "72\n",
            "81\n",
            "90\n",
            "\n",
            "10\n",
            "20\n",
            "30\n",
            "40\n",
            "50\n",
            "60\n",
            "70\n",
            "80\n",
            "90\n",
            "100\n",
            "\n"
          ]
        }
      ]
    },
    {
      "cell_type": "code",
      "metadata": {
        "colab": {
          "base_uri": "https://localhost:8080/"
        },
        "id": "w8BKXPkiC___",
        "outputId": "8a5205bf-974b-4b45-d5c3-ba5ff2b60501"
      },
      "source": [
        "num = int(input(\"Introduce un número entero: \"))\n",
        "for i in range(2, n):\n",
        "    if num % i == 0:\n",
        "        break\n",
        "if (i + 1)  == n:\n",
        "    print(str(num) + \" es primo\")\n",
        "else: \n",
        "    print(str(num) + \" no es primo\")"
      ],
      "execution_count": null,
      "outputs": [
        {
          "output_type": "stream",
          "name": "stdout",
          "text": [
            "Introduce un número entero: 13\n",
            "13 es primo\n"
          ]
        }
      ]
    },
    {
      "cell_type": "code",
      "metadata": {
        "colab": {
          "base_uri": "https://localhost:8080/"
        },
        "id": "QQYfFea1HmB4",
        "outputId": "ee6fe77d-fa78-4707-8832-d9f7e610a4ff"
      },
      "source": [
        "f= input(\"ingrese una frase: \")\n",
        "l= input(\"ingrese una leta: \")\n",
        "v= 0\n",
        "for i in f:\n",
        "  if i == l:\n",
        "    v += 1\n",
        "print(\"la letra:\",l,\", aparece\", v, \"veces, en la frase:\", f)"
      ],
      "execution_count": null,
      "outputs": [
        {
          "output_type": "stream",
          "name": "stdout",
          "text": [
            "ingrese una frase: mama\n",
            "ingrese una leta: a\n",
            "la letra: a , aparece 2 veces, en la frase: mama\n"
          ]
        }
      ]
    },
    {
      "cell_type": "code",
      "metadata": {
        "colab": {
          "base_uri": "https://localhost:8080/"
        },
        "id": "LH5gTQkkHJ_c",
        "outputId": "4ae2ab5c-c9e3-4ed4-9d90-7ac9e0d4e4f9"
      },
      "source": [
        "def frase():\n",
        "  print(\"hola Amiga\")\n",
        "  return\n",
        "frase()"
      ],
      "execution_count": 2,
      "outputs": [
        {
          "output_type": "stream",
          "name": "stdout",
          "text": [
            "hola Amiga\n"
          ]
        }
      ]
    },
    {
      "cell_type": "code",
      "metadata": {
        "colab": {
          "base_uri": "https://localhost:8080/"
        },
        "id": "GP3WsonSITr-",
        "outputId": "30dc0339-ba17-44d0-cd36-30936c0f580d"
      },
      "source": [
        "def saludo(nombre):\n",
        "  print(\"hola\", nombre)\n",
        "saludo('pepito')"
      ],
      "execution_count": 4,
      "outputs": [
        {
          "output_type": "stream",
          "name": "stdout",
          "text": [
            "hola pepito\n"
          ]
        }
      ]
    },
    {
      "cell_type": "code",
      "metadata": {
        "id": "paIcUPNfKdF9"
      },
      "source": [
        "def circulo(r):\n",
        "  pi= 3.1416\n",
        "  a= pi *r **2\n",
        "  return a\n"
      ],
      "execution_count": 20,
      "outputs": []
    },
    {
      "cell_type": "code",
      "metadata": {
        "colab": {
          "base_uri": "https://localhost:8080/"
        },
        "id": "MEEuC6wNLVKK",
        "outputId": "ed91cca2-f745-4235-e9fa-4b2a9a545514"
      },
      "source": [
        "print(circulo(5))"
      ],
      "execution_count": 21,
      "outputs": [
        {
          "output_type": "stream",
          "name": "stdout",
          "text": [
            "78.53999999999999\n"
          ]
        }
      ]
    },
    {
      "cell_type": "code",
      "metadata": {
        "id": "SxIhJihgKqS8"
      },
      "source": [
        "def cilindro(r, h):\n",
        "  v= circulo(r)*h\n",
        "  return v"
      ],
      "execution_count": 22,
      "outputs": []
    },
    {
      "cell_type": "code",
      "metadata": {
        "colab": {
          "base_uri": "https://localhost:8080/"
        },
        "id": "UZGHAQTeK73G",
        "outputId": "402eff97-47b6-4bdf-f7cf-259f2a174a49"
      },
      "source": [
        "print(cilindro(3,5))"
      ],
      "execution_count": 23,
      "outputs": [
        {
          "output_type": "stream",
          "name": "stdout",
          "text": [
            "141.372\n"
          ]
        }
      ]
    },
    {
      "cell_type": "code",
      "metadata": {
        "colab": {
          "base_uri": "https://localhost:8080/"
        },
        "id": "g5E1nmXZN2sI",
        "outputId": "29cae61b-fd03-474a-9e97-2b9bf52f3b7f"
      },
      "source": [
        "def cuadraros(v):\n",
        "  list= []\n",
        "  for i in v:\n",
        "    list.append(i**2)\n",
        "  return list\n",
        "\n",
        "print(cuadraros([2,4,6]))\n"
      ],
      "execution_count": 25,
      "outputs": [
        {
          "output_type": "stream",
          "name": "stdout",
          "text": [
            "[4, 16, 36]\n"
          ]
        }
      ]
    }
  ]
}