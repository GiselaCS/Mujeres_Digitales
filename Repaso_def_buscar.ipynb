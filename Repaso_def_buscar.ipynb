{
  "nbformat": 4,
  "nbformat_minor": 0,
  "metadata": {
    "colab": {
      "name": "Repaso def_buscar.ipynb",
      "provenance": [],
      "authorship_tag": "ABX9TyOmrSM0m//1mlj9MqcAxi3l",
      "include_colab_link": true
    },
    "kernelspec": {
      "name": "python3",
      "display_name": "Python 3"
    },
    "language_info": {
      "name": "python"
    }
  },
  "cells": [
    {
      "cell_type": "markdown",
      "metadata": {
        "id": "view-in-github",
        "colab_type": "text"
      },
      "source": [
        "<a href=\"https://colab.research.google.com/github/GiselaCS/Mujeres_Digitales/blob/main/Repaso_def_buscar.ipynb\" target=\"_parent\"><img src=\"https://colab.research.google.com/assets/colab-badge.svg\" alt=\"Open In Colab\"/></a>"
      ]
    },
    {
      "cell_type": "code",
      "metadata": {
        "colab": {
          "base_uri": "https://localhost:8080/"
        },
        "id": "E-A9qeVQbq2y",
        "outputId": "dd4e83c4-7a18-4910-b393-4d021f3d2046"
      },
      "source": [
        "def buscar_en_lista(lista, valor =1):\n",
        "  print(lista) #imprime lista\n",
        "  print(valor) #luego imprime el valor\n",
        "  return None \n",
        "\n",
        "buscar_en_lista([0,1], valor=2) #si no se especifia el valor\n",
        "#asume que ese valor es igual a 1."
      ],
      "execution_count": 3,
      "outputs": [
        {
          "output_type": "stream",
          "name": "stdout",
          "text": [
            "[0, 1]\n",
            "2\n"
          ]
        }
      ]
    },
    {
      "cell_type": "code",
      "metadata": {
        "colab": {
          "base_uri": "https://localhost:8080/"
        },
        "id": "srBYAEPXns9L",
        "outputId": "97463cc3-967e-408e-92b6-bff52c527728"
      },
      "source": [
        "def buscar_en_lista( lista, valor = 1): #definimos la funcion\n",
        "    encontrado = False #variable inicial en falso\n",
        "    for i in range (len(lista)): #recorrer la lista\n",
        "        if lista[i] == valor: #comparar con el valor \n",
        "          encontrado=True #convertir el elemento a True\n",
        "          break #rompemos el ciclo\n",
        "    return encontrado #retornamos la variable     \n",
        "        \n",
        "            \n",
        "encontrado=buscar_en_lista([0,1], valor= 2) #si definimos un valor y no esta en la lista va ser = False\n",
        "print(encontrado)\n",
        "\n"
      ],
      "execution_count": 47,
      "outputs": [
        {
          "output_type": "stream",
          "name": "stdout",
          "text": [
            "False\n"
          ]
        }
      ]
    },
    {
      "cell_type": "code",
      "metadata": {
        "colab": {
          "base_uri": "https://localhost:8080/"
        },
        "id": "3iiZhmegtcH5",
        "outputId": "1d9caf81-52e2-4396-f2ec-1f950e5c43df"
      },
      "source": [
        "def buscar_P(lista, valor = 1):\n",
        "    encontrado = False \n",
        "    for i in range (len(lista)): #recorrer la lista\n",
        "        if lista[i] == valor: #comparar con el valor \n",
        "          encontrado= i#convertir el elemento a True y traer la posicion\n",
        "          break #rompemos el ciclo\n",
        "        \n",
        "    return encontrado #retornamos la variable     \n",
        "        \n",
        "            \n",
        "encontrado=buscar_P([0,1,2,4], valor= 4) #si definimos un valor y no esta en la lista va ser = False\n",
        "print(encontrado)\n"
      ],
      "execution_count": 65,
      "outputs": [
        {
          "output_type": "stream",
          "name": "stdout",
          "text": [
            "3\n"
          ]
        }
      ]
    }
  ]
}