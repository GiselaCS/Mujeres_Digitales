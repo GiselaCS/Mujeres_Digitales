{
  "nbformat": 4,
  "nbformat_minor": 0,
  "metadata": {
    "colab": {
      "name": "Estadistica_Descriptiva.ipynb",
      "provenance": [],
      "authorship_tag": "ABX9TyO53Evm0/S5izA3xoajnCL/",
      "include_colab_link": true
    },
    "kernelspec": {
      "name": "python3",
      "display_name": "Python 3"
    },
    "language_info": {
      "name": "python"
    }
  },
  "cells": [
    {
      "cell_type": "markdown",
      "metadata": {
        "id": "view-in-github",
        "colab_type": "text"
      },
      "source": [
        "<a href=\"https://colab.research.google.com/github/GiselaCS/Mujeres_Digitales/blob/main/Estadistica_Descriptiva.ipynb\" target=\"_parent\"><img src=\"https://colab.research.google.com/assets/colab-badge.svg\" alt=\"Open In Colab\"/></a>"
      ]
    },
    {
      "cell_type": "code",
      "metadata": {
        "id": "zy8g507lyTVE"
      },
      "source": [
        ""
      ],
      "execution_count": null,
      "outputs": []
    },
    {
      "cell_type": "markdown",
      "metadata": {
        "id": "1auFTk0_ykd9"
      },
      "source": [
        "Nominal: Consiste en clasificar objetos o fenómenos, según ciertas características, tipologías o nombres, dándoles una denominación o símbolo, sin que implique ninguna relación de orden, distancia o proporción entre los objetos o fenómeno.\n",
        "\n",
        "Ejemplo Cuando un producto se rotula de acuerdo al cumplimiento de las especificaciones de diseño como \"conforme y no conforme\". o \"crítico, grave, y menor\". No se obtienen valores numéricos y no se puede realizar un orden de las observaciones con sentido.\n",
        "\n",
        "Ordinal Llamada también escala de orden jerárquico, con ella se establecen posiciones relativas de los objetos o fenómenos en estudio, respecto a alguna característica de interés, sin que se reflejen distancias entre ellos. Puede suceder que los objetos de una categoría de las escala no sean precisamente diferentes a los objetos de otra categoría de la escala, sino que están relacionados entre si.\n",
        "\n",
        "Ejemplo Suponga que a los clientes en un almacen se les hace unas preguntas para valorar la calidad del servicio. Los clientes valoran la calidad de acuerdo a las siguientes respuestas: 1 (excelente), 2 (bueno), 3 (regular), 3 (malo) 4 (pésimo).\n",
        "\n",
        "Intervalo Representa un nivel de medición más preciso, matemáticamente hablando, que las anteriores; no solo se establece un orden en las posiciones relativas de los objetos o individuos, sino que se mide también la distancia entre los intervalos o las diferentes categorías o clases.\n",
        "\n",
        "Ejemplo Suponga que se está interesado en la temperatura del fundido de acero. Se toman cuatro lecturas cada dos horas: 2050, 2100, 2150, 2200 y 2250 F. Obviamente los datos pueden ser ordenados (semejante a los datos ordinales) en orden ascendente de temperatura indicando temperatura más fria, menos fria, y asi sucesivamente.\n",
        "\n",
        "Razon Cuando una escala tiene todas las características de una escala de intervalo y además un punto cero real en su origen, se llama escala de razón. Además de distinción, orden y distancia, ésta es una escala que permite establecer en que proporción es mayor una categoría de una escala que otra. El cero absoluto o natural representa la nulidad de lo que se estudia.\n",
        "\n",
        "Ejemplo Suponga que el peso de cuatro piezas fundidas de metal son 2.0, 2.1, 2.3 y 2.5 kg. El orden(ordinal) y la diferencia (intervalo) en los pesos puede ser comparado. Así, el incremento de peso de 2.0 a 2.1 es de 0.1 kg, el cual es el mismo que el que existe entre 2.3 y 2.4 kg"
      ]
    },
    {
      "cell_type": "markdown",
      "metadata": {
        "id": "OGwEGc5rymzA"
      },
      "source": [
        "# 1) Presentacion de datos\n",
        "\n",
        "\n",
        "---\n",
        "\n",
        "\n",
        "# a) Diagrama de Puntos\n",
        "\n",
        "Es una gráfica muy útil para visualizar un conjunto pequeño de datos; por ejemplo, de unas 20 observaciones. La gráfica permite ver rápidamente la tendencia y variabilidad de los datos. Para su elaboración dibuje una línea horizantal demarcada con los valores encontrados en los datos, luego coloque tantos circulos pequeños rellenos (o esfera) encima uno de otro sobre el número del eje correspondiente al dato."
      ]
    },
    {
      "cell_type": "code",
      "metadata": {
        "id": "IaNixbP1y3lS"
      },
      "source": [
        "import pandas as pd\n",
        "import matplotlib.pyplot as plt\n",
        "import seaborn as sns\n",
        "%matplotlib inline"
      ],
      "execution_count": 1,
      "outputs": []
    },
    {
      "cell_type": "code",
      "metadata": {
        "colab": {
          "base_uri": "https://localhost:8080/",
          "height": 323
        },
        "id": "0Mip4ccsy6c7",
        "outputId": "a1dda9b8-e573-4a88-9352-d088d0c13339"
      },
      "source": [
        "ratings = pd.read_csv('ratings.csv', encoding='iso8859')\n",
        "ratings.head()"
      ],
      "execution_count": 3,
      "outputs": [
        {
          "output_type": "execute_result",
          "data": {
            "text/html": [
              "<div>\n",
              "<style scoped>\n",
              "    .dataframe tbody tr th:only-of-type {\n",
              "        vertical-align: middle;\n",
              "    }\n",
              "\n",
              "    .dataframe tbody tr th {\n",
              "        vertical-align: top;\n",
              "    }\n",
              "\n",
              "    .dataframe thead th {\n",
              "        text-align: right;\n",
              "    }\n",
              "</style>\n",
              "<table border=\"1\" class=\"dataframe\">\n",
              "  <thead>\n",
              "    <tr style=\"text-align: right;\">\n",
              "      <th></th>\n",
              "      <th>Const</th>\n",
              "      <th>Your Rating</th>\n",
              "      <th>Date Rated</th>\n",
              "      <th>Title</th>\n",
              "      <th>URL</th>\n",
              "      <th>Title Type</th>\n",
              "      <th>IMDb Rating</th>\n",
              "      <th>Runtime (mins)</th>\n",
              "      <th>Year</th>\n",
              "      <th>Genres</th>\n",
              "      <th>Num Votes</th>\n",
              "      <th>Release Date</th>\n",
              "      <th>Directors</th>\n",
              "    </tr>\n",
              "  </thead>\n",
              "  <tbody>\n",
              "    <tr>\n",
              "      <th>0</th>\n",
              "      <td>tt0100050</td>\n",
              "      <td>5</td>\n",
              "      <td>2018-10-31</td>\n",
              "      <td>Look Who's Talking Too</td>\n",
              "      <td>https://www.imdb.com/title/tt0100050/</td>\n",
              "      <td>movie</td>\n",
              "      <td>4.6</td>\n",
              "      <td>81.0</td>\n",
              "      <td>1990</td>\n",
              "      <td>Comedy, Family, Romance</td>\n",
              "      <td>41915.0</td>\n",
              "      <td>1990-12-14</td>\n",
              "      <td>Amy Heckerling</td>\n",
              "    </tr>\n",
              "    <tr>\n",
              "      <th>1</th>\n",
              "      <td>tt1000774</td>\n",
              "      <td>5</td>\n",
              "      <td>2018-09-24</td>\n",
              "      <td>Sex and the City</td>\n",
              "      <td>https://www.imdb.com/title/tt1000774/</td>\n",
              "      <td>movie</td>\n",
              "      <td>5.6</td>\n",
              "      <td>145.0</td>\n",
              "      <td>2008</td>\n",
              "      <td>Comedy, Drama, Romance</td>\n",
              "      <td>110501.0</td>\n",
              "      <td>2008-05-12</td>\n",
              "      <td>Michael Patrick King</td>\n",
              "    </tr>\n",
              "    <tr>\n",
              "      <th>2</th>\n",
              "      <td>tt1001526</td>\n",
              "      <td>8</td>\n",
              "      <td>2018-09-25</td>\n",
              "      <td>Megamind</td>\n",
              "      <td>https://www.imdb.com/title/tt1001526/</td>\n",
              "      <td>movie</td>\n",
              "      <td>7.3</td>\n",
              "      <td>95.0</td>\n",
              "      <td>2010</td>\n",
              "      <td>Animation, Action, Comedy, Family, Sci-Fi</td>\n",
              "      <td>208584.0</td>\n",
              "      <td>2010-10-28</td>\n",
              "      <td>Tom McGrath</td>\n",
              "    </tr>\n",
              "    <tr>\n",
              "      <th>3</th>\n",
              "      <td>tt0100157</td>\n",
              "      <td>7</td>\n",
              "      <td>2018-09-25</td>\n",
              "      <td>Misery</td>\n",
              "      <td>https://www.imdb.com/title/tt0100157/</td>\n",
              "      <td>movie</td>\n",
              "      <td>7.8</td>\n",
              "      <td>107.0</td>\n",
              "      <td>1990</td>\n",
              "      <td>Drama, Thriller</td>\n",
              "      <td>165090.0</td>\n",
              "      <td>1990-11-29</td>\n",
              "      <td>Rob Reiner</td>\n",
              "    </tr>\n",
              "    <tr>\n",
              "      <th>4</th>\n",
              "      <td>tt0100263</td>\n",
              "      <td>7</td>\n",
              "      <td>2018-11-01</td>\n",
              "      <td>Nikita</td>\n",
              "      <td>https://www.imdb.com/title/tt0100263/</td>\n",
              "      <td>movie</td>\n",
              "      <td>7.3</td>\n",
              "      <td>117.0</td>\n",
              "      <td>1990</td>\n",
              "      <td>Action, Thriller</td>\n",
              "      <td>62995.0</td>\n",
              "      <td>1990-02-21</td>\n",
              "      <td>Luc Besson</td>\n",
              "    </tr>\n",
              "  </tbody>\n",
              "</table>\n",
              "</div>"
            ],
            "text/plain": [
              "       Const  Your Rating  ... Release Date             Directors\n",
              "0  tt0100050            5  ...   1990-12-14        Amy Heckerling\n",
              "1  tt1000774            5  ...   2008-05-12  Michael Patrick King\n",
              "2  tt1001526            8  ...   2010-10-28           Tom McGrath\n",
              "3  tt0100157            7  ...   1990-11-29            Rob Reiner\n",
              "4  tt0100263            7  ...   1990-02-21            Luc Besson\n",
              "\n",
              "[5 rows x 13 columns]"
            ]
          },
          "metadata": {},
          "execution_count": 3
        }
      ]
    },
    {
      "cell_type": "code",
      "metadata": {
        "id": "Ow9rscjOzea2"
      },
      "source": [
        "# Crear un loop para contar\n",
        "movie_count = []\n",
        "\n",
        "for index, year in enumerate(ratings['Year']):\n",
        "  subset = ratings.iloc[:index+1]\n",
        "  count = len(subset[subset['Year'] == year])   # Contar todas las peliculas para el mismo año en este subconjunto\n",
        "  movie_count.append(count)"
      ],
      "execution_count": 49,
      "outputs": []
    },
    {
      "cell_type": "code",
      "metadata": {
        "colab": {
          "base_uri": "https://localhost:8080/",
          "height": 715
        },
        "id": "gBXpfv_Azju4",
        "outputId": "b9a76544-63f7-47cc-ee0c-d1dc1062b306"
      },
      "source": [
        "# Data para el plot \n",
        "x = ratings['Year']\n",
        "y = movie_count\n",
        "hue1 = ratings['Your Rating']\n",
        "\n",
        "# Dot plot created using scatter plot\n",
        "plt.figure(figsize=(15, 10))\n",
        "ax = sns.scatterplot(x, y, hue=hue1, palette=\"RdYlGn\")\n",
        "plt.xlim([1950, 2020])\n",
        "plt.ylabel(\"Conteo\")\n",
        "plt.xlabel(\"Año\")\n",
        "plt.title(\"Peliculas vistas en el año y rating\")\n",
        "plt.show()"
      ],
      "execution_count": 50,
      "outputs": [
        {
          "output_type": "stream",
          "name": "stderr",
          "text": [
            "/usr/local/lib/python3.7/dist-packages/seaborn/_decorators.py:43: FutureWarning:\n",
            "\n",
            "Pass the following variables as keyword args: x, y. From version 0.12, the only valid positional argument will be `data`, and passing other arguments without an explicit keyword will result in an error or misinterpretation.\n",
            "\n"
          ]
        },
        {
          "output_type": "display_data",
          "data": {
            "image/png": "[encoded data removed]",
            "text/plain": [
              "<Figure size 1080x720 with 1 Axes>"
            ]
          },
          "metadata": {}
        }
      ]
    },
    {
      "cell_type": "code",
      "metadata": {
        "colab": {
          "base_uri": "https://localhost:8080/",
          "height": 721
        },
        "id": "IHd_oY0Tz1D5",
        "outputId": "1a5eca34-650a-4a04-ce15-65c513ee796c"
      },
      "source": [
        "plt.figure(figsize=(15, 10))\n",
        "ax = sns.scatterplot(x, y, hue=hue1, s=60, legend=\"full\", palette=\"coolwarm\")\n",
        "ax.grid(False)  # Remover la grilla\n",
        "ax.get_legend().remove()  # Borrar la leyenda\n",
        "scale_legend = plt.Normalize(hue1.min() - 1, hue1.max())  # Crear la escala para el colormap.\n",
        "# hue.min-1 porque no considero el 1/10\n",
        "color_map = plt.cm.ScalarMappable(cmap=\"coolwarm\", norm=scale_legend)  # Colormap \n",
        "color_map.set_array([])  # Dummy variable para crear el colormap.\n",
        "ax.figure.colorbar(color_map)  # Agregar el colormap como leyenda.\n",
        "plt.xlim([1950, 2020])  # Especificar limite de tiempo\n",
        "plt.ylabel(\"Conteo\", size=14)\n",
        "plt.xlabel(\"Año\", size=14)\n",
        "plt.title(\"Peliculas vistas en el año y rating\", size=20)\n",
        "plt.gcf().text(0.83, 0.5, \"Rating\", fontsize=14, rotation=90)  # Label para el colormap.\n",
        "plt.show()"
      ],
      "execution_count": 51,
      "outputs": [
        {
          "output_type": "stream",
          "name": "stderr",
          "text": [
            "/usr/local/lib/python3.7/dist-packages/seaborn/_decorators.py:43: FutureWarning:\n",
            "\n",
            "Pass the following variables as keyword args: x, y. From version 0.12, the only valid positional argument will be `data`, and passing other arguments without an explicit keyword will result in an error or misinterpretation.\n",
            "\n"
          ]
        },
        {
          "output_type": "display_data",
          "data": {
            "image/png": "[encoded data removed]",
            "text/plain": [
              "<Figure size 1080x720 with 2 Axes>"
            ]
          },
          "metadata": {}
        }
      ]
    },
    {
      "cell_type": "code",
      "metadata": {
        "colab": {
          "base_uri": "https://localhost:8080/",
          "height": 419
        },
        "id": "LLr0fiPYz8BB",
        "outputId": "2c3341a3-584b-408c-e445-17d11a56d7f5"
      },
      "source": [
        "df=pd.DataFrame()\n",
        "df['x']=x;df['y']=y;df['hue']=hue1\n",
        "df"
      ],
      "execution_count": null,
      "outputs": [
        {
          "output_type": "execute_result",
          "data": {
            "text/html": [
              "<div>\n",
              "<style scoped>\n",
              "    .dataframe tbody tr th:only-of-type {\n",
              "        vertical-align: middle;\n",
              "    }\n",
              "\n",
              "    .dataframe tbody tr th {\n",
              "        vertical-align: top;\n",
              "    }\n",
              "\n",
              "    .dataframe thead th {\n",
              "        text-align: right;\n",
              "    }\n",
              "</style>\n",
              "<table border=\"1\" class=\"dataframe\">\n",
              "  <thead>\n",
              "    <tr style=\"text-align: right;\">\n",
              "      <th></th>\n",
              "      <th>x</th>\n",
              "      <th>y</th>\n",
              "      <th>hue</th>\n",
              "    </tr>\n",
              "  </thead>\n",
              "  <tbody>\n",
              "    <tr>\n",
              "      <th>0</th>\n",
              "      <td>1990</td>\n",
              "      <td>1</td>\n",
              "      <td>5</td>\n",
              "    </tr>\n",
              "    <tr>\n",
              "      <th>1</th>\n",
              "      <td>2008</td>\n",
              "      <td>1</td>\n",
              "      <td>5</td>\n",
              "    </tr>\n",
              "    <tr>\n",
              "      <th>2</th>\n",
              "      <td>2010</td>\n",
              "      <td>1</td>\n",
              "      <td>8</td>\n",
              "    </tr>\n",
              "    <tr>\n",
              "      <th>3</th>\n",
              "      <td>1990</td>\n",
              "      <td>2</td>\n",
              "      <td>7</td>\n",
              "    </tr>\n",
              "    <tr>\n",
              "      <th>4</th>\n",
              "      <td>1990</td>\n",
              "      <td>3</td>\n",
              "      <td>7</td>\n",
              "    </tr>\n",
              "    <tr>\n",
              "      <th>...</th>\n",
              "      <td>...</td>\n",
              "      <td>...</td>\n",
              "      <td>...</td>\n",
              "    </tr>\n",
              "    <tr>\n",
              "      <th>1100</th>\n",
              "      <td>1990</td>\n",
              "      <td>17</td>\n",
              "      <td>6</td>\n",
              "    </tr>\n",
              "    <tr>\n",
              "      <th>1101</th>\n",
              "      <td>1990</td>\n",
              "      <td>18</td>\n",
              "      <td>7</td>\n",
              "    </tr>\n",
              "    <tr>\n",
              "      <th>1102</th>\n",
              "      <td>1990</td>\n",
              "      <td>19</td>\n",
              "      <td>8</td>\n",
              "    </tr>\n",
              "    <tr>\n",
              "      <th>1103</th>\n",
              "      <td>1990</td>\n",
              "      <td>20</td>\n",
              "      <td>6</td>\n",
              "    </tr>\n",
              "    <tr>\n",
              "      <th>1104</th>\n",
              "      <td>1990</td>\n",
              "      <td>21</td>\n",
              "      <td>5</td>\n",
              "    </tr>\n",
              "  </tbody>\n",
              "</table>\n",
              "<p>1105 rows × 3 columns</p>\n",
              "</div>"
            ],
            "text/plain": [
              "         x   y  hue\n",
              "0     1990   1    5\n",
              "1     2008   1    5\n",
              "2     2010   1    8\n",
              "3     1990   2    7\n",
              "4     1990   3    7\n",
              "...    ...  ..  ...\n",
              "1100  1990  17    6\n",
              "1101  1990  18    7\n",
              "1102  1990  19    8\n",
              "1103  1990  20    6\n",
              "1104  1990  21    5\n",
              "\n",
              "[1105 rows x 3 columns]"
            ]
          },
          "metadata": {},
          "execution_count": 8
        }
      ]
    },
    {
      "cell_type": "code",
      "metadata": {
        "colab": {
          "base_uri": "https://localhost:8080/",
          "height": 1000
        },
        "id": "C44AVhEU0ArT",
        "outputId": "65692502-900e-4d6a-ab7b-bb486e779b97"
      },
      "source": [
        "import plotly.express as px\n",
        "df=pd.DataFrame()\n",
        "df['x']=x;df['y']=y;df['hue']=hue1;\n",
        "fig = px.scatter(df, x=\"x\", y=\"y\", color=\"hue\",\n",
        "                 title=\"Peliculas por rating y año\",labels={\n",
        "                     \"x\": \"Año\",\n",
        "                     \"y\": \"Conteo\",\n",
        "                     \"hue\": \"Rating\"\n",
        "                 }\n",
        "                )\n",
        "fig.show()\n",
        "\n",
        "###################################\n",
        "fig.update_layout(\n",
        "    title=\"Peliculas por rating y año\",\n",
        "    xaxis=dict(\n",
        "        showgrid=False,\n",
        "        showline=True,\n",
        "        linecolor='rgb(102, 102, 102)',\n",
        "        tickfont_color='rgb(102, 102, 102)',\n",
        "        showticklabels=True,\n",
        "        dtick=10,\n",
        "        ticks='outside',\n",
        "        tickcolor='rgb(102, 102, 102)',\n",
        "    ),\n",
        "    margin=dict(l=140, r=40, b=50, t=80),\n",
        "    legend=dict(\n",
        "        font_size=10,\n",
        "        yanchor='middle',\n",
        "        xanchor='right',\n",
        "    ),\n",
        "    width=800,\n",
        "    height=600,\n",
        "    paper_bgcolor='white',\n",
        "    plot_bgcolor='white',\n",
        "    hovermode='closest',\n",
        ")\n",
        "fig.show()"
      ],
      "execution_count": null,
      "outputs": [
        {
          "output_type": "display_data",
          "data": {
            "text/html": [
              "<html>\n",
              "<head><meta charset=\"utf-8\" /></head>\n",
              "<body>\n",
              "    <div>\n",
              "            <script src=\"https://cdnjs.cloudflare.com/ajax/libs/mathjax/2.7.5/MathJax.js?config=TeX-AMS-MML_SVG\"></script><script type=\"text/javascript\">if (window.MathJax) {MathJax.Hub.Config({SVG: {font: \"STIX-Web\"}});}</script>\n",
              "                <script type=\"text/javascript\">window.PlotlyConfig = {MathJaxConfig: 'local'};</script>\n",
              "        <script src=\"https://cdn.plot.ly/plotly-latest.min.js\"></script>    \n",
              "            <div id=\"714d9794-a115-4903-9fb7-2e0836849a0d\" class=\"plotly-graph-div\" style=\"height:525px; width:100%;\"></div>\n",
              "            <script type=\"text/javascript\">\n",
              "                \n",
              "                    window.PLOTLYENV=window.PLOTLYENV || {};\n",
              "                    \n",
              "                if (document.getElementById(\"714d9794-a115-4903-9fb7-2e0836849a0d\")) {\n",
              "                    Plotly.newPlot(\n",
              "                        '714d9794-a115-4903-9fb7-2e0836849a0d',\n",
              "                        [{\"hoverlabel\": {\"namelength\": 0}, \"hovertemplate\": \"A\\u00f1o=%{x}<br>Conteo=%{y}<br>Rating=%{marker.color}\", \"legendgroup\": \"\", \"marker\": {\"color\": [5, 5, 8, 7, 7, 6, 6, 6, 5, 8, 6, 6, 7, 6, 4, 7, 7, 7, 7, 7, 7, 5, 6, 6, 8, 8, 6, 9, 8, 7, 6, 7, 7, 5, 7, 6, 7, 6, 7, 6, 5, 7, 7, 9, 8, 6, 7, 5, 6, 6, 6, 5, 6, 7, 7, 4, 6, 7, 8, 9, 8, 6, 5, 7, 7, 7, 9, 7, 7, 6, 7, 7, 5, 6, 5, 7, 5, 8, 7, 8, 9, 6, 6, 7, 7, 6, 6, 5, 7, 9, 6, 7, 9, 5, 8, 4, 7, 7, 7, 9, 8, 8, 7, 8, 6, 5, 7, 10, 5, 8, 8, 6, 7, 6, 3, 8, 6, 7, 8, 6, 8, 8, 7, 8, 8, 7, 6, 5, 8, 8, 7, 6, 7, 8, 8, 6, 6, 7, 7, 8, 5, 9, 8, 4, 5, 7, 5, 7, 6, 8, 5, 6, 5, 7, 7, 4, 5, 6, 8, 7, 8, 6, 5, 8, 8, 6, 7, 7, 8, 6, 7, 6, 8, 9, 8, 7, 6, 6, 7, 7, 6, 9, 8, 7, 7, 7, 8, 6, 8, 7, 8, 5, 8, 5, 8, 6, 6, 3, 7, 7, 7, 6, 8, 2, 6, 5, 7, 8, 8, 2, 9, 7, 8, 9, 7, 8, 9, 7, 5, 3, 5, 5, 6, 8, 6, 7, 6, 7, 7, 9, 9, 8, 6, 7, 6, 6, 7, 8, 6, 9, 8, 4, 7, 7, 8, 6, 7, 7, 8, 7, 8, 7, 7, 8, 7, 7, 7, 7, 7, 7, 8, 6, 7, 6, 7, 6, 6, 8, 7, 6, 4, 6, 8, 7, 6, 8, 7, 6, 6, 6, 7, 4, 5, 7, 8, 7, 8, 5, 7, 6, 5, 10, 6, 6, 7, 6, 8, 7, 7, 5, 8, 8, 8, 6, 9, 9, 8, 7, 7, 5, 8, 6, 6, 7, 6, 6, 7, 6, 6, 7, 5, 7, 7, 7, 6, 5, 8, 7, 7, 9, 3, 7, 6, 6, 7, 7, 6, 5, 7, 8, 7, 6, 7, 9, 8, 6, 8, 7, 7, 7, 6, 7, 8, 8, 5, 7, 7, 8, 4, 7, 7, 7, 5, 7, 8, 5, 7, 7, 8, 6, 6, 6, 7, 5, 6, 7, 6, 6, 5, 8, 4, 5, 8, 6, 7, 7, 9, 9, 8, 8, 6, 5, 8, 7, 7, 7, 7, 7, 8, 8, 5, 8, 8, 6, 7, 8, 6, 3, 6, 9, 6, 4, 6, 7, 7, 9, 8, 7, 8, 8, 9, 9, 8, 7, 3, 3, 7, 8, 4, 7, 7, 7, 6, 7, 6, 7, 6, 7, 7, 7, 7, 4, 7, 6, 6, 8, 8, 7, 7, 9, 3, 6, 9, 7, 8, 8, 8, 8, 5, 5, 8, 7, 3, 6, 7, 4, 8, 6, 8, 7, 5, 7, 4, 8, 6, 8, 7, 6, 8, 5, 7, 6, 7, 6, 4, 7, 8, 7, 8, 6, 5, 7, 5, 4, 8, 8, 5, 7, 8, 6, 7, 5, 6, 7, 5, 6, 9, 4, 6, 8, 7, 6, 7, 8, 8, 8, 8, 4, 6, 8, 5, 6, 8, 6, 8, 8, 8, 8, 8, 6, 5, 7, 8, 8, 7, 7, 9, 8, 7, 3, 8, 8, 6, 7, 8, 7, 7, 6, 3, 7, 6, 7, 7, 7, 9, 5, 8, 6, 8, 6, 7, 7, 9, 8, 6, 7, 8, 7, 7, 7, 7, 6, 6, 6, 7, 6, 8, 6, 6, 9, 5, 8, 8, 7, 7, 7, 8, 7, 6, 7, 7, 5, 7, 6, 6, 5, 7, 7, 6, 6, 7, 8, 6, 6, 5, 7, 6, 7, 9, 5, 7, 7, 8, 3, 10, 6, 7, 9, 6, 7, 5, 7, 8, 6, 4, 6, 7, 6, 4, 7, 7, 7, 7, 8, 8, 7, 8, 7, 7, 6, 7, 7, 8, 8, 7, 8, 7, 9, 7, 6, 7, 6, 6, 7, 6, 8, 9, 3, 6, 7, 5, 9, 7, 7, 7, 3, 6, 7, 5, 4, 7, 8, 5, 7, 7, 9, 8, 7, 7, 7, 7, 9, 8, 5, 7, 8, 7, 9, 8, 5, 8, 8, 2, 6, 9, 5, 5, 6, 8, 6, 6, 7, 7, 7, 7, 8, 8, 7, 8, 4, 9, 7, 7, 8, 7, 8, 8, 9, 7, 5, 3, 7, 4, 6, 3, 5, 7, 8, 8, 6, 6, 8, 6, 8, 8, 5, 7, 7, 8, 8, 6, 3, 7, 4, 3, 6, 8, 7, 8, 7, 5, 8, 8, 8, 7, 7, 6, 7, 9, 7, 6, 9, 7, 6, 8, 7, 5, 7, 7, 8, 7, 2, 7, 7, 8, 7, 8, 7, 7, 4, 8, 4, 8, 7, 6, 6, 6, 9, 6, 7, 7, 7, 6, 8, 6, 6, 4, 7, 7, 7, 8, 7, 6, 7, 7, 6, 5, 7, 7, 7, 5, 6, 7, 9, 7, 8, 7, 7, 7, 8, 5, 7, 7, 8, 8, 7, 7, 6, 8, 7, 7, 7, 6, 8, 6, 6, 7, 8, 7, 8, 8, 7, 7, 8, 7, 8, 7, 8, 7, 7, 7, 7, 7, 7, 7, 7, 7, 4, 8, 9, 7, 7, 6, 7, 8, 6, 7, 7, 6, 7, 7, 7, 7, 8, 7, 8, 7, 9, 8, 7, 7, 7, 10, 6, 7, 7, 7, 5, 8, 7, 7, 9, 8, 7, 7, 8, 7, 7, 8, 8, 8, 7, 6, 8, 8, 7, 6, 8, 5, 5, 7, 7, 7, 7, 7, 8, 8, 8, 7, 7, 7, 5, 4, 7, 7, 8, 6, 9, 7, 7, 8, 2, 7, 9, 6, 7, 8, 7, 6, 7, 8, 5, 5, 9, 8, 7, 7, 4, 8, 8, 8, 7, 6, 7, 6, 8, 5, 7, 7, 7, 8, 8, 7, 7, 7, 7, 5, 7, 6, 8, 7, 6, 8, 8, 7, 6, 8, 7, 6, 6, 8, 7, 8, 7, 7, 7, 7, 7, 6, 7, 6, 6, 7, 7, 7, 6, 7, 8, 6, 8, 7, 7, 7, 6, 7, 9, 6, 8, 8, 8, 6, 7, 7, 6, 6, 6, 6, 8, 8, 8, 7, 5, 5, 8, 7, 8, 6, 8, 7, 8, 6, 5, 4, 8, 7, 6, 5, 7, 5, 9, 7, 8, 4, 8, 6, 7, 6, 6, 4, 7, 8, 7, 6, 6, 8, 9, 4, 7, 6, 5, 6, 7, 6, 6, 7, 7, 7, 9, 7, 6, 8, 7, 6, 6, 3, 7, 7, 8, 8, 6, 6, 8, 7, 6, 7, 5, 7, 8, 6, 8, 3, 8, 6, 7, 8, 8, 5, 8, 9, 4, 6, 7, 8, 6, 5], \"coloraxis\": \"coloraxis\", \"symbol\": \"circle\"}, \"mode\": \"markers\", \"name\": \"\", \"showlegend\": false, \"type\": \"scattergl\", \"x\": [1990, 2008, 2010, 1990, 1990, 1990, 1990, 1990, 1990, 2008, 1991, 1991, 1991, 2010, 1991, 1991, 2009, 1991, 1991, 1991, 1991, 1991, 1991, 1991, 2007, 1991, 1991, 1991, 1991, 2010, 1992, 1992, 1992, 2009, 1992, 1992, 2009, 2009, 1992, 1992, 1992, 2009, 1992, 1992, 1992, 1992, 2009, 1992, 1990, 1992, 1992, 1992, 2009, 1992, 2008, 1993, 1993, 2007, 1992, 2008, 2014, 1993, 1993, 1993, 1993, 1993, 1993, 1993, 1993, 1993, 1993, 1993, 1993, 2012, 1993, 1993, 1993, 2007, 1993, 1993, 1993, 1993, 1993, 1993, 1993, 2007, 1994, 1994, 1994, 1994, 1994, 1994, 1994, 2008, 1994, 1994, 1994, 1994, 1994, 1994, 1994, 1994, 1994, 1994, 1994, 1994, 1994, 1994, 1994, 1994, 1994, 2009, 2008, 2009, 1995, 1995, 1995, 1995, 1995, 1995, 1995, 1995, 1995, 2010, 1995, 1995, 2009, 1995, 1995, 2009, 1995, 1995, 1995, 1995, 1995, 1995, 1995, 1995, 1995, 1995, 1995, 1995, 1995, 1995, 1995, 2009, 2009, 1996, 1996, 1996, 1996, 1996, 1996, 1996, 1996, 1996, 1996, 1996, 1996, 1996, 1996, 1996, 1996, 2013, 1996, 1996, 1996, 2009, 1996, 2008, 1996, 1996, 2009, 1996, 2016, 1996, 2008, 1997, 1997, 1997, 1997, 1998, 1997, 1997, 1998, 1997, 1997, 1997, 1997, 1998, 2009, 1997, 2009, 1997, 1997, 1997, 1997, 1997, 1997, 1997, 1997, 1998, 1997, 1997, 1997, 2014, 1997, 1997, 2011, 1997, 1997, 1997, 1999, 1998, 2013, 2008, 1998, 1998, 1998, 2008, 1998, 1998, 1998, 1999, 1999, 1998, 2005, 1998, 1998, 1999, 1998, 2001, 1998, 1998, 2000, 1998, 1998, 1998, 1999, 1999, 1998, 1998, 1997, 1998, 1998, 2000, 2002, 1999, 2016, 2012, 2018, 2002, 2005, 2008, 1998, 2009, 2010, 2010, 2012, 2009, 1997, 2011, 2010, 2009, 2010, 2014, 1999, 2001, 1998, 2011, 1986, 2018, 2011, 2010, 2012, 1997, 2010, 2010, 1998, 1998, 2011, 1998, 1998, 2009, 2013, 2010, 2011, 2009, 2010, 2013, 1995, 1999, 2001, 2013, 1999, 2009, 1999, 2013, 2012, 2008, 2012, 2000, 2009, 2018, 1999, 2010, 2009, 2009, 2010, 2016, 1998, 2017, 2012, 2015, 2017, 2012, 2015, 2009, 2012, 2013, 2011, 2011, 2000, 2009, 1999, 2013, 2016, 1999, 2000, 1999, 2000, 2011, 2002, 1998, 1999, 2013, 2001, 2009, 2018, 2009, 2017, 2009, 2019, 2014, 1999, 2011, 2010, 1999, 2011, 2018, 2015, 1998, 2013, 2011, 2016, 2010, 2012, 2011, 2000, 1999, 2001, 2015, 2012, 2000, 2012, 2000, 2010, 2010, 2000, 2011, 2014, 1999, 1999, 2012, 2012, 2000, 2011, 2011, 2002, 2012, 2012, 1999, 2015, 2013, 1999, 2013, 2003, 2002, 1999, 2011, 2018, 2011, 1999, 2000, 1999, 1927, 2003, 2013, 2000, 2011, 2018, 2000, 2012, 2000, 1999, 2000, 2011, 2011, 2013, 2000, 2011, 2003, 2015, 2018, 2000, 2002, 2000, 2012, 2014, 2000, 2012, 2012, 2017, 1999, 2008, 2012, 2000, 2014, 2001, 2015, 2000, 1999, 1998, 2014, 2012, 2000, 2013, 2013, 2014, 2015, 2000, 2013, 2013, 2001, 2000, 2013, 2016, 2014, 2013, 2001, 2000, 2000, 2000, 2014, 2000, 2015, 2014, 2012, 2000, 2000, 2013, 2016, 2015, 2012, 2001, 2000, 2000, 2014, 2012, 2014, 2012, 2017, 2001, 2014, 2017, 2014, 2013, 2014, 2001, 2014, 2001, 2014, 2013, 2003, 2014, 2015, 2017, 2014, 2000, 2002, 2013, 2012, 2018, 2000, 2015, 2012, 2001, 2017, 2001, 2000, 2001, 2000, 2001, 2001, 2003, 2001, 2001, 2001, 2001, 2015, 2002, 2001, 2001, 2017, 2001, 2002, 2014, 2002, 2002, 2016, 2018, 2015, 2014, 2001, 2012, 2002, 2016, 2014, 2002, 2002, 2001, 2001, 2002, 2001, 2001, 2003, 2003, 2016, 2002, 2001, 2002, 2001, 2018, 2015, 2001, 2013, 2003, 2017, 2002, 2001, 1998, 2014, 2001, 2014, 2014, 2002, 2002, 2002, 2001, 2003, 2001, 2014, 2004, 2003, 2014, 2003, 2002, 2001, 2016, 2002, 2002, 2002, 2003, 1937, 2004, 2014, 2002, 2004, 2002, 2002, 2003, 2003, 2004, 2003, 2013, 2004, 2003, 2001, 2002, 2003, 2003, 2002, 2003, 2004, 2015, 2003, 2004, 2003, 2016, 2004, 2003, 2004, 2002, 2003, 2003, 2014, 2017, 2003, 2003, 2006, 2004, 2003, 2003, 2003, 2002, 2005, 2015, 2017, 2004, 2003, 2003, 2003, 2004, 2004, 2002, 2003, 2016, 2017, 2002, 2014, 2002, 2004, 2017, 1942, 2015, 2016, 2015, 2015, 2016, 2014, 2017, 2005, 2002, 2005, 2004, 2017, 2016, 2004, 2004, 2005, 2004, 2004, 2015, 2003, 2013, 2018, 2009, 2006, 2005, 2005, 2004, 2006, 2015, 2004, 2005, 2003, 2005, 2004, 2004, 2005, 2005, 2008, 2017, 2004, 2014, 2005, 2004, 2007, 2016, 2014, 2016, 2004, 2017, 2005, 2014, 2006, 2018, 2004, 2016, 2015, 2016, 2006, 2004, 2014, 2006, 2005, 2004, 2003, 2004, 2006, 2005, 2017, 2018, 2017, 2004, 2008, 2006, 2017, 2005, 2005, 2005, 2007, 2016, 2016, 2005, 2004, 2006, 2009, 2017, 2018, 2014, 2005, 2007, 2007, 2007, 2006, 2019, 2019, 2006, 2015, 2009, 2004, 2008, 2017, 2006, 2008, 2004, 2006, 2010, 2016, 2006, 2005, 2007, 2007, 2004, 2015, 2005, 2005, 2010, 2005, 2006, 2004, 2004, 2007, 2015, 2006, 2005, 2007, 2010, 2008, 2006, 2007, 2007, 2017, 1952, 2012, 2006, 2017, 2005, 2006, 2006, 2006, 2011, 2006, 2014, 2009, 2018, 2006, 2007, 2006, 2018, 2006, 2017, 2007, 2007, 2009, 2008, 2008, 2014, 2009, 2006, 2005, 2005, 2007, 2015, 2006, 2016, 2007, 2006, 2008, 2006, 2006, 1955, 2005, 2016, 2009, 1955, 2015, 2016, 2017, 2008, 2006, 2016, 1957, 2017, 2017, 2017, 2018, 2018, 2017, 1959, 1959, 2016, 1960, 2018, 2017, 2017, 2017, 1962, 1962, 1962, 2017, 2016, 1963, 2017, 2017, 1965, 1964, 1964, 1964, 1964, 1964, 1965, 2016, 1965, 1965, 1965, 1966, 1967, 1965, 1966, 1967, 2017, 1966, 1967, 2018, 1967, 2016, 1967, 1968, 2018, 1968, 2017, 1968, 2017, 1969, 2018, 1969, 1969, 1969, 2018, 1970, 1970, 1970, 1971, 2018, 1971, 1971, 1971, 1971, 1971, 1971, 1972, 2018, 2018, 2018, 1973, 2018, 1973, 2018, 2017, 1974, 1975, 1974, 1974, 1975, 1976, 1975, 1975, 2018, 1975, 1976, 1976, 1976, 1976, 1977, 2007, 1977, 1976, 2007, 2009, 1977, 1977, 1977, 2011, 2013, 1978, 2018, 1978, 1977, 2017, 2011, 2008, 2008, 1978, 1979, 2015, 1979, 1980, 1979, 1979, 1980, 1979, 1979, 2013, 1979, 1979, 2008, 2011, 1978, 1980, 1978, 2007, 1980, 1980, 2006, 2007, 1980, 1980, 2014, 2013, 1981, 1982, 2007, 1981, 1981, 2007, 1981, 2008, 1981, 1981, 2018, 1982, 1982, 2018, 1982, 2009, 1982, 1981, 1982, 1982, 2010, 2007, 1982, 1982, 1982, 2012, 1982, 1983, 1983, 1983, 1983, 1983, 1983, 1983, 1983, 1984, 2009, 1984, 1984, 1984, 1984, 1984, 2007, 2010, 1984, 1984, 1984, 1984, 1984, 1984, 1984, 2015, 2019, 1985, 1985, 1985, 2009, 1985, 1985, 1985, 1985, 1985, 2007, 1985, 1985, 1985, 1985, 2012, 1986, 1986, 1986, 1986, 2008, 1986, 1986, 1986, 2008, 1986, 1986, 1986, 1986, 1986, 2010, 1987, 1987, 1987, 1987, 1987, 1987, 1987, 1987, 1987, 2008, 1987, 1987, 1987, 1987, 2008, 1988, 1988, 2010, 1988, 1988, 2018, 1988, 1988, 1988, 1988, 1988, 1988, 1988, 1988, 2008, 1988, 1958, 1989, 1989, 1989, 1989, 1989, 1989, 1989, 2009, 2007, 1989, 2012, 1989, 2008, 2009, 1989, 1988, 1989, 1989, 1989, 1989, 1989, 2010, 2009, 2009, 1990, 1990, 1989, 2013, 1990, 1990, 1990, 1990, 1990, 1990, 1990, 1990, 1990, 1990, 1990], \"xaxis\": \"x\", \"y\": [1, 1, 1, 2, 3, 4, 5, 6, 7, 2, 1, 2, 3, 2, 4, 5, 1, 6, 7, 8, 9, 10, 11, 12, 1, 13, 14, 15, 16, 3, 1, 2, 3, 2, 4, 5, 3, 4, 6, 7, 8, 5, 9, 10, 11, 12, 6, 13, 8, 14, 15, 16, 7, 17, 3, 1, 2, 2, 18, 4, 1, 3, 4, 5, 6, 7, 8, 9, 10, 11, 12, 13, 14, 1, 15, 16, 17, 3, 18, 19, 20, 21, 22, 23, 24, 4, 1, 2, 3, 4, 5, 6, 7, 5, 8, 9, 10, 11, 12, 13, 14, 15, 16, 17, 18, 19, 20, 21, 22, 23, 24, 8, 6, 9, 1, 2, 3, 4, 5, 6, 7, 8, 9, 4, 10, 11, 10, 12, 13, 11, 14, 15, 16, 17, 18, 19, 20, 21, 22, 23, 24, 25, 26, 27, 28, 12, 13, 1, 2, 3, 4, 5, 6, 7, 8, 9, 10, 11, 12, 13, 14, 15, 16, 1, 17, 18, 19, 14, 20, 7, 21, 22, 15, 23, 1, 24, 8, 1, 2, 3, 4, 1, 5, 6, 2, 7, 8, 9, 10, 3, 16, 11, 17, 12, 13, 14, 15, 16, 17, 18, 19, 4, 20, 21, 22, 2, 23, 24, 1, 25, 26, 27, 1, 5, 2, 9, 6, 7, 8, 10, 9, 10, 11, 2, 3, 12, 1, 13, 14, 4, 15, 1, 16, 17, 1, 18, 19, 20, 5, 6, 21, 22, 28, 23, 24, 2, 1, 7, 2, 2, 1, 2, 2, 11, 25, 18, 5, 6, 3, 19, 29, 2, 7, 20, 8, 3, 8, 2, 26, 3, 1, 2, 4, 9, 4, 30, 10, 11, 27, 28, 5, 29, 30, 21, 3, 12, 6, 22, 13, 4, 29, 9, 3, 5, 10, 23, 11, 6, 5, 12, 6, 3, 24, 3, 12, 14, 25, 26, 15, 3, 31, 1, 7, 1, 2, 8, 2, 27, 9, 7, 7, 8, 4, 28, 13, 8, 4, 14, 5, 15, 6, 9, 3, 32, 16, 9, 4, 29, 4, 30, 3, 31, 1, 4, 17, 10, 16, 18, 11, 5, 3, 33, 10, 12, 5, 17, 10, 13, 7, 19, 5, 4, 11, 8, 12, 9, 18, 19, 10, 14, 5, 20, 21, 13, 14, 11, 15, 16, 4, 15, 16, 22, 5, 11, 23, 12, 1, 5, 24, 17, 6, 18, 25, 12, 26, 1, 2, 13, 13, 19, 7, 14, 17, 15, 27, 16, 20, 21, 14, 17, 22, 3, 6, 8, 18, 6, 19, 18, 6, 20, 19, 20, 4, 28, 13, 21, 21, 7, 6, 7, 22, 29, 34, 8, 22, 23, 15, 16, 9, 8, 24, 17, 18, 7, 25, 19, 6, 10, 20, 8, 26, 27, 28, 11, 29, 9, 12, 23, 30, 31, 21, 7, 10, 24, 9, 32, 33, 13, 25, 14, 26, 5, 10, 15, 6, 16, 22, 17, 11, 18, 12, 19, 23, 4, 20, 11, 7, 21, 34, 7, 24, 27, 9, 35, 12, 28, 13, 8, 14, 36, 15, 37, 16, 17, 5, 18, 19, 20, 21, 13, 8, 22, 23, 9, 24, 9, 22, 10, 11, 8, 10, 14, 23, 25, 29, 12, 9, 24, 13, 14, 26, 27, 15, 28, 29, 6, 7, 10, 16, 30, 17, 31, 11, 15, 32, 25, 8, 10, 18, 33, 35, 25, 34, 26, 27, 19, 20, 21, 35, 9, 36, 28, 1, 10, 29, 11, 22, 37, 11, 23, 24, 25, 12, 1, 2, 30, 26, 3, 27, 28, 13, 14, 4, 15, 26, 5, 16, 38, 29, 17, 18, 30, 19, 6, 16, 20, 7, 21, 12, 8, 22, 9, 31, 23, 24, 31, 11, 25, 26, 1, 10, 27, 28, 29, 32, 3, 17, 12, 11, 30, 31, 32, 12, 13, 33, 33, 13, 13, 34, 32, 35, 14, 14, 1, 18, 14, 19, 20, 15, 33, 15, 4, 36, 5, 15, 16, 16, 16, 17, 6, 18, 19, 21, 34, 27, 12, 32, 2, 7, 8, 20, 3, 22, 21, 9, 35, 10, 22, 23, 11, 12, 14, 17, 24, 34, 13, 25, 5, 17, 35, 18, 26, 18, 14, 36, 4, 13, 27, 19, 23, 20, 5, 28, 37, 6, 15, 29, 36, 30, 7, 16, 19, 14, 20, 31, 15, 8, 21, 17, 18, 19, 6, 21, 22, 20, 32, 9, 33, 22, 15, 38, 21, 7, 8, 9, 10, 2, 3, 11, 24, 34, 33, 16, 23, 12, 17, 34, 13, 20, 23, 14, 22, 10, 11, 35, 25, 23, 24, 21, 25, 15, 36, 37, 12, 26, 16, 26, 13, 22, 18, 17, 14, 15, 24, 1, 30, 18, 25, 27, 19, 20, 21, 23, 22, 39, 35, 16, 23, 16, 24, 17, 25, 26, 17, 18, 36, 19, 20, 40, 37, 26, 28, 29, 19, 27, 27, 24, 20, 28, 21, 29, 30, 1, 30, 25, 38, 2, 28, 26, 27, 22, 31, 27, 1, 28, 29, 30, 18, 19, 31, 1, 2, 28, 1, 20, 32, 33, 34, 1, 2, 3, 35, 29, 1, 36, 37, 1, 1, 2, 3, 4, 5, 2, 30, 3, 4, 5, 1, 1, 6, 2, 2, 38, 3, 3, 21, 4, 31, 5, 1, 22, 2, 39, 3, 40, 1, 23, 2, 3, 4, 24, 1, 2, 3, 1, 25, 2, 3, 4, 5, 6, 7, 1, 26, 27, 28, 1, 29, 2, 30, 41, 1, 1, 2, 3, 2, 1, 3, 4, 31, 5, 2, 3, 4, 5, 1, 21, 2, 6, 22, 39, 3, 4, 5, 24, 28, 1, 32, 2, 6, 42, 25, 23, 24, 3, 1, 29, 2, 1, 3, 4, 2, 5, 6, 29, 7, 8, 25, 26, 4, 3, 5, 23, 4, 5, 32, 24, 6, 7, 41, 30, 1, 1, 25, 2, 3, 26, 4, 26, 5, 6, 33, 2, 3, 34, 4, 40, 5, 7, 6, 7, 23, 27, 8, 9, 10, 31, 11, 1, 2, 3, 4, 5, 6, 7, 8, 1, 41, 2, 3, 4, 5, 6, 28, 24, 7, 8, 9, 10, 11, 12, 13, 30, 4, 1, 2, 3, 42, 4, 5, 6, 7, 8, 29, 9, 10, 11, 12, 32, 2, 3, 4, 5, 27, 6, 7, 8, 28, 9, 10, 11, 12, 13, 25, 1, 2, 3, 4, 5, 6, 7, 8, 9, 29, 10, 11, 12, 13, 30, 1, 2, 26, 3, 4, 35, 5, 6, 7, 8, 9, 10, 11, 12, 31, 13, 1, 1, 2, 3, 4, 5, 6, 7, 43, 30, 8, 33, 9, 32, 44, 10, 14, 11, 12, 13, 14, 15, 27, 45, 46, 9, 10, 16, 31, 11, 12, 13, 14, 15, 16, 17, 18, 19, 20, 21], \"yaxis\": \"y\"}],\n",
              "                        {\"coloraxis\": {\"colorbar\": {\"title\": {\"text\": \"Rating\"}}, \"colorscale\": [[0.0, \"#0d0887\"], [0.1111111111111111, \"#46039f\"], [0.2222222222222222, \"#7201a8\"], [0.3333333333333333, \"#9c179e\"], [0.4444444444444444, \"#bd3786\"], [0.5555555555555556, \"#d8576b\"], [0.6666666666666666, \"#ed7953\"], [0.7777777777777778, \"#fb9f3a\"], [0.8888888888888888, \"#fdca26\"], [1.0, \"#f0f921\"]]}, \"legend\": {\"tracegroupgap\": 0}, \"template\": {\"data\": {\"bar\": [{\"error_x\": {\"color\": \"#2a3f5f\"}, \"error_y\": {\"color\": \"#2a3f5f\"}, \"marker\": {\"line\": {\"color\": \"#E5ECF6\", \"width\": 0.5}}, \"type\": \"bar\"}], \"barpolar\": [{\"marker\": {\"line\": {\"color\": \"#E5ECF6\", \"width\": 0.5}}, \"type\": \"barpolar\"}], \"carpet\": [{\"aaxis\": {\"endlinecolor\": \"#2a3f5f\", \"gridcolor\": \"white\", \"linecolor\": \"white\", \"minorgridcolor\": \"white\", \"startlinecolor\": \"#2a3f5f\"}, \"baxis\": {\"endlinecolor\": \"#2a3f5f\", \"gridcolor\": \"white\", \"linecolor\": \"white\", \"minorgridcolor\": \"white\", \"startlinecolor\": \"#2a3f5f\"}, \"type\": \"carpet\"}], \"choropleth\": [{\"colorbar\": {\"outlinewidth\": 0, \"ticks\": \"\"}, \"type\": \"choropleth\"}], \"contour\": [{\"colorbar\": {\"outlinewidth\": 0, \"ticks\": \"\"}, \"colorscale\": [[0.0, \"#0d0887\"], [0.1111111111111111, \"#46039f\"], [0.2222222222222222, \"#7201a8\"], [0.3333333333333333, \"#9c179e\"], [0.4444444444444444, \"#bd3786\"], [0.5555555555555556, \"#d8576b\"], [0.6666666666666666, \"#ed7953\"], [0.7777777777777778, \"#fb9f3a\"], [0.8888888888888888, \"#fdca26\"], [1.0, \"#f0f921\"]], \"type\": \"contour\"}], \"contourcarpet\": [{\"colorbar\": {\"outlinewidth\": 0, \"ticks\": \"\"}, \"type\": \"contourcarpet\"}], \"heatmap\": [{\"colorbar\": {\"outlinewidth\": 0, \"ticks\": \"\"}, \"colorscale\": [[0.0, \"#0d0887\"], [0.1111111111111111, \"#46039f\"], [0.2222222222222222, \"#7201a8\"], [0.3333333333333333, \"#9c179e\"], [0.4444444444444444, \"#bd3786\"], [0.5555555555555556, \"#d8576b\"], [0.6666666666666666, \"#ed7953\"], [0.7777777777777778, \"#fb9f3a\"], [0.8888888888888888, \"#fdca26\"], [1.0, \"#f0f921\"]], \"type\": \"heatmap\"}], \"heatmapgl\": [{\"colorbar\": {\"outlinewidth\": 0, \"ticks\": \"\"}, \"colorscale\": [[0.0, \"#0d0887\"], [0.1111111111111111, \"#46039f\"], [0.2222222222222222, \"#7201a8\"], [0.3333333333333333, \"#9c179e\"], [0.4444444444444444, \"#bd3786\"], [0.5555555555555556, \"#d8576b\"], [0.6666666666666666, \"#ed7953\"], [0.7777777777777778, \"#fb9f3a\"], [0.8888888888888888, \"#fdca26\"], [1.0, \"#f0f921\"]], \"type\": \"heatmapgl\"}], \"histogram\": [{\"marker\": {\"colorbar\": {\"outlinewidth\": 0, \"ticks\": \"\"}}, \"type\": \"histogram\"}], \"histogram2d\": [{\"colorbar\": {\"outlinewidth\": 0, \"ticks\": \"\"}, \"colorscale\": [[0.0, \"#0d0887\"], [0.1111111111111111, \"#46039f\"], [0.2222222222222222, \"#7201a8\"], [0.3333333333333333, \"#9c179e\"], [0.4444444444444444, \"#bd3786\"], [0.5555555555555556, \"#d8576b\"], [0.6666666666666666, \"#ed7953\"], [0.7777777777777778, \"#fb9f3a\"], [0.8888888888888888, \"#fdca26\"], [1.0, \"#f0f921\"]], \"type\": \"histogram2d\"}], \"histogram2dcontour\": [{\"colorbar\": {\"outlinewidth\": 0, \"ticks\": \"\"}, \"colorscale\": [[0.0, \"#0d0887\"], [0.1111111111111111, \"#46039f\"], [0.2222222222222222, \"#7201a8\"], [0.3333333333333333, \"#9c179e\"], [0.4444444444444444, \"#bd3786\"], [0.5555555555555556, \"#d8576b\"], [0.6666666666666666, \"#ed7953\"], [0.7777777777777778, \"#fb9f3a\"], [0.8888888888888888, \"#fdca26\"], [1.0, \"#f0f921\"]], \"type\": \"histogram2dcontour\"}], \"mesh3d\": [{\"colorbar\": {\"outlinewidth\": 0, \"ticks\": \"\"}, \"type\": \"mesh3d\"}], \"parcoords\": [{\"line\": {\"colorbar\": {\"outlinewidth\": 0, \"ticks\": \"\"}}, \"type\": \"parcoords\"}], \"pie\": [{\"automargin\": true, \"type\": \"pie\"}], \"scatter\": [{\"marker\": {\"colorbar\": {\"outlinewidth\": 0, \"ticks\": \"\"}}, \"type\": \"scatter\"}], \"scatter3d\": [{\"line\": {\"colorbar\": {\"outlinewidth\": 0, \"ticks\": \"\"}}, \"marker\": {\"colorbar\": {\"outlinewidth\": 0, \"ticks\": \"\"}}, \"type\": \"scatter3d\"}], \"scattercarpet\": [{\"marker\": {\"colorbar\": {\"outlinewidth\": 0, \"ticks\": \"\"}}, \"type\": \"scattercarpet\"}], \"scattergeo\": [{\"marker\": {\"colorbar\": {\"outlinewidth\": 0, \"ticks\": \"\"}}, \"type\": \"scattergeo\"}], \"scattergl\": [{\"marker\": {\"colorbar\": {\"outlinewidth\": 0, \"ticks\": \"\"}}, \"type\": \"scattergl\"}], \"scattermapbox\": [{\"marker\": {\"colorbar\": {\"outlinewidth\": 0, \"ticks\": \"\"}}, \"type\": \"scattermapbox\"}], \"scatterpolar\": [{\"marker\": {\"colorbar\": {\"outlinewidth\": 0, \"ticks\": \"\"}}, \"type\": \"scatterpolar\"}], \"scatterpolargl\": [{\"marker\": {\"colorbar\": {\"outlinewidth\": 0, \"ticks\": \"\"}}, \"type\": \"scatterpolargl\"}], \"scatterternary\": [{\"marker\": {\"colorbar\": {\"outlinewidth\": 0, \"ticks\": \"\"}}, \"type\": \"scatterternary\"}], \"surface\": [{\"colorbar\": {\"outlinewidth\": 0, \"ticks\": \"\"}, \"colorscale\": [[0.0, \"#0d0887\"], [0.1111111111111111, \"#46039f\"], [0.2222222222222222, \"#7201a8\"], [0.3333333333333333, \"#9c179e\"], [0.4444444444444444, \"#bd3786\"], [0.5555555555555556, \"#d8576b\"], [0.6666666666666666, \"#ed7953\"], [0.7777777777777778, \"#fb9f3a\"], [0.8888888888888888, \"#fdca26\"], [1.0, \"#f0f921\"]], \"type\": \"surface\"}], \"table\": [{\"cells\": {\"fill\": {\"color\": \"#EBF0F8\"}, \"line\": {\"color\": \"white\"}}, \"header\": {\"fill\": {\"color\": \"#C8D4E3\"}, \"line\": {\"color\": \"white\"}}, \"type\": \"table\"}]}, \"layout\": {\"annotationdefaults\": {\"arrowcolor\": \"#2a3f5f\", \"arrowhead\": 0, \"arrowwidth\": 1}, \"coloraxis\": {\"colorbar\": {\"outlinewidth\": 0, \"ticks\": \"\"}}, \"colorscale\": {\"diverging\": [[0, \"#8e0152\"], [0.1, \"#c51b7d\"], [0.2, \"#de77ae\"], [0.3, \"#f1b6da\"], [0.4, \"#fde0ef\"], [0.5, \"#f7f7f7\"], [0.6, \"#e6f5d0\"], [0.7, \"#b8e186\"], [0.8, \"#7fbc41\"], [0.9, \"#4d9221\"], [1, \"#276419\"]], \"sequential\": [[0.0, \"#0d0887\"], [0.1111111111111111, \"#46039f\"], [0.2222222222222222, \"#7201a8\"], [0.3333333333333333, \"#9c179e\"], [0.4444444444444444, \"#bd3786\"], [0.5555555555555556, \"#d8576b\"], [0.6666666666666666, \"#ed7953\"], [0.7777777777777778, \"#fb9f3a\"], [0.8888888888888888, \"#fdca26\"], [1.0, \"#f0f921\"]], \"sequentialminus\": [[0.0, \"#0d0887\"], [0.1111111111111111, \"#46039f\"], [0.2222222222222222, \"#7201a8\"], [0.3333333333333333, \"#9c179e\"], [0.4444444444444444, \"#bd3786\"], [0.5555555555555556, \"#d8576b\"], [0.6666666666666666, \"#ed7953\"], [0.7777777777777778, \"#fb9f3a\"], [0.8888888888888888, \"#fdca26\"], [1.0, \"#f0f921\"]]}, \"colorway\": [\"#636efa\", \"#EF553B\", \"#00cc96\", \"#ab63fa\", \"#FFA15A\", \"#19d3f3\", \"#FF6692\", \"#B6E880\", \"#FF97FF\", \"#FECB52\"], \"font\": {\"color\": \"#2a3f5f\"}, \"geo\": {\"bgcolor\": \"white\", \"lakecolor\": \"white\", \"landcolor\": \"#E5ECF6\", \"showlakes\": true, \"showland\": true, \"subunitcolor\": \"white\"}, \"hoverlabel\": {\"align\": \"left\"}, \"hovermode\": \"closest\", \"mapbox\": {\"style\": \"light\"}, \"paper_bgcolor\": \"white\", \"plot_bgcolor\": \"#E5ECF6\", \"polar\": {\"angularaxis\": {\"gridcolor\": \"white\", \"linecolor\": \"white\", \"ticks\": \"\"}, \"bgcolor\": \"#E5ECF6\", \"radialaxis\": {\"gridcolor\": \"white\", \"linecolor\": \"white\", \"ticks\": \"\"}}, \"scene\": {\"xaxis\": {\"backgroundcolor\": \"#E5ECF6\", \"gridcolor\": \"white\", \"gridwidth\": 2, \"linecolor\": \"white\", \"showbackground\": true, \"ticks\": \"\", \"zerolinecolor\": \"white\"}, \"yaxis\": {\"backgroundcolor\": \"#E5ECF6\", \"gridcolor\": \"white\", \"gridwidth\": 2, \"linecolor\": \"white\", \"showbackground\": true, \"ticks\": \"\", \"zerolinecolor\": \"white\"}, \"zaxis\": {\"backgroundcolor\": \"#E5ECF6\", \"gridcolor\": \"white\", \"gridwidth\": 2, \"linecolor\": \"white\", \"showbackground\": true, \"ticks\": \"\", \"zerolinecolor\": \"white\"}}, \"shapedefaults\": {\"line\": {\"color\": \"#2a3f5f\"}}, \"ternary\": {\"aaxis\": {\"gridcolor\": \"white\", \"linecolor\": \"white\", \"ticks\": \"\"}, \"baxis\": {\"gridcolor\": \"white\", \"linecolor\": \"white\", \"ticks\": \"\"}, \"bgcolor\": \"#E5ECF6\", \"caxis\": {\"gridcolor\": \"white\", \"linecolor\": \"white\", \"ticks\": \"\"}}, \"title\": {\"x\": 0.05}, \"xaxis\": {\"automargin\": true, \"gridcolor\": \"white\", \"linecolor\": \"white\", \"ticks\": \"\", \"title\": {\"standoff\": 15}, \"zerolinecolor\": \"white\", \"zerolinewidth\": 2}, \"yaxis\": {\"automargin\": true, \"gridcolor\": \"white\", \"linecolor\": \"white\", \"ticks\": \"\", \"title\": {\"standoff\": 15}, \"zerolinecolor\": \"white\", \"zerolinewidth\": 2}}}, \"title\": {\"text\": \"Peliculas por rating y a\\u00f1o\"}, \"xaxis\": {\"anchor\": \"y\", \"domain\": [0.0, 1.0], \"title\": {\"text\": \"A\\u00f1o\"}}, \"yaxis\": {\"anchor\": \"x\", \"domain\": [0.0, 1.0], \"title\": {\"text\": \"Conteo\"}}},\n",
              "                        {\"responsive\": true}\n",
              "                    ).then(function(){\n",
              "                            \n",
              "var gd = document.getElementById('714d9794-a115-4903-9fb7-2e0836849a0d');\n",
              "var x = new MutationObserver(function (mutations, observer) {{\n",
              "        var display = window.getComputedStyle(gd).display;\n",
              "        if (!display || display === 'none') {{\n",
              "            console.log([gd, 'removed!']);\n",
              "            Plotly.purge(gd);\n",
              "            observer.disconnect();\n",
              "        }}\n",
              "}});\n",
              "\n",
              "// Listen for the removal of the full notebook cells\n",
              "var notebookContainer = gd.closest('#notebook-container');\n",
              "if (notebookContainer) {{\n",
              "    x.observe(notebookContainer, {childList: true});\n",
              "}}\n",
              "\n",
              "// Listen for the clearing of the current output cell\n",
              "var outputEl = gd.closest('.output');\n",
              "if (outputEl) {{\n",
              "    x.observe(outputEl, {childList: true});\n",
              "}}\n",
              "\n",
              "                        })\n",
              "                };\n",
              "                \n",
              "            </script>\n",
              "        </div>\n",
              "</body>\n",
              "</html>"
            ]
          },
          "metadata": {}
        },
        {
          "output_type": "display_data",
          "data": {
            "text/html": [
              "<html>\n",
              "<head><meta charset=\"utf-8\" /></head>\n",
              "<body>\n",
              "    <div>\n",
              "            <script src=\"https://cdnjs.cloudflare.com/ajax/libs/mathjax/2.7.5/MathJax.js?config=TeX-AMS-MML_SVG\"></script><script type=\"text/javascript\">if (window.MathJax) {MathJax.Hub.Config({SVG: {font: \"STIX-Web\"}});}</script>\n",
              "                <script type=\"text/javascript\">window.PlotlyConfig = {MathJaxConfig: 'local'};</script>\n",
              "        <script src=\"https://cdn.plot.ly/plotly-latest.min.js\"></script>    \n",
              "            <div id=\"d0f7e0f4-e979-4b77-8841-7d51f01756b5\" class=\"plotly-graph-div\" style=\"height:600px; width:800px;\"></div>\n",
              "            <script type=\"text/javascript\">\n",
              "                \n",
              "                    window.PLOTLYENV=window.PLOTLYENV || {};\n",
              "                    \n",
              "                if (document.getElementById(\"d0f7e0f4-e979-4b77-8841-7d51f01756b5\")) {\n",
              "                    Plotly.newPlot(\n",
              "                        'd0f7e0f4-e979-4b77-8841-7d51f01756b5',\n",
              "                        [{\"hoverlabel\": {\"namelength\": 0}, \"hovertemplate\": \"A\\u00f1o=%{x}<br>Conteo=%{y}<br>Rating=%{marker.color}\", \"legendgroup\": \"\", \"marker\": {\"color\": [5, 5, 8, 7, 7, 6, 6, 6, 5, 8, 6, 6, 7, 6, 4, 7, 7, 7, 7, 7, 7, 5, 6, 6, 8, 8, 6, 9, 8, 7, 6, 7, 7, 5, 7, 6, 7, 6, 7, 6, 5, 7, 7, 9, 8, 6, 7, 5, 6, 6, 6, 5, 6, 7, 7, 4, 6, 7, 8, 9, 8, 6, 5, 7, 7, 7, 9, 7, 7, 6, 7, 7, 5, 6, 5, 7, 5, 8, 7, 8, 9, 6, 6, 7, 7, 6, 6, 5, 7, 9, 6, 7, 9, 5, 8, 4, 7, 7, 7, 9, 8, 8, 7, 8, 6, 5, 7, 10, 5, 8, 8, 6, 7, 6, 3, 8, 6, 7, 8, 6, 8, 8, 7, 8, 8, 7, 6, 5, 8, 8, 7, 6, 7, 8, 8, 6, 6, 7, 7, 8, 5, 9, 8, 4, 5, 7, 5, 7, 6, 8, 5, 6, 5, 7, 7, 4, 5, 6, 8, 7, 8, 6, 5, 8, 8, 6, 7, 7, 8, 6, 7, 6, 8, 9, 8, 7, 6, 6, 7, 7, 6, 9, 8, 7, 7, 7, 8, 6, 8, 7, 8, 5, 8, 5, 8, 6, 6, 3, 7, 7, 7, 6, 8, 2, 6, 5, 7, 8, 8, 2, 9, 7, 8, 9, 7, 8, 9, 7, 5, 3, 5, 5, 6, 8, 6, 7, 6, 7, 7, 9, 9, 8, 6, 7, 6, 6, 7, 8, 6, 9, 8, 4, 7, 7, 8, 6, 7, 7, 8, 7, 8, 7, 7, 8, 7, 7, 7, 7, 7, 7, 8, 6, 7, 6, 7, 6, 6, 8, 7, 6, 4, 6, 8, 7, 6, 8, 7, 6, 6, 6, 7, 4, 5, 7, 8, 7, 8, 5, 7, 6, 5, 10, 6, 6, 7, 6, 8, 7, 7, 5, 8, 8, 8, 6, 9, 9, 8, 7, 7, 5, 8, 6, 6, 7, 6, 6, 7, 6, 6, 7, 5, 7, 7, 7, 6, 5, 8, 7, 7, 9, 3, 7, 6, 6, 7, 7, 6, 5, 7, 8, 7, 6, 7, 9, 8, 6, 8, 7, 7, 7, 6, 7, 8, 8, 5, 7, 7, 8, 4, 7, 7, 7, 5, 7, 8, 5, 7, 7, 8, 6, 6, 6, 7, 5, 6, 7, 6, 6, 5, 8, 4, 5, 8, 6, 7, 7, 9, 9, 8, 8, 6, 5, 8, 7, 7, 7, 7, 7, 8, 8, 5, 8, 8, 6, 7, 8, 6, 3, 6, 9, 6, 4, 6, 7, 7, 9, 8, 7, 8, 8, 9, 9, 8, 7, 3, 3, 7, 8, 4, 7, 7, 7, 6, 7, 6, 7, 6, 7, 7, 7, 7, 4, 7, 6, 6, 8, 8, 7, 7, 9, 3, 6, 9, 7, 8, 8, 8, 8, 5, 5, 8, 7, 3, 6, 7, 4, 8, 6, 8, 7, 5, 7, 4, 8, 6, 8, 7, 6, 8, 5, 7, 6, 7, 6, 4, 7, 8, 7, 8, 6, 5, 7, 5, 4, 8, 8, 5, 7, 8, 6, 7, 5, 6, 7, 5, 6, 9, 4, 6, 8, 7, 6, 7, 8, 8, 8, 8, 4, 6, 8, 5, 6, 8, 6, 8, 8, 8, 8, 8, 6, 5, 7, 8, 8, 7, 7, 9, 8, 7, 3, 8, 8, 6, 7, 8, 7, 7, 6, 3, 7, 6, 7, 7, 7, 9, 5, 8, 6, 8, 6, 7, 7, 9, 8, 6, 7, 8, 7, 7, 7, 7, 6, 6, 6, 7, 6, 8, 6, 6, 9, 5, 8, 8, 7, 7, 7, 8, 7, 6, 7, 7, 5, 7, 6, 6, 5, 7, 7, 6, 6, 7, 8, 6, 6, 5, 7, 6, 7, 9, 5, 7, 7, 8, 3, 10, 6, 7, 9, 6, 7, 5, 7, 8, 6, 4, 6, 7, 6, 4, 7, 7, 7, 7, 8, 8, 7, 8, 7, 7, 6, 7, 7, 8, 8, 7, 8, 7, 9, 7, 6, 7, 6, 6, 7, 6, 8, 9, 3, 6, 7, 5, 9, 7, 7, 7, 3, 6, 7, 5, 4, 7, 8, 5, 7, 7, 9, 8, 7, 7, 7, 7, 9, 8, 5, 7, 8, 7, 9, 8, 5, 8, 8, 2, 6, 9, 5, 5, 6, 8, 6, 6, 7, 7, 7, 7, 8, 8, 7, 8, 4, 9, 7, 7, 8, 7, 8, 8, 9, 7, 5, 3, 7, 4, 6, 3, 5, 7, 8, 8, 6, 6, 8, 6, 8, 8, 5, 7, 7, 8, 8, 6, 3, 7, 4, 3, 6, 8, 7, 8, 7, 5, 8, 8, 8, 7, 7, 6, 7, 9, 7, 6, 9, 7, 6, 8, 7, 5, 7, 7, 8, 7, 2, 7, 7, 8, 7, 8, 7, 7, 4, 8, 4, 8, 7, 6, 6, 6, 9, 6, 7, 7, 7, 6, 8, 6, 6, 4, 7, 7, 7, 8, 7, 6, 7, 7, 6, 5, 7, 7, 7, 5, 6, 7, 9, 7, 8, 7, 7, 7, 8, 5, 7, 7, 8, 8, 7, 7, 6, 8, 7, 7, 7, 6, 8, 6, 6, 7, 8, 7, 8, 8, 7, 7, 8, 7, 8, 7, 8, 7, 7, 7, 7, 7, 7, 7, 7, 7, 4, 8, 9, 7, 7, 6, 7, 8, 6, 7, 7, 6, 7, 7, 7, 7, 8, 7, 8, 7, 9, 8, 7, 7, 7, 10, 6, 7, 7, 7, 5, 8, 7, 7, 9, 8, 7, 7, 8, 7, 7, 8, 8, 8, 7, 6, 8, 8, 7, 6, 8, 5, 5, 7, 7, 7, 7, 7, 8, 8, 8, 7, 7, 7, 5, 4, 7, 7, 8, 6, 9, 7, 7, 8, 2, 7, 9, 6, 7, 8, 7, 6, 7, 8, 5, 5, 9, 8, 7, 7, 4, 8, 8, 8, 7, 6, 7, 6, 8, 5, 7, 7, 7, 8, 8, 7, 7, 7, 7, 5, 7, 6, 8, 7, 6, 8, 8, 7, 6, 8, 7, 6, 6, 8, 7, 8, 7, 7, 7, 7, 7, 6, 7, 6, 6, 7, 7, 7, 6, 7, 8, 6, 8, 7, 7, 7, 6, 7, 9, 6, 8, 8, 8, 6, 7, 7, 6, 6, 6, 6, 8, 8, 8, 7, 5, 5, 8, 7, 8, 6, 8, 7, 8, 6, 5, 4, 8, 7, 6, 5, 7, 5, 9, 7, 8, 4, 8, 6, 7, 6, 6, 4, 7, 8, 7, 6, 6, 8, 9, 4, 7, 6, 5, 6, 7, 6, 6, 7, 7, 7, 9, 7, 6, 8, 7, 6, 6, 3, 7, 7, 8, 8, 6, 6, 8, 7, 6, 7, 5, 7, 8, 6, 8, 3, 8, 6, 7, 8, 8, 5, 8, 9, 4, 6, 7, 8, 6, 5], \"coloraxis\": \"coloraxis\", \"symbol\": \"circle\"}, \"mode\": \"markers\", \"name\": \"\", \"showlegend\": false, \"type\": \"scattergl\", \"x\": [1990, 2008, 2010, 1990, 1990, 1990, 1990, 1990, 1990, 2008, 1991, 1991, 1991, 2010, 1991, 1991, 2009, 1991, 1991, 1991, 1991, 1991, 1991, 1991, 2007, 1991, 1991, 1991, 1991, 2010, 1992, 1992, 1992, 2009, 1992, 1992, 2009, 2009, 1992, 1992, 1992, 2009, 1992, 1992, 1992, 1992, 2009, 1992, 1990, 1992, 1992, 1992, 2009, 1992, 2008, 1993, 1993, 2007, 1992, 2008, 2014, 1993, 1993, 1993, 1993, 1993, 1993, 1993, 1993, 1993, 1993, 1993, 1993, 2012, 1993, 1993, 1993, 2007, 1993, 1993, 1993, 1993, 1993, 1993, 1993, 2007, 1994, 1994, 1994, 1994, 1994, 1994, 1994, 2008, 1994, 1994, 1994, 1994, 1994, 1994, 1994, 1994, 1994, 1994, 1994, 1994, 1994, 1994, 1994, 1994, 1994, 2009, 2008, 2009, 1995, 1995, 1995, 1995, 1995, 1995, 1995, 1995, 1995, 2010, 1995, 1995, 2009, 1995, 1995, 2009, 1995, 1995, 1995, 1995, 1995, 1995, 1995, 1995, 1995, 1995, 1995, 1995, 1995, 1995, 1995, 2009, 2009, 1996, 1996, 1996, 1996, 1996, 1996, 1996, 1996, 1996, 1996, 1996, 1996, 1996, 1996, 1996, 1996, 2013, 1996, 1996, 1996, 2009, 1996, 2008, 1996, 1996, 2009, 1996, 2016, 1996, 2008, 1997, 1997, 1997, 1997, 1998, 1997, 1997, 1998, 1997, 1997, 1997, 1997, 1998, 2009, 1997, 2009, 1997, 1997, 1997, 1997, 1997, 1997, 1997, 1997, 1998, 1997, 1997, 1997, 2014, 1997, 1997, 2011, 1997, 1997, 1997, 1999, 1998, 2013, 2008, 1998, 1998, 1998, 2008, 1998, 1998, 1998, 1999, 1999, 1998, 2005, 1998, 1998, 1999, 1998, 2001, 1998, 1998, 2000, 1998, 1998, 1998, 1999, 1999, 1998, 1998, 1997, 1998, 1998, 2000, 2002, 1999, 2016, 2012, 2018, 2002, 2005, 2008, 1998, 2009, 2010, 2010, 2012, 2009, 1997, 2011, 2010, 2009, 2010, 2014, 1999, 2001, 1998, 2011, 1986, 2018, 2011, 2010, 2012, 1997, 2010, 2010, 1998, 1998, 2011, 1998, 1998, 2009, 2013, 2010, 2011, 2009, 2010, 2013, 1995, 1999, 2001, 2013, 1999, 2009, 1999, 2013, 2012, 2008, 2012, 2000, 2009, 2018, 1999, 2010, 2009, 2009, 2010, 2016, 1998, 2017, 2012, 2015, 2017, 2012, 2015, 2009, 2012, 2013, 2011, 2011, 2000, 2009, 1999, 2013, 2016, 1999, 2000, 1999, 2000, 2011, 2002, 1998, 1999, 2013, 2001, 2009, 2018, 2009, 2017, 2009, 2019, 2014, 1999, 2011, 2010, 1999, 2011, 2018, 2015, 1998, 2013, 2011, 2016, 2010, 2012, 2011, 2000, 1999, 2001, 2015, 2012, 2000, 2012, 2000, 2010, 2010, 2000, 2011, 2014, 1999, 1999, 2012, 2012, 2000, 2011, 2011, 2002, 2012, 2012, 1999, 2015, 2013, 1999, 2013, 2003, 2002, 1999, 2011, 2018, 2011, 1999, 2000, 1999, 1927, 2003, 2013, 2000, 2011, 2018, 2000, 2012, 2000, 1999, 2000, 2011, 2011, 2013, 2000, 2011, 2003, 2015, 2018, 2000, 2002, 2000, 2012, 2014, 2000, 2012, 2012, 2017, 1999, 2008, 2012, 2000, 2014, 2001, 2015, 2000, 1999, 1998, 2014, 2012, 2000, 2013, 2013, 2014, 2015, 2000, 2013, 2013, 2001, 2000, 2013, 2016, 2014, 2013, 2001, 2000, 2000, 2000, 2014, 2000, 2015, 2014, 2012, 2000, 2000, 2013, 2016, 2015, 2012, 2001, 2000, 2000, 2014, 2012, 2014, 2012, 2017, 2001, 2014, 2017, 2014, 2013, 2014, 2001, 2014, 2001, 2014, 2013, 2003, 2014, 2015, 2017, 2014, 2000, 2002, 2013, 2012, 2018, 2000, 2015, 2012, 2001, 2017, 2001, 2000, 2001, 2000, 2001, 2001, 2003, 2001, 2001, 2001, 2001, 2015, 2002, 2001, 2001, 2017, 2001, 2002, 2014, 2002, 2002, 2016, 2018, 2015, 2014, 2001, 2012, 2002, 2016, 2014, 2002, 2002, 2001, 2001, 2002, 2001, 2001, 2003, 2003, 2016, 2002, 2001, 2002, 2001, 2018, 2015, 2001, 2013, 2003, 2017, 2002, 2001, 1998, 2014, 2001, 2014, 2014, 2002, 2002, 2002, 2001, 2003, 2001, 2014, 2004, 2003, 2014, 2003, 2002, 2001, 2016, 2002, 2002, 2002, 2003, 1937, 2004, 2014, 2002, 2004, 2002, 2002, 2003, 2003, 2004, 2003, 2013, 2004, 2003, 2001, 2002, 2003, 2003, 2002, 2003, 2004, 2015, 2003, 2004, 2003, 2016, 2004, 2003, 2004, 2002, 2003, 2003, 2014, 2017, 2003, 2003, 2006, 2004, 2003, 2003, 2003, 2002, 2005, 2015, 2017, 2004, 2003, 2003, 2003, 2004, 2004, 2002, 2003, 2016, 2017, 2002, 2014, 2002, 2004, 2017, 1942, 2015, 2016, 2015, 2015, 2016, 2014, 2017, 2005, 2002, 2005, 2004, 2017, 2016, 2004, 2004, 2005, 2004, 2004, 2015, 2003, 2013, 2018, 2009, 2006, 2005, 2005, 2004, 2006, 2015, 2004, 2005, 2003, 2005, 2004, 2004, 2005, 2005, 2008, 2017, 2004, 2014, 2005, 2004, 2007, 2016, 2014, 2016, 2004, 2017, 2005, 2014, 2006, 2018, 2004, 2016, 2015, 2016, 2006, 2004, 2014, 2006, 2005, 2004, 2003, 2004, 2006, 2005, 2017, 2018, 2017, 2004, 2008, 2006, 2017, 2005, 2005, 2005, 2007, 2016, 2016, 2005, 2004, 2006, 2009, 2017, 2018, 2014, 2005, 2007, 2007, 2007, 2006, 2019, 2019, 2006, 2015, 2009, 2004, 2008, 2017, 2006, 2008, 2004, 2006, 2010, 2016, 2006, 2005, 2007, 2007, 2004, 2015, 2005, 2005, 2010, 2005, 2006, 2004, 2004, 2007, 2015, 2006, 2005, 2007, 2010, 2008, 2006, 2007, 2007, 2017, 1952, 2012, 2006, 2017, 2005, 2006, 2006, 2006, 2011, 2006, 2014, 2009, 2018, 2006, 2007, 2006, 2018, 2006, 2017, 2007, 2007, 2009, 2008, 2008, 2014, 2009, 2006, 2005, 2005, 2007, 2015, 2006, 2016, 2007, 2006, 2008, 2006, 2006, 1955, 2005, 2016, 2009, 1955, 2015, 2016, 2017, 2008, 2006, 2016, 1957, 2017, 2017, 2017, 2018, 2018, 2017, 1959, 1959, 2016, 1960, 2018, 2017, 2017, 2017, 1962, 1962, 1962, 2017, 2016, 1963, 2017, 2017, 1965, 1964, 1964, 1964, 1964, 1964, 1965, 2016, 1965, 1965, 1965, 1966, 1967, 1965, 1966, 1967, 2017, 1966, 1967, 2018, 1967, 2016, 1967, 1968, 2018, 1968, 2017, 1968, 2017, 1969, 2018, 1969, 1969, 1969, 2018, 1970, 1970, 1970, 1971, 2018, 1971, 1971, 1971, 1971, 1971, 1971, 1972, 2018, 2018, 2018, 1973, 2018, 1973, 2018, 2017, 1974, 1975, 1974, 1974, 1975, 1976, 1975, 1975, 2018, 1975, 1976, 1976, 1976, 1976, 1977, 2007, 1977, 1976, 2007, 2009, 1977, 1977, 1977, 2011, 2013, 1978, 2018, 1978, 1977, 2017, 2011, 2008, 2008, 1978, 1979, 2015, 1979, 1980, 1979, 1979, 1980, 1979, 1979, 2013, 1979, 1979, 2008, 2011, 1978, 1980, 1978, 2007, 1980, 1980, 2006, 2007, 1980, 1980, 2014, 2013, 1981, 1982, 2007, 1981, 1981, 2007, 1981, 2008, 1981, 1981, 2018, 1982, 1982, 2018, 1982, 2009, 1982, 1981, 1982, 1982, 2010, 2007, 1982, 1982, 1982, 2012, 1982, 1983, 1983, 1983, 1983, 1983, 1983, 1983, 1983, 1984, 2009, 1984, 1984, 1984, 1984, 1984, 2007, 2010, 1984, 1984, 1984, 1984, 1984, 1984, 1984, 2015, 2019, 1985, 1985, 1985, 2009, 1985, 1985, 1985, 1985, 1985, 2007, 1985, 1985, 1985, 1985, 2012, 1986, 1986, 1986, 1986, 2008, 1986, 1986, 1986, 2008, 1986, 1986, 1986, 1986, 1986, 2010, 1987, 1987, 1987, 1987, 1987, 1987, 1987, 1987, 1987, 2008, 1987, 1987, 1987, 1987, 2008, 1988, 1988, 2010, 1988, 1988, 2018, 1988, 1988, 1988, 1988, 1988, 1988, 1988, 1988, 2008, 1988, 1958, 1989, 1989, 1989, 1989, 1989, 1989, 1989, 2009, 2007, 1989, 2012, 1989, 2008, 2009, 1989, 1988, 1989, 1989, 1989, 1989, 1989, 2010, 2009, 2009, 1990, 1990, 1989, 2013, 1990, 1990, 1990, 1990, 1990, 1990, 1990, 1990, 1990, 1990, 1990], \"xaxis\": \"x\", \"y\": [1, 1, 1, 2, 3, 4, 5, 6, 7, 2, 1, 2, 3, 2, 4, 5, 1, 6, 7, 8, 9, 10, 11, 12, 1, 13, 14, 15, 16, 3, 1, 2, 3, 2, 4, 5, 3, 4, 6, 7, 8, 5, 9, 10, 11, 12, 6, 13, 8, 14, 15, 16, 7, 17, 3, 1, 2, 2, 18, 4, 1, 3, 4, 5, 6, 7, 8, 9, 10, 11, 12, 13, 14, 1, 15, 16, 17, 3, 18, 19, 20, 21, 22, 23, 24, 4, 1, 2, 3, 4, 5, 6, 7, 5, 8, 9, 10, 11, 12, 13, 14, 15, 16, 17, 18, 19, 20, 21, 22, 23, 24, 8, 6, 9, 1, 2, 3, 4, 5, 6, 7, 8, 9, 4, 10, 11, 10, 12, 13, 11, 14, 15, 16, 17, 18, 19, 20, 21, 22, 23, 24, 25, 26, 27, 28, 12, 13, 1, 2, 3, 4, 5, 6, 7, 8, 9, 10, 11, 12, 13, 14, 15, 16, 1, 17, 18, 19, 14, 20, 7, 21, 22, 15, 23, 1, 24, 8, 1, 2, 3, 4, 1, 5, 6, 2, 7, 8, 9, 10, 3, 16, 11, 17, 12, 13, 14, 15, 16, 17, 18, 19, 4, 20, 21, 22, 2, 23, 24, 1, 25, 26, 27, 1, 5, 2, 9, 6, 7, 8, 10, 9, 10, 11, 2, 3, 12, 1, 13, 14, 4, 15, 1, 16, 17, 1, 18, 19, 20, 5, 6, 21, 22, 28, 23, 24, 2, 1, 7, 2, 2, 1, 2, 2, 11, 25, 18, 5, 6, 3, 19, 29, 2, 7, 20, 8, 3, 8, 2, 26, 3, 1, 2, 4, 9, 4, 30, 10, 11, 27, 28, 5, 29, 30, 21, 3, 12, 6, 22, 13, 4, 29, 9, 3, 5, 10, 23, 11, 6, 5, 12, 6, 3, 24, 3, 12, 14, 25, 26, 15, 3, 31, 1, 7, 1, 2, 8, 2, 27, 9, 7, 7, 8, 4, 28, 13, 8, 4, 14, 5, 15, 6, 9, 3, 32, 16, 9, 4, 29, 4, 30, 3, 31, 1, 4, 17, 10, 16, 18, 11, 5, 3, 33, 10, 12, 5, 17, 10, 13, 7, 19, 5, 4, 11, 8, 12, 9, 18, 19, 10, 14, 5, 20, 21, 13, 14, 11, 15, 16, 4, 15, 16, 22, 5, 11, 23, 12, 1, 5, 24, 17, 6, 18, 25, 12, 26, 1, 2, 13, 13, 19, 7, 14, 17, 15, 27, 16, 20, 21, 14, 17, 22, 3, 6, 8, 18, 6, 19, 18, 6, 20, 19, 20, 4, 28, 13, 21, 21, 7, 6, 7, 22, 29, 34, 8, 22, 23, 15, 16, 9, 8, 24, 17, 18, 7, 25, 19, 6, 10, 20, 8, 26, 27, 28, 11, 29, 9, 12, 23, 30, 31, 21, 7, 10, 24, 9, 32, 33, 13, 25, 14, 26, 5, 10, 15, 6, 16, 22, 17, 11, 18, 12, 19, 23, 4, 20, 11, 7, 21, 34, 7, 24, 27, 9, 35, 12, 28, 13, 8, 14, 36, 15, 37, 16, 17, 5, 18, 19, 20, 21, 13, 8, 22, 23, 9, 24, 9, 22, 10, 11, 8, 10, 14, 23, 25, 29, 12, 9, 24, 13, 14, 26, 27, 15, 28, 29, 6, 7, 10, 16, 30, 17, 31, 11, 15, 32, 25, 8, 10, 18, 33, 35, 25, 34, 26, 27, 19, 20, 21, 35, 9, 36, 28, 1, 10, 29, 11, 22, 37, 11, 23, 24, 25, 12, 1, 2, 30, 26, 3, 27, 28, 13, 14, 4, 15, 26, 5, 16, 38, 29, 17, 18, 30, 19, 6, 16, 20, 7, 21, 12, 8, 22, 9, 31, 23, 24, 31, 11, 25, 26, 1, 10, 27, 28, 29, 32, 3, 17, 12, 11, 30, 31, 32, 12, 13, 33, 33, 13, 13, 34, 32, 35, 14, 14, 1, 18, 14, 19, 20, 15, 33, 15, 4, 36, 5, 15, 16, 16, 16, 17, 6, 18, 19, 21, 34, 27, 12, 32, 2, 7, 8, 20, 3, 22, 21, 9, 35, 10, 22, 23, 11, 12, 14, 17, 24, 34, 13, 25, 5, 17, 35, 18, 26, 18, 14, 36, 4, 13, 27, 19, 23, 20, 5, 28, 37, 6, 15, 29, 36, 30, 7, 16, 19, 14, 20, 31, 15, 8, 21, 17, 18, 19, 6, 21, 22, 20, 32, 9, 33, 22, 15, 38, 21, 7, 8, 9, 10, 2, 3, 11, 24, 34, 33, 16, 23, 12, 17, 34, 13, 20, 23, 14, 22, 10, 11, 35, 25, 23, 24, 21, 25, 15, 36, 37, 12, 26, 16, 26, 13, 22, 18, 17, 14, 15, 24, 1, 30, 18, 25, 27, 19, 20, 21, 23, 22, 39, 35, 16, 23, 16, 24, 17, 25, 26, 17, 18, 36, 19, 20, 40, 37, 26, 28, 29, 19, 27, 27, 24, 20, 28, 21, 29, 30, 1, 30, 25, 38, 2, 28, 26, 27, 22, 31, 27, 1, 28, 29, 30, 18, 19, 31, 1, 2, 28, 1, 20, 32, 33, 34, 1, 2, 3, 35, 29, 1, 36, 37, 1, 1, 2, 3, 4, 5, 2, 30, 3, 4, 5, 1, 1, 6, 2, 2, 38, 3, 3, 21, 4, 31, 5, 1, 22, 2, 39, 3, 40, 1, 23, 2, 3, 4, 24, 1, 2, 3, 1, 25, 2, 3, 4, 5, 6, 7, 1, 26, 27, 28, 1, 29, 2, 30, 41, 1, 1, 2, 3, 2, 1, 3, 4, 31, 5, 2, 3, 4, 5, 1, 21, 2, 6, 22, 39, 3, 4, 5, 24, 28, 1, 32, 2, 6, 42, 25, 23, 24, 3, 1, 29, 2, 1, 3, 4, 2, 5, 6, 29, 7, 8, 25, 26, 4, 3, 5, 23, 4, 5, 32, 24, 6, 7, 41, 30, 1, 1, 25, 2, 3, 26, 4, 26, 5, 6, 33, 2, 3, 34, 4, 40, 5, 7, 6, 7, 23, 27, 8, 9, 10, 31, 11, 1, 2, 3, 4, 5, 6, 7, 8, 1, 41, 2, 3, 4, 5, 6, 28, 24, 7, 8, 9, 10, 11, 12, 13, 30, 4, 1, 2, 3, 42, 4, 5, 6, 7, 8, 29, 9, 10, 11, 12, 32, 2, 3, 4, 5, 27, 6, 7, 8, 28, 9, 10, 11, 12, 13, 25, 1, 2, 3, 4, 5, 6, 7, 8, 9, 29, 10, 11, 12, 13, 30, 1, 2, 26, 3, 4, 35, 5, 6, 7, 8, 9, 10, 11, 12, 31, 13, 1, 1, 2, 3, 4, 5, 6, 7, 43, 30, 8, 33, 9, 32, 44, 10, 14, 11, 12, 13, 14, 15, 27, 45, 46, 9, 10, 16, 31, 11, 12, 13, 14, 15, 16, 17, 18, 19, 20, 21], \"yaxis\": \"y\"}],\n",
              "                        {\"coloraxis\": {\"colorbar\": {\"title\": {\"text\": \"Rating\"}}, \"colorscale\": [[0.0, \"#0d0887\"], [0.1111111111111111, \"#46039f\"], [0.2222222222222222, \"#7201a8\"], [0.3333333333333333, \"#9c179e\"], [0.4444444444444444, \"#bd3786\"], [0.5555555555555556, \"#d8576b\"], [0.6666666666666666, \"#ed7953\"], [0.7777777777777778, \"#fb9f3a\"], [0.8888888888888888, \"#fdca26\"], [1.0, \"#f0f921\"]]}, \"height\": 600, \"hovermode\": \"closest\", \"legend\": {\"font\": {\"size\": 10}, \"tracegroupgap\": 0, \"xanchor\": \"right\", \"yanchor\": \"middle\"}, \"margin\": {\"b\": 50, \"l\": 140, \"r\": 40, \"t\": 80}, \"paper_bgcolor\": \"white\", \"plot_bgcolor\": \"white\", \"template\": {\"data\": {\"bar\": [{\"error_x\": {\"color\": \"#2a3f5f\"}, \"error_y\": {\"color\": \"#2a3f5f\"}, \"marker\": {\"line\": {\"color\": \"#E5ECF6\", \"width\": 0.5}}, \"type\": \"bar\"}], \"barpolar\": [{\"marker\": {\"line\": {\"color\": \"#E5ECF6\", \"width\": 0.5}}, \"type\": \"barpolar\"}], \"carpet\": [{\"aaxis\": {\"endlinecolor\": \"#2a3f5f\", \"gridcolor\": \"white\", \"linecolor\": \"white\", \"minorgridcolor\": \"white\", \"startlinecolor\": \"#2a3f5f\"}, \"baxis\": {\"endlinecolor\": \"#2a3f5f\", \"gridcolor\": \"white\", \"linecolor\": \"white\", \"minorgridcolor\": \"white\", \"startlinecolor\": \"#2a3f5f\"}, \"type\": \"carpet\"}], \"choropleth\": [{\"colorbar\": {\"outlinewidth\": 0, \"ticks\": \"\"}, \"type\": \"choropleth\"}], \"contour\": [{\"colorbar\": {\"outlinewidth\": 0, \"ticks\": \"\"}, \"colorscale\": [[0.0, \"#0d0887\"], [0.1111111111111111, \"#46039f\"], [0.2222222222222222, \"#7201a8\"], [0.3333333333333333, \"#9c179e\"], [0.4444444444444444, \"#bd3786\"], [0.5555555555555556, \"#d8576b\"], [0.6666666666666666, \"#ed7953\"], [0.7777777777777778, \"#fb9f3a\"], [0.8888888888888888, \"#fdca26\"], [1.0, \"#f0f921\"]], \"type\": \"contour\"}], \"contourcarpet\": [{\"colorbar\": {\"outlinewidth\": 0, \"ticks\": \"\"}, \"type\": \"contourcarpet\"}], \"heatmap\": [{\"colorbar\": {\"outlinewidth\": 0, \"ticks\": \"\"}, \"colorscale\": [[0.0, \"#0d0887\"], [0.1111111111111111, \"#46039f\"], [0.2222222222222222, \"#7201a8\"], [0.3333333333333333, \"#9c179e\"], [0.4444444444444444, \"#bd3786\"], [0.5555555555555556, \"#d8576b\"], [0.6666666666666666, \"#ed7953\"], [0.7777777777777778, \"#fb9f3a\"], [0.8888888888888888, \"#fdca26\"], [1.0, \"#f0f921\"]], \"type\": \"heatmap\"}], \"heatmapgl\": [{\"colorbar\": {\"outlinewidth\": 0, \"ticks\": \"\"}, \"colorscale\": [[0.0, \"#0d0887\"], [0.1111111111111111, \"#46039f\"], [0.2222222222222222, \"#7201a8\"], [0.3333333333333333, \"#9c179e\"], [0.4444444444444444, \"#bd3786\"], [0.5555555555555556, \"#d8576b\"], [0.6666666666666666, \"#ed7953\"], [0.7777777777777778, \"#fb9f3a\"], [0.8888888888888888, \"#fdca26\"], [1.0, \"#f0f921\"]], \"type\": \"heatmapgl\"}], \"histogram\": [{\"marker\": {\"colorbar\": {\"outlinewidth\": 0, \"ticks\": \"\"}}, \"type\": \"histogram\"}], \"histogram2d\": [{\"colorbar\": {\"outlinewidth\": 0, \"ticks\": \"\"}, \"colorscale\": [[0.0, \"#0d0887\"], [0.1111111111111111, \"#46039f\"], [0.2222222222222222, \"#7201a8\"], [0.3333333333333333, \"#9c179e\"], [0.4444444444444444, \"#bd3786\"], [0.5555555555555556, \"#d8576b\"], [0.6666666666666666, \"#ed7953\"], [0.7777777777777778, \"#fb9f3a\"], [0.8888888888888888, \"#fdca26\"], [1.0, \"#f0f921\"]], \"type\": \"histogram2d\"}], \"histogram2dcontour\": [{\"colorbar\": {\"outlinewidth\": 0, \"ticks\": \"\"}, \"colorscale\": [[0.0, \"#0d0887\"], [0.1111111111111111, \"#46039f\"], [0.2222222222222222, \"#7201a8\"], [0.3333333333333333, \"#9c179e\"], [0.4444444444444444, \"#bd3786\"], [0.5555555555555556, \"#d8576b\"], [0.6666666666666666, \"#ed7953\"], [0.7777777777777778, \"#fb9f3a\"], [0.8888888888888888, \"#fdca26\"], [1.0, \"#f0f921\"]], \"type\": \"histogram2dcontour\"}], \"mesh3d\": [{\"colorbar\": {\"outlinewidth\": 0, \"ticks\": \"\"}, \"type\": \"mesh3d\"}], \"parcoords\": [{\"line\": {\"colorbar\": {\"outlinewidth\": 0, \"ticks\": \"\"}}, \"type\": \"parcoords\"}], \"pie\": [{\"automargin\": true, \"type\": \"pie\"}], \"scatter\": [{\"marker\": {\"colorbar\": {\"outlinewidth\": 0, \"ticks\": \"\"}}, \"type\": \"scatter\"}], \"scatter3d\": [{\"line\": {\"colorbar\": {\"outlinewidth\": 0, \"ticks\": \"\"}}, \"marker\": {\"colorbar\": {\"outlinewidth\": 0, \"ticks\": \"\"}}, \"type\": \"scatter3d\"}], \"scattercarpet\": [{\"marker\": {\"colorbar\": {\"outlinewidth\": 0, \"ticks\": \"\"}}, \"type\": \"scattercarpet\"}], \"scattergeo\": [{\"marker\": {\"colorbar\": {\"outlinewidth\": 0, \"ticks\": \"\"}}, \"type\": \"scattergeo\"}], \"scattergl\": [{\"marker\": {\"colorbar\": {\"outlinewidth\": 0, \"ticks\": \"\"}}, \"type\": \"scattergl\"}], \"scattermapbox\": [{\"marker\": {\"colorbar\": {\"outlinewidth\": 0, \"ticks\": \"\"}}, \"type\": \"scattermapbox\"}], \"scatterpolar\": [{\"marker\": {\"colorbar\": {\"outlinewidth\": 0, \"ticks\": \"\"}}, \"type\": \"scatterpolar\"}], \"scatterpolargl\": [{\"marker\": {\"colorbar\": {\"outlinewidth\": 0, \"ticks\": \"\"}}, \"type\": \"scatterpolargl\"}], \"scatterternary\": [{\"marker\": {\"colorbar\": {\"outlinewidth\": 0, \"ticks\": \"\"}}, \"type\": \"scatterternary\"}], \"surface\": [{\"colorbar\": {\"outlinewidth\": 0, \"ticks\": \"\"}, \"colorscale\": [[0.0, \"#0d0887\"], [0.1111111111111111, \"#46039f\"], [0.2222222222222222, \"#7201a8\"], [0.3333333333333333, \"#9c179e\"], [0.4444444444444444, \"#bd3786\"], [0.5555555555555556, \"#d8576b\"], [0.6666666666666666, \"#ed7953\"], [0.7777777777777778, \"#fb9f3a\"], [0.8888888888888888, \"#fdca26\"], [1.0, \"#f0f921\"]], \"type\": \"surface\"}], \"table\": [{\"cells\": {\"fill\": {\"color\": \"#EBF0F8\"}, \"line\": {\"color\": \"white\"}}, \"header\": {\"fill\": {\"color\": \"#C8D4E3\"}, \"line\": {\"color\": \"white\"}}, \"type\": \"table\"}]}, \"layout\": {\"annotationdefaults\": {\"arrowcolor\": \"#2a3f5f\", \"arrowhead\": 0, \"arrowwidth\": 1}, \"coloraxis\": {\"colorbar\": {\"outlinewidth\": 0, \"ticks\": \"\"}}, \"colorscale\": {\"diverging\": [[0, \"#8e0152\"], [0.1, \"#c51b7d\"], [0.2, \"#de77ae\"], [0.3, \"#f1b6da\"], [0.4, \"#fde0ef\"], [0.5, \"#f7f7f7\"], [0.6, \"#e6f5d0\"], [0.7, \"#b8e186\"], [0.8, \"#7fbc41\"], [0.9, \"#4d9221\"], [1, \"#276419\"]], \"sequential\": [[0.0, \"#0d0887\"], [0.1111111111111111, \"#46039f\"], [0.2222222222222222, \"#7201a8\"], [0.3333333333333333, \"#9c179e\"], [0.4444444444444444, \"#bd3786\"], [0.5555555555555556, \"#d8576b\"], [0.6666666666666666, \"#ed7953\"], [0.7777777777777778, \"#fb9f3a\"], [0.8888888888888888, \"#fdca26\"], [1.0, \"#f0f921\"]], \"sequentialminus\": [[0.0, \"#0d0887\"], [0.1111111111111111, \"#46039f\"], [0.2222222222222222, \"#7201a8\"], [0.3333333333333333, \"#9c179e\"], [0.4444444444444444, \"#bd3786\"], [0.5555555555555556, \"#d8576b\"], [0.6666666666666666, \"#ed7953\"], [0.7777777777777778, \"#fb9f3a\"], [0.8888888888888888, \"#fdca26\"], [1.0, \"#f0f921\"]]}, \"colorway\": [\"#636efa\", \"#EF553B\", \"#00cc96\", \"#ab63fa\", \"#FFA15A\", \"#19d3f3\", \"#FF6692\", \"#B6E880\", \"#FF97FF\", \"#FECB52\"], \"font\": {\"color\": \"#2a3f5f\"}, \"geo\": {\"bgcolor\": \"white\", \"lakecolor\": \"white\", \"landcolor\": \"#E5ECF6\", \"showlakes\": true, \"showland\": true, \"subunitcolor\": \"white\"}, \"hoverlabel\": {\"align\": \"left\"}, \"hovermode\": \"closest\", \"mapbox\": {\"style\": \"light\"}, \"paper_bgcolor\": \"white\", \"plot_bgcolor\": \"#E5ECF6\", \"polar\": {\"angularaxis\": {\"gridcolor\": \"white\", \"linecolor\": \"white\", \"ticks\": \"\"}, \"bgcolor\": \"#E5ECF6\", \"radialaxis\": {\"gridcolor\": \"white\", \"linecolor\": \"white\", \"ticks\": \"\"}}, \"scene\": {\"xaxis\": {\"backgroundcolor\": \"#E5ECF6\", \"gridcolor\": \"white\", \"gridwidth\": 2, \"linecolor\": \"white\", \"showbackground\": true, \"ticks\": \"\", \"zerolinecolor\": \"white\"}, \"yaxis\": {\"backgroundcolor\": \"#E5ECF6\", \"gridcolor\": \"white\", \"gridwidth\": 2, \"linecolor\": \"white\", \"showbackground\": true, \"ticks\": \"\", \"zerolinecolor\": \"white\"}, \"zaxis\": {\"backgroundcolor\": \"#E5ECF6\", \"gridcolor\": \"white\", \"gridwidth\": 2, \"linecolor\": \"white\", \"showbackground\": true, \"ticks\": \"\", \"zerolinecolor\": \"white\"}}, \"shapedefaults\": {\"line\": {\"color\": \"#2a3f5f\"}}, \"ternary\": {\"aaxis\": {\"gridcolor\": \"white\", \"linecolor\": \"white\", \"ticks\": \"\"}, \"baxis\": {\"gridcolor\": \"white\", \"linecolor\": \"white\", \"ticks\": \"\"}, \"bgcolor\": \"#E5ECF6\", \"caxis\": {\"gridcolor\": \"white\", \"linecolor\": \"white\", \"ticks\": \"\"}}, \"title\": {\"x\": 0.05}, \"xaxis\": {\"automargin\": true, \"gridcolor\": \"white\", \"linecolor\": \"white\", \"ticks\": \"\", \"title\": {\"standoff\": 15}, \"zerolinecolor\": \"white\", \"zerolinewidth\": 2}, \"yaxis\": {\"automargin\": true, \"gridcolor\": \"white\", \"linecolor\": \"white\", \"ticks\": \"\", \"title\": {\"standoff\": 15}, \"zerolinecolor\": \"white\", \"zerolinewidth\": 2}}}, \"title\": {\"text\": \"Peliculas por rating y a\\u00f1o\"}, \"width\": 800, \"xaxis\": {\"anchor\": \"y\", \"domain\": [0.0, 1.0], \"dtick\": 10, \"linecolor\": \"rgb(102, 102, 102)\", \"showgrid\": false, \"showline\": true, \"showticklabels\": true, \"tickcolor\": \"rgb(102, 102, 102)\", \"tickfont\": {\"color\": \"rgb(102, 102, 102)\"}, \"ticks\": \"outside\", \"title\": {\"text\": \"A\\u00f1o\"}}, \"yaxis\": {\"anchor\": \"x\", \"domain\": [0.0, 1.0], \"title\": {\"text\": \"Conteo\"}}},\n",
              "                        {\"responsive\": true}\n",
              "                    ).then(function(){\n",
              "                            \n",
              "var gd = document.getElementById('d0f7e0f4-e979-4b77-8841-7d51f01756b5');\n",
              "var x = new MutationObserver(function (mutations, observer) {{\n",
              "        var display = window.getComputedStyle(gd).display;\n",
              "        if (!display || display === 'none') {{\n",
              "            console.log([gd, 'removed!']);\n",
              "            Plotly.purge(gd);\n",
              "            observer.disconnect();\n",
              "        }}\n",
              "}});\n",
              "\n",
              "// Listen for the removal of the full notebook cells\n",
              "var notebookContainer = gd.closest('#notebook-container');\n",
              "if (notebookContainer) {{\n",
              "    x.observe(notebookContainer, {childList: true});\n",
              "}}\n",
              "\n",
              "// Listen for the clearing of the current output cell\n",
              "var outputEl = gd.closest('.output');\n",
              "if (outputEl) {{\n",
              "    x.observe(outputEl, {childList: true});\n",
              "}}\n",
              "\n",
              "                        })\n",
              "                };\n",
              "                \n",
              "            </script>\n",
              "        </div>\n",
              "</body>\n",
              "</html>"
            ]
          },
          "metadata": {}
        }
      ]
    },
    {
      "cell_type": "markdown",
      "metadata": {
        "id": "wU8-ZeZV0mnx"
      },
      "source": [
        "# Diagrama de tallos y hojas\n",
        "---\n",
        "Dado un conjunto de datos formado por n observaciones, las cuales pueden ser representadas mediante  x1,x2,…,xn  y donde cada  xi,(i=1,…,n)  tiene por lo menos dos dígitos. Una forma rápida de obtener una representación visual del conjunto de datos es construir un diagrama de tallos y hojas. Este diagrama es usado cuando hay un número no muy pequeño de datos. Los siguientes son los pasos para construir un diagrama de tallos y hojas:\n",
        "\n",
        "1. Seleccionar uno o más dígitos iniciales para los valores de tallo. El dígito(s) final(es) se convierte (n) en hojas. Para facilitar la determinación de la forma de la distribución de los datos se necesitan al menos 5 tallos.\n",
        "2. Hacer una lista de valores de tallo en una columna vertical.\n",
        "3. Registrar las hojas por cada observación junto al valor correspondiente del tallo.\n",
        "4. Indicar las unidades para tallos y hojas en algún lugar del diagrama.\n",
        "\n",
        "\n",
        "Los diagramas de tallos y hojas nos dan una idea de la localización de los datos y de la forma de la distribución. Esta técnica funciona bien para los conjuntos de datos que no tienen una dispersión muy grande.\n"
      ]
    },
    {
      "cell_type": "code",
      "metadata": {
        "colab": {
          "base_uri": "https://localhost:8080/"
        },
        "id": "OOI77vHc05sl",
        "outputId": "36e1ef71-b6f5-44d9-fe99-30164791db99"
      },
      "source": [
        "pip install stemgraphic"
      ],
      "execution_count": null,
      "outputs": [
        {
          "output_type": "stream",
          "name": "stdout",
          "text": [
            "Collecting stemgraphic\n",
            "  Downloading stemgraphic-0.9.1-py3-none-any.whl (61 kB)\n",
            "\u001b[?25l\r\u001b[K     |█████▎                          | 10 kB 22.3 MB/s eta 0:00:01\r\u001b[K     |██████████▋                     | 20 kB 12.9 MB/s eta 0:00:01\r\u001b[K     |███████████████▉                | 30 kB 9.7 MB/s eta 0:00:01\r\u001b[K     |█████████████████████▏          | 40 kB 8.6 MB/s eta 0:00:01\r\u001b[K     |██████████████████████████▌     | 51 kB 4.3 MB/s eta 0:00:01\r\u001b[K     |███████████████████████████████▊| 61 kB 4.2 MB/s eta 0:00:01\r\u001b[K     |████████████████████████████████| 61 kB 425 kB/s \n",
            "\u001b[?25hRequirement already satisfied: docopt in /usr/local/lib/python3.7/dist-packages (from stemgraphic) (0.6.2)\n",
            "Requirement already satisfied: pandas in /usr/local/lib/python3.7/dist-packages (from stemgraphic) (1.1.5)\n",
            "Requirement already satisfied: seaborn in /usr/local/lib/python3.7/dist-packages (from stemgraphic) (0.11.1)\n",
            "Requirement already satisfied: matplotlib in /usr/local/lib/python3.7/dist-packages (from stemgraphic) (3.2.2)\n",
            "Requirement already satisfied: cycler>=0.10 in /usr/local/lib/python3.7/dist-packages (from matplotlib->stemgraphic) (0.10.0)\n",
            "Requirement already satisfied: numpy>=1.11 in /usr/local/lib/python3.7/dist-packages (from matplotlib->stemgraphic) (1.19.5)\n",
            "Requirement already satisfied: kiwisolver>=1.0.1 in /usr/local/lib/python3.7/dist-packages (from matplotlib->stemgraphic) (1.3.1)\n",
            "Requirement already satisfied: pyparsing!=2.0.4,!=2.1.2,!=2.1.6,>=2.0.1 in /usr/local/lib/python3.7/dist-packages (from matplotlib->stemgraphic) (2.4.7)\n",
            "Requirement already satisfied: python-dateutil>=2.1 in /usr/local/lib/python3.7/dist-packages (from matplotlib->stemgraphic) (2.8.2)\n",
            "Requirement already satisfied: six in /usr/local/lib/python3.7/dist-packages (from cycler>=0.10->matplotlib->stemgraphic) (1.15.0)\n",
            "Requirement already satisfied: pytz>=2017.2 in /usr/local/lib/python3.7/dist-packages (from pandas->stemgraphic) (2018.9)\n",
            "Requirement already satisfied: scipy>=1.0 in /usr/local/lib/python3.7/dist-packages (from seaborn->stemgraphic) (1.4.1)\n",
            "Installing collected packages: stemgraphic\n",
            "Successfully installed stemgraphic-0.9.1\n"
          ]
        }
      ]
    },
    {
      "cell_type": "code",
      "metadata": {
        "colab": {
          "base_uri": "https://localhost:8080/",
          "height": 199
        },
        "id": "_XJ0NZKh1A8r",
        "outputId": "c3a8fcec-5637-4b17-8595-dfb804a15b81"
      },
      "source": [
        "x = [32, 34, 35, 41, 44, 46, 47, 52, 52, 53,54,55,55, 56, 61, 62]\n",
        "import stemgraphic\n",
        "fig, ax = stemgraphic.stem_graphic(x)"
      ],
      "execution_count": null,
      "outputs": [
        {
          "output_type": "display_data",
          "data": {
            "image/png": "[encoded data removed]",
            "text/plain": [
              "<Figure size 540x180 with 1 Axes>"
            ]
          },
          "metadata": {
            "needs_background": "light"
          }
        }
      ]
    },
    {
      "cell_type": "markdown",
      "metadata": {
        "id": "IXxFmPgn1IXs"
      },
      "source": [
        "# Histograma\n",
        "--- \n",
        "El histograma es una técnica gráfica utilizada para presentar gran cantidad de datos. Se le atribuye a Karl Pearson en 1895. El histograma puede ser: de frecuencias absolutas, de frecuencias relativas, de frecuencias absolutas acumuladas y de frecuencias relativas acumuladas. Para la construcción del histograma se requiere elaborar una tabla de distribución de frecuencias, lo cual se desarrollará a continuación.\n",
        "\n",
        "El gráfico de la distribución de frecuencias, se llama histograma. El histograma de frecuencias es una representación visual de los datos en donde se evidencian fundamentalmente tres características: forma, acumulación o tendencia posicional y dispersión o variabilidad.\n",
        "\n",
        "El histograma (de frecuencias) en si es una sucesión de rectángulos construidos sobre un sistema de coordenadas de la siguiente manera:\n",
        "\n",
        "1. Las bases de los rectángulos se localizan en el eje horizontal. La longitud de la base es igual al ancho del intervalo.\n",
        "2. Las alturas de los rectángulos se registran sobre el eje vertical y corresponden a las frecuencias de los intervalos.\n",
        "3. Las áreas de los rectángulos son proporcionales a las frecuencias de las clases.\n",
        "\n",
        "k=1+3.3log10(n)"
      ]
    },
    {
      "cell_type": "code",
      "metadata": {
        "colab": {
          "base_uri": "https://localhost:8080/",
          "height": 204
        },
        "id": "I5b7zAcr0mQc",
        "outputId": "7aecbc73-3bec-449c-a745-7e943314c8bc"
      },
      "source": [
        "import seaborn as sns\n",
        "tips = sns.load_dataset('tips')\n",
        "tips.head()"
      ],
      "execution_count": null,
      "outputs": [
        {
          "output_type": "execute_result",
          "data": {
            "text/html": [
              "<div>\n",
              "<style scoped>\n",
              "    .dataframe tbody tr th:only-of-type {\n",
              "        vertical-align: middle;\n",
              "    }\n",
              "\n",
              "    .dataframe tbody tr th {\n",
              "        vertical-align: top;\n",
              "    }\n",
              "\n",
              "    .dataframe thead th {\n",
              "        text-align: right;\n",
              "    }\n",
              "</style>\n",
              "<table border=\"1\" class=\"dataframe\">\n",
              "  <thead>\n",
              "    <tr style=\"text-align: right;\">\n",
              "      <th></th>\n",
              "      <th>total_bill</th>\n",
              "      <th>tip</th>\n",
              "      <th>sex</th>\n",
              "      <th>smoker</th>\n",
              "      <th>day</th>\n",
              "      <th>time</th>\n",
              "      <th>size</th>\n",
              "    </tr>\n",
              "  </thead>\n",
              "  <tbody>\n",
              "    <tr>\n",
              "      <th>0</th>\n",
              "      <td>16.99</td>\n",
              "      <td>1.01</td>\n",
              "      <td>Female</td>\n",
              "      <td>No</td>\n",
              "      <td>Sun</td>\n",
              "      <td>Dinner</td>\n",
              "      <td>2</td>\n",
              "    </tr>\n",
              "    <tr>\n",
              "      <th>1</th>\n",
              "      <td>10.34</td>\n",
              "      <td>1.66</td>\n",
              "      <td>Male</td>\n",
              "      <td>No</td>\n",
              "      <td>Sun</td>\n",
              "      <td>Dinner</td>\n",
              "      <td>3</td>\n",
              "    </tr>\n",
              "    <tr>\n",
              "      <th>2</th>\n",
              "      <td>21.01</td>\n",
              "      <td>3.50</td>\n",
              "      <td>Male</td>\n",
              "      <td>No</td>\n",
              "      <td>Sun</td>\n",
              "      <td>Dinner</td>\n",
              "      <td>3</td>\n",
              "    </tr>\n",
              "    <tr>\n",
              "      <th>3</th>\n",
              "      <td>23.68</td>\n",
              "      <td>3.31</td>\n",
              "      <td>Male</td>\n",
              "      <td>No</td>\n",
              "      <td>Sun</td>\n",
              "      <td>Dinner</td>\n",
              "      <td>2</td>\n",
              "    </tr>\n",
              "    <tr>\n",
              "      <th>4</th>\n",
              "      <td>24.59</td>\n",
              "      <td>3.61</td>\n",
              "      <td>Female</td>\n",
              "      <td>No</td>\n",
              "      <td>Sun</td>\n",
              "      <td>Dinner</td>\n",
              "      <td>4</td>\n",
              "    </tr>\n",
              "  </tbody>\n",
              "</table>\n",
              "</div>"
            ],
            "text/plain": [
              "   total_bill   tip     sex smoker  day    time  size\n",
              "0       16.99  1.01  Female     No  Sun  Dinner     2\n",
              "1       10.34  1.66    Male     No  Sun  Dinner     3\n",
              "2       21.01  3.50    Male     No  Sun  Dinner     3\n",
              "3       23.68  3.31    Male     No  Sun  Dinner     2\n",
              "4       24.59  3.61  Female     No  Sun  Dinner     4"
            ]
          },
          "metadata": {},
          "execution_count": 15
        }
      ]
    },
    {
      "cell_type": "code",
      "metadata": {
        "colab": {
          "base_uri": "https://localhost:8080/",
          "height": 371
        },
        "id": "VAtfz74B1eqY",
        "outputId": "056c6485-4ff0-4a26-d5d4-dae3aab83cdb"
      },
      "source": [
        "sns.distplot(tips['total_bill'], kde=False) \n",
        "plt.show()"
      ],
      "execution_count": null,
      "outputs": [
        {
          "output_type": "stream",
          "name": "stderr",
          "text": [
            "/usr/local/lib/python3.7/dist-packages/seaborn/distributions.py:2557: FutureWarning:\n",
            "\n",
            "`distplot` is a deprecated function and will be removed in a future version. Please adapt your code to use either `displot` (a figure-level function with similar flexibility) or `histplot` (an axes-level function for histograms).\n",
            "\n"
          ]
        },
        {
          "output_type": "display_data",
          "data": {
            "image/png": "[encoded data removed]",
            "text/plain": [
              "<Figure size 432x288 with 1 Axes>"
            ]
          },
          "metadata": {
            "needs_background": "light"
          }
        }
      ]
    },
    {
      "cell_type": "code",
      "metadata": {
        "colab": {
          "base_uri": "https://localhost:8080/",
          "height": 296
        },
        "id": "ERajBbTh1j5x",
        "outputId": "f054931a-c3e8-4bb3-e640-ded76acb5106"
      },
      "source": [
        "sns.histplot(data=tips,x='total_bill',hue='sex') \n",
        "plt.title('Histograma de gasto por sexo')\n",
        "plt.show()"
      ],
      "execution_count": null,
      "outputs": [
        {
          "output_type": "display_data",
          "data": {
            "image/png": "[encoded data removed]",
            "text/plain": [
              "<Figure size 432x288 with 1 Axes>"
            ]
          },
          "metadata": {
            "needs_background": "light"
          }
        }
      ]
    },
    {
      "cell_type": "code",
      "metadata": {
        "colab": {
          "base_uri": "https://localhost:8080/",
          "height": 637
        },
        "id": "cd5OJDXe1rYG",
        "outputId": "5d71e8de-569d-4d87-8df3-20f01765b1a7"
      },
      "source": [
        "import plotly.express as px\n",
        "df = px.data.tips()\n",
        "fig = px.histogram(df, x=\"total_bill\", nbins=10)\n",
        "fig.update_layout(\n",
        "    title=\"Comportamiento de total_bill\",\n",
        "    xaxis=dict(\n",
        "        showgrid=False,\n",
        "        showline=True,\n",
        "        linecolor='rgb(102, 102, 102)',\n",
        "        tickfont_color='rgb(102, 102, 102)',\n",
        "        showticklabels=True,\n",
        "        dtick=10,\n",
        "        ticks='outside',\n",
        "        tickcolor='rgb(102, 102, 102)',\n",
        "    ),\n",
        "    margin=dict(l=140, r=40, b=50, t=80),\n",
        "    legend=dict(\n",
        "        font_size=10,\n",
        "        yanchor='middle',\n",
        "        xanchor='right',\n",
        "    ),\n",
        "    width=800,\n",
        "    height=600,\n",
        "    paper_bgcolor='white',\n",
        "    plot_bgcolor='white',\n",
        "    hovermode='closest',\n",
        ")"
      ],
      "execution_count": null,
      "outputs": [
        {
          "output_type": "display_data",
          "data": {
            "text/html": [
              "<html>\n",
              "<head><meta charset=\"utf-8\" /></head>\n",
              "<body>\n",
              "    <div>\n",
              "            <script src=\"https://cdnjs.cloudflare.com/ajax/libs/mathjax/2.7.5/MathJax.js?config=TeX-AMS-MML_SVG\"></script><script type=\"text/javascript\">if (window.MathJax) {MathJax.Hub.Config({SVG: {font: \"STIX-Web\"}});}</script>\n",
              "                <script type=\"text/javascript\">window.PlotlyConfig = {MathJaxConfig: 'local'};</script>\n",
              "        <script src=\"https://cdn.plot.ly/plotly-latest.min.js\"></script>    \n",
              "            <div id=\"a5af0e40-1176-4423-b320-9171f8edf38e\" class=\"plotly-graph-div\" style=\"height:600px; width:800px;\"></div>\n",
              "            <script type=\"text/javascript\">\n",
              "                \n",
              "                    window.PLOTLYENV=window.PLOTLYENV || {};\n",
              "                    \n",
              "                if (document.getElementById(\"a5af0e40-1176-4423-b320-9171f8edf38e\")) {\n",
              "                    Plotly.newPlot(\n",
              "                        'a5af0e40-1176-4423-b320-9171f8edf38e',\n",
              "                        [{\"alignmentgroup\": \"True\", \"bingroup\": \"x\", \"hoverlabel\": {\"namelength\": 0}, \"hovertemplate\": \"total_bill=%{x}<br>count=%{y}\", \"legendgroup\": \"\", \"marker\": {\"color\": \"#636efa\"}, \"name\": \"\", \"nbinsx\": 10, \"offsetgroup\": \"\", \"orientation\": \"v\", \"showlegend\": false, \"type\": \"histogram\", \"x\": [16.99, 10.34, 21.01, 23.68, 24.59, 25.29, 8.77, 26.88, 15.04, 14.78, 10.27, 35.26, 15.42, 18.43, 14.83, 21.58, 10.33, 16.29, 16.97, 20.65, 17.92, 20.29, 15.77, 39.42, 19.82, 17.81, 13.37, 12.69, 21.7, 19.65, 9.55, 18.35, 15.06, 20.69, 17.78, 24.06, 16.31, 16.93, 18.69, 31.27, 16.04, 17.46, 13.94, 9.68, 30.4, 18.29, 22.23, 32.4, 28.55, 18.04, 12.54, 10.29, 34.81, 9.94, 25.56, 19.49, 38.01, 26.41, 11.24, 48.27, 20.29, 13.81, 11.02, 18.29, 17.59, 20.08, 16.45, 3.07, 20.23, 15.01, 12.02, 17.07, 26.86, 25.28, 14.73, 10.51, 17.92, 27.2, 22.76, 17.29, 19.44, 16.66, 10.07, 32.68, 15.98, 34.83, 13.03, 18.28, 24.71, 21.16, 28.97, 22.49, 5.75, 16.32, 22.75, 40.17, 27.28, 12.03, 21.01, 12.46, 11.35, 15.38, 44.3, 22.42, 20.92, 15.36, 20.49, 25.21, 18.24, 14.31, 14.0, 7.25, 38.07, 23.95, 25.71, 17.31, 29.93, 10.65, 12.43, 24.08, 11.69, 13.42, 14.26, 15.95, 12.48, 29.8, 8.52, 14.52, 11.38, 22.82, 19.08, 20.27, 11.17, 12.26, 18.26, 8.51, 10.33, 14.15, 16.0, 13.16, 17.47, 34.3, 41.19, 27.05, 16.43, 8.35, 18.64, 11.87, 9.78, 7.51, 14.07, 13.13, 17.26, 24.55, 19.77, 29.85, 48.17, 25.0, 13.39, 16.49, 21.5, 12.66, 16.21, 13.81, 17.51, 24.52, 20.76, 31.71, 10.59, 10.63, 50.81, 15.81, 7.25, 31.85, 16.82, 32.9, 17.89, 14.48, 9.6, 34.63, 34.65, 23.33, 45.35, 23.17, 40.55, 20.69, 20.9, 30.46, 18.15, 23.1, 15.69, 19.81, 28.44, 15.48, 16.58, 7.56, 10.34, 43.11, 13.0, 13.51, 18.71, 12.74, 13.0, 16.4, 20.53, 16.47, 26.59, 38.73, 24.27, 12.76, 30.06, 25.89, 48.33, 13.27, 28.17, 12.9, 28.15, 11.59, 7.74, 30.14, 12.16, 13.42, 8.58, 15.98, 13.42, 16.27, 10.09, 20.45, 13.28, 22.12, 24.01, 15.69, 11.61, 10.77, 15.53, 10.07, 12.6, 32.83, 35.83, 29.03, 27.18, 22.67, 17.82, 18.78], \"xaxis\": \"x\", \"yaxis\": \"y\"}],\n",
              "                        {\"barmode\": \"relative\", \"height\": 600, \"hovermode\": \"closest\", \"legend\": {\"font\": {\"size\": 10}, \"tracegroupgap\": 0, \"xanchor\": \"right\", \"yanchor\": \"middle\"}, \"margin\": {\"b\": 50, \"l\": 140, \"r\": 40, \"t\": 80}, \"paper_bgcolor\": \"white\", \"plot_bgcolor\": \"white\", \"template\": {\"data\": {\"bar\": [{\"error_x\": {\"color\": \"#2a3f5f\"}, \"error_y\": {\"color\": \"#2a3f5f\"}, \"marker\": {\"line\": {\"color\": \"#E5ECF6\", \"width\": 0.5}}, \"type\": \"bar\"}], \"barpolar\": [{\"marker\": {\"line\": {\"color\": \"#E5ECF6\", \"width\": 0.5}}, \"type\": \"barpolar\"}], \"carpet\": [{\"aaxis\": {\"endlinecolor\": \"#2a3f5f\", \"gridcolor\": \"white\", \"linecolor\": \"white\", \"minorgridcolor\": \"white\", \"startlinecolor\": \"#2a3f5f\"}, \"baxis\": {\"endlinecolor\": \"#2a3f5f\", \"gridcolor\": \"white\", \"linecolor\": \"white\", \"minorgridcolor\": \"white\", \"startlinecolor\": \"#2a3f5f\"}, \"type\": \"carpet\"}], \"choropleth\": [{\"colorbar\": {\"outlinewidth\": 0, \"ticks\": \"\"}, \"type\": \"choropleth\"}], \"contour\": [{\"colorbar\": {\"outlinewidth\": 0, \"ticks\": \"\"}, \"colorscale\": [[0.0, \"#0d0887\"], [0.1111111111111111, \"#46039f\"], [0.2222222222222222, \"#7201a8\"], [0.3333333333333333, \"#9c179e\"], [0.4444444444444444, \"#bd3786\"], [0.5555555555555556, \"#d8576b\"], [0.6666666666666666, \"#ed7953\"], [0.7777777777777778, \"#fb9f3a\"], [0.8888888888888888, \"#fdca26\"], [1.0, \"#f0f921\"]], \"type\": \"contour\"}], \"contourcarpet\": [{\"colorbar\": {\"outlinewidth\": 0, \"ticks\": \"\"}, \"type\": \"contourcarpet\"}], \"heatmap\": [{\"colorbar\": {\"outlinewidth\": 0, \"ticks\": \"\"}, \"colorscale\": [[0.0, \"#0d0887\"], [0.1111111111111111, \"#46039f\"], [0.2222222222222222, \"#7201a8\"], [0.3333333333333333, \"#9c179e\"], [0.4444444444444444, \"#bd3786\"], [0.5555555555555556, \"#d8576b\"], [0.6666666666666666, \"#ed7953\"], [0.7777777777777778, \"#fb9f3a\"], [0.8888888888888888, \"#fdca26\"], [1.0, \"#f0f921\"]], \"type\": \"heatmap\"}], \"heatmapgl\": [{\"colorbar\": {\"outlinewidth\": 0, \"ticks\": \"\"}, \"colorscale\": [[0.0, \"#0d0887\"], [0.1111111111111111, \"#46039f\"], [0.2222222222222222, \"#7201a8\"], [0.3333333333333333, \"#9c179e\"], [0.4444444444444444, \"#bd3786\"], [0.5555555555555556, \"#d8576b\"], [0.6666666666666666, \"#ed7953\"], [0.7777777777777778, \"#fb9f3a\"], [0.8888888888888888, \"#fdca26\"], [1.0, \"#f0f921\"]], \"type\": \"heatmapgl\"}], \"histogram\": [{\"marker\": {\"colorbar\": {\"outlinewidth\": 0, \"ticks\": \"\"}}, \"type\": \"histogram\"}], \"histogram2d\": [{\"colorbar\": {\"outlinewidth\": 0, \"ticks\": \"\"}, \"colorscale\": [[0.0, \"#0d0887\"], [0.1111111111111111, \"#46039f\"], [0.2222222222222222, \"#7201a8\"], [0.3333333333333333, \"#9c179e\"], [0.4444444444444444, \"#bd3786\"], [0.5555555555555556, \"#d8576b\"], [0.6666666666666666, \"#ed7953\"], [0.7777777777777778, \"#fb9f3a\"], [0.8888888888888888, \"#fdca26\"], [1.0, \"#f0f921\"]], \"type\": \"histogram2d\"}], \"histogram2dcontour\": [{\"colorbar\": {\"outlinewidth\": 0, \"ticks\": \"\"}, \"colorscale\": [[0.0, \"#0d0887\"], [0.1111111111111111, \"#46039f\"], [0.2222222222222222, \"#7201a8\"], [0.3333333333333333, \"#9c179e\"], [0.4444444444444444, \"#bd3786\"], [0.5555555555555556, \"#d8576b\"], [0.6666666666666666, \"#ed7953\"], [0.7777777777777778, \"#fb9f3a\"], [0.8888888888888888, \"#fdca26\"], [1.0, \"#f0f921\"]], \"type\": \"histogram2dcontour\"}], \"mesh3d\": [{\"colorbar\": {\"outlinewidth\": 0, \"ticks\": \"\"}, \"type\": \"mesh3d\"}], \"parcoords\": [{\"line\": {\"colorbar\": {\"outlinewidth\": 0, \"ticks\": \"\"}}, \"type\": \"parcoords\"}], \"pie\": [{\"automargin\": true, \"type\": \"pie\"}], \"scatter\": [{\"marker\": {\"colorbar\": {\"outlinewidth\": 0, \"ticks\": \"\"}}, \"type\": \"scatter\"}], \"scatter3d\": [{\"line\": {\"colorbar\": {\"outlinewidth\": 0, \"ticks\": \"\"}}, \"marker\": {\"colorbar\": {\"outlinewidth\": 0, \"ticks\": \"\"}}, \"type\": \"scatter3d\"}], \"scattercarpet\": [{\"marker\": {\"colorbar\": {\"outlinewidth\": 0, \"ticks\": \"\"}}, \"type\": \"scattercarpet\"}], \"scattergeo\": [{\"marker\": {\"colorbar\": {\"outlinewidth\": 0, \"ticks\": \"\"}}, \"type\": \"scattergeo\"}], \"scattergl\": [{\"marker\": {\"colorbar\": {\"outlinewidth\": 0, \"ticks\": \"\"}}, \"type\": \"scattergl\"}], \"scattermapbox\": [{\"marker\": {\"colorbar\": {\"outlinewidth\": 0, \"ticks\": \"\"}}, \"type\": \"scattermapbox\"}], \"scatterpolar\": [{\"marker\": {\"colorbar\": {\"outlinewidth\": 0, \"ticks\": \"\"}}, \"type\": \"scatterpolar\"}], \"scatterpolargl\": [{\"marker\": {\"colorbar\": {\"outlinewidth\": 0, \"ticks\": \"\"}}, \"type\": \"scatterpolargl\"}], \"scatterternary\": [{\"marker\": {\"colorbar\": {\"outlinewidth\": 0, \"ticks\": \"\"}}, \"type\": \"scatterternary\"}], \"surface\": [{\"colorbar\": {\"outlinewidth\": 0, \"ticks\": \"\"}, \"colorscale\": [[0.0, \"#0d0887\"], [0.1111111111111111, \"#46039f\"], [0.2222222222222222, \"#7201a8\"], [0.3333333333333333, \"#9c179e\"], [0.4444444444444444, \"#bd3786\"], [0.5555555555555556, \"#d8576b\"], [0.6666666666666666, \"#ed7953\"], [0.7777777777777778, \"#fb9f3a\"], [0.8888888888888888, \"#fdca26\"], [1.0, \"#f0f921\"]], \"type\": \"surface\"}], \"table\": [{\"cells\": {\"fill\": {\"color\": \"#EBF0F8\"}, \"line\": {\"color\": \"white\"}}, \"header\": {\"fill\": {\"color\": \"#C8D4E3\"}, \"line\": {\"color\": \"white\"}}, \"type\": \"table\"}]}, \"layout\": {\"annotationdefaults\": {\"arrowcolor\": \"#2a3f5f\", \"arrowhead\": 0, \"arrowwidth\": 1}, \"coloraxis\": {\"colorbar\": {\"outlinewidth\": 0, \"ticks\": \"\"}}, \"colorscale\": {\"diverging\": [[0, \"#8e0152\"], [0.1, \"#c51b7d\"], [0.2, \"#de77ae\"], [0.3, \"#f1b6da\"], [0.4, \"#fde0ef\"], [0.5, \"#f7f7f7\"], [0.6, \"#e6f5d0\"], [0.7, \"#b8e186\"], [0.8, \"#7fbc41\"], [0.9, \"#4d9221\"], [1, \"#276419\"]], \"sequential\": [[0.0, \"#0d0887\"], [0.1111111111111111, \"#46039f\"], [0.2222222222222222, \"#7201a8\"], [0.3333333333333333, \"#9c179e\"], [0.4444444444444444, \"#bd3786\"], [0.5555555555555556, \"#d8576b\"], [0.6666666666666666, \"#ed7953\"], [0.7777777777777778, \"#fb9f3a\"], [0.8888888888888888, \"#fdca26\"], [1.0, \"#f0f921\"]], \"sequentialminus\": [[0.0, \"#0d0887\"], [0.1111111111111111, \"#46039f\"], [0.2222222222222222, \"#7201a8\"], [0.3333333333333333, \"#9c179e\"], [0.4444444444444444, \"#bd3786\"], [0.5555555555555556, \"#d8576b\"], [0.6666666666666666, \"#ed7953\"], [0.7777777777777778, \"#fb9f3a\"], [0.8888888888888888, \"#fdca26\"], [1.0, \"#f0f921\"]]}, \"colorway\": [\"#636efa\", \"#EF553B\", \"#00cc96\", \"#ab63fa\", \"#FFA15A\", \"#19d3f3\", \"#FF6692\", \"#B6E880\", \"#FF97FF\", \"#FECB52\"], \"font\": {\"color\": \"#2a3f5f\"}, \"geo\": {\"bgcolor\": \"white\", \"lakecolor\": \"white\", \"landcolor\": \"#E5ECF6\", \"showlakes\": true, \"showland\": true, \"subunitcolor\": \"white\"}, \"hoverlabel\": {\"align\": \"left\"}, \"hovermode\": \"closest\", \"mapbox\": {\"style\": \"light\"}, \"paper_bgcolor\": \"white\", \"plot_bgcolor\": \"#E5ECF6\", \"polar\": {\"angularaxis\": {\"gridcolor\": \"white\", \"linecolor\": \"white\", \"ticks\": \"\"}, \"bgcolor\": \"#E5ECF6\", \"radialaxis\": {\"gridcolor\": \"white\", \"linecolor\": \"white\", \"ticks\": \"\"}}, \"scene\": {\"xaxis\": {\"backgroundcolor\": \"#E5ECF6\", \"gridcolor\": \"white\", \"gridwidth\": 2, \"linecolor\": \"white\", \"showbackground\": true, \"ticks\": \"\", \"zerolinecolor\": \"white\"}, \"yaxis\": {\"backgroundcolor\": \"#E5ECF6\", \"gridcolor\": \"white\", \"gridwidth\": 2, \"linecolor\": \"white\", \"showbackground\": true, \"ticks\": \"\", \"zerolinecolor\": \"white\"}, \"zaxis\": {\"backgroundcolor\": \"#E5ECF6\", \"gridcolor\": \"white\", \"gridwidth\": 2, \"linecolor\": \"white\", \"showbackground\": true, \"ticks\": \"\", \"zerolinecolor\": \"white\"}}, \"shapedefaults\": {\"line\": {\"color\": \"#2a3f5f\"}}, \"ternary\": {\"aaxis\": {\"gridcolor\": \"white\", \"linecolor\": \"white\", \"ticks\": \"\"}, \"baxis\": {\"gridcolor\": \"white\", \"linecolor\": \"white\", \"ticks\": \"\"}, \"bgcolor\": \"#E5ECF6\", \"caxis\": {\"gridcolor\": \"white\", \"linecolor\": \"white\", \"ticks\": \"\"}}, \"title\": {\"x\": 0.05}, \"xaxis\": {\"automargin\": true, \"gridcolor\": \"white\", \"linecolor\": \"white\", \"ticks\": \"\", \"title\": {\"standoff\": 15}, \"zerolinecolor\": \"white\", \"zerolinewidth\": 2}, \"yaxis\": {\"automargin\": true, \"gridcolor\": \"white\", \"linecolor\": \"white\", \"ticks\": \"\", \"title\": {\"standoff\": 15}, \"zerolinecolor\": \"white\", \"zerolinewidth\": 2}}}, \"title\": {\"text\": \"Comportamiento de total_bill\"}, \"width\": 800, \"xaxis\": {\"anchor\": \"y\", \"domain\": [0.0, 1.0], \"dtick\": 10, \"linecolor\": \"rgb(102, 102, 102)\", \"showgrid\": false, \"showline\": true, \"showticklabels\": true, \"tickcolor\": \"rgb(102, 102, 102)\", \"tickfont\": {\"color\": \"rgb(102, 102, 102)\"}, \"ticks\": \"outside\", \"title\": {\"text\": \"total_bill\"}}, \"yaxis\": {\"anchor\": \"x\", \"domain\": [0.0, 1.0], \"title\": {\"text\": \"count\"}}},\n",
              "                        {\"responsive\": true}\n",
              "                    ).then(function(){\n",
              "                            \n",
              "var gd = document.getElementById('a5af0e40-1176-4423-b320-9171f8edf38e');\n",
              "var x = new MutationObserver(function (mutations, observer) {{\n",
              "        var display = window.getComputedStyle(gd).display;\n",
              "        if (!display || display === 'none') {{\n",
              "            console.log([gd, 'removed!']);\n",
              "            Plotly.purge(gd);\n",
              "            observer.disconnect();\n",
              "        }}\n",
              "}});\n",
              "\n",
              "// Listen for the removal of the full notebook cells\n",
              "var notebookContainer = gd.closest('#notebook-container');\n",
              "if (notebookContainer) {{\n",
              "    x.observe(notebookContainer, {childList: true});\n",
              "}}\n",
              "\n",
              "// Listen for the clearing of the current output cell\n",
              "var outputEl = gd.closest('.output');\n",
              "if (outputEl) {{\n",
              "    x.observe(outputEl, {childList: true});\n",
              "}}\n",
              "\n",
              "                        })\n",
              "                };\n",
              "                \n",
              "            </script>\n",
              "        </div>\n",
              "</body>\n",
              "</html>"
            ]
          },
          "metadata": {}
        }
      ]
    },
    {
      "cell_type": "markdown",
      "metadata": {
        "id": "2U3__ACv1zA_"
      },
      "source": [
        "# Series de tiempo (Lineplot)"
      ]
    },
    {
      "cell_type": "code",
      "metadata": {
        "colab": {
          "base_uri": "https://localhost:8080/"
        },
        "id": "D70CtSff11Fs",
        "outputId": "e3f6fb58-922c-4702-caab-540f3b41dcad"
      },
      "source": [
        "df=pd.read_csv('accidents.csv',delimiter=\";\")\n",
        "type(df)"
      ],
      "execution_count": 6,
      "outputs": [
        {
          "output_type": "execute_result",
          "data": {
            "text/plain": [
              "pandas.core.frame.DataFrame"
            ]
          },
          "metadata": {},
          "execution_count": 6
        }
      ]
    },
    {
      "cell_type": "code",
      "metadata": {
        "colab": {
          "base_uri": "https://localhost:8080/",
          "height": 377
        },
        "id": "Val4Z2Gs2OI8",
        "outputId": "ce42b40e-0afc-4d26-8699-ead9d17fcee3"
      },
      "source": [
        "print(df.shape)\n",
        "df.head()"
      ],
      "execution_count": null,
      "outputs": [
        {
          "output_type": "stream",
          "name": "stdout",
          "text": [
            "(18501, 24)\n"
          ]
        },
        {
          "output_type": "execute_result",
          "data": {
            "text/html": [
              "<div>\n",
              "<style scoped>\n",
              "    .dataframe tbody tr th:only-of-type {\n",
              "        vertical-align: middle;\n",
              "    }\n",
              "\n",
              "    .dataframe tbody tr th {\n",
              "        vertical-align: top;\n",
              "    }\n",
              "\n",
              "    .dataframe thead th {\n",
              "        text-align: right;\n",
              "    }\n",
              "</style>\n",
              "<table border=\"1\" class=\"dataframe\">\n",
              "  <thead>\n",
              "    <tr style=\"text-align: right;\">\n",
              "      <th></th>\n",
              "      <th>DATE</th>\n",
              "      <th>TIME</th>\n",
              "      <th>BOROUGH</th>\n",
              "      <th>ZIP CODE</th>\n",
              "      <th>LATITUDE</th>\n",
              "      <th>LONGITUDE</th>\n",
              "      <th>ON STREET NAME</th>\n",
              "      <th>NUMBER OF PEDESTRIANS INJURED</th>\n",
              "      <th>NUMBER OF PEDESTRIANS KILLED</th>\n",
              "      <th>NUMBER OF CYCLIST INJURED</th>\n",
              "      <th>NUMBER OF CYCLIST KILLED</th>\n",
              "      <th>NUMBER OF MOTORIST INJURED</th>\n",
              "      <th>NUMBER OF MOTORIST KILLED</th>\n",
              "      <th>CONTRIBUTING FACTOR VEHICLE 1</th>\n",
              "      <th>CONTRIBUTING FACTOR VEHICLE 2</th>\n",
              "      <th>CONTRIBUTING FACTOR VEHICLE 3</th>\n",
              "      <th>CONTRIBUTING FACTOR VEHICLE 4</th>\n",
              "      <th>CONTRIBUTING FACTOR VEHICLE 5</th>\n",
              "      <th>COLLISION_ID</th>\n",
              "      <th>VEHICLE TYPE CODE 1</th>\n",
              "      <th>VEHICLE TYPE CODE 2</th>\n",
              "      <th>VEHICLE TYPE CODE 3</th>\n",
              "      <th>VEHICLE TYPE CODE 4</th>\n",
              "      <th>VEHICLE TYPE CODE 5</th>\n",
              "    </tr>\n",
              "  </thead>\n",
              "  <tbody>\n",
              "    <tr>\n",
              "      <th>0</th>\n",
              "      <td>09/26/2018</td>\n",
              "      <td>12:12</td>\n",
              "      <td>BRONX</td>\n",
              "      <td>10454.0</td>\n",
              "      <td>40.808987</td>\n",
              "      <td>-73.911316</td>\n",
              "      <td>NaN</td>\n",
              "      <td>0.0</td>\n",
              "      <td>0.0</td>\n",
              "      <td>0.0</td>\n",
              "      <td>0.0</td>\n",
              "      <td>0.0</td>\n",
              "      <td>0.0</td>\n",
              "      <td>Unspecified</td>\n",
              "      <td>NaN</td>\n",
              "      <td>NaN</td>\n",
              "      <td>NaN</td>\n",
              "      <td>NaN</td>\n",
              "      <td>3988123.0</td>\n",
              "      <td>Sedan</td>\n",
              "      <td>NaN</td>\n",
              "      <td>NaN</td>\n",
              "      <td>NaN</td>\n",
              "      <td>NaN</td>\n",
              "    </tr>\n",
              "    <tr>\n",
              "      <th>1</th>\n",
              "      <td>09/25/2018</td>\n",
              "      <td>16:30</td>\n",
              "      <td>BROOKLYN</td>\n",
              "      <td>11236.0</td>\n",
              "      <td>40.636005</td>\n",
              "      <td>-73.912510</td>\n",
              "      <td>FLATLANDS AVENUE</td>\n",
              "      <td>1.0</td>\n",
              "      <td>0.0</td>\n",
              "      <td>0.0</td>\n",
              "      <td>0.0</td>\n",
              "      <td>0.0</td>\n",
              "      <td>0.0</td>\n",
              "      <td>Unspecified</td>\n",
              "      <td>NaN</td>\n",
              "      <td>NaN</td>\n",
              "      <td>NaN</td>\n",
              "      <td>NaN</td>\n",
              "      <td>3987962.0</td>\n",
              "      <td>Sedan</td>\n",
              "      <td>NaN</td>\n",
              "      <td>NaN</td>\n",
              "      <td>NaN</td>\n",
              "      <td>NaN</td>\n",
              "    </tr>\n",
              "    <tr>\n",
              "      <th>2</th>\n",
              "      <td>08/22/2019</td>\n",
              "      <td>19:30</td>\n",
              "      <td>QUEENS</td>\n",
              "      <td>11101.0</td>\n",
              "      <td>40.755490</td>\n",
              "      <td>-73.939530</td>\n",
              "      <td>NaN</td>\n",
              "      <td>0.0</td>\n",
              "      <td>0.0</td>\n",
              "      <td>0.0</td>\n",
              "      <td>0.0</td>\n",
              "      <td>0.0</td>\n",
              "      <td>0.0</td>\n",
              "      <td>Unspecified</td>\n",
              "      <td>NaN</td>\n",
              "      <td>NaN</td>\n",
              "      <td>NaN</td>\n",
              "      <td>NaN</td>\n",
              "      <td>4193132.0</td>\n",
              "      <td>Sedan</td>\n",
              "      <td>NaN</td>\n",
              "      <td>NaN</td>\n",
              "      <td>NaN</td>\n",
              "      <td>NaN</td>\n",
              "    </tr>\n",
              "    <tr>\n",
              "      <th>3</th>\n",
              "      <td>09/23/2018</td>\n",
              "      <td>13:10</td>\n",
              "      <td>QUEENS</td>\n",
              "      <td>11367.0</td>\n",
              "      <td>NaN</td>\n",
              "      <td>NaN</td>\n",
              "      <td>MAIN STREET</td>\n",
              "      <td>0.0</td>\n",
              "      <td>0.0</td>\n",
              "      <td>1.0</td>\n",
              "      <td>0.0</td>\n",
              "      <td>0.0</td>\n",
              "      <td>0.0</td>\n",
              "      <td>Driver Inattention/Distraction</td>\n",
              "      <td>Unspecified</td>\n",
              "      <td>NaN</td>\n",
              "      <td>NaN</td>\n",
              "      <td>NaN</td>\n",
              "      <td>3985962.0</td>\n",
              "      <td>Bike</td>\n",
              "      <td>Station Wagon/Sport Utility Vehicle</td>\n",
              "      <td>NaN</td>\n",
              "      <td>NaN</td>\n",
              "      <td>NaN</td>\n",
              "    </tr>\n",
              "    <tr>\n",
              "      <th>4</th>\n",
              "      <td>08/20/2019</td>\n",
              "      <td>22:40</td>\n",
              "      <td>BRONX</td>\n",
              "      <td>10468.0</td>\n",
              "      <td>40.868336</td>\n",
              "      <td>-73.901270</td>\n",
              "      <td>NaN</td>\n",
              "      <td>0.0</td>\n",
              "      <td>0.0</td>\n",
              "      <td>0.0</td>\n",
              "      <td>0.0</td>\n",
              "      <td>1.0</td>\n",
              "      <td>0.0</td>\n",
              "      <td>View Obstructed/Limited</td>\n",
              "      <td>Unspecified</td>\n",
              "      <td>NaN</td>\n",
              "      <td>NaN</td>\n",
              "      <td>NaN</td>\n",
              "      <td>4192111.0</td>\n",
              "      <td>Sedan</td>\n",
              "      <td>Sedan</td>\n",
              "      <td>NaN</td>\n",
              "      <td>NaN</td>\n",
              "      <td>NaN</td>\n",
              "    </tr>\n",
              "  </tbody>\n",
              "</table>\n",
              "</div>"
            ],
            "text/plain": [
              "         DATE   TIME  ... VEHICLE TYPE CODE 4  VEHICLE TYPE CODE 5\n",
              "0  09/26/2018  12:12  ...                 NaN                  NaN\n",
              "1  09/25/2018  16:30  ...                 NaN                  NaN\n",
              "2  08/22/2019  19:30  ...                 NaN                  NaN\n",
              "3  09/23/2018  13:10  ...                 NaN                  NaN\n",
              "4  08/20/2019  22:40  ...                 NaN                  NaN\n",
              "\n",
              "[5 rows x 24 columns]"
            ]
          },
          "metadata": {},
          "execution_count": 21
        }
      ]
    },
    {
      "cell_type": "code",
      "metadata": {
        "colab": {
          "base_uri": "https://localhost:8080/",
          "height": 0
        },
        "id": "2EndaJrw2T7T",
        "outputId": "a3514f07-30c5-428e-b155-c73b580eae8f"
      },
      "source": [
        "df['DATE']=pd.to_datetime(df['DATE'])\n",
        "monthly_accidents =df.groupby(df['DATE'].dt.to_period('M')).size()\n",
        "monthly_accidents.plot.line()"
      ],
      "execution_count": 15,
      "outputs": [
        {
          "output_type": "execute_result",
          "data": {
            "text/plain": [
              "<matplotlib.axes._subplots.AxesSubplot at 0x7f83be75fad0>"
            ]
          },
          "metadata": {},
          "execution_count": 15
        },
        {
          "output_type": "display_data",
          "data": {
            "image/png": "[encoded data removed]",
            "text/plain": [
              "<Figure size 432x288 with 1 Axes>"
            ]
          },
          "metadata": {
            "needs_background": "light"
          }
        }
      ]
    },
    {
      "cell_type": "markdown",
      "metadata": {
        "id": "1xVNl3Ck2mkI"
      },
      "source": [
        "# Facetgrid"
      ]
    },
    {
      "cell_type": "code",
      "metadata": {
        "colab": {
          "base_uri": "https://localhost:8080/",
          "height": 0
        },
        "id": "j7zEGdVX2kkz",
        "outputId": "1d999237-1f9a-4559-a34e-6ff4139c9856"
      },
      "source": [
        "df"
      ],
      "execution_count": 7,
      "outputs": [
        {
          "output_type": "execute_result",
          "data": {
            "text/html": [
              "<div>\n",
              "<style scoped>\n",
              "    .dataframe tbody tr th:only-of-type {\n",
              "        vertical-align: middle;\n",
              "    }\n",
              "\n",
              "    .dataframe tbody tr th {\n",
              "        vertical-align: top;\n",
              "    }\n",
              "\n",
              "    .dataframe thead th {\n",
              "        text-align: right;\n",
              "    }\n",
              "</style>\n",
              "<table border=\"1\" class=\"dataframe\">\n",
              "  <thead>\n",
              "    <tr style=\"text-align: right;\">\n",
              "      <th></th>\n",
              "      <th>DATE</th>\n",
              "      <th>TIME</th>\n",
              "      <th>BOROUGH</th>\n",
              "      <th>ZIP CODE</th>\n",
              "      <th>LATITUDE</th>\n",
              "      <th>LONGITUDE</th>\n",
              "      <th>ON STREET NAME</th>\n",
              "      <th>NUMBER OF PEDESTRIANS INJURED</th>\n",
              "      <th>NUMBER OF PEDESTRIANS KILLED</th>\n",
              "      <th>NUMBER OF CYCLIST INJURED</th>\n",
              "      <th>NUMBER OF CYCLIST KILLED</th>\n",
              "      <th>NUMBER OF MOTORIST INJURED</th>\n",
              "      <th>NUMBER OF MOTORIST KILLED</th>\n",
              "      <th>CONTRIBUTING FACTOR VEHICLE 1</th>\n",
              "      <th>CONTRIBUTING FACTOR VEHICLE 2</th>\n",
              "      <th>CONTRIBUTING FACTOR VEHICLE 3</th>\n",
              "      <th>CONTRIBUTING FACTOR VEHICLE 4</th>\n",
              "      <th>CONTRIBUTING FACTOR VEHICLE 5</th>\n",
              "      <th>COLLISION_ID</th>\n",
              "      <th>VEHICLE TYPE CODE 1</th>\n",
              "      <th>VEHICLE TYPE CODE 2</th>\n",
              "      <th>VEHICLE TYPE CODE 3</th>\n",
              "      <th>VEHICLE TYPE CODE 4</th>\n",
              "      <th>VEHICLE TYPE CODE 5</th>\n",
              "    </tr>\n",
              "  </thead>\n",
              "  <tbody>\n",
              "    <tr>\n",
              "      <th>0</th>\n",
              "      <td>09/26/2018</td>\n",
              "      <td>12:12</td>\n",
              "      <td>BRONX</td>\n",
              "      <td>10454.0</td>\n",
              "      <td>40.808987</td>\n",
              "      <td>-73.911316</td>\n",
              "      <td>NaN</td>\n",
              "      <td>0</td>\n",
              "      <td>0</td>\n",
              "      <td>0</td>\n",
              "      <td>0</td>\n",
              "      <td>0</td>\n",
              "      <td>0</td>\n",
              "      <td>Unspecified</td>\n",
              "      <td>NaN</td>\n",
              "      <td>NaN</td>\n",
              "      <td>NaN</td>\n",
              "      <td>NaN</td>\n",
              "      <td>3988123</td>\n",
              "      <td>Sedan</td>\n",
              "      <td>NaN</td>\n",
              "      <td>NaN</td>\n",
              "      <td>NaN</td>\n",
              "      <td>NaN</td>\n",
              "    </tr>\n",
              "    <tr>\n",
              "      <th>1</th>\n",
              "      <td>09/25/2018</td>\n",
              "      <td>16:30</td>\n",
              "      <td>BROOKLYN</td>\n",
              "      <td>11236.0</td>\n",
              "      <td>40.636005</td>\n",
              "      <td>-73.912510</td>\n",
              "      <td>FLATLANDS AVENUE</td>\n",
              "      <td>1</td>\n",
              "      <td>0</td>\n",
              "      <td>0</td>\n",
              "      <td>0</td>\n",
              "      <td>0</td>\n",
              "      <td>0</td>\n",
              "      <td>Unspecified</td>\n",
              "      <td>NaN</td>\n",
              "      <td>NaN</td>\n",
              "      <td>NaN</td>\n",
              "      <td>NaN</td>\n",
              "      <td>3987962</td>\n",
              "      <td>Sedan</td>\n",
              "      <td>NaN</td>\n",
              "      <td>NaN</td>\n",
              "      <td>NaN</td>\n",
              "      <td>NaN</td>\n",
              "    </tr>\n",
              "    <tr>\n",
              "      <th>2</th>\n",
              "      <td>08/22/2019</td>\n",
              "      <td>19:30</td>\n",
              "      <td>QUEENS</td>\n",
              "      <td>11101.0</td>\n",
              "      <td>40.755490</td>\n",
              "      <td>-73.939530</td>\n",
              "      <td>NaN</td>\n",
              "      <td>0</td>\n",
              "      <td>0</td>\n",
              "      <td>0</td>\n",
              "      <td>0</td>\n",
              "      <td>0</td>\n",
              "      <td>0</td>\n",
              "      <td>Unspecified</td>\n",
              "      <td>NaN</td>\n",
              "      <td>NaN</td>\n",
              "      <td>NaN</td>\n",
              "      <td>NaN</td>\n",
              "      <td>4193132</td>\n",
              "      <td>Sedan</td>\n",
              "      <td>NaN</td>\n",
              "      <td>NaN</td>\n",
              "      <td>NaN</td>\n",
              "      <td>NaN</td>\n",
              "    </tr>\n",
              "    <tr>\n",
              "      <th>3</th>\n",
              "      <td>09/23/2018</td>\n",
              "      <td>13:10</td>\n",
              "      <td>QUEENS</td>\n",
              "      <td>11367.0</td>\n",
              "      <td>NaN</td>\n",
              "      <td>NaN</td>\n",
              "      <td>MAIN STREET</td>\n",
              "      <td>0</td>\n",
              "      <td>0</td>\n",
              "      <td>1</td>\n",
              "      <td>0</td>\n",
              "      <td>0</td>\n",
              "      <td>0</td>\n",
              "      <td>Driver Inattention/Distraction</td>\n",
              "      <td>Unspecified</td>\n",
              "      <td>NaN</td>\n",
              "      <td>NaN</td>\n",
              "      <td>NaN</td>\n",
              "      <td>3985962</td>\n",
              "      <td>Bike</td>\n",
              "      <td>Station Wagon/Sport Utility Vehicle</td>\n",
              "      <td>NaN</td>\n",
              "      <td>NaN</td>\n",
              "      <td>NaN</td>\n",
              "    </tr>\n",
              "    <tr>\n",
              "      <th>4</th>\n",
              "      <td>08/20/2019</td>\n",
              "      <td>22:40</td>\n",
              "      <td>BRONX</td>\n",
              "      <td>10468.0</td>\n",
              "      <td>40.868336</td>\n",
              "      <td>-73.901270</td>\n",
              "      <td>NaN</td>\n",
              "      <td>0</td>\n",
              "      <td>0</td>\n",
              "      <td>0</td>\n",
              "      <td>0</td>\n",
              "      <td>1</td>\n",
              "      <td>0</td>\n",
              "      <td>View Obstructed/Limited</td>\n",
              "      <td>Unspecified</td>\n",
              "      <td>NaN</td>\n",
              "      <td>NaN</td>\n",
              "      <td>NaN</td>\n",
              "      <td>4192111</td>\n",
              "      <td>Sedan</td>\n",
              "      <td>Sedan</td>\n",
              "      <td>NaN</td>\n",
              "      <td>NaN</td>\n",
              "      <td>NaN</td>\n",
              "    </tr>\n",
              "    <tr>\n",
              "      <th>...</th>\n",
              "      <td>...</td>\n",
              "      <td>...</td>\n",
              "      <td>...</td>\n",
              "      <td>...</td>\n",
              "      <td>...</td>\n",
              "      <td>...</td>\n",
              "      <td>...</td>\n",
              "      <td>...</td>\n",
              "      <td>...</td>\n",
              "      <td>...</td>\n",
              "      <td>...</td>\n",
              "      <td>...</td>\n",
              "      <td>...</td>\n",
              "      <td>...</td>\n",
              "      <td>...</td>\n",
              "      <td>...</td>\n",
              "      <td>...</td>\n",
              "      <td>...</td>\n",
              "      <td>...</td>\n",
              "      <td>...</td>\n",
              "      <td>...</td>\n",
              "      <td>...</td>\n",
              "      <td>...</td>\n",
              "      <td>...</td>\n",
              "    </tr>\n",
              "    <tr>\n",
              "      <th>238517</th>\n",
              "      <td>01/20/2018</td>\n",
              "      <td>15:00</td>\n",
              "      <td>QUEENS</td>\n",
              "      <td>11436.0</td>\n",
              "      <td>40.685356</td>\n",
              "      <td>-73.797230</td>\n",
              "      <td>LINDEN BOULEVARD</td>\n",
              "      <td>0</td>\n",
              "      <td>0</td>\n",
              "      <td>0</td>\n",
              "      <td>0</td>\n",
              "      <td>0</td>\n",
              "      <td>0</td>\n",
              "      <td>Driver Inattention/Distraction</td>\n",
              "      <td>Unspecified</td>\n",
              "      <td>NaN</td>\n",
              "      <td>NaN</td>\n",
              "      <td>NaN</td>\n",
              "      <td>3832275</td>\n",
              "      <td>SPORT UTILITY / STATION WAGON</td>\n",
              "      <td>PASSENGER VEHICLE</td>\n",
              "      <td>NaN</td>\n",
              "      <td>NaN</td>\n",
              "      <td>NaN</td>\n",
              "    </tr>\n",
              "    <tr>\n",
              "      <th>238518</th>\n",
              "      <td>01/04/2018</td>\n",
              "      <td>14:00</td>\n",
              "      <td>BRONX</td>\n",
              "      <td>10452.0</td>\n",
              "      <td>40.845180</td>\n",
              "      <td>-73.914170</td>\n",
              "      <td>JEROME AVENUE</td>\n",
              "      <td>0</td>\n",
              "      <td>0</td>\n",
              "      <td>0</td>\n",
              "      <td>0</td>\n",
              "      <td>0</td>\n",
              "      <td>0</td>\n",
              "      <td>Pavement Slippery</td>\n",
              "      <td>NaN</td>\n",
              "      <td>NaN</td>\n",
              "      <td>NaN</td>\n",
              "      <td>NaN</td>\n",
              "      <td>3822315</td>\n",
              "      <td>SPORT UTILITY / STATION WAGON</td>\n",
              "      <td>NaN</td>\n",
              "      <td>NaN</td>\n",
              "      <td>NaN</td>\n",
              "      <td>NaN</td>\n",
              "    </tr>\n",
              "    <tr>\n",
              "      <th>238519</th>\n",
              "      <td>01/20/2018</td>\n",
              "      <td>13:05</td>\n",
              "      <td>BRONX</td>\n",
              "      <td>10462.0</td>\n",
              "      <td>40.831210</td>\n",
              "      <td>-73.850876</td>\n",
              "      <td>CASTLE HILL AVENUE</td>\n",
              "      <td>0</td>\n",
              "      <td>0</td>\n",
              "      <td>0</td>\n",
              "      <td>0</td>\n",
              "      <td>0</td>\n",
              "      <td>0</td>\n",
              "      <td>Unsafe Lane Changing</td>\n",
              "      <td>Unspecified</td>\n",
              "      <td>NaN</td>\n",
              "      <td>NaN</td>\n",
              "      <td>NaN</td>\n",
              "      <td>3832513</td>\n",
              "      <td>PASSENGER VEHICLE</td>\n",
              "      <td>SPORT UTILITY / STATION WAGON</td>\n",
              "      <td>NaN</td>\n",
              "      <td>NaN</td>\n",
              "      <td>NaN</td>\n",
              "    </tr>\n",
              "    <tr>\n",
              "      <th>238520</th>\n",
              "      <td>01/29/2018</td>\n",
              "      <td>17:45</td>\n",
              "      <td>QUEENS</td>\n",
              "      <td>11377.0</td>\n",
              "      <td>40.757250</td>\n",
              "      <td>-73.904854</td>\n",
              "      <td>31 AVENUE</td>\n",
              "      <td>0</td>\n",
              "      <td>0</td>\n",
              "      <td>0</td>\n",
              "      <td>0</td>\n",
              "      <td>2</td>\n",
              "      <td>0</td>\n",
              "      <td>Failure to Yield Right-of-Way</td>\n",
              "      <td>Unspecified</td>\n",
              "      <td>NaN</td>\n",
              "      <td>NaN</td>\n",
              "      <td>NaN</td>\n",
              "      <td>3837608</td>\n",
              "      <td>SPORT UTILITY / STATION WAGON</td>\n",
              "      <td>PASSENGER VEHICLE</td>\n",
              "      <td>NaN</td>\n",
              "      <td>NaN</td>\n",
              "      <td>NaN</td>\n",
              "    </tr>\n",
              "    <tr>\n",
              "      <th>238521</th>\n",
              "      <td>01/23/2018</td>\n",
              "      <td>16:38</td>\n",
              "      <td>BROOKLYN</td>\n",
              "      <td>11211.0</td>\n",
              "      <td>40.710197</td>\n",
              "      <td>-73.958430</td>\n",
              "      <td>HAVEMEYER STREET</td>\n",
              "      <td>0</td>\n",
              "      <td>0</td>\n",
              "      <td>0</td>\n",
              "      <td>0</td>\n",
              "      <td>0</td>\n",
              "      <td>0</td>\n",
              "      <td>Following Too Closely</td>\n",
              "      <td>Passing or Lane Usage Improper</td>\n",
              "      <td>NaN</td>\n",
              "      <td>NaN</td>\n",
              "      <td>NaN</td>\n",
              "      <td>3833631</td>\n",
              "      <td>SPORT UTILITY / STATION WAGON</td>\n",
              "      <td>SPORT UTILITY / STATION WAGON</td>\n",
              "      <td>NaN</td>\n",
              "      <td>NaN</td>\n",
              "      <td>NaN</td>\n",
              "    </tr>\n",
              "  </tbody>\n",
              "</table>\n",
              "<p>238522 rows × 24 columns</p>\n",
              "</div>"
            ],
            "text/plain": [
              "              DATE   TIME  ... VEHICLE TYPE CODE 4  VEHICLE TYPE CODE 5\n",
              "0       09/26/2018  12:12  ...                 NaN                  NaN\n",
              "1       09/25/2018  16:30  ...                 NaN                  NaN\n",
              "2       08/22/2019  19:30  ...                 NaN                  NaN\n",
              "3       09/23/2018  13:10  ...                 NaN                  NaN\n",
              "4       08/20/2019  22:40  ...                 NaN                  NaN\n",
              "...            ...    ...  ...                 ...                  ...\n",
              "238517  01/20/2018  15:00  ...                 NaN                  NaN\n",
              "238518  01/04/2018  14:00  ...                 NaN                  NaN\n",
              "238519  01/20/2018  13:05  ...                 NaN                  NaN\n",
              "238520  01/29/2018  17:45  ...                 NaN                  NaN\n",
              "238521  01/23/2018  16:38  ...                 NaN                  NaN\n",
              "\n",
              "[238522 rows x 24 columns]"
            ]
          },
          "metadata": {},
          "execution_count": 7
        }
      ]
    },
    {
      "cell_type": "code",
      "metadata": {
        "colab": {
          "base_uri": "https://localhost:8080/",
          "height": 0
        },
        "id": "1l7_mr-fyBTK",
        "outputId": "3e29d38a-ece3-4e9b-b33f-38b4d2c38d96"
      },
      "source": [
        "df['TIME']=pd.to_datetime(df['TIME'])\n",
        "df['HOUR'] = df['TIME'].dt.hour\n",
        "\n",
        "df1 = pd.DataFrame({'count': df.groupby(['BOROUGH', 'HOUR']).size()})\n",
        "df1\n",
        "df1 = df1.reset_index()\n",
        "df1.head(10)\n",
        "\n",
        "df1 = pd.DataFrame({'count': df.groupby(['BOROUGH', 'HOUR']).size()})\n",
        "df1 = df1.reset_index()\n",
        "chart = sns.FacetGrid(df1, col='BOROUGH', margin_titles=True, col_wrap=3, aspect=2, row_order=df['BOROUGH'].unique)\n",
        "chart.map(sns.barplot, 'HOUR', 'count',)"
      ],
      "execution_count": 8,
      "outputs": [
        {
          "output_type": "stream",
          "name": "stderr",
          "text": [
            "/usr/local/lib/python3.7/dist-packages/seaborn/axisgrid.py:643: UserWarning: Using the barplot function without specifying `order` is likely to produce an incorrect plot.\n",
            "  warnings.warn(warning)\n"
          ]
        },
        {
          "output_type": "execute_result",
          "data": {
            "text/plain": [
              "<seaborn.axisgrid.FacetGrid at 0x7f83cac96950>"
            ]
          },
          "metadata": {},
          "execution_count": 8
        },
        {
          "output_type": "display_data",
          "data": {
            "image/png": "[encoded data removed]",
            "text/plain": [
              "<Figure size 1296x432 with 5 Axes>"
            ]
          },
          "metadata": {
            "needs_background": "light"
          }
        }
      ]
    },
    {
      "cell_type": "code",
      "metadata": {
        "colab": {
          "base_uri": "https://localhost:8080/",
          "height": 0
        },
        "id": "H3cxCfXsyPUm",
        "outputId": "ad91dabc-6b31-422c-fa93-150824bf2868"
      },
      "source": [
        "df_prueba=df[['DATE','BOROUGH']]\n",
        "pie_borough = df_prueba.groupby('BOROUGH').agg('count')\n",
        "pie_borough=pie_borough.rename(columns={'DATE': 'Frecuencia'})\n",
        "pie_borough"
      ],
      "execution_count": 9,
      "outputs": [
        {
          "output_type": "execute_result",
          "data": {
            "text/html": [
              "<div>\n",
              "<style scoped>\n",
              "    .dataframe tbody tr th:only-of-type {\n",
              "        vertical-align: middle;\n",
              "    }\n",
              "\n",
              "    .dataframe tbody tr th {\n",
              "        vertical-align: top;\n",
              "    }\n",
              "\n",
              "    .dataframe thead th {\n",
              "        text-align: right;\n",
              "    }\n",
              "</style>\n",
              "<table border=\"1\" class=\"dataframe\">\n",
              "  <thead>\n",
              "    <tr style=\"text-align: right;\">\n",
              "      <th></th>\n",
              "      <th>Frecuencia</th>\n",
              "    </tr>\n",
              "    <tr>\n",
              "      <th>BOROUGH</th>\n",
              "      <th></th>\n",
              "    </tr>\n",
              "  </thead>\n",
              "  <tbody>\n",
              "    <tr>\n",
              "      <th>BRONX</th>\n",
              "      <td>37709</td>\n",
              "    </tr>\n",
              "    <tr>\n",
              "      <th>BROOKLYN</th>\n",
              "      <td>76253</td>\n",
              "    </tr>\n",
              "    <tr>\n",
              "      <th>MANHATTAN</th>\n",
              "      <td>48749</td>\n",
              "    </tr>\n",
              "    <tr>\n",
              "      <th>QUEENS</th>\n",
              "      <td>67120</td>\n",
              "    </tr>\n",
              "    <tr>\n",
              "      <th>STATEN ISLAND</th>\n",
              "      <td>8691</td>\n",
              "    </tr>\n",
              "  </tbody>\n",
              "</table>\n",
              "</div>"
            ],
            "text/plain": [
              "               Frecuencia\n",
              "BOROUGH                  \n",
              "BRONX               37709\n",
              "BROOKLYN            76253\n",
              "MANHATTAN           48749\n",
              "QUEENS              67120\n",
              "STATEN ISLAND        8691"
            ]
          },
          "metadata": {},
          "execution_count": 9
        }
      ]
    },
    {
      "cell_type": "code",
      "metadata": {
        "colab": {
          "base_uri": "https://localhost:8080/",
          "height": 0
        },
        "id": "jTgGvT6LyS_Y",
        "outputId": "2287bde6-c329-4eeb-c7b7-5112bceb5ca2"
      },
      "source": [
        "labels = pie_borough.index\n",
        "print(labels)\n",
        "pie, ax = plt.subplots(figsize=[10,6])\n",
        "fig=plt.pie(x=pie_borough, autopct=\"%.1f%%\",labels=labels,explode=[0.05]*5,\\\n",
        "            pctdistance=0.5)\n",
        "plt.title(\"Distribucion de barrios\", fontsize=14);"
      ],
      "execution_count": 10,
      "outputs": [
        {
          "output_type": "stream",
          "name": "stdout",
          "text": [
            "Index(['BRONX', 'BROOKLYN', 'MANHATTAN', 'QUEENS', 'STATEN ISLAND'], dtype='object', name='BOROUGH')\n"
          ]
        },
        {
          "output_type": "stream",
          "name": "stderr",
          "text": [
            "/usr/local/lib/python3.7/dist-packages/ipykernel_launcher.py:4: MatplotlibDeprecationWarning: Non-1D inputs to pie() are currently squeeze()d, but this behavior is deprecated since 3.1 and will be removed in 3.3; pass a 1D array instead.\n",
            "  after removing the cwd from sys.path.\n"
          ]
        },
        {
          "output_type": "display_data",
          "data": {
            "image/png": "[encoded data removed]",
            "text/plain": [
              "<Figure size 720x432 with 1 Axes>"
            ]
          },
          "metadata": {}
        }
      ]
    },
    {
      "cell_type": "code",
      "metadata": {
        "colab": {
          "base_uri": "https://localhost:8080/",
          "height": 0
        },
        "id": "mnH2dVtDyXFe",
        "outputId": "2fe592e6-dbf5-4cfb-9385-4f3f727c5fab"
      },
      "source": [
        "pie_borough"
      ],
      "execution_count": 11,
      "outputs": [
        {
          "output_type": "execute_result",
          "data": {
            "text/html": [
              "<div>\n",
              "<style scoped>\n",
              "    .dataframe tbody tr th:only-of-type {\n",
              "        vertical-align: middle;\n",
              "    }\n",
              "\n",
              "    .dataframe tbody tr th {\n",
              "        vertical-align: top;\n",
              "    }\n",
              "\n",
              "    .dataframe thead th {\n",
              "        text-align: right;\n",
              "    }\n",
              "</style>\n",
              "<table border=\"1\" class=\"dataframe\">\n",
              "  <thead>\n",
              "    <tr style=\"text-align: right;\">\n",
              "      <th></th>\n",
              "      <th>Frecuencia</th>\n",
              "    </tr>\n",
              "    <tr>\n",
              "      <th>BOROUGH</th>\n",
              "      <th></th>\n",
              "    </tr>\n",
              "  </thead>\n",
              "  <tbody>\n",
              "    <tr>\n",
              "      <th>BRONX</th>\n",
              "      <td>37709</td>\n",
              "    </tr>\n",
              "    <tr>\n",
              "      <th>BROOKLYN</th>\n",
              "      <td>76253</td>\n",
              "    </tr>\n",
              "    <tr>\n",
              "      <th>MANHATTAN</th>\n",
              "      <td>48749</td>\n",
              "    </tr>\n",
              "    <tr>\n",
              "      <th>QUEENS</th>\n",
              "      <td>67120</td>\n",
              "    </tr>\n",
              "    <tr>\n",
              "      <th>STATEN ISLAND</th>\n",
              "      <td>8691</td>\n",
              "    </tr>\n",
              "  </tbody>\n",
              "</table>\n",
              "</div>"
            ],
            "text/plain": [
              "               Frecuencia\n",
              "BOROUGH                  \n",
              "BRONX               37709\n",
              "BROOKLYN            76253\n",
              "MANHATTAN           48749\n",
              "QUEENS              67120\n",
              "STATEN ISLAND        8691"
            ]
          },
          "metadata": {},
          "execution_count": 11
        }
      ]
    },
    {
      "cell_type": "code",
      "metadata": {
        "colab": {
          "base_uri": "https://localhost:8080/",
          "height": 0
        },
        "id": "cF8TmY2gyaxf",
        "outputId": "363fb484-6174-4200-f607-bbf196d407a6"
      },
      "source": [
        "import plotly.express as px\n",
        "fig = px.pie(pie_borough, values='Frecuencia', \\\n",
        "             names=pie_borough.index, title='Piechart Boroughs')\n",
        "fig.show()"
      ],
      "execution_count": 12,
      "outputs": [
        {
          "output_type": "display_data",
          "data": {
            "text/html": [
              "<html>\n",
              "<head><meta charset=\"utf-8\" /></head>\n",
              "<body>\n",
              "    <div>\n",
              "            <script src=\"https://cdnjs.cloudflare.com/ajax/libs/mathjax/2.7.5/MathJax.js?config=TeX-AMS-MML_SVG\"></script><script type=\"text/javascript\">if (window.MathJax) {MathJax.Hub.Config({SVG: {font: \"STIX-Web\"}});}</script>\n",
              "                <script type=\"text/javascript\">window.PlotlyConfig = {MathJaxConfig: 'local'};</script>\n",
              "        <script src=\"https://cdn.plot.ly/plotly-latest.min.js\"></script>    \n",
              "            <div id=\"554c3180-9b60-4d3c-bd08-c7909e73f71e\" class=\"plotly-graph-div\" style=\"height:525px; width:100%;\"></div>\n",
              "            <script type=\"text/javascript\">\n",
              "                \n",
              "                    window.PLOTLYENV=window.PLOTLYENV || {};\n",
              "                    \n",
              "                if (document.getElementById(\"554c3180-9b60-4d3c-bd08-c7909e73f71e\")) {\n",
              "                    Plotly.newPlot(\n",
              "                        '554c3180-9b60-4d3c-bd08-c7909e73f71e',\n",
              "                        [{\"domain\": {\"x\": [0.0, 1.0], \"y\": [0.0, 1.0]}, \"hoverlabel\": {\"namelength\": 0}, \"hovertemplate\": \"label=%{label}<br>Frecuencia=%{value}\", \"labels\": [\"BRONX\", \"BROOKLYN\", \"MANHATTAN\", \"QUEENS\", \"STATEN ISLAND\"], \"legendgroup\": \"\", \"name\": \"\", \"showlegend\": true, \"type\": \"pie\", \"values\": [37709, 76253, 48749, 67120, 8691]}],\n",
              "                        {\"legend\": {\"tracegroupgap\": 0}, \"template\": {\"data\": {\"bar\": [{\"error_x\": {\"color\": \"#2a3f5f\"}, \"error_y\": {\"color\": \"#2a3f5f\"}, \"marker\": {\"line\": {\"color\": \"#E5ECF6\", \"width\": 0.5}}, \"type\": \"bar\"}], \"barpolar\": [{\"marker\": {\"line\": {\"color\": \"#E5ECF6\", \"width\": 0.5}}, \"type\": \"barpolar\"}], \"carpet\": [{\"aaxis\": {\"endlinecolor\": \"#2a3f5f\", \"gridcolor\": \"white\", \"linecolor\": \"white\", \"minorgridcolor\": \"white\", \"startlinecolor\": \"#2a3f5f\"}, \"baxis\": {\"endlinecolor\": \"#2a3f5f\", \"gridcolor\": \"white\", \"linecolor\": \"white\", \"minorgridcolor\": \"white\", \"startlinecolor\": \"#2a3f5f\"}, \"type\": \"carpet\"}], \"choropleth\": [{\"colorbar\": {\"outlinewidth\": 0, \"ticks\": \"\"}, \"type\": \"choropleth\"}], \"contour\": [{\"colorbar\": {\"outlinewidth\": 0, \"ticks\": \"\"}, \"colorscale\": [[0.0, \"#0d0887\"], [0.1111111111111111, \"#46039f\"], [0.2222222222222222, \"#7201a8\"], [0.3333333333333333, \"#9c179e\"], [0.4444444444444444, \"#bd3786\"], [0.5555555555555556, \"#d8576b\"], [0.6666666666666666, \"#ed7953\"], [0.7777777777777778, \"#fb9f3a\"], [0.8888888888888888, \"#fdca26\"], [1.0, \"#f0f921\"]], \"type\": \"contour\"}], \"contourcarpet\": [{\"colorbar\": {\"outlinewidth\": 0, \"ticks\": \"\"}, \"type\": \"contourcarpet\"}], \"heatmap\": [{\"colorbar\": {\"outlinewidth\": 0, \"ticks\": \"\"}, \"colorscale\": [[0.0, \"#0d0887\"], [0.1111111111111111, \"#46039f\"], [0.2222222222222222, \"#7201a8\"], [0.3333333333333333, \"#9c179e\"], [0.4444444444444444, \"#bd3786\"], [0.5555555555555556, \"#d8576b\"], [0.6666666666666666, \"#ed7953\"], [0.7777777777777778, \"#fb9f3a\"], [0.8888888888888888, \"#fdca26\"], [1.0, \"#f0f921\"]], \"type\": \"heatmap\"}], \"heatmapgl\": [{\"colorbar\": {\"outlinewidth\": 0, \"ticks\": \"\"}, \"colorscale\": [[0.0, \"#0d0887\"], [0.1111111111111111, \"#46039f\"], [0.2222222222222222, \"#7201a8\"], [0.3333333333333333, \"#9c179e\"], [0.4444444444444444, \"#bd3786\"], [0.5555555555555556, \"#d8576b\"], [0.6666666666666666, \"#ed7953\"], [0.7777777777777778, \"#fb9f3a\"], [0.8888888888888888, \"#fdca26\"], [1.0, \"#f0f921\"]], \"type\": \"heatmapgl\"}], \"histogram\": [{\"marker\": {\"colorbar\": {\"outlinewidth\": 0, \"ticks\": \"\"}}, \"type\": \"histogram\"}], \"histogram2d\": [{\"colorbar\": {\"outlinewidth\": 0, \"ticks\": \"\"}, \"colorscale\": [[0.0, \"#0d0887\"], [0.1111111111111111, \"#46039f\"], [0.2222222222222222, \"#7201a8\"], [0.3333333333333333, \"#9c179e\"], [0.4444444444444444, \"#bd3786\"], [0.5555555555555556, \"#d8576b\"], [0.6666666666666666, \"#ed7953\"], [0.7777777777777778, \"#fb9f3a\"], [0.8888888888888888, \"#fdca26\"], [1.0, \"#f0f921\"]], \"type\": \"histogram2d\"}], \"histogram2dcontour\": [{\"colorbar\": {\"outlinewidth\": 0, \"ticks\": \"\"}, \"colorscale\": [[0.0, \"#0d0887\"], [0.1111111111111111, \"#46039f\"], [0.2222222222222222, \"#7201a8\"], [0.3333333333333333, \"#9c179e\"], [0.4444444444444444, \"#bd3786\"], [0.5555555555555556, \"#d8576b\"], [0.6666666666666666, \"#ed7953\"], [0.7777777777777778, \"#fb9f3a\"], [0.8888888888888888, \"#fdca26\"], [1.0, \"#f0f921\"]], \"type\": \"histogram2dcontour\"}], \"mesh3d\": [{\"colorbar\": {\"outlinewidth\": 0, \"ticks\": \"\"}, \"type\": \"mesh3d\"}], \"parcoords\": [{\"line\": {\"colorbar\": {\"outlinewidth\": 0, \"ticks\": \"\"}}, \"type\": \"parcoords\"}], \"pie\": [{\"automargin\": true, \"type\": \"pie\"}], \"scatter\": [{\"marker\": {\"colorbar\": {\"outlinewidth\": 0, \"ticks\": \"\"}}, \"type\": \"scatter\"}], \"scatter3d\": [{\"line\": {\"colorbar\": {\"outlinewidth\": 0, \"ticks\": \"\"}}, \"marker\": {\"colorbar\": {\"outlinewidth\": 0, \"ticks\": \"\"}}, \"type\": \"scatter3d\"}], \"scattercarpet\": [{\"marker\": {\"colorbar\": {\"outlinewidth\": 0, \"ticks\": \"\"}}, \"type\": \"scattercarpet\"}], \"scattergeo\": [{\"marker\": {\"colorbar\": {\"outlinewidth\": 0, \"ticks\": \"\"}}, \"type\": \"scattergeo\"}], \"scattergl\": [{\"marker\": {\"colorbar\": {\"outlinewidth\": 0, \"ticks\": \"\"}}, \"type\": \"scattergl\"}], \"scattermapbox\": [{\"marker\": {\"colorbar\": {\"outlinewidth\": 0, \"ticks\": \"\"}}, \"type\": \"scattermapbox\"}], \"scatterpolar\": [{\"marker\": {\"colorbar\": {\"outlinewidth\": 0, \"ticks\": \"\"}}, \"type\": \"scatterpolar\"}], \"scatterpolargl\": [{\"marker\": {\"colorbar\": {\"outlinewidth\": 0, \"ticks\": \"\"}}, \"type\": \"scatterpolargl\"}], \"scatterternary\": [{\"marker\": {\"colorbar\": {\"outlinewidth\": 0, \"ticks\": \"\"}}, \"type\": \"scatterternary\"}], \"surface\": [{\"colorbar\": {\"outlinewidth\": 0, \"ticks\": \"\"}, \"colorscale\": [[0.0, \"#0d0887\"], [0.1111111111111111, \"#46039f\"], [0.2222222222222222, \"#7201a8\"], [0.3333333333333333, \"#9c179e\"], [0.4444444444444444, \"#bd3786\"], [0.5555555555555556, \"#d8576b\"], [0.6666666666666666, \"#ed7953\"], [0.7777777777777778, \"#fb9f3a\"], [0.8888888888888888, \"#fdca26\"], [1.0, \"#f0f921\"]], \"type\": \"surface\"}], \"table\": [{\"cells\": {\"fill\": {\"color\": \"#EBF0F8\"}, \"line\": {\"color\": \"white\"}}, \"header\": {\"fill\": {\"color\": \"#C8D4E3\"}, \"line\": {\"color\": \"white\"}}, \"type\": \"table\"}]}, \"layout\": {\"annotationdefaults\": {\"arrowcolor\": \"#2a3f5f\", \"arrowhead\": 0, \"arrowwidth\": 1}, \"coloraxis\": {\"colorbar\": {\"outlinewidth\": 0, \"ticks\": \"\"}}, \"colorscale\": {\"diverging\": [[0, \"#8e0152\"], [0.1, \"#c51b7d\"], [0.2, \"#de77ae\"], [0.3, \"#f1b6da\"], [0.4, \"#fde0ef\"], [0.5, \"#f7f7f7\"], [0.6, \"#e6f5d0\"], [0.7, \"#b8e186\"], [0.8, \"#7fbc41\"], [0.9, \"#4d9221\"], [1, \"#276419\"]], \"sequential\": [[0.0, \"#0d0887\"], [0.1111111111111111, \"#46039f\"], [0.2222222222222222, \"#7201a8\"], [0.3333333333333333, \"#9c179e\"], [0.4444444444444444, \"#bd3786\"], [0.5555555555555556, \"#d8576b\"], [0.6666666666666666, \"#ed7953\"], [0.7777777777777778, \"#fb9f3a\"], [0.8888888888888888, \"#fdca26\"], [1.0, \"#f0f921\"]], \"sequentialminus\": [[0.0, \"#0d0887\"], [0.1111111111111111, \"#46039f\"], [0.2222222222222222, \"#7201a8\"], [0.3333333333333333, \"#9c179e\"], [0.4444444444444444, \"#bd3786\"], [0.5555555555555556, \"#d8576b\"], [0.6666666666666666, \"#ed7953\"], [0.7777777777777778, \"#fb9f3a\"], [0.8888888888888888, \"#fdca26\"], [1.0, \"#f0f921\"]]}, \"colorway\": [\"#636efa\", \"#EF553B\", \"#00cc96\", \"#ab63fa\", \"#FFA15A\", \"#19d3f3\", \"#FF6692\", \"#B6E880\", \"#FF97FF\", \"#FECB52\"], \"font\": {\"color\": \"#2a3f5f\"}, \"geo\": {\"bgcolor\": \"white\", \"lakecolor\": \"white\", \"landcolor\": \"#E5ECF6\", \"showlakes\": true, \"showland\": true, \"subunitcolor\": \"white\"}, \"hoverlabel\": {\"align\": \"left\"}, \"hovermode\": \"closest\", \"mapbox\": {\"style\": \"light\"}, \"paper_bgcolor\": \"white\", \"plot_bgcolor\": \"#E5ECF6\", \"polar\": {\"angularaxis\": {\"gridcolor\": \"white\", \"linecolor\": \"white\", \"ticks\": \"\"}, \"bgcolor\": \"#E5ECF6\", \"radialaxis\": {\"gridcolor\": \"white\", \"linecolor\": \"white\", \"ticks\": \"\"}}, \"scene\": {\"xaxis\": {\"backgroundcolor\": \"#E5ECF6\", \"gridcolor\": \"white\", \"gridwidth\": 2, \"linecolor\": \"white\", \"showbackground\": true, \"ticks\": \"\", \"zerolinecolor\": \"white\"}, \"yaxis\": {\"backgroundcolor\": \"#E5ECF6\", \"gridcolor\": \"white\", \"gridwidth\": 2, \"linecolor\": \"white\", \"showbackground\": true, \"ticks\": \"\", \"zerolinecolor\": \"white\"}, \"zaxis\": {\"backgroundcolor\": \"#E5ECF6\", \"gridcolor\": \"white\", \"gridwidth\": 2, \"linecolor\": \"white\", \"showbackground\": true, \"ticks\": \"\", \"zerolinecolor\": \"white\"}}, \"shapedefaults\": {\"line\": {\"color\": \"#2a3f5f\"}}, \"ternary\": {\"aaxis\": {\"gridcolor\": \"white\", \"linecolor\": \"white\", \"ticks\": \"\"}, \"baxis\": {\"gridcolor\": \"white\", \"linecolor\": \"white\", \"ticks\": \"\"}, \"bgcolor\": \"#E5ECF6\", \"caxis\": {\"gridcolor\": \"white\", \"linecolor\": \"white\", \"ticks\": \"\"}}, \"title\": {\"x\": 0.05}, \"xaxis\": {\"automargin\": true, \"gridcolor\": \"white\", \"linecolor\": \"white\", \"ticks\": \"\", \"title\": {\"standoff\": 15}, \"zerolinecolor\": \"white\", \"zerolinewidth\": 2}, \"yaxis\": {\"automargin\": true, \"gridcolor\": \"white\", \"linecolor\": \"white\", \"ticks\": \"\", \"title\": {\"standoff\": 15}, \"zerolinecolor\": \"white\", \"zerolinewidth\": 2}}}, \"title\": {\"text\": \"Piechart Boroughs\"}},\n",
              "                        {\"responsive\": true}\n",
              "                    ).then(function(){\n",
              "                            \n",
              "var gd = document.getElementById('554c3180-9b60-4d3c-bd08-c7909e73f71e');\n",
              "var x = new MutationObserver(function (mutations, observer) {{\n",
              "        var display = window.getComputedStyle(gd).display;\n",
              "        if (!display || display === 'none') {{\n",
              "            console.log([gd, 'removed!']);\n",
              "            Plotly.purge(gd);\n",
              "            observer.disconnect();\n",
              "        }}\n",
              "}});\n",
              "\n",
              "// Listen for the removal of the full notebook cells\n",
              "var notebookContainer = gd.closest('#notebook-container');\n",
              "if (notebookContainer) {{\n",
              "    x.observe(notebookContainer, {childList: true});\n",
              "}}\n",
              "\n",
              "// Listen for the clearing of the current output cell\n",
              "var outputEl = gd.closest('.output');\n",
              "if (outputEl) {{\n",
              "    x.observe(outputEl, {childList: true});\n",
              "}}\n",
              "\n",
              "                        })\n",
              "                };\n",
              "                \n",
              "            </script>\n",
              "        </div>\n",
              "</body>\n",
              "</html>"
            ]
          },
          "metadata": {}
        }
      ]
    },
    {
      "cell_type": "code",
      "metadata": {
        "colab": {
          "base_uri": "https://localhost:8080/",
          "height": 0
        },
        "id": "q1v6OuW5ygbe",
        "outputId": "b0255b0d-c4c1-4380-f424-939823568606"
      },
      "source": [
        "import plotly.express as px\n",
        "fig = px.pie(pie_borough, values='Frecuencia', \\\n",
        "             names=pie_borough.index, title='Piechart Boroughs')\n",
        "fig.update_traces(textposition='inside', textinfo='percent+label')\n",
        "fig.show()"
      ],
      "execution_count": 13,
      "outputs": [
        {
          "output_type": "display_data",
          "data": {
            "text/html": [
              "<html>\n",
              "<head><meta charset=\"utf-8\" /></head>\n",
              "<body>\n",
              "    <div>\n",
              "            <script src=\"https://cdnjs.cloudflare.com/ajax/libs/mathjax/2.7.5/MathJax.js?config=TeX-AMS-MML_SVG\"></script><script type=\"text/javascript\">if (window.MathJax) {MathJax.Hub.Config({SVG: {font: \"STIX-Web\"}});}</script>\n",
              "                <script type=\"text/javascript\">window.PlotlyConfig = {MathJaxConfig: 'local'};</script>\n",
              "        <script src=\"https://cdn.plot.ly/plotly-latest.min.js\"></script>    \n",
              "            <div id=\"c2f5a6c1-3c6a-4c76-a19b-e83412915b62\" class=\"plotly-graph-div\" style=\"height:525px; width:100%;\"></div>\n",
              "            <script type=\"text/javascript\">\n",
              "                \n",
              "                    window.PLOTLYENV=window.PLOTLYENV || {};\n",
              "                    \n",
              "                if (document.getElementById(\"c2f5a6c1-3c6a-4c76-a19b-e83412915b62\")) {\n",
              "                    Plotly.newPlot(\n",
              "                        'c2f5a6c1-3c6a-4c76-a19b-e83412915b62',\n",
              "                        [{\"domain\": {\"x\": [0.0, 1.0], \"y\": [0.0, 1.0]}, \"hoverlabel\": {\"namelength\": 0}, \"hovertemplate\": \"label=%{label}<br>Frecuencia=%{value}\", \"labels\": [\"BRONX\", \"BROOKLYN\", \"MANHATTAN\", \"QUEENS\", \"STATEN ISLAND\"], \"legendgroup\": \"\", \"name\": \"\", \"showlegend\": true, \"textinfo\": \"percent+label\", \"textposition\": \"inside\", \"type\": \"pie\", \"values\": [37709, 76253, 48749, 67120, 8691]}],\n",
              "                        {\"legend\": {\"tracegroupgap\": 0}, \"template\": {\"data\": {\"bar\": [{\"error_x\": {\"color\": \"#2a3f5f\"}, \"error_y\": {\"color\": \"#2a3f5f\"}, \"marker\": {\"line\": {\"color\": \"#E5ECF6\", \"width\": 0.5}}, \"type\": \"bar\"}], \"barpolar\": [{\"marker\": {\"line\": {\"color\": \"#E5ECF6\", \"width\": 0.5}}, \"type\": \"barpolar\"}], \"carpet\": [{\"aaxis\": {\"endlinecolor\": \"#2a3f5f\", \"gridcolor\": \"white\", \"linecolor\": \"white\", \"minorgridcolor\": \"white\", \"startlinecolor\": \"#2a3f5f\"}, \"baxis\": {\"endlinecolor\": \"#2a3f5f\", \"gridcolor\": \"white\", \"linecolor\": \"white\", \"minorgridcolor\": \"white\", \"startlinecolor\": \"#2a3f5f\"}, \"type\": \"carpet\"}], \"choropleth\": [{\"colorbar\": {\"outlinewidth\": 0, \"ticks\": \"\"}, \"type\": \"choropleth\"}], \"contour\": [{\"colorbar\": {\"outlinewidth\": 0, \"ticks\": \"\"}, \"colorscale\": [[0.0, \"#0d0887\"], [0.1111111111111111, \"#46039f\"], [0.2222222222222222, \"#7201a8\"], [0.3333333333333333, \"#9c179e\"], [0.4444444444444444, \"#bd3786\"], [0.5555555555555556, \"#d8576b\"], [0.6666666666666666, \"#ed7953\"], [0.7777777777777778, \"#fb9f3a\"], [0.8888888888888888, \"#fdca26\"], [1.0, \"#f0f921\"]], \"type\": \"contour\"}], \"contourcarpet\": [{\"colorbar\": {\"outlinewidth\": 0, \"ticks\": \"\"}, \"type\": \"contourcarpet\"}], \"heatmap\": [{\"colorbar\": {\"outlinewidth\": 0, \"ticks\": \"\"}, \"colorscale\": [[0.0, \"#0d0887\"], [0.1111111111111111, \"#46039f\"], [0.2222222222222222, \"#7201a8\"], [0.3333333333333333, \"#9c179e\"], [0.4444444444444444, \"#bd3786\"], [0.5555555555555556, \"#d8576b\"], [0.6666666666666666, \"#ed7953\"], [0.7777777777777778, \"#fb9f3a\"], [0.8888888888888888, \"#fdca26\"], [1.0, \"#f0f921\"]], \"type\": \"heatmap\"}], \"heatmapgl\": [{\"colorbar\": {\"outlinewidth\": 0, \"ticks\": \"\"}, \"colorscale\": [[0.0, \"#0d0887\"], [0.1111111111111111, \"#46039f\"], [0.2222222222222222, \"#7201a8\"], [0.3333333333333333, \"#9c179e\"], [0.4444444444444444, \"#bd3786\"], [0.5555555555555556, \"#d8576b\"], [0.6666666666666666, \"#ed7953\"], [0.7777777777777778, \"#fb9f3a\"], [0.8888888888888888, \"#fdca26\"], [1.0, \"#f0f921\"]], \"type\": \"heatmapgl\"}], \"histogram\": [{\"marker\": {\"colorbar\": {\"outlinewidth\": 0, \"ticks\": \"\"}}, \"type\": \"histogram\"}], \"histogram2d\": [{\"colorbar\": {\"outlinewidth\": 0, \"ticks\": \"\"}, \"colorscale\": [[0.0, \"#0d0887\"], [0.1111111111111111, \"#46039f\"], [0.2222222222222222, \"#7201a8\"], [0.3333333333333333, \"#9c179e\"], [0.4444444444444444, \"#bd3786\"], [0.5555555555555556, \"#d8576b\"], [0.6666666666666666, \"#ed7953\"], [0.7777777777777778, \"#fb9f3a\"], [0.8888888888888888, \"#fdca26\"], [1.0, \"#f0f921\"]], \"type\": \"histogram2d\"}], \"histogram2dcontour\": [{\"colorbar\": {\"outlinewidth\": 0, \"ticks\": \"\"}, \"colorscale\": [[0.0, \"#0d0887\"], [0.1111111111111111, \"#46039f\"], [0.2222222222222222, \"#7201a8\"], [0.3333333333333333, \"#9c179e\"], [0.4444444444444444, \"#bd3786\"], [0.5555555555555556, \"#d8576b\"], [0.6666666666666666, \"#ed7953\"], [0.7777777777777778, \"#fb9f3a\"], [0.8888888888888888, \"#fdca26\"], [1.0, \"#f0f921\"]], \"type\": \"histogram2dcontour\"}], \"mesh3d\": [{\"colorbar\": {\"outlinewidth\": 0, \"ticks\": \"\"}, \"type\": \"mesh3d\"}], \"parcoords\": [{\"line\": {\"colorbar\": {\"outlinewidth\": 0, \"ticks\": \"\"}}, \"type\": \"parcoords\"}], \"pie\": [{\"automargin\": true, \"type\": \"pie\"}], \"scatter\": [{\"marker\": {\"colorbar\": {\"outlinewidth\": 0, \"ticks\": \"\"}}, \"type\": \"scatter\"}], \"scatter3d\": [{\"line\": {\"colorbar\": {\"outlinewidth\": 0, \"ticks\": \"\"}}, \"marker\": {\"colorbar\": {\"outlinewidth\": 0, \"ticks\": \"\"}}, \"type\": \"scatter3d\"}], \"scattercarpet\": [{\"marker\": {\"colorbar\": {\"outlinewidth\": 0, \"ticks\": \"\"}}, \"type\": \"scattercarpet\"}], \"scattergeo\": [{\"marker\": {\"colorbar\": {\"outlinewidth\": 0, \"ticks\": \"\"}}, \"type\": \"scattergeo\"}], \"scattergl\": [{\"marker\": {\"colorbar\": {\"outlinewidth\": 0, \"ticks\": \"\"}}, \"type\": \"scattergl\"}], \"scattermapbox\": [{\"marker\": {\"colorbar\": {\"outlinewidth\": 0, \"ticks\": \"\"}}, \"type\": \"scattermapbox\"}], \"scatterpolar\": [{\"marker\": {\"colorbar\": {\"outlinewidth\": 0, \"ticks\": \"\"}}, \"type\": \"scatterpolar\"}], \"scatterpolargl\": [{\"marker\": {\"colorbar\": {\"outlinewidth\": 0, \"ticks\": \"\"}}, \"type\": \"scatterpolargl\"}], \"scatterternary\": [{\"marker\": {\"colorbar\": {\"outlinewidth\": 0, \"ticks\": \"\"}}, \"type\": \"scatterternary\"}], \"surface\": [{\"colorbar\": {\"outlinewidth\": 0, \"ticks\": \"\"}, \"colorscale\": [[0.0, \"#0d0887\"], [0.1111111111111111, \"#46039f\"], [0.2222222222222222, \"#7201a8\"], [0.3333333333333333, \"#9c179e\"], [0.4444444444444444, \"#bd3786\"], [0.5555555555555556, \"#d8576b\"], [0.6666666666666666, \"#ed7953\"], [0.7777777777777778, \"#fb9f3a\"], [0.8888888888888888, \"#fdca26\"], [1.0, \"#f0f921\"]], \"type\": \"surface\"}], \"table\": [{\"cells\": {\"fill\": {\"color\": \"#EBF0F8\"}, \"line\": {\"color\": \"white\"}}, \"header\": {\"fill\": {\"color\": \"#C8D4E3\"}, \"line\": {\"color\": \"white\"}}, \"type\": \"table\"}]}, \"layout\": {\"annotationdefaults\": {\"arrowcolor\": \"#2a3f5f\", \"arrowhead\": 0, \"arrowwidth\": 1}, \"coloraxis\": {\"colorbar\": {\"outlinewidth\": 0, \"ticks\": \"\"}}, \"colorscale\": {\"diverging\": [[0, \"#8e0152\"], [0.1, \"#c51b7d\"], [0.2, \"#de77ae\"], [0.3, \"#f1b6da\"], [0.4, \"#fde0ef\"], [0.5, \"#f7f7f7\"], [0.6, \"#e6f5d0\"], [0.7, \"#b8e186\"], [0.8, \"#7fbc41\"], [0.9, \"#4d9221\"], [1, \"#276419\"]], \"sequential\": [[0.0, \"#0d0887\"], [0.1111111111111111, \"#46039f\"], [0.2222222222222222, \"#7201a8\"], [0.3333333333333333, \"#9c179e\"], [0.4444444444444444, \"#bd3786\"], [0.5555555555555556, \"#d8576b\"], [0.6666666666666666, \"#ed7953\"], [0.7777777777777778, \"#fb9f3a\"], [0.8888888888888888, \"#fdca26\"], [1.0, \"#f0f921\"]], \"sequentialminus\": [[0.0, \"#0d0887\"], [0.1111111111111111, \"#46039f\"], [0.2222222222222222, \"#7201a8\"], [0.3333333333333333, \"#9c179e\"], [0.4444444444444444, \"#bd3786\"], [0.5555555555555556, \"#d8576b\"], [0.6666666666666666, \"#ed7953\"], [0.7777777777777778, \"#fb9f3a\"], [0.8888888888888888, \"#fdca26\"], [1.0, \"#f0f921\"]]}, \"colorway\": [\"#636efa\", \"#EF553B\", \"#00cc96\", \"#ab63fa\", \"#FFA15A\", \"#19d3f3\", \"#FF6692\", \"#B6E880\", \"#FF97FF\", \"#FECB52\"], \"font\": {\"color\": \"#2a3f5f\"}, \"geo\": {\"bgcolor\": \"white\", \"lakecolor\": \"white\", \"landcolor\": \"#E5ECF6\", \"showlakes\": true, \"showland\": true, \"subunitcolor\": \"white\"}, \"hoverlabel\": {\"align\": \"left\"}, \"hovermode\": \"closest\", \"mapbox\": {\"style\": \"light\"}, \"paper_bgcolor\": \"white\", \"plot_bgcolor\": \"#E5ECF6\", \"polar\": {\"angularaxis\": {\"gridcolor\": \"white\", \"linecolor\": \"white\", \"ticks\": \"\"}, \"bgcolor\": \"#E5ECF6\", \"radialaxis\": {\"gridcolor\": \"white\", \"linecolor\": \"white\", \"ticks\": \"\"}}, \"scene\": {\"xaxis\": {\"backgroundcolor\": \"#E5ECF6\", \"gridcolor\": \"white\", \"gridwidth\": 2, \"linecolor\": \"white\", \"showbackground\": true, \"ticks\": \"\", \"zerolinecolor\": \"white\"}, \"yaxis\": {\"backgroundcolor\": \"#E5ECF6\", \"gridcolor\": \"white\", \"gridwidth\": 2, \"linecolor\": \"white\", \"showbackground\": true, \"ticks\": \"\", \"zerolinecolor\": \"white\"}, \"zaxis\": {\"backgroundcolor\": \"#E5ECF6\", \"gridcolor\": \"white\", \"gridwidth\": 2, \"linecolor\": \"white\", \"showbackground\": true, \"ticks\": \"\", \"zerolinecolor\": \"white\"}}, \"shapedefaults\": {\"line\": {\"color\": \"#2a3f5f\"}}, \"ternary\": {\"aaxis\": {\"gridcolor\": \"white\", \"linecolor\": \"white\", \"ticks\": \"\"}, \"baxis\": {\"gridcolor\": \"white\", \"linecolor\": \"white\", \"ticks\": \"\"}, \"bgcolor\": \"#E5ECF6\", \"caxis\": {\"gridcolor\": \"white\", \"linecolor\": \"white\", \"ticks\": \"\"}}, \"title\": {\"x\": 0.05}, \"xaxis\": {\"automargin\": true, \"gridcolor\": \"white\", \"linecolor\": \"white\", \"ticks\": \"\", \"title\": {\"standoff\": 15}, \"zerolinecolor\": \"white\", \"zerolinewidth\": 2}, \"yaxis\": {\"automargin\": true, \"gridcolor\": \"white\", \"linecolor\": \"white\", \"ticks\": \"\", \"title\": {\"standoff\": 15}, \"zerolinecolor\": \"white\", \"zerolinewidth\": 2}}}, \"title\": {\"text\": \"Piechart Boroughs\"}},\n",
              "                        {\"responsive\": true}\n",
              "                    ).then(function(){\n",
              "                            \n",
              "var gd = document.getElementById('c2f5a6c1-3c6a-4c76-a19b-e83412915b62');\n",
              "var x = new MutationObserver(function (mutations, observer) {{\n",
              "        var display = window.getComputedStyle(gd).display;\n",
              "        if (!display || display === 'none') {{\n",
              "            console.log([gd, 'removed!']);\n",
              "            Plotly.purge(gd);\n",
              "            observer.disconnect();\n",
              "        }}\n",
              "}});\n",
              "\n",
              "// Listen for the removal of the full notebook cells\n",
              "var notebookContainer = gd.closest('#notebook-container');\n",
              "if (notebookContainer) {{\n",
              "    x.observe(notebookContainer, {childList: true});\n",
              "}}\n",
              "\n",
              "// Listen for the clearing of the current output cell\n",
              "var outputEl = gd.closest('.output');\n",
              "if (outputEl) {{\n",
              "    x.observe(outputEl, {childList: true});\n",
              "}}\n",
              "\n",
              "                        })\n",
              "                };\n",
              "                \n",
              "            </script>\n",
              "        </div>\n",
              "</body>\n",
              "</html>"
            ]
          },
          "metadata": {}
        }
      ]
    },
    {
      "cell_type": "markdown",
      "metadata": {
        "id": "e2iTV4Q4ymZU"
      },
      "source": [
        "# Medidas de tendencia central\n",
        "\n",
        "\n",
        "---\n",
        "\n",
        "\n",
        "# Media\n",
        "x¯=∑ni=1xin \n",
        "\n",
        "Para el caso de datos discretos agrupados:\n",
        "\n",
        "x¯=∑jxjfr(xj) \n",
        "\n",
        "Para datos agrupados en clases, la media se calcula suponiendo que todos los datos de cada clase son idénticos al centro de la clase, con lo que, llamando mj a estos valores centrales y fr (mj) a la frecuencia relativa de la clase j, la fórmula se reduce a:\n",
        "\n",
        "x¯=∑jmjfr(mj) \n",
        "\n",
        "# Media geometrica\n",
        " Muy utilizada en lo que son tasas de interes y aspectos financieros\n",
        "\n",
        "B=x1∗x2∗⋯∗xn−−−−−−−−−−−−−√ \n",
        "\n",
        "#Media armonica\n",
        " Se usa usualmente para calcular promedios espacio temporales\n",
        "\n",
        "C=n∑ni=11xi \n",
        "\n",
        "#La media armonica\n",
        " siempre es la menor de las tres, la aritmetica la mayor y la geometrica un valor intermedio:\n",
        "\n",
        "C < B < x¯ \n",
        "\n",
        "\n",
        "#Media recortada\n",
        " Es simplemente la media removiendo en la parte inferior y superior de los datos ordenados cierto porcentaje de los datos\n",
        "\n",
        "#Mediana y moda\n",
        " La mediana es un valor tal que, ordenados en magnitud los datos, el 50% es menor que ella y el 50% mayor. Por tanto, al ordenar los datos sin agrupar, la mediana es el valor central, si su número es impar, o la media de los dos centrales, si hay un número par\n",
        "\n",
        "Para datos agrupados discretos se toma como mediana el valor xm tal que\n",
        "fr(x≤xa)< 0.5 \n",
        "fr(x≤xb) >0.5 \n",
        "\n",
        "La moda simplemente es el valor mas frecuente"
      ]
    },
    {
      "cell_type": "code",
      "metadata": {
        "colab": {
          "base_uri": "https://localhost:8080/"
        },
        "id": "KUMTG6urzLpy",
        "outputId": "8abdf2f6-f161-4a16-ccb2-01223d984bd8"
      },
      "source": [
        "monthly_accidents"
      ],
      "execution_count": 16,
      "outputs": [
        {
          "output_type": "execute_result",
          "data": {
            "text/plain": [
              "DATE\n",
              "2018-01    11735\n",
              "2018-02    10395\n",
              "2018-03    12519\n",
              "2018-04    11679\n",
              "2018-05    13438\n",
              "2018-06    13314\n",
              "2018-07    12787\n",
              "2018-08    12644\n",
              "2018-09    12425\n",
              "2018-10    13336\n",
              "2018-11    12447\n",
              "2018-12    12479\n",
              "2019-01    11000\n",
              "2019-02    10310\n",
              "2019-03    11482\n",
              "2019-04    10833\n",
              "2019-05    12642\n",
              "2019-06    12577\n",
              "2019-07    12014\n",
              "2019-08     8466\n",
              "Freq: M, dtype: int64"
            ]
          },
          "metadata": {},
          "execution_count": 16
        }
      ]
    },
    {
      "cell_type": "code",
      "metadata": {
        "colab": {
          "base_uri": "https://localhost:8080/"
        },
        "id": "9fPkQ_kfzchw",
        "outputId": "4f99a164-3283-4eac-c1d6-896e506e75ea"
      },
      "source": [
        "import scipy \n",
        "scipy.stats.describe(monthly_accidents)"
      ],
      "execution_count": 17,
      "outputs": [
        {
          "output_type": "execute_result",
          "data": {
            "text/plain": [
              "DescribeResult(nobs=20, minmax=(8466, 13438), mean=11926.1, variance=1518605.3578947366, skewness=-1.160513548007565, kurtosis=1.140580420470969)"
            ]
          },
          "metadata": {},
          "execution_count": 17
        }
      ]
    },
    {
      "cell_type": "code",
      "metadata": {
        "colab": {
          "base_uri": "https://localhost:8080/"
        },
        "id": "JyHtOKVxzf1C",
        "outputId": "516fb6b6-6caf-4953-ae35-2224738bf08c"
      },
      "source": [
        "scipy.stats.gmean(monthly_accidents) # Media geometrica"
      ],
      "execution_count": 18,
      "outputs": [
        {
          "output_type": "execute_result",
          "data": {
            "text/plain": [
              "11859.492451965642"
            ]
          },
          "metadata": {},
          "execution_count": 18
        }
      ]
    },
    {
      "cell_type": "code",
      "metadata": {
        "colab": {
          "base_uri": "https://localhost:8080/"
        },
        "id": "fpfEdJYMzmVz",
        "outputId": "20cea5f0-815e-4d1c-caeb-7038df8bd6ac"
      },
      "source": [
        "scipy.stats.hmean(monthly_accidents) # Media armonica"
      ],
      "execution_count": 19,
      "outputs": [
        {
          "output_type": "execute_result",
          "data": {
            "text/plain": [
              "11785.837775632142"
            ]
          },
          "metadata": {},
          "execution_count": 19
        }
      ]
    },
    {
      "cell_type": "code",
      "metadata": {
        "colab": {
          "base_uri": "https://localhost:8080/"
        },
        "id": "_J86WUjBzrzI",
        "outputId": "51f8d063-7bab-423a-ce52-87091a114ad2"
      },
      "source": [
        "scipy.stats.trim_mean(monthly_accidents,0.1) # Media recortada (Proporcion removida en cada cola 10%)"
      ],
      "execution_count": 20,
      "outputs": [
        {
          "output_type": "execute_result",
          "data": {
            "text/plain": [
              "12060.75"
            ]
          },
          "metadata": {},
          "execution_count": 20
        }
      ]
    },
    {
      "cell_type": "code",
      "metadata": {
        "colab": {
          "base_uri": "https://localhost:8080/"
        },
        "id": "wmdNCVfCzwNx",
        "outputId": "7bfb437f-5b1e-4510-983e-f5ce64b647a1"
      },
      "source": [
        "scipy.stats.mode(monthly_accidents) # Moda"
      ],
      "execution_count": 21,
      "outputs": [
        {
          "output_type": "execute_result",
          "data": {
            "text/plain": [
              "ModeResult(mode=array([8466]), count=array([1]))"
            ]
          },
          "metadata": {},
          "execution_count": 21
        }
      ]
    },
    {
      "cell_type": "markdown",
      "metadata": {
        "id": "H7x0n-b0z3CD"
      },
      "source": [
        "# Medidas de dispersion\n",
        "\n",
        "\n",
        "---\n",
        "\n",
        "\n",
        "# Desviacion tipica\n",
        "\n",
        "Promedio de las desviaciones de los datos respecto a la medida de centralización\n",
        "\n",
        "s=∑ni=1(xi−x¯)2n−1−−−−−−−−−−−−√ \n",
        "\n",
        "Para datos agrupados es:\n",
        "\n",
        "s=∑i=1n(xi−x¯)2fr(xi)−−−−−−−−−−−−−−−√ \n",
        "\n",
        "La información conjunta que proporcionan la media y la desviación típica puede precisarse de la siguiente forma: entre la media y k veces la desviación típica existe, como mínimo, el\n",
        "\n",
        "100(1−1k2)% \n",
        "\n",
        "de las observaciones.\n",
        "\n",
        "Para dos desviaciones tipicas:\n",
        "\n",
        "100(1−122)%=75% \n",
        "\n",
        "A esto se conoce como la desigualdad de Tchebychev\n",
        "\n",
        "#Coeficiente de variacion\n",
        "\n",
        "El coeficiente de variación es una medida relativa de variabilidad. En ingeniería se utiliza mucho el coeficiente inverso, |x|s , que se conoce como coeficiente señal-ruido.\n",
        "\n",
        "El coeficiente de variación en datos positivos de una población homogénea es típicamente menor que la unidad. Si este coeficiente es mayor que 1.5, conviene investigar posibles fuentes de heterogeneidad en los datos (medidas con distintos instrumentos; en personas de distinto sexo; en distintos momentos temporales, etc.).\n",
        "\n",
        "#Mediana de las desviaciones absolutas\n",
        " La mediana de las desviaciones absolutas (MEDA) que tiene la ventaja, como la mediana, de no verse afectada por datos extremos.\n",
        "\n",
        "MEDA=median|Xt−Mediana| \n",
        "\n",
        "#Rango\n",
        " Se denomina rango o recorrido de una variable la diferencia entre su valor máximo y mínimo\n",
        "\n",
        "Rango=Max(X)−Min(X) \n",
        "\n",
        "Llamaremos **percentil** p al menor valor superior al  p  de los datos. Por ejemplo, si el número de datos es impar,la mediana es el percentil 50.\n",
        "\n",
        "Llamaremos **cuartiles** a aquellos valores que dividen la distribución en cuatro partes iguales. El primer cuartil, Q1, es por definición igual al percentil 25, el segundo es la mediana y el tercero, Q3, el percentil 75, los percentiles y los cuartiles se utilizan para construir medidas de dispersión basadas en los datos ordenados, como el rango intercuartílico (IQR), que es la diferencia entre los percentiles 75 y 25.\n",
        "\n",
        "IQR=P75−P25 \n",
        "\n",
        "**Error estandar** Desviación estándar de la muestra dividida por la raíz cuadrada del tamaño de la muestra (suponiendo la independencia estadística de los valores de la muestra).\n",
        "\n",
        "SE=σn−−√"
      ]
    },
    {
      "cell_type": "code",
      "metadata": {
        "colab": {
          "base_uri": "https://localhost:8080/"
        },
        "id": "rXS079hm0dwZ",
        "outputId": "1b3aa1db-3a09-4425-c3a9-9c7be42b2664"
      },
      "source": [
        "scipy.stats.describe(monthly_accidents) # Calcular el coeficiente de variacion"
      ],
      "execution_count": 22,
      "outputs": [
        {
          "output_type": "execute_result",
          "data": {
            "text/plain": [
              "DescribeResult(nobs=20, minmax=(8466, 13438), mean=11926.1, variance=1518605.3578947366, skewness=-1.160513548007565, kurtosis=1.140580420470969)"
            ]
          },
          "metadata": {},
          "execution_count": 22
        }
      ]
    },
    {
      "cell_type": "code",
      "metadata": {
        "colab": {
          "base_uri": "https://localhost:8080/"
        },
        "id": "eAAjRLBf0hwF",
        "outputId": "63fd86e7-63e9-4449-e532-755009578a87"
      },
      "source": [
        "scipy.stats.variation(monthly_accidents) # Calcular el coeficiente de variacion"
      ],
      "execution_count": 23,
      "outputs": [
        {
          "output_type": "execute_result",
          "data": {
            "text/plain": [
              "0.10071306660647113"
            ]
          },
          "metadata": {},
          "execution_count": 23
        }
      ]
    },
    {
      "cell_type": "code",
      "metadata": {
        "colab": {
          "base_uri": "https://localhost:8080/"
        },
        "id": "pePH-xtC0lbK",
        "outputId": "54378fbd-c6d7-4360-8dd0-3983ae6035fd"
      },
      "source": [
        "scipy.stats.iqr(monthly_accidents) # Calcular el IQR"
      ],
      "execution_count": 24,
      "outputs": [
        {
          "output_type": "execute_result",
          "data": {
            "text/plain": [
              "1281.0"
            ]
          },
          "metadata": {},
          "execution_count": 24
        }
      ]
    },
    {
      "cell_type": "code",
      "metadata": {
        "colab": {
          "base_uri": "https://localhost:8080/"
        },
        "id": "PK8QMoVc0oOp",
        "outputId": "cd650895-3e4b-4565-a784-c9da649a3a4d"
      },
      "source": [
        "scipy.stats.sem(monthly_accidents) # Calcular el Error estandar"
      ],
      "execution_count": 25,
      "outputs": [
        {
          "output_type": "execute_result",
          "data": {
            "text/plain": [
              "275.5544735523937"
            ]
          },
          "metadata": {},
          "execution_count": 25
        }
      ]
    },
    {
      "cell_type": "markdown",
      "metadata": {
        "id": "zgDDDDG70w06"
      },
      "source": [
        "#Medidas de asimetria y kurtosis\n",
        "\n",
        "\n",
        "---\n",
        "\n",
        "\n",
        "Estas medidas informan sobre dos aspectos importantes de la forma de la distribución: su grado de asimetría y su grado de homogeneidad. Al ser medidas de forma, no dependen de las unidades de medida de los datos\n",
        "\n",
        "**Asimetria** En un conjunto de datos simétricos respecto a su media  x¯ , la suma  ∑(x−x¯)3  será nula, mientras que con datos asimétricos esta suma crecerá con la asimetría. Para obtener una medida adimensional, se define el coeficiente de asimetría mediante:\n",
        "\n",
        "CA=∑ni=1(xi−x¯)3ns3 \n",
        "\n",
        "Donde s es la desviación típica.\n",
        "\n",
        "El signo del coeficiente de asimetría indica la forma de la distribución.\n",
        "\n",
        "1. Si este coeficiente es negativo, la distribución se alarga para valores inferiores a la media\n",
        "\n",
        "2. Si el coeficiente es positivo, la cola de la distribución se extiende para valores superiores a la media\n",
        "\n"
      ]
    },
    {
      "cell_type": "markdown",
      "metadata": {
        "id": "BpczcMCq1Pze"
      },
      "source": [
        "**Kurtosis** es una característica de como la frecuencia relativa se reparte entre el centro y los extremos\n",
        "\n",
        "CAp=∑ni=1(xi−x¯)4ns4 \n",
        "\n",
        "Este coeficiente es siempre mayor o igual que uno. El coeficiente de curtosis es importante porque nos informa respecto a la heterogeneidad de la distribución.\n",
        "\n",
        "1. Si es muy bajo (menor de 2), indica una distribución mezclada\n",
        "2. si es muy alto (mayor de 6), indica la presencia de valores extremos atípicos."
      ]
    },
    {
      "cell_type": "markdown",
      "metadata": {
        "id": "ISA7lRtQ1YFG"
      },
      "source": [
        ""
      ]
    },
    {
      "cell_type": "code",
      "metadata": {
        "colab": {
          "base_uri": "https://localhost:8080/"
        },
        "id": "dgoNvZey1O_e",
        "outputId": "fccd2457-121d-40f5-8c59-f7e71a52318e"
      },
      "source": [
        "scipy.stats.skew(monthly_accidents) # Calcular el CA"
      ],
      "execution_count": 26,
      "outputs": [
        {
          "output_type": "execute_result",
          "data": {
            "text/plain": [
              "-1.160513548007565"
            ]
          },
          "metadata": {},
          "execution_count": 26
        }
      ]
    },
    {
      "cell_type": "code",
      "metadata": {
        "colab": {
          "base_uri": "https://localhost:8080/"
        },
        "id": "1x4tBRA51cbL",
        "outputId": "de56cbe0-2b54-4747-f7c1-027bb026c3f7"
      },
      "source": [
        "scipy.stats.kurtosis(monthly_accidents) # Calcular el CA_p"
      ],
      "execution_count": 27,
      "outputs": [
        {
          "output_type": "execute_result",
          "data": {
            "text/plain": [
              "1.140580420470969"
            ]
          },
          "metadata": {},
          "execution_count": 27
        }
      ]
    },
    {
      "cell_type": "code",
      "metadata": {
        "colab": {
          "base_uri": "https://localhost:8080/",
          "height": 333
        },
        "id": "gf7ZP6k21fDs",
        "outputId": "69a06db8-9ccd-4969-b2fe-dd40bdd68e1b"
      },
      "source": [
        "plt.hist(monthly_accidents)"
      ],
      "execution_count": 28,
      "outputs": [
        {
          "output_type": "execute_result",
          "data": {
            "text/plain": [
              "(array([1., 0., 0., 2., 1., 1., 3., 2., 7., 3.]),\n",
              " array([ 8466. ,  8963.2,  9460.4,  9957.6, 10454.8, 10952. , 11449.2,\n",
              "        11946.4, 12443.6, 12940.8, 13438. ]),\n",
              " <a list of 10 Patch objects>)"
            ]
          },
          "metadata": {},
          "execution_count": 28
        },
        {
          "output_type": "display_data",
          "data": {
            "image/png": "[encoded data removed]",
            "text/plain": [
              "<Figure size 432x288 with 1 Axes>"
            ]
          },
          "metadata": {
            "needs_background": "light"
          }
        }
      ]
    },
    {
      "cell_type": "markdown",
      "metadata": {
        "id": "qo2pm5tR1oJY"
      },
      "source": [
        "#Datos atipicos\n",
        "\n",
        "\n",
        "---\n",
        "\n",
        "\n",
        "Es muy frecuente que los datos presenten observaciones que contienen errores de medida o de transcripción o que son heterogéneas con el resto porque se han obtenido en circunstancias distintas. Llamaremos datos atípicos a estas observaciones generadas de forma distinta al resto de los datos.\n",
        "\n",
        "De muchos estudios se ha demostrado que esta proporcion puede variar entre un 1 y un 3% de una muestra. Incluso puede ser >5% si no hay cuidado en la recoleccion\n",
        "\n",
        "#Como detectarlos?\n",
        "\n",
        "1. Un criterio simple es observaciones alejadas de la media más de tres desviaciones típicas. Debido a que entre la media y tres desviaciones típicas debe estar al menos el 89% de los datos. Un problema con esta regla es que si existen varios valores atípicos muy grandes que distorsionan la media y la desviación típica, es posible que los datos atípicos no sean identificados\n",
        "\n",
        "2. Una regla mejor es utilizar valores de centralización y dispersión que estén poco afectados por valores atípicos, como la mediana y la Meda, pero presenta el inconveniente de no tener en cuenta la asimetría de la distribución\n",
        "\n",
        "x>Med±4.5∗MEDA \n",
        "\n",
        "3. Usando el rango intercuartilico\n",
        "x < Q1−1.5IQR \n",
        "x>Q3+1.5IQR \n",
        "\n",
        "**OJO:**  no siempre se deben eleminar los datos atipicos, a veces estos datos dicen mucho en un analisis descriptivo\n",
        "\n",
        "Para detectar atipicos se suele usar el diagrama de caja o boxplot"
      ]
    },
    {
      "cell_type": "code",
      "metadata": {
        "colab": {
          "base_uri": "https://localhost:8080/",
          "height": 318
        },
        "id": "gle-yGhZ2R0Q",
        "outputId": "f8f699ae-45a1-479a-a8de-d3b9d0392513"
      },
      "source": [
        "import seaborn as sns\n",
        "sns.set_theme(style=\"whitegrid\")\n",
        "ax = sns.boxplot(x=monthly_accidents)\n",
        "plt.title('Boxplot de accidentes mensuales')\n",
        "plt.xlabel('Accidentes')"
      ],
      "execution_count": 29,
      "outputs": [
        {
          "output_type": "execute_result",
          "data": {
            "text/plain": [
              "Text(0.5, 0, 'Accidentes')"
            ]
          },
          "metadata": {},
          "execution_count": 29
        },
        {
          "output_type": "display_data",
          "data": {
            "image/png": "[encoded data removed]",
            "text/plain": [
              "<Figure size 432x288 with 1 Axes>"
            ]
          },
          "metadata": {}
        }
      ]
    },
    {
      "cell_type": "code",
      "metadata": {
        "colab": {
          "base_uri": "https://localhost:8080/",
          "height": 204
        },
        "id": "sikQqwxf2aB-",
        "outputId": "6c8f4ade-f4c4-422f-d1b4-a218ecdb4499"
      },
      "source": [
        "tips = sns.load_dataset('tips')\n",
        "tips.head()"
      ],
      "execution_count": 30,
      "outputs": [
        {
          "output_type": "execute_result",
          "data": {
            "text/html": [
              "<div>\n",
              "<style scoped>\n",
              "    .dataframe tbody tr th:only-of-type {\n",
              "        vertical-align: middle;\n",
              "    }\n",
              "\n",
              "    .dataframe tbody tr th {\n",
              "        vertical-align: top;\n",
              "    }\n",
              "\n",
              "    .dataframe thead th {\n",
              "        text-align: right;\n",
              "    }\n",
              "</style>\n",
              "<table border=\"1\" class=\"dataframe\">\n",
              "  <thead>\n",
              "    <tr style=\"text-align: right;\">\n",
              "      <th></th>\n",
              "      <th>total_bill</th>\n",
              "      <th>tip</th>\n",
              "      <th>sex</th>\n",
              "      <th>smoker</th>\n",
              "      <th>day</th>\n",
              "      <th>time</th>\n",
              "      <th>size</th>\n",
              "    </tr>\n",
              "  </thead>\n",
              "  <tbody>\n",
              "    <tr>\n",
              "      <th>0</th>\n",
              "      <td>16.99</td>\n",
              "      <td>1.01</td>\n",
              "      <td>Female</td>\n",
              "      <td>No</td>\n",
              "      <td>Sun</td>\n",
              "      <td>Dinner</td>\n",
              "      <td>2</td>\n",
              "    </tr>\n",
              "    <tr>\n",
              "      <th>1</th>\n",
              "      <td>10.34</td>\n",
              "      <td>1.66</td>\n",
              "      <td>Male</td>\n",
              "      <td>No</td>\n",
              "      <td>Sun</td>\n",
              "      <td>Dinner</td>\n",
              "      <td>3</td>\n",
              "    </tr>\n",
              "    <tr>\n",
              "      <th>2</th>\n",
              "      <td>21.01</td>\n",
              "      <td>3.50</td>\n",
              "      <td>Male</td>\n",
              "      <td>No</td>\n",
              "      <td>Sun</td>\n",
              "      <td>Dinner</td>\n",
              "      <td>3</td>\n",
              "    </tr>\n",
              "    <tr>\n",
              "      <th>3</th>\n",
              "      <td>23.68</td>\n",
              "      <td>3.31</td>\n",
              "      <td>Male</td>\n",
              "      <td>No</td>\n",
              "      <td>Sun</td>\n",
              "      <td>Dinner</td>\n",
              "      <td>2</td>\n",
              "    </tr>\n",
              "    <tr>\n",
              "      <th>4</th>\n",
              "      <td>24.59</td>\n",
              "      <td>3.61</td>\n",
              "      <td>Female</td>\n",
              "      <td>No</td>\n",
              "      <td>Sun</td>\n",
              "      <td>Dinner</td>\n",
              "      <td>4</td>\n",
              "    </tr>\n",
              "  </tbody>\n",
              "</table>\n",
              "</div>"
            ],
            "text/plain": [
              "   total_bill   tip     sex smoker  day    time  size\n",
              "0       16.99  1.01  Female     No  Sun  Dinner     2\n",
              "1       10.34  1.66    Male     No  Sun  Dinner     3\n",
              "2       21.01  3.50    Male     No  Sun  Dinner     3\n",
              "3       23.68  3.31    Male     No  Sun  Dinner     2\n",
              "4       24.59  3.61  Female     No  Sun  Dinner     4"
            ]
          },
          "metadata": {},
          "execution_count": 30
        }
      ]
    },
    {
      "cell_type": "code",
      "metadata": {
        "colab": {
          "base_uri": "https://localhost:8080/",
          "height": 318
        },
        "id": "Mgwm48iP2gYL",
        "outputId": "0a2ea4a4-f063-4b33-8be1-25bb9237631e"
      },
      "source": [
        "sns.set_theme(style=\"whitegrid\")\n",
        "ax = sns.boxplot(y=tips.total_bill, x=tips.sex)\n",
        "plt.title('Boxplot de accidentes mensuales')\n",
        "plt.xlabel('Accidentes')"
      ],
      "execution_count": 31,
      "outputs": [
        {
          "output_type": "execute_result",
          "data": {
            "text/plain": [
              "Text(0.5, 0, 'Accidentes')"
            ]
          },
          "metadata": {},
          "execution_count": 31
        },
        {
          "output_type": "display_data",
          "data": {
            "image/png": "[encoded data removed]",
            "text/plain": [
              "<Figure size 432x288 with 1 Axes>"
            ]
          },
          "metadata": {}
        }
      ]
    },
    {
      "cell_type": "code",
      "metadata": {
        "colab": {
          "base_uri": "https://localhost:8080/",
          "height": 542
        },
        "id": "zgEz2jXH2lVT",
        "outputId": "f03cf9e2-56eb-42fd-a225-683d70019d12"
      },
      "source": [
        "import plotly.express as px\n",
        "fig = px.box(tips, x=\"sex\", y=\"total_bill\")\n",
        "fig.show()"
      ],
      "execution_count": 32,
      "outputs": [
        {
          "output_type": "display_data",
          "data": {
            "text/html": [
              "<html>\n",
              "<head><meta charset=\"utf-8\" /></head>\n",
              "<body>\n",
              "    <div>\n",
              "            <script src=\"https://cdnjs.cloudflare.com/ajax/libs/mathjax/2.7.5/MathJax.js?config=TeX-AMS-MML_SVG\"></script><script type=\"text/javascript\">if (window.MathJax) {MathJax.Hub.Config({SVG: {font: \"STIX-Web\"}});}</script>\n",
              "                <script type=\"text/javascript\">window.PlotlyConfig = {MathJaxConfig: 'local'};</script>\n",
              "        <script src=\"https://cdn.plot.ly/plotly-latest.min.js\"></script>    \n",
              "            <div id=\"3ab5cea5-fb53-4b6a-9aa9-ac5e5b9ff263\" class=\"plotly-graph-div\" style=\"height:525px; width:100%;\"></div>\n",
              "            <script type=\"text/javascript\">\n",
              "                \n",
              "                    window.PLOTLYENV=window.PLOTLYENV || {};\n",
              "                    \n",
              "                if (document.getElementById(\"3ab5cea5-fb53-4b6a-9aa9-ac5e5b9ff263\")) {\n",
              "                    Plotly.newPlot(\n",
              "                        '3ab5cea5-fb53-4b6a-9aa9-ac5e5b9ff263',\n",
              "                        [{\"alignmentgroup\": \"True\", \"hoverlabel\": {\"namelength\": 0}, \"hovertemplate\": \"sex=%{x}<br>total_bill=%{y}\", \"legendgroup\": \"\", \"marker\": {\"color\": \"#636efa\"}, \"name\": \"\", \"notched\": false, \"offsetgroup\": \"\", \"orientation\": \"v\", \"showlegend\": false, \"type\": \"box\", \"x\": [\"Female\", \"Male\", \"Male\", \"Male\", \"Female\", \"Male\", \"Male\", \"Male\", \"Male\", \"Male\", \"Male\", \"Female\", \"Male\", \"Male\", \"Female\", \"Male\", \"Female\", \"Male\", \"Female\", \"Male\", \"Male\", \"Female\", \"Female\", \"Male\", \"Male\", \"Male\", \"Male\", \"Male\", \"Male\", \"Female\", \"Male\", \"Male\", \"Female\", \"Female\", \"Male\", \"Male\", \"Male\", \"Female\", \"Male\", \"Male\", \"Male\", \"Male\", \"Male\", \"Male\", \"Male\", \"Male\", \"Male\", \"Male\", \"Male\", \"Male\", \"Male\", \"Female\", \"Female\", \"Male\", \"Male\", \"Male\", \"Male\", \"Female\", \"Male\", \"Male\", \"Male\", \"Male\", \"Male\", \"Male\", \"Male\", \"Male\", \"Female\", \"Female\", \"Male\", \"Male\", \"Male\", \"Female\", \"Female\", \"Female\", \"Female\", \"Male\", \"Male\", \"Male\", \"Male\", \"Male\", \"Male\", \"Male\", \"Female\", \"Male\", \"Male\", \"Female\", \"Male\", \"Male\", \"Male\", \"Male\", \"Male\", \"Male\", \"Female\", \"Female\", \"Female\", \"Male\", \"Male\", \"Male\", \"Male\", \"Male\", \"Female\", \"Female\", \"Female\", \"Female\", \"Female\", \"Male\", \"Male\", \"Male\", \"Male\", \"Female\", \"Male\", \"Female\", \"Male\", \"Male\", \"Female\", \"Female\", \"Male\", \"Female\", \"Female\", \"Female\", \"Male\", \"Female\", \"Male\", \"Male\", \"Female\", \"Female\", \"Male\", \"Female\", \"Female\", \"Male\", \"Male\", \"Female\", \"Female\", \"Female\", \"Female\", \"Female\", \"Female\", \"Female\", \"Male\", \"Female\", \"Female\", \"Male\", \"Male\", \"Female\", \"Female\", \"Female\", \"Female\", \"Female\", \"Male\", \"Male\", \"Male\", \"Male\", \"Male\", \"Male\", \"Male\", \"Female\", \"Male\", \"Female\", \"Female\", \"Male\", \"Male\", \"Male\", \"Female\", \"Male\", \"Female\", \"Male\", \"Male\", \"Male\", \"Female\", \"Female\", \"Male\", \"Male\", \"Male\", \"Male\", \"Male\", \"Male\", \"Male\", \"Male\", \"Female\", \"Male\", \"Male\", \"Male\", \"Male\", \"Male\", \"Male\", \"Male\", \"Female\", \"Male\", \"Female\", \"Male\", \"Male\", \"Female\", \"Male\", \"Male\", \"Male\", \"Male\", \"Male\", \"Female\", \"Female\", \"Male\", \"Male\", \"Female\", \"Female\", \"Female\", \"Male\", \"Female\", \"Male\", \"Male\", \"Male\", \"Female\", \"Male\", \"Male\", \"Male\", \"Female\", \"Female\", \"Female\", \"Male\", \"Male\", \"Male\", \"Female\", \"Male\", \"Female\", \"Male\", \"Female\", \"Male\", \"Female\", \"Female\", \"Male\", \"Male\", \"Female\", \"Male\", \"Male\", \"Male\", \"Male\", \"Male\", \"Male\", \"Male\", \"Male\", \"Female\", \"Male\", \"Female\", \"Male\", \"Male\", \"Female\"], \"x0\": \" \", \"xaxis\": \"x\", \"y\": [16.99, 10.34, 21.01, 23.68, 24.59, 25.29, 8.77, 26.88, 15.04, 14.78, 10.27, 35.26, 15.42, 18.43, 14.83, 21.58, 10.33, 16.29, 16.97, 20.65, 17.92, 20.29, 15.77, 39.42, 19.82, 17.81, 13.37, 12.69, 21.7, 19.65, 9.55, 18.35, 15.06, 20.69, 17.78, 24.06, 16.31, 16.93, 18.69, 31.27, 16.04, 17.46, 13.94, 9.68, 30.4, 18.29, 22.23, 32.4, 28.55, 18.04, 12.54, 10.29, 34.81, 9.94, 25.56, 19.49, 38.01, 26.41, 11.24, 48.27, 20.29, 13.81, 11.02, 18.29, 17.59, 20.08, 16.45, 3.07, 20.23, 15.01, 12.02, 17.07, 26.86, 25.28, 14.73, 10.51, 17.92, 27.2, 22.76, 17.29, 19.44, 16.66, 10.07, 32.68, 15.98, 34.83, 13.03, 18.28, 24.71, 21.16, 28.97, 22.49, 5.75, 16.32, 22.75, 40.17, 27.28, 12.03, 21.01, 12.46, 11.35, 15.38, 44.3, 22.42, 20.92, 15.36, 20.49, 25.21, 18.24, 14.31, 14.0, 7.25, 38.07, 23.95, 25.71, 17.31, 29.93, 10.65, 12.43, 24.08, 11.69, 13.42, 14.26, 15.95, 12.48, 29.8, 8.52, 14.52, 11.38, 22.82, 19.08, 20.27, 11.17, 12.26, 18.26, 8.51, 10.33, 14.15, 16.0, 13.16, 17.47, 34.3, 41.19, 27.05, 16.43, 8.35, 18.64, 11.87, 9.78, 7.51, 14.07, 13.13, 17.26, 24.55, 19.77, 29.85, 48.17, 25.0, 13.39, 16.49, 21.5, 12.66, 16.21, 13.81, 17.51, 24.52, 20.76, 31.71, 10.59, 10.63, 50.81, 15.81, 7.25, 31.85, 16.82, 32.9, 17.89, 14.48, 9.6, 34.63, 34.65, 23.33, 45.35, 23.17, 40.55, 20.69, 20.9, 30.46, 18.15, 23.1, 15.69, 19.81, 28.44, 15.48, 16.58, 7.56, 10.34, 43.11, 13.0, 13.51, 18.71, 12.74, 13.0, 16.4, 20.53, 16.47, 26.59, 38.73, 24.27, 12.76, 30.06, 25.89, 48.33, 13.27, 28.17, 12.9, 28.15, 11.59, 7.74, 30.14, 12.16, 13.42, 8.58, 15.98, 13.42, 16.27, 10.09, 20.45, 13.28, 22.12, 24.01, 15.69, 11.61, 10.77, 15.53, 10.07, 12.6, 32.83, 35.83, 29.03, 27.18, 22.67, 17.82, 18.78], \"y0\": \" \", \"yaxis\": \"y\"}],\n",
              "                        {\"boxmode\": \"group\", \"legend\": {\"tracegroupgap\": 0}, \"margin\": {\"t\": 60}, \"template\": {\"data\": {\"bar\": [{\"error_x\": {\"color\": \"#2a3f5f\"}, \"error_y\": {\"color\": \"#2a3f5f\"}, \"marker\": {\"line\": {\"color\": \"#E5ECF6\", \"width\": 0.5}}, \"type\": \"bar\"}], \"barpolar\": [{\"marker\": {\"line\": {\"color\": \"#E5ECF6\", \"width\": 0.5}}, \"type\": \"barpolar\"}], \"carpet\": [{\"aaxis\": {\"endlinecolor\": \"#2a3f5f\", \"gridcolor\": \"white\", \"linecolor\": \"white\", \"minorgridcolor\": \"white\", \"startlinecolor\": \"#2a3f5f\"}, \"baxis\": {\"endlinecolor\": \"#2a3f5f\", \"gridcolor\": \"white\", \"linecolor\": \"white\", \"minorgridcolor\": \"white\", \"startlinecolor\": \"#2a3f5f\"}, \"type\": \"carpet\"}], \"choropleth\": [{\"colorbar\": {\"outlinewidth\": 0, \"ticks\": \"\"}, \"type\": \"choropleth\"}], \"contour\": [{\"colorbar\": {\"outlinewidth\": 0, \"ticks\": \"\"}, \"colorscale\": [[0.0, \"#0d0887\"], [0.1111111111111111, \"#46039f\"], [0.2222222222222222, \"#7201a8\"], [0.3333333333333333, \"#9c179e\"], [0.4444444444444444, \"#bd3786\"], [0.5555555555555556, \"#d8576b\"], [0.6666666666666666, \"#ed7953\"], [0.7777777777777778, \"#fb9f3a\"], [0.8888888888888888, \"#fdca26\"], [1.0, \"#f0f921\"]], \"type\": \"contour\"}], \"contourcarpet\": [{\"colorbar\": {\"outlinewidth\": 0, \"ticks\": \"\"}, \"type\": \"contourcarpet\"}], \"heatmap\": [{\"colorbar\": {\"outlinewidth\": 0, \"ticks\": \"\"}, \"colorscale\": [[0.0, \"#0d0887\"], [0.1111111111111111, \"#46039f\"], [0.2222222222222222, \"#7201a8\"], [0.3333333333333333, \"#9c179e\"], [0.4444444444444444, \"#bd3786\"], [0.5555555555555556, \"#d8576b\"], [0.6666666666666666, \"#ed7953\"], [0.7777777777777778, \"#fb9f3a\"], [0.8888888888888888, \"#fdca26\"], [1.0, \"#f0f921\"]], \"type\": \"heatmap\"}], \"heatmapgl\": [{\"colorbar\": {\"outlinewidth\": 0, \"ticks\": \"\"}, \"colorscale\": [[0.0, \"#0d0887\"], [0.1111111111111111, \"#46039f\"], [0.2222222222222222, \"#7201a8\"], [0.3333333333333333, \"#9c179e\"], [0.4444444444444444, \"#bd3786\"], [0.5555555555555556, \"#d8576b\"], [0.6666666666666666, \"#ed7953\"], [0.7777777777777778, \"#fb9f3a\"], [0.8888888888888888, \"#fdca26\"], [1.0, \"#f0f921\"]], \"type\": \"heatmapgl\"}], \"histogram\": [{\"marker\": {\"colorbar\": {\"outlinewidth\": 0, \"ticks\": \"\"}}, \"type\": \"histogram\"}], \"histogram2d\": [{\"colorbar\": {\"outlinewidth\": 0, \"ticks\": \"\"}, \"colorscale\": [[0.0, \"#0d0887\"], [0.1111111111111111, \"#46039f\"], [0.2222222222222222, \"#7201a8\"], [0.3333333333333333, \"#9c179e\"], [0.4444444444444444, \"#bd3786\"], [0.5555555555555556, \"#d8576b\"], [0.6666666666666666, \"#ed7953\"], [0.7777777777777778, \"#fb9f3a\"], [0.8888888888888888, \"#fdca26\"], [1.0, \"#f0f921\"]], \"type\": \"histogram2d\"}], \"histogram2dcontour\": [{\"colorbar\": {\"outlinewidth\": 0, \"ticks\": \"\"}, \"colorscale\": [[0.0, \"#0d0887\"], [0.1111111111111111, \"#46039f\"], [0.2222222222222222, \"#7201a8\"], [0.3333333333333333, \"#9c179e\"], [0.4444444444444444, \"#bd3786\"], [0.5555555555555556, \"#d8576b\"], [0.6666666666666666, \"#ed7953\"], [0.7777777777777778, \"#fb9f3a\"], [0.8888888888888888, \"#fdca26\"], [1.0, \"#f0f921\"]], \"type\": \"histogram2dcontour\"}], \"mesh3d\": [{\"colorbar\": {\"outlinewidth\": 0, \"ticks\": \"\"}, \"type\": \"mesh3d\"}], \"parcoords\": [{\"line\": {\"colorbar\": {\"outlinewidth\": 0, \"ticks\": \"\"}}, \"type\": \"parcoords\"}], \"pie\": [{\"automargin\": true, \"type\": \"pie\"}], \"scatter\": [{\"marker\": {\"colorbar\": {\"outlinewidth\": 0, \"ticks\": \"\"}}, \"type\": \"scatter\"}], \"scatter3d\": [{\"line\": {\"colorbar\": {\"outlinewidth\": 0, \"ticks\": \"\"}}, \"marker\": {\"colorbar\": {\"outlinewidth\": 0, \"ticks\": \"\"}}, \"type\": \"scatter3d\"}], \"scattercarpet\": [{\"marker\": {\"colorbar\": {\"outlinewidth\": 0, \"ticks\": \"\"}}, \"type\": \"scattercarpet\"}], \"scattergeo\": [{\"marker\": {\"colorbar\": {\"outlinewidth\": 0, \"ticks\": \"\"}}, \"type\": \"scattergeo\"}], \"scattergl\": [{\"marker\": {\"colorbar\": {\"outlinewidth\": 0, \"ticks\": \"\"}}, \"type\": \"scattergl\"}], \"scattermapbox\": [{\"marker\": {\"colorbar\": {\"outlinewidth\": 0, \"ticks\": \"\"}}, \"type\": \"scattermapbox\"}], \"scatterpolar\": [{\"marker\": {\"colorbar\": {\"outlinewidth\": 0, \"ticks\": \"\"}}, \"type\": \"scatterpolar\"}], \"scatterpolargl\": [{\"marker\": {\"colorbar\": {\"outlinewidth\": 0, \"ticks\": \"\"}}, \"type\": \"scatterpolargl\"}], \"scatterternary\": [{\"marker\": {\"colorbar\": {\"outlinewidth\": 0, \"ticks\": \"\"}}, \"type\": \"scatterternary\"}], \"surface\": [{\"colorbar\": {\"outlinewidth\": 0, \"ticks\": \"\"}, \"colorscale\": [[0.0, \"#0d0887\"], [0.1111111111111111, \"#46039f\"], [0.2222222222222222, \"#7201a8\"], [0.3333333333333333, \"#9c179e\"], [0.4444444444444444, \"#bd3786\"], [0.5555555555555556, \"#d8576b\"], [0.6666666666666666, \"#ed7953\"], [0.7777777777777778, \"#fb9f3a\"], [0.8888888888888888, \"#fdca26\"], [1.0, \"#f0f921\"]], \"type\": \"surface\"}], \"table\": [{\"cells\": {\"fill\": {\"color\": \"#EBF0F8\"}, \"line\": {\"color\": \"white\"}}, \"header\": {\"fill\": {\"color\": \"#C8D4E3\"}, \"line\": {\"color\": \"white\"}}, \"type\": \"table\"}]}, \"layout\": {\"annotationdefaults\": {\"arrowcolor\": \"#2a3f5f\", \"arrowhead\": 0, \"arrowwidth\": 1}, \"coloraxis\": {\"colorbar\": {\"outlinewidth\": 0, \"ticks\": \"\"}}, \"colorscale\": {\"diverging\": [[0, \"#8e0152\"], [0.1, \"#c51b7d\"], [0.2, \"#de77ae\"], [0.3, \"#f1b6da\"], [0.4, \"#fde0ef\"], [0.5, \"#f7f7f7\"], [0.6, \"#e6f5d0\"], [0.7, \"#b8e186\"], [0.8, \"#7fbc41\"], [0.9, \"#4d9221\"], [1, \"#276419\"]], \"sequential\": [[0.0, \"#0d0887\"], [0.1111111111111111, \"#46039f\"], [0.2222222222222222, \"#7201a8\"], [0.3333333333333333, \"#9c179e\"], [0.4444444444444444, \"#bd3786\"], [0.5555555555555556, \"#d8576b\"], [0.6666666666666666, \"#ed7953\"], [0.7777777777777778, \"#fb9f3a\"], [0.8888888888888888, \"#fdca26\"], [1.0, \"#f0f921\"]], \"sequentialminus\": [[0.0, \"#0d0887\"], [0.1111111111111111, \"#46039f\"], [0.2222222222222222, \"#7201a8\"], [0.3333333333333333, \"#9c179e\"], [0.4444444444444444, \"#bd3786\"], [0.5555555555555556, \"#d8576b\"], [0.6666666666666666, \"#ed7953\"], [0.7777777777777778, \"#fb9f3a\"], [0.8888888888888888, \"#fdca26\"], [1.0, \"#f0f921\"]]}, \"colorway\": [\"#636efa\", \"#EF553B\", \"#00cc96\", \"#ab63fa\", \"#FFA15A\", \"#19d3f3\", \"#FF6692\", \"#B6E880\", \"#FF97FF\", \"#FECB52\"], \"font\": {\"color\": \"#2a3f5f\"}, \"geo\": {\"bgcolor\": \"white\", \"lakecolor\": \"white\", \"landcolor\": \"#E5ECF6\", \"showlakes\": true, \"showland\": true, \"subunitcolor\": \"white\"}, \"hoverlabel\": {\"align\": \"left\"}, \"hovermode\": \"closest\", \"mapbox\": {\"style\": \"light\"}, \"paper_bgcolor\": \"white\", \"plot_bgcolor\": \"#E5ECF6\", \"polar\": {\"angularaxis\": {\"gridcolor\": \"white\", \"linecolor\": \"white\", \"ticks\": \"\"}, \"bgcolor\": \"#E5ECF6\", \"radialaxis\": {\"gridcolor\": \"white\", \"linecolor\": \"white\", \"ticks\": \"\"}}, \"scene\": {\"xaxis\": {\"backgroundcolor\": \"#E5ECF6\", \"gridcolor\": \"white\", \"gridwidth\": 2, \"linecolor\": \"white\", \"showbackground\": true, \"ticks\": \"\", \"zerolinecolor\": \"white\"}, \"yaxis\": {\"backgroundcolor\": \"#E5ECF6\", \"gridcolor\": \"white\", \"gridwidth\": 2, \"linecolor\": \"white\", \"showbackground\": true, \"ticks\": \"\", \"zerolinecolor\": \"white\"}, \"zaxis\": {\"backgroundcolor\": \"#E5ECF6\", \"gridcolor\": \"white\", \"gridwidth\": 2, \"linecolor\": \"white\", \"showbackground\": true, \"ticks\": \"\", \"zerolinecolor\": \"white\"}}, \"shapedefaults\": {\"line\": {\"color\": \"#2a3f5f\"}}, \"ternary\": {\"aaxis\": {\"gridcolor\": \"white\", \"linecolor\": \"white\", \"ticks\": \"\"}, \"baxis\": {\"gridcolor\": \"white\", \"linecolor\": \"white\", \"ticks\": \"\"}, \"bgcolor\": \"#E5ECF6\", \"caxis\": {\"gridcolor\": \"white\", \"linecolor\": \"white\", \"ticks\": \"\"}}, \"title\": {\"x\": 0.05}, \"xaxis\": {\"automargin\": true, \"gridcolor\": \"white\", \"linecolor\": \"white\", \"ticks\": \"\", \"title\": {\"standoff\": 15}, \"zerolinecolor\": \"white\", \"zerolinewidth\": 2}, \"yaxis\": {\"automargin\": true, \"gridcolor\": \"white\", \"linecolor\": \"white\", \"ticks\": \"\", \"title\": {\"standoff\": 15}, \"zerolinecolor\": \"white\", \"zerolinewidth\": 2}}}, \"xaxis\": {\"anchor\": \"y\", \"domain\": [0.0, 1.0], \"title\": {\"text\": \"sex\"}}, \"yaxis\": {\"anchor\": \"x\", \"domain\": [0.0, 1.0], \"title\": {\"text\": \"total_bill\"}}},\n",
              "                        {\"responsive\": true}\n",
              "                    ).then(function(){\n",
              "                            \n",
              "var gd = document.getElementById('3ab5cea5-fb53-4b6a-9aa9-ac5e5b9ff263');\n",
              "var x = new MutationObserver(function (mutations, observer) {{\n",
              "        var display = window.getComputedStyle(gd).display;\n",
              "        if (!display || display === 'none') {{\n",
              "            console.log([gd, 'removed!']);\n",
              "            Plotly.purge(gd);\n",
              "            observer.disconnect();\n",
              "        }}\n",
              "}});\n",
              "\n",
              "// Listen for the removal of the full notebook cells\n",
              "var notebookContainer = gd.closest('#notebook-container');\n",
              "if (notebookContainer) {{\n",
              "    x.observe(notebookContainer, {childList: true});\n",
              "}}\n",
              "\n",
              "// Listen for the clearing of the current output cell\n",
              "var outputEl = gd.closest('.output');\n",
              "if (outputEl) {{\n",
              "    x.observe(outputEl, {childList: true});\n",
              "}}\n",
              "\n",
              "                        })\n",
              "                };\n",
              "                \n",
              "            </script>\n",
              "        </div>\n",
              "</body>\n",
              "</html>"
            ]
          },
          "metadata": {}
        }
      ]
    },
    {
      "cell_type": "code",
      "metadata": {
        "colab": {
          "base_uri": "https://localhost:8080/",
          "height": 542
        },
        "id": "DNyq-pCu2qt0",
        "outputId": "6dae65b6-fd4c-45d2-c98d-416f9c05f21f"
      },
      "source": [
        "fig = px.box(tips, x=\"day\", y=\"total_bill\", color=\"smoker\")\n",
        "fig.show()"
      ],
      "execution_count": 33,
      "outputs": [
        {
          "output_type": "display_data",
          "data": {
            "text/html": [
              "<html>\n",
              "<head><meta charset=\"utf-8\" /></head>\n",
              "<body>\n",
              "    <div>\n",
              "            <script src=\"https://cdnjs.cloudflare.com/ajax/libs/mathjax/2.7.5/MathJax.js?config=TeX-AMS-MML_SVG\"></script><script type=\"text/javascript\">if (window.MathJax) {MathJax.Hub.Config({SVG: {font: \"STIX-Web\"}});}</script>\n",
              "                <script type=\"text/javascript\">window.PlotlyConfig = {MathJaxConfig: 'local'};</script>\n",
              "        <script src=\"https://cdn.plot.ly/plotly-latest.min.js\"></script>    \n",
              "            <div id=\"762d6169-f97d-46f2-903b-3b9ddcf5a843\" class=\"plotly-graph-div\" style=\"height:525px; width:100%;\"></div>\n",
              "            <script type=\"text/javascript\">\n",
              "                \n",
              "                    window.PLOTLYENV=window.PLOTLYENV || {};\n",
              "                    \n",
              "                if (document.getElementById(\"762d6169-f97d-46f2-903b-3b9ddcf5a843\")) {\n",
              "                    Plotly.newPlot(\n",
              "                        '762d6169-f97d-46f2-903b-3b9ddcf5a843',\n",
              "                        [{\"alignmentgroup\": \"True\", \"hoverlabel\": {\"namelength\": 0}, \"hovertemplate\": \"smoker=No<br>day=%{x}<br>total_bill=%{y}\", \"legendgroup\": \"smoker=No\", \"marker\": {\"color\": \"#636efa\"}, \"name\": \"smoker=No\", \"notched\": false, \"offsetgroup\": \"smoker=No\", \"orientation\": \"v\", \"showlegend\": true, \"type\": \"box\", \"x\": [\"Sun\", \"Sun\", \"Sun\", \"Sun\", \"Sun\", \"Sun\", \"Sun\", \"Sun\", \"Sun\", \"Sun\", \"Sun\", \"Sun\", \"Sun\", \"Sun\", \"Sun\", \"Sun\", \"Sun\", \"Sun\", \"Sun\", \"Sat\", \"Sat\", \"Sat\", \"Sat\", \"Sat\", \"Sat\", \"Sat\", \"Sat\", \"Sat\", \"Sat\", \"Sat\", \"Sat\", \"Sat\", \"Sat\", \"Sat\", \"Sat\", \"Sat\", \"Sat\", \"Sat\", \"Sat\", \"Sat\", \"Sat\", \"Sun\", \"Sun\", \"Sun\", \"Sun\", \"Sun\", \"Sun\", \"Sun\", \"Sun\", \"Sun\", \"Sun\", \"Sun\", \"Sun\", \"Sun\", \"Sun\", \"Sun\", \"Sat\", \"Sat\", \"Sat\", \"Sat\", \"Sat\", \"Sat\", \"Sat\", \"Sat\", \"Sat\", \"Sat\", \"Thur\", \"Thur\", \"Thur\", \"Thur\", \"Thur\", \"Thur\", \"Thur\", \"Thur\", \"Thur\", \"Thur\", \"Thur\", \"Fri\", \"Fri\", \"Fri\", \"Sat\", \"Sat\", \"Sat\", \"Sat\", \"Sun\", \"Sun\", \"Sun\", \"Sun\", \"Sun\", \"Thur\", \"Thur\", \"Thur\", \"Thur\", \"Thur\", \"Thur\", \"Thur\", \"Thur\", \"Thur\", \"Thur\", \"Thur\", \"Thur\", \"Thur\", \"Thur\", \"Thur\", \"Thur\", \"Thur\", \"Thur\", \"Thur\", \"Thur\", \"Thur\", \"Thur\", \"Thur\", \"Thur\", \"Thur\", \"Thur\", \"Thur\", \"Thur\", \"Thur\", \"Thur\", \"Thur\", \"Thur\", \"Sun\", \"Sun\", \"Sun\", \"Sun\", \"Sun\", \"Sun\", \"Sun\", \"Sun\", \"Sun\", \"Sun\", \"Sun\", \"Sun\", \"Sun\", \"Sun\", \"Sun\", \"Sun\", \"Sun\", \"Sun\", \"Thur\", \"Sat\", \"Fri\", \"Sat\", \"Sat\", \"Sat\", \"Sat\", \"Sat\", \"Sat\", \"Sat\", \"Sat\", \"Thur\"], \"x0\": \" \", \"xaxis\": \"x\", \"y\": [16.99, 10.34, 21.01, 23.68, 24.59, 25.29, 8.77, 26.88, 15.04, 14.78, 10.27, 35.26, 15.42, 18.43, 14.83, 21.58, 10.33, 16.29, 16.97, 20.65, 17.92, 20.29, 15.77, 39.42, 19.82, 17.81, 13.37, 12.69, 21.7, 19.65, 9.55, 18.35, 15.06, 20.69, 17.78, 24.06, 16.31, 16.93, 18.69, 31.27, 16.04, 17.46, 13.94, 9.68, 30.4, 18.29, 22.23, 32.4, 28.55, 18.04, 12.54, 10.29, 34.81, 9.94, 25.56, 19.49, 26.41, 48.27, 17.59, 20.08, 16.45, 20.23, 12.02, 17.07, 14.73, 10.51, 27.2, 22.76, 17.29, 16.66, 10.07, 15.98, 34.83, 13.03, 18.28, 24.71, 21.16, 22.49, 22.75, 12.46, 20.92, 18.24, 14.0, 7.25, 38.07, 23.95, 25.71, 17.31, 29.93, 10.65, 12.43, 24.08, 11.69, 13.42, 14.26, 15.95, 12.48, 29.8, 8.52, 14.52, 11.38, 22.82, 19.08, 20.27, 11.17, 12.26, 18.26, 8.51, 10.33, 14.15, 13.16, 17.47, 34.3, 41.19, 27.05, 16.43, 8.35, 18.64, 11.87, 9.78, 7.51, 14.07, 13.13, 17.26, 24.55, 19.77, 29.85, 48.17, 25.0, 13.39, 16.49, 21.5, 12.66, 16.21, 13.81, 24.52, 20.76, 31.71, 20.69, 7.56, 48.33, 15.98, 20.45, 13.28, 11.61, 10.77, 10.07, 35.83, 29.03, 17.82, 18.78], \"y0\": \" \", \"yaxis\": \"y\"}, {\"alignmentgroup\": \"True\", \"hoverlabel\": {\"namelength\": 0}, \"hovertemplate\": \"smoker=Yes<br>day=%{x}<br>total_bill=%{y}\", \"legendgroup\": \"smoker=Yes\", \"marker\": {\"color\": \"#EF553B\"}, \"name\": \"smoker=Yes\", \"notched\": false, \"offsetgroup\": \"smoker=Yes\", \"orientation\": \"v\", \"showlegend\": true, \"type\": \"box\", \"x\": [\"Sat\", \"Sat\", \"Sat\", \"Sat\", \"Sat\", \"Sat\", \"Sat\", \"Sat\", \"Sat\", \"Sat\", \"Sat\", \"Thur\", \"Thur\", \"Fri\", \"Fri\", \"Fri\", \"Fri\", \"Fri\", \"Fri\", \"Fri\", \"Fri\", \"Fri\", \"Sat\", \"Sat\", \"Sat\", \"Sat\", \"Sat\", \"Sat\", \"Thur\", \"Sun\", \"Sat\", \"Sat\", \"Sat\", \"Sat\", \"Sun\", \"Sun\", \"Sun\", \"Sun\", \"Sun\", \"Sun\", \"Sun\", \"Sun\", \"Sun\", \"Sun\", \"Sun\", \"Sun\", \"Sun\", \"Sun\", \"Sun\", \"Sun\", \"Sun\", \"Sun\", \"Thur\", \"Thur\", \"Thur\", \"Thur\", \"Thur\", \"Thur\", \"Thur\", \"Thur\", \"Thur\", \"Thur\", \"Thur\", \"Thur\", \"Thur\", \"Thur\", \"Sat\", \"Sat\", \"Sat\", \"Sat\", \"Sat\", \"Sat\", \"Sat\", \"Sat\", \"Sat\", \"Sat\", \"Sat\", \"Sat\", \"Sat\", \"Fri\", \"Fri\", \"Fri\", \"Fri\", \"Fri\", \"Fri\", \"Sat\", \"Sat\", \"Sat\", \"Sat\", \"Sat\", \"Sat\", \"Sat\", \"Sat\"], \"x0\": \" \", \"xaxis\": \"x\", \"y\": [38.01, 11.24, 20.29, 13.81, 11.02, 18.29, 3.07, 15.01, 26.86, 25.28, 17.92, 19.44, 32.68, 28.97, 5.75, 16.32, 40.17, 27.28, 12.03, 21.01, 11.35, 15.38, 44.3, 22.42, 15.36, 20.49, 25.21, 14.31, 16.0, 17.51, 10.59, 10.63, 50.81, 15.81, 7.25, 31.85, 16.82, 32.9, 17.89, 14.48, 9.6, 34.63, 34.65, 23.33, 45.35, 23.17, 40.55, 20.9, 30.46, 18.15, 23.1, 15.69, 19.81, 28.44, 15.48, 16.58, 10.34, 43.11, 13.0, 13.51, 18.71, 12.74, 13.0, 16.4, 20.53, 16.47, 26.59, 38.73, 24.27, 12.76, 30.06, 25.89, 13.27, 28.17, 12.9, 28.15, 11.59, 7.74, 30.14, 12.16, 13.42, 8.58, 13.42, 16.27, 10.09, 22.12, 24.01, 15.69, 15.53, 12.6, 32.83, 27.18, 22.67], \"y0\": \" \", \"yaxis\": \"y\"}],\n",
              "                        {\"boxmode\": \"group\", \"legend\": {\"tracegroupgap\": 0}, \"margin\": {\"t\": 60}, \"template\": {\"data\": {\"bar\": [{\"error_x\": {\"color\": \"#2a3f5f\"}, \"error_y\": {\"color\": \"#2a3f5f\"}, \"marker\": {\"line\": {\"color\": \"#E5ECF6\", \"width\": 0.5}}, \"type\": \"bar\"}], \"barpolar\": [{\"marker\": {\"line\": {\"color\": \"#E5ECF6\", \"width\": 0.5}}, \"type\": \"barpolar\"}], \"carpet\": [{\"aaxis\": {\"endlinecolor\": \"#2a3f5f\", \"gridcolor\": \"white\", \"linecolor\": \"white\", \"minorgridcolor\": \"white\", \"startlinecolor\": \"#2a3f5f\"}, \"baxis\": {\"endlinecolor\": \"#2a3f5f\", \"gridcolor\": \"white\", \"linecolor\": \"white\", \"minorgridcolor\": \"white\", \"startlinecolor\": \"#2a3f5f\"}, \"type\": \"carpet\"}], \"choropleth\": [{\"colorbar\": {\"outlinewidth\": 0, \"ticks\": \"\"}, \"type\": \"choropleth\"}], \"contour\": [{\"colorbar\": {\"outlinewidth\": 0, \"ticks\": \"\"}, \"colorscale\": [[0.0, \"#0d0887\"], [0.1111111111111111, \"#46039f\"], [0.2222222222222222, \"#7201a8\"], [0.3333333333333333, \"#9c179e\"], [0.4444444444444444, \"#bd3786\"], [0.5555555555555556, \"#d8576b\"], [0.6666666666666666, \"#ed7953\"], [0.7777777777777778, \"#fb9f3a\"], [0.8888888888888888, \"#fdca26\"], [1.0, \"#f0f921\"]], \"type\": \"contour\"}], \"contourcarpet\": [{\"colorbar\": {\"outlinewidth\": 0, \"ticks\": \"\"}, \"type\": \"contourcarpet\"}], \"heatmap\": [{\"colorbar\": {\"outlinewidth\": 0, \"ticks\": \"\"}, \"colorscale\": [[0.0, \"#0d0887\"], [0.1111111111111111, \"#46039f\"], [0.2222222222222222, \"#7201a8\"], [0.3333333333333333, \"#9c179e\"], [0.4444444444444444, \"#bd3786\"], [0.5555555555555556, \"#d8576b\"], [0.6666666666666666, \"#ed7953\"], [0.7777777777777778, \"#fb9f3a\"], [0.8888888888888888, \"#fdca26\"], [1.0, \"#f0f921\"]], \"type\": \"heatmap\"}], \"heatmapgl\": [{\"colorbar\": {\"outlinewidth\": 0, \"ticks\": \"\"}, \"colorscale\": [[0.0, \"#0d0887\"], [0.1111111111111111, \"#46039f\"], [0.2222222222222222, \"#7201a8\"], [0.3333333333333333, \"#9c179e\"], [0.4444444444444444, \"#bd3786\"], [0.5555555555555556, \"#d8576b\"], [0.6666666666666666, \"#ed7953\"], [0.7777777777777778, \"#fb9f3a\"], [0.8888888888888888, \"#fdca26\"], [1.0, \"#f0f921\"]], \"type\": \"heatmapgl\"}], \"histogram\": [{\"marker\": {\"colorbar\": {\"outlinewidth\": 0, \"ticks\": \"\"}}, \"type\": \"histogram\"}], \"histogram2d\": [{\"colorbar\": {\"outlinewidth\": 0, \"ticks\": \"\"}, \"colorscale\": [[0.0, \"#0d0887\"], [0.1111111111111111, \"#46039f\"], [0.2222222222222222, \"#7201a8\"], [0.3333333333333333, \"#9c179e\"], [0.4444444444444444, \"#bd3786\"], [0.5555555555555556, \"#d8576b\"], [0.6666666666666666, \"#ed7953\"], [0.7777777777777778, \"#fb9f3a\"], [0.8888888888888888, \"#fdca26\"], [1.0, \"#f0f921\"]], \"type\": \"histogram2d\"}], \"histogram2dcontour\": [{\"colorbar\": {\"outlinewidth\": 0, \"ticks\": \"\"}, \"colorscale\": [[0.0, \"#0d0887\"], [0.1111111111111111, \"#46039f\"], [0.2222222222222222, \"#7201a8\"], [0.3333333333333333, \"#9c179e\"], [0.4444444444444444, \"#bd3786\"], [0.5555555555555556, \"#d8576b\"], [0.6666666666666666, \"#ed7953\"], [0.7777777777777778, \"#fb9f3a\"], [0.8888888888888888, \"#fdca26\"], [1.0, \"#f0f921\"]], \"type\": \"histogram2dcontour\"}], \"mesh3d\": [{\"colorbar\": {\"outlinewidth\": 0, \"ticks\": \"\"}, \"type\": \"mesh3d\"}], \"parcoords\": [{\"line\": {\"colorbar\": {\"outlinewidth\": 0, \"ticks\": \"\"}}, \"type\": \"parcoords\"}], \"pie\": [{\"automargin\": true, \"type\": \"pie\"}], \"scatter\": [{\"marker\": {\"colorbar\": {\"outlinewidth\": 0, \"ticks\": \"\"}}, \"type\": \"scatter\"}], \"scatter3d\": [{\"line\": {\"colorbar\": {\"outlinewidth\": 0, \"ticks\": \"\"}}, \"marker\": {\"colorbar\": {\"outlinewidth\": 0, \"ticks\": \"\"}}, \"type\": \"scatter3d\"}], \"scattercarpet\": [{\"marker\": {\"colorbar\": {\"outlinewidth\": 0, \"ticks\": \"\"}}, \"type\": \"scattercarpet\"}], \"scattergeo\": [{\"marker\": {\"colorbar\": {\"outlinewidth\": 0, \"ticks\": \"\"}}, \"type\": \"scattergeo\"}], \"scattergl\": [{\"marker\": {\"colorbar\": {\"outlinewidth\": 0, \"ticks\": \"\"}}, \"type\": \"scattergl\"}], \"scattermapbox\": [{\"marker\": {\"colorbar\": {\"outlinewidth\": 0, \"ticks\": \"\"}}, \"type\": \"scattermapbox\"}], \"scatterpolar\": [{\"marker\": {\"colorbar\": {\"outlinewidth\": 0, \"ticks\": \"\"}}, \"type\": \"scatterpolar\"}], \"scatterpolargl\": [{\"marker\": {\"colorbar\": {\"outlinewidth\": 0, \"ticks\": \"\"}}, \"type\": \"scatterpolargl\"}], \"scatterternary\": [{\"marker\": {\"colorbar\": {\"outlinewidth\": 0, \"ticks\": \"\"}}, \"type\": \"scatterternary\"}], \"surface\": [{\"colorbar\": {\"outlinewidth\": 0, \"ticks\": \"\"}, \"colorscale\": [[0.0, \"#0d0887\"], [0.1111111111111111, \"#46039f\"], [0.2222222222222222, \"#7201a8\"], [0.3333333333333333, \"#9c179e\"], [0.4444444444444444, \"#bd3786\"], [0.5555555555555556, \"#d8576b\"], [0.6666666666666666, \"#ed7953\"], [0.7777777777777778, \"#fb9f3a\"], [0.8888888888888888, \"#fdca26\"], [1.0, \"#f0f921\"]], \"type\": \"surface\"}], \"table\": [{\"cells\": {\"fill\": {\"color\": \"#EBF0F8\"}, \"line\": {\"color\": \"white\"}}, \"header\": {\"fill\": {\"color\": \"#C8D4E3\"}, \"line\": {\"color\": \"white\"}}, \"type\": \"table\"}]}, \"layout\": {\"annotationdefaults\": {\"arrowcolor\": \"#2a3f5f\", \"arrowhead\": 0, \"arrowwidth\": 1}, \"coloraxis\": {\"colorbar\": {\"outlinewidth\": 0, \"ticks\": \"\"}}, \"colorscale\": {\"diverging\": [[0, \"#8e0152\"], [0.1, \"#c51b7d\"], [0.2, \"#de77ae\"], [0.3, \"#f1b6da\"], [0.4, \"#fde0ef\"], [0.5, \"#f7f7f7\"], [0.6, \"#e6f5d0\"], [0.7, \"#b8e186\"], [0.8, \"#7fbc41\"], [0.9, \"#4d9221\"], [1, \"#276419\"]], \"sequential\": [[0.0, \"#0d0887\"], [0.1111111111111111, \"#46039f\"], [0.2222222222222222, \"#7201a8\"], [0.3333333333333333, \"#9c179e\"], [0.4444444444444444, \"#bd3786\"], [0.5555555555555556, \"#d8576b\"], [0.6666666666666666, \"#ed7953\"], [0.7777777777777778, \"#fb9f3a\"], [0.8888888888888888, \"#fdca26\"], [1.0, \"#f0f921\"]], \"sequentialminus\": [[0.0, \"#0d0887\"], [0.1111111111111111, \"#46039f\"], [0.2222222222222222, \"#7201a8\"], [0.3333333333333333, \"#9c179e\"], [0.4444444444444444, \"#bd3786\"], [0.5555555555555556, \"#d8576b\"], [0.6666666666666666, \"#ed7953\"], [0.7777777777777778, \"#fb9f3a\"], [0.8888888888888888, \"#fdca26\"], [1.0, \"#f0f921\"]]}, \"colorway\": [\"#636efa\", \"#EF553B\", \"#00cc96\", \"#ab63fa\", \"#FFA15A\", \"#19d3f3\", \"#FF6692\", \"#B6E880\", \"#FF97FF\", \"#FECB52\"], \"font\": {\"color\": \"#2a3f5f\"}, \"geo\": {\"bgcolor\": \"white\", \"lakecolor\": \"white\", \"landcolor\": \"#E5ECF6\", \"showlakes\": true, \"showland\": true, \"subunitcolor\": \"white\"}, \"hoverlabel\": {\"align\": \"left\"}, \"hovermode\": \"closest\", \"mapbox\": {\"style\": \"light\"}, \"paper_bgcolor\": \"white\", \"plot_bgcolor\": \"#E5ECF6\", \"polar\": {\"angularaxis\": {\"gridcolor\": \"white\", \"linecolor\": \"white\", \"ticks\": \"\"}, \"bgcolor\": \"#E5ECF6\", \"radialaxis\": {\"gridcolor\": \"white\", \"linecolor\": \"white\", \"ticks\": \"\"}}, \"scene\": {\"xaxis\": {\"backgroundcolor\": \"#E5ECF6\", \"gridcolor\": \"white\", \"gridwidth\": 2, \"linecolor\": \"white\", \"showbackground\": true, \"ticks\": \"\", \"zerolinecolor\": \"white\"}, \"yaxis\": {\"backgroundcolor\": \"#E5ECF6\", \"gridcolor\": \"white\", \"gridwidth\": 2, \"linecolor\": \"white\", \"showbackground\": true, \"ticks\": \"\", \"zerolinecolor\": \"white\"}, \"zaxis\": {\"backgroundcolor\": \"#E5ECF6\", \"gridcolor\": \"white\", \"gridwidth\": 2, \"linecolor\": \"white\", \"showbackground\": true, \"ticks\": \"\", \"zerolinecolor\": \"white\"}}, \"shapedefaults\": {\"line\": {\"color\": \"#2a3f5f\"}}, \"ternary\": {\"aaxis\": {\"gridcolor\": \"white\", \"linecolor\": \"white\", \"ticks\": \"\"}, \"baxis\": {\"gridcolor\": \"white\", \"linecolor\": \"white\", \"ticks\": \"\"}, \"bgcolor\": \"#E5ECF6\", \"caxis\": {\"gridcolor\": \"white\", \"linecolor\": \"white\", \"ticks\": \"\"}}, \"title\": {\"x\": 0.05}, \"xaxis\": {\"automargin\": true, \"gridcolor\": \"white\", \"linecolor\": \"white\", \"ticks\": \"\", \"title\": {\"standoff\": 15}, \"zerolinecolor\": \"white\", \"zerolinewidth\": 2}, \"yaxis\": {\"automargin\": true, \"gridcolor\": \"white\", \"linecolor\": \"white\", \"ticks\": \"\", \"title\": {\"standoff\": 15}, \"zerolinecolor\": \"white\", \"zerolinewidth\": 2}}}, \"xaxis\": {\"anchor\": \"y\", \"domain\": [0.0, 1.0], \"title\": {\"text\": \"day\"}}, \"yaxis\": {\"anchor\": \"x\", \"domain\": [0.0, 1.0], \"title\": {\"text\": \"total_bill\"}}},\n",
              "                        {\"responsive\": true}\n",
              "                    ).then(function(){\n",
              "                            \n",
              "var gd = document.getElementById('762d6169-f97d-46f2-903b-3b9ddcf5a843');\n",
              "var x = new MutationObserver(function (mutations, observer) {{\n",
              "        var display = window.getComputedStyle(gd).display;\n",
              "        if (!display || display === 'none') {{\n",
              "            console.log([gd, 'removed!']);\n",
              "            Plotly.purge(gd);\n",
              "            observer.disconnect();\n",
              "        }}\n",
              "}});\n",
              "\n",
              "// Listen for the removal of the full notebook cells\n",
              "var notebookContainer = gd.closest('#notebook-container');\n",
              "if (notebookContainer) {{\n",
              "    x.observe(notebookContainer, {childList: true});\n",
              "}}\n",
              "\n",
              "// Listen for the clearing of the current output cell\n",
              "var outputEl = gd.closest('.output');\n",
              "if (outputEl) {{\n",
              "    x.observe(outputEl, {childList: true});\n",
              "}}\n",
              "\n",
              "                        })\n",
              "                };\n",
              "                \n",
              "            </script>\n",
              "        </div>\n",
              "</body>\n",
              "</html>"
            ]
          },
          "metadata": {}
        }
      ]
    },
    {
      "cell_type": "markdown",
      "metadata": {
        "id": "W448VEpK2yjw"
      },
      "source": [
        "# Transformaciones lineales\n",
        "\n",
        "Tienen la forma:\n",
        "y=mx+b\n",
        "\n",
        "#tranformaciones no lineales\n",
        "\n",
        "#Transformacion de Box-Cox\n",
        "\n",
        "La familia de transformaciones de Box-Cox arregla problemas de normalidad y heterocedasticidad (no homogeneidad de varianzas). Suponga que tenemos los datos  y1,y2,…,yn  para una variable respuesta  Y . Si el cociente entre el valor más grande observado de  Y  y la más pequeña es considerablemente grande, por decir, 10 o más, se debe considerar la posibilidad de transformar la variable respuesta  Y .\n",
        "\n",
        "W=Yλ−1λ,λ≠0 \n",
        "\n",
        "W=ln(Y),λ=0"
      ]
    },
    {
      "cell_type": "code",
      "metadata": {
        "colab": {
          "base_uri": "https://localhost:8080/",
          "height": 204
        },
        "id": "rhDkrWik3Nlz",
        "outputId": "0080d216-280e-45c3-e361-8465721e2144"
      },
      "source": [
        "tips = sns.load_dataset('tips')\n",
        "tips.head()"
      ],
      "execution_count": 34,
      "outputs": [
        {
          "output_type": "execute_result",
          "data": {
            "text/html": [
              "<div>\n",
              "<style scoped>\n",
              "    .dataframe tbody tr th:only-of-type {\n",
              "        vertical-align: middle;\n",
              "    }\n",
              "\n",
              "    .dataframe tbody tr th {\n",
              "        vertical-align: top;\n",
              "    }\n",
              "\n",
              "    .dataframe thead th {\n",
              "        text-align: right;\n",
              "    }\n",
              "</style>\n",
              "<table border=\"1\" class=\"dataframe\">\n",
              "  <thead>\n",
              "    <tr style=\"text-align: right;\">\n",
              "      <th></th>\n",
              "      <th>total_bill</th>\n",
              "      <th>tip</th>\n",
              "      <th>sex</th>\n",
              "      <th>smoker</th>\n",
              "      <th>day</th>\n",
              "      <th>time</th>\n",
              "      <th>size</th>\n",
              "    </tr>\n",
              "  </thead>\n",
              "  <tbody>\n",
              "    <tr>\n",
              "      <th>0</th>\n",
              "      <td>16.99</td>\n",
              "      <td>1.01</td>\n",
              "      <td>Female</td>\n",
              "      <td>No</td>\n",
              "      <td>Sun</td>\n",
              "      <td>Dinner</td>\n",
              "      <td>2</td>\n",
              "    </tr>\n",
              "    <tr>\n",
              "      <th>1</th>\n",
              "      <td>10.34</td>\n",
              "      <td>1.66</td>\n",
              "      <td>Male</td>\n",
              "      <td>No</td>\n",
              "      <td>Sun</td>\n",
              "      <td>Dinner</td>\n",
              "      <td>3</td>\n",
              "    </tr>\n",
              "    <tr>\n",
              "      <th>2</th>\n",
              "      <td>21.01</td>\n",
              "      <td>3.50</td>\n",
              "      <td>Male</td>\n",
              "      <td>No</td>\n",
              "      <td>Sun</td>\n",
              "      <td>Dinner</td>\n",
              "      <td>3</td>\n",
              "    </tr>\n",
              "    <tr>\n",
              "      <th>3</th>\n",
              "      <td>23.68</td>\n",
              "      <td>3.31</td>\n",
              "      <td>Male</td>\n",
              "      <td>No</td>\n",
              "      <td>Sun</td>\n",
              "      <td>Dinner</td>\n",
              "      <td>2</td>\n",
              "    </tr>\n",
              "    <tr>\n",
              "      <th>4</th>\n",
              "      <td>24.59</td>\n",
              "      <td>3.61</td>\n",
              "      <td>Female</td>\n",
              "      <td>No</td>\n",
              "      <td>Sun</td>\n",
              "      <td>Dinner</td>\n",
              "      <td>4</td>\n",
              "    </tr>\n",
              "  </tbody>\n",
              "</table>\n",
              "</div>"
            ],
            "text/plain": [
              "   total_bill   tip     sex smoker  day    time  size\n",
              "0       16.99  1.01  Female     No  Sun  Dinner     2\n",
              "1       10.34  1.66    Male     No  Sun  Dinner     3\n",
              "2       21.01  3.50    Male     No  Sun  Dinner     3\n",
              "3       23.68  3.31    Male     No  Sun  Dinner     2\n",
              "4       24.59  3.61  Female     No  Sun  Dinner     4"
            ]
          },
          "metadata": {},
          "execution_count": 34
        }
      ]
    },
    {
      "cell_type": "code",
      "metadata": {
        "colab": {
          "base_uri": "https://localhost:8080/"
        },
        "id": "MHYMYQ9LCIJn",
        "outputId": "a235b242-2c27-49db-a8e4-19d63fd8f53e"
      },
      "source": [
        "'''\n",
        "tips['total_bill']         promedio, mediana\n",
        "np.log(tips['total_bill'])  promedio, median\n",
        "'''\n",
        "#promedio\n",
        "pro = tips['total_bill'].mean()\n",
        "pro\n"
      ],
      "execution_count": 55,
      "outputs": [
        {
          "output_type": "execute_result",
          "data": {
            "text/plain": [
              "19.785942622950824"
            ]
          },
          "metadata": {},
          "execution_count": 55
        }
      ]
    },
    {
      "cell_type": "code",
      "metadata": {
        "colab": {
          "base_uri": "https://localhost:8080/"
        },
        "id": "jWRYrCmXCnew",
        "outputId": "5755bfbe-0477-4bf6-af3b-e108ad91254e"
      },
      "source": [
        "#mediana\n",
        "me = tips['total_bill'].median()\n",
        "me"
      ],
      "execution_count": 57,
      "outputs": [
        {
          "output_type": "execute_result",
          "data": {
            "text/plain": [
              "17.795"
            ]
          },
          "metadata": {},
          "execution_count": 57
        }
      ]
    },
    {
      "cell_type": "code",
      "metadata": {
        "colab": {
          "base_uri": "https://localhost:8080/"
        },
        "id": "XpSIrK2vDbWl",
        "outputId": "eb11d12f-e285-404e-e5fc-ed130664ea54"
      },
      "source": [
        "np.log(tips['total_bill']).mean()"
      ],
      "execution_count": 59,
      "outputs": [
        {
          "output_type": "execute_result",
          "data": {
            "text/plain": [
              "2.890310261375113"
            ]
          },
          "metadata": {},
          "execution_count": 59
        }
      ]
    },
    {
      "cell_type": "code",
      "metadata": {
        "colab": {
          "base_uri": "https://localhost:8080/"
        },
        "id": "_rx4pmLJDiPf",
        "outputId": "e7926a2b-b603-4761-d5ba-c742fab47d34"
      },
      "source": [
        "np.log(tips['total_bill']).median()"
      ],
      "execution_count": 60,
      "outputs": [
        {
          "output_type": "execute_result",
          "data": {
            "text/plain": [
              "2.8789171636936643"
            ]
          },
          "metadata": {},
          "execution_count": 60
        }
      ]
    },
    {
      "cell_type": "code",
      "metadata": {
        "colab": {
          "base_uri": "https://localhost:8080/",
          "height": 304
        },
        "id": "XJIxVGTz3Q-N",
        "outputId": "e7f11392-7965-4909-d304-683e7b3859cb"
      },
      "source": [
        "sns.histplot(tips.total_bill)"
      ],
      "execution_count": 35,
      "outputs": [
        {
          "output_type": "execute_result",
          "data": {
            "text/plain": [
              "<matplotlib.axes._subplots.AxesSubplot at 0x7f83bda91e90>"
            ]
          },
          "metadata": {},
          "execution_count": 35
        },
        {
          "output_type": "display_data",
          "data": {
            "image/png": "[encoded data removed]",
            "text/plain": [
              "<Figure size 432x288 with 1 Axes>"
            ]
          },
          "metadata": {}
        }
      ]
    },
    {
      "cell_type": "code",
      "metadata": {
        "colab": {
          "base_uri": "https://localhost:8080/",
          "height": 302
        },
        "id": "neSukfVA3h3C",
        "outputId": "d5cc68eb-f95f-4317-bef7-c7566e147d37"
      },
      "source": [
        "import numpy as np\n",
        "sns.histplot(np.log(tips.total_bill))"
      ],
      "execution_count": 36,
      "outputs": [
        {
          "output_type": "execute_result",
          "data": {
            "text/plain": [
              "<matplotlib.axes._subplots.AxesSubplot at 0x7f83bf0fd110>"
            ]
          },
          "metadata": {},
          "execution_count": 36
        },
        {
          "output_type": "display_data",
          "data": {
            "image/png": "[encoded data removed]",
            "text/plain": [
              "<Figure size 432x288 with 1 Axes>"
            ]
          },
          "metadata": {}
        }
      ]
    },
    {
      "cell_type": "markdown",
      "metadata": {
        "id": "HmraSvYy3nHB"
      },
      "source": [
        "#Descripcion conjunta de varias variables\n",
        "**Distribucion conjunta** Llamaremos distribución conjunta de frecuencias de dos variables (x, y) a una tabla que representa los valores observados de ambas variables y las frecuencias relativas de aparición de cada par de valores"
      ]
    },
    {
      "cell_type": "code",
      "metadata": {
        "colab": {
          "base_uri": "https://localhost:8080/",
          "height": 360
        },
        "id": "BOTegAzH3usQ",
        "outputId": "61ecbaa1-6963-41cf-868a-95f846665481"
      },
      "source": [
        "df=pd.read_csv('accidents.csv',delimiter=\";\")\n",
        "df.head()"
      ],
      "execution_count": 37,
      "outputs": [
        {
          "output_type": "execute_result",
          "data": {
            "text/html": [
              "<div>\n",
              "<style scoped>\n",
              "    .dataframe tbody tr th:only-of-type {\n",
              "        vertical-align: middle;\n",
              "    }\n",
              "\n",
              "    .dataframe tbody tr th {\n",
              "        vertical-align: top;\n",
              "    }\n",
              "\n",
              "    .dataframe thead th {\n",
              "        text-align: right;\n",
              "    }\n",
              "</style>\n",
              "<table border=\"1\" class=\"dataframe\">\n",
              "  <thead>\n",
              "    <tr style=\"text-align: right;\">\n",
              "      <th></th>\n",
              "      <th>DATE</th>\n",
              "      <th>TIME</th>\n",
              "      <th>BOROUGH</th>\n",
              "      <th>ZIP CODE</th>\n",
              "      <th>LATITUDE</th>\n",
              "      <th>LONGITUDE</th>\n",
              "      <th>ON STREET NAME</th>\n",
              "      <th>NUMBER OF PEDESTRIANS INJURED</th>\n",
              "      <th>NUMBER OF PEDESTRIANS KILLED</th>\n",
              "      <th>NUMBER OF CYCLIST INJURED</th>\n",
              "      <th>NUMBER OF CYCLIST KILLED</th>\n",
              "      <th>NUMBER OF MOTORIST INJURED</th>\n",
              "      <th>NUMBER OF MOTORIST KILLED</th>\n",
              "      <th>CONTRIBUTING FACTOR VEHICLE 1</th>\n",
              "      <th>CONTRIBUTING FACTOR VEHICLE 2</th>\n",
              "      <th>CONTRIBUTING FACTOR VEHICLE 3</th>\n",
              "      <th>CONTRIBUTING FACTOR VEHICLE 4</th>\n",
              "      <th>CONTRIBUTING FACTOR VEHICLE 5</th>\n",
              "      <th>COLLISION_ID</th>\n",
              "      <th>VEHICLE TYPE CODE 1</th>\n",
              "      <th>VEHICLE TYPE CODE 2</th>\n",
              "      <th>VEHICLE TYPE CODE 3</th>\n",
              "      <th>VEHICLE TYPE CODE 4</th>\n",
              "      <th>VEHICLE TYPE CODE 5</th>\n",
              "    </tr>\n",
              "  </thead>\n",
              "  <tbody>\n",
              "    <tr>\n",
              "      <th>0</th>\n",
              "      <td>09/26/2018</td>\n",
              "      <td>12:12</td>\n",
              "      <td>BRONX</td>\n",
              "      <td>10454.0</td>\n",
              "      <td>40.808987</td>\n",
              "      <td>-73.911316</td>\n",
              "      <td>NaN</td>\n",
              "      <td>0</td>\n",
              "      <td>0</td>\n",
              "      <td>0</td>\n",
              "      <td>0</td>\n",
              "      <td>0</td>\n",
              "      <td>0</td>\n",
              "      <td>Unspecified</td>\n",
              "      <td>NaN</td>\n",
              "      <td>NaN</td>\n",
              "      <td>NaN</td>\n",
              "      <td>NaN</td>\n",
              "      <td>3988123</td>\n",
              "      <td>Sedan</td>\n",
              "      <td>NaN</td>\n",
              "      <td>NaN</td>\n",
              "      <td>NaN</td>\n",
              "      <td>NaN</td>\n",
              "    </tr>\n",
              "    <tr>\n",
              "      <th>1</th>\n",
              "      <td>09/25/2018</td>\n",
              "      <td>16:30</td>\n",
              "      <td>BROOKLYN</td>\n",
              "      <td>11236.0</td>\n",
              "      <td>40.636005</td>\n",
              "      <td>-73.912510</td>\n",
              "      <td>FLATLANDS AVENUE</td>\n",
              "      <td>1</td>\n",
              "      <td>0</td>\n",
              "      <td>0</td>\n",
              "      <td>0</td>\n",
              "      <td>0</td>\n",
              "      <td>0</td>\n",
              "      <td>Unspecified</td>\n",
              "      <td>NaN</td>\n",
              "      <td>NaN</td>\n",
              "      <td>NaN</td>\n",
              "      <td>NaN</td>\n",
              "      <td>3987962</td>\n",
              "      <td>Sedan</td>\n",
              "      <td>NaN</td>\n",
              "      <td>NaN</td>\n",
              "      <td>NaN</td>\n",
              "      <td>NaN</td>\n",
              "    </tr>\n",
              "    <tr>\n",
              "      <th>2</th>\n",
              "      <td>08/22/2019</td>\n",
              "      <td>19:30</td>\n",
              "      <td>QUEENS</td>\n",
              "      <td>11101.0</td>\n",
              "      <td>40.755490</td>\n",
              "      <td>-73.939530</td>\n",
              "      <td>NaN</td>\n",
              "      <td>0</td>\n",
              "      <td>0</td>\n",
              "      <td>0</td>\n",
              "      <td>0</td>\n",
              "      <td>0</td>\n",
              "      <td>0</td>\n",
              "      <td>Unspecified</td>\n",
              "      <td>NaN</td>\n",
              "      <td>NaN</td>\n",
              "      <td>NaN</td>\n",
              "      <td>NaN</td>\n",
              "      <td>4193132</td>\n",
              "      <td>Sedan</td>\n",
              "      <td>NaN</td>\n",
              "      <td>NaN</td>\n",
              "      <td>NaN</td>\n",
              "      <td>NaN</td>\n",
              "    </tr>\n",
              "    <tr>\n",
              "      <th>3</th>\n",
              "      <td>09/23/2018</td>\n",
              "      <td>13:10</td>\n",
              "      <td>QUEENS</td>\n",
              "      <td>11367.0</td>\n",
              "      <td>NaN</td>\n",
              "      <td>NaN</td>\n",
              "      <td>MAIN STREET</td>\n",
              "      <td>0</td>\n",
              "      <td>0</td>\n",
              "      <td>1</td>\n",
              "      <td>0</td>\n",
              "      <td>0</td>\n",
              "      <td>0</td>\n",
              "      <td>Driver Inattention/Distraction</td>\n",
              "      <td>Unspecified</td>\n",
              "      <td>NaN</td>\n",
              "      <td>NaN</td>\n",
              "      <td>NaN</td>\n",
              "      <td>3985962</td>\n",
              "      <td>Bike</td>\n",
              "      <td>Station Wagon/Sport Utility Vehicle</td>\n",
              "      <td>NaN</td>\n",
              "      <td>NaN</td>\n",
              "      <td>NaN</td>\n",
              "    </tr>\n",
              "    <tr>\n",
              "      <th>4</th>\n",
              "      <td>08/20/2019</td>\n",
              "      <td>22:40</td>\n",
              "      <td>BRONX</td>\n",
              "      <td>10468.0</td>\n",
              "      <td>40.868336</td>\n",
              "      <td>-73.901270</td>\n",
              "      <td>NaN</td>\n",
              "      <td>0</td>\n",
              "      <td>0</td>\n",
              "      <td>0</td>\n",
              "      <td>0</td>\n",
              "      <td>1</td>\n",
              "      <td>0</td>\n",
              "      <td>View Obstructed/Limited</td>\n",
              "      <td>Unspecified</td>\n",
              "      <td>NaN</td>\n",
              "      <td>NaN</td>\n",
              "      <td>NaN</td>\n",
              "      <td>4192111</td>\n",
              "      <td>Sedan</td>\n",
              "      <td>Sedan</td>\n",
              "      <td>NaN</td>\n",
              "      <td>NaN</td>\n",
              "      <td>NaN</td>\n",
              "    </tr>\n",
              "  </tbody>\n",
              "</table>\n",
              "</div>"
            ],
            "text/plain": [
              "         DATE   TIME  ... VEHICLE TYPE CODE 4  VEHICLE TYPE CODE 5\n",
              "0  09/26/2018  12:12  ...                 NaN                  NaN\n",
              "1  09/25/2018  16:30  ...                 NaN                  NaN\n",
              "2  08/22/2019  19:30  ...                 NaN                  NaN\n",
              "3  09/23/2018  13:10  ...                 NaN                  NaN\n",
              "4  08/20/2019  22:40  ...                 NaN                  NaN\n",
              "\n",
              "[5 rows x 24 columns]"
            ]
          },
          "metadata": {},
          "execution_count": 37
        }
      ]
    },
    {
      "cell_type": "code",
      "metadata": {
        "colab": {
          "base_uri": "https://localhost:8080/",
          "height": 371
        },
        "id": "q04WEIYe3zar",
        "outputId": "04760225-0641-4e0d-e234-a9f5b5cbd6f0"
      },
      "source": [
        "data_crosstab = pd.crosstab(df['BOROUGH'],\n",
        "                            df['CONTRIBUTING FACTOR VEHICLE 1'], \n",
        "                               margins = True)\n",
        "data_crosstab"
      ],
      "execution_count": 38,
      "outputs": [
        {
          "output_type": "execute_result",
          "data": {
            "text/html": [
              "<div>\n",
              "<style scoped>\n",
              "    .dataframe tbody tr th:only-of-type {\n",
              "        vertical-align: middle;\n",
              "    }\n",
              "\n",
              "    .dataframe tbody tr th {\n",
              "        vertical-align: top;\n",
              "    }\n",
              "\n",
              "    .dataframe thead th {\n",
              "        text-align: right;\n",
              "    }\n",
              "</style>\n",
              "<table border=\"1\" class=\"dataframe\">\n",
              "  <thead>\n",
              "    <tr style=\"text-align: right;\">\n",
              "      <th>CONTRIBUTING FACTOR VEHICLE 1</th>\n",
              "      <th>Accelerator Defective</th>\n",
              "      <th>Aggressive Driving/Road Rage</th>\n",
              "      <th>Alcohol Involvement</th>\n",
              "      <th>Animals Action</th>\n",
              "      <th>Backing Unsafely</th>\n",
              "      <th>Brakes Defective</th>\n",
              "      <th>Cell Phone (hand-Held)</th>\n",
              "      <th>Cell Phone (hands-free)</th>\n",
              "      <th>Driver Inattention/Distraction</th>\n",
              "      <th>Driver Inexperience</th>\n",
              "      <th>Driverless/Runaway Vehicle</th>\n",
              "      <th>Drugs (illegal)</th>\n",
              "      <th>Eating or Drinking</th>\n",
              "      <th>Failure to Keep Right</th>\n",
              "      <th>Failure to Yield Right-of-Way</th>\n",
              "      <th>Fatigued/Drowsy</th>\n",
              "      <th>Fell Asleep</th>\n",
              "      <th>Following Too Closely</th>\n",
              "      <th>Glare</th>\n",
              "      <th>Headlights Defective</th>\n",
              "      <th>Illnes</th>\n",
              "      <th>Lane Marking Improper/Inadequate</th>\n",
              "      <th>Listening/Using Headphones</th>\n",
              "      <th>Lost Consciousness</th>\n",
              "      <th>Obstruction/Debris</th>\n",
              "      <th>Other Electronic Device</th>\n",
              "      <th>Other Lighting Defects</th>\n",
              "      <th>Other Vehicular</th>\n",
              "      <th>Outside Car Distraction</th>\n",
              "      <th>Oversized Vehicle</th>\n",
              "      <th>Passenger Distraction</th>\n",
              "      <th>Passing Too Closely</th>\n",
              "      <th>Passing or Lane Usage Improper</th>\n",
              "      <th>Pavement Defective</th>\n",
              "      <th>Pavement Slippery</th>\n",
              "      <th>Pedestrian/Bicyclist/Other Pedestrian Error/Confusion</th>\n",
              "      <th>Physical Disability</th>\n",
              "      <th>Prescription Medication</th>\n",
              "      <th>Reaction to Uninvolved Vehicle</th>\n",
              "      <th>Shoulders Defective/Improper</th>\n",
              "      <th>Steering Failure</th>\n",
              "      <th>Texting</th>\n",
              "      <th>Tinted Windows</th>\n",
              "      <th>Tire Failure/Inadequate</th>\n",
              "      <th>Tow Hitch Defective</th>\n",
              "      <th>Traffic Control Device Improper/Non-Working</th>\n",
              "      <th>Traffic Control Disregarded</th>\n",
              "      <th>Turning Improperly</th>\n",
              "      <th>Unsafe Lane Changing</th>\n",
              "      <th>Unsafe Speed</th>\n",
              "      <th>Unspecified</th>\n",
              "      <th>Using On Board Navigation Device</th>\n",
              "      <th>Vehicle Vandalism</th>\n",
              "      <th>View Obstructed/Limited</th>\n",
              "      <th>Windshield Inadequate</th>\n",
              "      <th>All</th>\n",
              "    </tr>\n",
              "    <tr>\n",
              "      <th>BOROUGH</th>\n",
              "      <th></th>\n",
              "      <th></th>\n",
              "      <th></th>\n",
              "      <th></th>\n",
              "      <th></th>\n",
              "      <th></th>\n",
              "      <th></th>\n",
              "      <th></th>\n",
              "      <th></th>\n",
              "      <th></th>\n",
              "      <th></th>\n",
              "      <th></th>\n",
              "      <th></th>\n",
              "      <th></th>\n",
              "      <th></th>\n",
              "      <th></th>\n",
              "      <th></th>\n",
              "      <th></th>\n",
              "      <th></th>\n",
              "      <th></th>\n",
              "      <th></th>\n",
              "      <th></th>\n",
              "      <th></th>\n",
              "      <th></th>\n",
              "      <th></th>\n",
              "      <th></th>\n",
              "      <th></th>\n",
              "      <th></th>\n",
              "      <th></th>\n",
              "      <th></th>\n",
              "      <th></th>\n",
              "      <th></th>\n",
              "      <th></th>\n",
              "      <th></th>\n",
              "      <th></th>\n",
              "      <th></th>\n",
              "      <th></th>\n",
              "      <th></th>\n",
              "      <th></th>\n",
              "      <th></th>\n",
              "      <th></th>\n",
              "      <th></th>\n",
              "      <th></th>\n",
              "      <th></th>\n",
              "      <th></th>\n",
              "      <th></th>\n",
              "      <th></th>\n",
              "      <th></th>\n",
              "      <th></th>\n",
              "      <th></th>\n",
              "      <th></th>\n",
              "      <th></th>\n",
              "      <th></th>\n",
              "      <th></th>\n",
              "      <th></th>\n",
              "      <th></th>\n",
              "    </tr>\n",
              "  </thead>\n",
              "  <tbody>\n",
              "    <tr>\n",
              "      <th>BRONX</th>\n",
              "      <td>16</td>\n",
              "      <td>231</td>\n",
              "      <td>421</td>\n",
              "      <td>28</td>\n",
              "      <td>2309</td>\n",
              "      <td>165</td>\n",
              "      <td>23</td>\n",
              "      <td>2</td>\n",
              "      <td>6280</td>\n",
              "      <td>531</td>\n",
              "      <td>57</td>\n",
              "      <td>21</td>\n",
              "      <td>1</td>\n",
              "      <td>46</td>\n",
              "      <td>2190</td>\n",
              "      <td>42</td>\n",
              "      <td>93</td>\n",
              "      <td>2194</td>\n",
              "      <td>102</td>\n",
              "      <td>2</td>\n",
              "      <td>42</td>\n",
              "      <td>22</td>\n",
              "      <td>0</td>\n",
              "      <td>28</td>\n",
              "      <td>76</td>\n",
              "      <td>7</td>\n",
              "      <td>5</td>\n",
              "      <td>2315</td>\n",
              "      <td>85</td>\n",
              "      <td>240</td>\n",
              "      <td>113</td>\n",
              "      <td>2035</td>\n",
              "      <td>1388</td>\n",
              "      <td>36</td>\n",
              "      <td>353</td>\n",
              "      <td>321</td>\n",
              "      <td>9</td>\n",
              "      <td>8</td>\n",
              "      <td>420</td>\n",
              "      <td>4</td>\n",
              "      <td>64</td>\n",
              "      <td>1</td>\n",
              "      <td>6</td>\n",
              "      <td>36</td>\n",
              "      <td>5</td>\n",
              "      <td>18</td>\n",
              "      <td>750</td>\n",
              "      <td>1177</td>\n",
              "      <td>1002</td>\n",
              "      <td>602</td>\n",
              "      <td>11175</td>\n",
              "      <td>3</td>\n",
              "      <td>4</td>\n",
              "      <td>423</td>\n",
              "      <td>1</td>\n",
              "      <td>37528</td>\n",
              "    </tr>\n",
              "    <tr>\n",
              "      <th>BROOKLYN</th>\n",
              "      <td>49</td>\n",
              "      <td>312</td>\n",
              "      <td>790</td>\n",
              "      <td>40</td>\n",
              "      <td>4150</td>\n",
              "      <td>277</td>\n",
              "      <td>23</td>\n",
              "      <td>4</td>\n",
              "      <td>17111</td>\n",
              "      <td>1252</td>\n",
              "      <td>66</td>\n",
              "      <td>34</td>\n",
              "      <td>8</td>\n",
              "      <td>78</td>\n",
              "      <td>5914</td>\n",
              "      <td>56</td>\n",
              "      <td>200</td>\n",
              "      <td>4636</td>\n",
              "      <td>104</td>\n",
              "      <td>2</td>\n",
              "      <td>90</td>\n",
              "      <td>37</td>\n",
              "      <td>2</td>\n",
              "      <td>65</td>\n",
              "      <td>120</td>\n",
              "      <td>9</td>\n",
              "      <td>15</td>\n",
              "      <td>1770</td>\n",
              "      <td>141</td>\n",
              "      <td>567</td>\n",
              "      <td>257</td>\n",
              "      <td>3858</td>\n",
              "      <td>3087</td>\n",
              "      <td>113</td>\n",
              "      <td>501</td>\n",
              "      <td>484</td>\n",
              "      <td>16</td>\n",
              "      <td>4</td>\n",
              "      <td>819</td>\n",
              "      <td>0</td>\n",
              "      <td>107</td>\n",
              "      <td>4</td>\n",
              "      <td>6</td>\n",
              "      <td>80</td>\n",
              "      <td>10</td>\n",
              "      <td>31</td>\n",
              "      <td>1302</td>\n",
              "      <td>1629</td>\n",
              "      <td>1317</td>\n",
              "      <td>926</td>\n",
              "      <td>22766</td>\n",
              "      <td>4</td>\n",
              "      <td>10</td>\n",
              "      <td>682</td>\n",
              "      <td>3</td>\n",
              "      <td>75938</td>\n",
              "    </tr>\n",
              "    <tr>\n",
              "      <th>MANHATTAN</th>\n",
              "      <td>15</td>\n",
              "      <td>189</td>\n",
              "      <td>302</td>\n",
              "      <td>14</td>\n",
              "      <td>2135</td>\n",
              "      <td>108</td>\n",
              "      <td>12</td>\n",
              "      <td>2</td>\n",
              "      <td>14045</td>\n",
              "      <td>926</td>\n",
              "      <td>40</td>\n",
              "      <td>19</td>\n",
              "      <td>1</td>\n",
              "      <td>76</td>\n",
              "      <td>2389</td>\n",
              "      <td>26</td>\n",
              "      <td>53</td>\n",
              "      <td>3348</td>\n",
              "      <td>46</td>\n",
              "      <td>0</td>\n",
              "      <td>31</td>\n",
              "      <td>32</td>\n",
              "      <td>0</td>\n",
              "      <td>22</td>\n",
              "      <td>100</td>\n",
              "      <td>5</td>\n",
              "      <td>3</td>\n",
              "      <td>1898</td>\n",
              "      <td>119</td>\n",
              "      <td>605</td>\n",
              "      <td>450</td>\n",
              "      <td>2560</td>\n",
              "      <td>2923</td>\n",
              "      <td>60</td>\n",
              "      <td>207</td>\n",
              "      <td>465</td>\n",
              "      <td>4</td>\n",
              "      <td>3</td>\n",
              "      <td>565</td>\n",
              "      <td>3</td>\n",
              "      <td>31</td>\n",
              "      <td>3</td>\n",
              "      <td>2</td>\n",
              "      <td>18</td>\n",
              "      <td>4</td>\n",
              "      <td>18</td>\n",
              "      <td>593</td>\n",
              "      <td>1270</td>\n",
              "      <td>2370</td>\n",
              "      <td>284</td>\n",
              "      <td>9864</td>\n",
              "      <td>3</td>\n",
              "      <td>3</td>\n",
              "      <td>349</td>\n",
              "      <td>1</td>\n",
              "      <td>48614</td>\n",
              "    </tr>\n",
              "    <tr>\n",
              "      <th>QUEENS</th>\n",
              "      <td>48</td>\n",
              "      <td>225</td>\n",
              "      <td>731</td>\n",
              "      <td>54</td>\n",
              "      <td>4618</td>\n",
              "      <td>210</td>\n",
              "      <td>21</td>\n",
              "      <td>0</td>\n",
              "      <td>18816</td>\n",
              "      <td>958</td>\n",
              "      <td>52</td>\n",
              "      <td>22</td>\n",
              "      <td>1</td>\n",
              "      <td>78</td>\n",
              "      <td>6984</td>\n",
              "      <td>70</td>\n",
              "      <td>204</td>\n",
              "      <td>4447</td>\n",
              "      <td>128</td>\n",
              "      <td>7</td>\n",
              "      <td>69</td>\n",
              "      <td>33</td>\n",
              "      <td>1</td>\n",
              "      <td>62</td>\n",
              "      <td>86</td>\n",
              "      <td>5</td>\n",
              "      <td>7</td>\n",
              "      <td>1273</td>\n",
              "      <td>112</td>\n",
              "      <td>292</td>\n",
              "      <td>124</td>\n",
              "      <td>2604</td>\n",
              "      <td>2774</td>\n",
              "      <td>70</td>\n",
              "      <td>550</td>\n",
              "      <td>236</td>\n",
              "      <td>20</td>\n",
              "      <td>2</td>\n",
              "      <td>841</td>\n",
              "      <td>2</td>\n",
              "      <td>85</td>\n",
              "      <td>2</td>\n",
              "      <td>1</td>\n",
              "      <td>65</td>\n",
              "      <td>6</td>\n",
              "      <td>19</td>\n",
              "      <td>1484</td>\n",
              "      <td>1703</td>\n",
              "      <td>1104</td>\n",
              "      <td>865</td>\n",
              "      <td>14127</td>\n",
              "      <td>6</td>\n",
              "      <td>4</td>\n",
              "      <td>592</td>\n",
              "      <td>1</td>\n",
              "      <td>66901</td>\n",
              "    </tr>\n",
              "    <tr>\n",
              "      <th>STATEN ISLAND</th>\n",
              "      <td>10</td>\n",
              "      <td>37</td>\n",
              "      <td>138</td>\n",
              "      <td>46</td>\n",
              "      <td>664</td>\n",
              "      <td>52</td>\n",
              "      <td>2</td>\n",
              "      <td>0</td>\n",
              "      <td>2299</td>\n",
              "      <td>132</td>\n",
              "      <td>12</td>\n",
              "      <td>18</td>\n",
              "      <td>2</td>\n",
              "      <td>30</td>\n",
              "      <td>759</td>\n",
              "      <td>11</td>\n",
              "      <td>38</td>\n",
              "      <td>745</td>\n",
              "      <td>36</td>\n",
              "      <td>0</td>\n",
              "      <td>14</td>\n",
              "      <td>4</td>\n",
              "      <td>0</td>\n",
              "      <td>23</td>\n",
              "      <td>30</td>\n",
              "      <td>2</td>\n",
              "      <td>1</td>\n",
              "      <td>253</td>\n",
              "      <td>30</td>\n",
              "      <td>36</td>\n",
              "      <td>16</td>\n",
              "      <td>280</td>\n",
              "      <td>297</td>\n",
              "      <td>12</td>\n",
              "      <td>194</td>\n",
              "      <td>39</td>\n",
              "      <td>8</td>\n",
              "      <td>2</td>\n",
              "      <td>141</td>\n",
              "      <td>0</td>\n",
              "      <td>26</td>\n",
              "      <td>1</td>\n",
              "      <td>2</td>\n",
              "      <td>18</td>\n",
              "      <td>0</td>\n",
              "      <td>5</td>\n",
              "      <td>191</td>\n",
              "      <td>264</td>\n",
              "      <td>139</td>\n",
              "      <td>151</td>\n",
              "      <td>1375</td>\n",
              "      <td>0</td>\n",
              "      <td>1</td>\n",
              "      <td>71</td>\n",
              "      <td>0</td>\n",
              "      <td>8657</td>\n",
              "    </tr>\n",
              "    <tr>\n",
              "      <th>All</th>\n",
              "      <td>138</td>\n",
              "      <td>994</td>\n",
              "      <td>2382</td>\n",
              "      <td>182</td>\n",
              "      <td>13876</td>\n",
              "      <td>812</td>\n",
              "      <td>81</td>\n",
              "      <td>8</td>\n",
              "      <td>58551</td>\n",
              "      <td>3799</td>\n",
              "      <td>227</td>\n",
              "      <td>114</td>\n",
              "      <td>13</td>\n",
              "      <td>308</td>\n",
              "      <td>18236</td>\n",
              "      <td>205</td>\n",
              "      <td>588</td>\n",
              "      <td>15370</td>\n",
              "      <td>416</td>\n",
              "      <td>11</td>\n",
              "      <td>246</td>\n",
              "      <td>128</td>\n",
              "      <td>3</td>\n",
              "      <td>200</td>\n",
              "      <td>412</td>\n",
              "      <td>28</td>\n",
              "      <td>31</td>\n",
              "      <td>7509</td>\n",
              "      <td>487</td>\n",
              "      <td>1740</td>\n",
              "      <td>960</td>\n",
              "      <td>11337</td>\n",
              "      <td>10469</td>\n",
              "      <td>291</td>\n",
              "      <td>1805</td>\n",
              "      <td>1545</td>\n",
              "      <td>57</td>\n",
              "      <td>19</td>\n",
              "      <td>2786</td>\n",
              "      <td>9</td>\n",
              "      <td>313</td>\n",
              "      <td>11</td>\n",
              "      <td>17</td>\n",
              "      <td>217</td>\n",
              "      <td>25</td>\n",
              "      <td>91</td>\n",
              "      <td>4320</td>\n",
              "      <td>6043</td>\n",
              "      <td>5932</td>\n",
              "      <td>2828</td>\n",
              "      <td>59307</td>\n",
              "      <td>16</td>\n",
              "      <td>22</td>\n",
              "      <td>2117</td>\n",
              "      <td>6</td>\n",
              "      <td>237638</td>\n",
              "    </tr>\n",
              "  </tbody>\n",
              "</table>\n",
              "</div>"
            ],
            "text/plain": [
              "CONTRIBUTING FACTOR VEHICLE 1  Accelerator Defective  ...     All\n",
              "BOROUGH                                               ...        \n",
              "BRONX                                             16  ...   37528\n",
              "BROOKLYN                                          49  ...   75938\n",
              "MANHATTAN                                         15  ...   48614\n",
              "QUEENS                                            48  ...   66901\n",
              "STATEN ISLAND                                     10  ...    8657\n",
              "All                                              138  ...  237638\n",
              "\n",
              "[6 rows x 56 columns]"
            ]
          },
          "metadata": {},
          "execution_count": 38
        }
      ]
    },
    {
      "cell_type": "code",
      "metadata": {
        "colab": {
          "base_uri": "https://localhost:8080/"
        },
        "id": "Yrvu2k9k34fI",
        "outputId": "0f5c355e-d07d-4af7-86d7-fb562aa0f651"
      },
      "source": [
        "columnas=list(data_crosstab.iloc[5, :].nlargest(n=11).index)\n",
        "type(columnas)\n",
        "columnas.remove('All')\n",
        "columnas"
      ],
      "execution_count": 39,
      "outputs": [
        {
          "output_type": "execute_result",
          "data": {
            "text/plain": [
              "['Unspecified',\n",
              " 'Driver Inattention/Distraction',\n",
              " 'Failure to Yield Right-of-Way',\n",
              " 'Following Too Closely',\n",
              " 'Backing Unsafely',\n",
              " 'Passing Too Closely',\n",
              " 'Passing or Lane Usage Improper',\n",
              " 'Other Vehicular',\n",
              " 'Turning Improperly',\n",
              " 'Unsafe Lane Changing']"
            ]
          },
          "metadata": {},
          "execution_count": 39
        }
      ]
    },
    {
      "cell_type": "code",
      "metadata": {
        "colab": {
          "base_uri": "https://localhost:8080/",
          "height": 292
        },
        "id": "7k6NtqJB3896",
        "outputId": "bb126d2a-d662-4dae-c195-c5d8dab5b729"
      },
      "source": [
        "data_crosstab_n=data_crosstab[columnas]/1000 # Normalizar a miles \n",
        "data_crosstab_n=data_crosstab_n[0:4]\n",
        "data_crosstab_n"
      ],
      "execution_count": 40,
      "outputs": [
        {
          "output_type": "execute_result",
          "data": {
            "text/html": [
              "<div>\n",
              "<style scoped>\n",
              "    .dataframe tbody tr th:only-of-type {\n",
              "        vertical-align: middle;\n",
              "    }\n",
              "\n",
              "    .dataframe tbody tr th {\n",
              "        vertical-align: top;\n",
              "    }\n",
              "\n",
              "    .dataframe thead th {\n",
              "        text-align: right;\n",
              "    }\n",
              "</style>\n",
              "<table border=\"1\" class=\"dataframe\">\n",
              "  <thead>\n",
              "    <tr style=\"text-align: right;\">\n",
              "      <th>CONTRIBUTING FACTOR VEHICLE 1</th>\n",
              "      <th>Unspecified</th>\n",
              "      <th>Driver Inattention/Distraction</th>\n",
              "      <th>Failure to Yield Right-of-Way</th>\n",
              "      <th>Following Too Closely</th>\n",
              "      <th>Backing Unsafely</th>\n",
              "      <th>Passing Too Closely</th>\n",
              "      <th>Passing or Lane Usage Improper</th>\n",
              "      <th>Other Vehicular</th>\n",
              "      <th>Turning Improperly</th>\n",
              "      <th>Unsafe Lane Changing</th>\n",
              "    </tr>\n",
              "    <tr>\n",
              "      <th>BOROUGH</th>\n",
              "      <th></th>\n",
              "      <th></th>\n",
              "      <th></th>\n",
              "      <th></th>\n",
              "      <th></th>\n",
              "      <th></th>\n",
              "      <th></th>\n",
              "      <th></th>\n",
              "      <th></th>\n",
              "      <th></th>\n",
              "    </tr>\n",
              "  </thead>\n",
              "  <tbody>\n",
              "    <tr>\n",
              "      <th>BRONX</th>\n",
              "      <td>11.175</td>\n",
              "      <td>6.280</td>\n",
              "      <td>2.190</td>\n",
              "      <td>2.194</td>\n",
              "      <td>2.309</td>\n",
              "      <td>2.035</td>\n",
              "      <td>1.388</td>\n",
              "      <td>2.315</td>\n",
              "      <td>1.177</td>\n",
              "      <td>1.002</td>\n",
              "    </tr>\n",
              "    <tr>\n",
              "      <th>BROOKLYN</th>\n",
              "      <td>22.766</td>\n",
              "      <td>17.111</td>\n",
              "      <td>5.914</td>\n",
              "      <td>4.636</td>\n",
              "      <td>4.150</td>\n",
              "      <td>3.858</td>\n",
              "      <td>3.087</td>\n",
              "      <td>1.770</td>\n",
              "      <td>1.629</td>\n",
              "      <td>1.317</td>\n",
              "    </tr>\n",
              "    <tr>\n",
              "      <th>MANHATTAN</th>\n",
              "      <td>9.864</td>\n",
              "      <td>14.045</td>\n",
              "      <td>2.389</td>\n",
              "      <td>3.348</td>\n",
              "      <td>2.135</td>\n",
              "      <td>2.560</td>\n",
              "      <td>2.923</td>\n",
              "      <td>1.898</td>\n",
              "      <td>1.270</td>\n",
              "      <td>2.370</td>\n",
              "    </tr>\n",
              "    <tr>\n",
              "      <th>QUEENS</th>\n",
              "      <td>14.127</td>\n",
              "      <td>18.816</td>\n",
              "      <td>6.984</td>\n",
              "      <td>4.447</td>\n",
              "      <td>4.618</td>\n",
              "      <td>2.604</td>\n",
              "      <td>2.774</td>\n",
              "      <td>1.273</td>\n",
              "      <td>1.703</td>\n",
              "      <td>1.104</td>\n",
              "    </tr>\n",
              "  </tbody>\n",
              "</table>\n",
              "</div>"
            ],
            "text/plain": [
              "CONTRIBUTING FACTOR VEHICLE 1  Unspecified  ...  Unsafe Lane Changing\n",
              "BOROUGH                                     ...                      \n",
              "BRONX                               11.175  ...                 1.002\n",
              "BROOKLYN                            22.766  ...                 1.317\n",
              "MANHATTAN                            9.864  ...                 2.370\n",
              "QUEENS                              14.127  ...                 1.104\n",
              "\n",
              "[4 rows x 10 columns]"
            ]
          },
          "metadata": {},
          "execution_count": 40
        }
      ]
    },
    {
      "cell_type": "code",
      "metadata": {
        "colab": {
          "base_uri": "https://localhost:8080/",
          "height": 615
        },
        "id": "Hy0WgG0n4C5M",
        "outputId": "a567c86f-fad5-4fa9-82cd-9702abd3e96a"
      },
      "source": [
        "from matplotlib import rcParams\n",
        "rcParams['figure.figsize'] = 12.7,8\n",
        "import seaborn as sns\n",
        "sns.heatmap(data_crosstab_n, annot=True,cmap='Oranges')"
      ],
      "execution_count": 41,
      "outputs": [
        {
          "output_type": "execute_result",
          "data": {
            "text/plain": [
              "<matplotlib.axes._subplots.AxesSubplot at 0x7f83bed67350>"
            ]
          },
          "metadata": {},
          "execution_count": 41
        },
        {
          "output_type": "display_data",
          "data": {
            "image/png": "[encoded data removed]",
            "text/plain": [
              "<Figure size 914.4x576 with 2 Axes>"
            ]
          },
          "metadata": {}
        }
      ]
    },
    {
      "cell_type": "code",
      "metadata": {
        "colab": {
          "base_uri": "https://localhost:8080/",
          "height": 238
        },
        "id": "kehsg1KU4In9",
        "outputId": "fbbf53fc-e192-428f-b1bb-55d4a397e75c"
      },
      "source": [
        "import numpy as np\n",
        "data_crosstab_N = np.round(pd.crosstab(df['BOROUGH'],\n",
        "                            df['CONTRIBUTING FACTOR VEHICLE 1'], \n",
        "                               margins = True,normalize=True)*100,2)\n",
        "data_crosstab_N\n",
        "\n",
        "columnas=list(data_crosstab_N.iloc[5, :].nlargest(n=11).index)\n",
        "type(columnas)\n",
        "columnas.remove('All')\n",
        "\n",
        "data_crosstab_N=data_crosstab_N[columnas] # Normalizar a miles \n",
        "data_crosstab_N=np.round(data_crosstab_N[0:4],2)\n",
        "data_crosstab_N"
      ],
      "execution_count": 42,
      "outputs": [
        {
          "output_type": "execute_result",
          "data": {
            "text/html": [
              "<div>\n",
              "<style scoped>\n",
              "    .dataframe tbody tr th:only-of-type {\n",
              "        vertical-align: middle;\n",
              "    }\n",
              "\n",
              "    .dataframe tbody tr th {\n",
              "        vertical-align: top;\n",
              "    }\n",
              "\n",
              "    .dataframe thead th {\n",
              "        text-align: right;\n",
              "    }\n",
              "</style>\n",
              "<table border=\"1\" class=\"dataframe\">\n",
              "  <thead>\n",
              "    <tr style=\"text-align: right;\">\n",
              "      <th>CONTRIBUTING FACTOR VEHICLE 1</th>\n",
              "      <th>Unspecified</th>\n",
              "      <th>Driver Inattention/Distraction</th>\n",
              "      <th>Failure to Yield Right-of-Way</th>\n",
              "      <th>Following Too Closely</th>\n",
              "      <th>Backing Unsafely</th>\n",
              "      <th>Passing Too Closely</th>\n",
              "      <th>Passing or Lane Usage Improper</th>\n",
              "      <th>Other Vehicular</th>\n",
              "      <th>Turning Improperly</th>\n",
              "      <th>Unsafe Lane Changing</th>\n",
              "    </tr>\n",
              "    <tr>\n",
              "      <th>BOROUGH</th>\n",
              "      <th></th>\n",
              "      <th></th>\n",
              "      <th></th>\n",
              "      <th></th>\n",
              "      <th></th>\n",
              "      <th></th>\n",
              "      <th></th>\n",
              "      <th></th>\n",
              "      <th></th>\n",
              "      <th></th>\n",
              "    </tr>\n",
              "  </thead>\n",
              "  <tbody>\n",
              "    <tr>\n",
              "      <th>BRONX</th>\n",
              "      <td>4.70</td>\n",
              "      <td>2.64</td>\n",
              "      <td>0.92</td>\n",
              "      <td>0.92</td>\n",
              "      <td>0.97</td>\n",
              "      <td>0.86</td>\n",
              "      <td>0.58</td>\n",
              "      <td>0.97</td>\n",
              "      <td>0.50</td>\n",
              "      <td>0.42</td>\n",
              "    </tr>\n",
              "    <tr>\n",
              "      <th>BROOKLYN</th>\n",
              "      <td>9.58</td>\n",
              "      <td>7.20</td>\n",
              "      <td>2.49</td>\n",
              "      <td>1.95</td>\n",
              "      <td>1.75</td>\n",
              "      <td>1.62</td>\n",
              "      <td>1.30</td>\n",
              "      <td>0.74</td>\n",
              "      <td>0.69</td>\n",
              "      <td>0.55</td>\n",
              "    </tr>\n",
              "    <tr>\n",
              "      <th>MANHATTAN</th>\n",
              "      <td>4.15</td>\n",
              "      <td>5.91</td>\n",
              "      <td>1.01</td>\n",
              "      <td>1.41</td>\n",
              "      <td>0.90</td>\n",
              "      <td>1.08</td>\n",
              "      <td>1.23</td>\n",
              "      <td>0.80</td>\n",
              "      <td>0.53</td>\n",
              "      <td>1.00</td>\n",
              "    </tr>\n",
              "    <tr>\n",
              "      <th>QUEENS</th>\n",
              "      <td>5.94</td>\n",
              "      <td>7.92</td>\n",
              "      <td>2.94</td>\n",
              "      <td>1.87</td>\n",
              "      <td>1.94</td>\n",
              "      <td>1.10</td>\n",
              "      <td>1.17</td>\n",
              "      <td>0.54</td>\n",
              "      <td>0.72</td>\n",
              "      <td>0.46</td>\n",
              "    </tr>\n",
              "  </tbody>\n",
              "</table>\n",
              "</div>"
            ],
            "text/plain": [
              "CONTRIBUTING FACTOR VEHICLE 1  Unspecified  ...  Unsafe Lane Changing\n",
              "BOROUGH                                     ...                      \n",
              "BRONX                                 4.70  ...                  0.42\n",
              "BROOKLYN                              9.58  ...                  0.55\n",
              "MANHATTAN                             4.15  ...                  1.00\n",
              "QUEENS                                5.94  ...                  0.46\n",
              "\n",
              "[4 rows x 10 columns]"
            ]
          },
          "metadata": {},
          "execution_count": 42
        }
      ]
    },
    {
      "cell_type": "code",
      "metadata": {
        "colab": {
          "base_uri": "https://localhost:8080/",
          "height": 688
        },
        "id": "HRViUy6l4VKR",
        "outputId": "7937c8d6-11a8-43b5-d749-c5a394118019"
      },
      "source": [
        "from matplotlib import rcParams\n",
        "rcParams['figure.figsize'] = 12.7,8\n",
        "import seaborn as sns\n",
        "sns.heatmap(data_crosstab_N, annot=True,cmap='Oranges')"
      ],
      "execution_count": 43,
      "outputs": [
        {
          "output_type": "execute_result",
          "data": {
            "text/plain": [
              "<matplotlib.axes._subplots.AxesSubplot at 0x7f83bec53e10>"
            ]
          },
          "metadata": {},
          "execution_count": 43
        },
        {
          "output_type": "display_data",
          "data": {
            "image/png": "[encoded data removed]",
            "text/plain": [
              "<Figure size 914.4x576 with 2 Axes>"
            ]
          },
          "metadata": {}
        }
      ]
    },
    {
      "cell_type": "code",
      "metadata": {
        "colab": {
          "base_uri": "https://localhost:8080/",
          "height": 204
        },
        "id": "LfT-E6Fk4abF",
        "outputId": "775c49f5-e205-4f50-976b-d5f04396beda"
      },
      "source": [
        "import seaborn as sns\n",
        "tips = sns.load_dataset('tips')\n",
        "tips.head()"
      ],
      "execution_count": 44,
      "outputs": [
        {
          "output_type": "execute_result",
          "data": {
            "text/html": [
              "<div>\n",
              "<style scoped>\n",
              "    .dataframe tbody tr th:only-of-type {\n",
              "        vertical-align: middle;\n",
              "    }\n",
              "\n",
              "    .dataframe tbody tr th {\n",
              "        vertical-align: top;\n",
              "    }\n",
              "\n",
              "    .dataframe thead th {\n",
              "        text-align: right;\n",
              "    }\n",
              "</style>\n",
              "<table border=\"1\" class=\"dataframe\">\n",
              "  <thead>\n",
              "    <tr style=\"text-align: right;\">\n",
              "      <th></th>\n",
              "      <th>total_bill</th>\n",
              "      <th>tip</th>\n",
              "      <th>sex</th>\n",
              "      <th>smoker</th>\n",
              "      <th>day</th>\n",
              "      <th>time</th>\n",
              "      <th>size</th>\n",
              "    </tr>\n",
              "  </thead>\n",
              "  <tbody>\n",
              "    <tr>\n",
              "      <th>0</th>\n",
              "      <td>16.99</td>\n",
              "      <td>1.01</td>\n",
              "      <td>Female</td>\n",
              "      <td>No</td>\n",
              "      <td>Sun</td>\n",
              "      <td>Dinner</td>\n",
              "      <td>2</td>\n",
              "    </tr>\n",
              "    <tr>\n",
              "      <th>1</th>\n",
              "      <td>10.34</td>\n",
              "      <td>1.66</td>\n",
              "      <td>Male</td>\n",
              "      <td>No</td>\n",
              "      <td>Sun</td>\n",
              "      <td>Dinner</td>\n",
              "      <td>3</td>\n",
              "    </tr>\n",
              "    <tr>\n",
              "      <th>2</th>\n",
              "      <td>21.01</td>\n",
              "      <td>3.50</td>\n",
              "      <td>Male</td>\n",
              "      <td>No</td>\n",
              "      <td>Sun</td>\n",
              "      <td>Dinner</td>\n",
              "      <td>3</td>\n",
              "    </tr>\n",
              "    <tr>\n",
              "      <th>3</th>\n",
              "      <td>23.68</td>\n",
              "      <td>3.31</td>\n",
              "      <td>Male</td>\n",
              "      <td>No</td>\n",
              "      <td>Sun</td>\n",
              "      <td>Dinner</td>\n",
              "      <td>2</td>\n",
              "    </tr>\n",
              "    <tr>\n",
              "      <th>4</th>\n",
              "      <td>24.59</td>\n",
              "      <td>3.61</td>\n",
              "      <td>Female</td>\n",
              "      <td>No</td>\n",
              "      <td>Sun</td>\n",
              "      <td>Dinner</td>\n",
              "      <td>4</td>\n",
              "    </tr>\n",
              "  </tbody>\n",
              "</table>\n",
              "</div>"
            ],
            "text/plain": [
              "   total_bill   tip     sex smoker  day    time  size\n",
              "0       16.99  1.01  Female     No  Sun  Dinner     2\n",
              "1       10.34  1.66    Male     No  Sun  Dinner     3\n",
              "2       21.01  3.50    Male     No  Sun  Dinner     3\n",
              "3       23.68  3.31    Male     No  Sun  Dinner     2\n",
              "4       24.59  3.61  Female     No  Sun  Dinner     4"
            ]
          },
          "metadata": {},
          "execution_count": 44
        }
      ]
    },
    {
      "cell_type": "code",
      "metadata": {
        "colab": {
          "base_uri": "https://localhost:8080/",
          "height": 542
        },
        "id": "IiI7LCUb4emT",
        "outputId": "e744b1a9-d711-4419-c633-b0e028b41805"
      },
      "source": [
        "import plotly.express as px\n",
        "df = px.data.iris() # iris is a pandas DataFrame\n",
        "fig = px.scatter(tips, x=\"tip\", y=\"total_bill\")\n",
        "fig.show()"
      ],
      "execution_count": 45,
      "outputs": [
        {
          "output_type": "display_data",
          "data": {
            "text/html": [
              "<html>\n",
              "<head><meta charset=\"utf-8\" /></head>\n",
              "<body>\n",
              "    <div>\n",
              "            <script src=\"https://cdnjs.cloudflare.com/ajax/libs/mathjax/2.7.5/MathJax.js?config=TeX-AMS-MML_SVG\"></script><script type=\"text/javascript\">if (window.MathJax) {MathJax.Hub.Config({SVG: {font: \"STIX-Web\"}});}</script>\n",
              "                <script type=\"text/javascript\">window.PlotlyConfig = {MathJaxConfig: 'local'};</script>\n",
              "        <script src=\"https://cdn.plot.ly/plotly-latest.min.js\"></script>    \n",
              "            <div id=\"3482a6ee-c813-43c5-9400-4a62800371f7\" class=\"plotly-graph-div\" style=\"height:525px; width:100%;\"></div>\n",
              "            <script type=\"text/javascript\">\n",
              "                \n",
              "                    window.PLOTLYENV=window.PLOTLYENV || {};\n",
              "                    \n",
              "                if (document.getElementById(\"3482a6ee-c813-43c5-9400-4a62800371f7\")) {\n",
              "                    Plotly.newPlot(\n",
              "                        '3482a6ee-c813-43c5-9400-4a62800371f7',\n",
              "                        [{\"hoverlabel\": {\"namelength\": 0}, \"hovertemplate\": \"tip=%{x}<br>total_bill=%{y}\", \"legendgroup\": \"\", \"marker\": {\"color\": \"#636efa\", \"symbol\": \"circle\"}, \"mode\": \"markers\", \"name\": \"\", \"showlegend\": false, \"type\": \"scatter\", \"x\": [1.01, 1.66, 3.5, 3.31, 3.61, 4.71, 2.0, 3.12, 1.96, 3.23, 1.71, 5.0, 1.57, 3.0, 3.02, 3.92, 1.67, 3.71, 3.5, 3.35, 4.08, 2.75, 2.23, 7.58, 3.18, 2.34, 2.0, 2.0, 4.3, 3.0, 1.45, 2.5, 3.0, 2.45, 3.27, 3.6, 2.0, 3.07, 2.31, 5.0, 2.24, 2.54, 3.06, 1.32, 5.6, 3.0, 5.0, 6.0, 2.05, 3.0, 2.5, 2.6, 5.2, 1.56, 4.34, 3.51, 3.0, 1.5, 1.76, 6.73, 3.21, 2.0, 1.98, 3.76, 2.64, 3.15, 2.47, 1.0, 2.01, 2.09, 1.97, 3.0, 3.14, 5.0, 2.2, 1.25, 3.08, 4.0, 3.0, 2.71, 3.0, 3.4, 1.83, 5.0, 2.03, 5.17, 2.0, 4.0, 5.85, 3.0, 3.0, 3.5, 1.0, 4.3, 3.25, 4.73, 4.0, 1.5, 3.0, 1.5, 2.5, 3.0, 2.5, 3.48, 4.08, 1.64, 4.06, 4.29, 3.76, 4.0, 3.0, 1.0, 4.0, 2.55, 4.0, 3.5, 5.07, 1.5, 1.8, 2.92, 2.31, 1.68, 2.5, 2.0, 2.52, 4.2, 1.48, 2.0, 2.0, 2.18, 1.5, 2.83, 1.5, 2.0, 3.25, 1.25, 2.0, 2.0, 2.0, 2.75, 3.5, 6.7, 5.0, 5.0, 2.3, 1.5, 1.36, 1.63, 1.73, 2.0, 2.5, 2.0, 2.74, 2.0, 2.0, 5.14, 5.0, 3.75, 2.61, 2.0, 3.5, 2.5, 2.0, 2.0, 3.0, 3.48, 2.24, 4.5, 1.61, 2.0, 10.0, 3.16, 5.15, 3.18, 4.0, 3.11, 2.0, 2.0, 4.0, 3.55, 3.68, 5.65, 3.5, 6.5, 3.0, 5.0, 3.5, 2.0, 3.5, 4.0, 1.5, 4.19, 2.56, 2.02, 4.0, 1.44, 2.0, 5.0, 2.0, 2.0, 4.0, 2.01, 2.0, 2.5, 4.0, 3.23, 3.41, 3.0, 2.03, 2.23, 2.0, 5.16, 9.0, 2.5, 6.5, 1.1, 3.0, 1.5, 1.44, 3.09, 2.2, 3.48, 1.92, 3.0, 1.58, 2.5, 2.0, 3.0, 2.72, 2.88, 2.0, 3.0, 3.39, 1.47, 3.0, 1.25, 1.0, 1.17, 4.67, 5.92, 2.0, 2.0, 1.75, 3.0], \"xaxis\": \"x\", \"y\": [16.99, 10.34, 21.01, 23.68, 24.59, 25.29, 8.77, 26.88, 15.04, 14.78, 10.27, 35.26, 15.42, 18.43, 14.83, 21.58, 10.33, 16.29, 16.97, 20.65, 17.92, 20.29, 15.77, 39.42, 19.82, 17.81, 13.37, 12.69, 21.7, 19.65, 9.55, 18.35, 15.06, 20.69, 17.78, 24.06, 16.31, 16.93, 18.69, 31.27, 16.04, 17.46, 13.94, 9.68, 30.4, 18.29, 22.23, 32.4, 28.55, 18.04, 12.54, 10.29, 34.81, 9.94, 25.56, 19.49, 38.01, 26.41, 11.24, 48.27, 20.29, 13.81, 11.02, 18.29, 17.59, 20.08, 16.45, 3.07, 20.23, 15.01, 12.02, 17.07, 26.86, 25.28, 14.73, 10.51, 17.92, 27.2, 22.76, 17.29, 19.44, 16.66, 10.07, 32.68, 15.98, 34.83, 13.03, 18.28, 24.71, 21.16, 28.97, 22.49, 5.75, 16.32, 22.75, 40.17, 27.28, 12.03, 21.01, 12.46, 11.35, 15.38, 44.3, 22.42, 20.92, 15.36, 20.49, 25.21, 18.24, 14.31, 14.0, 7.25, 38.07, 23.95, 25.71, 17.31, 29.93, 10.65, 12.43, 24.08, 11.69, 13.42, 14.26, 15.95, 12.48, 29.8, 8.52, 14.52, 11.38, 22.82, 19.08, 20.27, 11.17, 12.26, 18.26, 8.51, 10.33, 14.15, 16.0, 13.16, 17.47, 34.3, 41.19, 27.05, 16.43, 8.35, 18.64, 11.87, 9.78, 7.51, 14.07, 13.13, 17.26, 24.55, 19.77, 29.85, 48.17, 25.0, 13.39, 16.49, 21.5, 12.66, 16.21, 13.81, 17.51, 24.52, 20.76, 31.71, 10.59, 10.63, 50.81, 15.81, 7.25, 31.85, 16.82, 32.9, 17.89, 14.48, 9.6, 34.63, 34.65, 23.33, 45.35, 23.17, 40.55, 20.69, 20.9, 30.46, 18.15, 23.1, 15.69, 19.81, 28.44, 15.48, 16.58, 7.56, 10.34, 43.11, 13.0, 13.51, 18.71, 12.74, 13.0, 16.4, 20.53, 16.47, 26.59, 38.73, 24.27, 12.76, 30.06, 25.89, 48.33, 13.27, 28.17, 12.9, 28.15, 11.59, 7.74, 30.14, 12.16, 13.42, 8.58, 15.98, 13.42, 16.27, 10.09, 20.45, 13.28, 22.12, 24.01, 15.69, 11.61, 10.77, 15.53, 10.07, 12.6, 32.83, 35.83, 29.03, 27.18, 22.67, 17.82, 18.78], \"yaxis\": \"y\"}],\n",
              "                        {\"legend\": {\"tracegroupgap\": 0}, \"margin\": {\"t\": 60}, \"template\": {\"data\": {\"bar\": [{\"error_x\": {\"color\": \"#2a3f5f\"}, \"error_y\": {\"color\": \"#2a3f5f\"}, \"marker\": {\"line\": {\"color\": \"#E5ECF6\", \"width\": 0.5}}, \"type\": \"bar\"}], \"barpolar\": [{\"marker\": {\"line\": {\"color\": \"#E5ECF6\", \"width\": 0.5}}, \"type\": \"barpolar\"}], \"carpet\": [{\"aaxis\": {\"endlinecolor\": \"#2a3f5f\", \"gridcolor\": \"white\", \"linecolor\": \"white\", \"minorgridcolor\": \"white\", \"startlinecolor\": \"#2a3f5f\"}, \"baxis\": {\"endlinecolor\": \"#2a3f5f\", \"gridcolor\": \"white\", \"linecolor\": \"white\", \"minorgridcolor\": \"white\", \"startlinecolor\": \"#2a3f5f\"}, \"type\": \"carpet\"}], \"choropleth\": [{\"colorbar\": {\"outlinewidth\": 0, \"ticks\": \"\"}, \"type\": \"choropleth\"}], \"contour\": [{\"colorbar\": {\"outlinewidth\": 0, \"ticks\": \"\"}, \"colorscale\": [[0.0, \"#0d0887\"], [0.1111111111111111, \"#46039f\"], [0.2222222222222222, \"#7201a8\"], [0.3333333333333333, \"#9c179e\"], [0.4444444444444444, \"#bd3786\"], [0.5555555555555556, \"#d8576b\"], [0.6666666666666666, \"#ed7953\"], [0.7777777777777778, \"#fb9f3a\"], [0.8888888888888888, \"#fdca26\"], [1.0, \"#f0f921\"]], \"type\": \"contour\"}], \"contourcarpet\": [{\"colorbar\": {\"outlinewidth\": 0, \"ticks\": \"\"}, \"type\": \"contourcarpet\"}], \"heatmap\": [{\"colorbar\": {\"outlinewidth\": 0, \"ticks\": \"\"}, \"colorscale\": [[0.0, \"#0d0887\"], [0.1111111111111111, \"#46039f\"], [0.2222222222222222, \"#7201a8\"], [0.3333333333333333, \"#9c179e\"], [0.4444444444444444, \"#bd3786\"], [0.5555555555555556, \"#d8576b\"], [0.6666666666666666, \"#ed7953\"], [0.7777777777777778, \"#fb9f3a\"], [0.8888888888888888, \"#fdca26\"], [1.0, \"#f0f921\"]], \"type\": \"heatmap\"}], \"heatmapgl\": [{\"colorbar\": {\"outlinewidth\": 0, \"ticks\": \"\"}, \"colorscale\": [[0.0, \"#0d0887\"], [0.1111111111111111, \"#46039f\"], [0.2222222222222222, \"#7201a8\"], [0.3333333333333333, \"#9c179e\"], [0.4444444444444444, \"#bd3786\"], [0.5555555555555556, \"#d8576b\"], [0.6666666666666666, \"#ed7953\"], [0.7777777777777778, \"#fb9f3a\"], [0.8888888888888888, \"#fdca26\"], [1.0, \"#f0f921\"]], \"type\": \"heatmapgl\"}], \"histogram\": [{\"marker\": {\"colorbar\": {\"outlinewidth\": 0, \"ticks\": \"\"}}, \"type\": \"histogram\"}], \"histogram2d\": [{\"colorbar\": {\"outlinewidth\": 0, \"ticks\": \"\"}, \"colorscale\": [[0.0, \"#0d0887\"], [0.1111111111111111, \"#46039f\"], [0.2222222222222222, \"#7201a8\"], [0.3333333333333333, \"#9c179e\"], [0.4444444444444444, \"#bd3786\"], [0.5555555555555556, \"#d8576b\"], [0.6666666666666666, \"#ed7953\"], [0.7777777777777778, \"#fb9f3a\"], [0.8888888888888888, \"#fdca26\"], [1.0, \"#f0f921\"]], \"type\": \"histogram2d\"}], \"histogram2dcontour\": [{\"colorbar\": {\"outlinewidth\": 0, \"ticks\": \"\"}, \"colorscale\": [[0.0, \"#0d0887\"], [0.1111111111111111, \"#46039f\"], [0.2222222222222222, \"#7201a8\"], [0.3333333333333333, \"#9c179e\"], [0.4444444444444444, \"#bd3786\"], [0.5555555555555556, \"#d8576b\"], [0.6666666666666666, \"#ed7953\"], [0.7777777777777778, \"#fb9f3a\"], [0.8888888888888888, \"#fdca26\"], [1.0, \"#f0f921\"]], \"type\": \"histogram2dcontour\"}], \"mesh3d\": [{\"colorbar\": {\"outlinewidth\": 0, \"ticks\": \"\"}, \"type\": \"mesh3d\"}], \"parcoords\": [{\"line\": {\"colorbar\": {\"outlinewidth\": 0, \"ticks\": \"\"}}, \"type\": \"parcoords\"}], \"pie\": [{\"automargin\": true, \"type\": \"pie\"}], \"scatter\": [{\"marker\": {\"colorbar\": {\"outlinewidth\": 0, \"ticks\": \"\"}}, \"type\": \"scatter\"}], \"scatter3d\": [{\"line\": {\"colorbar\": {\"outlinewidth\": 0, \"ticks\": \"\"}}, \"marker\": {\"colorbar\": {\"outlinewidth\": 0, \"ticks\": \"\"}}, \"type\": \"scatter3d\"}], \"scattercarpet\": [{\"marker\": {\"colorbar\": {\"outlinewidth\": 0, \"ticks\": \"\"}}, \"type\": \"scattercarpet\"}], \"scattergeo\": [{\"marker\": {\"colorbar\": {\"outlinewidth\": 0, \"ticks\": \"\"}}, \"type\": \"scattergeo\"}], \"scattergl\": [{\"marker\": {\"colorbar\": {\"outlinewidth\": 0, \"ticks\": \"\"}}, \"type\": \"scattergl\"}], \"scattermapbox\": [{\"marker\": {\"colorbar\": {\"outlinewidth\": 0, \"ticks\": \"\"}}, \"type\": \"scattermapbox\"}], \"scatterpolar\": [{\"marker\": {\"colorbar\": {\"outlinewidth\": 0, \"ticks\": \"\"}}, \"type\": \"scatterpolar\"}], \"scatterpolargl\": [{\"marker\": {\"colorbar\": {\"outlinewidth\": 0, \"ticks\": \"\"}}, \"type\": \"scatterpolargl\"}], \"scatterternary\": [{\"marker\": {\"colorbar\": {\"outlinewidth\": 0, \"ticks\": \"\"}}, \"type\": \"scatterternary\"}], \"surface\": [{\"colorbar\": {\"outlinewidth\": 0, \"ticks\": \"\"}, \"colorscale\": [[0.0, \"#0d0887\"], [0.1111111111111111, \"#46039f\"], [0.2222222222222222, \"#7201a8\"], [0.3333333333333333, \"#9c179e\"], [0.4444444444444444, \"#bd3786\"], [0.5555555555555556, \"#d8576b\"], [0.6666666666666666, \"#ed7953\"], [0.7777777777777778, \"#fb9f3a\"], [0.8888888888888888, \"#fdca26\"], [1.0, \"#f0f921\"]], \"type\": \"surface\"}], \"table\": [{\"cells\": {\"fill\": {\"color\": \"#EBF0F8\"}, \"line\": {\"color\": \"white\"}}, \"header\": {\"fill\": {\"color\": \"#C8D4E3\"}, \"line\": {\"color\": \"white\"}}, \"type\": \"table\"}]}, \"layout\": {\"annotationdefaults\": {\"arrowcolor\": \"#2a3f5f\", \"arrowhead\": 0, \"arrowwidth\": 1}, \"coloraxis\": {\"colorbar\": {\"outlinewidth\": 0, \"ticks\": \"\"}}, \"colorscale\": {\"diverging\": [[0, \"#8e0152\"], [0.1, \"#c51b7d\"], [0.2, \"#de77ae\"], [0.3, \"#f1b6da\"], [0.4, \"#fde0ef\"], [0.5, \"#f7f7f7\"], [0.6, \"#e6f5d0\"], [0.7, \"#b8e186\"], [0.8, \"#7fbc41\"], [0.9, \"#4d9221\"], [1, \"#276419\"]], \"sequential\": [[0.0, \"#0d0887\"], [0.1111111111111111, \"#46039f\"], [0.2222222222222222, \"#7201a8\"], [0.3333333333333333, \"#9c179e\"], [0.4444444444444444, \"#bd3786\"], [0.5555555555555556, \"#d8576b\"], [0.6666666666666666, \"#ed7953\"], [0.7777777777777778, \"#fb9f3a\"], [0.8888888888888888, \"#fdca26\"], [1.0, \"#f0f921\"]], \"sequentialminus\": [[0.0, \"#0d0887\"], [0.1111111111111111, \"#46039f\"], [0.2222222222222222, \"#7201a8\"], [0.3333333333333333, \"#9c179e\"], [0.4444444444444444, \"#bd3786\"], [0.5555555555555556, \"#d8576b\"], [0.6666666666666666, \"#ed7953\"], [0.7777777777777778, \"#fb9f3a\"], [0.8888888888888888, \"#fdca26\"], [1.0, \"#f0f921\"]]}, \"colorway\": [\"#636efa\", \"#EF553B\", \"#00cc96\", \"#ab63fa\", \"#FFA15A\", \"#19d3f3\", \"#FF6692\", \"#B6E880\", \"#FF97FF\", \"#FECB52\"], \"font\": {\"color\": \"#2a3f5f\"}, \"geo\": {\"bgcolor\": \"white\", \"lakecolor\": \"white\", \"landcolor\": \"#E5ECF6\", \"showlakes\": true, \"showland\": true, \"subunitcolor\": \"white\"}, \"hoverlabel\": {\"align\": \"left\"}, \"hovermode\": \"closest\", \"mapbox\": {\"style\": \"light\"}, \"paper_bgcolor\": \"white\", \"plot_bgcolor\": \"#E5ECF6\", \"polar\": {\"angularaxis\": {\"gridcolor\": \"white\", \"linecolor\": \"white\", \"ticks\": \"\"}, \"bgcolor\": \"#E5ECF6\", \"radialaxis\": {\"gridcolor\": \"white\", \"linecolor\": \"white\", \"ticks\": \"\"}}, \"scene\": {\"xaxis\": {\"backgroundcolor\": \"#E5ECF6\", \"gridcolor\": \"white\", \"gridwidth\": 2, \"linecolor\": \"white\", \"showbackground\": true, \"ticks\": \"\", \"zerolinecolor\": \"white\"}, \"yaxis\": {\"backgroundcolor\": \"#E5ECF6\", \"gridcolor\": \"white\", \"gridwidth\": 2, \"linecolor\": \"white\", \"showbackground\": true, \"ticks\": \"\", \"zerolinecolor\": \"white\"}, \"zaxis\": {\"backgroundcolor\": \"#E5ECF6\", \"gridcolor\": \"white\", \"gridwidth\": 2, \"linecolor\": \"white\", \"showbackground\": true, \"ticks\": \"\", \"zerolinecolor\": \"white\"}}, \"shapedefaults\": {\"line\": {\"color\": \"#2a3f5f\"}}, \"ternary\": {\"aaxis\": {\"gridcolor\": \"white\", \"linecolor\": \"white\", \"ticks\": \"\"}, \"baxis\": {\"gridcolor\": \"white\", \"linecolor\": \"white\", \"ticks\": \"\"}, \"bgcolor\": \"#E5ECF6\", \"caxis\": {\"gridcolor\": \"white\", \"linecolor\": \"white\", \"ticks\": \"\"}}, \"title\": {\"x\": 0.05}, \"xaxis\": {\"automargin\": true, \"gridcolor\": \"white\", \"linecolor\": \"white\", \"ticks\": \"\", \"title\": {\"standoff\": 15}, \"zerolinecolor\": \"white\", \"zerolinewidth\": 2}, \"yaxis\": {\"automargin\": true, \"gridcolor\": \"white\", \"linecolor\": \"white\", \"ticks\": \"\", \"title\": {\"standoff\": 15}, \"zerolinecolor\": \"white\", \"zerolinewidth\": 2}}}, \"xaxis\": {\"anchor\": \"y\", \"domain\": [0.0, 1.0], \"title\": {\"text\": \"tip\"}}, \"yaxis\": {\"anchor\": \"x\", \"domain\": [0.0, 1.0], \"title\": {\"text\": \"total_bill\"}}},\n",
              "                        {\"responsive\": true}\n",
              "                    ).then(function(){\n",
              "                            \n",
              "var gd = document.getElementById('3482a6ee-c813-43c5-9400-4a62800371f7');\n",
              "var x = new MutationObserver(function (mutations, observer) {{\n",
              "        var display = window.getComputedStyle(gd).display;\n",
              "        if (!display || display === 'none') {{\n",
              "            console.log([gd, 'removed!']);\n",
              "            Plotly.purge(gd);\n",
              "            observer.disconnect();\n",
              "        }}\n",
              "}});\n",
              "\n",
              "// Listen for the removal of the full notebook cells\n",
              "var notebookContainer = gd.closest('#notebook-container');\n",
              "if (notebookContainer) {{\n",
              "    x.observe(notebookContainer, {childList: true});\n",
              "}}\n",
              "\n",
              "// Listen for the clearing of the current output cell\n",
              "var outputEl = gd.closest('.output');\n",
              "if (outputEl) {{\n",
              "    x.observe(outputEl, {childList: true});\n",
              "}}\n",
              "\n",
              "                        })\n",
              "                };\n",
              "                \n",
              "            </script>\n",
              "        </div>\n",
              "</body>\n",
              "</html>"
            ]
          },
          "metadata": {}
        }
      ]
    },
    {
      "cell_type": "markdown",
      "metadata": {
        "id": "4DFKM-jQ7Nt2"
      },
      "source": [
        "# Medidas de dependencia Lineal\n",
        "\n",
        "Cov(x,y)=∑ni=1(x−x¯)(y−y¯)n \n",
        "\n",
        "La covarianza fue introducida por K. Pearson para medir la relación lineal entre x e y."
      ]
    },
    {
      "cell_type": "code",
      "metadata": {
        "colab": {
          "base_uri": "https://localhost:8080/"
        },
        "id": "-QjuBqLm7VTc",
        "outputId": "0062a190-852c-4e4b-aef8-217f682a91aa"
      },
      "source": [
        "np.cov(tips.total_bill,tips.tip)"
      ],
      "execution_count": 46,
      "outputs": [
        {
          "output_type": "execute_result",
          "data": {
            "text/plain": [
              "array([[79.25293861,  8.32350163],\n",
              "       [ 8.32350163,  1.91445464]])"
            ]
          },
          "metadata": {},
          "execution_count": 46
        }
      ]
    },
    {
      "cell_type": "markdown",
      "metadata": {
        "id": "5-UJ-fgG7dLs"
      },
      "source": [
        "# Correlacion\n",
        "r=Cov(x,y)sxsy \n",
        "\n",
        "donde  sx  y  sy  son las desviaciones típicas de x y de y. Deben saber que\n",
        "\n",
        "1. El coeficiente de correlación tiene el mismo signo que la covarianza.\n",
        "2. El coeficiente de correlación es adimensional: su valor no varía si multiplicamos x por k1 e y por k2, siendo k1 y k2 números no nulos del mismo signo.\n",
        "4. Si existe una relación lineal exacta entre ambas variables, lo que supone que todos los puntos deben estar en una línea recta, que podemos escribir como y = a + bx, el coeficiente de correlación es igual a 1 (si b > 0) o –1 (si b < 0).\n",
        "5. Si no existe una relación lineal exacta (los puntos no están sobre una recta), –1 < r < 1."
      ]
    },
    {
      "cell_type": "code",
      "metadata": {
        "id": "s_9NTWgk751B"
      },
      "source": [
        "from scipy.stats import pearsonr\n",
        "pearsonr(ps.total_tips.tip,tibill)"
      ],
      "execution_count": null,
      "outputs": []
    },
    {
      "cell_type": "markdown",
      "metadata": {
        "id": "lhno4aLTGb22"
      },
      "source": [
        "#1 variable.\n",
        "Media, moda, mediana (percentiles y cuartiles)\n",
        "\n",
        "Dispersion : desviacion estandar, rango, rango intercuartilico.\n",
        "\n",
        "\n",
        "---\n",
        "\n",
        "\n",
        "# 2 o varias variables.\n",
        "\n",
        "Covarianza: relacionados.\n",
        "\n",
        "Correlacion: el nive de predicción. \n",
        "\n"
      ]
    }
  ]
}