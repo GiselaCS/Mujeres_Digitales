{
  "nbformat": 4,
  "nbformat_minor": 0,
  "metadata": {
    "colab": {
      "name": "clase9_Pandas.ipynb",
      "provenance": [],
      "authorship_tag": "ABX9TyPyC5d80uYzbmYJGLIyUqen",
      "include_colab_link": true
    },
    "kernelspec": {
      "name": "python3",
      "display_name": "Python 3"
    },
    "language_info": {
      "name": "python"
    }
  },
  "cells": [
    {
      "cell_type": "markdown",
      "metadata": {
        "id": "view-in-github",
        "colab_type": "text"
      },
      "source": [
        "<a href=\"https://colab.research.google.com/github/GiselaCS/Mujeres_Digitales/blob/main/clase9_Pandas.ipynb\" target=\"_parent\"><img src=\"https://colab.research.google.com/assets/colab-badge.svg\" alt=\"Open In Colab\"/></a>"
      ]
    },
    {
      "cell_type": "code",
      "metadata": {
        "id": "LUBANHwnjtKw"
      },
      "source": [
        ""
      ],
      "execution_count": null,
      "outputs": []
    },
    {
      "cell_type": "markdown",
      "metadata": {
        "id": "XmWRY18Gmotf"
      },
      "source": [
        "**Pandas**\n",
        "---\n",
        "leer, manipular datos \n",
        "---\n",
        "puede tener todos los tipos de datos.\n"
      ]
    },
    {
      "cell_type": "markdown",
      "metadata": {
        "id": "SGQE0J1EnbMD"
      },
      "source": [
        "**Series**\n",
        "---\n",
        "una sola lista de datos.\n",
        "se usan para modelar estructuras 1D similar a las listas en python, aunque tienen mayor numeros de bits incluyendo indice, nombre. (Puede albergar strings, booleans).\n",
        "\n",
        "---\n",
        "**Data frame**\n",
        "--- \n",
        "varias listas de datos"
      ]
    },
    {
      "cell_type": "markdown",
      "metadata": {
        "id": "bk7fkXdXnkTT"
      },
      "source": [
        ""
      ]
    },
    {
      "cell_type": "code",
      "metadata": {
        "id": "sOhZhWf1uuZo"
      },
      "source": [
        "#se importa libreria panda pd es el alias\n",
        "import pandas as pd"
      ],
      "execution_count": null,
      "outputs": []
    },
    {
      "cell_type": "code",
      "metadata": {
        "colab": {
          "base_uri": "https://localhost:8080/"
        },
        "id": "asRpkUQ5n1iW",
        "outputId": "e0e3c11e-04bc-4b32-faae-6cb4427621c1"
      },
      "source": [
        "\n",
        "#vamos a crear una serie con los siguientes datos\n",
        "gise= pd.Series([145,142,38,13], name='counts')\n",
        "print(type(gise))\n",
        "gise"
      ],
      "execution_count": 5,
      "outputs": [
        {
          "output_type": "stream",
          "text": [
            "<class 'pandas.core.series.Series'>\n"
          ],
          "name": "stdout"
        },
        {
          "output_type": "execute_result",
          "data": {
            "text/plain": [
              "0    145\n",
              "1    142\n",
              "2     38\n",
              "3     13\n",
              "Name: counts, dtype: int64"
            ]
          },
          "metadata": {
            "tags": []
          },
          "execution_count": 5
        }
      ]
    },
    {
      "cell_type": "code",
      "metadata": {
        "colab": {
          "base_uri": "https://localhost:8080/"
        },
        "id": "hFxHEnBfvYml",
        "outputId": "5658773b-b3aa-4d4f-a68f-6e59e833bd28"
      },
      "source": [
        "print(gise.index)"
      ],
      "execution_count": 6,
      "outputs": [
        {
          "output_type": "stream",
          "text": [
            "RangeIndex(start=0, stop=4, step=1)\n"
          ],
          "name": "stdout"
        }
      ]
    },
    {
      "cell_type": "code",
      "metadata": {
        "colab": {
          "base_uri": "https://localhost:8080/"
        },
        "id": "wP4suzjJvdA2",
        "outputId": "393dab97-7466-49b8-e8b9-128b69cf7e10"
      },
      "source": [
        "print(gise.values)"
      ],
      "execution_count": 7,
      "outputs": [
        {
          "output_type": "stream",
          "text": [
            "[145 142  38  13]\n"
          ],
          "name": "stdout"
        }
      ]
    },
    {
      "cell_type": "code",
      "metadata": {
        "colab": {
          "base_uri": "https://localhost:8080/"
        },
        "id": "5VpMszrPvxY3",
        "outputId": "0912ce2f-a881-4dc0-bba5-9a59df52ea51"
      },
      "source": [
        "#el indice no necesariamente tiene que ser un numero\n",
        "gigi = pd.Series([145, 38, 99], name='counts', \\\n",
        "                 index=['juan', 'pedro', 'sofia'])\n",
        "print(gigi)\n",
        "print('-----')\n",
        "print(gigi.values)\n",
        "print('----')\n"
      ],
      "execution_count": 8,
      "outputs": [
        {
          "output_type": "stream",
          "text": [
            "juan     145\n",
            "pedro     38\n",
            "sofia     99\n",
            "Name: counts, dtype: int64\n",
            "-----\n",
            "[145  38  99]\n",
            "----\n"
          ],
          "name": "stdout"
        }
      ]
    },
    {
      "cell_type": "code",
      "metadata": {
        "id": "Xi65EJYGxlme"
      },
      "source": [
        "#tambien puede albergar diferentes objetos\n",
        "class J:\n",
        "  pass\n",
        "pedro= pd.Series(['David', 'Fan', 13, ])"
      ],
      "execution_count": null,
      "outputs": []
    },
    {
      "cell_type": "code",
      "metadata": {
        "colab": {
          "base_uri": "https://localhost:8080/"
        },
        "id": "BwBKNl5BwqOE",
        "outputId": "ba0f4471-9c0b-4dfa-df77-435f4f172133"
      },
      "source": [
        "#y que hay de los nulos\n",
        "nan_ser = pd.Series([12, None], index=['0', 'c'])\n",
        "print(nan_ser)\n",
        "'''\n",
        "fijarse que aparece float y es porque en los NAN \n",
        "solo puede estar en ese tipo de datos'''\n",
        "nan_ser.count()"
      ],
      "execution_count": 9,
      "outputs": [
        {
          "output_type": "stream",
          "text": [
            "0    12.0\n",
            "c     NaN\n",
            "dtype: float64\n"
          ],
          "name": "stdout"
        },
        {
          "output_type": "execute_result",
          "data": {
            "text/plain": [
              "1"
            ]
          },
          "metadata": {
            "tags": []
          },
          "execution_count": 9
        }
      ]
    },
    {
      "cell_type": "code",
      "metadata": {
        "colab": {
          "base_uri": "https://localhost:8080/"
        },
        "id": "ww5UQ-oax2yv",
        "outputId": "28699540-1e53-4059-b660-6a47907cc8f3"
      },
      "source": [
        "numeros= pd.Series([1,2,3,4,5], index=['a','b','c','d','e'])\n",
        "print(numeros)\n",
        "print(numeros.index)"
      ],
      "execution_count": 14,
      "outputs": [
        {
          "output_type": "stream",
          "text": [
            "a    1\n",
            "b    2\n",
            "c    3\n",
            "d    4\n",
            "e    5\n",
            "dtype: int64\n",
            "Index(['a', 'b', 'c', 'd', 'e'], dtype='object')\n"
          ],
          "name": "stdout"
        }
      ]
    }
  ]
}