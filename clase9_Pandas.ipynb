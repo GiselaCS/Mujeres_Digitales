{
  "nbformat": 4,
  "nbformat_minor": 0,
  "metadata": {
    "colab": {
      "name": "clase9_Pandas.ipynb",
      "provenance": [],
      "authorship_tag": "ABX9TyNI3atfspGqwLq/o7FurIIu",
      "include_colab_link": true
    },
    "kernelspec": {
      "name": "python3",
      "display_name": "Python 3"
    },
    "language_info": {
      "name": "python"
    }
  },
  "cells": [
    {
      "cell_type": "markdown",
      "metadata": {
        "id": "view-in-github",
        "colab_type": "text"
      },
      "source": [
        "<a href=\"https://colab.research.google.com/github/GiselaCS/Mujeres_Digitales/blob/main/clase9_Pandas.ipynb\" target=\"_parent\"><img src=\"https://colab.research.google.com/assets/colab-badge.svg\" alt=\"Open In Colab\"/></a>"
      ]
    },
    {
      "cell_type": "code",
      "metadata": {
        "id": "LUBANHwnjtKw"
      },
      "source": [
        ""
      ],
      "execution_count": null,
      "outputs": []
    },
    {
      "cell_type": "markdown",
      "metadata": {
        "id": "XmWRY18Gmotf"
      },
      "source": [
        "**Pandas**\n",
        "---\n",
        "leer, manipular datos \n",
        "---\n",
        "puede tener todos los tipos de datos.\n"
      ]
    },
    {
      "cell_type": "markdown",
      "metadata": {
        "id": "SGQE0J1EnbMD"
      },
      "source": [
        "**Series**\n",
        "---\n",
        "una sola lista de datos.\n",
        "se usan para modelar estructuras 1D similar a las listas en python, aunque tienen mayor numeros de bits incluyendo indice, nombre. (Puede albergar strings, booleans).\n",
        "\n",
        "---\n",
        "**Data frame**\n",
        "--- \n",
        "varias listas de datos"
      ]
    },
    {
      "cell_type": "markdown",
      "metadata": {
        "id": "bk7fkXdXnkTT"
      },
      "source": [
        ""
      ]
    },
    {
      "cell_type": "code",
      "metadata": {
        "id": "sOhZhWf1uuZo"
      },
      "source": [
        "#se importa libreria panda pd es el alias\n",
        "import pandas as pd"
      ],
      "execution_count": null,
      "outputs": []
    },
    {
      "cell_type": "code",
      "metadata": {
        "colab": {
          "base_uri": "https://localhost:8080/"
        },
        "id": "asRpkUQ5n1iW",
        "outputId": "e0e3c11e-04bc-4b32-faae-6cb4427621c1"
      },
      "source": [
        "\n",
        "#vamos a crear una serie con los siguientes datos\n",
        "gise= pd.Series([145,142,38,13], name='counts')\n",
        "print(type(gise))\n",
        "gise"
      ],
      "execution_count": 5,
      "outputs": [
        {
          "output_type": "stream",
          "text": [
            "<class 'pandas.core.series.Series'>\n"
          ],
          "name": "stdout"
        },
        {
          "output_type": "execute_result",
          "data": {
            "text/plain": [
              "0    145\n",
              "1    142\n",
              "2     38\n",
              "3     13\n",
              "Name: counts, dtype: int64"
            ]
          },
          "metadata": {
            "tags": []
          },
          "execution_count": 5
        }
      ]
    },
    {
      "cell_type": "code",
      "metadata": {
        "colab": {
          "base_uri": "https://localhost:8080/"
        },
        "id": "hFxHEnBfvYml",
        "outputId": "5658773b-b3aa-4d4f-a68f-6e59e833bd28"
      },
      "source": [
        "print(gise.index)"
      ],
      "execution_count": 6,
      "outputs": [
        {
          "output_type": "stream",
          "text": [
            "RangeIndex(start=0, stop=4, step=1)\n"
          ],
          "name": "stdout"
        }
      ]
    },
    {
      "cell_type": "code",
      "metadata": {
        "colab": {
          "base_uri": "https://localhost:8080/"
        },
        "id": "wP4suzjJvdA2",
        "outputId": "393dab97-7466-49b8-e8b9-128b69cf7e10"
      },
      "source": [
        "print(gise.values)"
      ],
      "execution_count": 7,
      "outputs": [
        {
          "output_type": "stream",
          "text": [
            "[145 142  38  13]\n"
          ],
          "name": "stdout"
        }
      ]
    },
    {
      "cell_type": "code",
      "metadata": {
        "colab": {
          "base_uri": "https://localhost:8080/"
        },
        "id": "5VpMszrPvxY3",
        "outputId": "0912ce2f-a881-4dc0-bba5-9a59df52ea51"
      },
      "source": [
        "#el indice no necesariamente tiene que ser un numero\n",
        "gigi = pd.Series([145, 38, 99], name='counts', \\\n",
        "                 index=['juan', 'pedro', 'sofia'])\n",
        "print(gigi)\n",
        "print('-----')\n",
        "print(gigi.values)\n",
        "print('----')\n"
      ],
      "execution_count": 8,
      "outputs": [
        {
          "output_type": "stream",
          "text": [
            "juan     145\n",
            "pedro     38\n",
            "sofia     99\n",
            "Name: counts, dtype: int64\n",
            "-----\n",
            "[145  38  99]\n",
            "----\n"
          ],
          "name": "stdout"
        }
      ]
    },
    {
      "cell_type": "code",
      "metadata": {
        "id": "Xi65EJYGxlme"
      },
      "source": [
        "#tambien puede albergar diferentes objetos\n",
        "class J:\n",
        "  pass\n",
        "pedro= pd.Series(['David', 'Fan', 13, ])"
      ],
      "execution_count": null,
      "outputs": []
    },
    {
      "cell_type": "code",
      "metadata": {
        "colab": {
          "base_uri": "https://localhost:8080/"
        },
        "id": "BwBKNl5BwqOE",
        "outputId": "ba0f4471-9c0b-4dfa-df77-435f4f172133"
      },
      "source": [
        "#y que hay de los nulos\n",
        "nan_ser = pd.Series([12, None], index=['0', 'c'])\n",
        "print(nan_ser)\n",
        "'''\n",
        "fijarse que aparece float y es porque en los NAN \n",
        "solo puede estar en ese tipo de datos'''\n",
        "nan_ser.count()"
      ],
      "execution_count": 9,
      "outputs": [
        {
          "output_type": "stream",
          "text": [
            "0    12.0\n",
            "c     NaN\n",
            "dtype: float64\n"
          ],
          "name": "stdout"
        },
        {
          "output_type": "execute_result",
          "data": {
            "text/plain": [
              "1"
            ]
          },
          "metadata": {
            "tags": []
          },
          "execution_count": 9
        }
      ]
    },
    {
      "cell_type": "code",
      "metadata": {
        "colab": {
          "base_uri": "https://localhost:8080/"
        },
        "id": "ww5UQ-oax2yv",
        "outputId": "28699540-1e53-4059-b660-6a47907cc8f3"
      },
      "source": [
        "numeros= pd.Series([1,2,3,4,5], index=['a','b','c','d','e'])\n",
        "print(numeros)\n",
        "print(numeros.index)"
      ],
      "execution_count": 14,
      "outputs": [
        {
          "output_type": "stream",
          "text": [
            "a    1\n",
            "b    2\n",
            "c    3\n",
            "d    4\n",
            "e    5\n",
            "dtype: int64\n",
            "Index(['a', 'b', 'c', 'd', 'e'], dtype='object')\n"
          ],
          "name": "stdout"
        }
      ]
    },
    {
      "cell_type": "code",
      "metadata": {
        "colab": {
          "base_uri": "https://localhost:8080/"
        },
        "id": "3vns7mMzzjaV",
        "outputId": "3255eadf-b315-4482-c188-d60bd58d913b"
      },
      "source": [
        "#traer los numeros hasta el 15 de 2 en 2 de manera impar \n",
        "pd.Series(range(1,16,2))"
      ],
      "execution_count": 17,
      "outputs": [
        {
          "output_type": "execute_result",
          "data": {
            "text/plain": [
              "0     1\n",
              "1     3\n",
              "2     5\n",
              "3     7\n",
              "4     9\n",
              "5    11\n",
              "6    13\n",
              "7    15\n",
              "dtype: int64"
            ]
          },
          "metadata": {
            "tags": []
          },
          "execution_count": 17
        }
      ]
    },
    {
      "cell_type": "code",
      "metadata": {
        "colab": {
          "base_uri": "https://localhost:8080/"
        },
        "id": "89uRRXya0Mdl",
        "outputId": "65ca868f-7351-4dd5-f70f-d78a68e0ec1b"
      },
      "source": [
        "#1. creacion\n",
        "cidys = pd.Series([10,7,1,22], \\\n",
        "                  index=['1985', '1990','1970','1989' ],\\\n",
        "                  name='per')\n",
        "print(cidys)\n",
        "print('----')\n",
        "# que hay si necesito guardar multiples entradas en mi serie\n",
        "g2= pd.Series({'1985':7, '1970':[1,22]}, index=['1985', '1970', '1970'])\n",
        "print(g2)\n",
        "# 2. lectura \n",
        "print(cidys['1985'])\n",
        "#proceso iterativo\n",
        "print('--------')\n",
        "for i in cidys:\n",
        "  print(i)\n"
      ],
      "execution_count": 23,
      "outputs": [
        {
          "output_type": "stream",
          "text": [
            "1985    10\n",
            "1990     7\n",
            "1970     1\n",
            "1989    22\n",
            "Name: per, dtype: int64\n",
            "----\n",
            "1985          7\n",
            "1970    [1, 22]\n",
            "1970    [1, 22]\n",
            "dtype: object\n",
            "10\n",
            "--------\n",
            "10\n",
            "7\n",
            "1\n",
            "22\n"
          ],
          "name": "stdout"
        }
      ]
    },
    {
      "cell_type": "code",
      "metadata": {
        "colab": {
          "base_uri": "https://localhost:8080/"
        },
        "id": "5EtatMG92Q86",
        "outputId": "003c94a9-9880-40fb-b88f-7209fb2ed8b0"
      },
      "source": [
        "pd.Series(range(2,5))"
      ],
      "execution_count": 24,
      "outputs": [
        {
          "output_type": "execute_result",
          "data": {
            "text/plain": [
              "0    2\n",
              "1    3\n",
              "2    4\n",
              "dtype: int64"
            ]
          },
          "metadata": {
            "tags": []
          },
          "execution_count": 24
        }
      ]
    },
    {
      "cell_type": "code",
      "metadata": {
        "colab": {
          "base_uri": "https://localhost:8080/"
        },
        "id": "11hViGri4FT0",
        "outputId": "beacc8d2-779e-460c-9225-820a3ef8e808"
      },
      "source": [
        "impares_dos=pd.Series(range(1,16,2))\n",
        "print(impares_dos)\n",
        "impares_dos[2:5]"
      ],
      "execution_count": 26,
      "outputs": [
        {
          "output_type": "stream",
          "text": [
            "0     1\n",
            "1     3\n",
            "2     5\n",
            "3     7\n",
            "4     9\n",
            "5    11\n",
            "6    13\n",
            "7    15\n",
            "dtype: int64\n"
          ],
          "name": "stdout"
        },
        {
          "output_type": "execute_result",
          "data": {
            "text/plain": [
              "2    5\n",
              "3    7\n",
              "4    9\n",
              "dtype: int64"
            ]
          },
          "metadata": {
            "tags": []
          },
          "execution_count": 26
        }
      ]
    },
    {
      "cell_type": "code",
      "metadata": {
        "colab": {
          "base_uri": "https://localhost:8080/"
        },
        "id": "fEc4_uho5B4V",
        "outputId": "b2a6c596-48c9-4c7b-d5ff-bfccbaeca1f6"
      },
      "source": [
        "#vemos quienes cumplen la condicion\n",
        "impares_dos >10"
      ],
      "execution_count": 32,
      "outputs": [
        {
          "output_type": "execute_result",
          "data": {
            "text/plain": [
              "0    False\n",
              "1    False\n",
              "2    False\n",
              "3    False\n",
              "4    False\n",
              "5     True\n",
              "6     True\n",
              "7     True\n",
              "dtype: bool"
            ]
          },
          "metadata": {
            "tags": []
          },
          "execution_count": 32
        }
      ]
    },
    {
      "cell_type": "code",
      "metadata": {
        "id": "zAD2A4L-4VA-"
      },
      "source": [
        "#lo añadimos a una variable pata filtrar y saber quien cumple con la condicion. \n",
        "mask= impares_dos >10"
      ],
      "execution_count": 29,
      "outputs": []
    },
    {
      "cell_type": "code",
      "metadata": {
        "colab": {
          "base_uri": "https://localhost:8080/"
        },
        "id": "khBhFezt4m1z",
        "outputId": "a3968483-ba4c-4b11-9b14-7ca46ea52f8b"
      },
      "source": [
        "#trae solo los que cumplen con la condicion\n",
        "impares_dos[mask]"
      ],
      "execution_count": 31,
      "outputs": [
        {
          "output_type": "execute_result",
          "data": {
            "text/plain": [
              "5    11\n",
              "6    13\n",
              "7    15\n",
              "dtype: int64"
            ]
          },
          "metadata": {
            "tags": []
          },
          "execution_count": 31
        }
      ]
    },
    {
      "cell_type": "code",
      "metadata": {
        "colab": {
          "base_uri": "https://localhost:8080/"
        },
        "id": "zWkw2dPv5Ukx",
        "outputId": "6a9cc79a-e947-463e-93d4-f9e2a07c66e6"
      },
      "source": [
        "#3 actualizacion\n",
        "print(cidys)\n",
        "cidys['1996'] =6\n",
        "print(cidys['1996'])\n",
        "#que pasa cuando intento actualizar el indice duplicado\n",
        "cidys['1970']=2\n",
        "print('------')\n",
        "print(cidys)\n",
        "cidys= pd.Series([10,7,1,22],\\\n",
        "                 index=['1985', '1969','1970', '1970' ], \\\n",
        "                 name='per')\n",
        "#en esos casos lo mejor es hacer lo siguiente\n",
        "cidys.iloc[3]=2\n",
        "print(cidys)"
      ],
      "execution_count": 33,
      "outputs": [
        {
          "output_type": "stream",
          "text": [
            "1985    10\n",
            "1990     7\n",
            "1970     1\n",
            "1989    22\n",
            "Name: per, dtype: int64\n",
            "6\n",
            "------\n",
            "1985    10\n",
            "1990     7\n",
            "1970     2\n",
            "1989    22\n",
            "1996     6\n",
            "Name: per, dtype: int64\n",
            "1985    10\n",
            "1969     7\n",
            "1970     1\n",
            "1970     2\n",
            "Name: per, dtype: int64\n"
          ],
          "name": "stdout"
        }
      ]
    },
    {
      "cell_type": "code",
      "metadata": {
        "colab": {
          "base_uri": "https://localhost:8080/"
        },
        "id": "dZaXyxfP7One",
        "outputId": "44566775-0cde-417c-ed19-ee9fb35fc2b7"
      },
      "source": [
        "#se puede agregar valores a las series\n",
        "cidys= cidys.append(pd.Series({'1974':9}))\n",
        "print(cidys)"
      ],
      "execution_count": 35,
      "outputs": [
        {
          "output_type": "stream",
          "text": [
            "1985    10\n",
            "1969     7\n",
            "1970     1\n",
            "1970     2\n",
            "1974     9\n",
            "dtype: int64\n"
          ],
          "name": "stdout"
        }
      ]
    },
    {
      "cell_type": "code",
      "metadata": {
        "colab": {
          "base_uri": "https://localhost:8080/"
        },
        "id": "V75LUsp97qhz",
        "outputId": "e81b0244-e8be-4258-9b86-b405006b022a"
      },
      "source": [
        "#borrar\n",
        "del cidys['1985']\n",
        "print(cidys)\n",
        "#tambien se pueden hacer filtros\n",
        "cidys[cidys<=2]"
      ],
      "execution_count": 37,
      "outputs": [
        {
          "output_type": "stream",
          "text": [
            "1969    7\n",
            "1970    1\n",
            "1970    2\n",
            "1974    9\n",
            "dtype: int64\n"
          ],
          "name": "stdout"
        },
        {
          "output_type": "execute_result",
          "data": {
            "text/plain": [
              "1970    1\n",
              "1970    2\n",
              "dtype: int64"
            ]
          },
          "metadata": {
            "tags": []
          },
          "execution_count": 37
        }
      ]
    },
    {
      "cell_type": "code",
      "metadata": {
        "colab": {
          "base_uri": "https://localhost:8080/"
        },
        "id": "zTYqP2_P8Gq_",
        "outputId": "134b3d96-5905-4722-e466-d62c3c37ba8a"
      },
      "source": [
        "print(cidys)"
      ],
      "execution_count": 58,
      "outputs": [
        {
          "output_type": "stream",
          "text": [
            "[1969     True\n",
            "1970    False\n",
            "1970     True\n",
            "1974     True\n",
            "dtype: bool]\n"
          ],
          "name": "stdout"
        }
      ]
    },
    {
      "cell_type": "code",
      "metadata": {
        "id": "EAy8I-DgAIxS"
      },
      "source": [
        "#fechas \n",
        "fechas =pd.to_datetime(pd.Series(['sep 7, 2021', \\\n",
        "                               '9/8/2001', '9-9-2021', '10th of september', \\\n",
        "                               'once de septiembre 2001']), errors='coerce')"
      ],
      "execution_count": 61,
      "outputs": []
    },
    {
      "cell_type": "code",
      "metadata": {
        "colab": {
          "base_uri": "https://localhost:8080/"
        },
        "id": "EMJCXN-KA4gP",
        "outputId": "9ffac600-885d-4b56-bd58-89520f0091e7"
      },
      "source": [
        "fechas"
      ],
      "execution_count": 62,
      "outputs": [
        {
          "output_type": "execute_result",
          "data": {
            "text/plain": [
              "0   2021-09-07\n",
              "1   2001-09-08\n",
              "2   2021-09-09\n",
              "3          NaT\n",
              "4          NaT\n",
              "dtype: datetime64[ns]"
            ]
          },
          "metadata": {
            "tags": []
          },
          "execution_count": 62
        }
      ]
    },
    {
      "cell_type": "code",
      "metadata": {
        "colab": {
          "base_uri": "https://localhost:8080/"
        },
        "id": "IKYx41eaA7O4",
        "outputId": "5eff3dfe-c017-4f8e-d3c1-14270ed201be"
      },
      "source": [
        "fechas[fechas >= '2001-09-09']"
      ],
      "execution_count": 63,
      "outputs": [
        {
          "output_type": "execute_result",
          "data": {
            "text/plain": [
              "0   2021-09-07\n",
              "2   2021-09-09\n",
              "dtype: datetime64[ns]"
            ]
          },
          "metadata": {
            "tags": []
          },
          "execution_count": 63
        }
      ]
    },
    {
      "cell_type": "code",
      "metadata": {
        "id": "cXPVZ0F6BCf-"
      },
      "source": [
        "cumple = pd.to_datatime(pd.Serie([]))"
      ],
      "execution_count": null,
      "outputs": []
    },
    {
      "cell_type": "code",
      "metadata": {
        "colab": {
          "base_uri": "https://localhost:8080/"
        },
        "id": "PMcqr127B6D9",
        "outputId": "2e2fbd37-81c3-494f-dd17-4b0e7bc87245"
      },
      "source": [
        "fechas_nac =pd.to_datetime(pd.Series(['02-26-1993', '01/05/1968','10/26/1970'],index=['yo','mamá','papá']))\n",
        "fechas_nac"
      ],
      "execution_count": 70,
      "outputs": [
        {
          "output_type": "execute_result",
          "data": {
            "text/plain": [
              "yo     1993-02-26\n",
              "mamá   1968-01-05\n",
              "papá   1970-10-26\n",
              "dtype: datetime64[ns]"
            ]
          },
          "metadata": {
            "tags": []
          },
          "execution_count": 70
        }
      ]
    }
  ]
}