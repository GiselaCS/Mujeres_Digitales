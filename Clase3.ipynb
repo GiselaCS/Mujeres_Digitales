{
  "nbformat": 4,
  "nbformat_minor": 0,
  "metadata": {
    "colab": {
      "name": "Clase3.ipynb",
      "provenance": [],
      "authorship_tag": "ABX9TyPq3I7XbJFYmmXY6k7FxOOL",
      "include_colab_link": true
    },
    "kernelspec": {
      "name": "python3",
      "display_name": "Python 3"
    },
    "language_info": {
      "name": "python"
    }
  },
  "cells": [
    {
      "cell_type": "markdown",
      "metadata": {
        "id": "view-in-github",
        "colab_type": "text"
      },
      "source": [
        "<a href=\"https://colab.research.google.com/github/GiselaCS/Mujeres_Digitales/blob/main/Clase3.ipynb\" target=\"_parent\"><img src=\"https://colab.research.google.com/assets/colab-badge.svg\" alt=\"Open In Colab\"/></a>"
      ]
    },
    {
      "cell_type": "code",
      "metadata": {
        "id": "2yo_xoCLzW07"
      },
      "source": [
        ""
      ],
      "execution_count": null,
      "outputs": []
    },
    {
      "cell_type": "markdown",
      "metadata": {
        "id": "9W7l2PAt4oVK"
      },
      "source": [
        "**ESTRUCTURAS CONDICIONALES(Control)**\n",
        "---\n",
        "Al momento de construir una instruccion de tipo condicional, se debera comprender que dichas instrucciones estan diseñadas para ayudar en la toma de decisiones:\n",
        "---\n",
        "Ejemplo:\n",
        "---\n",
        "Sí pedro va a la tienda por la izquierda llegara mas rapido, sino se demorara más.\n",
        "---\n",
        "Existen varios tipos de instrucciones, algunos pueden ser simples y otros multiples.\n",
        "\n",
        "sin embargo, solo se generan dos resultados.\n",
        "1. verdadero\n",
        "2. falso \n",
        "\n",
        "en python, tales resultados serian \"True\" or \"False\"\n",
        "\n",
        "*para aplicar estos condiciones que veremos a continuaicon, debemos recordar los comandos de operadores matematicos vistos en la clase anterior .*\n",
        "1. igualdad == //2==7 // False\n",
        "2. Diferencia != //rosado != verde // True\n",
        "3. menor que < // 12 < 11 // False\n",
        "4. mayor que > // 1> 1.5 // False\n",
        "5. menor o igual <= //30 <= 30 // True\n",
        "6. mayor o igual >= //1 >= 2 // False\n",
        "\n",
        "\n"
      ]
    },
    {
      "cell_type": "markdown",
      "metadata": {
        "id": "wWyE2ru07MQE"
      },
      "source": [
        "En condiciones multiples, podemos enlazar los operadores lógicos.\n",
        "1. And\n",
        "2. or\n",
        "3. Not\n",
        "\n",
        "ejemplo: \n",
        "\n",
        "1. 3==8 and 8>12 // False\n",
        "2. 3==3 or 15 < 3 // True\n",
        "3. not True // false"
      ]
    },
    {
      "cell_type": "markdown",
      "metadata": {
        "id": "kLNC7_F0761H"
      },
      "source": [
        "para aplicar los operadores matematicos y logicos, tenemos que tener en cuenta lo que llamamos, **digrama de flujos **, esto nos permite una mayor organizacion de las ideas para la toma de decisiones.\n"
      ]
    },
    {
      "cell_type": "markdown",
      "metadata": {
        "id": "Fz68-z3DBGsA"
      },
      "source": [
        "**El comando IF**\n",
        "---\n",
        "este comando, permite evaluar si una sentencia es verdadera o falsa.\n",
        "es decir, ejecuta una accion establecida mediante un codigo de instruccion o varias instrucciones, inmediatamente en las lineas siguientes a dicha condición.\n"
      ]
    },
    {
      "cell_type": "code",
      "metadata": {
        "colab": {
          "base_uri": "https://localhost:8080/"
        },
        "id": "qlgtunuCBefL",
        "outputId": "daa9a937-5ec8-4a05-ddf0-e746696c1eda"
      },
      "source": [
        "num = input('Escribir un numero cualquiera: ')\n",
        "if num== 2:\n",
        "  print(\"el numero escrito es 2\")\n",
        "  "
      ],
      "execution_count": 2,
      "outputs": [
        {
          "output_type": "stream",
          "text": [
            "Escribir un numero cualquiera: 2\n"
          ],
          "name": "stdout"
        }
      ]
    },
    {
      "cell_type": "markdown",
      "metadata": {
        "id": "Um11MHlhCNzc"
      },
      "source": [
        "**El comando ELSE**\n",
        "---\n",
        "En español es conocido como \"si no\", este comando permite relacionar las acciones que deberia realizar en el caso de la que condicion sea falsa.\n"
      ]
    },
    {
      "cell_type": "code",
      "metadata": {
        "colab": {
          "base_uri": "https://localhost:8080/"
        },
        "id": "DSSyGMAmCi6K",
        "outputId": "28dc6160-5b1f-407e-c413-1d61e60d9584"
      },
      "source": [
        "num = int(input('Escribir un numero cualquiera: '))\n",
        "if num== 2:\n",
        "  print(\"el numero escrito es 2\")\n",
        "else: \n",
        "  print(\"El numero es diferente a 2\")"
      ],
      "execution_count": 10,
      "outputs": [
        {
          "output_type": "stream",
          "text": [
            "Escribir un numero cualquiera: 4\n",
            "El numero es diferente a 2\n"
          ],
          "name": "stdout"
        }
      ]
    },
    {
      "cell_type": "markdown",
      "metadata": {
        "id": "GjSi8QwYD1xu"
      },
      "source": [
        "**Comando ELIF**\n",
        "---\n",
        "significa \"sino, si\" y permite concatenar condiciones."
      ]
    },
    {
      "cell_type": "code",
      "metadata": {
        "colab": {
          "base_uri": "https://localhost:8080/"
        },
        "id": "QBPAnHjnEFIa",
        "outputId": "c645c942-16ac-42f9-ea1b-d7a3761523ea"
      },
      "source": [
        "num = int(input('Escribir un numero cualquiera: '))\n",
        "if num== 2:\n",
        "  print(\"el numero escrito es 2\")\n",
        "elif num > 2:\n",
        "  print(\"el numero escrito es mayor a dos\")\n",
        "else: \n",
        "  print(\"El numero es diferente a 2\")"
      ],
      "execution_count": 9,
      "outputs": [
        {
          "output_type": "stream",
          "text": [
            "Escribir un numero cualquiera: 3\n",
            "el numero escrito es mayor a dos\n"
          ],
          "name": "stdout"
        }
      ]
    },
    {
      "cell_type": "markdown",
      "metadata": {
        "id": "YHGD59XEEkFi"
      },
      "source": [
        "**Condicionales multiples**\n",
        "---\n",
        "Cuando se presentan situaciones con mas de una condicion que dependan unas de otras, estas se pueden tratar mediante el majeno de varias sentencias o comandos if, o mediante el manejo adecuado del comando elif, sin embargo, en muchos casos cuando hay multiples condicones, la programacion necesita mayor cantidad de lineas de codigo.\n",
        "\n",
        "en esos casos, es necesario, el uso de operadores logicos como el and y el or.\n",
        "\n"
      ]
    },
    {
      "cell_type": "code",
      "metadata": {
        "colab": {
          "base_uri": "https://localhost:8080/"
        },
        "id": "tftq1xELILMW",
        "outputId": "a8a23174-279d-4280-8392-984b60846a48"
      },
      "source": [
        "#manera condicional aninada (no tan practica)\n",
        "x= int(input(\"valor\"))\n",
        "if 0<x:\n",
        "  if x>10:\n",
        "    print(\"x es un numero positivo\")"
      ],
      "execution_count": 16,
      "outputs": [
        {
          "output_type": "stream",
          "text": [
            "valor1\n"
          ],
          "name": "stdout"
        }
      ]
    },
    {
      "cell_type": "code",
      "metadata": {
        "colab": {
          "base_uri": "https://localhost:8080/"
        },
        "id": "ByZBjlpTJ-R4",
        "outputId": "d6e6d1b8-fff7-4559-a558-5b2c9ec3e63e"
      },
      "source": [
        "#manera correcta con condicion multiple y operador logico en este caso and\n",
        "x = int(input(\"valor: \"))\n",
        "if 0<x and x<10: \n",
        "  print(\"x es un numero positivo\")\n"
      ],
      "execution_count": 14,
      "outputs": [
        {
          "output_type": "stream",
          "text": [
            "valor: 7\n",
            "x es un numero positivo\n"
          ],
          "name": "stdout"
        }
      ]
    },
    {
      "cell_type": "code",
      "metadata": {
        "colab": {
          "base_uri": "https://localhost:8080/"
        },
        "id": "8Ly887y6KfNl",
        "outputId": "47be123e-f175-443f-be61-fc3cad9aaf21"
      },
      "source": [
        "# otro modo mas corto de hacerlo\n",
        "x = int(input(\"valor: \"))\n",
        "if 0<x<10:\n",
        "  print(\"x es un numero positivo\")"
      ],
      "execution_count": 15,
      "outputs": [
        {
          "output_type": "stream",
          "text": [
            "valor: 3\n",
            "x es un numero positivo\n"
          ],
          "name": "stdout"
        }
      ]
    },
    {
      "cell_type": "markdown",
      "metadata": {
        "id": "FlBoaPwwKu3z"
      },
      "source": [
        "Esta condicion es la misma expresion booleana compuesta y la misma expresion condicional anidada"
      ]
    },
    {
      "cell_type": "markdown",
      "metadata": {
        "id": "EsqNtn0rM_b3"
      },
      "source": [
        "**Estructuras de control iterativas**\n",
        "---\n",
        "las variables son claves en las estructuras de control iterativas, puesto que sin el medio entre la iteracion y la condicion que se este ejecutando.\n",
        "---\n",
        "*¿que es iteración?*\n",
        "---\n",
        "es la consecucion del codigo, tantas veces se requiera hasta que se cumplan las condiciones establecidas.\n",
        "---\n",
        "***Banderas***\n",
        "---\n",
        "son las variables que toman un valor preferiblemente binario, booleano e indican un estado.\n",
        "---\n",
        "ejemplo:\n",
        " \n",
        "\n"
      ]
    },
    {
      "cell_type": "code",
      "metadata": {
        "colab": {
          "base_uri": "https://localhost:8080/"
        },
        "id": "Ps5TkT-0NzG8",
        "outputId": "7fe51c5a-bbea-413c-e5f6-3aa7cbe97222"
      },
      "source": [
        "suma= False\n",
        "total = 0\n",
        "a = 3\n",
        "b=10\n",
        "if (suma == False):\n",
        "  total = a+b\n",
        "  suma=True\n",
        "if (suma == True):\n",
        "  print(\"el valor total de la suma es: \", total)"
      ],
      "execution_count": 20,
      "outputs": [
        {
          "output_type": "stream",
          "text": [
            "el valor total de la suma es:  13\n"
          ],
          "name": "stdout"
        }
      ]
    },
    {
      "cell_type": "markdown",
      "metadata": {
        "id": "m7QwqBcgPimu"
      },
      "source": [
        "la variable suma en este caso es de tipo booleano y su funcion es indicar cuando se ejecuto la suma, por lo tanto, tiene un estado iniciar \"False\", pero luego ejecutar la suma, toma el valor True.\n",
        "cuando pasa esto escuchamos la franse \"la badera se levanto\". Esto quiere decir que una u otra accion hizo que el estado de la bandera cambiará.\n",
        "---\n",
        "ejemplo cualitativo: **Caso contrario**\n"
      ]
    },
    {
      "cell_type": "code",
      "metadata": {
        "colab": {
          "base_uri": "https://localhost:8080/"
        },
        "id": "QCjmoK8cQfgr",
        "outputId": "13326077-63e3-46b0-caf7-1108b05c6aa4"
      },
      "source": [
        "paciente=input(\"Nombre del paciente: \")\n",
        "contagio_v=input(\"¿te has realizado la prueba de contagio?\")\n",
        "\n",
        "if (contagio_v == \"No\"):\n",
        "  print(\"el paciente, \", paciente, \"no se ha realizado la prueba para validar, por favor realizar la prueba en el centro de salud mas cercano.\")\n",
        "  print(\"Aplicarse la prueba\")\n",
        "\n",
        "  #contagio_v=\"Pendiente\"\n",
        "if (contagio_v == \"Pendiente\"):\n",
        "  print(paciente, \"Por favor, revisar el correo donde se le notifico el resultado de la prueba\")\n",
        "  \n",
        "  #contagio_v = \"si\"\n",
        "if (contagio_v== \"si\"):\n",
        "  print(paciente, \"Dado que es positivo el resultado de su prueba, mantener una distancia de las personas por lo menos 15 dias\")\n",
        "\n",
        "\n",
        "\n",
        "\n"
      ],
      "execution_count": 27,
      "outputs": [
        {
          "output_type": "stream",
          "text": [
            "Nombre del paciente: Gisela\n",
            "¿te has realizado la prueba de contagio?No\n",
            "el paciente,  Gisela no se ha realizado la prueba para validar, por favor realizar la prueba en el centro de salud mas cercano.\n",
            "Aplicarse la prueba\n"
          ],
          "name": "stdout"
        }
      ]
    },
    {
      "cell_type": "markdown",
      "metadata": {
        "id": "O0OZ9JSCToty"
      },
      "source": [
        "**Ejercicio en clase**\n",
        "---\n",
        "el Bootcamp comenzo el 26 de julio del 2021, seles explico a las asistentes que se les evaluaria de la siguiente forma:\n",
        "\n",
        "-Tareas = 10%\n",
        "\n",
        "-Talleres = 25%\n",
        "\n",
        "-Asistencia = 5%\n",
        "\n",
        "-Participacion = 15 %\n",
        "\n",
        "-proyecto = 45%\n",
        "\n",
        "sin embargo teniendo en cuenta las ponderaciones de calificacion del bootacmp, las estudiantes deciden desarrollar un programa, que les permita saber cuanto tendria que sacar en el proyecto, para tener una definitiva de 3.7 minomo, *si* las notas que lleva hasta el momento son las siguientes.\n",
        "\n",
        "-tareas = 4.5\n",
        "\n",
        "-talleres = 4\n",
        "\n",
        "-Asistencia = 5\n",
        "\n",
        "-Participacion = 4\n",
        " \n",
        " ¿cuanto tendrian que sacar en el proyecto?\n",
        "\n"
      ]
    }
  ]
}