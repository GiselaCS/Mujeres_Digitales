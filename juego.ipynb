{
  "nbformat": 4,
  "nbformat_minor": 0,
  "metadata": {
    "colab": {
      "name": "juego.ipynb",
      "provenance": [],
      "authorship_tag": "ABX9TyOUR0S7tvVgslnc52O6BXXk",
      "include_colab_link": true
    },
    "kernelspec": {
      "name": "python3",
      "display_name": "Python 3"
    },
    "language_info": {
      "name": "python"
    }
  },
  "cells": [
    {
      "cell_type": "markdown",
      "metadata": {
        "id": "view-in-github",
        "colab_type": "text"
      },
      "source": [
        "<a href=\"https://colab.research.google.com/github/GiselaCS/Mujeres_Digitales/blob/main/juego.ipynb\" target=\"_parent\"><img src=\"https://colab.research.google.com/assets/colab-badge.svg\" alt=\"Open In Colab\"/></a>"
      ]
    },
    {
      "cell_type": "code",
      "metadata": {
        "id": "NTWGJebIQTEv"
      },
      "source": [
        "class Personaje():\n",
        "  def __init__(self,vida_max, ataque):\n",
        "    self.vida_max = vida_max\n",
        "    self.ataque = ataque\n",
        "    self.vida= vida_max\n",
        "    \n",
        "\n",
        "  def esta_vivo(self):\n",
        "    if self.vida > 0:\n",
        "      return True\n",
        "    else:\n",
        "      return False\n",
        "\n",
        "  def ataca(self, otro_personaje):\n",
        "    if self.esta_vivo():\n",
        "      otro_personaje.vida -= self.ataque\n",
        "    else:\n",
        "      print(\"el personaje no puede ser atacado\")\n"
      ],
      "execution_count": 42,
      "outputs": []
    },
    {
      "cell_type": "code",
      "metadata": {
        "id": "iLtAXgarScLh"
      },
      "source": [
        "villano = Personaje(40,15)\n",
        "heroe =  Personaje(50,10)\n",
        "bicho =  Personaje(15,12)"
      ],
      "execution_count": 46,
      "outputs": []
    },
    {
      "cell_type": "code",
      "metadata": {
        "colab": {
          "base_uri": "https://localhost:8080/"
        },
        "id": "FLf2dEMvQcN7",
        "outputId": "37df0022-09cb-4d65-9f56-42d8a29b37a9"
      },
      "source": [
        "heroe.esta_vivo()"
      ],
      "execution_count": 47,
      "outputs": [
        {
          "output_type": "execute_result",
          "data": {
            "text/plain": [
              "True"
            ]
          },
          "metadata": {},
          "execution_count": 47
        }
      ]
    },
    {
      "cell_type": "code",
      "metadata": {
        "colab": {
          "base_uri": "https://localhost:8080/"
        },
        "id": "JM8iEWuUVL1i",
        "outputId": "f6229bdf-cecd-47e0-9dc4-aff6e0333046"
      },
      "source": [
        "heroe.ataca(bicho)\n",
        "bicho.ataca(heroe)"
      ],
      "execution_count": 50,
      "outputs": [
        {
          "output_type": "stream",
          "name": "stdout",
          "text": [
            "el personaje no puede ser atacado\n"
          ]
        }
      ]
    },
    {
      "cell_type": "code",
      "metadata": {
        "colab": {
          "base_uri": "https://localhost:8080/"
        },
        "id": "0Ua3QJauVPtj",
        "outputId": "3347d971-b7c1-4df3-c45b-fb97bf612505"
      },
      "source": [
        "heroe.vida"
      ],
      "execution_count": 62,
      "outputs": [
        {
          "output_type": "execute_result",
          "data": {
            "text/plain": [
              "-10"
            ]
          },
          "metadata": {},
          "execution_count": 62
        }
      ]
    },
    {
      "cell_type": "code",
      "metadata": {
        "colab": {
          "base_uri": "https://localhost:8080/"
        },
        "id": "wzcBhZzZWo_H",
        "outputId": "4cea2e1f-f8db-4675-df6a-ac2e6cfbffcd"
      },
      "source": [
        "villano.ataca(heroe)\n",
        "heroe.ataca(villano)"
      ],
      "execution_count": 61,
      "outputs": [
        {
          "output_type": "stream",
          "name": "stdout",
          "text": [
            "el personaje no puede ser atacado\n"
          ]
        }
      ]
    },
    {
      "cell_type": "code",
      "metadata": {
        "colab": {
          "base_uri": "https://localhost:8080/"
        },
        "id": "lXJTEi9KWu6c",
        "outputId": "01d15e5f-4986-4fae-f6d5-129b0747d325"
      },
      "source": [
        "villano.vida"
      ],
      "execution_count": 63,
      "outputs": [
        {
          "output_type": "execute_result",
          "data": {
            "text/plain": [
              "10"
            ]
          },
          "metadata": {},
          "execution_count": 63
        }
      ]
    }
  ]
}