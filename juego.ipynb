{
  "nbformat": 4,
  "nbformat_minor": 0,
  "metadata": {
    "colab": {
      "name": "juego.ipynb",
      "provenance": [],
      "authorship_tag": "ABX9TyMNPwizTS7B1hOzs7finL7T",
      "include_colab_link": true
    },
    "kernelspec": {
      "name": "python3",
      "display_name": "Python 3"
    },
    "language_info": {
      "name": "python"
    }
  },
  "cells": [
    {
      "cell_type": "markdown",
      "metadata": {
        "id": "view-in-github",
        "colab_type": "text"
      },
      "source": [
        "<a href=\"https://colab.research.google.com/github/GiselaCS/Mujeres_Digitales/blob/main/juego.ipynb\" target=\"_parent\"><img src=\"https://colab.research.google.com/assets/colab-badge.svg\" alt=\"Open In Colab\"/></a>"
      ]
    },
    {
      "cell_type": "code",
      "metadata": {
        "id": "NTWGJebIQTEv"
      },
      "source": [
        "class Personaje():\n",
        "  def __init__(self,vida_max, ataque, inventario = []):\n",
        "    self.vida_max = vida_max\n",
        "    self.ataque = ataque\n",
        "    self.vida= vida_max\n",
        "    self.inventario = inventario #parametro opcional (por defecto,lista vacia)\n",
        "    \n",
        "\n",
        "  def esta_vivo(self):\n",
        "    if self.vida > 0:\n",
        "      return True\n",
        "    else:\n",
        "      return False\n",
        "\n",
        "  def ataca(self, otro_personaje):\n",
        "    if self.esta_vivo():\n",
        "      otro_personaje.vida -= self.ataque\n",
        "    else:\n",
        "      print(\"el personaje no puede ser atacado\")\n",
        "  \n",
        "  #metodo para usar pocion\n",
        "  def usar_pocion(self):\n",
        "    if len(self.inventario) == 0:\n",
        "      print(\"el inventario esta vacio\")\n",
        "    else: \n",
        "      if 'pocion' in self.inventario:\n",
        "        i= self.inventario.index('pocion')\n",
        "        self.inventario.pop(i) #remueve el elemento de la posicion i\n",
        "        self.vida +=50\n",
        "        if self.vida > self.vida_max:\n",
        "          self.vida = self.vida_max\n",
        "      else:\n",
        "        print(\"ya no quedan pociones disponibles para usar\")\n",
        "\n",
        "  def print_stats(self):\n",
        "    print('vida: ', self.vida)\n",
        "    print('vida maxima: ', self.vida_max)\n",
        "    print('ataque: ', self.ataque)\n",
        "    \n",
        "\n"
      ],
      "execution_count": 94,
      "outputs": []
    },
    {
      "cell_type": "code",
      "metadata": {
        "id": "iLtAXgarScLh"
      },
      "source": [
        "villano = Personaje(40,15)\n",
        "heroe =  Personaje(50,10, ['pocion'])\n",
        "bicho =  Personaje(10,5)"
      ],
      "execution_count": 95,
      "outputs": []
    },
    {
      "cell_type": "code",
      "metadata": {
        "colab": {
          "base_uri": "https://localhost:8080/"
        },
        "id": "yNZzgxoThGOk",
        "outputId": "28cd8234-7ec6-4f96-df46-bf85bd54eef4"
      },
      "source": [
        "heroe.print_stats()"
      ],
      "execution_count": 97,
      "outputs": [
        {
          "output_type": "stream",
          "name": "stdout",
          "text": [
            "vida:  50\n",
            "vida maxima:  50\n",
            "ataque:  10\n"
          ]
        }
      ]
    },
    {
      "cell_type": "code",
      "metadata": {
        "colab": {
          "base_uri": "https://localhost:8080/"
        },
        "id": "FLf2dEMvQcN7",
        "outputId": "37df0022-09cb-4d65-9f56-42d8a29b37a9"
      },
      "source": [
        "heroe.esta_vivo()"
      ],
      "execution_count": null,
      "outputs": [
        {
          "output_type": "execute_result",
          "data": {
            "text/plain": [
              "True"
            ]
          },
          "metadata": {},
          "execution_count": 47
        }
      ]
    },
    {
      "cell_type": "code",
      "metadata": {
        "colab": {
          "base_uri": "https://localhost:8080/"
        },
        "id": "m0nPoep2avVF",
        "outputId": "bd3c29c5-b489-423c-812e-12cb428f31af"
      },
      "source": [
        "heroe.inventario"
      ],
      "execution_count": 90,
      "outputs": [
        {
          "output_type": "execute_result",
          "data": {
            "text/plain": [
              "[]"
            ]
          },
          "metadata": {},
          "execution_count": 90
        }
      ]
    },
    {
      "cell_type": "code",
      "metadata": {
        "id": "72v2zkopb5PM"
      },
      "source": [
        "heroe.usar_pocion()"
      ],
      "execution_count": 88,
      "outputs": []
    },
    {
      "cell_type": "code",
      "metadata": {
        "colab": {
          "base_uri": "https://localhost:8080/"
        },
        "id": "JM8iEWuUVL1i",
        "outputId": "f8a3d806-ddad-4a82-a7a5-bcd5a621a06d"
      },
      "source": [
        "heroe.ataca(bicho)\n",
        "bicho.ataca(heroe)"
      ],
      "execution_count": 23,
      "outputs": [
        {
          "output_type": "stream",
          "name": "stdout",
          "text": [
            "el personaje no puede ser atacado\n"
          ]
        }
      ]
    },
    {
      "cell_type": "code",
      "metadata": {
        "colab": {
          "base_uri": "https://localhost:8080/"
        },
        "id": "0Ua3QJauVPtj",
        "outputId": "328f2489-e400-43c9-8345-c0be3941bd50"
      },
      "source": [
        "heroe.vida"
      ],
      "execution_count": 89,
      "outputs": [
        {
          "output_type": "execute_result",
          "data": {
            "text/plain": [
              "50"
            ]
          },
          "metadata": {},
          "execution_count": 89
        }
      ]
    },
    {
      "cell_type": "code",
      "metadata": {
        "id": "wzcBhZzZWo_H"
      },
      "source": [
        "villano.ataca(heroe)\n",
        "heroe.ataca(villano)"
      ],
      "execution_count": 85,
      "outputs": []
    },
    {
      "cell_type": "code",
      "metadata": {
        "colab": {
          "base_uri": "https://localhost:8080/"
        },
        "id": "lXJTEi9KWu6c",
        "outputId": "bc7c9858-64c6-4b87-ca64-2fe313194313"
      },
      "source": [
        "villano.usar_pocion()"
      ],
      "execution_count": 78,
      "outputs": [
        {
          "output_type": "stream",
          "name": "stdout",
          "text": [
            "el inventario esta vacio\n"
          ]
        }
      ]
    },
    {
      "cell_type": "code",
      "metadata": {
        "colab": {
          "base_uri": "https://localhost:8080/"
        },
        "id": "hWiJ3L76dfNp",
        "outputId": "b945581c-44aa-4a99-8cf0-534b04e9e120"
      },
      "source": [
        "villano.inventario"
      ],
      "execution_count": 77,
      "outputs": [
        {
          "output_type": "execute_result",
          "data": {
            "text/plain": [
              "[]"
            ]
          },
          "metadata": {},
          "execution_count": 77
        }
      ]
    },
    {
      "cell_type": "code",
      "metadata": {
        "colab": {
          "base_uri": "https://localhost:8080/"
        },
        "id": "XTO29zn8dR7e",
        "outputId": "ba2f3543-3f7b-4d11-d2e2-5e880c67ddb1"
      },
      "source": [
        "villano.vida"
      ],
      "execution_count": 79,
      "outputs": [
        {
          "output_type": "execute_result",
          "data": {
            "text/plain": [
              "30"
            ]
          },
          "metadata": {},
          "execution_count": 79
        }
      ]
    }
  ]
}