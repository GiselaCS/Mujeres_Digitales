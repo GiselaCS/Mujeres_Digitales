{
  "nbformat": 4,
  "nbformat_minor": 0,
  "metadata": {
    "colab": {
      "name": "Clase4.ipynb",
      "provenance": [],
      "authorship_tag": "ABX9TyMRjL1pE3fpon48Ak9MR7y0",
      "include_colab_link": true
    },
    "kernelspec": {
      "name": "python3",
      "display_name": "Python 3"
    },
    "language_info": {
      "name": "python"
    }
  },
  "cells": [
    {
      "cell_type": "markdown",
      "metadata": {
        "id": "view-in-github",
        "colab_type": "text"
      },
      "source": [
        "<a href=\"https://colab.research.google.com/github/GiselaCS/Mujeres_Digitales/blob/main/Clase4.ipynb\" target=\"_parent\"><img src=\"https://colab.research.google.com/assets/colab-badge.svg\" alt=\"Open In Colab\"/></a>"
      ]
    },
    {
      "cell_type": "code",
      "metadata": {
        "id": "jMStnYIXhFjq"
      },
      "source": [
        ""
      ],
      "execution_count": null,
      "outputs": []
    },
    {
      "cell_type": "markdown",
      "metadata": {
        "id": "lElDYLIyib6a"
      },
      "source": [
        "**Continuacion de estructuras de control iteractivas**\n",
        "---\n",
        "**Acumuladores**\n",
        "\n",
        "se le da este nombre a las variables que se encargan de almacenar algun tipo de información, un ejemplo:\n",
        "\n",
        "El caso de la compra de viveres en la tienda:\n",
        "\n"
      ]
    },
    {
      "cell_type": "code",
      "metadata": {
        "colab": {
          "base_uri": "https://localhost:8080/"
        },
        "id": "E1I0PJNCji7O",
        "outputId": "2fa7d6f0-f033-4558-c712-78ebf2a10b3a"
      },
      "source": [
        "nombre=input(\"nombre del consumidor: \")\n",
        "listaComp=\"\"\n",
        "print(nombre, \"escribe los siguientes viveres para su compra en el supermercado: \")\n",
        "listaComp=listaComp + \" 1 paca de papel higenico,\"\n",
        "print(\"----Compras que tengo que hacer----\")\n",
        "print(listaComp)\n",
        "listaComp=listaComp+\" shampoo,\"\n",
        "print(listaComp)\n",
        "listaComp=listaComp+\" pañales,\"\n",
        "print(listaComp)"
      ],
      "execution_count": 5,
      "outputs": [
        {
          "output_type": "stream",
          "text": [
            "nombre del consumidor: gisela\n",
            "gisela escribe los siguientes viveres para su compra en el supermercado: \n",
            "----Compras que tengo que hacer----\n",
            " 1 paca de papel higenico,\n",
            " 1 paca de papel higenico, shampoo,\n",
            " 1 paca de papel higenico, shampoo, pañales,\n"
          ],
          "name": "stdout"
        }
      ]
    },
    {
      "cell_type": "markdown",
      "metadata": {
        "id": "Ig2s-94elZAw"
      },
      "source": [
        "la variable \"listaComp\" nos esta sirviendo para acumular informacion de la lista de compras, podemos observar que **NO** estamos creando una variable para cada item, sino una variable definida que nos sirve para almacenar información.\n",
        "\n",
        "a coninuacion observemos un ejemplo donde se ponga en practica el uso de una acumulacion en una variable usando cantidades y precios"
      ]
    },
    {
      "cell_type": "code",
      "metadata": {
        "colab": {
          "base_uri": "https://localhost:8080/"
        },
        "id": "q5xnJtp1l-gr",
        "outputId": "4ddb6c6f-4686-49ff-d85a-70ff6c4bdd5e"
      },
      "source": [
        "preciopapel= 14000 #precio paca palpel higenico \n",
        "cantidadpapel= 2 #cantidad de papel que se va a comprar \n",
        "precioshampoo= 18000 \n",
        "cantidadshampoo= 4\n",
        "preciopanal=17000 #precio de pañales\n",
        "cantidadpanal= 3 #cantidad pañales\n",
        "\n",
        "subtotal=0\n",
        "print(\"calculando el total de la compra\")\n",
        "total_papel= preciopapel * cantidadpapel\n",
        "print(\"el valor total de papel higenico es de: $\", total_papel )\n",
        "subtotal= subtotal + total_papel\n",
        "print(\"---- subtotal es: $\", subtotal)\n",
        "total_shampoo= precioshampoo * cantidadshampoo\n",
        "print(\"el valor total del shampoo es de: $\", total_shampoo)\n",
        "subtotal= subtotal + total_shampoo\n",
        "print(\"---- subtotal es: $\", subtotal)\n",
        "total_panal= preciopanal * cantidadpanal\n",
        "print(\"el valor total de los pañales es  es de: $\", total_panal)\n",
        "subtotal= subtotal + total_panal\n",
        "print(\"---- subtotal es: $\", subtotal)"
      ],
      "execution_count": 6,
      "outputs": [
        {
          "output_type": "stream",
          "text": [
            "calculando el total de la compra\n",
            "el valor total de papel higenico es de: $ 28000\n",
            "---- subtotal es: $ 28000\n",
            "el valor total del shampoo es de: $ 72000\n",
            "---- subtotal es: $ 100000\n",
            "el valor total de los pañales es  es de: $ 51000\n",
            "---- subtotal es: $ 151000\n"
          ],
          "name": "stdout"
        }
      ]
    }
  ]
}