{
  "nbformat": 4,
  "nbformat_minor": 0,
  "metadata": {
    "colab": {
      "name": "Clase4.ipynb",
      "provenance": [],
      "authorship_tag": "ABX9TyMdda0lDA9QAADGBKNyXbnK",
      "include_colab_link": true
    },
    "kernelspec": {
      "name": "python3",
      "display_name": "Python 3"
    },
    "language_info": {
      "name": "python"
    }
  },
  "cells": [
    {
      "cell_type": "markdown",
      "metadata": {
        "id": "view-in-github",
        "colab_type": "text"
      },
      "source": [
        "<a href=\"https://colab.research.google.com/github/GiselaCS/Mujeres_Digitales/blob/main/Clase4.ipynb\" target=\"_parent\"><img src=\"https://colab.research.google.com/assets/colab-badge.svg\" alt=\"Open In Colab\"/></a>"
      ]
    },
    {
      "cell_type": "code",
      "metadata": {
        "id": "jMStnYIXhFjq"
      },
      "source": [
        ""
      ],
      "execution_count": null,
      "outputs": []
    },
    {
      "cell_type": "markdown",
      "metadata": {
        "id": "lElDYLIyib6a"
      },
      "source": [
        "**Continuacion de estructuras de control iteractivas**\n",
        "---\n",
        "**Acumuladores**\n",
        "\n",
        "se le da este nombre a las variables que se encargan de almacenar algun tipo de información, un ejemplo:\n",
        "\n",
        "El caso de la compra de viveres en la tienda:\n",
        "\n"
      ]
    },
    {
      "cell_type": "code",
      "metadata": {
        "colab": {
          "base_uri": "https://localhost:8080/"
        },
        "id": "E1I0PJNCji7O",
        "outputId": "2fa7d6f0-f033-4558-c712-78ebf2a10b3a"
      },
      "source": [
        "nombre=input(\"nombre del consumidor: \")\n",
        "listaComp=\"\"\n",
        "print(nombre, \"escribe los siguientes viveres para su compra en el supermercado: \")\n",
        "listaComp=listaComp + \" 1 paca de papel higenico,\"\n",
        "print(\"----Compras que tengo que hacer----\")\n",
        "print(listaComp)\n",
        "listaComp=listaComp+\" shampoo,\"\n",
        "print(listaComp)\n",
        "listaComp=listaComp+\" pañales,\"\n",
        "print(listaComp)"
      ],
      "execution_count": 5,
      "outputs": [
        {
          "output_type": "stream",
          "text": [
            "nombre del consumidor: gisela\n",
            "gisela escribe los siguientes viveres para su compra en el supermercado: \n",
            "----Compras que tengo que hacer----\n",
            " 1 paca de papel higenico,\n",
            " 1 paca de papel higenico, shampoo,\n",
            " 1 paca de papel higenico, shampoo, pañales,\n"
          ],
          "name": "stdout"
        }
      ]
    },
    {
      "cell_type": "markdown",
      "metadata": {
        "id": "Ig2s-94elZAw"
      },
      "source": [
        "la variable \"listaComp\" nos esta sirviendo para acumular informacion de la lista de compras, podemos observar que **NO** estamos creando una variable para cada item, sino una variable definida que nos sirve para almacenar información.\n",
        "\n",
        "a coninuacion observemos un ejemplo donde se ponga en practica el uso de una acumulacion en una variable usando cantidades y precios"
      ]
    },
    {
      "cell_type": "code",
      "metadata": {
        "colab": {
          "base_uri": "https://localhost:8080/"
        },
        "id": "q5xnJtp1l-gr",
        "outputId": "4ddb6c6f-4686-49ff-d85a-70ff6c4bdd5e"
      },
      "source": [
        "preciopapel= 14000 #precio paca palpel higenico \n",
        "cantidadpapel= 2 #cantidad de papel que se va a comprar \n",
        "precioshampoo= 18000 \n",
        "cantidadshampoo= 4\n",
        "preciopanal=17000 #precio de pañales\n",
        "cantidadpanal= 3 #cantidad pañales\n",
        "\n",
        "subtotal=0\n",
        "print(\"calculando el total de la compra\")\n",
        "total_papel= preciopapel * cantidadpapel\n",
        "print(\"el valor total de papel higenico es de: $\", total_papel )\n",
        "subtotal= subtotal + total_papel\n",
        "print(\"---- subtotal es: $\", subtotal)\n",
        "total_shampoo= precioshampoo * cantidadshampoo\n",
        "print(\"el valor total del shampoo es de: $\", total_shampoo)\n",
        "subtotal= subtotal + total_shampoo\n",
        "print(\"---- subtotal es: $\", subtotal)\n",
        "total_panal= preciopanal * cantidadpanal\n",
        "print(\"el valor total de los pañales es  es de: $\", total_panal)\n",
        "subtotal= subtotal + total_panal\n",
        "print(\"---- subtotal es: $\", subtotal)"
      ],
      "execution_count": 6,
      "outputs": [
        {
          "output_type": "stream",
          "text": [
            "calculando el total de la compra\n",
            "el valor total de papel higenico es de: $ 28000\n",
            "---- subtotal es: $ 28000\n",
            "el valor total del shampoo es de: $ 72000\n",
            "---- subtotal es: $ 100000\n",
            "el valor total de los pañales es  es de: $ 51000\n",
            "---- subtotal es: $ 151000\n"
          ],
          "name": "stdout"
        }
      ]
    },
    {
      "cell_type": "markdown",
      "metadata": {
        "id": "Y1Ks1G8gorPO"
      },
      "source": [
        "**Contadores**\n",
        "---\n",
        "tiene mucha relacion con los \"acumuladores\" vistos en el apartado anterior.\n",
        "estas variables se caractarizan por ser variables de control, es decir, controlan la cantidad de veces que se ejecuta determinada accion.\n",
        "\n",
        "Usando el ejemplo anterior y modificandolo un poco, podemos desarrollar el siguiente algoritmo :\n"
      ]
    },
    {
      "cell_type": "code",
      "metadata": {
        "colab": {
          "base_uri": "https://localhost:8080/"
        },
        "id": "1Hxzn0j1pUtF",
        "outputId": "8e961f49-2ddb-49a0-c29e-d4fe8f21f66c"
      },
      "source": [
        "#ahora se va a comprar solo pañales por unidad\n",
        "#conteo\n",
        "conteop=0 #almacena valores numericos.\n",
        "print(\"se realizara la compra de pañales etapa 3... se ha iniciado la compra de asignacion en el carrito, en total hay: \",conteop, \"de pañales: \")\n",
        "#cuenta de 1 en 1 \n",
        "conteop= conteop + 1\n",
        "print(\"ahora hay: \",conteop, \" pañales \")\n",
        "conteop= conteop + 1\n",
        "print(\"ahora hay: \",conteop, \" pañales \")\n",
        "conteop= conteop + 1\n",
        "print(\"ahora hay: \",conteop, \" pañales \")\n",
        "conteop= conteop + 1\n",
        "print(\"ahora hay: \",conteop, \" pañales\")\n",
        "conteop= conteop + 1\n",
        "print(\"ahora hay: \",conteop, \" pañales \")\n",
        "conteop= conteop + 1"
      ],
      "execution_count": 8,
      "outputs": [
        {
          "output_type": "stream",
          "text": [
            "se realizara la compra de pañales etapa 3... se ha iniciado la compra de asignacion en el carrito, en total hay:  0 de pañales: \n",
            "ahora hay:  1  pañales \n",
            "ahora hay:  2  pañales \n",
            "ahora hay:  3  pañales \n",
            "ahora hay:  4  pañales\n",
            "ahora hay:  5  pañales \n"
          ],
          "name": "stdout"
        }
      ]
    },
    {
      "cell_type": "markdown",
      "metadata": {
        "id": "m1n1m4CSq7io"
      },
      "source": [
        "**CICLOS CONTROLADOS POR CONDICIONES**\n",
        "---\n",
        "*WHILE*\n",
        "---\n",
        "recordemos que las variables de control nos permite manejar estados, pasar de un estado a otro es por ejemplo: una variable que no contiene elementos a contenerlos o una bariables con un elemento en particular(Acumulador o contador) y cambiarlo por completo (Bandera).\n",
        "\n",
        "Estas variables de control son la base de los ciclos de control. siendo mas claros, pasar de una adicion manual a algo automatizado.\n",
        "\n",
        "empezamos con el ciclo \"while\". En español es \"mientras\". este ciclo se compone de una **condicion** y su **bloque de codigo**, lo que nos quiere decir el while es que el bloque de codigo ejecutara **mientras** la condicion da como resultado True or False.\n",
        "\n"
      ]
    },
    {
      "cell_type": "code",
      "metadata": {
        "colab": {
          "base_uri": "https://localhost:8080/"
        },
        "id": "eQXELZF0sI7i",
        "outputId": "4a963f29-bcae-40c3-d8b4-733321fb606a"
      },
      "source": [
        "lapiz= 5\n",
        "conteo= 0\n",
        "print(\"se ha iniciado la compra. En total hay:\", conteo, lapiz)\n",
        "\n",
        "while (conteo < lapiz):\n",
        "  conteo=conteo + 1\n",
        "  print(\"se ha realizado la compra de lapices, ahora hay: \", conteo, \"lapices\")\n"
      ],
      "execution_count": 10,
      "outputs": [
        {
          "output_type": "stream",
          "text": [
            "se ha iniciado la compra. En total hay: 0 5\n",
            "se ha realizado la compra de lapices, ahora hay:  1 lapices\n",
            "se ha realizado la compra de lapices, ahora hay:  2 lapices\n",
            "se ha realizado la compra de lapices, ahora hay:  3 lapices\n",
            "se ha realizado la compra de lapices, ahora hay:  4 lapices\n",
            "se ha realizado la compra de lapices, ahora hay:  5 lapices\n"
          ],
          "name": "stdout"
        }
      ]
    },
    {
      "cell_type": "markdown",
      "metadata": {
        "id": "6_OZ5FRpvDRY"
      },
      "source": [
        "tener en cuenta que, dentro del ciclo de while, se va afectando las variables implicadas en la declaracion de la condicion que debe cumplir. En el ejemplo anterior la variable \"conteo\" para que en algun momento la condicion sea verdadera y termine el ciclo, se tiene que cumplir la condicion (conteo < lapi<), de lo contrario, tendriamos un ciclo infinito. "
      ]
    },
    {
      "cell_type": "markdown",
      "metadata": {
        "id": "RcP6PnFUwCSd"
      },
      "source": [
        "**Ciclo for**\n",
        "---\n",
        "es un ciclo especializado y optimizado para los ciclos controlador por cantidad. Se compone de tres elementos:\n",
        "1. la variable de iteracion\n",
        "2. elemento de iteracion\n",
        "3. bloque de codigo a iterar.\n",
        "\n",
        "¿ventajas de usar el FOR?\n",
        "\n",
        "en python es muy importante y se considera una herramienta bastante flexible y poderosa por permitir ingresar estructuras de datos complejas, cadena de caracteres, rangos, entre otros. Los elementos de iteracion usados en esta estructura de datos son necesarios que tengan la siguiente caracteristica :\n",
        "1.  una cantidad definida (Esto lo diferencia totalmente del while)\n",
        "\n",
        "el while parte de una condicion de verdad, pero el **FOR** parte de una cantidad definida "
      ]
    },
    {
      "cell_type": "code",
      "metadata": {
        "colab": {
          "base_uri": "https://localhost:8080/"
        },
        "id": "jhworY5RxSA4",
        "outputId": "3356ea65-9304-43d2-fa8f-94f1cec85cdc"
      },
      "source": [
        "#retomamos el ejemplo de los lapices.\n",
        "print(\"se ha iniciado la compra, en total hay: 0 lapices.\")\n",
        "#el i, es la variable de iteracion, (1,6) es el elemento de iteracion\n",
        "for i in range(1, 6): #en los rangos, la funcion range, maneja un intervalo abierto a la derecha y cerrado a la izquiera\n",
        "#por ejemplo ahi empieza con 1, pero termina antes del 6, osea en 5.\n",
        "  print(\"se ha realizado la compra de lapices. Ahora hay:\", i, \"lapices\")"
      ],
      "execution_count": 12,
      "outputs": [
        {
          "output_type": "stream",
          "text": [
            "se ha iniciado la compra, en total hay: 0 lapices.\n",
            "se ha realizado la compra de lapices. Ahora hay: 1 lapices\n",
            "se ha realizado la compra de lapices. Ahora hay: 2 lapices\n",
            "se ha realizado la compra de lapices. Ahora hay: 3 lapices\n",
            "se ha realizado la compra de lapices. Ahora hay: 4 lapices\n",
            "se ha realizado la compra de lapices. Ahora hay: 5 lapices\n"
          ],
          "name": "stdout"
        }
      ]
    }
  ]
}