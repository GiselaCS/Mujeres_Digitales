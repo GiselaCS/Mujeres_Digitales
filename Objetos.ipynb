{
  "nbformat": 4,
  "nbformat_minor": 0,
  "metadata": {
    "colab": {
      "name": "Objetos.ipynb",
      "provenance": [],
      "authorship_tag": "ABX9TyMkbkfIX/KSTdyebVHEa/el",
      "include_colab_link": true
    },
    "kernelspec": {
      "name": "python3",
      "display_name": "Python 3"
    },
    "language_info": {
      "name": "python"
    }
  },
  "cells": [
    {
      "cell_type": "markdown",
      "metadata": {
        "id": "view-in-github",
        "colab_type": "text"
      },
      "source": [
        "<a href=\"https://colab.research.google.com/github/GiselaCS/Mujeres_Digitales/blob/main/Objetos.ipynb\" target=\"_parent\"><img src=\"https://colab.research.google.com/assets/colab-badge.svg\" alt=\"Open In Colab\"/></a>"
      ]
    },
    {
      "cell_type": "code",
      "metadata": {
        "id": "mKgTLasUDfEJ"
      },
      "source": [
        ""
      ],
      "execution_count": null,
      "outputs": []
    },
    {
      "cell_type": "markdown",
      "metadata": {
        "id": "3d3ztRtaDfsx"
      },
      "source": [
        "**Clase 12**"
      ]
    },
    {
      "cell_type": "markdown",
      "metadata": {
        "id": "Ygs4owOtDoFQ"
      },
      "source": [
        "Programacion orientada a objetos (ODP)\n",
        "La programación orientada a objetos es un paradigma de programación que proporciona un medio para estructurar programas de modo que las propiedades y los comportamientos se agrupen en objetos individuales.\n",
        "\n",
        "Por ejemplo, un objeto podría representar a una persona con propiedades como nombre, edad y dirección y comportamientos como caminar, hablar, respirar y correr.\n",
        "\n",
        "Es un enfoque para modelar cosas concretas del mundo real, como automóviles, así como relaciones entre cosas, como empresas y empleados, estudiantes y profesores, etc. OOP modela entidades del mundo real como objetos de software que tienen algunos datos asociados y pueden realizar ciertas funciones.\n",
        "\n",
        "Otro paradigma de programación común es la programación procedimental, que estructura un programa como una receta en el sentido de que proporciona un conjunto de pasos, en forma de funciones y bloques de código, que fluyen secuencialmente para completar una tarea."
      ]
    },
    {
      "cell_type": "markdown",
      "metadata": {
        "id": "Dq-LWhGSDqcy"
      },
      "source": [
        "Definicion de una clase\n",
        "Las clases se utilizan para crear estructuras de datos definidas por el usuario. Las clases definen funciones llamadas métodos, que identifican los comportamientos y acciones que un objeto creado a partir de la clase puede realizar con sus datos.\n",
        "\n",
        "Una clase es un modelo de cómo se debe definir algo. En realidad, no contiene ningún dato.\n",
        "\n",
        "Dicho de otra manera, una clase es como un formulario o cuestionario.\n",
        "\n",
        "Una instancia es como un formulario que se ha llenado con información. Al igual que muchas personas pueden completar el mismo formulario con su propia información única, se pueden crear muchas instancias a partir de una sola clase."
      ]
    },
    {
      "cell_type": "markdown",
      "metadata": {
        "id": "A2r0SQcsDwkM"
      },
      "source": [
        "Las propiedades que deben tener todos los objetos de una clase se definen en un método llamado .__ init __ (). Cada vez que se crea un nuevo objeto en las clase .__ init __ () establece el estado inicial del objeto asignando los valores de las propiedades del objeto. Es decir, .__ init __ () inicializa cada nueva instancia de la clase.\n",
        "\n",
        "En el cuerpo de .__ init __ (), hay dos declaraciones que usan la variable self:\n",
        "\n",
        "1. self.name = name crea un atributo llamado nombre y le asigna el valor del parámetro de nombre.\n",
        "2. self.age = age crea un atributo llamado age y le asigna el valor del parámetro age."
      ]
    },
    {
      "cell_type": "markdown",
      "metadata": {
        "id": "3Wwag-qCHOqD"
      },
      "source": [
        "**_init_()**\n",
        "---\n",
        "se encarga de asignar los valores de las propiedades del objeto, como el nombre, edad, etc\n",
        "\n",
        "---\n",
        "**self**\n",
        "---\n",
        "con esto se declara el valor al parametro\n",
        "por ejemplo, self.name = name\n"
      ]
    },
    {
      "cell_type": "markdown",
      "metadata": {
        "id": "uvtqQQTBD6tq"
      },
      "source": [
        "**Clases computador y person**\n",
        "---\n"
      ]
    },
    {
      "cell_type": "code",
      "metadata": {
        "id": "ksFiwvhhD9tf"
      },
      "source": [
        "class computador1():\n",
        "    def __init__(self,color, edad):\n",
        "        self.color = color\n",
        "        self.edad = edad\n",
        "asus = computador1('gris', 1)"
      ],
      "execution_count": 2,
      "outputs": []
    },
    {
      "cell_type": "code",
      "metadata": {
        "colab": {
          "base_uri": "https://localhost:8080/",
          "height": 35
        },
        "id": "aPEBR-7OEOcu",
        "outputId": "f9e26eb6-077d-46a4-b1a8-2eebe5c0bb5f"
      },
      "source": [
        "asus.color"
      ],
      "execution_count": 3,
      "outputs": [
        {
          "output_type": "execute_result",
          "data": {
            "application/vnd.google.colaboratory.intrinsic+json": {
              "type": "string"
            },
            "text/plain": [
              "'gris'"
            ]
          },
          "metadata": {},
          "execution_count": 3
        }
      ]
    },
    {
      "cell_type": "code",
      "metadata": {
        "colab": {
          "base_uri": "https://localhost:8080/"
        },
        "id": "LSZsiFGDD5zE",
        "outputId": "ffeb8dee-747d-47b2-d4b5-56a1e7c1f9bf"
      },
      "source": [
        "asus.edad"
      ],
      "execution_count": 4,
      "outputs": [
        {
          "output_type": "execute_result",
          "data": {
            "text/plain": [
              "1"
            ]
          },
          "metadata": {},
          "execution_count": 4
        }
      ]
    },
    {
      "cell_type": "code",
      "metadata": {
        "id": "kkdGoXvHEYfK"
      },
      "source": [
        "class computador():\n",
        "  #atributos\n",
        "    def __init__(self,marca, estado):\n",
        "        self.estado = estado\n",
        "        self.marca = marca"
      ],
      "execution_count": 72,
      "outputs": []
    },
    {
      "cell_type": "code",
      "metadata": {
        "id": "YDEaxqaFErJL"
      },
      "source": [
        "class person():\n",
        "    def __init__(self, nombre, edad, genero, computador):\n",
        "        self.nombre = nombre\n",
        "        self.edad = edad\n",
        "        self.genero = genero\n",
        "        self.carro = 'Tar'\n",
        "        self.computador = computador\n",
        "    #funciones\n",
        "    def saludar(self):\n",
        "        print(f'hola mi nombre es {self.nombre} y tengo {self.edad} años')\n",
        "    \n",
        "    def saludar_a(self,persona):\n",
        "        print(f'hola {persona.nombre} mi nombre es {self.nombre}')\n",
        "\n",
        "    #nueva funcion\n",
        "\n",
        "    def Pregunt(self,persona):\n",
        "        print(f'hola {persona.nombre}, ¿cuantos años tienes?, yo tengo {self.edad} \\n\\\n",
        "    hola {self.nombre} mi edad es {persona.edad}')\n",
        "    \n",
        "    #presentarse\n",
        "    def presentar(self):\n",
        "      print(f'hola mi nombre es {self.nombre}, tengo {self.edad} años, \\n\\\n",
        "      mi genero es {self.genero}, y mi computador es marca {self.computador.marca}')\n",
        "   "
      ],
      "execution_count": 73,
      "outputs": []
    },
    {
      "cell_type": "code",
      "metadata": {
        "colab": {
          "base_uri": "https://localhost:8080/"
        },
        "id": "YiucbnXHE2-l",
        "outputId": "f47b103d-a38f-44ce-ed40-3795283a9edb"
      },
      "source": [
        "#se crea un computador\n",
        "pc = computador('Asus', 'Nuevo')\n",
        "pc"
      ],
      "execution_count": 74,
      "outputs": [
        {
          "output_type": "execute_result",
          "data": {
            "text/plain": [
              "<__main__.computador at 0x7fd51d80e250>"
            ]
          },
          "metadata": {},
          "execution_count": 74
        }
      ]
    },
    {
      "cell_type": "code",
      "metadata": {
        "colab": {
          "base_uri": "https://localhost:8080/"
        },
        "id": "8wOwiF0dE-Aq",
        "outputId": "4a41b618-4a4d-4705-eb65-918c162f4031"
      },
      "source": [
        "#se crean personas\n",
        "per = person('maria', 22, 'F',pc)\n",
        "per\n",
        "per2 = person('juan', 23, 'M',pc)\n",
        "per2"
      ],
      "execution_count": 75,
      "outputs": [
        {
          "output_type": "execute_result",
          "data": {
            "text/plain": [
              "<__main__.person at 0x7fd5244c41d0>"
            ]
          },
          "metadata": {},
          "execution_count": 75
        }
      ]
    },
    {
      "cell_type": "markdown",
      "metadata": {
        "id": "ernHZXULFnnw"
      },
      "source": [
        "**maria**"
      ]
    },
    {
      "cell_type": "code",
      "metadata": {
        "colab": {
          "base_uri": "https://localhost:8080/"
        },
        "id": "ojRavarUFHoj",
        "outputId": "ee9f14d5-e7fd-4270-fbc4-ba895234e27d"
      },
      "source": [
        "#saludar\n",
        "per.saludar()"
      ],
      "execution_count": 11,
      "outputs": [
        {
          "output_type": "stream",
          "text": [
            "hola mi nombre es maria y tengo 22 años\n"
          ],
          "name": "stdout"
        }
      ]
    },
    {
      "cell_type": "markdown",
      "metadata": {
        "id": "o1h01pqTFwNs"
      },
      "source": [
        "**juan**"
      ]
    },
    {
      "cell_type": "code",
      "metadata": {
        "colab": {
          "base_uri": "https://localhost:8080/"
        },
        "id": "TAOr3vzfFXQG",
        "outputId": "6a22880e-83f3-4ce6-a3aa-cb23f0a66a16"
      },
      "source": [
        "per2.saludar()"
      ],
      "execution_count": 12,
      "outputs": [
        {
          "output_type": "stream",
          "text": [
            "hola mi nombre es juan y tengo 23 años\n"
          ],
          "name": "stdout"
        }
      ]
    },
    {
      "cell_type": "code",
      "metadata": {
        "colab": {
          "base_uri": "https://localhost:8080/"
        },
        "id": "ohYcBgbzFc-_",
        "outputId": "8abac628-749d-4226-ebd1-37db5fc79a37"
      },
      "source": [
        "per.saludar_a(per2)"
      ],
      "execution_count": 13,
      "outputs": [
        {
          "output_type": "stream",
          "text": [
            "hola juan mi nombre es maria\n"
          ],
          "name": "stdout"
        }
      ]
    },
    {
      "cell_type": "code",
      "metadata": {
        "colab": {
          "base_uri": "https://localhost:8080/",
          "height": 35
        },
        "id": "gdPpVlw5F157",
        "outputId": "901afaf9-7222-4654-ab1d-1d5926b7f6cb"
      },
      "source": [
        "per2.computador.estado"
      ],
      "execution_count": 14,
      "outputs": [
        {
          "output_type": "execute_result",
          "data": {
            "application/vnd.google.colaboratory.intrinsic+json": {
              "type": "string"
            },
            "text/plain": [
              "'Nuevo'"
            ]
          },
          "metadata": {},
          "execution_count": 14
        }
      ]
    },
    {
      "cell_type": "code",
      "metadata": {
        "id": "Snd7n-9XF6fs"
      },
      "source": [
        "#cambiamos el valor, ya no se llama juan, ahora se llama jose\n",
        "per2.nombre = 'jose'"
      ],
      "execution_count": 15,
      "outputs": []
    },
    {
      "cell_type": "code",
      "metadata": {
        "colab": {
          "base_uri": "https://localhost:8080/",
          "height": 35
        },
        "id": "QV1G-0ntGARe",
        "outputId": "dee5435b-3578-4035-bc5b-cc63498984d7"
      },
      "source": [
        "per2.nombre"
      ],
      "execution_count": 16,
      "outputs": [
        {
          "output_type": "execute_result",
          "data": {
            "application/vnd.google.colaboratory.intrinsic+json": {
              "type": "string"
            },
            "text/plain": [
              "'jose'"
            ]
          },
          "metadata": {},
          "execution_count": 16
        }
      ]
    },
    {
      "cell_type": "code",
      "metadata": {
        "colab": {
          "base_uri": "https://localhost:8080/"
        },
        "id": "9wN7rezwGBzh",
        "outputId": "65cb7a75-c261-44fc-c83e-4d214e38c6dd"
      },
      "source": [
        "per2.saludar()"
      ],
      "execution_count": 42,
      "outputs": [
        {
          "output_type": "stream",
          "text": [
            "hola mi nombre es juan y tengo 23 años\n"
          ],
          "name": "stdout"
        }
      ]
    },
    {
      "cell_type": "code",
      "metadata": {
        "colab": {
          "base_uri": "https://localhost:8080/"
        },
        "id": "EBKhIbHPL1tF",
        "outputId": "358d2c31-9e21-494c-9523-be59aa8866bd"
      },
      "source": [
        "per.Pregunt(per2)"
      ],
      "execution_count": 59,
      "outputs": [
        {
          "output_type": "stream",
          "text": [
            "hola juan, ¿cuantos años tienes?, yo tengo 22 \n",
            "    hola maria mi edad es 23\n"
          ],
          "name": "stdout"
        }
      ]
    },
    {
      "cell_type": "code",
      "metadata": {
        "colab": {
          "base_uri": "https://localhost:8080/"
        },
        "id": "8_XF43nlOQ1o",
        "outputId": "b5999dae-6001-4c45-b89a-71d69ebabd8f"
      },
      "source": [
        "per.presentar()"
      ],
      "execution_count": 76,
      "outputs": [
        {
          "output_type": "stream",
          "text": [
            "hola mi nombre es maria, tengo 22 años, \n",
            "      mi genero es F, y mi computador es marca Asus\n"
          ],
          "name": "stdout"
        }
      ]
    }
  ]
}